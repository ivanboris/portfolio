{
 "cells": [
  {
   "cell_type": "markdown",
   "id": "6ca544aa",
   "metadata": {},
   "source": [
    "# Исследование надежности заемщиков"
   ]
  },
  {
   "cell_type": "markdown",
   "id": "cc931fc9",
   "metadata": {},
   "source": [
    "**Цель исследования:** определить, влияет ли семейное положение и количество детей клиента на факт погашения кредита в срок. \n",
    "\n",
    "**Ход исследования:**\n",
    " 1. Обзор данных.\n",
    " 2. Предобработка данных.\n",
    " 3. Расчёты и добавление результатов в таблицу\n",
    " 4. Ответы на вопросы.\n",
    " 5. Общий вывод.\n",
    "\n",
    " **Данные**\n",
    " \n",
    " Данные клиентов банка:\n",
    "- Количество детей в семье\n",
    "- Общий трудовой стаж в днях\n",
    "- Возраст клиента в годах\n",
    "- Уровень образования клиента\n",
    "- Идентификатор уровня образования\n",
    "- Семейное положение\n",
    "- Идентификатор семейного положения\n",
    "- Пол клиента\n",
    "- Тип занятости\n",
    "- Имел ли задолженность по возврату кредитов\n",
    "- Ежемесячный доход\n",
    "- Цель получения кредита\n",
    " \n",
    " **Источник данных:** статистика о платёжеспособности клиентов банка."
   ]
  },
  {
   "cell_type": "markdown",
   "id": "f43a55d9",
   "metadata": {},
   "source": [
    "## Обзор данных"
   ]
  },
  {
   "cell_type": "code",
   "execution_count": 4,
   "id": "a450970b",
   "metadata": {},
   "outputs": [
    {
     "name": "stdout",
     "output_type": "stream",
     "text": [
      "<class 'pandas.core.frame.DataFrame'>\n",
      "RangeIndex: 21525 entries, 0 to 21524\n",
      "Data columns (total 12 columns):\n",
      "children            21525 non-null int64\n",
      "days_employed       19351 non-null float64\n",
      "dob_years           21525 non-null int64\n",
      "education           21525 non-null object\n",
      "education_id        21525 non-null int64\n",
      "family_status       21525 non-null object\n",
      "family_status_id    21525 non-null int64\n",
      "gender              21525 non-null object\n",
      "income_type         21525 non-null object\n",
      "debt                21525 non-null int64\n",
      "total_income        19351 non-null float64\n",
      "purpose             21525 non-null object\n",
      "dtypes: float64(2), int64(5), object(5)\n",
      "memory usage: 2.0+ MB\n"
     ]
    }
   ],
   "source": [
    "import pandas as pd # импорт библиотеки pandas\n",
    "df = pd.read_csv('/datasets/data.csv') # чтение файла с данными и сохранение в customers_data\n",
    "df.info() # получение общей информации о данных в таблице customers_data"
   ]
  },
  {
   "cell_type": "markdown",
   "id": "39a5d600",
   "metadata": {},
   "source": [
    "Таблица с данными имеет 21525 строк и 12 столбцов.\n",
    "\n",
    "Данные в таблице имеют типы int64, float64, object.\n",
    "\n",
    "В столбцах days_employed и total_income есть незаполненные ячейки.\n",
    "\n",
    "Названия колонок выполнены корректно и не требуют обработки."
   ]
  },
  {
   "cell_type": "code",
   "execution_count": 5,
   "id": "312825b3",
   "metadata": {
    "scrolled": true
   },
   "outputs": [
    {
     "data": {
      "text/html": [
       "<div>\n",
       "<style scoped>\n",
       "    .dataframe tbody tr th:only-of-type {\n",
       "        vertical-align: middle;\n",
       "    }\n",
       "\n",
       "    .dataframe tbody tr th {\n",
       "        vertical-align: top;\n",
       "    }\n",
       "\n",
       "    .dataframe thead th {\n",
       "        text-align: right;\n",
       "    }\n",
       "</style>\n",
       "<table border=\"1\" class=\"dataframe\">\n",
       "  <thead>\n",
       "    <tr style=\"text-align: right;\">\n",
       "      <th></th>\n",
       "      <th>children</th>\n",
       "      <th>days_employed</th>\n",
       "      <th>dob_years</th>\n",
       "      <th>education</th>\n",
       "      <th>education_id</th>\n",
       "      <th>family_status</th>\n",
       "      <th>family_status_id</th>\n",
       "      <th>gender</th>\n",
       "      <th>income_type</th>\n",
       "      <th>debt</th>\n",
       "      <th>total_income</th>\n",
       "      <th>purpose</th>\n",
       "    </tr>\n",
       "  </thead>\n",
       "  <tbody>\n",
       "    <tr>\n",
       "      <td>0</td>\n",
       "      <td>1</td>\n",
       "      <td>-8437.673028</td>\n",
       "      <td>42</td>\n",
       "      <td>высшее</td>\n",
       "      <td>0</td>\n",
       "      <td>женат / замужем</td>\n",
       "      <td>0</td>\n",
       "      <td>F</td>\n",
       "      <td>сотрудник</td>\n",
       "      <td>0</td>\n",
       "      <td>253875.639453</td>\n",
       "      <td>покупка жилья</td>\n",
       "    </tr>\n",
       "    <tr>\n",
       "      <td>1</td>\n",
       "      <td>1</td>\n",
       "      <td>-4024.803754</td>\n",
       "      <td>36</td>\n",
       "      <td>среднее</td>\n",
       "      <td>1</td>\n",
       "      <td>женат / замужем</td>\n",
       "      <td>0</td>\n",
       "      <td>F</td>\n",
       "      <td>сотрудник</td>\n",
       "      <td>0</td>\n",
       "      <td>112080.014102</td>\n",
       "      <td>приобретение автомобиля</td>\n",
       "    </tr>\n",
       "    <tr>\n",
       "      <td>2</td>\n",
       "      <td>0</td>\n",
       "      <td>-5623.422610</td>\n",
       "      <td>33</td>\n",
       "      <td>Среднее</td>\n",
       "      <td>1</td>\n",
       "      <td>женат / замужем</td>\n",
       "      <td>0</td>\n",
       "      <td>M</td>\n",
       "      <td>сотрудник</td>\n",
       "      <td>0</td>\n",
       "      <td>145885.952297</td>\n",
       "      <td>покупка жилья</td>\n",
       "    </tr>\n",
       "    <tr>\n",
       "      <td>3</td>\n",
       "      <td>3</td>\n",
       "      <td>-4124.747207</td>\n",
       "      <td>32</td>\n",
       "      <td>среднее</td>\n",
       "      <td>1</td>\n",
       "      <td>женат / замужем</td>\n",
       "      <td>0</td>\n",
       "      <td>M</td>\n",
       "      <td>сотрудник</td>\n",
       "      <td>0</td>\n",
       "      <td>267628.550329</td>\n",
       "      <td>дополнительное образование</td>\n",
       "    </tr>\n",
       "    <tr>\n",
       "      <td>4</td>\n",
       "      <td>0</td>\n",
       "      <td>340266.072047</td>\n",
       "      <td>53</td>\n",
       "      <td>среднее</td>\n",
       "      <td>1</td>\n",
       "      <td>гражданский брак</td>\n",
       "      <td>1</td>\n",
       "      <td>F</td>\n",
       "      <td>пенсионер</td>\n",
       "      <td>0</td>\n",
       "      <td>158616.077870</td>\n",
       "      <td>сыграть свадьбу</td>\n",
       "    </tr>\n",
       "    <tr>\n",
       "      <td>5</td>\n",
       "      <td>0</td>\n",
       "      <td>-926.185831</td>\n",
       "      <td>27</td>\n",
       "      <td>высшее</td>\n",
       "      <td>0</td>\n",
       "      <td>гражданский брак</td>\n",
       "      <td>1</td>\n",
       "      <td>M</td>\n",
       "      <td>компаньон</td>\n",
       "      <td>0</td>\n",
       "      <td>255763.565419</td>\n",
       "      <td>покупка жилья</td>\n",
       "    </tr>\n",
       "    <tr>\n",
       "      <td>6</td>\n",
       "      <td>0</td>\n",
       "      <td>-2879.202052</td>\n",
       "      <td>43</td>\n",
       "      <td>высшее</td>\n",
       "      <td>0</td>\n",
       "      <td>женат / замужем</td>\n",
       "      <td>0</td>\n",
       "      <td>F</td>\n",
       "      <td>компаньон</td>\n",
       "      <td>0</td>\n",
       "      <td>240525.971920</td>\n",
       "      <td>операции с жильем</td>\n",
       "    </tr>\n",
       "    <tr>\n",
       "      <td>7</td>\n",
       "      <td>0</td>\n",
       "      <td>-152.779569</td>\n",
       "      <td>50</td>\n",
       "      <td>СРЕДНЕЕ</td>\n",
       "      <td>1</td>\n",
       "      <td>женат / замужем</td>\n",
       "      <td>0</td>\n",
       "      <td>M</td>\n",
       "      <td>сотрудник</td>\n",
       "      <td>0</td>\n",
       "      <td>135823.934197</td>\n",
       "      <td>образование</td>\n",
       "    </tr>\n",
       "    <tr>\n",
       "      <td>8</td>\n",
       "      <td>2</td>\n",
       "      <td>-6929.865299</td>\n",
       "      <td>35</td>\n",
       "      <td>ВЫСШЕЕ</td>\n",
       "      <td>0</td>\n",
       "      <td>гражданский брак</td>\n",
       "      <td>1</td>\n",
       "      <td>F</td>\n",
       "      <td>сотрудник</td>\n",
       "      <td>0</td>\n",
       "      <td>95856.832424</td>\n",
       "      <td>на проведение свадьбы</td>\n",
       "    </tr>\n",
       "    <tr>\n",
       "      <td>9</td>\n",
       "      <td>0</td>\n",
       "      <td>-2188.756445</td>\n",
       "      <td>41</td>\n",
       "      <td>среднее</td>\n",
       "      <td>1</td>\n",
       "      <td>женат / замужем</td>\n",
       "      <td>0</td>\n",
       "      <td>M</td>\n",
       "      <td>сотрудник</td>\n",
       "      <td>0</td>\n",
       "      <td>144425.938277</td>\n",
       "      <td>покупка жилья для семьи</td>\n",
       "    </tr>\n",
       "  </tbody>\n",
       "</table>\n",
       "</div>"
      ],
      "text/plain": [
       "   children  days_employed  dob_years education  education_id  \\\n",
       "0         1   -8437.673028         42    высшее             0   \n",
       "1         1   -4024.803754         36   среднее             1   \n",
       "2         0   -5623.422610         33   Среднее             1   \n",
       "3         3   -4124.747207         32   среднее             1   \n",
       "4         0  340266.072047         53   среднее             1   \n",
       "5         0    -926.185831         27    высшее             0   \n",
       "6         0   -2879.202052         43    высшее             0   \n",
       "7         0    -152.779569         50   СРЕДНЕЕ             1   \n",
       "8         2   -6929.865299         35    ВЫСШЕЕ             0   \n",
       "9         0   -2188.756445         41   среднее             1   \n",
       "\n",
       "      family_status  family_status_id gender income_type  debt   total_income  \\\n",
       "0   женат / замужем                 0      F   сотрудник     0  253875.639453   \n",
       "1   женат / замужем                 0      F   сотрудник     0  112080.014102   \n",
       "2   женат / замужем                 0      M   сотрудник     0  145885.952297   \n",
       "3   женат / замужем                 0      M   сотрудник     0  267628.550329   \n",
       "4  гражданский брак                 1      F   пенсионер     0  158616.077870   \n",
       "5  гражданский брак                 1      M   компаньон     0  255763.565419   \n",
       "6   женат / замужем                 0      F   компаньон     0  240525.971920   \n",
       "7   женат / замужем                 0      M   сотрудник     0  135823.934197   \n",
       "8  гражданский брак                 1      F   сотрудник     0   95856.832424   \n",
       "9   женат / замужем                 0      M   сотрудник     0  144425.938277   \n",
       "\n",
       "                      purpose  \n",
       "0               покупка жилья  \n",
       "1     приобретение автомобиля  \n",
       "2               покупка жилья  \n",
       "3  дополнительное образование  \n",
       "4             сыграть свадьбу  \n",
       "5               покупка жилья  \n",
       "6           операции с жильем  \n",
       "7                 образование  \n",
       "8       на проведение свадьбы  \n",
       "9     покупка жилья для семьи  "
      ]
     },
     "execution_count": 5,
     "metadata": {},
     "output_type": "execute_result"
    }
   ],
   "source": [
    "df.head(10)"
   ]
  },
  {
   "cell_type": "markdown",
   "id": "4ef44c90",
   "metadata": {},
   "source": [
    "В столбце days_employed есть некорректные (отрицательные) значения."
   ]
  },
  {
   "cell_type": "markdown",
   "id": "0b45d4fe",
   "metadata": {},
   "source": [
    "## Предобработка данных"
   ]
  },
  {
   "cell_type": "markdown",
   "id": "7d064de5",
   "metadata": {},
   "source": [
    "### Заполнение пропусков"
   ]
  },
  {
   "cell_type": "code",
   "execution_count": 6,
   "id": "a082516b",
   "metadata": {},
   "outputs": [
    {
     "data": {
      "text/plain": [
       "children               0\n",
       "days_employed       2174\n",
       "dob_years              0\n",
       "education              0\n",
       "education_id           0\n",
       "family_status          0\n",
       "family_status_id       0\n",
       "gender                 0\n",
       "income_type            0\n",
       "debt                   0\n",
       "total_income        2174\n",
       "purpose                0\n",
       "dtype: int64"
      ]
     },
     "execution_count": 6,
     "metadata": {},
     "output_type": "execute_result"
    }
   ],
   "source": [
    "df.isna().sum() # подсчёт пропусков"
   ]
  },
  {
   "cell_type": "markdown",
   "id": "be7fddeb",
   "metadata": {},
   "source": [
    "В столбцах days_employed (общий трудовой стаж в днях) и total_income (ежемесячный доход) одинаковое количество пропусков - 2174. Исходя из этого, можно предположить, что в 2174 строках не заполнены ячейки двух столбцов. Есть вероятность, что это связано с проблемой при сброе данных - необходимо сообщить сотруднику, отвечающему за это.\n",
    "\n",
    "Т.к. данные пропущены в столбцах, которые будут использоваться для анализа, необходимо заполнить недостающие данные."
   ]
  },
  {
   "cell_type": "code",
   "execution_count": 7,
   "id": "833b9708",
   "metadata": {},
   "outputs": [],
   "source": [
    "df['total_income'] = df['total_income'].fillna(df.groupby('income_type')['total_income'].transform('median')) #замена пропущенных значений в столбце total_income на медианное значение total_income для группы, к которой заемщик относится по типу занятости\n",
    "df['days_employed'] = df['days_employed'].fillna(df.groupby('income_type')['days_employed'].transform('median')) #замена пропущенных значений в столбце days_employed на медианное значение days_employed для группы, к которой заемщик относится по типу занятости"
   ]
  },
  {
   "cell_type": "markdown",
   "id": "98dfcabb",
   "metadata": {},
   "source": [
    "Проверим, все ли пропуcки заполнены"
   ]
  },
  {
   "cell_type": "code",
   "execution_count": 8,
   "id": "56c2a066",
   "metadata": {},
   "outputs": [
    {
     "data": {
      "text/plain": [
       "children            0\n",
       "days_employed       0\n",
       "dob_years           0\n",
       "education           0\n",
       "education_id        0\n",
       "family_status       0\n",
       "family_status_id    0\n",
       "gender              0\n",
       "income_type         0\n",
       "debt                0\n",
       "total_income        0\n",
       "purpose             0\n",
       "dtype: int64"
      ]
     },
     "execution_count": 8,
     "metadata": {},
     "output_type": "execute_result"
    }
   ],
   "source": [
    "df.isna().sum() # подсчёт пропусков"
   ]
  },
  {
   "cell_type": "markdown",
   "id": "580d4cd2",
   "metadata": {},
   "source": [
    "**Вывод**\n",
    "\n",
    "Пропуски запонены, переходим к следующему этапу предобработки"
   ]
  },
  {
   "cell_type": "markdown",
   "id": "38f2e91e",
   "metadata": {},
   "source": [
    "### Проверка данных на аномалии и исправления."
   ]
  },
  {
   "cell_type": "markdown",
   "id": "b7e13da3",
   "metadata": {},
   "source": [
    "**Аномалии в столбце children**"
   ]
  },
  {
   "cell_type": "markdown",
   "id": "951e974d",
   "metadata": {},
   "source": [
    "Проверим на аномалии столбец children (количество детей в семье), т.к. в исследовании поставлен вопрос, для которго постребуются данные этого столбца. Выведем все уникальные значения этого столбца и посчитаем количество строк с ними в таблице."
   ]
  },
  {
   "cell_type": "code",
   "execution_count": 9,
   "id": "981aea9f",
   "metadata": {
    "scrolled": false
   },
   "outputs": [
    {
     "name": "stdout",
     "output_type": "stream",
     "text": [
      "children\n",
      "-1        47\n",
      " 0     14149\n",
      " 1      4818\n",
      " 2      2055\n",
      " 3       330\n",
      " 4        41\n",
      " 5         9\n",
      " 20       76\n",
      "Name: children, dtype: int64\n"
     ]
    }
   ],
   "source": [
    "print(df.groupby('children')['children'].count())"
   ]
  },
  {
   "cell_type": "markdown",
   "id": "4dd9628e",
   "metadata": {},
   "source": [
    "В списке есть 2 аномальных значения: \n",
    "\n",
    "-1 - число детей не может быть отрицательным;\n",
    "\n",
    "20 - в целом, возможное значение, но с учетом количества таких семей в выборке, можно предположить, что в данном случае это некорректные данные; скорее всего должно быть указано 2 ребенка.\n",
    "\n",
    "Произведем замену аномальных значений: -1 заменим на 1, 20 на 2."
   ]
  },
  {
   "cell_type": "code",
   "execution_count": 10,
   "id": "9de32ef1",
   "metadata": {},
   "outputs": [],
   "source": [
    "df['children'] = df['children'].replace({20: 2, -1: 1})"
   ]
  },
  {
   "cell_type": "markdown",
   "id": "ecff352a",
   "metadata": {},
   "source": [
    "Проверим выполненные замены"
   ]
  },
  {
   "cell_type": "code",
   "execution_count": 11,
   "id": "8f6113c0",
   "metadata": {},
   "outputs": [
    {
     "name": "stdout",
     "output_type": "stream",
     "text": [
      "children\n",
      "0    14149\n",
      "1     4865\n",
      "2     2131\n",
      "3      330\n",
      "4       41\n",
      "5        9\n",
      "Name: children, dtype: int64\n"
     ]
    }
   ],
   "source": [
    "print(df.groupby('children')['children'].count())"
   ]
  },
  {
   "cell_type": "markdown",
   "id": "d63c82c2",
   "metadata": {},
   "source": [
    "**Аномалии в столбце days_employed**\n"
   ]
  },
  {
   "cell_type": "markdown",
   "id": "4c6b943c",
   "metadata": {},
   "source": [
    "При певоначальном ознакомлении с датасетом в столбце days_employed были замечены отрицательные значения. Вероятнее всего, данные по стажу собраны некорректно. Приведем все отрицательные значения стажа к положительным."
   ]
  },
  {
   "cell_type": "code",
   "execution_count": 12,
   "id": "e120e202",
   "metadata": {},
   "outputs": [
    {
     "data": {
      "text/html": [
       "<div>\n",
       "<style scoped>\n",
       "    .dataframe tbody tr th:only-of-type {\n",
       "        vertical-align: middle;\n",
       "    }\n",
       "\n",
       "    .dataframe tbody tr th {\n",
       "        vertical-align: top;\n",
       "    }\n",
       "\n",
       "    .dataframe thead th {\n",
       "        text-align: right;\n",
       "    }\n",
       "</style>\n",
       "<table border=\"1\" class=\"dataframe\">\n",
       "  <thead>\n",
       "    <tr style=\"text-align: right;\">\n",
       "      <th></th>\n",
       "      <th>children</th>\n",
       "      <th>days_employed</th>\n",
       "      <th>dob_years</th>\n",
       "      <th>education</th>\n",
       "      <th>education_id</th>\n",
       "      <th>family_status</th>\n",
       "      <th>family_status_id</th>\n",
       "      <th>gender</th>\n",
       "      <th>income_type</th>\n",
       "      <th>debt</th>\n",
       "      <th>total_income</th>\n",
       "      <th>purpose</th>\n",
       "    </tr>\n",
       "  </thead>\n",
       "  <tbody>\n",
       "    <tr>\n",
       "      <td>0</td>\n",
       "      <td>1</td>\n",
       "      <td>8437.673028</td>\n",
       "      <td>42</td>\n",
       "      <td>высшее</td>\n",
       "      <td>0</td>\n",
       "      <td>женат / замужем</td>\n",
       "      <td>0</td>\n",
       "      <td>F</td>\n",
       "      <td>сотрудник</td>\n",
       "      <td>0</td>\n",
       "      <td>253875.639453</td>\n",
       "      <td>покупка жилья</td>\n",
       "    </tr>\n",
       "    <tr>\n",
       "      <td>1</td>\n",
       "      <td>1</td>\n",
       "      <td>4024.803754</td>\n",
       "      <td>36</td>\n",
       "      <td>среднее</td>\n",
       "      <td>1</td>\n",
       "      <td>женат / замужем</td>\n",
       "      <td>0</td>\n",
       "      <td>F</td>\n",
       "      <td>сотрудник</td>\n",
       "      <td>0</td>\n",
       "      <td>112080.014102</td>\n",
       "      <td>приобретение автомобиля</td>\n",
       "    </tr>\n",
       "    <tr>\n",
       "      <td>2</td>\n",
       "      <td>0</td>\n",
       "      <td>5623.422610</td>\n",
       "      <td>33</td>\n",
       "      <td>Среднее</td>\n",
       "      <td>1</td>\n",
       "      <td>женат / замужем</td>\n",
       "      <td>0</td>\n",
       "      <td>M</td>\n",
       "      <td>сотрудник</td>\n",
       "      <td>0</td>\n",
       "      <td>145885.952297</td>\n",
       "      <td>покупка жилья</td>\n",
       "    </tr>\n",
       "    <tr>\n",
       "      <td>3</td>\n",
       "      <td>3</td>\n",
       "      <td>4124.747207</td>\n",
       "      <td>32</td>\n",
       "      <td>среднее</td>\n",
       "      <td>1</td>\n",
       "      <td>женат / замужем</td>\n",
       "      <td>0</td>\n",
       "      <td>M</td>\n",
       "      <td>сотрудник</td>\n",
       "      <td>0</td>\n",
       "      <td>267628.550329</td>\n",
       "      <td>дополнительное образование</td>\n",
       "    </tr>\n",
       "    <tr>\n",
       "      <td>4</td>\n",
       "      <td>0</td>\n",
       "      <td>340266.072047</td>\n",
       "      <td>53</td>\n",
       "      <td>среднее</td>\n",
       "      <td>1</td>\n",
       "      <td>гражданский брак</td>\n",
       "      <td>1</td>\n",
       "      <td>F</td>\n",
       "      <td>пенсионер</td>\n",
       "      <td>0</td>\n",
       "      <td>158616.077870</td>\n",
       "      <td>сыграть свадьбу</td>\n",
       "    </tr>\n",
       "    <tr>\n",
       "      <td>5</td>\n",
       "      <td>0</td>\n",
       "      <td>926.185831</td>\n",
       "      <td>27</td>\n",
       "      <td>высшее</td>\n",
       "      <td>0</td>\n",
       "      <td>гражданский брак</td>\n",
       "      <td>1</td>\n",
       "      <td>M</td>\n",
       "      <td>компаньон</td>\n",
       "      <td>0</td>\n",
       "      <td>255763.565419</td>\n",
       "      <td>покупка жилья</td>\n",
       "    </tr>\n",
       "    <tr>\n",
       "      <td>6</td>\n",
       "      <td>0</td>\n",
       "      <td>2879.202052</td>\n",
       "      <td>43</td>\n",
       "      <td>высшее</td>\n",
       "      <td>0</td>\n",
       "      <td>женат / замужем</td>\n",
       "      <td>0</td>\n",
       "      <td>F</td>\n",
       "      <td>компаньон</td>\n",
       "      <td>0</td>\n",
       "      <td>240525.971920</td>\n",
       "      <td>операции с жильем</td>\n",
       "    </tr>\n",
       "    <tr>\n",
       "      <td>7</td>\n",
       "      <td>0</td>\n",
       "      <td>152.779569</td>\n",
       "      <td>50</td>\n",
       "      <td>СРЕДНЕЕ</td>\n",
       "      <td>1</td>\n",
       "      <td>женат / замужем</td>\n",
       "      <td>0</td>\n",
       "      <td>M</td>\n",
       "      <td>сотрудник</td>\n",
       "      <td>0</td>\n",
       "      <td>135823.934197</td>\n",
       "      <td>образование</td>\n",
       "    </tr>\n",
       "    <tr>\n",
       "      <td>8</td>\n",
       "      <td>2</td>\n",
       "      <td>6929.865299</td>\n",
       "      <td>35</td>\n",
       "      <td>ВЫСШЕЕ</td>\n",
       "      <td>0</td>\n",
       "      <td>гражданский брак</td>\n",
       "      <td>1</td>\n",
       "      <td>F</td>\n",
       "      <td>сотрудник</td>\n",
       "      <td>0</td>\n",
       "      <td>95856.832424</td>\n",
       "      <td>на проведение свадьбы</td>\n",
       "    </tr>\n",
       "    <tr>\n",
       "      <td>9</td>\n",
       "      <td>0</td>\n",
       "      <td>2188.756445</td>\n",
       "      <td>41</td>\n",
       "      <td>среднее</td>\n",
       "      <td>1</td>\n",
       "      <td>женат / замужем</td>\n",
       "      <td>0</td>\n",
       "      <td>M</td>\n",
       "      <td>сотрудник</td>\n",
       "      <td>0</td>\n",
       "      <td>144425.938277</td>\n",
       "      <td>покупка жилья для семьи</td>\n",
       "    </tr>\n",
       "  </tbody>\n",
       "</table>\n",
       "</div>"
      ],
      "text/plain": [
       "   children  days_employed  dob_years education  education_id  \\\n",
       "0         1    8437.673028         42    высшее             0   \n",
       "1         1    4024.803754         36   среднее             1   \n",
       "2         0    5623.422610         33   Среднее             1   \n",
       "3         3    4124.747207         32   среднее             1   \n",
       "4         0  340266.072047         53   среднее             1   \n",
       "5         0     926.185831         27    высшее             0   \n",
       "6         0    2879.202052         43    высшее             0   \n",
       "7         0     152.779569         50   СРЕДНЕЕ             1   \n",
       "8         2    6929.865299         35    ВЫСШЕЕ             0   \n",
       "9         0    2188.756445         41   среднее             1   \n",
       "\n",
       "      family_status  family_status_id gender income_type  debt   total_income  \\\n",
       "0   женат / замужем                 0      F   сотрудник     0  253875.639453   \n",
       "1   женат / замужем                 0      F   сотрудник     0  112080.014102   \n",
       "2   женат / замужем                 0      M   сотрудник     0  145885.952297   \n",
       "3   женат / замужем                 0      M   сотрудник     0  267628.550329   \n",
       "4  гражданский брак                 1      F   пенсионер     0  158616.077870   \n",
       "5  гражданский брак                 1      M   компаньон     0  255763.565419   \n",
       "6   женат / замужем                 0      F   компаньон     0  240525.971920   \n",
       "7   женат / замужем                 0      M   сотрудник     0  135823.934197   \n",
       "8  гражданский брак                 1      F   сотрудник     0   95856.832424   \n",
       "9   женат / замужем                 0      M   сотрудник     0  144425.938277   \n",
       "\n",
       "                      purpose  \n",
       "0               покупка жилья  \n",
       "1     приобретение автомобиля  \n",
       "2               покупка жилья  \n",
       "3  дополнительное образование  \n",
       "4             сыграть свадьбу  \n",
       "5               покупка жилья  \n",
       "6           операции с жильем  \n",
       "7                 образование  \n",
       "8       на проведение свадьбы  \n",
       "9     покупка жилья для семьи  "
      ]
     },
     "metadata": {},
     "output_type": "display_data"
    }
   ],
   "source": [
    "df['days_employed'] = df['days_employed'].abs()\n",
    "display(df.head(10))"
   ]
  },
  {
   "cell_type": "markdown",
   "id": "e632ca44",
   "metadata": {},
   "source": [
    "Отрицательные значения преобразованы в положительные."
   ]
  },
  {
   "cell_type": "markdown",
   "id": "e64dc8d5",
   "metadata": {},
   "source": [
    "Так же в данных по стажу имеются значения, сильно превышающие возможный трудовой стаж. Рассчитаем значение максимального стажа и проверим, какая доля значений в таблице превышает его."
   ]
  },
  {
   "cell_type": "code",
   "execution_count": 13,
   "id": "480fde23",
   "metadata": {},
   "outputs": [
    {
     "name": "stdout",
     "output_type": "stream",
     "text": [
      "17.923344947735192\n"
     ]
    }
   ],
   "source": [
    "max_days_employed = (df['dob_years'].max() - 18) * 365 # вычитаем из максимального возраста заемщика возраст начала трудовой деятельности и умножаем на количество дней в году\n",
    "print(df[df['days_employed'] > max_days_employed]['days_employed'].count() / len(df)*100) #находим процент значений стажа, превышающего максимальный"
   ]
  },
  {
   "cell_type": "markdown",
   "id": "1ceb43a7",
   "metadata": {},
   "source": [
    "17,87% заемщиков в таблице имеют стаж больше максимально возможного. Это указывает на явные проблемы с заполненеим стажа при сборе данных. Т.к. для решения поставленных в задаче вопросов нет необходимости использовать данные стажа, на текущий момент не требуется дополнительно обрабатывать данные этого столбца. Но необходимо передать информацию об этой проблеме коллегам, собирающим данные. "
   ]
  },
  {
   "cell_type": "markdown",
   "id": "69eea320",
   "metadata": {},
   "source": [
    "### Изменение типов данных."
   ]
  },
  {
   "cell_type": "code",
   "execution_count": 14,
   "id": "f05a6a0a",
   "metadata": {
    "scrolled": true
   },
   "outputs": [
    {
     "name": "stdout",
     "output_type": "stream",
     "text": [
      "<class 'pandas.core.frame.DataFrame'>\n",
      "RangeIndex: 21525 entries, 0 to 21524\n",
      "Data columns (total 12 columns):\n",
      "children            21525 non-null int64\n",
      "days_employed       21525 non-null float64\n",
      "dob_years           21525 non-null int64\n",
      "education           21525 non-null object\n",
      "education_id        21525 non-null int64\n",
      "family_status       21525 non-null object\n",
      "family_status_id    21525 non-null int64\n",
      "gender              21525 non-null object\n",
      "income_type         21525 non-null object\n",
      "debt                21525 non-null int64\n",
      "total_income        21525 non-null int64\n",
      "purpose             21525 non-null object\n",
      "dtypes: float64(1), int64(6), object(5)\n",
      "memory usage: 2.0+ MB\n"
     ]
    }
   ],
   "source": [
    "df['total_income'] = df['total_income'].astype('int') #замена типа данных в столбце total_income с float64 на int64\n",
    "df.info() # получение общей информации о данных в таблице customers_data для проверки замены типа данных"
   ]
  },
  {
   "cell_type": "markdown",
   "id": "a0478995",
   "metadata": {},
   "source": [
    "**Вывод**\n",
    "\n",
    "Тип данных в столбце total_income (ежемесячный доход) изменен. Тип данных int64 больше подходит для данных о доходах, т.к. даходы измеряются в единицах, не имеющих большого количества знаков после запятой. Так же замена типа данных упрощает восприятие данных в таблице."
   ]
  },
  {
   "cell_type": "markdown",
   "id": "fb046ca8",
   "metadata": {},
   "source": [
    "### Удаление дубликатов."
   ]
  },
  {
   "cell_type": "code",
   "execution_count": 15,
   "id": "6a5c7309",
   "metadata": {},
   "outputs": [
    {
     "name": "stdout",
     "output_type": "stream",
     "text": [
      "Количество явных дубликатов: 54\n"
     ]
    }
   ],
   "source": [
    "print('Количество явных дубликатов:', df.duplicated().sum()) # подсчёт явных дубликатов"
   ]
  },
  {
   "cell_type": "code",
   "execution_count": 16,
   "id": "2e00c422",
   "metadata": {},
   "outputs": [
    {
     "name": "stdout",
     "output_type": "stream",
     "text": [
      "Количество явных дубликатов: 0\n"
     ]
    }
   ],
   "source": [
    "df = df.drop_duplicates().reset_index() # удаление явных дубликатов (с удалением старых индексов и формированием новых)\n",
    "print('Количество явных дубликатов:', df.duplicated().sum()) # подсчёт явных дубликатов"
   ]
  },
  {
   "cell_type": "markdown",
   "id": "1391bf47",
   "metadata": {},
   "source": [
    "Проверим столбец education данными на неявные дубликаты."
   ]
  },
  {
   "cell_type": "code",
   "execution_count": 17,
   "id": "8a688408",
   "metadata": {},
   "outputs": [
    {
     "data": {
      "text/plain": [
       "array(['ВЫСШЕЕ', 'Высшее', 'НАЧАЛЬНОЕ', 'НЕОКОНЧЕННОЕ ВЫСШЕЕ',\n",
       "       'Начальное', 'Неоконченное высшее', 'СРЕДНЕЕ', 'Среднее',\n",
       "       'УЧЕНАЯ СТЕПЕНЬ', 'Ученая степень', 'высшее', 'начальное',\n",
       "       'неоконченное высшее', 'среднее', 'ученая степень'], dtype=object)"
      ]
     },
     "execution_count": 17,
     "metadata": {},
     "output_type": "execute_result"
    }
   ],
   "source": [
    "df['education'].sort_values().unique() #вывод уникальных значений для столбца education"
   ]
  },
  {
   "cell_type": "markdown",
   "id": "a12272ce",
   "metadata": {},
   "source": [
    "Т.к. дубликаты отличаются только регистром, их можно обработать при помощи метода str.lower()."
   ]
  },
  {
   "cell_type": "code",
   "execution_count": 18,
   "id": "b5e625ef",
   "metadata": {},
   "outputs": [
    {
     "data": {
      "text/plain": [
       "array(['высшее', 'начальное', 'неоконченное высшее', 'среднее',\n",
       "       'ученая степень'], dtype=object)"
      ]
     },
     "execution_count": 18,
     "metadata": {},
     "output_type": "execute_result"
    }
   ],
   "source": [
    "df['education'] = df['education'].str.lower()\n",
    "df['education'].sort_values().unique() #проверка обработки"
   ]
  },
  {
   "cell_type": "markdown",
   "id": "f0cdc255",
   "metadata": {},
   "source": [
    "Неявные дубликаты в столбце education удалены."
   ]
  },
  {
   "cell_type": "markdown",
   "id": "b34d9c54",
   "metadata": {},
   "source": [
    "**Проверим остальные столбцы с категориаольными значениями**"
   ]
  },
  {
   "cell_type": "code",
   "execution_count": 19,
   "id": "29bd5191",
   "metadata": {},
   "outputs": [
    {
     "name": "stdout",
     "output_type": "stream",
     "text": [
      "[0 1 2 3 4]\n",
      "['Не женат / не замужем' 'в разводе' 'вдовец / вдова' 'гражданский брак'\n",
      " 'женат / замужем']\n",
      "[0 1 2 3 4]\n",
      "['F' 'M' 'XNA']\n",
      "['безработный' 'в декрете' 'госслужащий' 'компаньон' 'пенсионер'\n",
      " 'предприниматель' 'сотрудник' 'студент']\n",
      "['автомобили' 'автомобиль' 'высшее образование'\n",
      " 'дополнительное образование' 'жилье' 'заняться высшим образованием'\n",
      " 'заняться образованием' 'на покупку автомобиля'\n",
      " 'на покупку подержанного автомобиля' 'на покупку своего автомобиля'\n",
      " 'на проведение свадьбы' 'недвижимость' 'образование' 'операции с жильем'\n",
      " 'операции с коммерческой недвижимостью' 'операции с недвижимостью'\n",
      " 'операции со своей недвижимостью' 'покупка жилой недвижимости'\n",
      " 'покупка жилья' 'покупка жилья для сдачи' 'покупка жилья для семьи'\n",
      " 'покупка коммерческой недвижимости' 'покупка недвижимости'\n",
      " 'покупка своего жилья' 'получение высшего образования'\n",
      " 'получение дополнительного образования' 'получение образования'\n",
      " 'приобретение автомобиля' 'профильное образование' 'ремонт жилью'\n",
      " 'свадьба' 'свой автомобиль' 'сделка с автомобилем'\n",
      " 'сделка с подержанным автомобилем' 'строительство жилой недвижимости'\n",
      " 'строительство недвижимости' 'строительство собственной недвижимости'\n",
      " 'сыграть свадьбу']\n"
     ]
    }
   ],
   "source": [
    "print(df['education_id'].sort_values().unique())\n",
    "print(df['family_status'].sort_values().unique())\n",
    "print(df['family_status_id'].sort_values().unique())\n",
    "print(df['gender'].sort_values().unique())\n",
    "print(df['income_type'].sort_values().unique())\n",
    "print(df['purpose'].sort_values().unique())"
   ]
  },
  {
   "cell_type": "markdown",
   "id": "a6fbbcc2",
   "metadata": {},
   "source": [
    "**Вывод**\n",
    "\n",
    "Проверенные столбцы (кроме purpose) не содерджат неявных дубликатов.\n",
    "\n",
    "Неявные дубликаты в столбце purpose удалять не будем - в шаге 2.7 разнесем цели по более крупным группам и запишем эту информацию в новый столбец."
   ]
  },
  {
   "cell_type": "markdown",
   "id": "7d5b740f",
   "metadata": {},
   "source": [
    "## Расчёты и добавление результатов в таблицу"
   ]
  },
  {
   "cell_type": "markdown",
   "id": "aff5b298",
   "metadata": {},
   "source": [
    "### Формирование дополнительных датафреймов словарей, декомпозиция исходного датафрейма."
   ]
  },
  {
   "cell_type": "code",
   "execution_count": 20,
   "id": "f8376600",
   "metadata": {},
   "outputs": [
    {
     "name": "stdout",
     "output_type": "stream",
     "text": [
      "   education_id            education\n",
      "0             0               высшее\n",
      "1             1              среднее\n",
      "2             2  неоконченное высшее\n",
      "3             3            начальное\n",
      "4             4       ученая степень\n"
     ]
    }
   ],
   "source": [
    "education_dict = df[['education_id', 'education']] #сформируем новый датафрейм из двух столбцов исходного\n",
    "education_dict = education_dict.drop_duplicates().reset_index(drop=True) #удалим дубликаты в таблице education_dict\n",
    "print(education_dict.sort_values('education_id')) #распечатаем support_dict в порядке возрастания значений столбца education_id"
   ]
  },
  {
   "cell_type": "markdown",
   "id": "83820933",
   "metadata": {},
   "source": [
    "В результате мы получили словарь типов образования, к которому можно обращаться по идентификатору\n",
    "\n",
    "Создадим аналогичный словарь для статусов семейного положения. "
   ]
  },
  {
   "cell_type": "code",
   "execution_count": 21,
   "id": "e4e0a1bf",
   "metadata": {},
   "outputs": [
    {
     "name": "stdout",
     "output_type": "stream",
     "text": [
      "   family_status_id          family_status\n",
      "0                 0        женат / замужем\n",
      "1                 1       гражданский брак\n",
      "2                 2         вдовец / вдова\n",
      "3                 3              в разводе\n",
      "4                 4  Не женат / не замужем\n"
     ]
    }
   ],
   "source": [
    "family_status_dict = df[['family_status_id', 'family_status']] #сформируем новый датафрейм из двух столбцов исходного\n",
    "family_status_dict = family_status_dict.drop_duplicates().reset_index(drop=True) #удалим дубликаты в таблице family_status_dict\n",
    "print(family_status_dict.sort_values('family_status_id')) #распечатаем support_dict в порядке возрастания значений столбца education_id"
   ]
  },
  {
   "cell_type": "markdown",
   "id": "41886382",
   "metadata": {},
   "source": [
    "Согласно заданию, столбцы education и family_status необходимо удалить из исходного датафрейма. Но для ответа на вопросы, поставленные в работе, будет удобнее использовать данные из этих столбцов, если они останутся в таблице. Ниже приведено решенте по удалению стобцов в закомментированом виде. "
   ]
  },
  {
   "cell_type": "code",
   "execution_count": 22,
   "id": "31006b42",
   "metadata": {},
   "outputs": [],
   "source": [
    "#df = df.drop(['education', 'family_status'], axis = 1)"
   ]
  },
  {
   "cell_type": "markdown",
   "id": "cda5016f",
   "metadata": {},
   "source": [
    "### Категоризация дохода."
   ]
  },
  {
   "cell_type": "markdown",
   "id": "6584702b",
   "metadata": {},
   "source": [
    "Напишем функцию, добавляющую новый столбец в таблицу с категориями в зависимости от величины дохода:\n",
    "\n",
    "0–30000 — 'E';\n",
    "\n",
    "30001–50000 — 'D';\n",
    "\n",
    "50001–200000 — 'C';\n",
    "\n",
    "200001–1000000 — 'B';\n",
    "\n",
    "1000001 и выше — 'A'"
   ]
  },
  {
   "cell_type": "code",
   "execution_count": 23,
   "id": "fbce3da8",
   "metadata": {},
   "outputs": [],
   "source": [
    "def total_income_group(income): #функция, возвращающая категорию в зависимости от величины дохода\n",
    "    if income <= 30000:\n",
    "        return 'E'\n",
    "    if 30001 <= income <= 50000:\n",
    "        return 'D'\n",
    "    if 50001 <= income <= 200000:\n",
    "        return 'C'\n",
    "    if 200001 <= income <= 1000000:\n",
    "        return 'B'\n",
    "    else:\n",
    "        return 'A'"
   ]
  },
  {
   "cell_type": "markdown",
   "id": "cdaa0064",
   "metadata": {},
   "source": [
    "Протестируем работу функции для каждого правила"
   ]
  },
  {
   "cell_type": "code",
   "execution_count": 24,
   "id": "4d90b858",
   "metadata": {},
   "outputs": [
    {
     "name": "stdout",
     "output_type": "stream",
     "text": [
      "E\n",
      "D\n",
      "C\n",
      "B\n",
      "A\n"
     ]
    }
   ],
   "source": [
    "print(total_income_group(30000))\n",
    "print(total_income_group(40000))\n",
    "print(total_income_group(100000))\n",
    "print(total_income_group(800000))\n",
    "print(total_income_group(2000000))"
   ]
  },
  {
   "cell_type": "markdown",
   "id": "eaead0ff",
   "metadata": {},
   "source": [
    "Функция работает корректно\n",
    "\n",
    "Добавим в таблицу столбец с результатами работы функции применительно к столбцу total_income"
   ]
  },
  {
   "cell_type": "code",
   "execution_count": 25,
   "id": "e92d4526",
   "metadata": {
    "scrolled": true
   },
   "outputs": [
    {
     "data": {
      "text/html": [
       "<div>\n",
       "<style scoped>\n",
       "    .dataframe tbody tr th:only-of-type {\n",
       "        vertical-align: middle;\n",
       "    }\n",
       "\n",
       "    .dataframe tbody tr th {\n",
       "        vertical-align: top;\n",
       "    }\n",
       "\n",
       "    .dataframe thead th {\n",
       "        text-align: right;\n",
       "    }\n",
       "</style>\n",
       "<table border=\"1\" class=\"dataframe\">\n",
       "  <thead>\n",
       "    <tr style=\"text-align: right;\">\n",
       "      <th></th>\n",
       "      <th>index</th>\n",
       "      <th>children</th>\n",
       "      <th>days_employed</th>\n",
       "      <th>dob_years</th>\n",
       "      <th>education</th>\n",
       "      <th>education_id</th>\n",
       "      <th>family_status</th>\n",
       "      <th>family_status_id</th>\n",
       "      <th>gender</th>\n",
       "      <th>income_type</th>\n",
       "      <th>debt</th>\n",
       "      <th>total_income</th>\n",
       "      <th>purpose</th>\n",
       "      <th>total_income_category</th>\n",
       "    </tr>\n",
       "  </thead>\n",
       "  <tbody>\n",
       "    <tr>\n",
       "      <td>0</td>\n",
       "      <td>0</td>\n",
       "      <td>1</td>\n",
       "      <td>8437.673028</td>\n",
       "      <td>42</td>\n",
       "      <td>высшее</td>\n",
       "      <td>0</td>\n",
       "      <td>женат / замужем</td>\n",
       "      <td>0</td>\n",
       "      <td>F</td>\n",
       "      <td>сотрудник</td>\n",
       "      <td>0</td>\n",
       "      <td>253875</td>\n",
       "      <td>покупка жилья</td>\n",
       "      <td>B</td>\n",
       "    </tr>\n",
       "    <tr>\n",
       "      <td>1</td>\n",
       "      <td>1</td>\n",
       "      <td>1</td>\n",
       "      <td>4024.803754</td>\n",
       "      <td>36</td>\n",
       "      <td>среднее</td>\n",
       "      <td>1</td>\n",
       "      <td>женат / замужем</td>\n",
       "      <td>0</td>\n",
       "      <td>F</td>\n",
       "      <td>сотрудник</td>\n",
       "      <td>0</td>\n",
       "      <td>112080</td>\n",
       "      <td>приобретение автомобиля</td>\n",
       "      <td>C</td>\n",
       "    </tr>\n",
       "    <tr>\n",
       "      <td>2</td>\n",
       "      <td>2</td>\n",
       "      <td>0</td>\n",
       "      <td>5623.422610</td>\n",
       "      <td>33</td>\n",
       "      <td>среднее</td>\n",
       "      <td>1</td>\n",
       "      <td>женат / замужем</td>\n",
       "      <td>0</td>\n",
       "      <td>M</td>\n",
       "      <td>сотрудник</td>\n",
       "      <td>0</td>\n",
       "      <td>145885</td>\n",
       "      <td>покупка жилья</td>\n",
       "      <td>C</td>\n",
       "    </tr>\n",
       "    <tr>\n",
       "      <td>3</td>\n",
       "      <td>3</td>\n",
       "      <td>3</td>\n",
       "      <td>4124.747207</td>\n",
       "      <td>32</td>\n",
       "      <td>среднее</td>\n",
       "      <td>1</td>\n",
       "      <td>женат / замужем</td>\n",
       "      <td>0</td>\n",
       "      <td>M</td>\n",
       "      <td>сотрудник</td>\n",
       "      <td>0</td>\n",
       "      <td>267628</td>\n",
       "      <td>дополнительное образование</td>\n",
       "      <td>B</td>\n",
       "    </tr>\n",
       "    <tr>\n",
       "      <td>4</td>\n",
       "      <td>4</td>\n",
       "      <td>0</td>\n",
       "      <td>340266.072047</td>\n",
       "      <td>53</td>\n",
       "      <td>среднее</td>\n",
       "      <td>1</td>\n",
       "      <td>гражданский брак</td>\n",
       "      <td>1</td>\n",
       "      <td>F</td>\n",
       "      <td>пенсионер</td>\n",
       "      <td>0</td>\n",
       "      <td>158616</td>\n",
       "      <td>сыграть свадьбу</td>\n",
       "      <td>C</td>\n",
       "    </tr>\n",
       "  </tbody>\n",
       "</table>\n",
       "</div>"
      ],
      "text/plain": [
       "   index  children  days_employed  dob_years education  education_id  \\\n",
       "0      0         1    8437.673028         42    высшее             0   \n",
       "1      1         1    4024.803754         36   среднее             1   \n",
       "2      2         0    5623.422610         33   среднее             1   \n",
       "3      3         3    4124.747207         32   среднее             1   \n",
       "4      4         0  340266.072047         53   среднее             1   \n",
       "\n",
       "      family_status  family_status_id gender income_type  debt  total_income  \\\n",
       "0   женат / замужем                 0      F   сотрудник     0        253875   \n",
       "1   женат / замужем                 0      F   сотрудник     0        112080   \n",
       "2   женат / замужем                 0      M   сотрудник     0        145885   \n",
       "3   женат / замужем                 0      M   сотрудник     0        267628   \n",
       "4  гражданский брак                 1      F   пенсионер     0        158616   \n",
       "\n",
       "                      purpose total_income_category  \n",
       "0               покупка жилья                     B  \n",
       "1     приобретение автомобиля                     C  \n",
       "2               покупка жилья                     C  \n",
       "3  дополнительное образование                     B  \n",
       "4             сыграть свадьбу                     C  "
      ]
     },
     "metadata": {},
     "output_type": "display_data"
    }
   ],
   "source": [
    "df['total_income_category'] = df['total_income'].apply(total_income_group)\n",
    "display(df.head(5))"
   ]
  },
  {
   "cell_type": "markdown",
   "id": "8d93c853",
   "metadata": {},
   "source": [
    "**Вывод**\n",
    "\n",
    "Функция работает корректно, в таблицу добавлен новый столбец с категориями заемщиков в зависимости от их ежемесячного дохода. "
   ]
  },
  {
   "cell_type": "markdown",
   "id": "8ee4ce67",
   "metadata": {},
   "source": [
    "### Категоризация целей кредита."
   ]
  },
  {
   "cell_type": "markdown",
   "id": "34e4bcab",
   "metadata": {},
   "source": [
    "<a id='section_id'></a>"
   ]
  },
  {
   "cell_type": "markdown",
   "id": "6884d438",
   "metadata": {},
   "source": [
    "Рассотрим значения столбца purpose"
   ]
  },
  {
   "cell_type": "code",
   "execution_count": 26,
   "id": "b9653998",
   "metadata": {},
   "outputs": [
    {
     "name": "stdout",
     "output_type": "stream",
     "text": [
      "['автомобили' 'автомобиль' 'высшее образование'\n",
      " 'дополнительное образование' 'жилье' 'заняться высшим образованием'\n",
      " 'заняться образованием' 'на покупку автомобиля'\n",
      " 'на покупку подержанного автомобиля' 'на покупку своего автомобиля'\n",
      " 'на проведение свадьбы' 'недвижимость' 'образование' 'операции с жильем'\n",
      " 'операции с коммерческой недвижимостью' 'операции с недвижимостью'\n",
      " 'операции со своей недвижимостью' 'покупка жилой недвижимости'\n",
      " 'покупка жилья' 'покупка жилья для сдачи' 'покупка жилья для семьи'\n",
      " 'покупка коммерческой недвижимости' 'покупка недвижимости'\n",
      " 'покупка своего жилья' 'получение высшего образования'\n",
      " 'получение дополнительного образования' 'получение образования'\n",
      " 'приобретение автомобиля' 'профильное образование' 'ремонт жилью'\n",
      " 'свадьба' 'свой автомобиль' 'сделка с автомобилем'\n",
      " 'сделка с подержанным автомобилем' 'строительство жилой недвижимости'\n",
      " 'строительство недвижимости' 'строительство собственной недвижимости'\n",
      " 'сыграть свадьбу']\n"
     ]
    }
   ],
   "source": [
    "print(df['purpose'].sort_values().unique())"
   ]
  },
  {
   "cell_type": "markdown",
   "id": "afbcb5dc",
   "metadata": {},
   "source": [
    "Для похожих или одинаковых целей в стоблце purpose заполнены разные значения. Для упрощения анализа необходимо привести значения столбца purpose к нескольким категориям, объединяющим все значения с аналогичными целями.\n",
    "Для этого используем вхождение строки в значение столбца."
   ]
  },
  {
   "cell_type": "code",
   "execution_count": 27,
   "id": "b842131a",
   "metadata": {},
   "outputs": [],
   "source": [
    "def purpose_category_group(purpose): #функция, возвращающая категорию в зависимости от величины дохода\n",
    "    if 'авто' in purpose:\n",
    "        return 'операции с автомобилем'\n",
    "    if 'недв' in purpose:\n",
    "        return 'операции с недвижимостью'\n",
    "    if 'жил' in purpose:\n",
    "        return 'операции с недвижимостью'\n",
    "    if 'свадьб' in purpose:\n",
    "        return 'проведение свадьбы'\n",
    "    if 'образ' in purpose:\n",
    "        return 'получение образования'"
   ]
  },
  {
   "cell_type": "markdown",
   "id": "90632c0c",
   "metadata": {},
   "source": [
    "Протестируем работу функции для каждого правила"
   ]
  },
  {
   "cell_type": "code",
   "execution_count": 28,
   "id": "79817241",
   "metadata": {},
   "outputs": [
    {
     "name": "stdout",
     "output_type": "stream",
     "text": [
      "операции с автомобилем\n",
      "получение образования\n",
      "операции с недвижимостью\n",
      "операции с недвижимостью\n",
      "проведение свадьбы\n"
     ]
    }
   ],
   "source": [
    "print(purpose_category_group('на покупку своего автомобиля'))\n",
    "print(purpose_category_group('высшее образование'))\n",
    "print(purpose_category_group('жилье'))\n",
    "print(purpose_category_group('операции со своей недвижимостью'))\n",
    "print(purpose_category_group('сыграть свадьбу'))"
   ]
  },
  {
   "cell_type": "markdown",
   "id": "c305faf5",
   "metadata": {},
   "source": [
    "Функция работает корректно\n",
    "\n",
    "Добавим в таблицу столбец с результатами работы функции применительно к столбцу purpose"
   ]
  },
  {
   "cell_type": "code",
   "execution_count": 29,
   "id": "267ad508",
   "metadata": {},
   "outputs": [
    {
     "data": {
      "text/html": [
       "<div>\n",
       "<style scoped>\n",
       "    .dataframe tbody tr th:only-of-type {\n",
       "        vertical-align: middle;\n",
       "    }\n",
       "\n",
       "    .dataframe tbody tr th {\n",
       "        vertical-align: top;\n",
       "    }\n",
       "\n",
       "    .dataframe thead th {\n",
       "        text-align: right;\n",
       "    }\n",
       "</style>\n",
       "<table border=\"1\" class=\"dataframe\">\n",
       "  <thead>\n",
       "    <tr style=\"text-align: right;\">\n",
       "      <th></th>\n",
       "      <th>index</th>\n",
       "      <th>children</th>\n",
       "      <th>days_employed</th>\n",
       "      <th>dob_years</th>\n",
       "      <th>education</th>\n",
       "      <th>education_id</th>\n",
       "      <th>family_status</th>\n",
       "      <th>family_status_id</th>\n",
       "      <th>gender</th>\n",
       "      <th>income_type</th>\n",
       "      <th>debt</th>\n",
       "      <th>total_income</th>\n",
       "      <th>purpose</th>\n",
       "      <th>total_income_category</th>\n",
       "      <th>purpose_category</th>\n",
       "    </tr>\n",
       "  </thead>\n",
       "  <tbody>\n",
       "    <tr>\n",
       "      <td>0</td>\n",
       "      <td>0</td>\n",
       "      <td>1</td>\n",
       "      <td>8437.673028</td>\n",
       "      <td>42</td>\n",
       "      <td>высшее</td>\n",
       "      <td>0</td>\n",
       "      <td>женат / замужем</td>\n",
       "      <td>0</td>\n",
       "      <td>F</td>\n",
       "      <td>сотрудник</td>\n",
       "      <td>0</td>\n",
       "      <td>253875</td>\n",
       "      <td>покупка жилья</td>\n",
       "      <td>B</td>\n",
       "      <td>операции с недвижимостью</td>\n",
       "    </tr>\n",
       "    <tr>\n",
       "      <td>1</td>\n",
       "      <td>1</td>\n",
       "      <td>1</td>\n",
       "      <td>4024.803754</td>\n",
       "      <td>36</td>\n",
       "      <td>среднее</td>\n",
       "      <td>1</td>\n",
       "      <td>женат / замужем</td>\n",
       "      <td>0</td>\n",
       "      <td>F</td>\n",
       "      <td>сотрудник</td>\n",
       "      <td>0</td>\n",
       "      <td>112080</td>\n",
       "      <td>приобретение автомобиля</td>\n",
       "      <td>C</td>\n",
       "      <td>операции с автомобилем</td>\n",
       "    </tr>\n",
       "    <tr>\n",
       "      <td>2</td>\n",
       "      <td>2</td>\n",
       "      <td>0</td>\n",
       "      <td>5623.422610</td>\n",
       "      <td>33</td>\n",
       "      <td>среднее</td>\n",
       "      <td>1</td>\n",
       "      <td>женат / замужем</td>\n",
       "      <td>0</td>\n",
       "      <td>M</td>\n",
       "      <td>сотрудник</td>\n",
       "      <td>0</td>\n",
       "      <td>145885</td>\n",
       "      <td>покупка жилья</td>\n",
       "      <td>C</td>\n",
       "      <td>операции с недвижимостью</td>\n",
       "    </tr>\n",
       "    <tr>\n",
       "      <td>3</td>\n",
       "      <td>3</td>\n",
       "      <td>3</td>\n",
       "      <td>4124.747207</td>\n",
       "      <td>32</td>\n",
       "      <td>среднее</td>\n",
       "      <td>1</td>\n",
       "      <td>женат / замужем</td>\n",
       "      <td>0</td>\n",
       "      <td>M</td>\n",
       "      <td>сотрудник</td>\n",
       "      <td>0</td>\n",
       "      <td>267628</td>\n",
       "      <td>дополнительное образование</td>\n",
       "      <td>B</td>\n",
       "      <td>получение образования</td>\n",
       "    </tr>\n",
       "    <tr>\n",
       "      <td>4</td>\n",
       "      <td>4</td>\n",
       "      <td>0</td>\n",
       "      <td>340266.072047</td>\n",
       "      <td>53</td>\n",
       "      <td>среднее</td>\n",
       "      <td>1</td>\n",
       "      <td>гражданский брак</td>\n",
       "      <td>1</td>\n",
       "      <td>F</td>\n",
       "      <td>пенсионер</td>\n",
       "      <td>0</td>\n",
       "      <td>158616</td>\n",
       "      <td>сыграть свадьбу</td>\n",
       "      <td>C</td>\n",
       "      <td>проведение свадьбы</td>\n",
       "    </tr>\n",
       "  </tbody>\n",
       "</table>\n",
       "</div>"
      ],
      "text/plain": [
       "   index  children  days_employed  dob_years education  education_id  \\\n",
       "0      0         1    8437.673028         42    высшее             0   \n",
       "1      1         1    4024.803754         36   среднее             1   \n",
       "2      2         0    5623.422610         33   среднее             1   \n",
       "3      3         3    4124.747207         32   среднее             1   \n",
       "4      4         0  340266.072047         53   среднее             1   \n",
       "\n",
       "      family_status  family_status_id gender income_type  debt  total_income  \\\n",
       "0   женат / замужем                 0      F   сотрудник     0        253875   \n",
       "1   женат / замужем                 0      F   сотрудник     0        112080   \n",
       "2   женат / замужем                 0      M   сотрудник     0        145885   \n",
       "3   женат / замужем                 0      M   сотрудник     0        267628   \n",
       "4  гражданский брак                 1      F   пенсионер     0        158616   \n",
       "\n",
       "                      purpose total_income_category          purpose_category  \n",
       "0               покупка жилья                     B  операции с недвижимостью  \n",
       "1     приобретение автомобиля                     C    операции с автомобилем  \n",
       "2               покупка жилья                     C  операции с недвижимостью  \n",
       "3  дополнительное образование                     B     получение образования  \n",
       "4             сыграть свадьбу                     C        проведение свадьбы  "
      ]
     },
     "metadata": {},
     "output_type": "display_data"
    }
   ],
   "source": [
    "df['purpose_category'] = df['purpose'].apply(purpose_category_group)\n",
    "display(df.head(5))"
   ]
  },
  {
   "cell_type": "markdown",
   "id": "64085315",
   "metadata": {},
   "source": [
    "## Ответы на вопросы."
   ]
  },
  {
   "cell_type": "markdown",
   "id": "1d42cc60",
   "metadata": {},
   "source": [
    "##### Вопрос 1: Есть ли зависимость между количеством детей и возвратом кредита в срок?"
   ]
  },
  {
   "cell_type": "markdown",
   "id": "e39f6b2f",
   "metadata": {},
   "source": [
    "Для ответа на данный вопрос найдем среднее значение для столбца debt (оно отображает долю кредитов с задолженностью по всей выборке) и переведем его в проценты. Сравним полученное значение со средними значениями debt для категорий заемщиков с разным количеством детей. Так же посчитаем, количество заемщиков в каждой группе."
   ]
  },
  {
   "cell_type": "code",
   "execution_count": 30,
   "id": "19b2bed6",
   "metadata": {
    "scrolled": true
   },
   "outputs": [
    {
     "name": "stdout",
     "output_type": "stream",
     "text": [
      "0.08108611615667645\n",
      "          count      mean\n",
      "children                 \n",
      "0         14107  0.075353\n",
      "1          4856  0.091639\n",
      "2          2128  0.094925\n",
      "3           330  0.081818\n",
      "4            41  0.097561\n",
      "5             9  0.000000\n"
     ]
    }
   ],
   "source": [
    "average_debt = df['debt'].mean()\n",
    "print(average_debt)\n",
    "print(df.groupby('children')['debt'].agg({'count', 'mean'}))"
   ]
  },
  {
   "cell_type": "markdown",
   "id": "5ff7a1c5",
   "metadata": {},
   "source": [
    "##### Вывод 1:"
   ]
  },
  {
   "cell_type": "markdown",
   "id": "854ed0b2",
   "metadata": {},
   "source": [
    "Средняя доля кредитов с задолженностью по выборке - 8,1%.\n",
    "\n",
    "Для заемщиков без детей средняя доля кредитов с задолженностью составляет 7,53%, т.е. ниже, чем для любой группы заемщиков с детьми.\n",
    "\n",
    "Для заемщиков с детьми доля кредитов с задолженностью составляет от 8,18% (3 ребенка) до 9,75% (4 ребенка).\n",
    "\n",
    "По результатам расчета нельзя сказать, что с ростом числа детей в семье растет риск задолженности по кредиту, т.к. для семей с 3 детьми он ниже, чем для семей с 1 и 2 детьми. Но в то же время, максимальный процент невозврата показала группа с 4 детьми - 9,75%.\n",
    "Есть вероятность, что в нашей выборке недостаточно представлена группа заемщиков с 3 детьми (1,44%) и доля доля кредитов с задолженностью, показанная для нее, не соответствует реальной, т.к. для семей с 1, 2 и 4 детьми показан рост доли кредитов с задолженностью в зависимости от количества детей."
   ]
  },
  {
   "cell_type": "markdown",
   "id": "a776f4cd",
   "metadata": {},
   "source": [
    "##### Вопрос 2: Есть ли зависимость между семейным положением и возвратом кредита в срок?"
   ]
  },
  {
   "cell_type": "markdown",
   "id": "80c3f46b",
   "metadata": {},
   "source": [
    "Для ответа на данный вопрос сравним среднее значение для столбца debt (оно отображает долю кредитов с задолженностью по всей выборке) со средними значениями debt для категорий заемщиков с разным семейным положением. Так же посчитаем, количество заемщиков в каждой группе."
   ]
  },
  {
   "cell_type": "code",
   "execution_count": 31,
   "id": "49c56e62",
   "metadata": {},
   "outputs": [
    {
     "name": "stdout",
     "output_type": "stream",
     "text": [
      "0.08108611615667645\n",
      "                       count      mean\n",
      "family_status                         \n",
      "Не женат / не замужем   2810  0.097509\n",
      "в разводе               1195  0.071130\n",
      "вдовец / вдова           959  0.065693\n",
      "гражданский брак        4163  0.093202\n",
      "женат / замужем        12344  0.075421\n"
     ]
    }
   ],
   "source": [
    "print(average_debt)\n",
    "print(df.groupby('family_status')['debt'].agg({'count', 'mean'}))"
   ]
  },
  {
   "cell_type": "markdown",
   "id": "580ff8f6",
   "metadata": {},
   "source": [
    "##### Вывод 2:"
   ]
  },
  {
   "cell_type": "markdown",
   "id": "057fbd07",
   "metadata": {},
   "source": [
    "Средняя доля кредитов с задолженностью по выборке - 8,1%.\n",
    "\n",
    "Доля кредитов с задолженностью выше средней по выборке среди заемщиков, имеющие следующие семейные статусы:\n",
    "\n",
    "- Не женат / не замужем - 9,75%;\n",
    "- гражданский брак - 9,32%.\n",
    "\n",
    "Доля кредитов с задолженностью ниже средней по выборке среди заемщиков, имеющие следующие семейные статусы:\n",
    "\n",
    "- в разводе - 7,11%;\n",
    "- вдовец / вдова - 6,56%;\n",
    "- женат / замужем - 7,54%.\n",
    "\n",
    "Можно сделать следующие выводы:\n",
    "- заемщики, состоящие в стабильных отношениях (женат / замужем) с большей гарантией вернут кредит, чем заемщики, живущие в гражданском браке и не состоящие в браке;\n",
    "- заемщики из групп \"в разводе\" и \"вдовец/вдова\" так же возвращают кредит лучше, чем в среднем по выборке; возможно это связано с тем, что в данные группы входят люди старшего возраста, имеющие более стабильное финансовое положение.\n",
    "- самыми ненадежными заемщиками являются группы \"не женат / не замужем\" и \"гражданский брак\". Можно сделать предположение, что в эти группы входят заемщики более молодого возраста, имеющие нестабильное финансовое положение.\n",
    "\n",
    "**Т.к. в выводах появилась гипотеза о связи возраста заемщика с его финансовым поведением, поверим эиу гипотезу.**"
   ]
  },
  {
   "cell_type": "code",
   "execution_count": 32,
   "id": "c265c103",
   "metadata": {
    "scrolled": true
   },
   "outputs": [
    {
     "name": "stdout",
     "output_type": "stream",
     "text": [
      "                       median  count\n",
      "family_status                       \n",
      "Не женат / не замужем      36   2810\n",
      "в разводе                  46   1195\n",
      "вдовец / вдова             58    959\n",
      "гражданский брак           41   4163\n",
      "женат / замужем            43  12344\n"
     ]
    }
   ],
   "source": [
    "print(df.groupby('family_status')['dob_years'].agg({'count', 'median'})) #рассчитаем медианный возраст заемщиков в группах по семеному статусу"
   ]
  },
  {
   "cell_type": "markdown",
   "id": "55f928f9",
   "metadata": {},
   "source": [
    "Расчет медианного возраста подтвердил гипотезу, описанную выше: заемщики в группах с более высоким риском задолженности по кредиту \"не женат / не замужем\" и \"гражданский брак\" моложе, чем заемщики в группах \"женат / замужем\", \"в разводе\" и \"вдовец/вдова\"."
   ]
  },
  {
   "cell_type": "markdown",
   "id": "e6cb662b",
   "metadata": {},
   "source": [
    "##### Вопрос 3: Есть ли зависимость между уровнем дохода и возвратом кредита в срок?"
   ]
  },
  {
   "cell_type": "markdown",
   "id": "1975eca1",
   "metadata": {},
   "source": [
    "Для ответа на данный вопрос сравним среднее значение для столбца debt (оно отображает долю кредитов с задолженностью по всей выборке) со средними значениями debt для групп заемщиков, относящихся к разным категориям по уровню дохода. Так же посчитаем, количество заемщиков в каждой группе."
   ]
  },
  {
   "cell_type": "code",
   "execution_count": 33,
   "id": "5b4eb978",
   "metadata": {},
   "outputs": [
    {
     "name": "stdout",
     "output_type": "stream",
     "text": [
      "0.08108611615667645\n",
      "                       count      mean\n",
      "total_income_category                 \n",
      "A                         25  0.080000\n",
      "B                       5042  0.070607\n",
      "C                      16032  0.084830\n",
      "D                        350  0.060000\n",
      "E                         22  0.090909\n"
     ]
    }
   ],
   "source": [
    "print(average_debt)\n",
    "print(df.groupby('total_income_category')['debt'].agg({'count', 'mean', }))"
   ]
  },
  {
   "cell_type": "markdown",
   "id": "e175e13f",
   "metadata": {},
   "source": [
    "##### Вывод 3:"
   ]
  },
  {
   "cell_type": "markdown",
   "id": "6e6f4d9c",
   "metadata": {},
   "source": [
    "При сравнении доли кредитов с задолженностью в разных категориях по уровню дохода можно сделать вывод, что риск возникновения задолженности не зависит от уровня дохода, т.к. для категории А (с самым высоким доходом) он сотавляет 8%, а для категории D (препоследняя по уровню дохода), 6%.\n",
    "\n",
    "Однако, т.к. общее число заемщиков в категориях A, B и E составляет незначительную часть выборки, основной вывод сформулируем на сравнии самых многочисленных категорий B и С. Для категории B доля кредитов с задолженностью равна 7%, что ниже средней на 1,1%. В категории С доля кредитов с задолженностью 8,48%, что выше средней на 0,38%. Исходя из этого можно сделать вывод, что риск задолженности по кредиту обратно пропорционален уровню доходов заемщика."
   ]
  },
  {
   "cell_type": "markdown",
   "id": "426e57a1",
   "metadata": {},
   "source": [
    "##### Вопрос 4: Как разные цели кредита влияют на его возврат в срок?"
   ]
  },
  {
   "cell_type": "markdown",
   "id": "a3a8c033",
   "metadata": {},
   "source": [
    "Для ответа на данный вопрос сравним среднее значение для столбца debt (оно отображает долю кредитов с задолженностью по всей выборке) со средними значениями debt для групп заемщиков, относящихся к разным категориям по цели кредита. Так же посчитаем, количество заемщиков в каждой группе."
   ]
  },
  {
   "cell_type": "code",
   "execution_count": 34,
   "id": "aeaf55e6",
   "metadata": {},
   "outputs": [
    {
     "name": "stdout",
     "output_type": "stream",
     "text": [
      "0.08108611615667645\n",
      "                          count      mean\n",
      "purpose_category                         \n",
      "операции с автомобилем     4308  0.093547\n",
      "операции с недвижимостью  10814  0.072314\n",
      "получение образования      4014  0.092177\n",
      "проведение свадьбы         2335  0.079657\n"
     ]
    }
   ],
   "source": [
    "print(average_debt)\n",
    "print(df.groupby('purpose_category')['debt'].agg({'count', 'mean', }))"
   ]
  },
  {
   "cell_type": "markdown",
   "id": "6cff1439",
   "metadata": {},
   "source": [
    "Цели получения кредита оказывают влияние на его возврат в срок - по кредитам на цели \"операции с недвижимостью\" и \"проведение свадьбы\" задолженность возникает реже, чем в среднем по выборке; по кредитам на цели \"операции с автомобилем\" и \"получение образования\" задолженность возникает чаще, чем в среднем по выборке."
   ]
  },
  {
   "cell_type": "markdown",
   "id": "de278d71",
   "metadata": {},
   "source": [
    "## Общий вывод:"
   ]
  },
  {
   "cell_type": "markdown",
   "id": "b57068a7",
   "metadata": {},
   "source": [
    "**Мы дали ответы на следующие вопросы:**\n",
    "\n",
    "\n",
    "1. Есть ли зависимость между количеством детей и возвратом кредита в срок?\n",
    "\n",
    "Чем больше детей в семье заемщика, тем выше риск невозврата кредиты в срок.\n",
    "\n",
    "\n",
    "2. Есть ли зависимость между семейным положением и возвратом кредита в срок?\n",
    "\n",
    "Заемщики, состоящие в стабильных отношениях (женат / замужем) с большей гарантией вернут кредит, чем заемщики, живущие в гражданском браке и не состоящие в браке;\n",
    "заемщики из групп \"в разводе\" и \"вдовец/вдова\" так же возвращают кредит лучше, чем в среднем по выборке.\n",
    "\n",
    "\n",
    "3. Есть ли зависимость между уровнем дохода и возвратом кредита в срок?\n",
    "\n",
    "Риск задолженности по кредиту обратно пропорционален уровню доходов заемщика.\n",
    "\n",
    "\n",
    "4. Как разные цели кредита влияют на его возврат в срок?\n",
    "\n",
    "Цели получения кредита оказывают влияние на его возврат в срок - по кредитам на цели \"операции с недвижимостью\" и \"проведение свадьбы\" задолженность возникает реже, чем в среднем по выборке; по кредитам на цели \"операции с автомобилем\" и \"получение образования\" задолженность возникает чаще, чем в среднем по выборке.\n",
    "\n",
    "**В процессе исследования были обнаружены проблемы со сбором данных:**\n",
    "1. Отрицательные и слишком большие значения с столбце children.\n",
    "2. Отрицательные и слишком большие значения с столбце days_employed.\n",
    "\n",
    "\n",
    "Необходимо обратить на это внимание сотрудников, занимающихся сбором данных. Можно рекомендовать при заполнении анкет заемщиков поставить проверку в данных полях на отрицательные значения и значения, превышающие максимальный лимит. Так же можно рекомендовать сбор данных о стаже вести в годах, т.к. эта метрика не менее информативная, но значительно проще к заполнению."
   ]
  }
 ],
 "metadata": {
  "ExecuteTimeLog": [
   {
    "duration": 997,
    "start_time": "2022-02-01T17:29:27.458Z"
   },
   {
    "duration": 113,
    "start_time": "2022-02-01T17:29:47.243Z"
   },
   {
    "duration": 29,
    "start_time": "2022-02-01T17:33:31.758Z"
   },
   {
    "duration": 18,
    "start_time": "2022-02-01T17:34:01.620Z"
   },
   {
    "duration": 13,
    "start_time": "2022-02-01T17:34:33.002Z"
   },
   {
    "duration": 17,
    "start_time": "2022-02-01T17:36:12.260Z"
   },
   {
    "duration": 16,
    "start_time": "2022-02-01T17:36:15.528Z"
   },
   {
    "duration": 132,
    "start_time": "2022-02-01T17:36:30.289Z"
   },
   {
    "duration": 14,
    "start_time": "2022-02-01T17:36:48.117Z"
   },
   {
    "duration": 15,
    "start_time": "2022-02-01T17:37:18.336Z"
   },
   {
    "duration": 17,
    "start_time": "2022-02-01T18:01:07.772Z"
   },
   {
    "duration": 16,
    "start_time": "2022-02-01T18:01:50.468Z"
   },
   {
    "duration": 35,
    "start_time": "2022-02-01T18:02:31.093Z"
   },
   {
    "duration": 51,
    "start_time": "2022-02-01T18:02:45.171Z"
   },
   {
    "duration": 77,
    "start_time": "2022-02-01T18:04:22.366Z"
   },
   {
    "duration": 389,
    "start_time": "2022-02-01T18:10:57.472Z"
   },
   {
    "duration": 300,
    "start_time": "2022-02-01T18:11:23.623Z"
   },
   {
    "duration": 11,
    "start_time": "2022-02-01T18:11:32.742Z"
   },
   {
    "duration": 22,
    "start_time": "2022-02-01T18:12:40.806Z"
   },
   {
    "duration": 45,
    "start_time": "2022-02-01T18:13:22.066Z"
   },
   {
    "duration": 8,
    "start_time": "2022-02-01T18:14:14.697Z"
   },
   {
    "duration": 322,
    "start_time": "2022-02-01T18:17:12.955Z"
   },
   {
    "duration": 321,
    "start_time": "2022-02-01T18:17:28.011Z"
   },
   {
    "duration": 14,
    "start_time": "2022-02-01T18:17:36.516Z"
   },
   {
    "duration": 16,
    "start_time": "2022-02-01T18:45:12.824Z"
   },
   {
    "duration": 601,
    "start_time": "2022-02-01T18:45:24.697Z"
   },
   {
    "duration": 15,
    "start_time": "2022-02-01T18:45:48.166Z"
   },
   {
    "duration": 8,
    "start_time": "2022-02-01T18:50:15.411Z"
   },
   {
    "duration": 4,
    "start_time": "2022-02-01T19:09:40.402Z"
   },
   {
    "duration": 108,
    "start_time": "2022-02-01T19:10:14.333Z"
   },
   {
    "duration": 6,
    "start_time": "2022-02-01T19:40:56.908Z"
   },
   {
    "duration": 29,
    "start_time": "2022-02-01T19:45:20.134Z"
   },
   {
    "duration": 38,
    "start_time": "2022-02-01T19:52:11.177Z"
   },
   {
    "duration": 47,
    "start_time": "2022-02-01T20:09:41.688Z"
   },
   {
    "duration": 26,
    "start_time": "2022-02-01T20:10:21.730Z"
   },
   {
    "duration": 4,
    "start_time": "2022-02-01T20:13:50.383Z"
   },
   {
    "duration": 114,
    "start_time": "2022-02-01T20:14:11.932Z"
   },
   {
    "duration": 7,
    "start_time": "2022-02-01T20:16:52.528Z"
   },
   {
    "duration": 97,
    "start_time": "2022-02-01T20:23:31.296Z"
   },
   {
    "duration": 28,
    "start_time": "2022-02-01T20:24:53.527Z"
   },
   {
    "duration": 113,
    "start_time": "2022-02-01T20:39:55.628Z"
   },
   {
    "duration": 5,
    "start_time": "2022-02-01T20:41:26.616Z"
   },
   {
    "duration": 6,
    "start_time": "2022-02-01T20:41:38.540Z"
   },
   {
    "duration": 9,
    "start_time": "2022-02-01T20:44:15.595Z"
   },
   {
    "duration": 9,
    "start_time": "2022-02-01T20:44:23.792Z"
   },
   {
    "duration": 13,
    "start_time": "2022-02-01T20:46:08.266Z"
   },
   {
    "duration": 13,
    "start_time": "2022-02-01T20:46:20.522Z"
   },
   {
    "duration": 7,
    "start_time": "2022-02-01T21:01:09.818Z"
   },
   {
    "duration": 109,
    "start_time": "2022-02-01T21:02:55.322Z"
   },
   {
    "duration": 7,
    "start_time": "2022-02-01T21:03:02.060Z"
   },
   {
    "duration": 5,
    "start_time": "2022-02-01T21:07:40.525Z"
   },
   {
    "duration": 7,
    "start_time": "2022-02-01T21:08:06.574Z"
   },
   {
    "duration": 104,
    "start_time": "2022-02-01T21:08:35.199Z"
   },
   {
    "duration": 7,
    "start_time": "2022-02-01T21:08:49.872Z"
   },
   {
    "duration": 114,
    "start_time": "2022-02-01T21:09:33.965Z"
   },
   {
    "duration": 4,
    "start_time": "2022-02-01T21:09:39.642Z"
   },
   {
    "duration": 8,
    "start_time": "2022-02-01T21:09:43.647Z"
   },
   {
    "duration": 6,
    "start_time": "2022-02-01T21:09:55.847Z"
   },
   {
    "duration": 7,
    "start_time": "2022-02-01T21:09:58.528Z"
   },
   {
    "duration": 5,
    "start_time": "2022-02-01T21:11:49.230Z"
   },
   {
    "duration": 7,
    "start_time": "2022-02-01T21:11:51.792Z"
   },
   {
    "duration": 4,
    "start_time": "2022-02-01T21:11:56.794Z"
   },
   {
    "duration": 9,
    "start_time": "2022-02-01T21:11:58.544Z"
   },
   {
    "duration": 5,
    "start_time": "2022-02-01T21:12:09.081Z"
   },
   {
    "duration": 7,
    "start_time": "2022-02-01T21:12:13.682Z"
   },
   {
    "duration": 72,
    "start_time": "2022-02-01T21:12:33.404Z"
   },
   {
    "duration": 20,
    "start_time": "2022-02-01T21:12:33.479Z"
   },
   {
    "duration": 19,
    "start_time": "2022-02-01T21:12:33.504Z"
   },
   {
    "duration": 61,
    "start_time": "2022-02-01T21:12:33.526Z"
   },
   {
    "duration": 15,
    "start_time": "2022-02-01T21:12:33.590Z"
   },
   {
    "duration": 6,
    "start_time": "2022-02-01T21:12:33.608Z"
   },
   {
    "duration": 56,
    "start_time": "2022-02-01T21:12:33.617Z"
   },
   {
    "duration": 8,
    "start_time": "2022-02-01T21:12:39.465Z"
   },
   {
    "duration": 70,
    "start_time": "2022-02-01T21:12:53.828Z"
   },
   {
    "duration": 19,
    "start_time": "2022-02-01T21:12:53.902Z"
   },
   {
    "duration": 47,
    "start_time": "2022-02-01T21:12:53.926Z"
   },
   {
    "duration": 23,
    "start_time": "2022-02-01T21:12:53.976Z"
   },
   {
    "duration": 11,
    "start_time": "2022-02-01T21:12:54.001Z"
   },
   {
    "duration": 6,
    "start_time": "2022-02-01T21:12:54.070Z"
   },
   {
    "duration": 9,
    "start_time": "2022-02-01T21:12:54.079Z"
   },
   {
    "duration": 11,
    "start_time": "2022-02-01T21:12:54.092Z"
   },
   {
    "duration": 71,
    "start_time": "2022-02-01T21:13:35.756Z"
   },
   {
    "duration": 41,
    "start_time": "2022-02-01T21:13:35.830Z"
   },
   {
    "duration": 19,
    "start_time": "2022-02-01T21:13:35.875Z"
   },
   {
    "duration": 71,
    "start_time": "2022-02-01T21:13:35.898Z"
   },
   {
    "duration": 18,
    "start_time": "2022-02-01T21:13:35.972Z"
   },
   {
    "duration": 8,
    "start_time": "2022-02-01T21:13:35.992Z"
   },
   {
    "duration": 5,
    "start_time": "2022-02-01T21:13:36.003Z"
   },
   {
    "duration": 61,
    "start_time": "2022-02-01T21:13:36.010Z"
   },
   {
    "duration": 17,
    "start_time": "2022-02-01T21:13:36.075Z"
   },
   {
    "duration": 22,
    "start_time": "2022-02-01T21:13:36.094Z"
   },
   {
    "duration": 96,
    "start_time": "2022-02-01T21:13:36.119Z"
   },
   {
    "duration": 57,
    "start_time": "2022-02-01T21:13:36.217Z"
   },
   {
    "duration": 46,
    "start_time": "2022-02-01T21:13:36.277Z"
   },
   {
    "duration": 112,
    "start_time": "2022-02-01T21:13:36.325Z"
   },
   {
    "duration": 36,
    "start_time": "2022-02-01T21:13:36.440Z"
   },
   {
    "duration": 15,
    "start_time": "2022-02-01T21:13:36.478Z"
   },
   {
    "duration": 6,
    "start_time": "2022-02-01T21:13:36.496Z"
   },
   {
    "duration": 8,
    "start_time": "2022-02-01T21:13:36.504Z"
   },
   {
    "duration": 58,
    "start_time": "2022-02-01T21:13:36.515Z"
   },
   {
    "duration": 31,
    "start_time": "2022-02-01T21:13:36.575Z"
   },
   {
    "duration": 79,
    "start_time": "2022-02-01T21:13:36.608Z"
   },
   {
    "duration": 14,
    "start_time": "2022-02-01T21:13:36.690Z"
   },
   {
    "duration": 14,
    "start_time": "2022-02-01T21:13:36.707Z"
   },
   {
    "duration": 68,
    "start_time": "2022-02-01T21:13:36.723Z"
   },
   {
    "duration": 17,
    "start_time": "2022-02-01T21:13:36.794Z"
   },
   {
    "duration": 273,
    "start_time": "2022-02-02T15:22:21.893Z"
   },
   {
    "duration": 634,
    "start_time": "2022-02-02T15:22:33.380Z"
   },
   {
    "duration": 20,
    "start_time": "2022-02-02T15:22:34.016Z"
   },
   {
    "duration": 10,
    "start_time": "2022-02-02T15:22:34.038Z"
   },
   {
    "duration": 14,
    "start_time": "2022-02-02T15:22:34.051Z"
   },
   {
    "duration": 45,
    "start_time": "2022-02-02T15:22:34.067Z"
   },
   {
    "duration": 6,
    "start_time": "2022-02-02T15:22:34.114Z"
   },
   {
    "duration": 9,
    "start_time": "2022-02-02T15:22:34.121Z"
   },
   {
    "duration": 9,
    "start_time": "2022-02-02T15:22:34.134Z"
   },
   {
    "duration": 23,
    "start_time": "2022-02-02T15:22:34.145Z"
   },
   {
    "duration": 16,
    "start_time": "2022-02-02T15:22:34.169Z"
   },
   {
    "duration": 55,
    "start_time": "2022-02-02T15:22:34.187Z"
   },
   {
    "duration": 16,
    "start_time": "2022-02-02T15:22:34.244Z"
   },
   {
    "duration": 67,
    "start_time": "2022-02-02T15:22:34.262Z"
   },
   {
    "duration": 58,
    "start_time": "2022-02-02T15:22:34.330Z"
   },
   {
    "duration": 11,
    "start_time": "2022-02-02T15:22:34.413Z"
   },
   {
    "duration": 9,
    "start_time": "2022-02-02T15:22:34.426Z"
   },
   {
    "duration": 5,
    "start_time": "2022-02-02T15:22:34.437Z"
   },
   {
    "duration": 7,
    "start_time": "2022-02-02T15:22:34.444Z"
   },
   {
    "duration": 13,
    "start_time": "2022-02-02T15:22:34.452Z"
   },
   {
    "duration": 63,
    "start_time": "2022-02-02T15:22:34.466Z"
   },
   {
    "duration": 18,
    "start_time": "2022-02-02T15:22:34.531Z"
   },
   {
    "duration": 4,
    "start_time": "2022-02-02T15:22:34.551Z"
   },
   {
    "duration": 5,
    "start_time": "2022-02-02T15:22:34.558Z"
   },
   {
    "duration": 59,
    "start_time": "2022-02-02T15:22:34.565Z"
   },
   {
    "duration": 12,
    "start_time": "2022-02-02T15:22:34.626Z"
   },
   {
    "duration": 7,
    "start_time": "2022-02-02T15:22:34.640Z"
   },
   {
    "duration": 58,
    "start_time": "2022-02-02T15:29:11.588Z"
   },
   {
    "duration": 12,
    "start_time": "2022-02-02T15:29:11.649Z"
   },
   {
    "duration": 9,
    "start_time": "2022-02-02T15:29:11.663Z"
   },
   {
    "duration": 43,
    "start_time": "2022-02-02T15:29:11.674Z"
   },
   {
    "duration": 9,
    "start_time": "2022-02-02T15:29:11.719Z"
   },
   {
    "duration": 5,
    "start_time": "2022-02-02T15:29:11.730Z"
   },
   {
    "duration": 5,
    "start_time": "2022-02-02T15:29:11.736Z"
   },
   {
    "duration": 5,
    "start_time": "2022-02-02T15:29:11.743Z"
   },
   {
    "duration": 12,
    "start_time": "2022-02-02T15:29:11.751Z"
   },
   {
    "duration": 56,
    "start_time": "2022-02-02T15:29:11.765Z"
   },
   {
    "duration": 29,
    "start_time": "2022-02-02T15:29:11.823Z"
   },
   {
    "duration": 17,
    "start_time": "2022-02-02T15:29:11.854Z"
   },
   {
    "duration": 68,
    "start_time": "2022-02-02T15:29:11.873Z"
   },
   {
    "duration": 80,
    "start_time": "2022-02-02T15:29:11.943Z"
   },
   {
    "duration": 11,
    "start_time": "2022-02-02T15:29:12.025Z"
   },
   {
    "duration": 11,
    "start_time": "2022-02-02T15:29:12.037Z"
   },
   {
    "duration": 6,
    "start_time": "2022-02-02T15:29:12.050Z"
   },
   {
    "duration": 5,
    "start_time": "2022-02-02T15:29:12.058Z"
   },
   {
    "duration": 47,
    "start_time": "2022-02-02T15:29:12.065Z"
   },
   {
    "duration": 30,
    "start_time": "2022-02-02T15:29:12.114Z"
   },
   {
    "duration": 22,
    "start_time": "2022-02-02T15:29:12.146Z"
   },
   {
    "duration": 3,
    "start_time": "2022-02-02T15:29:12.170Z"
   },
   {
    "duration": 37,
    "start_time": "2022-02-02T15:29:12.176Z"
   },
   {
    "duration": 19,
    "start_time": "2022-02-02T15:29:12.215Z"
   },
   {
    "duration": 14,
    "start_time": "2022-02-02T15:29:12.235Z"
   },
   {
    "duration": 8,
    "start_time": "2022-02-02T15:29:12.251Z"
   },
   {
    "duration": 9,
    "start_time": "2022-02-02T15:29:27.597Z"
   },
   {
    "duration": 9,
    "start_time": "2022-02-02T16:00:48.966Z"
   },
   {
    "duration": 10,
    "start_time": "2022-02-02T16:12:01.777Z"
   },
   {
    "duration": 9,
    "start_time": "2022-02-02T16:25:02.324Z"
   },
   {
    "duration": 9,
    "start_time": "2022-02-02T16:25:28.402Z"
   },
   {
    "duration": 9,
    "start_time": "2022-02-02T16:25:36.842Z"
   },
   {
    "duration": 10,
    "start_time": "2022-02-02T16:26:29.060Z"
   },
   {
    "duration": 10,
    "start_time": "2022-02-02T16:27:16.437Z"
   },
   {
    "duration": 8,
    "start_time": "2022-02-02T16:58:32.731Z"
   },
   {
    "duration": 9,
    "start_time": "2022-02-02T16:58:49.093Z"
   },
   {
    "duration": 10,
    "start_time": "2022-02-02T17:41:20.327Z"
   },
   {
    "duration": 861,
    "start_time": "2022-02-03T12:49:36.222Z"
   },
   {
    "duration": 29,
    "start_time": "2022-02-03T12:49:37.086Z"
   },
   {
    "duration": 28,
    "start_time": "2022-02-03T12:49:37.118Z"
   },
   {
    "duration": 21,
    "start_time": "2022-02-03T12:49:37.149Z"
   },
   {
    "duration": 15,
    "start_time": "2022-02-03T12:49:37.173Z"
   },
   {
    "duration": 9,
    "start_time": "2022-02-03T12:49:37.233Z"
   },
   {
    "duration": 7,
    "start_time": "2022-02-03T12:49:37.245Z"
   },
   {
    "duration": 12,
    "start_time": "2022-02-03T12:49:37.257Z"
   },
   {
    "duration": 62,
    "start_time": "2022-02-03T12:49:37.273Z"
   },
   {
    "duration": 23,
    "start_time": "2022-02-03T12:49:37.338Z"
   },
   {
    "duration": 29,
    "start_time": "2022-02-03T12:49:37.364Z"
   },
   {
    "duration": 65,
    "start_time": "2022-02-03T12:49:37.433Z"
   },
   {
    "duration": 59,
    "start_time": "2022-02-03T12:49:37.501Z"
   },
   {
    "duration": 85,
    "start_time": "2022-02-03T12:49:37.563Z"
   },
   {
    "duration": 110,
    "start_time": "2022-02-03T12:49:37.651Z"
   },
   {
    "duration": 15,
    "start_time": "2022-02-03T12:49:37.764Z"
   },
   {
    "duration": 15,
    "start_time": "2022-02-03T12:49:37.781Z"
   },
   {
    "duration": 38,
    "start_time": "2022-02-03T12:49:37.798Z"
   },
   {
    "duration": 10,
    "start_time": "2022-02-03T12:49:37.839Z"
   },
   {
    "duration": 15,
    "start_time": "2022-02-03T12:49:37.852Z"
   },
   {
    "duration": 68,
    "start_time": "2022-02-03T12:49:37.869Z"
   },
   {
    "duration": 30,
    "start_time": "2022-02-03T12:49:37.940Z"
   },
   {
    "duration": 4,
    "start_time": "2022-02-03T12:49:37.975Z"
   },
   {
    "duration": 8,
    "start_time": "2022-02-03T12:49:37.982Z"
   },
   {
    "duration": 79,
    "start_time": "2022-02-03T12:49:37.992Z"
   },
   {
    "duration": 19,
    "start_time": "2022-02-03T12:49:38.074Z"
   },
   {
    "duration": 49,
    "start_time": "2022-02-03T12:49:38.095Z"
   },
   {
    "duration": 17,
    "start_time": "2022-02-03T12:49:38.147Z"
   },
   {
    "duration": 24,
    "start_time": "2022-02-03T12:49:38.167Z"
   },
   {
    "duration": 20,
    "start_time": "2022-02-03T12:49:38.232Z"
   },
   {
    "duration": 463,
    "start_time": "2022-02-03T13:03:38.814Z"
   },
   {
    "duration": 32,
    "start_time": "2022-02-03T13:04:09.114Z"
   },
   {
    "duration": 15,
    "start_time": "2022-02-03T13:06:56.076Z"
   },
   {
    "duration": 19,
    "start_time": "2022-02-03T13:08:03.255Z"
   },
   {
    "duration": 22,
    "start_time": "2022-02-03T13:08:14.161Z"
   },
   {
    "duration": 10,
    "start_time": "2022-02-03T13:25:42.141Z"
   },
   {
    "duration": 633,
    "start_time": "2022-02-03T13:28:14.586Z"
   },
   {
    "duration": 95,
    "start_time": "2022-02-03T13:28:53.119Z"
   },
   {
    "duration": 6,
    "start_time": "2022-02-03T13:29:04.727Z"
   },
   {
    "duration": 136,
    "start_time": "2022-02-03T13:29:35.001Z"
   },
   {
    "duration": 5,
    "start_time": "2022-02-03T13:29:38.985Z"
   },
   {
    "duration": 330,
    "start_time": "2022-02-03T13:37:16.258Z"
   },
   {
    "duration": 22,
    "start_time": "2022-02-03T13:37:35.433Z"
   },
   {
    "duration": 106,
    "start_time": "2022-02-03T13:38:10.242Z"
   },
   {
    "duration": 292,
    "start_time": "2022-02-03T13:41:45.796Z"
   },
   {
    "duration": 13,
    "start_time": "2022-02-03T13:43:56.427Z"
   },
   {
    "duration": 15,
    "start_time": "2022-02-03T13:45:05.748Z"
   },
   {
    "duration": 10,
    "start_time": "2022-02-03T13:47:20.200Z"
   },
   {
    "duration": 10,
    "start_time": "2022-02-03T13:49:14.782Z"
   },
   {
    "duration": 16,
    "start_time": "2022-02-03T13:49:29.601Z"
   },
   {
    "duration": 18,
    "start_time": "2022-02-03T13:50:53.479Z"
   },
   {
    "duration": 16,
    "start_time": "2022-02-03T13:52:20.391Z"
   },
   {
    "duration": 23,
    "start_time": "2022-02-03T14:04:06.646Z"
   },
   {
    "duration": 29,
    "start_time": "2022-02-03T14:04:14.488Z"
   },
   {
    "duration": 21,
    "start_time": "2022-02-03T14:04:28.955Z"
   },
   {
    "duration": 36,
    "start_time": "2022-02-03T14:09:28.410Z"
   },
   {
    "duration": 7513,
    "start_time": "2022-02-03T14:09:44.748Z"
   },
   {
    "duration": 317,
    "start_time": "2022-02-03T14:10:29.094Z"
   },
   {
    "duration": 10,
    "start_time": "2022-02-03T14:10:42.133Z"
   },
   {
    "duration": 9,
    "start_time": "2022-02-03T15:32:51.273Z"
   },
   {
    "duration": 9,
    "start_time": "2022-02-03T15:32:58.263Z"
   },
   {
    "duration": 3,
    "start_time": "2022-02-03T16:10:19.182Z"
   },
   {
    "duration": 77,
    "start_time": "2022-02-03T16:17:25.370Z"
   },
   {
    "duration": 20,
    "start_time": "2022-02-03T16:17:25.450Z"
   },
   {
    "duration": 15,
    "start_time": "2022-02-03T16:17:25.473Z"
   },
   {
    "duration": 55,
    "start_time": "2022-02-03T16:17:25.490Z"
   },
   {
    "duration": 15,
    "start_time": "2022-02-03T16:17:25.548Z"
   },
   {
    "duration": 7,
    "start_time": "2022-02-03T16:17:25.566Z"
   },
   {
    "duration": 5,
    "start_time": "2022-02-03T16:17:25.575Z"
   },
   {
    "duration": 57,
    "start_time": "2022-02-03T16:17:25.584Z"
   },
   {
    "duration": 25,
    "start_time": "2022-02-03T16:17:25.644Z"
   },
   {
    "duration": 11,
    "start_time": "2022-02-03T16:17:25.671Z"
   },
   {
    "duration": 49,
    "start_time": "2022-02-03T16:17:25.685Z"
   },
   {
    "duration": 26,
    "start_time": "2022-02-03T16:17:25.737Z"
   },
   {
    "duration": 78,
    "start_time": "2022-02-03T16:17:25.766Z"
   },
   {
    "duration": 36,
    "start_time": "2022-02-03T16:17:25.846Z"
   },
   {
    "duration": 93,
    "start_time": "2022-02-03T16:17:25.885Z"
   },
   {
    "duration": 134,
    "start_time": "2022-02-03T16:17:25.982Z"
   },
   {
    "duration": 27,
    "start_time": "2022-02-03T16:17:26.120Z"
   },
   {
    "duration": 15,
    "start_time": "2022-02-03T16:17:26.150Z"
   },
   {
    "duration": 3,
    "start_time": "2022-02-03T16:17:26.168Z"
   },
   {
    "duration": 6,
    "start_time": "2022-02-03T16:17:26.173Z"
   },
   {
    "duration": 8,
    "start_time": "2022-02-03T16:17:26.181Z"
   },
   {
    "duration": 46,
    "start_time": "2022-02-03T16:17:26.234Z"
   },
   {
    "duration": 58,
    "start_time": "2022-02-03T16:17:26.286Z"
   },
   {
    "duration": 6,
    "start_time": "2022-02-03T16:17:26.348Z"
   },
   {
    "duration": 16,
    "start_time": "2022-02-03T16:17:26.358Z"
   },
   {
    "duration": 32,
    "start_time": "2022-02-03T16:17:26.377Z"
   },
   {
    "duration": 22,
    "start_time": "2022-02-03T16:17:26.432Z"
   },
   {
    "duration": 16,
    "start_time": "2022-02-03T16:17:26.456Z"
   },
   {
    "duration": 16,
    "start_time": "2022-02-03T16:17:26.475Z"
   },
   {
    "duration": 21,
    "start_time": "2022-02-03T16:17:26.534Z"
   },
   {
    "duration": 16,
    "start_time": "2022-02-03T16:17:26.558Z"
   },
   {
    "duration": 8,
    "start_time": "2022-02-03T16:17:45.477Z"
   },
   {
    "duration": 135,
    "start_time": "2022-02-03T16:18:45.058Z"
   },
   {
    "duration": 102,
    "start_time": "2022-02-03T16:25:18.861Z"
   },
   {
    "duration": 3,
    "start_time": "2022-02-03T16:25:31.185Z"
   },
   {
    "duration": 3,
    "start_time": "2022-02-03T16:25:36.320Z"
   },
   {
    "duration": 302,
    "start_time": "2022-02-03T16:49:13.592Z"
   },
   {
    "duration": 14,
    "start_time": "2022-02-03T16:49:26.516Z"
   },
   {
    "duration": 13,
    "start_time": "2022-02-03T16:51:23.848Z"
   },
   {
    "duration": 14,
    "start_time": "2022-02-03T16:51:51.815Z"
   },
   {
    "duration": 17,
    "start_time": "2022-02-03T16:51:59.936Z"
   },
   {
    "duration": 12,
    "start_time": "2022-02-03T16:52:16.054Z"
   },
   {
    "duration": 13,
    "start_time": "2022-02-03T16:52:22.166Z"
   },
   {
    "duration": 1024,
    "start_time": "2022-02-12T09:36:47.500Z"
   },
   {
    "duration": 80,
    "start_time": "2022-02-12T09:36:48.526Z"
   },
   {
    "duration": 10,
    "start_time": "2022-02-12T09:36:48.608Z"
   },
   {
    "duration": 79,
    "start_time": "2022-02-12T09:36:48.620Z"
   },
   {
    "duration": 12,
    "start_time": "2022-02-12T09:36:48.701Z"
   },
   {
    "duration": 7,
    "start_time": "2022-02-12T09:36:48.715Z"
   },
   {
    "duration": 8,
    "start_time": "2022-02-12T09:36:48.724Z"
   },
   {
    "duration": 73,
    "start_time": "2022-02-12T09:36:48.734Z"
   },
   {
    "duration": 89,
    "start_time": "2022-02-12T09:36:48.811Z"
   },
   {
    "duration": 9,
    "start_time": "2022-02-12T09:36:48.904Z"
   },
   {
    "duration": 89,
    "start_time": "2022-02-12T09:36:48.916Z"
   },
   {
    "duration": 14,
    "start_time": "2022-02-12T09:36:49.007Z"
   },
   {
    "duration": 96,
    "start_time": "2022-02-12T09:36:49.022Z"
   },
   {
    "duration": 19,
    "start_time": "2022-02-12T09:36:49.120Z"
   },
   {
    "duration": 46,
    "start_time": "2022-02-12T09:36:49.198Z"
   },
   {
    "duration": 126,
    "start_time": "2022-02-12T09:36:49.300Z"
   },
   {
    "duration": 11,
    "start_time": "2022-02-12T09:36:49.428Z"
   },
   {
    "duration": 66,
    "start_time": "2022-02-12T09:36:49.441Z"
   },
   {
    "duration": 2,
    "start_time": "2022-02-12T09:36:49.509Z"
   },
   {
    "duration": 5,
    "start_time": "2022-02-12T09:36:49.513Z"
   },
   {
    "duration": 7,
    "start_time": "2022-02-12T09:36:49.520Z"
   },
   {
    "duration": 90,
    "start_time": "2022-02-12T09:36:49.529Z"
   },
   {
    "duration": 81,
    "start_time": "2022-02-12T09:36:49.621Z"
   },
   {
    "duration": 3,
    "start_time": "2022-02-12T09:36:49.704Z"
   },
   {
    "duration": 9,
    "start_time": "2022-02-12T09:36:49.709Z"
   },
   {
    "duration": 84,
    "start_time": "2022-02-12T09:36:49.720Z"
   },
   {
    "duration": 12,
    "start_time": "2022-02-12T09:36:49.809Z"
   },
   {
    "duration": 9,
    "start_time": "2022-02-12T09:36:49.823Z"
   },
   {
    "duration": 11,
    "start_time": "2022-02-12T09:36:49.899Z"
   },
   {
    "duration": 11,
    "start_time": "2022-02-12T09:36:49.912Z"
   },
   {
    "duration": 83,
    "start_time": "2022-02-12T09:36:49.924Z"
   },
   {
    "duration": 336,
    "start_time": "2022-02-20T20:54:31.044Z"
   },
   {
    "duration": 826,
    "start_time": "2022-02-20T20:54:51.877Z"
   },
   {
    "duration": 33,
    "start_time": "2022-02-20T20:54:55.777Z"
   },
   {
    "duration": 69,
    "start_time": "2022-02-20T21:48:10.953Z"
   },
   {
    "duration": 19,
    "start_time": "2022-02-20T21:48:11.024Z"
   },
   {
    "duration": 54,
    "start_time": "2022-02-20T21:48:11.046Z"
   },
   {
    "duration": 16,
    "start_time": "2022-02-20T21:48:11.103Z"
   },
   {
    "duration": 12,
    "start_time": "2022-02-20T21:48:11.121Z"
   },
   {
    "duration": 8,
    "start_time": "2022-02-20T21:48:11.135Z"
   },
   {
    "duration": 50,
    "start_time": "2022-02-20T21:48:11.146Z"
   },
   {
    "duration": 7,
    "start_time": "2022-02-20T21:48:11.200Z"
   },
   {
    "duration": 22,
    "start_time": "2022-02-20T21:48:11.210Z"
   },
   {
    "duration": 61,
    "start_time": "2022-02-20T21:48:11.234Z"
   },
   {
    "duration": 18,
    "start_time": "2022-02-20T21:48:11.297Z"
   },
   {
    "duration": 27,
    "start_time": "2022-02-20T21:48:11.317Z"
   },
   {
    "duration": 50,
    "start_time": "2022-02-20T21:48:11.394Z"
   },
   {
    "duration": 49,
    "start_time": "2022-02-20T21:48:11.446Z"
   },
   {
    "duration": 46,
    "start_time": "2022-02-20T21:48:11.498Z"
   },
   {
    "duration": 115,
    "start_time": "2022-02-20T21:48:11.547Z"
   },
   {
    "duration": 35,
    "start_time": "2022-02-20T21:48:11.665Z"
   },
   {
    "duration": 12,
    "start_time": "2022-02-20T21:48:11.703Z"
   },
   {
    "duration": 6,
    "start_time": "2022-02-20T21:48:11.718Z"
   },
   {
    "duration": 12,
    "start_time": "2022-02-20T21:48:11.727Z"
   },
   {
    "duration": 53,
    "start_time": "2022-02-20T21:48:11.742Z"
   },
   {
    "duration": 33,
    "start_time": "2022-02-20T21:48:11.798Z"
   },
   {
    "duration": 60,
    "start_time": "2022-02-20T21:48:11.836Z"
   },
   {
    "duration": 4,
    "start_time": "2022-02-20T21:48:11.899Z"
   },
   {
    "duration": 10,
    "start_time": "2022-02-20T21:48:11.906Z"
   },
   {
    "duration": 84,
    "start_time": "2022-02-20T21:48:11.919Z"
   },
   {
    "duration": 20,
    "start_time": "2022-02-20T21:48:12.005Z"
   },
   {
    "duration": 18,
    "start_time": "2022-02-20T21:48:12.028Z"
   },
   {
    "duration": 18,
    "start_time": "2022-02-20T21:48:12.093Z"
   },
   {
    "duration": 12,
    "start_time": "2022-02-20T21:48:12.114Z"
   },
   {
    "duration": 66,
    "start_time": "2022-02-20T21:48:12.128Z"
   }
  ],
  "kernelspec": {
   "display_name": "Python 3 (ipykernel)",
   "language": "python",
   "name": "python3"
  },
  "language_info": {
   "codemirror_mode": {
    "name": "ipython",
    "version": 3
   },
   "file_extension": ".py",
   "mimetype": "text/x-python",
   "name": "python",
   "nbconvert_exporter": "python",
   "pygments_lexer": "ipython3",
   "version": "3.9.5"
  },
  "toc": {
   "base_numbering": 1,
   "nav_menu": {},
   "number_sections": true,
   "sideBar": true,
   "skip_h1_title": true,
   "title_cell": "Содержание",
   "title_sidebar": "Contents",
   "toc_cell": true,
   "toc_position": {},
   "toc_section_display": true,
   "toc_window_display": true
  }
 },
 "nbformat": 4,
 "nbformat_minor": 5
}
