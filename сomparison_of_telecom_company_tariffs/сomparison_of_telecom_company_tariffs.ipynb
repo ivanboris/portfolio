{
 "cells": [
  {
   "cell_type": "markdown",
   "metadata": {
    "toc": true
   },
   "source": [
    "<h1>Содержание<span class=\"tocSkip\"></span></h1>\n",
    "<div class=\"toc\"><ul class=\"toc-item\"><li><span><a href=\"#Изучение-данных-из-файлов\" data-toc-modified-id=\"Изучение-данных-из-файлов-1\"><span class=\"toc-item-num\">1&nbsp;&nbsp;</span>Изучение данных из файлов</a></span><ul class=\"toc-item\"><li><span><a href=\"#Таблица-users-(информация-о-пользователях)\" data-toc-modified-id=\"Таблица-users-(информация-о-пользователях)-1.1\"><span class=\"toc-item-num\">1.1&nbsp;&nbsp;</span>Таблица users (информация о пользователях)</a></span></li><li><span><a href=\"#Таблица-calls-(информация-о-звонках)\" data-toc-modified-id=\"Таблица-calls-(информация-о-звонках)-1.2\"><span class=\"toc-item-num\">1.2&nbsp;&nbsp;</span>Таблица calls (информация о звонках)</a></span></li><li><span><a href=\"#Таблица-messages-(информация-о-сообщениях)\" data-toc-modified-id=\"Таблица-messages-(информация-о-сообщениях)-1.3\"><span class=\"toc-item-num\">1.3&nbsp;&nbsp;</span>Таблица messages (информация о сообщениях)</a></span></li><li><span><a href=\"#Таблица-internet-(информация-об-интернет-сессиях)\" data-toc-modified-id=\"Таблица-internet-(информация-об-интернет-сессиях)-1.4\"><span class=\"toc-item-num\">1.4&nbsp;&nbsp;</span>Таблица internet (информация об интернет-сессиях)</a></span></li><li><span><a href=\"#Таблица-tariffs-(информация-о-тарифах)\" data-toc-modified-id=\"Таблица-tariffs-(информация-о-тарифах)-1.5\"><span class=\"toc-item-num\">1.5&nbsp;&nbsp;</span>Таблица tariffs (информация о тарифах)</a></span></li><li><span><a href=\"#Общий-вывод\" data-toc-modified-id=\"Общий-вывод-1.6\"><span class=\"toc-item-num\">1.6&nbsp;&nbsp;</span>Общий вывод</a></span></li></ul></li><li><span><a href=\"#Предобработка-данных\" data-toc-modified-id=\"Предобработка-данных-2\"><span class=\"toc-item-num\">2&nbsp;&nbsp;</span>Предобработка данных</a></span><ul class=\"toc-item\"><li><span><a href=\"#Удалим-столбец-'Unnamed:-0'-в-таблице-internet\" data-toc-modified-id=\"Удалим-столбец-'Unnamed:-0'-в-таблице-internet-2.1\"><span class=\"toc-item-num\">2.1&nbsp;&nbsp;</span>Удалим столбец 'Unnamed: 0' в таблице internet</a></span></li><li><span><a href=\"#Изменим-тип-данных-в-столбце-user_id\" data-toc-modified-id=\"Изменим-тип-данных-в-столбце-user_id-2.2\"><span class=\"toc-item-num\">2.2&nbsp;&nbsp;</span>Изменим тип данных в столбце user_id</a></span></li><li><span><a href=\"#Изменим-название-столбца-в-таблице-tariffs\" data-toc-modified-id=\"Изменим-название-столбца-в-таблице-tariffs-2.3\"><span class=\"toc-item-num\">2.3&nbsp;&nbsp;</span>Изменим название столбца в таблице tariffs</a></span></li><li><span><a href=\"#Изменим-тип-данных-в-столбцах-с-датой\" data-toc-modified-id=\"Изменим-тип-данных-в-столбцах-с-датой-2.4\"><span class=\"toc-item-num\">2.4&nbsp;&nbsp;</span>Изменим тип данных в столбцах с датой</a></span></li><li><span><a href=\"#Проверка-на-явные-дубликаты\" data-toc-modified-id=\"Проверка-на-явные-дубликаты-2.5\"><span class=\"toc-item-num\">2.5&nbsp;&nbsp;</span>Проверка на явные дубликаты</a></span></li></ul></li><li><span><a href=\"#Расчёты,-добавление-данных-в-таблицы,-подготовка-данных-к-анализу\" data-toc-modified-id=\"Расчёты,-добавление-данных-в-таблицы,-подготовка-данных-к-анализу-3\"><span class=\"toc-item-num\">3&nbsp;&nbsp;</span>Расчёты, добавление данных в таблицы, подготовка данных к анализу</a></span><ul class=\"toc-item\"><li><span><a href=\"#Добавим-в-таблицу-calls-столбец-с-округленными-данными-по-длительности-разговора,-а-так-же-столбцы-с-месяцами\" data-toc-modified-id=\"Добавим-в-таблицу-calls-столбец-с-округленными-данными-по-длительности-разговора,-а-так-же-столбцы-с-месяцами-3.1\"><span class=\"toc-item-num\">3.1&nbsp;&nbsp;</span>Добавим в таблицу calls столбец с округленными данными по длительности разговора, а так же столбцы с месяцами</a></span></li><li><span><a href=\"#Сгруппируем-таблицы-по-клиентам-и-просуммируем-количество-минут,-смс-и-трафика-помесячно\" data-toc-modified-id=\"Сгруппируем-таблицы-по-клиентам-и-просуммируем-количество-минут,-смс-и-трафика-помесячно-3.2\"><span class=\"toc-item-num\">3.2&nbsp;&nbsp;</span>Сгруппируем таблицы по клиентам и просуммируем количество минут, смс и трафика помесячно</a></span></li><li><span><a href=\"#Сведем-в-одну-таблицу-данные,-необходимые-для-расчетов-и-анализа\" data-toc-modified-id=\"Сведем-в-одну-таблицу-данные,-необходимые-для-расчетов-и-анализа-3.3\"><span class=\"toc-item-num\">3.3&nbsp;&nbsp;</span>Сведем в одну таблицу данные, необходимые для расчетов и анализа</a></span><ul class=\"toc-item\"><li><span><a href=\"#Объединим-данные-таблиц-calls-и-users\" data-toc-modified-id=\"Объединим-данные-таблиц-calls-и-users-3.3.1\"><span class=\"toc-item-num\">3.3.1&nbsp;&nbsp;</span>Объединим данные таблиц calls и users</a></span></li><li><span><a href=\"#Добавим-данные-по-тарифам-для-каждого-пользователя\" data-toc-modified-id=\"Добавим-данные-по-тарифам-для-каждого-пользователя-3.3.2\"><span class=\"toc-item-num\">3.3.2&nbsp;&nbsp;</span>Добавим данные по тарифам для каждого пользователя</a></span></li><li><span><a href=\"#Добавим-данные-по-опциям-тарифов\" data-toc-modified-id=\"Добавим-данные-по-опциям-тарифов-3.3.3\"><span class=\"toc-item-num\">3.3.3&nbsp;&nbsp;</span>Добавим данные по опциям тарифов</a></span></li><li><span><a href=\"#Добавим-столбец-с-тарифным-лимитом-интернет-трафика-в-гигабайтах\" data-toc-modified-id=\"Добавим-столбец-с-тарифным-лимитом-интернет-трафика-в-гигабайтах-3.3.4\"><span class=\"toc-item-num\">3.3.4&nbsp;&nbsp;</span>Добавим столбец с тарифным лимитом интернет трафика в гигабайтах</a></span></li><li><span><a href=\"#Проверим-полученный-датафрейм-на-пропуски\" data-toc-modified-id=\"Проверим-полученный-датафрейм-на-пропуски-3.3.5\"><span class=\"toc-item-num\">3.3.5&nbsp;&nbsp;</span>Проверим полученный датафрейм на пропуски</a></span></li><li><span><a href=\"#Проверим-типы-данных-в-столбцах-нового-датафрейма\" data-toc-modified-id=\"Проверим-типы-данных-в-столбцах-нового-датафрейма-3.3.6\"><span class=\"toc-item-num\">3.3.6&nbsp;&nbsp;</span>Проверим типы данных в столбцах нового датафрейма</a></span></li></ul></li><li><span><a href=\"#Рассчитаем-помесячную-выручку-с-каждого-клиента\" data-toc-modified-id=\"Рассчитаем-помесячную-выручку-с-каждого-клиента-3.4\"><span class=\"toc-item-num\">3.4&nbsp;&nbsp;</span>Рассчитаем помесячную выручку с каждого клиента</a></span></li></ul></li><li><span><a href=\"#Анализ-данных\" data-toc-modified-id=\"Анализ-данных-4\"><span class=\"toc-item-num\">4&nbsp;&nbsp;</span>Анализ данных</a></span><ul class=\"toc-item\"><li><span><a href=\"#Сколько-минут-разговора,-сколько-сообщений-и-какой-объём-интернет-трафика-требуется-пользователям-каждого-тарифа-в-месяц?\" data-toc-modified-id=\"Сколько-минут-разговора,-сколько-сообщений-и-какой-объём-интернет-трафика-требуется-пользователям-каждого-тарифа-в-месяц?-4.1\"><span class=\"toc-item-num\">4.1&nbsp;&nbsp;</span>Сколько минут разговора, сколько сообщений и какой объём интернет-трафика требуется пользователям каждого тарифа в месяц?</a></span></li><li><span><a href=\"#Посчитаем-среднее-количество,-дисперсию-и-стандартное-отклонение.-Построим-гистограммы-и-опишем-распределения.\" data-toc-modified-id=\"Посчитаем-среднее-количество,-дисперсию-и-стандартное-отклонение.-Построим-гистограммы-и-опишем-распределения.-4.2\"><span class=\"toc-item-num\">4.2&nbsp;&nbsp;</span>Посчитаем среднее количество, дисперсию и стандартное отклонение. Построим гистограммы и опишем распределения.</a></span><ul class=\"toc-item\"><li><span><a href=\"#Продолжительность-звонков\" data-toc-modified-id=\"Продолжительность-звонков-4.2.1\"><span class=\"toc-item-num\">4.2.1&nbsp;&nbsp;</span>Продолжительность звонков</a></span></li><li><span><a href=\"#Количество-сообщений\" data-toc-modified-id=\"Количество-сообщений-4.2.2\"><span class=\"toc-item-num\">4.2.2&nbsp;&nbsp;</span>Количество сообщений</a></span></li><li><span><a href=\"#Объем-интернет-трафика\" data-toc-modified-id=\"Объем-интернет-трафика-4.2.3\"><span class=\"toc-item-num\">4.2.3&nbsp;&nbsp;</span>Объем интернет-трафика</a></span></li></ul></li><li><span><a href=\"#Сравним-средние-значения-использования-пакетов-тарифа-и-выручки-от-клиента-для-пользователей-разных-тарифов\" data-toc-modified-id=\"Сравним-средние-значения-использования-пакетов-тарифа-и-выручки-от-клиента-для-пользователей-разных-тарифов-4.3\"><span class=\"toc-item-num\">4.3&nbsp;&nbsp;</span>Сравним средние значения использования пакетов тарифа и выручки от клиента для пользователей разных тарифов</a></span></li><li><span><a href=\"#Сравним-среднюю-переплату-по-тарифам\" data-toc-modified-id=\"Сравним-среднюю-переплату-по-тарифам-4.4\"><span class=\"toc-item-num\">4.4&nbsp;&nbsp;</span>Сравним среднюю переплату по тарифам</a></span></li></ul></li><li><span><a href=\"#Проверка-гипотез\" data-toc-modified-id=\"Проверка-гипотез-5\"><span class=\"toc-item-num\">5&nbsp;&nbsp;</span>Проверка гипотез</a></span><ul class=\"toc-item\"><li><span><a href=\"#Cредняя-выручка-пользователей-тарифов-«Ультра»-и-«Смарт»-различаются\" data-toc-modified-id=\"Cредняя-выручка-пользователей-тарифов-«Ультра»-и-«Смарт»-различаются-5.1\"><span class=\"toc-item-num\">5.1&nbsp;&nbsp;</span>Cредняя выручка пользователей тарифов «Ультра» и «Смарт» различаются</a></span><ul class=\"toc-item\"><li><span><a href=\"#Сформулируем-гипотезы:\" data-toc-modified-id=\"Сформулируем-гипотезы:-5.1.1\"><span class=\"toc-item-num\">5.1.1&nbsp;&nbsp;</span>Сформулируем гипотезы:</a></span></li><li><span><a href=\"#Подготовим-выборки-и-удалим-из-них-выбросы\" data-toc-modified-id=\"Подготовим-выборки-и-удалим-из-них-выбросы-5.1.2\"><span class=\"toc-item-num\">5.1.2&nbsp;&nbsp;</span>Подготовим выборки и удалим из них выбросы</a></span></li><li><span><a href=\"#Сделаем-проверку-гипотезы\" data-toc-modified-id=\"Сделаем-проверку-гипотезы-5.1.3\"><span class=\"toc-item-num\">5.1.3&nbsp;&nbsp;</span>Сделаем проверку гипотезы</a></span></li><li><span><a href=\"#Вывод\" data-toc-modified-id=\"Вывод-5.1.4\"><span class=\"toc-item-num\">5.1.4&nbsp;&nbsp;</span>Вывод</a></span></li></ul></li><li><span><a href=\"#Cредняя-выручка-пользователей-из-Москвы-отличается-от-выручки-пользователей-из-других-регионов.\" data-toc-modified-id=\"Cредняя-выручка-пользователей-из-Москвы-отличается-от-выручки-пользователей-из-других-регионов.-5.2\"><span class=\"toc-item-num\">5.2&nbsp;&nbsp;</span>Cредняя выручка пользователей из Москвы отличается от выручки пользователей из других регионов.</a></span><ul class=\"toc-item\"><li><span><a href=\"#Сформулируем-гипотезы:\" data-toc-modified-id=\"Сформулируем-гипотезы:-5.2.1\"><span class=\"toc-item-num\">5.2.1&nbsp;&nbsp;</span>Сформулируем гипотезы:</a></span></li><li><span><a href=\"#Подготовим-выборки-и-удалим-из-них-выбросы\" data-toc-modified-id=\"Подготовим-выборки-и-удалим-из-них-выбросы-5.2.2\"><span class=\"toc-item-num\">5.2.2&nbsp;&nbsp;</span>Подготовим выборки и удалим из них выбросы</a></span></li><li><span><a href=\"#Сделаем-проверку-гипотезы\" data-toc-modified-id=\"Сделаем-проверку-гипотезы-5.2.3\"><span class=\"toc-item-num\">5.2.3&nbsp;&nbsp;</span>Сделаем проверку гипотезы</a></span></li></ul></li></ul></li><li><span><a href=\"#Общий-вывод\" data-toc-modified-id=\"Общий-вывод-6\"><span class=\"toc-item-num\">6&nbsp;&nbsp;</span>Общий вывод</a></span></li></ul></div>"
   ]
  },
  {
   "cell_type": "markdown",
   "metadata": {},
   "source": [
    "# Определение перспективного тарифа для телеком-компании #"
   ]
  },
  {
   "cell_type": "markdown",
   "metadata": {},
   "source": [
    "**Данные**\n",
    "\n",
    "В проекте анализируются данные оператора сотовой связи:\n",
    "- Таблица 'users' — информация о пользователях\n",
    "- Таблица 'calls' — информация о звонках\n",
    "- Таблица 'messages' — информация о сообщениях\n",
    "- Таблица 'internet' — информация об интернет-сессиях\n",
    "- Таблица 'tariffs' — информация о тарифах\n",
    "\n",
    "\n",
    "**Цель исследования:** определить, какой из тарифов федерального мобильного оператора - «Смарт» или «Ультра» - приносит больше денег.\n",
    "\n",
    "**Ход исследования:**\n",
    " 1. Изучение данных из файлов.\n",
    " 2. Предобработка данных.\n",
    " 3. Расчёты и добавление результатов в таблицу\n",
    " 4. Анализ данных.\n",
    " 5. Проверка гипотез.\n",
    " 6. Общий вывод."
   ]
  },
  {
   "cell_type": "markdown",
   "metadata": {},
   "source": [
    "## Изучение данных из файлов"
   ]
  },
  {
   "cell_type": "code",
   "execution_count": 1,
   "metadata": {},
   "outputs": [],
   "source": [
    "import pandas as pd\n",
    "import numpy as np\n",
    "import matplotlib.pyplot as plt\n",
    "import warnings\n",
    "import math as mt\n",
    "from scipy import stats as st\n",
    "warnings.filterwarnings(\"ignore\")"
   ]
  },
  {
   "cell_type": "code",
   "execution_count": 2,
   "metadata": {},
   "outputs": [],
   "source": [
    "pd.set_option('display.max_columns', None)\n",
    "pd.options.display.float_format = '{:,.2f}'.format"
   ]
  },
  {
   "cell_type": "markdown",
   "metadata": {},
   "source": [
    "Напишем функцию для ознакомления с данными таблиц"
   ]
  },
  {
   "cell_type": "code",
   "execution_count": 3,
   "metadata": {},
   "outputs": [],
   "source": [
    "def data_info(data):\n",
    "        print(data.info())\n",
    "        print()\n",
    "        print(data.head(10))"
   ]
  },
  {
   "cell_type": "markdown",
   "metadata": {},
   "source": [
    "### Таблица users (информация о пользователях)"
   ]
  },
  {
   "cell_type": "code",
   "execution_count": 4,
   "metadata": {},
   "outputs": [
    {
     "name": "stdout",
     "output_type": "stream",
     "text": [
      "<class 'pandas.core.frame.DataFrame'>\n",
      "RangeIndex: 500 entries, 0 to 499\n",
      "Data columns (total 8 columns):\n",
      " #   Column      Non-Null Count  Dtype \n",
      "---  ------      --------------  ----- \n",
      " 0   user_id     500 non-null    int64 \n",
      " 1   age         500 non-null    int64 \n",
      " 2   churn_date  38 non-null     object\n",
      " 3   city        500 non-null    object\n",
      " 4   first_name  500 non-null    object\n",
      " 5   last_name   500 non-null    object\n",
      " 6   reg_date    500 non-null    object\n",
      " 7   tariff      500 non-null    object\n",
      "dtypes: int64(2), object(6)\n",
      "memory usage: 31.4+ KB\n",
      "None\n",
      "\n",
      "   user_id  age churn_date              city first_name  last_name  \\\n",
      "0     1000   52        NaN         Краснодар     Рафаил  Верещагин   \n",
      "1     1001   41        NaN            Москва       Иван       Ежов   \n",
      "2     1002   59        NaN       Стерлитамак    Евгений  Абрамович   \n",
      "3     1003   23        NaN            Москва      Белла   Белякова   \n",
      "4     1004   68        NaN       Новокузнецк    Татьяна   Авдеенко   \n",
      "5     1005   67        NaN  Набережные Челны   Афанасий     Горлов   \n",
      "6     1006   21        NaN         Ульяновск     Леонид   Ермолаев   \n",
      "7     1007   65        NaN            Москва        Юна   Березина   \n",
      "8     1008   63        NaN         Челябинск     Рустэм  Пономарёв   \n",
      "9     1009   24        NaN             Пермь   Василиса    Блинова   \n",
      "\n",
      "     reg_date tariff  \n",
      "0  2018-05-25  ultra  \n",
      "1  2018-11-01  smart  \n",
      "2  2018-06-17  smart  \n",
      "3  2018-08-17  ultra  \n",
      "4  2018-05-14  ultra  \n",
      "5  2018-01-25  smart  \n",
      "6  2018-02-26  smart  \n",
      "7  2018-04-19  smart  \n",
      "8  2018-12-19  smart  \n",
      "9  2018-03-22  smart  \n"
     ]
    }
   ],
   "source": [
    "users = pd.read_csv('/datasets/users.csv') #чтение файла с данными и сохранение в users\n",
    "data_info(users)"
   ]
  },
  {
   "cell_type": "code",
   "execution_count": 5,
   "metadata": {},
   "outputs": [
    {
     "data": {
      "text/html": [
       "<div>\n",
       "<style scoped>\n",
       "    .dataframe tbody tr th:only-of-type {\n",
       "        vertical-align: middle;\n",
       "    }\n",
       "\n",
       "    .dataframe tbody tr th {\n",
       "        vertical-align: top;\n",
       "    }\n",
       "\n",
       "    .dataframe thead th {\n",
       "        text-align: right;\n",
       "    }\n",
       "</style>\n",
       "<table border=\"1\" class=\"dataframe\">\n",
       "  <thead>\n",
       "    <tr style=\"text-align: right;\">\n",
       "      <th></th>\n",
       "      <th>user_id</th>\n",
       "      <th>age</th>\n",
       "    </tr>\n",
       "  </thead>\n",
       "  <tbody>\n",
       "    <tr>\n",
       "      <th>count</th>\n",
       "      <td>500.00</td>\n",
       "      <td>500.00</td>\n",
       "    </tr>\n",
       "    <tr>\n",
       "      <th>mean</th>\n",
       "      <td>1,249.50</td>\n",
       "      <td>46.59</td>\n",
       "    </tr>\n",
       "    <tr>\n",
       "      <th>std</th>\n",
       "      <td>144.48</td>\n",
       "      <td>16.67</td>\n",
       "    </tr>\n",
       "    <tr>\n",
       "      <th>min</th>\n",
       "      <td>1,000.00</td>\n",
       "      <td>18.00</td>\n",
       "    </tr>\n",
       "    <tr>\n",
       "      <th>25%</th>\n",
       "      <td>1,124.75</td>\n",
       "      <td>32.00</td>\n",
       "    </tr>\n",
       "    <tr>\n",
       "      <th>50%</th>\n",
       "      <td>1,249.50</td>\n",
       "      <td>46.00</td>\n",
       "    </tr>\n",
       "    <tr>\n",
       "      <th>75%</th>\n",
       "      <td>1,374.25</td>\n",
       "      <td>62.00</td>\n",
       "    </tr>\n",
       "    <tr>\n",
       "      <th>max</th>\n",
       "      <td>1,499.00</td>\n",
       "      <td>75.00</td>\n",
       "    </tr>\n",
       "  </tbody>\n",
       "</table>\n",
       "</div>"
      ],
      "text/plain": [
       "       user_id    age\n",
       "count   500.00 500.00\n",
       "mean  1,249.50  46.59\n",
       "std     144.48  16.67\n",
       "min   1,000.00  18.00\n",
       "25%   1,124.75  32.00\n",
       "50%   1,249.50  46.00\n",
       "75%   1,374.25  62.00\n",
       "max   1,499.00  75.00"
      ]
     },
     "execution_count": 5,
     "metadata": {},
     "output_type": "execute_result"
    }
   ],
   "source": [
    "users.describe()"
   ]
  },
  {
   "cell_type": "markdown",
   "metadata": {},
   "source": [
    "**Вывод**"
   ]
  },
  {
   "cell_type": "markdown",
   "metadata": {},
   "source": [
    "Таблица users имеет 500 строк и 7 столбцов. В таблице нет пропусков, за исключением столбца churn_date - но пропуски в нем допустимы согласно документации к задаче.\n",
    "\n",
    "Данные в таблице имеют типы object, int64.\n",
    "\n",
    "Данные в столбце age (возраст) выглядят корректными. \n",
    "\n",
    "Данные в столбце user_id относятся к категориальным, поэтому необходимо будет изменить их тип во время предобработки.\n",
    "\n",
    "Тип данных в столбце reg_date необходимо изменить на datetime64."
   ]
  },
  {
   "cell_type": "markdown",
   "metadata": {},
   "source": [
    "### Таблица calls (информация о звонках)"
   ]
  },
  {
   "cell_type": "code",
   "execution_count": 6,
   "metadata": {
    "scrolled": false
   },
   "outputs": [
    {
     "name": "stdout",
     "output_type": "stream",
     "text": [
      "<class 'pandas.core.frame.DataFrame'>\n",
      "RangeIndex: 202607 entries, 0 to 202606\n",
      "Data columns (total 4 columns):\n",
      " #   Column     Non-Null Count   Dtype  \n",
      "---  ------     --------------   -----  \n",
      " 0   id         202607 non-null  object \n",
      " 1   call_date  202607 non-null  object \n",
      " 2   duration   202607 non-null  float64\n",
      " 3   user_id    202607 non-null  int64  \n",
      "dtypes: float64(1), int64(1), object(2)\n",
      "memory usage: 6.2+ MB\n",
      "None\n",
      "\n",
      "       id   call_date  duration  user_id\n",
      "0  1000_0  2018-07-25      0.00     1000\n",
      "1  1000_1  2018-08-17      0.00     1000\n",
      "2  1000_2  2018-06-11      2.85     1000\n",
      "3  1000_3  2018-09-21     13.80     1000\n",
      "4  1000_4  2018-12-15      5.18     1000\n",
      "5  1000_5  2018-11-02      0.00     1000\n",
      "6  1000_6  2018-10-18      0.00     1000\n",
      "7  1000_7  2018-08-22     18.31     1000\n",
      "8  1000_8  2018-09-15     18.44     1000\n",
      "9  1000_9  2018-08-15      0.00     1000\n"
     ]
    }
   ],
   "source": [
    "calls = pd.read_csv('/datasets/calls.csv') #чтение файла с данными и сохранение в calls\n",
    "data_info(calls)"
   ]
  },
  {
   "cell_type": "code",
   "execution_count": 7,
   "metadata": {},
   "outputs": [
    {
     "data": {
      "text/html": [
       "<div>\n",
       "<style scoped>\n",
       "    .dataframe tbody tr th:only-of-type {\n",
       "        vertical-align: middle;\n",
       "    }\n",
       "\n",
       "    .dataframe tbody tr th {\n",
       "        vertical-align: top;\n",
       "    }\n",
       "\n",
       "    .dataframe thead th {\n",
       "        text-align: right;\n",
       "    }\n",
       "</style>\n",
       "<table border=\"1\" class=\"dataframe\">\n",
       "  <thead>\n",
       "    <tr style=\"text-align: right;\">\n",
       "      <th></th>\n",
       "      <th>duration</th>\n",
       "      <th>user_id</th>\n",
       "    </tr>\n",
       "  </thead>\n",
       "  <tbody>\n",
       "    <tr>\n",
       "      <th>count</th>\n",
       "      <td>202,607.00</td>\n",
       "      <td>202,607.00</td>\n",
       "    </tr>\n",
       "    <tr>\n",
       "      <th>mean</th>\n",
       "      <td>6.76</td>\n",
       "      <td>1,253.94</td>\n",
       "    </tr>\n",
       "    <tr>\n",
       "      <th>std</th>\n",
       "      <td>5.84</td>\n",
       "      <td>144.72</td>\n",
       "    </tr>\n",
       "    <tr>\n",
       "      <th>min</th>\n",
       "      <td>0.00</td>\n",
       "      <td>1,000.00</td>\n",
       "    </tr>\n",
       "    <tr>\n",
       "      <th>25%</th>\n",
       "      <td>1.30</td>\n",
       "      <td>1,126.00</td>\n",
       "    </tr>\n",
       "    <tr>\n",
       "      <th>50%</th>\n",
       "      <td>6.00</td>\n",
       "      <td>1,260.00</td>\n",
       "    </tr>\n",
       "    <tr>\n",
       "      <th>75%</th>\n",
       "      <td>10.70</td>\n",
       "      <td>1,379.00</td>\n",
       "    </tr>\n",
       "    <tr>\n",
       "      <th>max</th>\n",
       "      <td>38.00</td>\n",
       "      <td>1,499.00</td>\n",
       "    </tr>\n",
       "  </tbody>\n",
       "</table>\n",
       "</div>"
      ],
      "text/plain": [
       "        duration    user_id\n",
       "count 202,607.00 202,607.00\n",
       "mean        6.76   1,253.94\n",
       "std         5.84     144.72\n",
       "min         0.00   1,000.00\n",
       "25%         1.30   1,126.00\n",
       "50%         6.00   1,260.00\n",
       "75%        10.70   1,379.00\n",
       "max        38.00   1,499.00"
      ]
     },
     "execution_count": 7,
     "metadata": {},
     "output_type": "execute_result"
    }
   ],
   "source": [
    "calls.describe()"
   ]
  },
  {
   "cell_type": "markdown",
   "metadata": {},
   "source": [
    "**Вывод**"
   ]
  },
  {
   "cell_type": "markdown",
   "metadata": {},
   "source": [
    "Таблица calls имеет 202607 строк и 4 столбца. В таблице нет пропусков.\n",
    "\n",
    "Данные в таблице имеют типы object, float64, int64.\n",
    "\n",
    "Данные в столбце duration (длительность разговора) не имеют выбросов. На этапе расчетов необходимо будет добавить столбец с продолжительностью в минутах, округленных в большую сторону. \n",
    "\n",
    "Данные в столбце user_id относятся к категориальным, поэтому необходимо будет изменить их тип во время предобработки.\n",
    "\n",
    "Тип данных в столбце call_date необходимо изменить на datetime64."
   ]
  },
  {
   "cell_type": "markdown",
   "metadata": {},
   "source": [
    "### Таблица messages (информация о сообщениях)"
   ]
  },
  {
   "cell_type": "code",
   "execution_count": 8,
   "metadata": {
    "scrolled": false
   },
   "outputs": [
    {
     "name": "stdout",
     "output_type": "stream",
     "text": [
      "<class 'pandas.core.frame.DataFrame'>\n",
      "RangeIndex: 123036 entries, 0 to 123035\n",
      "Data columns (total 3 columns):\n",
      " #   Column        Non-Null Count   Dtype \n",
      "---  ------        --------------   ----- \n",
      " 0   id            123036 non-null  object\n",
      " 1   message_date  123036 non-null  object\n",
      " 2   user_id       123036 non-null  int64 \n",
      "dtypes: int64(1), object(2)\n",
      "memory usage: 2.8+ MB\n",
      "None\n",
      "\n",
      "       id message_date  user_id\n",
      "0  1000_0   2018-06-27     1000\n",
      "1  1000_1   2018-10-08     1000\n",
      "2  1000_2   2018-08-04     1000\n",
      "3  1000_3   2018-06-16     1000\n",
      "4  1000_4   2018-12-05     1000\n",
      "5  1000_5   2018-06-20     1000\n",
      "6  1000_6   2018-11-19     1000\n",
      "7  1000_7   2018-10-29     1000\n",
      "8  1000_8   2018-06-25     1000\n",
      "9  1000_9   2018-12-18     1000\n"
     ]
    }
   ],
   "source": [
    "messages = pd.read_csv('/datasets/messages.csv') #чтение файла с данными и сохранение в internet\n",
    "data_info(messages)"
   ]
  },
  {
   "cell_type": "markdown",
   "metadata": {},
   "source": [
    "**Вывод**"
   ]
  },
  {
   "cell_type": "markdown",
   "metadata": {},
   "source": [
    "Таблица messages имеет 123036 строк и 3 столбца. В таблице нет пропусков.\n",
    "\n",
    "Данные в таблице имеют типы object, int64.\n",
    "\n",
    "Данные в столбце user_id относятся к категориальным, поэтому необходимо будет изменить их тип во время предобработки.\n",
    "\n",
    "Тип данных в столбце message_date необходимо изменить на datetime64."
   ]
  },
  {
   "cell_type": "markdown",
   "metadata": {},
   "source": [
    "### Таблица internet (информация об интернет-сессиях)"
   ]
  },
  {
   "cell_type": "code",
   "execution_count": 9,
   "metadata": {
    "scrolled": false
   },
   "outputs": [
    {
     "name": "stdout",
     "output_type": "stream",
     "text": [
      "<class 'pandas.core.frame.DataFrame'>\n",
      "RangeIndex: 149396 entries, 0 to 149395\n",
      "Data columns (total 5 columns):\n",
      " #   Column        Non-Null Count   Dtype  \n",
      "---  ------        --------------   -----  \n",
      " 0   Unnamed: 0    149396 non-null  int64  \n",
      " 1   id            149396 non-null  object \n",
      " 2   mb_used       149396 non-null  float64\n",
      " 3   session_date  149396 non-null  object \n",
      " 4   user_id       149396 non-null  int64  \n",
      "dtypes: float64(1), int64(2), object(2)\n",
      "memory usage: 5.7+ MB\n",
      "None\n",
      "\n",
      "   Unnamed: 0      id  mb_used session_date  user_id\n",
      "0           0  1000_0   112.95   2018-11-25     1000\n",
      "1           1  1000_1 1,052.81   2018-09-07     1000\n",
      "2           2  1000_2 1,197.26   2018-06-25     1000\n",
      "3           3  1000_3   550.27   2018-08-22     1000\n",
      "4           4  1000_4   302.56   2018-09-24     1000\n",
      "5           5  1000_5   399.97   2018-10-02     1000\n",
      "6           6  1000_6   540.08   2018-09-07     1000\n",
      "7           7  1000_7   415.70   2018-07-11     1000\n",
      "8           8  1000_8   505.40   2018-10-08     1000\n",
      "9           9  1000_9   345.54   2018-09-03     1000\n"
     ]
    }
   ],
   "source": [
    "internet = pd.read_csv('/datasets/internet.csv') #чтение файла с данными и сохранение в internet\n",
    "data_info(internet)"
   ]
  },
  {
   "cell_type": "code",
   "execution_count": 10,
   "metadata": {
    "scrolled": false
   },
   "outputs": [
    {
     "data": {
      "text/html": [
       "<div>\n",
       "<style scoped>\n",
       "    .dataframe tbody tr th:only-of-type {\n",
       "        vertical-align: middle;\n",
       "    }\n",
       "\n",
       "    .dataframe tbody tr th {\n",
       "        vertical-align: top;\n",
       "    }\n",
       "\n",
       "    .dataframe thead th {\n",
       "        text-align: right;\n",
       "    }\n",
       "</style>\n",
       "<table border=\"1\" class=\"dataframe\">\n",
       "  <thead>\n",
       "    <tr style=\"text-align: right;\">\n",
       "      <th></th>\n",
       "      <th>Unnamed: 0</th>\n",
       "      <th>mb_used</th>\n",
       "      <th>user_id</th>\n",
       "    </tr>\n",
       "  </thead>\n",
       "  <tbody>\n",
       "    <tr>\n",
       "      <th>count</th>\n",
       "      <td>149,396.00</td>\n",
       "      <td>149,396.00</td>\n",
       "      <td>149,396.00</td>\n",
       "    </tr>\n",
       "    <tr>\n",
       "      <th>mean</th>\n",
       "      <td>74,697.50</td>\n",
       "      <td>370.19</td>\n",
       "      <td>1,252.10</td>\n",
       "    </tr>\n",
       "    <tr>\n",
       "      <th>std</th>\n",
       "      <td>43,127.05</td>\n",
       "      <td>278.30</td>\n",
       "      <td>144.05</td>\n",
       "    </tr>\n",
       "    <tr>\n",
       "      <th>min</th>\n",
       "      <td>0.00</td>\n",
       "      <td>0.00</td>\n",
       "      <td>1,000.00</td>\n",
       "    </tr>\n",
       "    <tr>\n",
       "      <th>25%</th>\n",
       "      <td>37,348.75</td>\n",
       "      <td>138.19</td>\n",
       "      <td>1,130.00</td>\n",
       "    </tr>\n",
       "    <tr>\n",
       "      <th>50%</th>\n",
       "      <td>74,697.50</td>\n",
       "      <td>348.01</td>\n",
       "      <td>1,251.00</td>\n",
       "    </tr>\n",
       "    <tr>\n",
       "      <th>75%</th>\n",
       "      <td>112,046.25</td>\n",
       "      <td>559.55</td>\n",
       "      <td>1,380.00</td>\n",
       "    </tr>\n",
       "    <tr>\n",
       "      <th>max</th>\n",
       "      <td>149,395.00</td>\n",
       "      <td>1,724.83</td>\n",
       "      <td>1,499.00</td>\n",
       "    </tr>\n",
       "  </tbody>\n",
       "</table>\n",
       "</div>"
      ],
      "text/plain": [
       "       Unnamed: 0    mb_used    user_id\n",
       "count  149,396.00 149,396.00 149,396.00\n",
       "mean    74,697.50     370.19   1,252.10\n",
       "std     43,127.05     278.30     144.05\n",
       "min          0.00       0.00   1,000.00\n",
       "25%     37,348.75     138.19   1,130.00\n",
       "50%     74,697.50     348.01   1,251.00\n",
       "75%    112,046.25     559.55   1,380.00\n",
       "max    149,395.00   1,724.83   1,499.00"
      ]
     },
     "execution_count": 10,
     "metadata": {},
     "output_type": "execute_result"
    }
   ],
   "source": [
    "internet.describe()"
   ]
  },
  {
   "cell_type": "markdown",
   "metadata": {},
   "source": [
    "**Вывод**"
   ]
  },
  {
   "cell_type": "markdown",
   "metadata": {},
   "source": [
    "Таблица internrt имеет 149396 строк и 5 столбцов. В таблице нет пропусков.\n",
    "\n",
    "Данные в таблице имеют типы object, float64, int64.\n",
    "\n",
    "Данные в столбце mb_used (объём интернет-трафика) не имеют выбросов. На этапе расчетов необходимо будет добавить столбец с объемом трафика в Гб, округленных в большую сторону. \n",
    "\n",
    "Данные в столбце user_id относятся к категориальным, поэтому необходимо будет изменить их тип во время предобработки. \n",
    "\n",
    "В таблице есть столбец 'Unnamed: 0' - этот столбец не описан в документации к задаче и содержит порядковый номер строки - необходимо будет удалить его во время предобработки.\n",
    "\n",
    "Тип данных в столбце session_date необходимо изменить на datetime64."
   ]
  },
  {
   "cell_type": "markdown",
   "metadata": {},
   "source": [
    "### Таблица tariffs (информация о тарифах)"
   ]
  },
  {
   "cell_type": "code",
   "execution_count": 11,
   "metadata": {
    "scrolled": true
   },
   "outputs": [
    {
     "name": "stdout",
     "output_type": "stream",
     "text": [
      "<class 'pandas.core.frame.DataFrame'>\n",
      "RangeIndex: 2 entries, 0 to 1\n",
      "Data columns (total 8 columns):\n",
      " #   Column                 Non-Null Count  Dtype \n",
      "---  ------                 --------------  ----- \n",
      " 0   messages_included      2 non-null      int64 \n",
      " 1   mb_per_month_included  2 non-null      int64 \n",
      " 2   minutes_included       2 non-null      int64 \n",
      " 3   rub_monthly_fee        2 non-null      int64 \n",
      " 4   rub_per_gb             2 non-null      int64 \n",
      " 5   rub_per_message        2 non-null      int64 \n",
      " 6   rub_per_minute         2 non-null      int64 \n",
      " 7   tariff_name            2 non-null      object\n",
      "dtypes: int64(7), object(1)\n",
      "memory usage: 256.0+ bytes\n",
      "None\n",
      "\n",
      "   messages_included  mb_per_month_included  minutes_included  \\\n",
      "0                 50                  15360               500   \n",
      "1               1000                  30720              3000   \n",
      "\n",
      "   rub_monthly_fee  rub_per_gb  rub_per_message  rub_per_minute tariff_name  \n",
      "0              550         200                3               3       smart  \n",
      "1             1950         150                1               1       ultra  \n"
     ]
    }
   ],
   "source": [
    "tariffs = pd.read_csv('/datasets/tariffs.csv') #чтение файла с данными и сохранение в internet\n",
    "data_info(tariffs)"
   ]
  },
  {
   "cell_type": "markdown",
   "metadata": {},
   "source": [
    "**Вывод**"
   ]
  },
  {
   "cell_type": "markdown",
   "metadata": {},
   "source": [
    "Таблица tariffs имеет 2 строк и 7 столбцов. В таблице нет пропусков.\n",
    "\n",
    "Данные в таблице имеют типы object, int64."
   ]
  },
  {
   "cell_type": "markdown",
   "metadata": {},
   "source": [
    "### Общий вывод"
   ]
  },
  {
   "cell_type": "markdown",
   "metadata": {},
   "source": [
    "1. В таблицах нет пропусков.\n",
    "2. Количественные данные в таблицах users, calls, internet выглядят корректными, без выбросов.\n",
    "\n",
    "На этапе предобработки:\n",
    "\n",
    "3. Тип данных в столбце user_id необходимо поменять на object во всех таблицах, в которых есть такой столбец.\n",
    "4. Необходимо удалить столбец 'Unnamed: 0' в таблице internet.\n",
    "5. Тип данных в столбцах с датами необходимо поменять на datetime64 во всех таблицах, в которых столбцы с датами.\n",
    "\n",
    "На этапе расчетов:\n",
    "\n",
    "6. Необходимо добавить столбец с продолжительностью в минутах, округленных в большую сторону.\n",
    "7. Необходимо добавить столбец с объемом трафика в Гб, округленных в большую сторону. "
   ]
  },
  {
   "cell_type": "markdown",
   "metadata": {},
   "source": [
    "## Предобработка данных"
   ]
  },
  {
   "cell_type": "markdown",
   "metadata": {},
   "source": [
    "### Удалим столбец 'Unnamed: 0' в таблице internet"
   ]
  },
  {
   "cell_type": "code",
   "execution_count": 12,
   "metadata": {},
   "outputs": [],
   "source": [
    "internet = internet.drop(['Unnamed: 0'], axis='columns')"
   ]
  },
  {
   "cell_type": "markdown",
   "metadata": {},
   "source": [
    "### Изменим тип данных в столбце user_id"
   ]
  },
  {
   "cell_type": "markdown",
   "metadata": {},
   "source": [
    "Напишем функцию для измнения типа данных в столбце user_id"
   ]
  },
  {
   "cell_type": "code",
   "execution_count": 13,
   "metadata": {},
   "outputs": [],
   "source": [
    "def type_user_id(data):\n",
    "    data = data.astype({'user_id':'object'}, errors='ignore') #изменение типа данных в столбце\n",
    "    print(data.dtypes) #вывод типов данных для проверки"
   ]
  },
  {
   "cell_type": "code",
   "execution_count": 14,
   "metadata": {
    "scrolled": false
   },
   "outputs": [
    {
     "name": "stdout",
     "output_type": "stream",
     "text": [
      "user_id       object\n",
      "age            int64\n",
      "churn_date    object\n",
      "city          object\n",
      "first_name    object\n",
      "last_name     object\n",
      "reg_date      object\n",
      "tariff        object\n",
      "dtype: object\n"
     ]
    }
   ],
   "source": [
    "type_user_id(users)"
   ]
  },
  {
   "cell_type": "code",
   "execution_count": 15,
   "metadata": {
    "scrolled": true
   },
   "outputs": [
    {
     "name": "stdout",
     "output_type": "stream",
     "text": [
      "id            object\n",
      "call_date     object\n",
      "duration     float64\n",
      "user_id       object\n",
      "dtype: object\n"
     ]
    }
   ],
   "source": [
    "type_user_id(calls)"
   ]
  },
  {
   "cell_type": "code",
   "execution_count": 16,
   "metadata": {},
   "outputs": [
    {
     "name": "stdout",
     "output_type": "stream",
     "text": [
      "id              object\n",
      "message_date    object\n",
      "user_id         object\n",
      "dtype: object\n"
     ]
    }
   ],
   "source": [
    "type_user_id(messages)"
   ]
  },
  {
   "cell_type": "code",
   "execution_count": 17,
   "metadata": {
    "scrolled": true
   },
   "outputs": [
    {
     "name": "stdout",
     "output_type": "stream",
     "text": [
      "id               object\n",
      "mb_used         float64\n",
      "session_date     object\n",
      "user_id          object\n",
      "dtype: object\n"
     ]
    }
   ],
   "source": [
    "type_user_id(internet)"
   ]
  },
  {
   "cell_type": "markdown",
   "metadata": {},
   "source": [
    "### Изменим название столбца в таблице tariffs"
   ]
  },
  {
   "cell_type": "markdown",
   "metadata": {},
   "source": [
    "Данное изменение упростит работу при объединении таблиц, т.к. аналогичные столбцы в таблицах users и tarrifs будут называться одинаково."
   ]
  },
  {
   "cell_type": "code",
   "execution_count": 18,
   "metadata": {},
   "outputs": [],
   "source": [
    "tariffs = tariffs.rename(columns={'tariff_name':'tariff'})"
   ]
  },
  {
   "cell_type": "markdown",
   "metadata": {},
   "source": [
    "### Изменим тип данных в столбцах с датой"
   ]
  },
  {
   "cell_type": "code",
   "execution_count": 19,
   "metadata": {},
   "outputs": [],
   "source": [
    "users['reg_date'] = pd.to_datetime(users['reg_date'], format=\"%Y-%m-%d\")\n",
    "calls['call_date'] = pd.to_datetime(calls['call_date'], format=\"%Y-%m-%d\")\n",
    "messages['message_date'] = pd.to_datetime(messages['message_date'], format=\"%Y-%m-%d\")\n",
    "internet['session_date'] = pd.to_datetime(internet['session_date'], format=\"%Y-%m-%d\")"
   ]
  },
  {
   "cell_type": "markdown",
   "metadata": {},
   "source": [
    "### Проверка на явные дубликаты"
   ]
  },
  {
   "cell_type": "markdown",
   "metadata": {},
   "source": [
    "Проверим таблицы (за исключением тарифов) на наличие явных дубликатов"
   ]
  },
  {
   "cell_type": "code",
   "execution_count": 20,
   "metadata": {
    "scrolled": true
   },
   "outputs": [
    {
     "name": "stdout",
     "output_type": "stream",
     "text": [
      "0\n",
      "0\n",
      "0\n",
      "0\n"
     ]
    }
   ],
   "source": [
    "print(users.duplicated().sum())\n",
    "print(calls.duplicated().sum())\n",
    "print(messages.duplicated().sum())\n",
    "print(internet.duplicated().sum())"
   ]
  },
  {
   "cell_type": "markdown",
   "metadata": {},
   "source": [
    "Явных дубликатов не обнаружено"
   ]
  },
  {
   "cell_type": "markdown",
   "metadata": {},
   "source": [
    "**Вывод**"
   ]
  },
  {
   "cell_type": "markdown",
   "metadata": {},
   "source": [
    "1. Тип данных в столбце user_id изменен на object во всех таблицах, в которых есть такой столбец.\n",
    "2. Удален столбец 'Unnamed: 0' в таблице internet.\n",
    "3. Тип данных в столбцах с датами изменен на datetime64 во всех таблицах, в которых столбцы с датами."
   ]
  },
  {
   "cell_type": "markdown",
   "metadata": {},
   "source": [
    "## Расчёты, добавление данных в таблицы, подготовка данных к анализу"
   ]
  },
  {
   "cell_type": "code",
   "execution_count": 21,
   "metadata": {},
   "outputs": [
    {
     "name": "stdout",
     "output_type": "stream",
     "text": [
      "39613\n",
      "19.55\n"
     ]
    }
   ],
   "source": [
    "print((calls['duration'] == 0).sum())\n",
    "print(round((calls['duration'] == 0).sum()/calls['duration'].count()*100, 2))"
   ]
  },
  {
   "cell_type": "code",
   "execution_count": 22,
   "metadata": {},
   "outputs": [
    {
     "name": "stdout",
     "output_type": "stream",
     "text": [
      "19598\n",
      "13.12\n"
     ]
    }
   ],
   "source": [
    "(internet['mb_used'] == 0).sum()\n",
    "print((internet['mb_used'] == 0).sum())\n",
    "print(round((internet['mb_used'] == 0).sum()/internet['mb_used'].count()*100, 2))"
   ]
  },
  {
   "cell_type": "markdown",
   "metadata": {},
   "source": [
    "### Добавим в таблицу calls столбец с округленными данными по длительности разговора, а так же столбцы с месяцами"
   ]
  },
  {
   "cell_type": "markdown",
   "metadata": {},
   "source": [
    "**calls**"
   ]
  },
  {
   "cell_type": "code",
   "execution_count": 23,
   "metadata": {
    "scrolled": true
   },
   "outputs": [
    {
     "data": {
      "text/html": [
       "<div>\n",
       "<style scoped>\n",
       "    .dataframe tbody tr th:only-of-type {\n",
       "        vertical-align: middle;\n",
       "    }\n",
       "\n",
       "    .dataframe tbody tr th {\n",
       "        vertical-align: top;\n",
       "    }\n",
       "\n",
       "    .dataframe thead th {\n",
       "        text-align: right;\n",
       "    }\n",
       "</style>\n",
       "<table border=\"1\" class=\"dataframe\">\n",
       "  <thead>\n",
       "    <tr style=\"text-align: right;\">\n",
       "      <th></th>\n",
       "      <th>id</th>\n",
       "      <th>call_date</th>\n",
       "      <th>duration</th>\n",
       "      <th>user_id</th>\n",
       "      <th>duration_min_month</th>\n",
       "      <th>month</th>\n",
       "    </tr>\n",
       "  </thead>\n",
       "  <tbody>\n",
       "    <tr>\n",
       "      <th>0</th>\n",
       "      <td>1000_0</td>\n",
       "      <td>2018-07-25</td>\n",
       "      <td>0.00</td>\n",
       "      <td>1000</td>\n",
       "      <td>0</td>\n",
       "      <td>July</td>\n",
       "    </tr>\n",
       "    <tr>\n",
       "      <th>1</th>\n",
       "      <td>1000_1</td>\n",
       "      <td>2018-08-17</td>\n",
       "      <td>0.00</td>\n",
       "      <td>1000</td>\n",
       "      <td>0</td>\n",
       "      <td>August</td>\n",
       "    </tr>\n",
       "    <tr>\n",
       "      <th>2</th>\n",
       "      <td>1000_2</td>\n",
       "      <td>2018-06-11</td>\n",
       "      <td>2.85</td>\n",
       "      <td>1000</td>\n",
       "      <td>3</td>\n",
       "      <td>June</td>\n",
       "    </tr>\n",
       "    <tr>\n",
       "      <th>3</th>\n",
       "      <td>1000_3</td>\n",
       "      <td>2018-09-21</td>\n",
       "      <td>13.80</td>\n",
       "      <td>1000</td>\n",
       "      <td>14</td>\n",
       "      <td>September</td>\n",
       "    </tr>\n",
       "    <tr>\n",
       "      <th>4</th>\n",
       "      <td>1000_4</td>\n",
       "      <td>2018-12-15</td>\n",
       "      <td>5.18</td>\n",
       "      <td>1000</td>\n",
       "      <td>6</td>\n",
       "      <td>December</td>\n",
       "    </tr>\n",
       "  </tbody>\n",
       "</table>\n",
       "</div>"
      ],
      "text/plain": [
       "       id  call_date  duration  user_id  duration_min_month      month\n",
       "0  1000_0 2018-07-25      0.00     1000                   0       July\n",
       "1  1000_1 2018-08-17      0.00     1000                   0     August\n",
       "2  1000_2 2018-06-11      2.85     1000                   3       June\n",
       "3  1000_3 2018-09-21     13.80     1000                  14  September\n",
       "4  1000_4 2018-12-15      5.18     1000                   6   December"
      ]
     },
     "execution_count": 23,
     "metadata": {},
     "output_type": "execute_result"
    }
   ],
   "source": [
    "calls['duration_min_month'] = np.ceil(calls['duration']).astype('int')\n",
    "calls['month'] = calls['call_date'].dt.month_name()\n",
    "calls.head() #проверим добавление столбцов"
   ]
  },
  {
   "cell_type": "code",
   "execution_count": 24,
   "metadata": {},
   "outputs": [
    {
     "name": "stdout",
     "output_type": "stream",
     "text": [
      "<class 'pandas.core.frame.DataFrame'>\n",
      "RangeIndex: 202607 entries, 0 to 202606\n",
      "Data columns (total 6 columns):\n",
      " #   Column              Non-Null Count   Dtype         \n",
      "---  ------              --------------   -----         \n",
      " 0   id                  202607 non-null  object        \n",
      " 1   call_date           202607 non-null  datetime64[ns]\n",
      " 2   duration            202607 non-null  float64       \n",
      " 3   user_id             202607 non-null  int64         \n",
      " 4   duration_min_month  202607 non-null  int64         \n",
      " 5   month               202607 non-null  object        \n",
      "dtypes: datetime64[ns](1), float64(1), int64(2), object(2)\n",
      "memory usage: 9.3+ MB\n"
     ]
    }
   ],
   "source": [
    "calls.info()"
   ]
  },
  {
   "cell_type": "markdown",
   "metadata": {},
   "source": [
    "**internet**"
   ]
  },
  {
   "cell_type": "code",
   "execution_count": 25,
   "metadata": {},
   "outputs": [
    {
     "name": "stdout",
     "output_type": "stream",
     "text": [
      "<class 'pandas.core.frame.DataFrame'>\n",
      "RangeIndex: 149396 entries, 0 to 149395\n",
      "Data columns (total 5 columns):\n",
      " #   Column        Non-Null Count   Dtype         \n",
      "---  ------        --------------   -----         \n",
      " 0   id            149396 non-null  object        \n",
      " 1   mb_used       149396 non-null  float64       \n",
      " 2   session_date  149396 non-null  datetime64[ns]\n",
      " 3   user_id       149396 non-null  int64         \n",
      " 4   month         149396 non-null  object        \n",
      "dtypes: datetime64[ns](1), float64(1), int64(1), object(2)\n",
      "memory usage: 5.7+ MB\n"
     ]
    }
   ],
   "source": [
    "internet['month'] = internet['session_date'].dt.month_name()\n",
    "internet.info() #проверим добавление столбца"
   ]
  },
  {
   "cell_type": "markdown",
   "metadata": {},
   "source": [
    "**messages**"
   ]
  },
  {
   "cell_type": "code",
   "execution_count": 26,
   "metadata": {},
   "outputs": [
    {
     "data": {
      "text/html": [
       "<div>\n",
       "<style scoped>\n",
       "    .dataframe tbody tr th:only-of-type {\n",
       "        vertical-align: middle;\n",
       "    }\n",
       "\n",
       "    .dataframe tbody tr th {\n",
       "        vertical-align: top;\n",
       "    }\n",
       "\n",
       "    .dataframe thead th {\n",
       "        text-align: right;\n",
       "    }\n",
       "</style>\n",
       "<table border=\"1\" class=\"dataframe\">\n",
       "  <thead>\n",
       "    <tr style=\"text-align: right;\">\n",
       "      <th></th>\n",
       "      <th>id</th>\n",
       "      <th>message_date</th>\n",
       "      <th>user_id</th>\n",
       "      <th>month</th>\n",
       "    </tr>\n",
       "  </thead>\n",
       "  <tbody>\n",
       "    <tr>\n",
       "      <th>0</th>\n",
       "      <td>1000_0</td>\n",
       "      <td>2018-06-27</td>\n",
       "      <td>1000</td>\n",
       "      <td>June</td>\n",
       "    </tr>\n",
       "    <tr>\n",
       "      <th>1</th>\n",
       "      <td>1000_1</td>\n",
       "      <td>2018-10-08</td>\n",
       "      <td>1000</td>\n",
       "      <td>October</td>\n",
       "    </tr>\n",
       "    <tr>\n",
       "      <th>2</th>\n",
       "      <td>1000_2</td>\n",
       "      <td>2018-08-04</td>\n",
       "      <td>1000</td>\n",
       "      <td>August</td>\n",
       "    </tr>\n",
       "    <tr>\n",
       "      <th>3</th>\n",
       "      <td>1000_3</td>\n",
       "      <td>2018-06-16</td>\n",
       "      <td>1000</td>\n",
       "      <td>June</td>\n",
       "    </tr>\n",
       "    <tr>\n",
       "      <th>4</th>\n",
       "      <td>1000_4</td>\n",
       "      <td>2018-12-05</td>\n",
       "      <td>1000</td>\n",
       "      <td>December</td>\n",
       "    </tr>\n",
       "  </tbody>\n",
       "</table>\n",
       "</div>"
      ],
      "text/plain": [
       "       id message_date  user_id     month\n",
       "0  1000_0   2018-06-27     1000      June\n",
       "1  1000_1   2018-10-08     1000   October\n",
       "2  1000_2   2018-08-04     1000    August\n",
       "3  1000_3   2018-06-16     1000      June\n",
       "4  1000_4   2018-12-05     1000  December"
      ]
     },
     "execution_count": 26,
     "metadata": {},
     "output_type": "execute_result"
    }
   ],
   "source": [
    "messages['month'] = messages['message_date'].dt.month_name()\n",
    "messages.head() #проверим добавление столбца"
   ]
  },
  {
   "cell_type": "markdown",
   "metadata": {},
   "source": [
    "### Сгруппируем таблицы по клиентам и просуммируем количество минут, смс и трафика помесячно"
   ]
  },
  {
   "cell_type": "markdown",
   "metadata": {},
   "source": [
    "**calls**"
   ]
  },
  {
   "cell_type": "code",
   "execution_count": 27,
   "metadata": {},
   "outputs": [
    {
     "data": {
      "text/html": [
       "<div>\n",
       "<style scoped>\n",
       "    .dataframe tbody tr th:only-of-type {\n",
       "        vertical-align: middle;\n",
       "    }\n",
       "\n",
       "    .dataframe tbody tr th {\n",
       "        vertical-align: top;\n",
       "    }\n",
       "\n",
       "    .dataframe thead th {\n",
       "        text-align: right;\n",
       "    }\n",
       "</style>\n",
       "<table border=\"1\" class=\"dataframe\">\n",
       "  <thead>\n",
       "    <tr style=\"text-align: right;\">\n",
       "      <th></th>\n",
       "      <th>user_id</th>\n",
       "      <th>month</th>\n",
       "      <th>duration_min_month</th>\n",
       "    </tr>\n",
       "  </thead>\n",
       "  <tbody>\n",
       "    <tr>\n",
       "      <th>0</th>\n",
       "      <td>1000</td>\n",
       "      <td>August</td>\n",
       "      <td>408</td>\n",
       "    </tr>\n",
       "    <tr>\n",
       "      <th>1</th>\n",
       "      <td>1000</td>\n",
       "      <td>December</td>\n",
       "      <td>333</td>\n",
       "    </tr>\n",
       "    <tr>\n",
       "      <th>2</th>\n",
       "      <td>1000</td>\n",
       "      <td>July</td>\n",
       "      <td>340</td>\n",
       "    </tr>\n",
       "    <tr>\n",
       "      <th>3</th>\n",
       "      <td>1000</td>\n",
       "      <td>June</td>\n",
       "      <td>172</td>\n",
       "    </tr>\n",
       "    <tr>\n",
       "      <th>4</th>\n",
       "      <td>1000</td>\n",
       "      <td>May</td>\n",
       "      <td>159</td>\n",
       "    </tr>\n",
       "    <tr>\n",
       "      <th>5</th>\n",
       "      <td>1000</td>\n",
       "      <td>November</td>\n",
       "      <td>338</td>\n",
       "    </tr>\n",
       "    <tr>\n",
       "      <th>6</th>\n",
       "      <td>1000</td>\n",
       "      <td>October</td>\n",
       "      <td>350</td>\n",
       "    </tr>\n",
       "    <tr>\n",
       "      <th>7</th>\n",
       "      <td>1000</td>\n",
       "      <td>September</td>\n",
       "      <td>466</td>\n",
       "    </tr>\n",
       "    <tr>\n",
       "      <th>8</th>\n",
       "      <td>1001</td>\n",
       "      <td>December</td>\n",
       "      <td>414</td>\n",
       "    </tr>\n",
       "    <tr>\n",
       "      <th>9</th>\n",
       "      <td>1001</td>\n",
       "      <td>November</td>\n",
       "      <td>430</td>\n",
       "    </tr>\n",
       "  </tbody>\n",
       "</table>\n",
       "</div>"
      ],
      "text/plain": [
       "   user_id      month  duration_min_month\n",
       "0     1000     August                 408\n",
       "1     1000   December                 333\n",
       "2     1000       July                 340\n",
       "3     1000       June                 172\n",
       "4     1000        May                 159\n",
       "5     1000   November                 338\n",
       "6     1000    October                 350\n",
       "7     1000  September                 466\n",
       "8     1001   December                 414\n",
       "9     1001   November                 430"
      ]
     },
     "execution_count": 27,
     "metadata": {},
     "output_type": "execute_result"
    }
   ],
   "source": [
    "calls_user = calls.groupby(['user_id', 'month'])['duration_min_month'].sum().reset_index()\n",
    "calls_user.head(10)"
   ]
  },
  {
   "cell_type": "markdown",
   "metadata": {},
   "source": [
    "**internet**"
   ]
  },
  {
   "cell_type": "code",
   "execution_count": 28,
   "metadata": {
    "scrolled": false
   },
   "outputs": [
    {
     "data": {
      "text/html": [
       "<div>\n",
       "<style scoped>\n",
       "    .dataframe tbody tr th:only-of-type {\n",
       "        vertical-align: middle;\n",
       "    }\n",
       "\n",
       "    .dataframe tbody tr th {\n",
       "        vertical-align: top;\n",
       "    }\n",
       "\n",
       "    .dataframe thead th {\n",
       "        text-align: right;\n",
       "    }\n",
       "</style>\n",
       "<table border=\"1\" class=\"dataframe\">\n",
       "  <thead>\n",
       "    <tr style=\"text-align: right;\">\n",
       "      <th></th>\n",
       "      <th>id</th>\n",
       "      <th>mb_used</th>\n",
       "      <th>session_date</th>\n",
       "      <th>user_id</th>\n",
       "      <th>month</th>\n",
       "    </tr>\n",
       "  </thead>\n",
       "  <tbody>\n",
       "    <tr>\n",
       "      <th>0</th>\n",
       "      <td>1000_0</td>\n",
       "      <td>112.95</td>\n",
       "      <td>2018-11-25</td>\n",
       "      <td>1000</td>\n",
       "      <td>November</td>\n",
       "    </tr>\n",
       "    <tr>\n",
       "      <th>1</th>\n",
       "      <td>1000_1</td>\n",
       "      <td>1,052.81</td>\n",
       "      <td>2018-09-07</td>\n",
       "      <td>1000</td>\n",
       "      <td>September</td>\n",
       "    </tr>\n",
       "    <tr>\n",
       "      <th>2</th>\n",
       "      <td>1000_2</td>\n",
       "      <td>1,197.26</td>\n",
       "      <td>2018-06-25</td>\n",
       "      <td>1000</td>\n",
       "      <td>June</td>\n",
       "    </tr>\n",
       "    <tr>\n",
       "      <th>3</th>\n",
       "      <td>1000_3</td>\n",
       "      <td>550.27</td>\n",
       "      <td>2018-08-22</td>\n",
       "      <td>1000</td>\n",
       "      <td>August</td>\n",
       "    </tr>\n",
       "    <tr>\n",
       "      <th>4</th>\n",
       "      <td>1000_4</td>\n",
       "      <td>302.56</td>\n",
       "      <td>2018-09-24</td>\n",
       "      <td>1000</td>\n",
       "      <td>September</td>\n",
       "    </tr>\n",
       "  </tbody>\n",
       "</table>\n",
       "</div>"
      ],
      "text/plain": [
       "       id  mb_used session_date  user_id      month\n",
       "0  1000_0   112.95   2018-11-25     1000   November\n",
       "1  1000_1 1,052.81   2018-09-07     1000  September\n",
       "2  1000_2 1,197.26   2018-06-25     1000       June\n",
       "3  1000_3   550.27   2018-08-22     1000     August\n",
       "4  1000_4   302.56   2018-09-24     1000  September"
      ]
     },
     "execution_count": 28,
     "metadata": {},
     "output_type": "execute_result"
    }
   ],
   "source": [
    "internet.head(5)"
   ]
  },
  {
   "cell_type": "code",
   "execution_count": 29,
   "metadata": {},
   "outputs": [
    {
     "name": "stdout",
     "output_type": "stream",
     "text": [
      "   user_id      month   mb_used  gb_used_month\n",
      "0     1000     August 14,055.93             14\n",
      "1     1000   December  9,817.61             10\n",
      "2     1000       July 14,003.64             14\n",
      "3     1000       June 23,233.77             23\n",
      "4     1000        May  2,253.49              3\n",
      "5     1000   November 14,756.47             15\n",
      "6     1000    October 14,702.49             15\n",
      "7     1000  September 14,568.91             15\n",
      "8     1001   December 14,036.66             14\n",
      "9     1001   November 18,429.34             18\n",
      "<class 'pandas.core.frame.DataFrame'>\n",
      "RangeIndex: 3203 entries, 0 to 3202\n",
      "Data columns (total 4 columns):\n",
      " #   Column         Non-Null Count  Dtype  \n",
      "---  ------         --------------  -----  \n",
      " 0   user_id        3203 non-null   int64  \n",
      " 1   month          3203 non-null   object \n",
      " 2   mb_used        3203 non-null   float64\n",
      " 3   gb_used_month  3203 non-null   int64  \n",
      "dtypes: float64(1), int64(2), object(1)\n",
      "memory usage: 100.2+ KB\n",
      "None\n"
     ]
    }
   ],
   "source": [
    "internet_user = internet.groupby(['user_id', 'month'])['mb_used'].sum().reset_index()\n",
    "internet_user['gb_used_month'] = np.ceil(internet_user['mb_used']/1024).astype('int')\n",
    "print(internet_user.head(10))\n",
    "print(internet_user.info())"
   ]
  },
  {
   "cell_type": "markdown",
   "metadata": {},
   "source": [
    "**messages**"
   ]
  },
  {
   "cell_type": "code",
   "execution_count": 30,
   "metadata": {},
   "outputs": [
    {
     "data": {
      "text/html": [
       "<div>\n",
       "<style scoped>\n",
       "    .dataframe tbody tr th:only-of-type {\n",
       "        vertical-align: middle;\n",
       "    }\n",
       "\n",
       "    .dataframe tbody tr th {\n",
       "        vertical-align: top;\n",
       "    }\n",
       "\n",
       "    .dataframe thead th {\n",
       "        text-align: right;\n",
       "    }\n",
       "</style>\n",
       "<table border=\"1\" class=\"dataframe\">\n",
       "  <thead>\n",
       "    <tr style=\"text-align: right;\">\n",
       "      <th></th>\n",
       "      <th>user_id</th>\n",
       "      <th>month</th>\n",
       "      <th>messages_month</th>\n",
       "    </tr>\n",
       "  </thead>\n",
       "  <tbody>\n",
       "    <tr>\n",
       "      <th>0</th>\n",
       "      <td>1000</td>\n",
       "      <td>August</td>\n",
       "      <td>81</td>\n",
       "    </tr>\n",
       "    <tr>\n",
       "      <th>1</th>\n",
       "      <td>1000</td>\n",
       "      <td>December</td>\n",
       "      <td>70</td>\n",
       "    </tr>\n",
       "    <tr>\n",
       "      <th>2</th>\n",
       "      <td>1000</td>\n",
       "      <td>July</td>\n",
       "      <td>75</td>\n",
       "    </tr>\n",
       "    <tr>\n",
       "      <th>3</th>\n",
       "      <td>1000</td>\n",
       "      <td>June</td>\n",
       "      <td>60</td>\n",
       "    </tr>\n",
       "    <tr>\n",
       "      <th>4</th>\n",
       "      <td>1000</td>\n",
       "      <td>May</td>\n",
       "      <td>22</td>\n",
       "    </tr>\n",
       "    <tr>\n",
       "      <th>5</th>\n",
       "      <td>1000</td>\n",
       "      <td>November</td>\n",
       "      <td>58</td>\n",
       "    </tr>\n",
       "    <tr>\n",
       "      <th>6</th>\n",
       "      <td>1000</td>\n",
       "      <td>October</td>\n",
       "      <td>73</td>\n",
       "    </tr>\n",
       "    <tr>\n",
       "      <th>7</th>\n",
       "      <td>1000</td>\n",
       "      <td>September</td>\n",
       "      <td>57</td>\n",
       "    </tr>\n",
       "    <tr>\n",
       "      <th>8</th>\n",
       "      <td>1002</td>\n",
       "      <td>August</td>\n",
       "      <td>13</td>\n",
       "    </tr>\n",
       "    <tr>\n",
       "      <th>9</th>\n",
       "      <td>1002</td>\n",
       "      <td>December</td>\n",
       "      <td>12</td>\n",
       "    </tr>\n",
       "  </tbody>\n",
       "</table>\n",
       "</div>"
      ],
      "text/plain": [
       "   user_id      month  messages_month\n",
       "0     1000     August              81\n",
       "1     1000   December              70\n",
       "2     1000       July              75\n",
       "3     1000       June              60\n",
       "4     1000        May              22\n",
       "5     1000   November              58\n",
       "6     1000    October              73\n",
       "7     1000  September              57\n",
       "8     1002     August              13\n",
       "9     1002   December              12"
      ]
     },
     "execution_count": 30,
     "metadata": {},
     "output_type": "execute_result"
    }
   ],
   "source": [
    "messages_user = messages.groupby(['user_id', 'month'])['id'].count().reset_index().rename(columns={'id':'messages_month'})\n",
    "messages_user.head(10)"
   ]
  },
  {
   "cell_type": "markdown",
   "metadata": {},
   "source": [
    "### Сведем в одну таблицу данные, необходимые для расчетов и анализа"
   ]
  },
  {
   "cell_type": "markdown",
   "metadata": {},
   "source": [
    "#### Объединим данные таблиц calls и users"
   ]
  },
  {
   "cell_type": "code",
   "execution_count": 31,
   "metadata": {},
   "outputs": [
    {
     "data": {
      "text/html": [
       "<div>\n",
       "<style scoped>\n",
       "    .dataframe tbody tr th:only-of-type {\n",
       "        vertical-align: middle;\n",
       "    }\n",
       "\n",
       "    .dataframe tbody tr th {\n",
       "        vertical-align: top;\n",
       "    }\n",
       "\n",
       "    .dataframe thead th {\n",
       "        text-align: right;\n",
       "    }\n",
       "</style>\n",
       "<table border=\"1\" class=\"dataframe\">\n",
       "  <thead>\n",
       "    <tr style=\"text-align: right;\">\n",
       "      <th></th>\n",
       "      <th>user_id</th>\n",
       "      <th>month</th>\n",
       "      <th>duration_min_month</th>\n",
       "      <th>messages_month</th>\n",
       "      <th>mb_used</th>\n",
       "      <th>gb_used_month</th>\n",
       "    </tr>\n",
       "  </thead>\n",
       "  <tbody>\n",
       "    <tr>\n",
       "      <th>0</th>\n",
       "      <td>1000</td>\n",
       "      <td>August</td>\n",
       "      <td>408.00</td>\n",
       "      <td>81.00</td>\n",
       "      <td>14,055.93</td>\n",
       "      <td>14.00</td>\n",
       "    </tr>\n",
       "    <tr>\n",
       "      <th>1</th>\n",
       "      <td>1000</td>\n",
       "      <td>December</td>\n",
       "      <td>333.00</td>\n",
       "      <td>70.00</td>\n",
       "      <td>9,817.61</td>\n",
       "      <td>10.00</td>\n",
       "    </tr>\n",
       "    <tr>\n",
       "      <th>2</th>\n",
       "      <td>1000</td>\n",
       "      <td>July</td>\n",
       "      <td>340.00</td>\n",
       "      <td>75.00</td>\n",
       "      <td>14,003.64</td>\n",
       "      <td>14.00</td>\n",
       "    </tr>\n",
       "    <tr>\n",
       "      <th>3</th>\n",
       "      <td>1000</td>\n",
       "      <td>June</td>\n",
       "      <td>172.00</td>\n",
       "      <td>60.00</td>\n",
       "      <td>23,233.77</td>\n",
       "      <td>23.00</td>\n",
       "    </tr>\n",
       "    <tr>\n",
       "      <th>4</th>\n",
       "      <td>1000</td>\n",
       "      <td>May</td>\n",
       "      <td>159.00</td>\n",
       "      <td>22.00</td>\n",
       "      <td>2,253.49</td>\n",
       "      <td>3.00</td>\n",
       "    </tr>\n",
       "    <tr>\n",
       "      <th>5</th>\n",
       "      <td>1000</td>\n",
       "      <td>November</td>\n",
       "      <td>338.00</td>\n",
       "      <td>58.00</td>\n",
       "      <td>14,756.47</td>\n",
       "      <td>15.00</td>\n",
       "    </tr>\n",
       "    <tr>\n",
       "      <th>6</th>\n",
       "      <td>1000</td>\n",
       "      <td>October</td>\n",
       "      <td>350.00</td>\n",
       "      <td>73.00</td>\n",
       "      <td>14,702.49</td>\n",
       "      <td>15.00</td>\n",
       "    </tr>\n",
       "    <tr>\n",
       "      <th>7</th>\n",
       "      <td>1000</td>\n",
       "      <td>September</td>\n",
       "      <td>466.00</td>\n",
       "      <td>57.00</td>\n",
       "      <td>14,568.91</td>\n",
       "      <td>15.00</td>\n",
       "    </tr>\n",
       "    <tr>\n",
       "      <th>8</th>\n",
       "      <td>1001</td>\n",
       "      <td>December</td>\n",
       "      <td>414.00</td>\n",
       "      <td>NaN</td>\n",
       "      <td>14,036.66</td>\n",
       "      <td>14.00</td>\n",
       "    </tr>\n",
       "    <tr>\n",
       "      <th>9</th>\n",
       "      <td>1001</td>\n",
       "      <td>November</td>\n",
       "      <td>430.00</td>\n",
       "      <td>NaN</td>\n",
       "      <td>18,429.34</td>\n",
       "      <td>18.00</td>\n",
       "    </tr>\n",
       "  </tbody>\n",
       "</table>\n",
       "</div>"
      ],
      "text/plain": [
       "   user_id      month  duration_min_month  messages_month   mb_used  \\\n",
       "0     1000     August              408.00           81.00 14,055.93   \n",
       "1     1000   December              333.00           70.00  9,817.61   \n",
       "2     1000       July              340.00           75.00 14,003.64   \n",
       "3     1000       June              172.00           60.00 23,233.77   \n",
       "4     1000        May              159.00           22.00  2,253.49   \n",
       "5     1000   November              338.00           58.00 14,756.47   \n",
       "6     1000    October              350.00           73.00 14,702.49   \n",
       "7     1000  September              466.00           57.00 14,568.91   \n",
       "8     1001   December              414.00             NaN 14,036.66   \n",
       "9     1001   November              430.00             NaN 18,429.34   \n",
       "\n",
       "   gb_used_month  \n",
       "0          14.00  \n",
       "1          10.00  \n",
       "2          14.00  \n",
       "3          23.00  \n",
       "4           3.00  \n",
       "5          15.00  \n",
       "6          15.00  \n",
       "7          15.00  \n",
       "8          14.00  \n",
       "9          18.00  "
      ]
     },
     "execution_count": 31,
     "metadata": {},
     "output_type": "execute_result"
    }
   ],
   "source": [
    "df = calls_user.merge(messages_user, on=['user_id','month'], how='outer').merge(internet_user, on=['user_id','month'], how='outer')\n",
    "df.head(10)"
   ]
  },
  {
   "cell_type": "markdown",
   "metadata": {},
   "source": [
    "#### Добавим данные по тарифам для каждого пользователя"
   ]
  },
  {
   "cell_type": "code",
   "execution_count": 32,
   "metadata": {
    "scrolled": true
   },
   "outputs": [
    {
     "data": {
      "text/html": [
       "<div>\n",
       "<style scoped>\n",
       "    .dataframe tbody tr th:only-of-type {\n",
       "        vertical-align: middle;\n",
       "    }\n",
       "\n",
       "    .dataframe tbody tr th {\n",
       "        vertical-align: top;\n",
       "    }\n",
       "\n",
       "    .dataframe thead th {\n",
       "        text-align: right;\n",
       "    }\n",
       "</style>\n",
       "<table border=\"1\" class=\"dataframe\">\n",
       "  <thead>\n",
       "    <tr style=\"text-align: right;\">\n",
       "      <th></th>\n",
       "      <th>user_id</th>\n",
       "      <th>month</th>\n",
       "      <th>duration_min_month</th>\n",
       "      <th>messages_month</th>\n",
       "      <th>mb_used</th>\n",
       "      <th>gb_used_month</th>\n",
       "      <th>age</th>\n",
       "      <th>churn_date</th>\n",
       "      <th>city</th>\n",
       "      <th>first_name</th>\n",
       "      <th>last_name</th>\n",
       "      <th>reg_date</th>\n",
       "      <th>tariff</th>\n",
       "    </tr>\n",
       "  </thead>\n",
       "  <tbody>\n",
       "    <tr>\n",
       "      <th>0</th>\n",
       "      <td>1000</td>\n",
       "      <td>August</td>\n",
       "      <td>408.00</td>\n",
       "      <td>81.00</td>\n",
       "      <td>14,055.93</td>\n",
       "      <td>14.00</td>\n",
       "      <td>52</td>\n",
       "      <td>NaN</td>\n",
       "      <td>Краснодар</td>\n",
       "      <td>Рафаил</td>\n",
       "      <td>Верещагин</td>\n",
       "      <td>2018-05-25</td>\n",
       "      <td>ultra</td>\n",
       "    </tr>\n",
       "    <tr>\n",
       "      <th>1</th>\n",
       "      <td>1000</td>\n",
       "      <td>December</td>\n",
       "      <td>333.00</td>\n",
       "      <td>70.00</td>\n",
       "      <td>9,817.61</td>\n",
       "      <td>10.00</td>\n",
       "      <td>52</td>\n",
       "      <td>NaN</td>\n",
       "      <td>Краснодар</td>\n",
       "      <td>Рафаил</td>\n",
       "      <td>Верещагин</td>\n",
       "      <td>2018-05-25</td>\n",
       "      <td>ultra</td>\n",
       "    </tr>\n",
       "    <tr>\n",
       "      <th>2</th>\n",
       "      <td>1000</td>\n",
       "      <td>July</td>\n",
       "      <td>340.00</td>\n",
       "      <td>75.00</td>\n",
       "      <td>14,003.64</td>\n",
       "      <td>14.00</td>\n",
       "      <td>52</td>\n",
       "      <td>NaN</td>\n",
       "      <td>Краснодар</td>\n",
       "      <td>Рафаил</td>\n",
       "      <td>Верещагин</td>\n",
       "      <td>2018-05-25</td>\n",
       "      <td>ultra</td>\n",
       "    </tr>\n",
       "    <tr>\n",
       "      <th>3</th>\n",
       "      <td>1000</td>\n",
       "      <td>June</td>\n",
       "      <td>172.00</td>\n",
       "      <td>60.00</td>\n",
       "      <td>23,233.77</td>\n",
       "      <td>23.00</td>\n",
       "      <td>52</td>\n",
       "      <td>NaN</td>\n",
       "      <td>Краснодар</td>\n",
       "      <td>Рафаил</td>\n",
       "      <td>Верещагин</td>\n",
       "      <td>2018-05-25</td>\n",
       "      <td>ultra</td>\n",
       "    </tr>\n",
       "    <tr>\n",
       "      <th>4</th>\n",
       "      <td>1000</td>\n",
       "      <td>May</td>\n",
       "      <td>159.00</td>\n",
       "      <td>22.00</td>\n",
       "      <td>2,253.49</td>\n",
       "      <td>3.00</td>\n",
       "      <td>52</td>\n",
       "      <td>NaN</td>\n",
       "      <td>Краснодар</td>\n",
       "      <td>Рафаил</td>\n",
       "      <td>Верещагин</td>\n",
       "      <td>2018-05-25</td>\n",
       "      <td>ultra</td>\n",
       "    </tr>\n",
       "    <tr>\n",
       "      <th>5</th>\n",
       "      <td>1000</td>\n",
       "      <td>November</td>\n",
       "      <td>338.00</td>\n",
       "      <td>58.00</td>\n",
       "      <td>14,756.47</td>\n",
       "      <td>15.00</td>\n",
       "      <td>52</td>\n",
       "      <td>NaN</td>\n",
       "      <td>Краснодар</td>\n",
       "      <td>Рафаил</td>\n",
       "      <td>Верещагин</td>\n",
       "      <td>2018-05-25</td>\n",
       "      <td>ultra</td>\n",
       "    </tr>\n",
       "    <tr>\n",
       "      <th>6</th>\n",
       "      <td>1000</td>\n",
       "      <td>October</td>\n",
       "      <td>350.00</td>\n",
       "      <td>73.00</td>\n",
       "      <td>14,702.49</td>\n",
       "      <td>15.00</td>\n",
       "      <td>52</td>\n",
       "      <td>NaN</td>\n",
       "      <td>Краснодар</td>\n",
       "      <td>Рафаил</td>\n",
       "      <td>Верещагин</td>\n",
       "      <td>2018-05-25</td>\n",
       "      <td>ultra</td>\n",
       "    </tr>\n",
       "    <tr>\n",
       "      <th>7</th>\n",
       "      <td>1000</td>\n",
       "      <td>September</td>\n",
       "      <td>466.00</td>\n",
       "      <td>57.00</td>\n",
       "      <td>14,568.91</td>\n",
       "      <td>15.00</td>\n",
       "      <td>52</td>\n",
       "      <td>NaN</td>\n",
       "      <td>Краснодар</td>\n",
       "      <td>Рафаил</td>\n",
       "      <td>Верещагин</td>\n",
       "      <td>2018-05-25</td>\n",
       "      <td>ultra</td>\n",
       "    </tr>\n",
       "    <tr>\n",
       "      <th>8</th>\n",
       "      <td>1001</td>\n",
       "      <td>December</td>\n",
       "      <td>414.00</td>\n",
       "      <td>NaN</td>\n",
       "      <td>14,036.66</td>\n",
       "      <td>14.00</td>\n",
       "      <td>41</td>\n",
       "      <td>NaN</td>\n",
       "      <td>Москва</td>\n",
       "      <td>Иван</td>\n",
       "      <td>Ежов</td>\n",
       "      <td>2018-11-01</td>\n",
       "      <td>smart</td>\n",
       "    </tr>\n",
       "    <tr>\n",
       "      <th>9</th>\n",
       "      <td>1001</td>\n",
       "      <td>November</td>\n",
       "      <td>430.00</td>\n",
       "      <td>NaN</td>\n",
       "      <td>18,429.34</td>\n",
       "      <td>18.00</td>\n",
       "      <td>41</td>\n",
       "      <td>NaN</td>\n",
       "      <td>Москва</td>\n",
       "      <td>Иван</td>\n",
       "      <td>Ежов</td>\n",
       "      <td>2018-11-01</td>\n",
       "      <td>smart</td>\n",
       "    </tr>\n",
       "  </tbody>\n",
       "</table>\n",
       "</div>"
      ],
      "text/plain": [
       "   user_id      month  duration_min_month  messages_month   mb_used  \\\n",
       "0     1000     August              408.00           81.00 14,055.93   \n",
       "1     1000   December              333.00           70.00  9,817.61   \n",
       "2     1000       July              340.00           75.00 14,003.64   \n",
       "3     1000       June              172.00           60.00 23,233.77   \n",
       "4     1000        May              159.00           22.00  2,253.49   \n",
       "5     1000   November              338.00           58.00 14,756.47   \n",
       "6     1000    October              350.00           73.00 14,702.49   \n",
       "7     1000  September              466.00           57.00 14,568.91   \n",
       "8     1001   December              414.00             NaN 14,036.66   \n",
       "9     1001   November              430.00             NaN 18,429.34   \n",
       "\n",
       "   gb_used_month  age churn_date       city first_name  last_name   reg_date  \\\n",
       "0          14.00   52        NaN  Краснодар     Рафаил  Верещагин 2018-05-25   \n",
       "1          10.00   52        NaN  Краснодар     Рафаил  Верещагин 2018-05-25   \n",
       "2          14.00   52        NaN  Краснодар     Рафаил  Верещагин 2018-05-25   \n",
       "3          23.00   52        NaN  Краснодар     Рафаил  Верещагин 2018-05-25   \n",
       "4           3.00   52        NaN  Краснодар     Рафаил  Верещагин 2018-05-25   \n",
       "5          15.00   52        NaN  Краснодар     Рафаил  Верещагин 2018-05-25   \n",
       "6          15.00   52        NaN  Краснодар     Рафаил  Верещагин 2018-05-25   \n",
       "7          15.00   52        NaN  Краснодар     Рафаил  Верещагин 2018-05-25   \n",
       "8          14.00   41        NaN     Москва       Иван       Ежов 2018-11-01   \n",
       "9          18.00   41        NaN     Москва       Иван       Ежов 2018-11-01   \n",
       "\n",
       "  tariff  \n",
       "0  ultra  \n",
       "1  ultra  \n",
       "2  ultra  \n",
       "3  ultra  \n",
       "4  ultra  \n",
       "5  ultra  \n",
       "6  ultra  \n",
       "7  ultra  \n",
       "8  smart  \n",
       "9  smart  "
      ]
     },
     "execution_count": 32,
     "metadata": {},
     "output_type": "execute_result"
    }
   ],
   "source": [
    "df = df.merge(users, on='user_id', how='outer')\n",
    "df.head(10)"
   ]
  },
  {
   "cell_type": "markdown",
   "metadata": {},
   "source": [
    "#### Добавим данные по опциям тарифов"
   ]
  },
  {
   "cell_type": "code",
   "execution_count": 33,
   "metadata": {
    "scrolled": true
   },
   "outputs": [
    {
     "data": {
      "text/html": [
       "<div>\n",
       "<style scoped>\n",
       "    .dataframe tbody tr th:only-of-type {\n",
       "        vertical-align: middle;\n",
       "    }\n",
       "\n",
       "    .dataframe tbody tr th {\n",
       "        vertical-align: top;\n",
       "    }\n",
       "\n",
       "    .dataframe thead th {\n",
       "        text-align: right;\n",
       "    }\n",
       "</style>\n",
       "<table border=\"1\" class=\"dataframe\">\n",
       "  <thead>\n",
       "    <tr style=\"text-align: right;\">\n",
       "      <th></th>\n",
       "      <th>user_id</th>\n",
       "      <th>month</th>\n",
       "      <th>duration_min_month</th>\n",
       "      <th>messages_month</th>\n",
       "      <th>mb_used</th>\n",
       "      <th>gb_used_month</th>\n",
       "      <th>age</th>\n",
       "      <th>churn_date</th>\n",
       "      <th>city</th>\n",
       "      <th>first_name</th>\n",
       "      <th>last_name</th>\n",
       "      <th>reg_date</th>\n",
       "      <th>tariff</th>\n",
       "      <th>messages_included</th>\n",
       "      <th>mb_per_month_included</th>\n",
       "      <th>minutes_included</th>\n",
       "      <th>rub_monthly_fee</th>\n",
       "      <th>rub_per_gb</th>\n",
       "      <th>rub_per_message</th>\n",
       "      <th>rub_per_minute</th>\n",
       "    </tr>\n",
       "  </thead>\n",
       "  <tbody>\n",
       "    <tr>\n",
       "      <th>0</th>\n",
       "      <td>1000</td>\n",
       "      <td>August</td>\n",
       "      <td>408.00</td>\n",
       "      <td>81.00</td>\n",
       "      <td>14,055.93</td>\n",
       "      <td>14.00</td>\n",
       "      <td>52</td>\n",
       "      <td>NaN</td>\n",
       "      <td>Краснодар</td>\n",
       "      <td>Рафаил</td>\n",
       "      <td>Верещагин</td>\n",
       "      <td>2018-05-25</td>\n",
       "      <td>ultra</td>\n",
       "      <td>1000</td>\n",
       "      <td>30720</td>\n",
       "      <td>3000</td>\n",
       "      <td>1950</td>\n",
       "      <td>150</td>\n",
       "      <td>1</td>\n",
       "      <td>1</td>\n",
       "    </tr>\n",
       "    <tr>\n",
       "      <th>1</th>\n",
       "      <td>1000</td>\n",
       "      <td>December</td>\n",
       "      <td>333.00</td>\n",
       "      <td>70.00</td>\n",
       "      <td>9,817.61</td>\n",
       "      <td>10.00</td>\n",
       "      <td>52</td>\n",
       "      <td>NaN</td>\n",
       "      <td>Краснодар</td>\n",
       "      <td>Рафаил</td>\n",
       "      <td>Верещагин</td>\n",
       "      <td>2018-05-25</td>\n",
       "      <td>ultra</td>\n",
       "      <td>1000</td>\n",
       "      <td>30720</td>\n",
       "      <td>3000</td>\n",
       "      <td>1950</td>\n",
       "      <td>150</td>\n",
       "      <td>1</td>\n",
       "      <td>1</td>\n",
       "    </tr>\n",
       "    <tr>\n",
       "      <th>2</th>\n",
       "      <td>1000</td>\n",
       "      <td>July</td>\n",
       "      <td>340.00</td>\n",
       "      <td>75.00</td>\n",
       "      <td>14,003.64</td>\n",
       "      <td>14.00</td>\n",
       "      <td>52</td>\n",
       "      <td>NaN</td>\n",
       "      <td>Краснодар</td>\n",
       "      <td>Рафаил</td>\n",
       "      <td>Верещагин</td>\n",
       "      <td>2018-05-25</td>\n",
       "      <td>ultra</td>\n",
       "      <td>1000</td>\n",
       "      <td>30720</td>\n",
       "      <td>3000</td>\n",
       "      <td>1950</td>\n",
       "      <td>150</td>\n",
       "      <td>1</td>\n",
       "      <td>1</td>\n",
       "    </tr>\n",
       "    <tr>\n",
       "      <th>3</th>\n",
       "      <td>1000</td>\n",
       "      <td>June</td>\n",
       "      <td>172.00</td>\n",
       "      <td>60.00</td>\n",
       "      <td>23,233.77</td>\n",
       "      <td>23.00</td>\n",
       "      <td>52</td>\n",
       "      <td>NaN</td>\n",
       "      <td>Краснодар</td>\n",
       "      <td>Рафаил</td>\n",
       "      <td>Верещагин</td>\n",
       "      <td>2018-05-25</td>\n",
       "      <td>ultra</td>\n",
       "      <td>1000</td>\n",
       "      <td>30720</td>\n",
       "      <td>3000</td>\n",
       "      <td>1950</td>\n",
       "      <td>150</td>\n",
       "      <td>1</td>\n",
       "      <td>1</td>\n",
       "    </tr>\n",
       "    <tr>\n",
       "      <th>4</th>\n",
       "      <td>1000</td>\n",
       "      <td>May</td>\n",
       "      <td>159.00</td>\n",
       "      <td>22.00</td>\n",
       "      <td>2,253.49</td>\n",
       "      <td>3.00</td>\n",
       "      <td>52</td>\n",
       "      <td>NaN</td>\n",
       "      <td>Краснодар</td>\n",
       "      <td>Рафаил</td>\n",
       "      <td>Верещагин</td>\n",
       "      <td>2018-05-25</td>\n",
       "      <td>ultra</td>\n",
       "      <td>1000</td>\n",
       "      <td>30720</td>\n",
       "      <td>3000</td>\n",
       "      <td>1950</td>\n",
       "      <td>150</td>\n",
       "      <td>1</td>\n",
       "      <td>1</td>\n",
       "    </tr>\n",
       "    <tr>\n",
       "      <th>5</th>\n",
       "      <td>1000</td>\n",
       "      <td>November</td>\n",
       "      <td>338.00</td>\n",
       "      <td>58.00</td>\n",
       "      <td>14,756.47</td>\n",
       "      <td>15.00</td>\n",
       "      <td>52</td>\n",
       "      <td>NaN</td>\n",
       "      <td>Краснодар</td>\n",
       "      <td>Рафаил</td>\n",
       "      <td>Верещагин</td>\n",
       "      <td>2018-05-25</td>\n",
       "      <td>ultra</td>\n",
       "      <td>1000</td>\n",
       "      <td>30720</td>\n",
       "      <td>3000</td>\n",
       "      <td>1950</td>\n",
       "      <td>150</td>\n",
       "      <td>1</td>\n",
       "      <td>1</td>\n",
       "    </tr>\n",
       "    <tr>\n",
       "      <th>6</th>\n",
       "      <td>1000</td>\n",
       "      <td>October</td>\n",
       "      <td>350.00</td>\n",
       "      <td>73.00</td>\n",
       "      <td>14,702.49</td>\n",
       "      <td>15.00</td>\n",
       "      <td>52</td>\n",
       "      <td>NaN</td>\n",
       "      <td>Краснодар</td>\n",
       "      <td>Рафаил</td>\n",
       "      <td>Верещагин</td>\n",
       "      <td>2018-05-25</td>\n",
       "      <td>ultra</td>\n",
       "      <td>1000</td>\n",
       "      <td>30720</td>\n",
       "      <td>3000</td>\n",
       "      <td>1950</td>\n",
       "      <td>150</td>\n",
       "      <td>1</td>\n",
       "      <td>1</td>\n",
       "    </tr>\n",
       "    <tr>\n",
       "      <th>7</th>\n",
       "      <td>1000</td>\n",
       "      <td>September</td>\n",
       "      <td>466.00</td>\n",
       "      <td>57.00</td>\n",
       "      <td>14,568.91</td>\n",
       "      <td>15.00</td>\n",
       "      <td>52</td>\n",
       "      <td>NaN</td>\n",
       "      <td>Краснодар</td>\n",
       "      <td>Рафаил</td>\n",
       "      <td>Верещагин</td>\n",
       "      <td>2018-05-25</td>\n",
       "      <td>ultra</td>\n",
       "      <td>1000</td>\n",
       "      <td>30720</td>\n",
       "      <td>3000</td>\n",
       "      <td>1950</td>\n",
       "      <td>150</td>\n",
       "      <td>1</td>\n",
       "      <td>1</td>\n",
       "    </tr>\n",
       "    <tr>\n",
       "      <th>8</th>\n",
       "      <td>1001</td>\n",
       "      <td>December</td>\n",
       "      <td>414.00</td>\n",
       "      <td>NaN</td>\n",
       "      <td>14,036.66</td>\n",
       "      <td>14.00</td>\n",
       "      <td>41</td>\n",
       "      <td>NaN</td>\n",
       "      <td>Москва</td>\n",
       "      <td>Иван</td>\n",
       "      <td>Ежов</td>\n",
       "      <td>2018-11-01</td>\n",
       "      <td>smart</td>\n",
       "      <td>50</td>\n",
       "      <td>15360</td>\n",
       "      <td>500</td>\n",
       "      <td>550</td>\n",
       "      <td>200</td>\n",
       "      <td>3</td>\n",
       "      <td>3</td>\n",
       "    </tr>\n",
       "    <tr>\n",
       "      <th>9</th>\n",
       "      <td>1001</td>\n",
       "      <td>November</td>\n",
       "      <td>430.00</td>\n",
       "      <td>NaN</td>\n",
       "      <td>18,429.34</td>\n",
       "      <td>18.00</td>\n",
       "      <td>41</td>\n",
       "      <td>NaN</td>\n",
       "      <td>Москва</td>\n",
       "      <td>Иван</td>\n",
       "      <td>Ежов</td>\n",
       "      <td>2018-11-01</td>\n",
       "      <td>smart</td>\n",
       "      <td>50</td>\n",
       "      <td>15360</td>\n",
       "      <td>500</td>\n",
       "      <td>550</td>\n",
       "      <td>200</td>\n",
       "      <td>3</td>\n",
       "      <td>3</td>\n",
       "    </tr>\n",
       "  </tbody>\n",
       "</table>\n",
       "</div>"
      ],
      "text/plain": [
       "   user_id      month  duration_min_month  messages_month   mb_used  \\\n",
       "0     1000     August              408.00           81.00 14,055.93   \n",
       "1     1000   December              333.00           70.00  9,817.61   \n",
       "2     1000       July              340.00           75.00 14,003.64   \n",
       "3     1000       June              172.00           60.00 23,233.77   \n",
       "4     1000        May              159.00           22.00  2,253.49   \n",
       "5     1000   November              338.00           58.00 14,756.47   \n",
       "6     1000    October              350.00           73.00 14,702.49   \n",
       "7     1000  September              466.00           57.00 14,568.91   \n",
       "8     1001   December              414.00             NaN 14,036.66   \n",
       "9     1001   November              430.00             NaN 18,429.34   \n",
       "\n",
       "   gb_used_month  age churn_date       city first_name  last_name   reg_date  \\\n",
       "0          14.00   52        NaN  Краснодар     Рафаил  Верещагин 2018-05-25   \n",
       "1          10.00   52        NaN  Краснодар     Рафаил  Верещагин 2018-05-25   \n",
       "2          14.00   52        NaN  Краснодар     Рафаил  Верещагин 2018-05-25   \n",
       "3          23.00   52        NaN  Краснодар     Рафаил  Верещагин 2018-05-25   \n",
       "4           3.00   52        NaN  Краснодар     Рафаил  Верещагин 2018-05-25   \n",
       "5          15.00   52        NaN  Краснодар     Рафаил  Верещагин 2018-05-25   \n",
       "6          15.00   52        NaN  Краснодар     Рафаил  Верещагин 2018-05-25   \n",
       "7          15.00   52        NaN  Краснодар     Рафаил  Верещагин 2018-05-25   \n",
       "8          14.00   41        NaN     Москва       Иван       Ежов 2018-11-01   \n",
       "9          18.00   41        NaN     Москва       Иван       Ежов 2018-11-01   \n",
       "\n",
       "  tariff  messages_included  mb_per_month_included  minutes_included  \\\n",
       "0  ultra               1000                  30720              3000   \n",
       "1  ultra               1000                  30720              3000   \n",
       "2  ultra               1000                  30720              3000   \n",
       "3  ultra               1000                  30720              3000   \n",
       "4  ultra               1000                  30720              3000   \n",
       "5  ultra               1000                  30720              3000   \n",
       "6  ultra               1000                  30720              3000   \n",
       "7  ultra               1000                  30720              3000   \n",
       "8  smart                 50                  15360               500   \n",
       "9  smart                 50                  15360               500   \n",
       "\n",
       "   rub_monthly_fee  rub_per_gb  rub_per_message  rub_per_minute  \n",
       "0             1950         150                1               1  \n",
       "1             1950         150                1               1  \n",
       "2             1950         150                1               1  \n",
       "3             1950         150                1               1  \n",
       "4             1950         150                1               1  \n",
       "5             1950         150                1               1  \n",
       "6             1950         150                1               1  \n",
       "7             1950         150                1               1  \n",
       "8              550         200                3               3  \n",
       "9              550         200                3               3  "
      ]
     },
     "execution_count": 33,
     "metadata": {},
     "output_type": "execute_result"
    }
   ],
   "source": [
    "df = df.merge(tariffs, on='tariff',  how='left')\n",
    "df.head(10)"
   ]
  },
  {
   "cell_type": "markdown",
   "metadata": {},
   "source": [
    "#### Добавим столбец с тарифным лимитом интернет трафика в гигабайтах"
   ]
  },
  {
   "cell_type": "code",
   "execution_count": 34,
   "metadata": {},
   "outputs": [
    {
     "data": {
      "text/html": [
       "<div>\n",
       "<style scoped>\n",
       "    .dataframe tbody tr th:only-of-type {\n",
       "        vertical-align: middle;\n",
       "    }\n",
       "\n",
       "    .dataframe tbody tr th {\n",
       "        vertical-align: top;\n",
       "    }\n",
       "\n",
       "    .dataframe thead th {\n",
       "        text-align: right;\n",
       "    }\n",
       "</style>\n",
       "<table border=\"1\" class=\"dataframe\">\n",
       "  <thead>\n",
       "    <tr style=\"text-align: right;\">\n",
       "      <th></th>\n",
       "      <th>user_id</th>\n",
       "      <th>month</th>\n",
       "      <th>duration_min_month</th>\n",
       "      <th>messages_month</th>\n",
       "      <th>mb_used</th>\n",
       "      <th>gb_used_month</th>\n",
       "      <th>age</th>\n",
       "      <th>churn_date</th>\n",
       "      <th>city</th>\n",
       "      <th>first_name</th>\n",
       "      <th>last_name</th>\n",
       "      <th>reg_date</th>\n",
       "      <th>tariff</th>\n",
       "      <th>messages_included</th>\n",
       "      <th>mb_per_month_included</th>\n",
       "      <th>minutes_included</th>\n",
       "      <th>rub_monthly_fee</th>\n",
       "      <th>rub_per_gb</th>\n",
       "      <th>rub_per_message</th>\n",
       "      <th>rub_per_minute</th>\n",
       "      <th>gb_per_month_included</th>\n",
       "    </tr>\n",
       "  </thead>\n",
       "  <tbody>\n",
       "    <tr>\n",
       "      <th>0</th>\n",
       "      <td>1000</td>\n",
       "      <td>August</td>\n",
       "      <td>408.00</td>\n",
       "      <td>81.00</td>\n",
       "      <td>14,055.93</td>\n",
       "      <td>14.00</td>\n",
       "      <td>52</td>\n",
       "      <td>NaN</td>\n",
       "      <td>Краснодар</td>\n",
       "      <td>Рафаил</td>\n",
       "      <td>Верещагин</td>\n",
       "      <td>2018-05-25</td>\n",
       "      <td>ultra</td>\n",
       "      <td>1000</td>\n",
       "      <td>30720</td>\n",
       "      <td>3000</td>\n",
       "      <td>1950</td>\n",
       "      <td>150</td>\n",
       "      <td>1</td>\n",
       "      <td>1</td>\n",
       "      <td>30.00</td>\n",
       "    </tr>\n",
       "    <tr>\n",
       "      <th>1</th>\n",
       "      <td>1000</td>\n",
       "      <td>December</td>\n",
       "      <td>333.00</td>\n",
       "      <td>70.00</td>\n",
       "      <td>9,817.61</td>\n",
       "      <td>10.00</td>\n",
       "      <td>52</td>\n",
       "      <td>NaN</td>\n",
       "      <td>Краснодар</td>\n",
       "      <td>Рафаил</td>\n",
       "      <td>Верещагин</td>\n",
       "      <td>2018-05-25</td>\n",
       "      <td>ultra</td>\n",
       "      <td>1000</td>\n",
       "      <td>30720</td>\n",
       "      <td>3000</td>\n",
       "      <td>1950</td>\n",
       "      <td>150</td>\n",
       "      <td>1</td>\n",
       "      <td>1</td>\n",
       "      <td>30.00</td>\n",
       "    </tr>\n",
       "    <tr>\n",
       "      <th>2</th>\n",
       "      <td>1000</td>\n",
       "      <td>July</td>\n",
       "      <td>340.00</td>\n",
       "      <td>75.00</td>\n",
       "      <td>14,003.64</td>\n",
       "      <td>14.00</td>\n",
       "      <td>52</td>\n",
       "      <td>NaN</td>\n",
       "      <td>Краснодар</td>\n",
       "      <td>Рафаил</td>\n",
       "      <td>Верещагин</td>\n",
       "      <td>2018-05-25</td>\n",
       "      <td>ultra</td>\n",
       "      <td>1000</td>\n",
       "      <td>30720</td>\n",
       "      <td>3000</td>\n",
       "      <td>1950</td>\n",
       "      <td>150</td>\n",
       "      <td>1</td>\n",
       "      <td>1</td>\n",
       "      <td>30.00</td>\n",
       "    </tr>\n",
       "    <tr>\n",
       "      <th>3</th>\n",
       "      <td>1000</td>\n",
       "      <td>June</td>\n",
       "      <td>172.00</td>\n",
       "      <td>60.00</td>\n",
       "      <td>23,233.77</td>\n",
       "      <td>23.00</td>\n",
       "      <td>52</td>\n",
       "      <td>NaN</td>\n",
       "      <td>Краснодар</td>\n",
       "      <td>Рафаил</td>\n",
       "      <td>Верещагин</td>\n",
       "      <td>2018-05-25</td>\n",
       "      <td>ultra</td>\n",
       "      <td>1000</td>\n",
       "      <td>30720</td>\n",
       "      <td>3000</td>\n",
       "      <td>1950</td>\n",
       "      <td>150</td>\n",
       "      <td>1</td>\n",
       "      <td>1</td>\n",
       "      <td>30.00</td>\n",
       "    </tr>\n",
       "    <tr>\n",
       "      <th>4</th>\n",
       "      <td>1000</td>\n",
       "      <td>May</td>\n",
       "      <td>159.00</td>\n",
       "      <td>22.00</td>\n",
       "      <td>2,253.49</td>\n",
       "      <td>3.00</td>\n",
       "      <td>52</td>\n",
       "      <td>NaN</td>\n",
       "      <td>Краснодар</td>\n",
       "      <td>Рафаил</td>\n",
       "      <td>Верещагин</td>\n",
       "      <td>2018-05-25</td>\n",
       "      <td>ultra</td>\n",
       "      <td>1000</td>\n",
       "      <td>30720</td>\n",
       "      <td>3000</td>\n",
       "      <td>1950</td>\n",
       "      <td>150</td>\n",
       "      <td>1</td>\n",
       "      <td>1</td>\n",
       "      <td>30.00</td>\n",
       "    </tr>\n",
       "  </tbody>\n",
       "</table>\n",
       "</div>"
      ],
      "text/plain": [
       "   user_id     month  duration_min_month  messages_month   mb_used  \\\n",
       "0     1000    August              408.00           81.00 14,055.93   \n",
       "1     1000  December              333.00           70.00  9,817.61   \n",
       "2     1000      July              340.00           75.00 14,003.64   \n",
       "3     1000      June              172.00           60.00 23,233.77   \n",
       "4     1000       May              159.00           22.00  2,253.49   \n",
       "\n",
       "   gb_used_month  age churn_date       city first_name  last_name   reg_date  \\\n",
       "0          14.00   52        NaN  Краснодар     Рафаил  Верещагин 2018-05-25   \n",
       "1          10.00   52        NaN  Краснодар     Рафаил  Верещагин 2018-05-25   \n",
       "2          14.00   52        NaN  Краснодар     Рафаил  Верещагин 2018-05-25   \n",
       "3          23.00   52        NaN  Краснодар     Рафаил  Верещагин 2018-05-25   \n",
       "4           3.00   52        NaN  Краснодар     Рафаил  Верещагин 2018-05-25   \n",
       "\n",
       "  tariff  messages_included  mb_per_month_included  minutes_included  \\\n",
       "0  ultra               1000                  30720              3000   \n",
       "1  ultra               1000                  30720              3000   \n",
       "2  ultra               1000                  30720              3000   \n",
       "3  ultra               1000                  30720              3000   \n",
       "4  ultra               1000                  30720              3000   \n",
       "\n",
       "   rub_monthly_fee  rub_per_gb  rub_per_message  rub_per_minute  \\\n",
       "0             1950         150                1               1   \n",
       "1             1950         150                1               1   \n",
       "2             1950         150                1               1   \n",
       "3             1950         150                1               1   \n",
       "4             1950         150                1               1   \n",
       "\n",
       "   gb_per_month_included  \n",
       "0                  30.00  \n",
       "1                  30.00  \n",
       "2                  30.00  \n",
       "3                  30.00  \n",
       "4                  30.00  "
      ]
     },
     "execution_count": 34,
     "metadata": {},
     "output_type": "execute_result"
    }
   ],
   "source": [
    "df['gb_per_month_included'] = df['mb_per_month_included']/1024\n",
    "df.head()"
   ]
  },
  {
   "cell_type": "markdown",
   "metadata": {},
   "source": [
    "#### Проверим полученный датафрейм на пропуски"
   ]
  },
  {
   "cell_type": "code",
   "execution_count": 35,
   "metadata": {},
   "outputs": [
    {
     "data": {
      "text/plain": [
       "user_id                     0\n",
       "month                       2\n",
       "duration_min_month         42\n",
       "messages_month            499\n",
       "mb_used                    13\n",
       "gb_used_month              13\n",
       "age                         0\n",
       "churn_date               3027\n",
       "city                        0\n",
       "first_name                  0\n",
       "last_name                   0\n",
       "reg_date                    0\n",
       "tariff                      0\n",
       "messages_included           0\n",
       "mb_per_month_included       0\n",
       "minutes_included            0\n",
       "rub_monthly_fee             0\n",
       "rub_per_gb                  0\n",
       "rub_per_message             0\n",
       "rub_per_minute              0\n",
       "gb_per_month_included       0\n",
       "dtype: int64"
      ]
     },
     "execution_count": 35,
     "metadata": {},
     "output_type": "execute_result"
    }
   ],
   "source": [
    "df.isna().sum()"
   ]
  },
  {
   "cell_type": "markdown",
   "metadata": {},
   "source": [
    "Пропуски в столбцах с **звонками** смс и интернетом можно объяснить тем, что в каких-то месяцах клиенты не пользовались этими услугами. Заменим пропуски на 0."
   ]
  },
  {
   "cell_type": "code",
   "execution_count": 36,
   "metadata": {},
   "outputs": [],
   "source": [
    "df['messages_month'] = df['messages_month'].fillna('0')\n",
    "df['mb_used'] = df['mb_used'].fillna('0')\n",
    "df['gb_used_month'] = df['gb_used_month'].fillna('0')\n",
    "df['duration_min_month'] = df['duration_min_month'].fillna('0')"
   ]
  },
  {
   "cell_type": "markdown",
   "metadata": {},
   "source": [
    "*Ознакомимся с пропусками в столбце duration_min*"
   ]
  },
  {
   "cell_type": "code",
   "execution_count": 37,
   "metadata": {
    "scrolled": true
   },
   "outputs": [],
   "source": [
    "#df['duration_min_month'] = df['duration_min_month'].fillna('пропуск')\n",
    "#df.query('duration_min_month == \"пропуск\"').head(10)"
   ]
  },
  {
   "cell_type": "markdown",
   "metadata": {},
   "source": [
    "*Как видно из данных, пользователи, для которых не указана продолжительность звонков, за те же периоды пользовались другими услугами. Вероятно, данные о звонках для этих пользоватлелей были утеряны вледствие ошибки - об этом необходим сообщить коллегам, ответственным за сбор данных.*\n",
    "\n",
    "*Т.к. таких клиентов немного, можно удалить их из датасета.*"
   ]
  },
  {
   "cell_type": "code",
   "execution_count": 38,
   "metadata": {
    "scrolled": true
   },
   "outputs": [
    {
     "data": {
      "text/plain": [
       "user_id                     0\n",
       "month                       2\n",
       "duration_min_month          0\n",
       "messages_month              0\n",
       "mb_used                     0\n",
       "gb_used_month               0\n",
       "age                         0\n",
       "churn_date               3027\n",
       "city                        0\n",
       "first_name                  0\n",
       "last_name                   0\n",
       "reg_date                    0\n",
       "tariff                      0\n",
       "messages_included           0\n",
       "mb_per_month_included       0\n",
       "minutes_included            0\n",
       "rub_monthly_fee             0\n",
       "rub_per_gb                  0\n",
       "rub_per_message             0\n",
       "rub_per_minute              0\n",
       "gb_per_month_included       0\n",
       "dtype: int64"
      ]
     },
     "execution_count": 38,
     "metadata": {},
     "output_type": "execute_result"
    }
   ],
   "source": [
    "df = df.drop(df[df['duration_min_month']=='пропуск'].index) #удалим строки с незаполненными данными по продолжительности звонков\n",
    "df.isna().sum() #сделвем проверку пропусков"
   ]
  },
  {
   "cell_type": "markdown",
   "metadata": {},
   "source": [
    "В датасете остались только допустимые пропуски."
   ]
  },
  {
   "cell_type": "markdown",
   "metadata": {},
   "source": [
    "#### Проверим типы данных в столбцах нового датафрейма"
   ]
  },
  {
   "cell_type": "code",
   "execution_count": 39,
   "metadata": {
    "scrolled": true
   },
   "outputs": [
    {
     "name": "stdout",
     "output_type": "stream",
     "text": [
      "<class 'pandas.core.frame.DataFrame'>\n",
      "Int64Index: 3216 entries, 0 to 3215\n",
      "Data columns (total 21 columns):\n",
      " #   Column                 Non-Null Count  Dtype         \n",
      "---  ------                 --------------  -----         \n",
      " 0   user_id                3216 non-null   int64         \n",
      " 1   month                  3214 non-null   object        \n",
      " 2   duration_min_month     3216 non-null   object        \n",
      " 3   messages_month         3216 non-null   object        \n",
      " 4   mb_used                3216 non-null   object        \n",
      " 5   gb_used_month          3216 non-null   object        \n",
      " 6   age                    3216 non-null   int64         \n",
      " 7   churn_date             189 non-null    object        \n",
      " 8   city                   3216 non-null   object        \n",
      " 9   first_name             3216 non-null   object        \n",
      " 10  last_name              3216 non-null   object        \n",
      " 11  reg_date               3216 non-null   datetime64[ns]\n",
      " 12  tariff                 3216 non-null   object        \n",
      " 13  messages_included      3216 non-null   int64         \n",
      " 14  mb_per_month_included  3216 non-null   int64         \n",
      " 15  minutes_included       3216 non-null   int64         \n",
      " 16  rub_monthly_fee        3216 non-null   int64         \n",
      " 17  rub_per_gb             3216 non-null   int64         \n",
      " 18  rub_per_message        3216 non-null   int64         \n",
      " 19  rub_per_minute         3216 non-null   int64         \n",
      " 20  gb_per_month_included  3216 non-null   float64       \n",
      "dtypes: datetime64[ns](1), float64(1), int64(9), object(10)\n",
      "memory usage: 681.8+ KB\n"
     ]
    }
   ],
   "source": [
    "df.info()"
   ]
  },
  {
   "cell_type": "markdown",
   "metadata": {},
   "source": [
    "Необходимо изменить тип данных в столбцах, участвующих в расчетах"
   ]
  },
  {
   "cell_type": "code",
   "execution_count": 40,
   "metadata": {},
   "outputs": [
    {
     "name": "stdout",
     "output_type": "stream",
     "text": [
      "<class 'pandas.core.frame.DataFrame'>\n",
      "Int64Index: 3216 entries, 0 to 3215\n",
      "Data columns (total 21 columns):\n",
      " #   Column                 Non-Null Count  Dtype         \n",
      "---  ------                 --------------  -----         \n",
      " 0   user_id                3216 non-null   int64         \n",
      " 1   month                  3214 non-null   object        \n",
      " 2   duration_min_month     3216 non-null   int64         \n",
      " 3   messages_month         3216 non-null   int64         \n",
      " 4   mb_used                3216 non-null   object        \n",
      " 5   gb_used_month          3216 non-null   int64         \n",
      " 6   age                    3216 non-null   int64         \n",
      " 7   churn_date             189 non-null    object        \n",
      " 8   city                   3216 non-null   object        \n",
      " 9   first_name             3216 non-null   object        \n",
      " 10  last_name              3216 non-null   object        \n",
      " 11  reg_date               3216 non-null   datetime64[ns]\n",
      " 12  tariff                 3216 non-null   object        \n",
      " 13  messages_included      3216 non-null   int64         \n",
      " 14  mb_per_month_included  3216 non-null   int64         \n",
      " 15  minutes_included       3216 non-null   int64         \n",
      " 16  rub_monthly_fee        3216 non-null   int64         \n",
      " 17  rub_per_gb             3216 non-null   int64         \n",
      " 18  rub_per_message        3216 non-null   int64         \n",
      " 19  rub_per_minute         3216 non-null   int64         \n",
      " 20  gb_per_month_included  3216 non-null   float64       \n",
      "dtypes: datetime64[ns](1), float64(1), int64(12), object(7)\n",
      "memory usage: 681.8+ KB\n"
     ]
    }
   ],
   "source": [
    "df = df.astype({'duration_min_month':'int64',\n",
    "                'messages_month':'int64',\n",
    "                'gb_used_month':'int64',\n",
    "              }, errors='ignore')\n",
    "df.info()"
   ]
  },
  {
   "cell_type": "markdown",
   "metadata": {},
   "source": [
    "### Рассчитаем помесячную выручку с каждого клиента"
   ]
  },
  {
   "cell_type": "code",
   "execution_count": 41,
   "metadata": {},
   "outputs": [],
   "source": [
    "def above_tariff(row):\n",
    "    if row['duration_min_month']>row['minutes_included']:\n",
    "        calls_above_tariff = (row['duration_min_month']-row['minutes_included'])*row['rub_per_minute']\n",
    "    else:\n",
    "        calls_above_tariff = 0\n",
    "    if row['messages_month']>row['messages_included']:\n",
    "        messages_above_tariff = (row['messages_month']-row['messages_included'])*row['rub_per_message']\n",
    "    else:\n",
    "        messages_above_tariff = 0\n",
    "    if row['gb_used_month']>row['mb_per_month_included']/1024:\n",
    "        internet_above_tariff = (row['gb_used_month']-row['gb_per_month_included'])*row['rub_per_gb']\n",
    "    else: \n",
    "        internet_above_tariff = 0\n",
    "    total = calls_above_tariff + messages_above_tariff + internet_above_tariff\n",
    "    return total"
   ]
  },
  {
   "cell_type": "code",
   "execution_count": 42,
   "metadata": {
    "scrolled": true
   },
   "outputs": [
    {
     "data": {
      "text/html": [
       "<div>\n",
       "<style scoped>\n",
       "    .dataframe tbody tr th:only-of-type {\n",
       "        vertical-align: middle;\n",
       "    }\n",
       "\n",
       "    .dataframe tbody tr th {\n",
       "        vertical-align: top;\n",
       "    }\n",
       "\n",
       "    .dataframe thead th {\n",
       "        text-align: right;\n",
       "    }\n",
       "</style>\n",
       "<table border=\"1\" class=\"dataframe\">\n",
       "  <thead>\n",
       "    <tr style=\"text-align: right;\">\n",
       "      <th></th>\n",
       "      <th>user_id</th>\n",
       "      <th>month</th>\n",
       "      <th>duration_min_month</th>\n",
       "      <th>messages_month</th>\n",
       "      <th>mb_used</th>\n",
       "      <th>gb_used_month</th>\n",
       "      <th>age</th>\n",
       "      <th>churn_date</th>\n",
       "      <th>city</th>\n",
       "      <th>first_name</th>\n",
       "      <th>last_name</th>\n",
       "      <th>reg_date</th>\n",
       "      <th>tariff</th>\n",
       "      <th>messages_included</th>\n",
       "      <th>mb_per_month_included</th>\n",
       "      <th>minutes_included</th>\n",
       "      <th>rub_monthly_fee</th>\n",
       "      <th>rub_per_gb</th>\n",
       "      <th>rub_per_message</th>\n",
       "      <th>rub_per_minute</th>\n",
       "      <th>gb_per_month_included</th>\n",
       "      <th>revenue_above_tariff</th>\n",
       "    </tr>\n",
       "  </thead>\n",
       "  <tbody>\n",
       "    <tr>\n",
       "      <th>0</th>\n",
       "      <td>1000</td>\n",
       "      <td>August</td>\n",
       "      <td>408</td>\n",
       "      <td>81</td>\n",
       "      <td>14,055.93</td>\n",
       "      <td>14</td>\n",
       "      <td>52</td>\n",
       "      <td>NaN</td>\n",
       "      <td>Краснодар</td>\n",
       "      <td>Рафаил</td>\n",
       "      <td>Верещагин</td>\n",
       "      <td>2018-05-25</td>\n",
       "      <td>ultra</td>\n",
       "      <td>1000</td>\n",
       "      <td>30720</td>\n",
       "      <td>3000</td>\n",
       "      <td>1950</td>\n",
       "      <td>150</td>\n",
       "      <td>1</td>\n",
       "      <td>1</td>\n",
       "      <td>30.00</td>\n",
       "      <td>0.00</td>\n",
       "    </tr>\n",
       "    <tr>\n",
       "      <th>1</th>\n",
       "      <td>1000</td>\n",
       "      <td>December</td>\n",
       "      <td>333</td>\n",
       "      <td>70</td>\n",
       "      <td>9,817.61</td>\n",
       "      <td>10</td>\n",
       "      <td>52</td>\n",
       "      <td>NaN</td>\n",
       "      <td>Краснодар</td>\n",
       "      <td>Рафаил</td>\n",
       "      <td>Верещагин</td>\n",
       "      <td>2018-05-25</td>\n",
       "      <td>ultra</td>\n",
       "      <td>1000</td>\n",
       "      <td>30720</td>\n",
       "      <td>3000</td>\n",
       "      <td>1950</td>\n",
       "      <td>150</td>\n",
       "      <td>1</td>\n",
       "      <td>1</td>\n",
       "      <td>30.00</td>\n",
       "      <td>0.00</td>\n",
       "    </tr>\n",
       "    <tr>\n",
       "      <th>2</th>\n",
       "      <td>1000</td>\n",
       "      <td>July</td>\n",
       "      <td>340</td>\n",
       "      <td>75</td>\n",
       "      <td>14,003.64</td>\n",
       "      <td>14</td>\n",
       "      <td>52</td>\n",
       "      <td>NaN</td>\n",
       "      <td>Краснодар</td>\n",
       "      <td>Рафаил</td>\n",
       "      <td>Верещагин</td>\n",
       "      <td>2018-05-25</td>\n",
       "      <td>ultra</td>\n",
       "      <td>1000</td>\n",
       "      <td>30720</td>\n",
       "      <td>3000</td>\n",
       "      <td>1950</td>\n",
       "      <td>150</td>\n",
       "      <td>1</td>\n",
       "      <td>1</td>\n",
       "      <td>30.00</td>\n",
       "      <td>0.00</td>\n",
       "    </tr>\n",
       "    <tr>\n",
       "      <th>3</th>\n",
       "      <td>1000</td>\n",
       "      <td>June</td>\n",
       "      <td>172</td>\n",
       "      <td>60</td>\n",
       "      <td>23,233.77</td>\n",
       "      <td>23</td>\n",
       "      <td>52</td>\n",
       "      <td>NaN</td>\n",
       "      <td>Краснодар</td>\n",
       "      <td>Рафаил</td>\n",
       "      <td>Верещагин</td>\n",
       "      <td>2018-05-25</td>\n",
       "      <td>ultra</td>\n",
       "      <td>1000</td>\n",
       "      <td>30720</td>\n",
       "      <td>3000</td>\n",
       "      <td>1950</td>\n",
       "      <td>150</td>\n",
       "      <td>1</td>\n",
       "      <td>1</td>\n",
       "      <td>30.00</td>\n",
       "      <td>0.00</td>\n",
       "    </tr>\n",
       "    <tr>\n",
       "      <th>4</th>\n",
       "      <td>1000</td>\n",
       "      <td>May</td>\n",
       "      <td>159</td>\n",
       "      <td>22</td>\n",
       "      <td>2,253.49</td>\n",
       "      <td>3</td>\n",
       "      <td>52</td>\n",
       "      <td>NaN</td>\n",
       "      <td>Краснодар</td>\n",
       "      <td>Рафаил</td>\n",
       "      <td>Верещагин</td>\n",
       "      <td>2018-05-25</td>\n",
       "      <td>ultra</td>\n",
       "      <td>1000</td>\n",
       "      <td>30720</td>\n",
       "      <td>3000</td>\n",
       "      <td>1950</td>\n",
       "      <td>150</td>\n",
       "      <td>1</td>\n",
       "      <td>1</td>\n",
       "      <td>30.00</td>\n",
       "      <td>0.00</td>\n",
       "    </tr>\n",
       "    <tr>\n",
       "      <th>5</th>\n",
       "      <td>1000</td>\n",
       "      <td>November</td>\n",
       "      <td>338</td>\n",
       "      <td>58</td>\n",
       "      <td>14,756.47</td>\n",
       "      <td>15</td>\n",
       "      <td>52</td>\n",
       "      <td>NaN</td>\n",
       "      <td>Краснодар</td>\n",
       "      <td>Рафаил</td>\n",
       "      <td>Верещагин</td>\n",
       "      <td>2018-05-25</td>\n",
       "      <td>ultra</td>\n",
       "      <td>1000</td>\n",
       "      <td>30720</td>\n",
       "      <td>3000</td>\n",
       "      <td>1950</td>\n",
       "      <td>150</td>\n",
       "      <td>1</td>\n",
       "      <td>1</td>\n",
       "      <td>30.00</td>\n",
       "      <td>0.00</td>\n",
       "    </tr>\n",
       "    <tr>\n",
       "      <th>6</th>\n",
       "      <td>1000</td>\n",
       "      <td>October</td>\n",
       "      <td>350</td>\n",
       "      <td>73</td>\n",
       "      <td>14,702.49</td>\n",
       "      <td>15</td>\n",
       "      <td>52</td>\n",
       "      <td>NaN</td>\n",
       "      <td>Краснодар</td>\n",
       "      <td>Рафаил</td>\n",
       "      <td>Верещагин</td>\n",
       "      <td>2018-05-25</td>\n",
       "      <td>ultra</td>\n",
       "      <td>1000</td>\n",
       "      <td>30720</td>\n",
       "      <td>3000</td>\n",
       "      <td>1950</td>\n",
       "      <td>150</td>\n",
       "      <td>1</td>\n",
       "      <td>1</td>\n",
       "      <td>30.00</td>\n",
       "      <td>0.00</td>\n",
       "    </tr>\n",
       "    <tr>\n",
       "      <th>7</th>\n",
       "      <td>1000</td>\n",
       "      <td>September</td>\n",
       "      <td>466</td>\n",
       "      <td>57</td>\n",
       "      <td>14,568.91</td>\n",
       "      <td>15</td>\n",
       "      <td>52</td>\n",
       "      <td>NaN</td>\n",
       "      <td>Краснодар</td>\n",
       "      <td>Рафаил</td>\n",
       "      <td>Верещагин</td>\n",
       "      <td>2018-05-25</td>\n",
       "      <td>ultra</td>\n",
       "      <td>1000</td>\n",
       "      <td>30720</td>\n",
       "      <td>3000</td>\n",
       "      <td>1950</td>\n",
       "      <td>150</td>\n",
       "      <td>1</td>\n",
       "      <td>1</td>\n",
       "      <td>30.00</td>\n",
       "      <td>0.00</td>\n",
       "    </tr>\n",
       "    <tr>\n",
       "      <th>8</th>\n",
       "      <td>1001</td>\n",
       "      <td>December</td>\n",
       "      <td>414</td>\n",
       "      <td>0</td>\n",
       "      <td>14,036.66</td>\n",
       "      <td>14</td>\n",
       "      <td>41</td>\n",
       "      <td>NaN</td>\n",
       "      <td>Москва</td>\n",
       "      <td>Иван</td>\n",
       "      <td>Ежов</td>\n",
       "      <td>2018-11-01</td>\n",
       "      <td>smart</td>\n",
       "      <td>50</td>\n",
       "      <td>15360</td>\n",
       "      <td>500</td>\n",
       "      <td>550</td>\n",
       "      <td>200</td>\n",
       "      <td>3</td>\n",
       "      <td>3</td>\n",
       "      <td>15.00</td>\n",
       "      <td>0.00</td>\n",
       "    </tr>\n",
       "    <tr>\n",
       "      <th>9</th>\n",
       "      <td>1001</td>\n",
       "      <td>November</td>\n",
       "      <td>430</td>\n",
       "      <td>0</td>\n",
       "      <td>18,429.34</td>\n",
       "      <td>18</td>\n",
       "      <td>41</td>\n",
       "      <td>NaN</td>\n",
       "      <td>Москва</td>\n",
       "      <td>Иван</td>\n",
       "      <td>Ежов</td>\n",
       "      <td>2018-11-01</td>\n",
       "      <td>smart</td>\n",
       "      <td>50</td>\n",
       "      <td>15360</td>\n",
       "      <td>500</td>\n",
       "      <td>550</td>\n",
       "      <td>200</td>\n",
       "      <td>3</td>\n",
       "      <td>3</td>\n",
       "      <td>15.00</td>\n",
       "      <td>600.00</td>\n",
       "    </tr>\n",
       "  </tbody>\n",
       "</table>\n",
       "</div>"
      ],
      "text/plain": [
       "   user_id      month  duration_min_month  messages_month   mb_used  \\\n",
       "0     1000     August                 408              81 14,055.93   \n",
       "1     1000   December                 333              70  9,817.61   \n",
       "2     1000       July                 340              75 14,003.64   \n",
       "3     1000       June                 172              60 23,233.77   \n",
       "4     1000        May                 159              22  2,253.49   \n",
       "5     1000   November                 338              58 14,756.47   \n",
       "6     1000    October                 350              73 14,702.49   \n",
       "7     1000  September                 466              57 14,568.91   \n",
       "8     1001   December                 414               0 14,036.66   \n",
       "9     1001   November                 430               0 18,429.34   \n",
       "\n",
       "   gb_used_month  age churn_date       city first_name  last_name   reg_date  \\\n",
       "0             14   52        NaN  Краснодар     Рафаил  Верещагин 2018-05-25   \n",
       "1             10   52        NaN  Краснодар     Рафаил  Верещагин 2018-05-25   \n",
       "2             14   52        NaN  Краснодар     Рафаил  Верещагин 2018-05-25   \n",
       "3             23   52        NaN  Краснодар     Рафаил  Верещагин 2018-05-25   \n",
       "4              3   52        NaN  Краснодар     Рафаил  Верещагин 2018-05-25   \n",
       "5             15   52        NaN  Краснодар     Рафаил  Верещагин 2018-05-25   \n",
       "6             15   52        NaN  Краснодар     Рафаил  Верещагин 2018-05-25   \n",
       "7             15   52        NaN  Краснодар     Рафаил  Верещагин 2018-05-25   \n",
       "8             14   41        NaN     Москва       Иван       Ежов 2018-11-01   \n",
       "9             18   41        NaN     Москва       Иван       Ежов 2018-11-01   \n",
       "\n",
       "  tariff  messages_included  mb_per_month_included  minutes_included  \\\n",
       "0  ultra               1000                  30720              3000   \n",
       "1  ultra               1000                  30720              3000   \n",
       "2  ultra               1000                  30720              3000   \n",
       "3  ultra               1000                  30720              3000   \n",
       "4  ultra               1000                  30720              3000   \n",
       "5  ultra               1000                  30720              3000   \n",
       "6  ultra               1000                  30720              3000   \n",
       "7  ultra               1000                  30720              3000   \n",
       "8  smart                 50                  15360               500   \n",
       "9  smart                 50                  15360               500   \n",
       "\n",
       "   rub_monthly_fee  rub_per_gb  rub_per_message  rub_per_minute  \\\n",
       "0             1950         150                1               1   \n",
       "1             1950         150                1               1   \n",
       "2             1950         150                1               1   \n",
       "3             1950         150                1               1   \n",
       "4             1950         150                1               1   \n",
       "5             1950         150                1               1   \n",
       "6             1950         150                1               1   \n",
       "7             1950         150                1               1   \n",
       "8              550         200                3               3   \n",
       "9              550         200                3               3   \n",
       "\n",
       "   gb_per_month_included  revenue_above_tariff  \n",
       "0                  30.00                  0.00  \n",
       "1                  30.00                  0.00  \n",
       "2                  30.00                  0.00  \n",
       "3                  30.00                  0.00  \n",
       "4                  30.00                  0.00  \n",
       "5                  30.00                  0.00  \n",
       "6                  30.00                  0.00  \n",
       "7                  30.00                  0.00  \n",
       "8                  15.00                  0.00  \n",
       "9                  15.00                600.00  "
      ]
     },
     "execution_count": 42,
     "metadata": {},
     "output_type": "execute_result"
    }
   ],
   "source": [
    "df['revenue_above_tariff'] = df.apply(lambda x: above_tariff(x), axis=1)\n",
    "df.head(10)"
   ]
  },
  {
   "cell_type": "markdown",
   "metadata": {},
   "source": [
    "Добавим столбец с общей прибылью от клиента за месяц"
   ]
  },
  {
   "cell_type": "code",
   "execution_count": 43,
   "metadata": {},
   "outputs": [
    {
     "data": {
      "text/html": [
       "<div>\n",
       "<style scoped>\n",
       "    .dataframe tbody tr th:only-of-type {\n",
       "        vertical-align: middle;\n",
       "    }\n",
       "\n",
       "    .dataframe tbody tr th {\n",
       "        vertical-align: top;\n",
       "    }\n",
       "\n",
       "    .dataframe thead th {\n",
       "        text-align: right;\n",
       "    }\n",
       "</style>\n",
       "<table border=\"1\" class=\"dataframe\">\n",
       "  <thead>\n",
       "    <tr style=\"text-align: right;\">\n",
       "      <th></th>\n",
       "      <th>user_id</th>\n",
       "      <th>month</th>\n",
       "      <th>duration_min_month</th>\n",
       "      <th>messages_month</th>\n",
       "      <th>mb_used</th>\n",
       "      <th>gb_used_month</th>\n",
       "      <th>age</th>\n",
       "      <th>churn_date</th>\n",
       "      <th>city</th>\n",
       "      <th>first_name</th>\n",
       "      <th>last_name</th>\n",
       "      <th>reg_date</th>\n",
       "      <th>tariff</th>\n",
       "      <th>messages_included</th>\n",
       "      <th>mb_per_month_included</th>\n",
       "      <th>minutes_included</th>\n",
       "      <th>rub_monthly_fee</th>\n",
       "      <th>rub_per_gb</th>\n",
       "      <th>rub_per_message</th>\n",
       "      <th>rub_per_minute</th>\n",
       "      <th>gb_per_month_included</th>\n",
       "      <th>revenue_above_tariff</th>\n",
       "      <th>revenue_total</th>\n",
       "    </tr>\n",
       "  </thead>\n",
       "  <tbody>\n",
       "    <tr>\n",
       "      <th>0</th>\n",
       "      <td>1000</td>\n",
       "      <td>August</td>\n",
       "      <td>408</td>\n",
       "      <td>81</td>\n",
       "      <td>14,055.93</td>\n",
       "      <td>14</td>\n",
       "      <td>52</td>\n",
       "      <td>NaN</td>\n",
       "      <td>Краснодар</td>\n",
       "      <td>Рафаил</td>\n",
       "      <td>Верещагин</td>\n",
       "      <td>2018-05-25</td>\n",
       "      <td>ultra</td>\n",
       "      <td>1000</td>\n",
       "      <td>30720</td>\n",
       "      <td>3000</td>\n",
       "      <td>1950</td>\n",
       "      <td>150</td>\n",
       "      <td>1</td>\n",
       "      <td>1</td>\n",
       "      <td>30.00</td>\n",
       "      <td>0.00</td>\n",
       "      <td>1,950.00</td>\n",
       "    </tr>\n",
       "    <tr>\n",
       "      <th>1</th>\n",
       "      <td>1000</td>\n",
       "      <td>December</td>\n",
       "      <td>333</td>\n",
       "      <td>70</td>\n",
       "      <td>9,817.61</td>\n",
       "      <td>10</td>\n",
       "      <td>52</td>\n",
       "      <td>NaN</td>\n",
       "      <td>Краснодар</td>\n",
       "      <td>Рафаил</td>\n",
       "      <td>Верещагин</td>\n",
       "      <td>2018-05-25</td>\n",
       "      <td>ultra</td>\n",
       "      <td>1000</td>\n",
       "      <td>30720</td>\n",
       "      <td>3000</td>\n",
       "      <td>1950</td>\n",
       "      <td>150</td>\n",
       "      <td>1</td>\n",
       "      <td>1</td>\n",
       "      <td>30.00</td>\n",
       "      <td>0.00</td>\n",
       "      <td>1,950.00</td>\n",
       "    </tr>\n",
       "    <tr>\n",
       "      <th>2</th>\n",
       "      <td>1000</td>\n",
       "      <td>July</td>\n",
       "      <td>340</td>\n",
       "      <td>75</td>\n",
       "      <td>14,003.64</td>\n",
       "      <td>14</td>\n",
       "      <td>52</td>\n",
       "      <td>NaN</td>\n",
       "      <td>Краснодар</td>\n",
       "      <td>Рафаил</td>\n",
       "      <td>Верещагин</td>\n",
       "      <td>2018-05-25</td>\n",
       "      <td>ultra</td>\n",
       "      <td>1000</td>\n",
       "      <td>30720</td>\n",
       "      <td>3000</td>\n",
       "      <td>1950</td>\n",
       "      <td>150</td>\n",
       "      <td>1</td>\n",
       "      <td>1</td>\n",
       "      <td>30.00</td>\n",
       "      <td>0.00</td>\n",
       "      <td>1,950.00</td>\n",
       "    </tr>\n",
       "    <tr>\n",
       "      <th>3</th>\n",
       "      <td>1000</td>\n",
       "      <td>June</td>\n",
       "      <td>172</td>\n",
       "      <td>60</td>\n",
       "      <td>23,233.77</td>\n",
       "      <td>23</td>\n",
       "      <td>52</td>\n",
       "      <td>NaN</td>\n",
       "      <td>Краснодар</td>\n",
       "      <td>Рафаил</td>\n",
       "      <td>Верещагин</td>\n",
       "      <td>2018-05-25</td>\n",
       "      <td>ultra</td>\n",
       "      <td>1000</td>\n",
       "      <td>30720</td>\n",
       "      <td>3000</td>\n",
       "      <td>1950</td>\n",
       "      <td>150</td>\n",
       "      <td>1</td>\n",
       "      <td>1</td>\n",
       "      <td>30.00</td>\n",
       "      <td>0.00</td>\n",
       "      <td>1,950.00</td>\n",
       "    </tr>\n",
       "    <tr>\n",
       "      <th>4</th>\n",
       "      <td>1000</td>\n",
       "      <td>May</td>\n",
       "      <td>159</td>\n",
       "      <td>22</td>\n",
       "      <td>2,253.49</td>\n",
       "      <td>3</td>\n",
       "      <td>52</td>\n",
       "      <td>NaN</td>\n",
       "      <td>Краснодар</td>\n",
       "      <td>Рафаил</td>\n",
       "      <td>Верещагин</td>\n",
       "      <td>2018-05-25</td>\n",
       "      <td>ultra</td>\n",
       "      <td>1000</td>\n",
       "      <td>30720</td>\n",
       "      <td>3000</td>\n",
       "      <td>1950</td>\n",
       "      <td>150</td>\n",
       "      <td>1</td>\n",
       "      <td>1</td>\n",
       "      <td>30.00</td>\n",
       "      <td>0.00</td>\n",
       "      <td>1,950.00</td>\n",
       "    </tr>\n",
       "    <tr>\n",
       "      <th>5</th>\n",
       "      <td>1000</td>\n",
       "      <td>November</td>\n",
       "      <td>338</td>\n",
       "      <td>58</td>\n",
       "      <td>14,756.47</td>\n",
       "      <td>15</td>\n",
       "      <td>52</td>\n",
       "      <td>NaN</td>\n",
       "      <td>Краснодар</td>\n",
       "      <td>Рафаил</td>\n",
       "      <td>Верещагин</td>\n",
       "      <td>2018-05-25</td>\n",
       "      <td>ultra</td>\n",
       "      <td>1000</td>\n",
       "      <td>30720</td>\n",
       "      <td>3000</td>\n",
       "      <td>1950</td>\n",
       "      <td>150</td>\n",
       "      <td>1</td>\n",
       "      <td>1</td>\n",
       "      <td>30.00</td>\n",
       "      <td>0.00</td>\n",
       "      <td>1,950.00</td>\n",
       "    </tr>\n",
       "    <tr>\n",
       "      <th>6</th>\n",
       "      <td>1000</td>\n",
       "      <td>October</td>\n",
       "      <td>350</td>\n",
       "      <td>73</td>\n",
       "      <td>14,702.49</td>\n",
       "      <td>15</td>\n",
       "      <td>52</td>\n",
       "      <td>NaN</td>\n",
       "      <td>Краснодар</td>\n",
       "      <td>Рафаил</td>\n",
       "      <td>Верещагин</td>\n",
       "      <td>2018-05-25</td>\n",
       "      <td>ultra</td>\n",
       "      <td>1000</td>\n",
       "      <td>30720</td>\n",
       "      <td>3000</td>\n",
       "      <td>1950</td>\n",
       "      <td>150</td>\n",
       "      <td>1</td>\n",
       "      <td>1</td>\n",
       "      <td>30.00</td>\n",
       "      <td>0.00</td>\n",
       "      <td>1,950.00</td>\n",
       "    </tr>\n",
       "    <tr>\n",
       "      <th>7</th>\n",
       "      <td>1000</td>\n",
       "      <td>September</td>\n",
       "      <td>466</td>\n",
       "      <td>57</td>\n",
       "      <td>14,568.91</td>\n",
       "      <td>15</td>\n",
       "      <td>52</td>\n",
       "      <td>NaN</td>\n",
       "      <td>Краснодар</td>\n",
       "      <td>Рафаил</td>\n",
       "      <td>Верещагин</td>\n",
       "      <td>2018-05-25</td>\n",
       "      <td>ultra</td>\n",
       "      <td>1000</td>\n",
       "      <td>30720</td>\n",
       "      <td>3000</td>\n",
       "      <td>1950</td>\n",
       "      <td>150</td>\n",
       "      <td>1</td>\n",
       "      <td>1</td>\n",
       "      <td>30.00</td>\n",
       "      <td>0.00</td>\n",
       "      <td>1,950.00</td>\n",
       "    </tr>\n",
       "    <tr>\n",
       "      <th>8</th>\n",
       "      <td>1001</td>\n",
       "      <td>December</td>\n",
       "      <td>414</td>\n",
       "      <td>0</td>\n",
       "      <td>14,036.66</td>\n",
       "      <td>14</td>\n",
       "      <td>41</td>\n",
       "      <td>NaN</td>\n",
       "      <td>Москва</td>\n",
       "      <td>Иван</td>\n",
       "      <td>Ежов</td>\n",
       "      <td>2018-11-01</td>\n",
       "      <td>smart</td>\n",
       "      <td>50</td>\n",
       "      <td>15360</td>\n",
       "      <td>500</td>\n",
       "      <td>550</td>\n",
       "      <td>200</td>\n",
       "      <td>3</td>\n",
       "      <td>3</td>\n",
       "      <td>15.00</td>\n",
       "      <td>0.00</td>\n",
       "      <td>550.00</td>\n",
       "    </tr>\n",
       "    <tr>\n",
       "      <th>9</th>\n",
       "      <td>1001</td>\n",
       "      <td>November</td>\n",
       "      <td>430</td>\n",
       "      <td>0</td>\n",
       "      <td>18,429.34</td>\n",
       "      <td>18</td>\n",
       "      <td>41</td>\n",
       "      <td>NaN</td>\n",
       "      <td>Москва</td>\n",
       "      <td>Иван</td>\n",
       "      <td>Ежов</td>\n",
       "      <td>2018-11-01</td>\n",
       "      <td>smart</td>\n",
       "      <td>50</td>\n",
       "      <td>15360</td>\n",
       "      <td>500</td>\n",
       "      <td>550</td>\n",
       "      <td>200</td>\n",
       "      <td>3</td>\n",
       "      <td>3</td>\n",
       "      <td>15.00</td>\n",
       "      <td>600.00</td>\n",
       "      <td>1,150.00</td>\n",
       "    </tr>\n",
       "  </tbody>\n",
       "</table>\n",
       "</div>"
      ],
      "text/plain": [
       "   user_id      month  duration_min_month  messages_month   mb_used  \\\n",
       "0     1000     August                 408              81 14,055.93   \n",
       "1     1000   December                 333              70  9,817.61   \n",
       "2     1000       July                 340              75 14,003.64   \n",
       "3     1000       June                 172              60 23,233.77   \n",
       "4     1000        May                 159              22  2,253.49   \n",
       "5     1000   November                 338              58 14,756.47   \n",
       "6     1000    October                 350              73 14,702.49   \n",
       "7     1000  September                 466              57 14,568.91   \n",
       "8     1001   December                 414               0 14,036.66   \n",
       "9     1001   November                 430               0 18,429.34   \n",
       "\n",
       "   gb_used_month  age churn_date       city first_name  last_name   reg_date  \\\n",
       "0             14   52        NaN  Краснодар     Рафаил  Верещагин 2018-05-25   \n",
       "1             10   52        NaN  Краснодар     Рафаил  Верещагин 2018-05-25   \n",
       "2             14   52        NaN  Краснодар     Рафаил  Верещагин 2018-05-25   \n",
       "3             23   52        NaN  Краснодар     Рафаил  Верещагин 2018-05-25   \n",
       "4              3   52        NaN  Краснодар     Рафаил  Верещагин 2018-05-25   \n",
       "5             15   52        NaN  Краснодар     Рафаил  Верещагин 2018-05-25   \n",
       "6             15   52        NaN  Краснодар     Рафаил  Верещагин 2018-05-25   \n",
       "7             15   52        NaN  Краснодар     Рафаил  Верещагин 2018-05-25   \n",
       "8             14   41        NaN     Москва       Иван       Ежов 2018-11-01   \n",
       "9             18   41        NaN     Москва       Иван       Ежов 2018-11-01   \n",
       "\n",
       "  tariff  messages_included  mb_per_month_included  minutes_included  \\\n",
       "0  ultra               1000                  30720              3000   \n",
       "1  ultra               1000                  30720              3000   \n",
       "2  ultra               1000                  30720              3000   \n",
       "3  ultra               1000                  30720              3000   \n",
       "4  ultra               1000                  30720              3000   \n",
       "5  ultra               1000                  30720              3000   \n",
       "6  ultra               1000                  30720              3000   \n",
       "7  ultra               1000                  30720              3000   \n",
       "8  smart                 50                  15360               500   \n",
       "9  smart                 50                  15360               500   \n",
       "\n",
       "   rub_monthly_fee  rub_per_gb  rub_per_message  rub_per_minute  \\\n",
       "0             1950         150                1               1   \n",
       "1             1950         150                1               1   \n",
       "2             1950         150                1               1   \n",
       "3             1950         150                1               1   \n",
       "4             1950         150                1               1   \n",
       "5             1950         150                1               1   \n",
       "6             1950         150                1               1   \n",
       "7             1950         150                1               1   \n",
       "8              550         200                3               3   \n",
       "9              550         200                3               3   \n",
       "\n",
       "   gb_per_month_included  revenue_above_tariff  revenue_total  \n",
       "0                  30.00                  0.00       1,950.00  \n",
       "1                  30.00                  0.00       1,950.00  \n",
       "2                  30.00                  0.00       1,950.00  \n",
       "3                  30.00                  0.00       1,950.00  \n",
       "4                  30.00                  0.00       1,950.00  \n",
       "5                  30.00                  0.00       1,950.00  \n",
       "6                  30.00                  0.00       1,950.00  \n",
       "7                  30.00                  0.00       1,950.00  \n",
       "8                  15.00                  0.00         550.00  \n",
       "9                  15.00                600.00       1,150.00  "
      ]
     },
     "execution_count": 43,
     "metadata": {},
     "output_type": "execute_result"
    }
   ],
   "source": [
    "df['revenue_total'] = df['revenue_above_tariff'] + df['rub_monthly_fee']\n",
    "df.head(10)"
   ]
  },
  {
   "cell_type": "markdown",
   "metadata": {},
   "source": [
    "## Анализ данных"
   ]
  },
  {
   "cell_type": "markdown",
   "metadata": {},
   "source": [
    "Задача:\n",
    "- Опишите поведение клиентов оператора, исходя из выборки. \n",
    "- Сколько минут разговора, сколько сообщений и какой объём интернет-трафика требуется пользователям каждого тарифа в месяц?\n",
    "- Посчитайте среднее количество, дисперсию и стандартное отклонение. \n",
    "- Постройте гистограммы. Опишите распределения."
   ]
  },
  {
   "cell_type": "markdown",
   "metadata": {},
   "source": [
    "### Сколько минут разговора, сколько сообщений и какой объём интернет-трафика требуется пользователям каждого тарифа в месяц?"
   ]
  },
  {
   "cell_type": "markdown",
   "metadata": {},
   "source": [
    "Найдем средние значения продолжительности звонков, количества смс и интернет трафифка пользователей разных тарифов и сравним средние с тарифными лимитами."
   ]
  },
  {
   "cell_type": "code",
   "execution_count": 44,
   "metadata": {
    "scrolled": true
   },
   "outputs": [
    {
     "data": {
      "text/html": [
       "<div>\n",
       "<style scoped>\n",
       "    .dataframe tbody tr th:only-of-type {\n",
       "        vertical-align: middle;\n",
       "    }\n",
       "\n",
       "    .dataframe tbody tr th {\n",
       "        vertical-align: top;\n",
       "    }\n",
       "\n",
       "    .dataframe thead th {\n",
       "        text-align: right;\n",
       "    }\n",
       "</style>\n",
       "<table border=\"1\" class=\"dataframe\">\n",
       "  <thead>\n",
       "    <tr style=\"text-align: right;\">\n",
       "      <th></th>\n",
       "      <th>duration_min_month</th>\n",
       "      <th>minutes_included</th>\n",
       "      <th>messages_month</th>\n",
       "      <th>messages_included</th>\n",
       "      <th>gb_used_month</th>\n",
       "      <th>gb_per_month_included</th>\n",
       "    </tr>\n",
       "    <tr>\n",
       "      <th>tariff</th>\n",
       "      <th></th>\n",
       "      <th></th>\n",
       "      <th></th>\n",
       "      <th></th>\n",
       "      <th></th>\n",
       "      <th></th>\n",
       "    </tr>\n",
       "  </thead>\n",
       "  <tbody>\n",
       "    <tr>\n",
       "      <th>smart</th>\n",
       "      <td>417.75</td>\n",
       "      <td>500</td>\n",
       "      <td>33.37</td>\n",
       "      <td>50</td>\n",
       "      <td>16.32</td>\n",
       "      <td>15.00</td>\n",
       "    </tr>\n",
       "    <tr>\n",
       "      <th>ultra</th>\n",
       "      <td>526.09</td>\n",
       "      <td>3000</td>\n",
       "      <td>49.31</td>\n",
       "      <td>1000</td>\n",
       "      <td>19.47</td>\n",
       "      <td>30.00</td>\n",
       "    </tr>\n",
       "  </tbody>\n",
       "</table>\n",
       "</div>"
      ],
      "text/plain": [
       "        duration_min_month  minutes_included  messages_month  \\\n",
       "tariff                                                         \n",
       "smart               417.75               500           33.37   \n",
       "ultra               526.09              3000           49.31   \n",
       "\n",
       "        messages_included  gb_used_month  gb_per_month_included  \n",
       "tariff                                                           \n",
       "smart                  50          16.32                  15.00  \n",
       "ultra                1000          19.47                  30.00  "
      ]
     },
     "execution_count": 44,
     "metadata": {},
     "output_type": "execute_result"
    }
   ],
   "source": [
    "df.groupby('tariff').agg({'duration_min_month':'mean',\n",
    "                          'minutes_included':'mean',\n",
    "                          'messages_month':'mean',\n",
    "                          'messages_included':'mean',\n",
    "                          'gb_used_month':'mean',\n",
    "                          'gb_per_month_included':'mean'})"
   ]
  },
  {
   "cell_type": "markdown",
   "metadata": {},
   "source": [
    "Как видно, пользователи обоих тарифов не расходуют лимиты ни по продолжительности звонков, ни по количеству сообщений. В то же время, **клиенты тарифа Смарт в среднем** расходуют больше интернет-трафика, чем включено в тариф."
   ]
  },
  {
   "cell_type": "markdown",
   "metadata": {},
   "source": [
    "### Посчитаем среднее количество, дисперсию и стандартное отклонение. Построим гистограммы и опишем распределения."
   ]
  },
  {
   "cell_type": "markdown",
   "metadata": {},
   "source": [
    "#### Продолжительность звонков"
   ]
  },
  {
   "cell_type": "code",
   "execution_count": 46,
   "metadata": {},
   "outputs": [
    {
     "data": {
      "text/html": [
       "<div>\n",
       "<style scoped>\n",
       "    .dataframe tbody tr th:only-of-type {\n",
       "        vertical-align: middle;\n",
       "    }\n",
       "\n",
       "    .dataframe tbody tr th {\n",
       "        vertical-align: top;\n",
       "    }\n",
       "\n",
       "    .dataframe thead tr th {\n",
       "        text-align: left;\n",
       "    }\n",
       "\n",
       "    .dataframe thead tr:last-of-type th {\n",
       "        text-align: right;\n",
       "    }\n",
       "</style>\n",
       "<table border=\"1\" class=\"dataframe\">\n",
       "  <thead>\n",
       "    <tr>\n",
       "      <th></th>\n",
       "      <th colspan=\"4\" halign=\"left\">duration_min_month</th>\n",
       "    </tr>\n",
       "    <tr>\n",
       "      <th></th>\n",
       "      <th>median</th>\n",
       "      <th>mean</th>\n",
       "      <th>var</th>\n",
       "      <th>std</th>\n",
       "    </tr>\n",
       "    <tr>\n",
       "      <th>tariff</th>\n",
       "      <th></th>\n",
       "      <th></th>\n",
       "      <th></th>\n",
       "      <th></th>\n",
       "    </tr>\n",
       "  </thead>\n",
       "  <tbody>\n",
       "    <tr>\n",
       "      <th>smart</th>\n",
       "      <td>421.50</td>\n",
       "      <td>417.75</td>\n",
       "      <td>36,281.39</td>\n",
       "      <td>190.48</td>\n",
       "    </tr>\n",
       "    <tr>\n",
       "      <th>ultra</th>\n",
       "      <td>518.00</td>\n",
       "      <td>526.09</td>\n",
       "      <td>101,052.49</td>\n",
       "      <td>317.89</td>\n",
       "    </tr>\n",
       "  </tbody>\n",
       "</table>\n",
       "</div>"
      ],
      "text/plain": [
       "       duration_min_month                         \n",
       "                   median   mean        var    std\n",
       "tariff                                            \n",
       "smart              421.50 417.75  36,281.39 190.48\n",
       "ultra              518.00 526.09 101,052.49 317.89"
      ]
     },
     "execution_count": 46,
     "metadata": {},
     "output_type": "execute_result"
    }
   ],
   "source": [
    "df.groupby('tariff').agg({'duration_min_month':['median','mean','var','std']})"
   ]
  },
  {
   "cell_type": "code",
   "execution_count": 47,
   "metadata": {
    "scrolled": false
   },
   "outputs": [
    {
     "data": {
      "image/png": "[encoded data removed]",
      "text/plain": [
       "<Figure size 432x288 with 1 Axes>"
      ]
     },
     "metadata": {
      "needs_background": "light"
     },
     "output_type": "display_data"
    }
   ],
   "source": [
    "df[df['tariff'] == 'smart']['duration_min_month'].plot(kind='hist', grid=True, bins = 10);"
   ]
  },
  {
   "cell_type": "code",
   "execution_count": 48,
   "metadata": {
    "scrolled": false
   },
   "outputs": [
    {
     "data": {
      "image/png": "[encoded data removed]",
      "text/plain": [
       "<Figure size 432x288 with 1 Axes>"
      ]
     },
     "metadata": {
      "needs_background": "light"
     },
     "output_type": "display_data"
    }
   ],
   "source": [
    "df[df['tariff'] == 'ultra']['duration_min_month'].plot(kind='hist', grid=True, bins = 10);"
   ]
  },
  {
   "cell_type": "markdown",
   "metadata": {},
   "source": [
    "На тарифе Смарт клиенты в среднем расходуют примерно 417 минуту в месяц, что незначительно меньше включенных 500 минут. На тарифе Ультра клиенты в среднем расходуют примерно 526 минут в месяц, при этом остается неиспользованым практически 80% тарифного лимита.\n",
    "\n",
    "Средние значения близки к медианным, что говорит об остутсвии выбросов - это же видно и  на графиках."
   ]
  },
  {
   "cell_type": "markdown",
   "metadata": {},
   "source": [
    "<div class=\"alert alert-info\"> <b>Комментарий студента:</b> Поправил. Изначально писал на основе примерной оценки диаграммы </div>"
   ]
  },
  {
   "cell_type": "markdown",
   "metadata": {},
   "source": [
    "#### Количество сообщений"
   ]
  },
  {
   "cell_type": "code",
   "execution_count": 50,
   "metadata": {},
   "outputs": [
    {
     "data": {
      "text/html": [
       "<div>\n",
       "<style scoped>\n",
       "    .dataframe tbody tr th:only-of-type {\n",
       "        vertical-align: middle;\n",
       "    }\n",
       "\n",
       "    .dataframe tbody tr th {\n",
       "        vertical-align: top;\n",
       "    }\n",
       "\n",
       "    .dataframe thead tr th {\n",
       "        text-align: left;\n",
       "    }\n",
       "\n",
       "    .dataframe thead tr:last-of-type th {\n",
       "        text-align: right;\n",
       "    }\n",
       "</style>\n",
       "<table border=\"1\" class=\"dataframe\">\n",
       "  <thead>\n",
       "    <tr>\n",
       "      <th></th>\n",
       "      <th colspan=\"4\" halign=\"left\">messages_month</th>\n",
       "    </tr>\n",
       "    <tr>\n",
       "      <th></th>\n",
       "      <th>median</th>\n",
       "      <th>mean</th>\n",
       "      <th>var</th>\n",
       "      <th>std</th>\n",
       "    </tr>\n",
       "    <tr>\n",
       "      <th>tariff</th>\n",
       "      <th></th>\n",
       "      <th></th>\n",
       "      <th></th>\n",
       "      <th></th>\n",
       "    </tr>\n",
       "  </thead>\n",
       "  <tbody>\n",
       "    <tr>\n",
       "      <th>smart</th>\n",
       "      <td>28</td>\n",
       "      <td>33.37</td>\n",
       "      <td>796.96</td>\n",
       "      <td>28.23</td>\n",
       "    </tr>\n",
       "    <tr>\n",
       "      <th>ultra</th>\n",
       "      <td>38</td>\n",
       "      <td>49.31</td>\n",
       "      <td>2,285.42</td>\n",
       "      <td>47.81</td>\n",
       "    </tr>\n",
       "  </tbody>\n",
       "</table>\n",
       "</div>"
      ],
      "text/plain": [
       "       messages_month                     \n",
       "               median  mean      var   std\n",
       "tariff                                    \n",
       "smart              28 33.37   796.96 28.23\n",
       "ultra              38 49.31 2,285.42 47.81"
      ]
     },
     "execution_count": 50,
     "metadata": {},
     "output_type": "execute_result"
    }
   ],
   "source": [
    "df.groupby('tariff').agg({'messages_month':['median','mean','var','std']})"
   ]
  },
  {
   "cell_type": "code",
   "execution_count": 51,
   "metadata": {
    "scrolled": true
   },
   "outputs": [
    {
     "data": {
      "image/png": "[encoded data removed]",
      "text/plain": [
       "<Figure size 432x288 with 1 Axes>"
      ]
     },
     "metadata": {
      "needs_background": "light"
     },
     "output_type": "display_data"
    }
   ],
   "source": [
    "df[df['tariff'] == 'smart']['messages_month'].plot(kind='hist', grid=True, bins = 20);"
   ]
  },
  {
   "cell_type": "code",
   "execution_count": 52,
   "metadata": {
    "scrolled": true
   },
   "outputs": [
    {
     "data": {
      "image/png": "[encoded data removed]",
      "text/plain": [
       "<Figure size 432x288 with 1 Axes>"
      ]
     },
     "metadata": {
      "needs_background": "light"
     },
     "output_type": "display_data"
    }
   ],
   "source": [
    "df[df['tariff'] == 'ultra']['messages_month'].plot(kind='hist', grid=True, bins = 20);"
   ]
  },
  {
   "cell_type": "markdown",
   "metadata": {},
   "source": [
    "Большинство клиентов на обоих тарифах отправляют менее 10 сообщений в месяц. \n",
    "\n",
    "Средние значения выше медианных - есть небольшое число клиентов на обоих тарифах, расходующих сообщений значительно больше среднего (более 100 сообщений на Ультра и более 200 на Смарт)."
   ]
  },
  {
   "cell_type": "code",
   "execution_count": 53,
   "metadata": {
    "scrolled": true
   },
   "outputs": [
    {
     "data": {
      "text/plain": [
       "50"
      ]
     },
     "execution_count": 53,
     "metadata": {},
     "output_type": "execute_result"
    }
   ],
   "source": [
    "df.query('tariff == \"smart\" and messages_month > 100')['messages_month'].count()"
   ]
  },
  {
   "cell_type": "code",
   "execution_count": 54,
   "metadata": {},
   "outputs": [
    {
     "data": {
      "text/plain": [
       "4"
      ]
     },
     "execution_count": 54,
     "metadata": {},
     "output_type": "execute_result"
    }
   ],
   "source": [
    "df.query('tariff == \"ultra\" and messages_month > 200')['messages_month'].count()"
   ]
  },
  {
   "cell_type": "markdown",
   "metadata": {},
   "source": [
    "#### Объем интернет-трафика"
   ]
  },
  {
   "cell_type": "code",
   "execution_count": 55,
   "metadata": {},
   "outputs": [
    {
     "data": {
      "text/html": [
       "<div>\n",
       "<style scoped>\n",
       "    .dataframe tbody tr th:only-of-type {\n",
       "        vertical-align: middle;\n",
       "    }\n",
       "\n",
       "    .dataframe tbody tr th {\n",
       "        vertical-align: top;\n",
       "    }\n",
       "\n",
       "    .dataframe thead tr th {\n",
       "        text-align: left;\n",
       "    }\n",
       "\n",
       "    .dataframe thead tr:last-of-type th {\n",
       "        text-align: right;\n",
       "    }\n",
       "</style>\n",
       "<table border=\"1\" class=\"dataframe\">\n",
       "  <thead>\n",
       "    <tr>\n",
       "      <th></th>\n",
       "      <th colspan=\"4\" halign=\"left\">gb_used_month</th>\n",
       "    </tr>\n",
       "    <tr>\n",
       "      <th></th>\n",
       "      <th>median</th>\n",
       "      <th>mean</th>\n",
       "      <th>var</th>\n",
       "      <th>std</th>\n",
       "    </tr>\n",
       "    <tr>\n",
       "      <th>tariff</th>\n",
       "      <th></th>\n",
       "      <th></th>\n",
       "      <th></th>\n",
       "      <th></th>\n",
       "    </tr>\n",
       "  </thead>\n",
       "  <tbody>\n",
       "    <tr>\n",
       "      <th>smart</th>\n",
       "      <td>17</td>\n",
       "      <td>16.32</td>\n",
       "      <td>33.13</td>\n",
       "      <td>5.76</td>\n",
       "    </tr>\n",
       "    <tr>\n",
       "      <th>ultra</th>\n",
       "      <td>19</td>\n",
       "      <td>19.47</td>\n",
       "      <td>97.38</td>\n",
       "      <td>9.87</td>\n",
       "    </tr>\n",
       "  </tbody>\n",
       "</table>\n",
       "</div>"
      ],
      "text/plain": [
       "       gb_used_month                 \n",
       "              median  mean   var  std\n",
       "tariff                               \n",
       "smart             17 16.32 33.13 5.76\n",
       "ultra             19 19.47 97.38 9.87"
      ]
     },
     "execution_count": 55,
     "metadata": {},
     "output_type": "execute_result"
    }
   ],
   "source": [
    "df.groupby('tariff').agg({'gb_used_month':['median','mean','var','std']})"
   ]
  },
  {
   "cell_type": "code",
   "execution_count": 56,
   "metadata": {},
   "outputs": [
    {
     "data": {
      "image/png": "[encoded data removed]",
      "text/plain": [
       "<Figure size 432x288 with 1 Axes>"
      ]
     },
     "metadata": {
      "needs_background": "light"
     },
     "output_type": "display_data"
    }
   ],
   "source": [
    "df[df['tariff'] == 'smart']['gb_used_month'].plot(kind='hist', grid=True, bins = 19);"
   ]
  },
  {
   "cell_type": "code",
   "execution_count": 57,
   "metadata": {
    "scrolled": true
   },
   "outputs": [
    {
     "data": {
      "image/png": "[encoded data removed]",
      "text/plain": [
       "<Figure size 432x288 with 1 Axes>"
      ]
     },
     "metadata": {
      "needs_background": "light"
     },
     "output_type": "display_data"
    }
   ],
   "source": [
    "df[df['tariff'] == 'ultra']['gb_used_month'].plot(kind='hist', grid=True, bins = 25);"
   ]
  },
  {
   "cell_type": "markdown",
   "metadata": {},
   "source": [
    "На тарифе Смарт примерно половина пользователей выходит за лимит в 15 Gb - средний расход 16,33 Gb; на тарифе Смарт расходуется в среднем 19,49 Gb при лимите в 30 Gb. Медиана и среднее практически равны для обоих тарифов."
   ]
  },
  {
   "cell_type": "markdown",
   "metadata": {},
   "source": [
    "### Сравним средние значения использования пакетов тарифа и выручки от клиента для пользователей разных тарифов"
   ]
  },
  {
   "cell_type": "code",
   "execution_count": 58,
   "metadata": {
    "scrolled": true
   },
   "outputs": [
    {
     "data": {
      "text/html": [
       "<div>\n",
       "<style scoped>\n",
       "    .dataframe tbody tr th:only-of-type {\n",
       "        vertical-align: middle;\n",
       "    }\n",
       "\n",
       "    .dataframe tbody tr th {\n",
       "        vertical-align: top;\n",
       "    }\n",
       "\n",
       "    .dataframe thead th {\n",
       "        text-align: right;\n",
       "    }\n",
       "</style>\n",
       "<table border=\"1\" class=\"dataframe\">\n",
       "  <thead>\n",
       "    <tr style=\"text-align: right;\">\n",
       "      <th></th>\n",
       "      <th>duration_min_month</th>\n",
       "      <th>messages_month</th>\n",
       "      <th>gb_used_month</th>\n",
       "      <th>revenue_above_tariff</th>\n",
       "      <th>revenue_total</th>\n",
       "    </tr>\n",
       "    <tr>\n",
       "      <th>tariff</th>\n",
       "      <th></th>\n",
       "      <th></th>\n",
       "      <th></th>\n",
       "      <th></th>\n",
       "      <th></th>\n",
       "    </tr>\n",
       "  </thead>\n",
       "  <tbody>\n",
       "    <tr>\n",
       "      <th>smart</th>\n",
       "      <td>417.75</td>\n",
       "      <td>33.37</td>\n",
       "      <td>16.32</td>\n",
       "      <td>739.64</td>\n",
       "      <td>1,289.64</td>\n",
       "    </tr>\n",
       "    <tr>\n",
       "      <th>ultra</th>\n",
       "      <td>526.09</td>\n",
       "      <td>49.31</td>\n",
       "      <td>19.47</td>\n",
       "      <td>120.03</td>\n",
       "      <td>2,070.03</td>\n",
       "    </tr>\n",
       "  </tbody>\n",
       "</table>\n",
       "</div>"
      ],
      "text/plain": [
       "        duration_min_month  messages_month  gb_used_month  \\\n",
       "tariff                                                      \n",
       "smart               417.75           33.37          16.32   \n",
       "ultra               526.09           49.31          19.47   \n",
       "\n",
       "        revenue_above_tariff  revenue_total  \n",
       "tariff                                       \n",
       "smart                 739.64       1,289.64  \n",
       "ultra                 120.03       2,070.03  "
      ]
     },
     "execution_count": 58,
     "metadata": {},
     "output_type": "execute_result"
    }
   ],
   "source": [
    "df.groupby('tariff')[['duration_min_month', 'messages_month', 'gb_used_month', 'revenue_above_tariff', 'revenue_total']].mean()"
   ]
  },
  {
   "cell_type": "code",
   "execution_count": 59,
   "metadata": {},
   "outputs": [
    {
     "data": {
      "text/plain": [
       "160.59"
      ]
     },
     "execution_count": 59,
     "metadata": {},
     "output_type": "execute_result"
    }
   ],
   "source": [
    "round(2070/1289*100, 2)"
   ]
  },
  {
   "cell_type": "markdown",
   "metadata": {},
   "source": [
    "**Как видно из данных, в среднем клиент тарифа Ультра приносит выручки на 60% больше, при незначительно больших нагрузках на сети компании (при этом не выходя за лимиты пакетов).**"
   ]
  },
  {
   "cell_type": "markdown",
   "metadata": {},
   "source": [
    "### Сравним среднюю переплату по тарифам"
   ]
  },
  {
   "cell_type": "markdown",
   "metadata": {},
   "source": [
    "Добавим столбец с отношением переплаты к стоимости тарифа"
   ]
  },
  {
   "cell_type": "code",
   "execution_count": 60,
   "metadata": {
    "scrolled": true
   },
   "outputs": [
    {
     "data": {
      "text/html": [
       "<div>\n",
       "<style scoped>\n",
       "    .dataframe tbody tr th:only-of-type {\n",
       "        vertical-align: middle;\n",
       "    }\n",
       "\n",
       "    .dataframe tbody tr th {\n",
       "        vertical-align: top;\n",
       "    }\n",
       "\n",
       "    .dataframe thead th {\n",
       "        text-align: right;\n",
       "    }\n",
       "</style>\n",
       "<table border=\"1\" class=\"dataframe\">\n",
       "  <thead>\n",
       "    <tr style=\"text-align: right;\">\n",
       "      <th></th>\n",
       "      <th>user_id</th>\n",
       "      <th>month</th>\n",
       "      <th>duration_min_month</th>\n",
       "      <th>messages_month</th>\n",
       "      <th>mb_used</th>\n",
       "      <th>gb_used_month</th>\n",
       "      <th>age</th>\n",
       "      <th>churn_date</th>\n",
       "      <th>city</th>\n",
       "      <th>first_name</th>\n",
       "      <th>last_name</th>\n",
       "      <th>reg_date</th>\n",
       "      <th>tariff</th>\n",
       "      <th>messages_included</th>\n",
       "      <th>mb_per_month_included</th>\n",
       "      <th>minutes_included</th>\n",
       "      <th>rub_monthly_fee</th>\n",
       "      <th>rub_per_gb</th>\n",
       "      <th>rub_per_message</th>\n",
       "      <th>rub_per_minute</th>\n",
       "      <th>gb_per_month_included</th>\n",
       "      <th>revenue_above_tariff</th>\n",
       "      <th>revenue_total</th>\n",
       "      <th>revenue_above_tariff_ratio</th>\n",
       "    </tr>\n",
       "  </thead>\n",
       "  <tbody>\n",
       "    <tr>\n",
       "      <th>0</th>\n",
       "      <td>1000</td>\n",
       "      <td>August</td>\n",
       "      <td>408</td>\n",
       "      <td>81</td>\n",
       "      <td>14,055.93</td>\n",
       "      <td>14</td>\n",
       "      <td>52</td>\n",
       "      <td>NaN</td>\n",
       "      <td>Краснодар</td>\n",
       "      <td>Рафаил</td>\n",
       "      <td>Верещагин</td>\n",
       "      <td>2018-05-25</td>\n",
       "      <td>ultra</td>\n",
       "      <td>1000</td>\n",
       "      <td>30720</td>\n",
       "      <td>3000</td>\n",
       "      <td>1950</td>\n",
       "      <td>150</td>\n",
       "      <td>1</td>\n",
       "      <td>1</td>\n",
       "      <td>30.00</td>\n",
       "      <td>0.00</td>\n",
       "      <td>1,950.00</td>\n",
       "      <td>0.00</td>\n",
       "    </tr>\n",
       "    <tr>\n",
       "      <th>1</th>\n",
       "      <td>1000</td>\n",
       "      <td>December</td>\n",
       "      <td>333</td>\n",
       "      <td>70</td>\n",
       "      <td>9,817.61</td>\n",
       "      <td>10</td>\n",
       "      <td>52</td>\n",
       "      <td>NaN</td>\n",
       "      <td>Краснодар</td>\n",
       "      <td>Рафаил</td>\n",
       "      <td>Верещагин</td>\n",
       "      <td>2018-05-25</td>\n",
       "      <td>ultra</td>\n",
       "      <td>1000</td>\n",
       "      <td>30720</td>\n",
       "      <td>3000</td>\n",
       "      <td>1950</td>\n",
       "      <td>150</td>\n",
       "      <td>1</td>\n",
       "      <td>1</td>\n",
       "      <td>30.00</td>\n",
       "      <td>0.00</td>\n",
       "      <td>1,950.00</td>\n",
       "      <td>0.00</td>\n",
       "    </tr>\n",
       "    <tr>\n",
       "      <th>2</th>\n",
       "      <td>1000</td>\n",
       "      <td>July</td>\n",
       "      <td>340</td>\n",
       "      <td>75</td>\n",
       "      <td>14,003.64</td>\n",
       "      <td>14</td>\n",
       "      <td>52</td>\n",
       "      <td>NaN</td>\n",
       "      <td>Краснодар</td>\n",
       "      <td>Рафаил</td>\n",
       "      <td>Верещагин</td>\n",
       "      <td>2018-05-25</td>\n",
       "      <td>ultra</td>\n",
       "      <td>1000</td>\n",
       "      <td>30720</td>\n",
       "      <td>3000</td>\n",
       "      <td>1950</td>\n",
       "      <td>150</td>\n",
       "      <td>1</td>\n",
       "      <td>1</td>\n",
       "      <td>30.00</td>\n",
       "      <td>0.00</td>\n",
       "      <td>1,950.00</td>\n",
       "      <td>0.00</td>\n",
       "    </tr>\n",
       "    <tr>\n",
       "      <th>3</th>\n",
       "      <td>1000</td>\n",
       "      <td>June</td>\n",
       "      <td>172</td>\n",
       "      <td>60</td>\n",
       "      <td>23,233.77</td>\n",
       "      <td>23</td>\n",
       "      <td>52</td>\n",
       "      <td>NaN</td>\n",
       "      <td>Краснодар</td>\n",
       "      <td>Рафаил</td>\n",
       "      <td>Верещагин</td>\n",
       "      <td>2018-05-25</td>\n",
       "      <td>ultra</td>\n",
       "      <td>1000</td>\n",
       "      <td>30720</td>\n",
       "      <td>3000</td>\n",
       "      <td>1950</td>\n",
       "      <td>150</td>\n",
       "      <td>1</td>\n",
       "      <td>1</td>\n",
       "      <td>30.00</td>\n",
       "      <td>0.00</td>\n",
       "      <td>1,950.00</td>\n",
       "      <td>0.00</td>\n",
       "    </tr>\n",
       "    <tr>\n",
       "      <th>4</th>\n",
       "      <td>1000</td>\n",
       "      <td>May</td>\n",
       "      <td>159</td>\n",
       "      <td>22</td>\n",
       "      <td>2,253.49</td>\n",
       "      <td>3</td>\n",
       "      <td>52</td>\n",
       "      <td>NaN</td>\n",
       "      <td>Краснодар</td>\n",
       "      <td>Рафаил</td>\n",
       "      <td>Верещагин</td>\n",
       "      <td>2018-05-25</td>\n",
       "      <td>ultra</td>\n",
       "      <td>1000</td>\n",
       "      <td>30720</td>\n",
       "      <td>3000</td>\n",
       "      <td>1950</td>\n",
       "      <td>150</td>\n",
       "      <td>1</td>\n",
       "      <td>1</td>\n",
       "      <td>30.00</td>\n",
       "      <td>0.00</td>\n",
       "      <td>1,950.00</td>\n",
       "      <td>0.00</td>\n",
       "    </tr>\n",
       "    <tr>\n",
       "      <th>5</th>\n",
       "      <td>1000</td>\n",
       "      <td>November</td>\n",
       "      <td>338</td>\n",
       "      <td>58</td>\n",
       "      <td>14,756.47</td>\n",
       "      <td>15</td>\n",
       "      <td>52</td>\n",
       "      <td>NaN</td>\n",
       "      <td>Краснодар</td>\n",
       "      <td>Рафаил</td>\n",
       "      <td>Верещагин</td>\n",
       "      <td>2018-05-25</td>\n",
       "      <td>ultra</td>\n",
       "      <td>1000</td>\n",
       "      <td>30720</td>\n",
       "      <td>3000</td>\n",
       "      <td>1950</td>\n",
       "      <td>150</td>\n",
       "      <td>1</td>\n",
       "      <td>1</td>\n",
       "      <td>30.00</td>\n",
       "      <td>0.00</td>\n",
       "      <td>1,950.00</td>\n",
       "      <td>0.00</td>\n",
       "    </tr>\n",
       "    <tr>\n",
       "      <th>6</th>\n",
       "      <td>1000</td>\n",
       "      <td>October</td>\n",
       "      <td>350</td>\n",
       "      <td>73</td>\n",
       "      <td>14,702.49</td>\n",
       "      <td>15</td>\n",
       "      <td>52</td>\n",
       "      <td>NaN</td>\n",
       "      <td>Краснодар</td>\n",
       "      <td>Рафаил</td>\n",
       "      <td>Верещагин</td>\n",
       "      <td>2018-05-25</td>\n",
       "      <td>ultra</td>\n",
       "      <td>1000</td>\n",
       "      <td>30720</td>\n",
       "      <td>3000</td>\n",
       "      <td>1950</td>\n",
       "      <td>150</td>\n",
       "      <td>1</td>\n",
       "      <td>1</td>\n",
       "      <td>30.00</td>\n",
       "      <td>0.00</td>\n",
       "      <td>1,950.00</td>\n",
       "      <td>0.00</td>\n",
       "    </tr>\n",
       "    <tr>\n",
       "      <th>7</th>\n",
       "      <td>1000</td>\n",
       "      <td>September</td>\n",
       "      <td>466</td>\n",
       "      <td>57</td>\n",
       "      <td>14,568.91</td>\n",
       "      <td>15</td>\n",
       "      <td>52</td>\n",
       "      <td>NaN</td>\n",
       "      <td>Краснодар</td>\n",
       "      <td>Рафаил</td>\n",
       "      <td>Верещагин</td>\n",
       "      <td>2018-05-25</td>\n",
       "      <td>ultra</td>\n",
       "      <td>1000</td>\n",
       "      <td>30720</td>\n",
       "      <td>3000</td>\n",
       "      <td>1950</td>\n",
       "      <td>150</td>\n",
       "      <td>1</td>\n",
       "      <td>1</td>\n",
       "      <td>30.00</td>\n",
       "      <td>0.00</td>\n",
       "      <td>1,950.00</td>\n",
       "      <td>0.00</td>\n",
       "    </tr>\n",
       "    <tr>\n",
       "      <th>8</th>\n",
       "      <td>1001</td>\n",
       "      <td>December</td>\n",
       "      <td>414</td>\n",
       "      <td>0</td>\n",
       "      <td>14,036.66</td>\n",
       "      <td>14</td>\n",
       "      <td>41</td>\n",
       "      <td>NaN</td>\n",
       "      <td>Москва</td>\n",
       "      <td>Иван</td>\n",
       "      <td>Ежов</td>\n",
       "      <td>2018-11-01</td>\n",
       "      <td>smart</td>\n",
       "      <td>50</td>\n",
       "      <td>15360</td>\n",
       "      <td>500</td>\n",
       "      <td>550</td>\n",
       "      <td>200</td>\n",
       "      <td>3</td>\n",
       "      <td>3</td>\n",
       "      <td>15.00</td>\n",
       "      <td>0.00</td>\n",
       "      <td>550.00</td>\n",
       "      <td>0.00</td>\n",
       "    </tr>\n",
       "    <tr>\n",
       "      <th>9</th>\n",
       "      <td>1001</td>\n",
       "      <td>November</td>\n",
       "      <td>430</td>\n",
       "      <td>0</td>\n",
       "      <td>18,429.34</td>\n",
       "      <td>18</td>\n",
       "      <td>41</td>\n",
       "      <td>NaN</td>\n",
       "      <td>Москва</td>\n",
       "      <td>Иван</td>\n",
       "      <td>Ежов</td>\n",
       "      <td>2018-11-01</td>\n",
       "      <td>smart</td>\n",
       "      <td>50</td>\n",
       "      <td>15360</td>\n",
       "      <td>500</td>\n",
       "      <td>550</td>\n",
       "      <td>200</td>\n",
       "      <td>3</td>\n",
       "      <td>3</td>\n",
       "      <td>15.00</td>\n",
       "      <td>600.00</td>\n",
       "      <td>1,150.00</td>\n",
       "      <td>1.09</td>\n",
       "    </tr>\n",
       "  </tbody>\n",
       "</table>\n",
       "</div>"
      ],
      "text/plain": [
       "   user_id      month  duration_min_month  messages_month   mb_used  \\\n",
       "0     1000     August                 408              81 14,055.93   \n",
       "1     1000   December                 333              70  9,817.61   \n",
       "2     1000       July                 340              75 14,003.64   \n",
       "3     1000       June                 172              60 23,233.77   \n",
       "4     1000        May                 159              22  2,253.49   \n",
       "5     1000   November                 338              58 14,756.47   \n",
       "6     1000    October                 350              73 14,702.49   \n",
       "7     1000  September                 466              57 14,568.91   \n",
       "8     1001   December                 414               0 14,036.66   \n",
       "9     1001   November                 430               0 18,429.34   \n",
       "\n",
       "   gb_used_month  age churn_date       city first_name  last_name   reg_date  \\\n",
       "0             14   52        NaN  Краснодар     Рафаил  Верещагин 2018-05-25   \n",
       "1             10   52        NaN  Краснодар     Рафаил  Верещагин 2018-05-25   \n",
       "2             14   52        NaN  Краснодар     Рафаил  Верещагин 2018-05-25   \n",
       "3             23   52        NaN  Краснодар     Рафаил  Верещагин 2018-05-25   \n",
       "4              3   52        NaN  Краснодар     Рафаил  Верещагин 2018-05-25   \n",
       "5             15   52        NaN  Краснодар     Рафаил  Верещагин 2018-05-25   \n",
       "6             15   52        NaN  Краснодар     Рафаил  Верещагин 2018-05-25   \n",
       "7             15   52        NaN  Краснодар     Рафаил  Верещагин 2018-05-25   \n",
       "8             14   41        NaN     Москва       Иван       Ежов 2018-11-01   \n",
       "9             18   41        NaN     Москва       Иван       Ежов 2018-11-01   \n",
       "\n",
       "  tariff  messages_included  mb_per_month_included  minutes_included  \\\n",
       "0  ultra               1000                  30720              3000   \n",
       "1  ultra               1000                  30720              3000   \n",
       "2  ultra               1000                  30720              3000   \n",
       "3  ultra               1000                  30720              3000   \n",
       "4  ultra               1000                  30720              3000   \n",
       "5  ultra               1000                  30720              3000   \n",
       "6  ultra               1000                  30720              3000   \n",
       "7  ultra               1000                  30720              3000   \n",
       "8  smart                 50                  15360               500   \n",
       "9  smart                 50                  15360               500   \n",
       "\n",
       "   rub_monthly_fee  rub_per_gb  rub_per_message  rub_per_minute  \\\n",
       "0             1950         150                1               1   \n",
       "1             1950         150                1               1   \n",
       "2             1950         150                1               1   \n",
       "3             1950         150                1               1   \n",
       "4             1950         150                1               1   \n",
       "5             1950         150                1               1   \n",
       "6             1950         150                1               1   \n",
       "7             1950         150                1               1   \n",
       "8              550         200                3               3   \n",
       "9              550         200                3               3   \n",
       "\n",
       "   gb_per_month_included  revenue_above_tariff  revenue_total  \\\n",
       "0                  30.00                  0.00       1,950.00   \n",
       "1                  30.00                  0.00       1,950.00   \n",
       "2                  30.00                  0.00       1,950.00   \n",
       "3                  30.00                  0.00       1,950.00   \n",
       "4                  30.00                  0.00       1,950.00   \n",
       "5                  30.00                  0.00       1,950.00   \n",
       "6                  30.00                  0.00       1,950.00   \n",
       "7                  30.00                  0.00       1,950.00   \n",
       "8                  15.00                  0.00         550.00   \n",
       "9                  15.00                600.00       1,150.00   \n",
       "\n",
       "   revenue_above_tariff_ratio  \n",
       "0                        0.00  \n",
       "1                        0.00  \n",
       "2                        0.00  \n",
       "3                        0.00  \n",
       "4                        0.00  \n",
       "5                        0.00  \n",
       "6                        0.00  \n",
       "7                        0.00  \n",
       "8                        0.00  \n",
       "9                        1.09  "
      ]
     },
     "execution_count": 60,
     "metadata": {},
     "output_type": "execute_result"
    }
   ],
   "source": [
    "df['revenue_above_tariff_ratio'] = df['revenue_above_tariff']/df['rub_monthly_fee']\n",
    "df.head(10)"
   ]
  },
  {
   "cell_type": "code",
   "execution_count": 61,
   "metadata": {
    "scrolled": false
   },
   "outputs": [
    {
     "data": {
      "text/html": [
       "<div>\n",
       "<style scoped>\n",
       "    .dataframe tbody tr th:only-of-type {\n",
       "        vertical-align: middle;\n",
       "    }\n",
       "\n",
       "    .dataframe tbody tr th {\n",
       "        vertical-align: top;\n",
       "    }\n",
       "\n",
       "    .dataframe thead th {\n",
       "        text-align: right;\n",
       "    }\n",
       "</style>\n",
       "<table border=\"1\" class=\"dataframe\">\n",
       "  <thead>\n",
       "    <tr style=\"text-align: right;\">\n",
       "      <th></th>\n",
       "      <th>revenue_above_tariff_ratio</th>\n",
       "    </tr>\n",
       "    <tr>\n",
       "      <th>tariff</th>\n",
       "      <th></th>\n",
       "    </tr>\n",
       "  </thead>\n",
       "  <tbody>\n",
       "    <tr>\n",
       "      <th>smart</th>\n",
       "      <td>1.80</td>\n",
       "    </tr>\n",
       "    <tr>\n",
       "      <th>ultra</th>\n",
       "      <td>0.45</td>\n",
       "    </tr>\n",
       "  </tbody>\n",
       "</table>\n",
       "</div>"
      ],
      "text/plain": [
       "        revenue_above_tariff_ratio\n",
       "tariff                            \n",
       "smart                         1.80\n",
       "ultra                         0.45"
      ]
     },
     "execution_count": 61,
     "metadata": {},
     "output_type": "execute_result"
    }
   ],
   "source": [
    "df.query('revenue_above_tariff>0').groupby('tariff').agg({'revenue_above_tariff_ratio':'mean'})"
   ]
  },
  {
   "cell_type": "markdown",
   "metadata": {},
   "source": [
    "Если пользователь тарифа Смарт расходует средства сверх тарифа, такой расход превышает стоимость тарифа 1,81 раза. Переплата пользователей тарифа Ультра в среднем составляет 0,46 от тарифа."
   ]
  },
  {
   "cell_type": "markdown",
   "metadata": {},
   "source": [
    "Рассмотрим подробнее пользователей, расходующих средства сверх тарифа."
   ]
  },
  {
   "cell_type": "code",
   "execution_count": 62,
   "metadata": {
    "scrolled": false
   },
   "outputs": [
    {
     "data": {
      "text/html": [
       "<div>\n",
       "<style scoped>\n",
       "    .dataframe tbody tr th:only-of-type {\n",
       "        vertical-align: middle;\n",
       "    }\n",
       "\n",
       "    .dataframe tbody tr th {\n",
       "        vertical-align: top;\n",
       "    }\n",
       "\n",
       "    .dataframe thead th {\n",
       "        text-align: right;\n",
       "    }\n",
       "</style>\n",
       "<table border=\"1\" class=\"dataframe\">\n",
       "  <thead>\n",
       "    <tr style=\"text-align: right;\">\n",
       "      <th></th>\n",
       "      <th>duration_min_month</th>\n",
       "      <th>minutes_included</th>\n",
       "      <th>messages_month</th>\n",
       "      <th>messages_included</th>\n",
       "      <th>gb_used_month</th>\n",
       "      <th>gb_per_month_included</th>\n",
       "      <th>revenue_above_tariff</th>\n",
       "      <th>revenue_total</th>\n",
       "    </tr>\n",
       "    <tr>\n",
       "      <th>tariff</th>\n",
       "      <th></th>\n",
       "      <th></th>\n",
       "      <th></th>\n",
       "      <th></th>\n",
       "      <th></th>\n",
       "      <th></th>\n",
       "      <th></th>\n",
       "      <th></th>\n",
       "    </tr>\n",
       "  </thead>\n",
       "  <tbody>\n",
       "    <tr>\n",
       "      <th>smart</th>\n",
       "      <td>470.10</td>\n",
       "      <td>500</td>\n",
       "      <td>38.60</td>\n",
       "      <td>50</td>\n",
       "      <td>18.44</td>\n",
       "      <td>15.00</td>\n",
       "      <td>992.42</td>\n",
       "      <td>1,542.42</td>\n",
       "    </tr>\n",
       "    <tr>\n",
       "      <th>ultra</th>\n",
       "      <td>574.85</td>\n",
       "      <td>3000</td>\n",
       "      <td>54.44</td>\n",
       "      <td>1000</td>\n",
       "      <td>35.89</td>\n",
       "      <td>30.00</td>\n",
       "      <td>883.21</td>\n",
       "      <td>2,833.21</td>\n",
       "    </tr>\n",
       "  </tbody>\n",
       "</table>\n",
       "</div>"
      ],
      "text/plain": [
       "        duration_min_month  minutes_included  messages_month  \\\n",
       "tariff                                                         \n",
       "smart               470.10               500           38.60   \n",
       "ultra               574.85              3000           54.44   \n",
       "\n",
       "        messages_included  gb_used_month  gb_per_month_included  \\\n",
       "tariff                                                            \n",
       "smart                  50          18.44                  15.00   \n",
       "ultra                1000          35.89                  30.00   \n",
       "\n",
       "        revenue_above_tariff  revenue_total  \n",
       "tariff                                       \n",
       "smart                 992.42       1,542.42  \n",
       "ultra                 883.21       2,833.21  "
      ]
     },
     "execution_count": 62,
     "metadata": {},
     "output_type": "execute_result"
    }
   ],
   "source": [
    "df.query('revenue_above_tariff > 0').groupby('tariff').agg({'duration_min_month':'mean',\n",
    "                                                            'minutes_included':'mean',\n",
    "                                                            'messages_month':'mean',\n",
    "                                                            'messages_included':'mean',\n",
    "                                                            'gb_used_month':'mean',\n",
    "                                                            'gb_per_month_included':'mean',\n",
    "                                                            'revenue_above_tariff':'mean',\n",
    "                                                            'revenue_total':'mean'})"
   ]
  },
  {
   "cell_type": "markdown",
   "metadata": {},
   "source": [
    "Как видно из данных, основной расход сверх тарифа образуется за счет превышения объема интернет-трафика.\n",
    "\n",
    "В целом, для компании ситуация выгодная, но есть риск ухода клиентов тарифа Смарт, которые используют интернет-трафик сверх лимита, из-за того, что их расходы почти в 2 раза превышают запланированные. \n",
    "\n",
    "**Рекомендация: проанализировать отток клиентов тарифа Смарт. В случае большого процента оттока, рассмотреть вариант разработки промежуточного тарифа/опций для покупки трафика пакетами после исчерпания лимита.**"
   ]
  },
  {
   "cell_type": "markdown",
   "metadata": {},
   "source": [
    "## Проверка гипотез"
   ]
  },
  {
   "cell_type": "markdown",
   "metadata": {},
   "source": [
    "Необходимо проверить гипотезы:\n",
    "- средняя выручка пользователей тарифов «Ультра» и «Смарт» различаются;\n",
    "- средняя выручка пользователей из Москвы отличается от выручки пользователей из других регионов.\n",
    "\n",
    "Пороговое значение alpha задайте самостоятельно.\n",
    "\n",
    "Поясните:\n",
    "как вы формулировали нулевую и альтернативную гипотезы;\n",
    "какой критерий использовали для проверки гипотез и почему."
   ]
  },
  {
   "cell_type": "markdown",
   "metadata": {},
   "source": [
    "### Cредняя выручка пользователей тарифов «Ультра» и «Смарт» различаются"
   ]
  },
  {
   "cell_type": "markdown",
   "metadata": {},
   "source": [
    "#### Сформулируем гипотезы:\n",
    "- H0: средняя выручка пользователей тарифов Смарт и Ультра не различается\n",
    "- H1: средняя выручка пользователей тарифов Смарт и Ультра различается"
   ]
  },
  {
   "cell_type": "markdown",
   "metadata": {},
   "source": [
    "#### Подготовим выборки и удалим из них выбросы"
   ]
  },
  {
   "cell_type": "code",
   "execution_count": 63,
   "metadata": {},
   "outputs": [],
   "source": [
    "smart = df[df['tariff'] == 'smart']\n",
    "ultra = df[df['tariff'] == 'ultra']"
   ]
  },
  {
   "cell_type": "markdown",
   "metadata": {},
   "source": [
    "Удалим выбросы из таблицы smart"
   ]
  },
  {
   "cell_type": "code",
   "execution_count": 64,
   "metadata": {},
   "outputs": [],
   "source": [
    "q1_smart = smart['revenue_total'].quantile(0.25)                 \n",
    "q3_smart = smart['revenue_total'].quantile(0.75)\n",
    "iqr_smart = q3_smart - q1_smart\n",
    "smart = smart.query('(revenue_total >= (@q1_smart - 1.5 * @iqr_smart)) & (revenue_total <= (@q3_smart + 1.5 * @iqr_smart))')"
   ]
  },
  {
   "cell_type": "markdown",
   "metadata": {},
   "source": [
    "Удалим выбросы из таблицы ultra"
   ]
  },
  {
   "cell_type": "code",
   "execution_count": 65,
   "metadata": {},
   "outputs": [],
   "source": [
    "q1_ultra = ultra['revenue_total'].quantile(0.25)                 \n",
    "q3_ultra = ultra['revenue_total'].quantile(0.75)\n",
    "iqr_ultra = q3_ultra - q1_ultra\n",
    "smart = smart.query('(revenue_total >= (@q1_ultra - 1.5 * @iqr_ultra)) & (revenue_total <= (@q3_ultra + 1.5 * @iqr_ultra))')"
   ]
  },
  {
   "cell_type": "code",
   "execution_count": 66,
   "metadata": {},
   "outputs": [],
   "source": [
    "smart = smart['revenue_total']\n",
    "ultra = ultra['revenue_total']"
   ]
  },
  {
   "cell_type": "markdown",
   "metadata": {},
   "source": [
    "#### Сделаем проверку гипотезы"
   ]
  },
  {
   "cell_type": "markdown",
   "metadata": {},
   "source": [
    "Проверку гипотезы будем проводить t-тестом, т.к. выборки независимы между собой. "
   ]
  },
  {
   "cell_type": "code",
   "execution_count": 67,
   "metadata": {},
   "outputs": [],
   "source": [
    "alpha = 0.05"
   ]
  },
  {
   "cell_type": "code",
   "execution_count": 68,
   "metadata": {},
   "outputs": [],
   "source": [
    "results = st.ttest_ind(ultra, smart)"
   ]
  },
  {
   "cell_type": "code",
   "execution_count": 69,
   "metadata": {},
   "outputs": [
    {
     "name": "stdout",
     "output_type": "stream",
     "text": [
      "p-значение: 0.019230778913263528\n",
      "Отвергаем нулевую гипотезу\n"
     ]
    }
   ],
   "source": [
    "print('p-значение:', results.pvalue)\n",
    "\n",
    "if (results.pvalue < alpha):\n",
    "    print(\"Отвергаем нулевую гипотезу\")\n",
    "else:\n",
    "    print(\"Не получилось отвергнуть нулевую гипотезу\")"
   ]
  },
  {
   "cell_type": "markdown",
   "metadata": {},
   "source": [
    "#### Вывод"
   ]
  },
  {
   "cell_type": "markdown",
   "metadata": {},
   "source": [
    "Нулевую гипотезу не удалось подтвердить, средняя выручка пользователей тарифов «Ультра» и «Смарт» различаются."
   ]
  },
  {
   "cell_type": "markdown",
   "metadata": {},
   "source": [
    "### Cредняя выручка пользователей из Москвы отличается от выручки пользователей из других регионов."
   ]
  },
  {
   "cell_type": "markdown",
   "metadata": {},
   "source": [
    "#### Сформулируем гипотезы:"
   ]
  },
  {
   "cell_type": "markdown",
   "metadata": {},
   "source": [
    "- H0: средняя выручка пользователей из Москвы и пользователей из других регионов не различается\n",
    "- H1: средняя выручка пользователей из Москвы и ьпользователей из других регионов различается"
   ]
  },
  {
   "cell_type": "markdown",
   "metadata": {},
   "source": [
    "#### Подготовим выборки и удалим из них выбросы"
   ]
  },
  {
   "cell_type": "code",
   "execution_count": 70,
   "metadata": {
    "scrolled": true
   },
   "outputs": [
    {
     "data": {
      "text/html": [
       "<div>\n",
       "<style scoped>\n",
       "    .dataframe tbody tr th:only-of-type {\n",
       "        vertical-align: middle;\n",
       "    }\n",
       "\n",
       "    .dataframe tbody tr th {\n",
       "        vertical-align: top;\n",
       "    }\n",
       "\n",
       "    .dataframe thead th {\n",
       "        text-align: right;\n",
       "    }\n",
       "</style>\n",
       "<table border=\"1\" class=\"dataframe\">\n",
       "  <thead>\n",
       "    <tr style=\"text-align: right;\">\n",
       "      <th></th>\n",
       "      <th>user_id</th>\n",
       "      <th>month</th>\n",
       "      <th>duration_min_month</th>\n",
       "      <th>messages_month</th>\n",
       "      <th>mb_used</th>\n",
       "      <th>gb_used_month</th>\n",
       "      <th>age</th>\n",
       "      <th>churn_date</th>\n",
       "      <th>city</th>\n",
       "      <th>first_name</th>\n",
       "      <th>last_name</th>\n",
       "      <th>reg_date</th>\n",
       "      <th>tariff</th>\n",
       "      <th>messages_included</th>\n",
       "      <th>mb_per_month_included</th>\n",
       "      <th>minutes_included</th>\n",
       "      <th>rub_monthly_fee</th>\n",
       "      <th>rub_per_gb</th>\n",
       "      <th>rub_per_message</th>\n",
       "      <th>rub_per_minute</th>\n",
       "      <th>gb_per_month_included</th>\n",
       "      <th>revenue_above_tariff</th>\n",
       "      <th>revenue_total</th>\n",
       "      <th>revenue_above_tariff_ratio</th>\n",
       "    </tr>\n",
       "  </thead>\n",
       "  <tbody>\n",
       "    <tr>\n",
       "      <th>8</th>\n",
       "      <td>1001</td>\n",
       "      <td>December</td>\n",
       "      <td>414</td>\n",
       "      <td>0</td>\n",
       "      <td>14,036.66</td>\n",
       "      <td>14</td>\n",
       "      <td>41</td>\n",
       "      <td>NaN</td>\n",
       "      <td>Москва</td>\n",
       "      <td>Иван</td>\n",
       "      <td>Ежов</td>\n",
       "      <td>2018-11-01</td>\n",
       "      <td>smart</td>\n",
       "      <td>50</td>\n",
       "      <td>15360</td>\n",
       "      <td>500</td>\n",
       "      <td>550</td>\n",
       "      <td>200</td>\n",
       "      <td>3</td>\n",
       "      <td>3</td>\n",
       "      <td>15.00</td>\n",
       "      <td>0.00</td>\n",
       "      <td>550.00</td>\n",
       "      <td>0.00</td>\n",
       "    </tr>\n",
       "    <tr>\n",
       "      <th>9</th>\n",
       "      <td>1001</td>\n",
       "      <td>November</td>\n",
       "      <td>430</td>\n",
       "      <td>0</td>\n",
       "      <td>18,429.34</td>\n",
       "      <td>18</td>\n",
       "      <td>41</td>\n",
       "      <td>NaN</td>\n",
       "      <td>Москва</td>\n",
       "      <td>Иван</td>\n",
       "      <td>Ежов</td>\n",
       "      <td>2018-11-01</td>\n",
       "      <td>smart</td>\n",
       "      <td>50</td>\n",
       "      <td>15360</td>\n",
       "      <td>500</td>\n",
       "      <td>550</td>\n",
       "      <td>200</td>\n",
       "      <td>3</td>\n",
       "      <td>3</td>\n",
       "      <td>15.00</td>\n",
       "      <td>600.00</td>\n",
       "      <td>1,150.00</td>\n",
       "      <td>1.09</td>\n",
       "    </tr>\n",
       "    <tr>\n",
       "      <th>17</th>\n",
       "      <td>1003</td>\n",
       "      <td>August</td>\n",
       "      <td>380</td>\n",
       "      <td>37</td>\n",
       "      <td>8,565.21</td>\n",
       "      <td>9</td>\n",
       "      <td>23</td>\n",
       "      <td>NaN</td>\n",
       "      <td>Москва</td>\n",
       "      <td>Белла</td>\n",
       "      <td>Белякова</td>\n",
       "      <td>2018-08-17</td>\n",
       "      <td>ultra</td>\n",
       "      <td>1000</td>\n",
       "      <td>30720</td>\n",
       "      <td>3000</td>\n",
       "      <td>1950</td>\n",
       "      <td>150</td>\n",
       "      <td>1</td>\n",
       "      <td>1</td>\n",
       "      <td>30.00</td>\n",
       "      <td>0.00</td>\n",
       "      <td>1,950.00</td>\n",
       "      <td>0.00</td>\n",
       "    </tr>\n",
       "    <tr>\n",
       "      <th>18</th>\n",
       "      <td>1003</td>\n",
       "      <td>December</td>\n",
       "      <td>802</td>\n",
       "      <td>75</td>\n",
       "      <td>10,121.53</td>\n",
       "      <td>10</td>\n",
       "      <td>23</td>\n",
       "      <td>NaN</td>\n",
       "      <td>Москва</td>\n",
       "      <td>Белла</td>\n",
       "      <td>Белякова</td>\n",
       "      <td>2018-08-17</td>\n",
       "      <td>ultra</td>\n",
       "      <td>1000</td>\n",
       "      <td>30720</td>\n",
       "      <td>3000</td>\n",
       "      <td>1950</td>\n",
       "      <td>150</td>\n",
       "      <td>1</td>\n",
       "      <td>1</td>\n",
       "      <td>30.00</td>\n",
       "      <td>0.00</td>\n",
       "      <td>1,950.00</td>\n",
       "      <td>0.00</td>\n",
       "    </tr>\n",
       "    <tr>\n",
       "      <th>19</th>\n",
       "      <td>1003</td>\n",
       "      <td>November</td>\n",
       "      <td>824</td>\n",
       "      <td>94</td>\n",
       "      <td>11,356.89</td>\n",
       "      <td>12</td>\n",
       "      <td>23</td>\n",
       "      <td>NaN</td>\n",
       "      <td>Москва</td>\n",
       "      <td>Белла</td>\n",
       "      <td>Белякова</td>\n",
       "      <td>2018-08-17</td>\n",
       "      <td>ultra</td>\n",
       "      <td>1000</td>\n",
       "      <td>30720</td>\n",
       "      <td>3000</td>\n",
       "      <td>1950</td>\n",
       "      <td>150</td>\n",
       "      <td>1</td>\n",
       "      <td>1</td>\n",
       "      <td>30.00</td>\n",
       "      <td>0.00</td>\n",
       "      <td>1,950.00</td>\n",
       "      <td>0.00</td>\n",
       "    </tr>\n",
       "  </tbody>\n",
       "</table>\n",
       "</div>"
      ],
      "text/plain": [
       "    user_id     month  duration_min_month  messages_month   mb_used  \\\n",
       "8      1001  December                 414               0 14,036.66   \n",
       "9      1001  November                 430               0 18,429.34   \n",
       "17     1003    August                 380              37  8,565.21   \n",
       "18     1003  December                 802              75 10,121.53   \n",
       "19     1003  November                 824              94 11,356.89   \n",
       "\n",
       "    gb_used_month  age churn_date    city first_name last_name   reg_date  \\\n",
       "8              14   41        NaN  Москва       Иван      Ежов 2018-11-01   \n",
       "9              18   41        NaN  Москва       Иван      Ежов 2018-11-01   \n",
       "17              9   23        NaN  Москва      Белла  Белякова 2018-08-17   \n",
       "18             10   23        NaN  Москва      Белла  Белякова 2018-08-17   \n",
       "19             12   23        NaN  Москва      Белла  Белякова 2018-08-17   \n",
       "\n",
       "   tariff  messages_included  mb_per_month_included  minutes_included  \\\n",
       "8   smart                 50                  15360               500   \n",
       "9   smart                 50                  15360               500   \n",
       "17  ultra               1000                  30720              3000   \n",
       "18  ultra               1000                  30720              3000   \n",
       "19  ultra               1000                  30720              3000   \n",
       "\n",
       "    rub_monthly_fee  rub_per_gb  rub_per_message  rub_per_minute  \\\n",
       "8               550         200                3               3   \n",
       "9               550         200                3               3   \n",
       "17             1950         150                1               1   \n",
       "18             1950         150                1               1   \n",
       "19             1950         150                1               1   \n",
       "\n",
       "    gb_per_month_included  revenue_above_tariff  revenue_total  \\\n",
       "8                   15.00                  0.00         550.00   \n",
       "9                   15.00                600.00       1,150.00   \n",
       "17                  30.00                  0.00       1,950.00   \n",
       "18                  30.00                  0.00       1,950.00   \n",
       "19                  30.00                  0.00       1,950.00   \n",
       "\n",
       "    revenue_above_tariff_ratio  \n",
       "8                         0.00  \n",
       "9                         1.09  \n",
       "17                        0.00  \n",
       "18                        0.00  \n",
       "19                        0.00  "
      ]
     },
     "execution_count": 70,
     "metadata": {},
     "output_type": "execute_result"
    }
   ],
   "source": [
    "moscow = df.query('city == \"Москва\"')\n",
    "moscow.head(5)"
   ]
  },
  {
   "cell_type": "markdown",
   "metadata": {},
   "source": [
    "Удалим выбросы из таблицы moscow"
   ]
  },
  {
   "cell_type": "code",
   "execution_count": 71,
   "metadata": {},
   "outputs": [],
   "source": [
    "q1_moscow = moscow['revenue_total'].quantile(0.25)                 \n",
    "q3_moscow = moscow['revenue_total'].quantile(0.75)\n",
    "iqr_moscow = q3_moscow - q1_moscow\n",
    "moscow = moscow.query('(revenue_total >= (@q1_moscow - 1.5 * @iqr_moscow)) & (revenue_total <= (@q3_moscow + 1.5 * @iqr_moscow))')"
   ]
  },
  {
   "cell_type": "code",
   "execution_count": 72,
   "metadata": {
    "scrolled": true
   },
   "outputs": [
    {
     "data": {
      "text/html": [
       "<div>\n",
       "<style scoped>\n",
       "    .dataframe tbody tr th:only-of-type {\n",
       "        vertical-align: middle;\n",
       "    }\n",
       "\n",
       "    .dataframe tbody tr th {\n",
       "        vertical-align: top;\n",
       "    }\n",
       "\n",
       "    .dataframe thead th {\n",
       "        text-align: right;\n",
       "    }\n",
       "</style>\n",
       "<table border=\"1\" class=\"dataframe\">\n",
       "  <thead>\n",
       "    <tr style=\"text-align: right;\">\n",
       "      <th></th>\n",
       "      <th>user_id</th>\n",
       "      <th>month</th>\n",
       "      <th>duration_min_month</th>\n",
       "      <th>messages_month</th>\n",
       "      <th>mb_used</th>\n",
       "      <th>gb_used_month</th>\n",
       "      <th>age</th>\n",
       "      <th>churn_date</th>\n",
       "      <th>city</th>\n",
       "      <th>first_name</th>\n",
       "      <th>last_name</th>\n",
       "      <th>reg_date</th>\n",
       "      <th>tariff</th>\n",
       "      <th>messages_included</th>\n",
       "      <th>mb_per_month_included</th>\n",
       "      <th>minutes_included</th>\n",
       "      <th>rub_monthly_fee</th>\n",
       "      <th>rub_per_gb</th>\n",
       "      <th>rub_per_message</th>\n",
       "      <th>rub_per_minute</th>\n",
       "      <th>gb_per_month_included</th>\n",
       "      <th>revenue_above_tariff</th>\n",
       "      <th>revenue_total</th>\n",
       "      <th>revenue_above_tariff_ratio</th>\n",
       "    </tr>\n",
       "  </thead>\n",
       "  <tbody>\n",
       "    <tr>\n",
       "      <th>0</th>\n",
       "      <td>1000</td>\n",
       "      <td>August</td>\n",
       "      <td>408</td>\n",
       "      <td>81</td>\n",
       "      <td>14,055.93</td>\n",
       "      <td>14</td>\n",
       "      <td>52</td>\n",
       "      <td>NaN</td>\n",
       "      <td>Краснодар</td>\n",
       "      <td>Рафаил</td>\n",
       "      <td>Верещагин</td>\n",
       "      <td>2018-05-25</td>\n",
       "      <td>ultra</td>\n",
       "      <td>1000</td>\n",
       "      <td>30720</td>\n",
       "      <td>3000</td>\n",
       "      <td>1950</td>\n",
       "      <td>150</td>\n",
       "      <td>1</td>\n",
       "      <td>1</td>\n",
       "      <td>30.00</td>\n",
       "      <td>0.00</td>\n",
       "      <td>1,950.00</td>\n",
       "      <td>0.00</td>\n",
       "    </tr>\n",
       "    <tr>\n",
       "      <th>1</th>\n",
       "      <td>1000</td>\n",
       "      <td>December</td>\n",
       "      <td>333</td>\n",
       "      <td>70</td>\n",
       "      <td>9,817.61</td>\n",
       "      <td>10</td>\n",
       "      <td>52</td>\n",
       "      <td>NaN</td>\n",
       "      <td>Краснодар</td>\n",
       "      <td>Рафаил</td>\n",
       "      <td>Верещагин</td>\n",
       "      <td>2018-05-25</td>\n",
       "      <td>ultra</td>\n",
       "      <td>1000</td>\n",
       "      <td>30720</td>\n",
       "      <td>3000</td>\n",
       "      <td>1950</td>\n",
       "      <td>150</td>\n",
       "      <td>1</td>\n",
       "      <td>1</td>\n",
       "      <td>30.00</td>\n",
       "      <td>0.00</td>\n",
       "      <td>1,950.00</td>\n",
       "      <td>0.00</td>\n",
       "    </tr>\n",
       "    <tr>\n",
       "      <th>2</th>\n",
       "      <td>1000</td>\n",
       "      <td>July</td>\n",
       "      <td>340</td>\n",
       "      <td>75</td>\n",
       "      <td>14,003.64</td>\n",
       "      <td>14</td>\n",
       "      <td>52</td>\n",
       "      <td>NaN</td>\n",
       "      <td>Краснодар</td>\n",
       "      <td>Рафаил</td>\n",
       "      <td>Верещагин</td>\n",
       "      <td>2018-05-25</td>\n",
       "      <td>ultra</td>\n",
       "      <td>1000</td>\n",
       "      <td>30720</td>\n",
       "      <td>3000</td>\n",
       "      <td>1950</td>\n",
       "      <td>150</td>\n",
       "      <td>1</td>\n",
       "      <td>1</td>\n",
       "      <td>30.00</td>\n",
       "      <td>0.00</td>\n",
       "      <td>1,950.00</td>\n",
       "      <td>0.00</td>\n",
       "    </tr>\n",
       "    <tr>\n",
       "      <th>3</th>\n",
       "      <td>1000</td>\n",
       "      <td>June</td>\n",
       "      <td>172</td>\n",
       "      <td>60</td>\n",
       "      <td>23,233.77</td>\n",
       "      <td>23</td>\n",
       "      <td>52</td>\n",
       "      <td>NaN</td>\n",
       "      <td>Краснодар</td>\n",
       "      <td>Рафаил</td>\n",
       "      <td>Верещагин</td>\n",
       "      <td>2018-05-25</td>\n",
       "      <td>ultra</td>\n",
       "      <td>1000</td>\n",
       "      <td>30720</td>\n",
       "      <td>3000</td>\n",
       "      <td>1950</td>\n",
       "      <td>150</td>\n",
       "      <td>1</td>\n",
       "      <td>1</td>\n",
       "      <td>30.00</td>\n",
       "      <td>0.00</td>\n",
       "      <td>1,950.00</td>\n",
       "      <td>0.00</td>\n",
       "    </tr>\n",
       "    <tr>\n",
       "      <th>4</th>\n",
       "      <td>1000</td>\n",
       "      <td>May</td>\n",
       "      <td>159</td>\n",
       "      <td>22</td>\n",
       "      <td>2,253.49</td>\n",
       "      <td>3</td>\n",
       "      <td>52</td>\n",
       "      <td>NaN</td>\n",
       "      <td>Краснодар</td>\n",
       "      <td>Рафаил</td>\n",
       "      <td>Верещагин</td>\n",
       "      <td>2018-05-25</td>\n",
       "      <td>ultra</td>\n",
       "      <td>1000</td>\n",
       "      <td>30720</td>\n",
       "      <td>3000</td>\n",
       "      <td>1950</td>\n",
       "      <td>150</td>\n",
       "      <td>1</td>\n",
       "      <td>1</td>\n",
       "      <td>30.00</td>\n",
       "      <td>0.00</td>\n",
       "      <td>1,950.00</td>\n",
       "      <td>0.00</td>\n",
       "    </tr>\n",
       "  </tbody>\n",
       "</table>\n",
       "</div>"
      ],
      "text/plain": [
       "   user_id     month  duration_min_month  messages_month   mb_used  \\\n",
       "0     1000    August                 408              81 14,055.93   \n",
       "1     1000  December                 333              70  9,817.61   \n",
       "2     1000      July                 340              75 14,003.64   \n",
       "3     1000      June                 172              60 23,233.77   \n",
       "4     1000       May                 159              22  2,253.49   \n",
       "\n",
       "   gb_used_month  age churn_date       city first_name  last_name   reg_date  \\\n",
       "0             14   52        NaN  Краснодар     Рафаил  Верещагин 2018-05-25   \n",
       "1             10   52        NaN  Краснодар     Рафаил  Верещагин 2018-05-25   \n",
       "2             14   52        NaN  Краснодар     Рафаил  Верещагин 2018-05-25   \n",
       "3             23   52        NaN  Краснодар     Рафаил  Верещагин 2018-05-25   \n",
       "4              3   52        NaN  Краснодар     Рафаил  Верещагин 2018-05-25   \n",
       "\n",
       "  tariff  messages_included  mb_per_month_included  minutes_included  \\\n",
       "0  ultra               1000                  30720              3000   \n",
       "1  ultra               1000                  30720              3000   \n",
       "2  ultra               1000                  30720              3000   \n",
       "3  ultra               1000                  30720              3000   \n",
       "4  ultra               1000                  30720              3000   \n",
       "\n",
       "   rub_monthly_fee  rub_per_gb  rub_per_message  rub_per_minute  \\\n",
       "0             1950         150                1               1   \n",
       "1             1950         150                1               1   \n",
       "2             1950         150                1               1   \n",
       "3             1950         150                1               1   \n",
       "4             1950         150                1               1   \n",
       "\n",
       "   gb_per_month_included  revenue_above_tariff  revenue_total  \\\n",
       "0                  30.00                  0.00       1,950.00   \n",
       "1                  30.00                  0.00       1,950.00   \n",
       "2                  30.00                  0.00       1,950.00   \n",
       "3                  30.00                  0.00       1,950.00   \n",
       "4                  30.00                  0.00       1,950.00   \n",
       "\n",
       "   revenue_above_tariff_ratio  \n",
       "0                        0.00  \n",
       "1                        0.00  \n",
       "2                        0.00  \n",
       "3                        0.00  \n",
       "4                        0.00  "
      ]
     },
     "execution_count": 72,
     "metadata": {},
     "output_type": "execute_result"
    }
   ],
   "source": [
    "other_city = df.query('city != \"Москва\"')\n",
    "other_city.head(5)"
   ]
  },
  {
   "cell_type": "markdown",
   "metadata": {},
   "source": [
    "Удалим выбросы из таблицы other_city"
   ]
  },
  {
   "cell_type": "code",
   "execution_count": 73,
   "metadata": {},
   "outputs": [],
   "source": [
    "q1_other_city = other_city['revenue_total'].quantile(0.25)                 \n",
    "q3_other_city = other_city['revenue_total'].quantile(0.75)\n",
    "iqr_other_city = q3_other_city - q1_other_city\n",
    "other_city = other_city.query('(revenue_total >= (@q1_other_city - 1.5 * @iqr_other_city)) & (revenue_total <= (@q3_other_city + 1.5 * @iqr_other_city))')"
   ]
  },
  {
   "cell_type": "code",
   "execution_count": 74,
   "metadata": {},
   "outputs": [],
   "source": [
    "moscow = moscow['revenue_total']\n",
    "other_city = other_city['revenue_total']"
   ]
  },
  {
   "cell_type": "markdown",
   "metadata": {},
   "source": [
    "#### Сделаем проверку гипотезы"
   ]
  },
  {
   "cell_type": "markdown",
   "metadata": {},
   "source": [
    "Проверку гипотезы будем проводить t-тестом, т.к. выборки независимы между собой. "
   ]
  },
  {
   "cell_type": "code",
   "execution_count": 75,
   "metadata": {},
   "outputs": [],
   "source": [
    "results = st.ttest_ind(moscow, other_city)"
   ]
  },
  {
   "cell_type": "code",
   "execution_count": 76,
   "metadata": {},
   "outputs": [
    {
     "name": "stdout",
     "output_type": "stream",
     "text": [
      "p-значение: 0.29144177734462323\n",
      "Не получилось отвергнуть нулевую гипотезу\n"
     ]
    }
   ],
   "source": [
    "print('p-значение:', results.pvalue)\n",
    "\n",
    "if (results.pvalue < alpha):\n",
    "    print(\"Отвергаем нулевую гипотезу\")\n",
    "else:\n",
    "    print(\"Не получилось отвергнуть нулевую гипотезу\")"
   ]
  },
  {
   "cell_type": "markdown",
   "metadata": {},
   "source": [
    "Нулевую нипотезу не получилось отвергнуть - средняя выручка пользователей из Москвы и пользователей из других регионов не различается. Такой результат мог быть получен случайно с вероятностью 22%."
   ]
  },
  {
   "cell_type": "markdown",
   "metadata": {},
   "source": [
    "## Общий вывод"
   ]
  },
  {
   "cell_type": "markdown",
   "metadata": {},
   "source": [
    "Результаты анализа:\n",
    "- клиенты обоих тарифов укладываются в лимиты по продолжительности звонков (на Ультре с большим запасом) и количеству сообщений, но расходуют интернет-трафик сверх лимита;\n",
    "- средняя выручка от клиентов разных тарифов различается;\n",
    "- средняя выручка от клиентов из Москвы и других регионов не различается - это может быть обусловлено тем, что в большой выборке будут в равной степени представлены пользователи разных тарифов с похожим потребительским поведением.\n",
    "\n",
    "**Рекомендация для бизнеса:**\n",
    "Тариф Ультра является более выгодным для бизнеса, т.к. клиент этого тарифа в среднем приносит выручки на 60% больше, при незначительно больших нагрузках на сети компании (при этом не выходя за лимиты пакетов).\n",
    "\n",
    "**Дополнительная рекомендация:**\n",
    "Проанализировать отток клиентов тарифа Смарт. В случае большого процента оттока, рассмотреть вариант разработки промежуточного тарифа/опций для покупки трафика пакетами после исчерпания лимита\n",
    "\n",
    "Рекомендации по сбору и хранению данных:\n",
    "- Проверить таблицу internet – в ней есть лишний столбец\n",
    "- Рассмотреть возможность указания тарифных лимитов на интернет-трафик в таблице tariffs в Gb, т.к. помесячный учет идет в Gb\n",
    "- Привести наименования одинаковых столбцов в разных таблицах к одному виду, например tariff  и tariff_name.\n",
    "- Изменить формат столбца user_id с числового на категориальный.\n",
    "- Проверить сбор данных по продолжительности звонков, т.к. для некоторых клиентов данные о звонках отсутствуют в месяцах, в которых они пользовались другими услугами (напрмер, пользователь с user_id 1091 за все месяцы, представленные в датасете)."
   ]
  }
 ],
 "metadata": {
  "ExecuteTimeLog": [
   {
    "duration": 821,
    "start_time": "2022-04-08T11:27:55.443Z"
   },
   {
    "duration": 755,
    "start_time": "2022-04-08T11:36:24.761Z"
   },
   {
    "duration": 91,
    "start_time": "2022-04-08T11:36:52.960Z"
   },
   {
    "duration": 92,
    "start_time": "2022-04-08T11:37:02.665Z"
   },
   {
    "duration": 3,
    "start_time": "2022-04-08T11:37:18.544Z"
   },
   {
    "duration": 175,
    "start_time": "2022-04-08T11:38:07.386Z"
   },
   {
    "duration": 176,
    "start_time": "2022-04-08T11:38:29.290Z"
   },
   {
    "duration": 3,
    "start_time": "2022-04-08T11:38:43.074Z"
   },
   {
    "duration": 165,
    "start_time": "2022-04-08T11:38:46.577Z"
   },
   {
    "duration": 3,
    "start_time": "2022-04-08T11:39:36.474Z"
   },
   {
    "duration": 32,
    "start_time": "2022-04-08T11:39:53.331Z"
   },
   {
    "duration": 3,
    "start_time": "2022-04-08T11:40:02.457Z"
   },
   {
    "duration": 3,
    "start_time": "2022-04-08T11:40:21.363Z"
   },
   {
    "duration": 3,
    "start_time": "2022-04-08T11:40:24.603Z"
   },
   {
    "duration": 2,
    "start_time": "2022-04-08T11:40:41.490Z"
   },
   {
    "duration": 2,
    "start_time": "2022-04-08T11:40:48.106Z"
   },
   {
    "duration": 10,
    "start_time": "2022-04-08T11:41:05.676Z"
   },
   {
    "duration": 2,
    "start_time": "2022-04-08T11:41:14.035Z"
   },
   {
    "duration": 9,
    "start_time": "2022-04-08T11:41:15.450Z"
   },
   {
    "duration": 3,
    "start_time": "2022-04-08T11:41:20.639Z"
   },
   {
    "duration": 4,
    "start_time": "2022-04-08T11:41:20.644Z"
   },
   {
    "duration": 5,
    "start_time": "2022-04-08T11:41:20.650Z"
   },
   {
    "duration": 171,
    "start_time": "2022-04-08T11:41:20.657Z"
   },
   {
    "duration": 3,
    "start_time": "2022-04-08T11:41:20.830Z"
   },
   {
    "duration": 9,
    "start_time": "2022-04-08T11:41:23.568Z"
   },
   {
    "duration": 24,
    "start_time": "2022-04-08T12:14:57.129Z"
   },
   {
    "duration": 3,
    "start_time": "2022-04-08T12:16:12.722Z"
   },
   {
    "duration": 4,
    "start_time": "2022-04-08T12:16:32.881Z"
   },
   {
    "duration": 90,
    "start_time": "2022-04-08T12:16:55.242Z"
   },
   {
    "duration": 186,
    "start_time": "2022-04-08T12:17:14.762Z"
   },
   {
    "duration": 162,
    "start_time": "2022-04-08T12:21:19.981Z"
   },
   {
    "duration": 8,
    "start_time": "2022-04-08T12:23:32.485Z"
   },
   {
    "duration": 172,
    "start_time": "2022-04-08T12:26:16.320Z"
   },
   {
    "duration": 174,
    "start_time": "2022-04-08T12:28:12.663Z"
   },
   {
    "duration": 34,
    "start_time": "2022-04-08T12:44:53.010Z"
   },
   {
    "duration": 92,
    "start_time": "2022-04-08T12:45:58.563Z"
   },
   {
    "duration": 104,
    "start_time": "2022-04-08T14:01:06.982Z"
   },
   {
    "duration": 107,
    "start_time": "2022-04-08T14:01:58.078Z"
   },
   {
    "duration": 166,
    "start_time": "2022-04-08T14:02:00.551Z"
   },
   {
    "duration": 33,
    "start_time": "2022-04-08T14:04:43.179Z"
   },
   {
    "duration": 3,
    "start_time": "2022-04-08T14:06:02.215Z"
   },
   {
    "duration": 31,
    "start_time": "2022-04-08T14:06:06.522Z"
   },
   {
    "duration": 13,
    "start_time": "2022-04-08T14:06:40.396Z"
   },
   {
    "duration": 183,
    "start_time": "2022-04-08T14:06:55.734Z"
   },
   {
    "duration": 27,
    "start_time": "2022-04-08T14:07:22.624Z"
   },
   {
    "duration": 107,
    "start_time": "2022-04-08T14:07:31.698Z"
   },
   {
    "duration": 139,
    "start_time": "2022-04-08T14:07:39.793Z"
   },
   {
    "duration": 27,
    "start_time": "2022-04-08T14:08:01.882Z"
   },
   {
    "duration": 27,
    "start_time": "2022-04-08T14:08:20.443Z"
   },
   {
    "duration": 19,
    "start_time": "2022-04-08T14:08:30.824Z"
   },
   {
    "duration": 4,
    "start_time": "2022-04-09T10:34:22.687Z"
   },
   {
    "duration": 106,
    "start_time": "2022-04-09T10:36:28.276Z"
   },
   {
    "duration": 43,
    "start_time": "2022-04-09T10:39:06.406Z"
   },
   {
    "duration": 748,
    "start_time": "2022-04-09T10:39:17.165Z"
   },
   {
    "duration": 3,
    "start_time": "2022-04-09T10:39:17.915Z"
   },
   {
    "duration": 34,
    "start_time": "2022-04-09T10:39:17.919Z"
   },
   {
    "duration": 16,
    "start_time": "2022-04-09T10:39:17.956Z"
   },
   {
    "duration": 184,
    "start_time": "2022-04-09T10:39:17.974Z"
   },
   {
    "duration": 27,
    "start_time": "2022-04-09T10:39:18.159Z"
   },
   {
    "duration": 121,
    "start_time": "2022-04-09T10:39:18.188Z"
   },
   {
    "duration": 150,
    "start_time": "2022-04-09T10:39:18.312Z"
   },
   {
    "duration": 27,
    "start_time": "2022-04-09T10:39:18.465Z"
   },
   {
    "duration": 30,
    "start_time": "2022-04-09T10:39:18.495Z"
   },
   {
    "duration": 9,
    "start_time": "2022-04-09T10:39:20.301Z"
   },
   {
    "duration": 7,
    "start_time": "2022-04-09T10:39:41.022Z"
   },
   {
    "duration": 44,
    "start_time": "2022-04-09T10:40:53.813Z"
   },
   {
    "duration": 11,
    "start_time": "2022-04-09T10:40:56.320Z"
   },
   {
    "duration": 3,
    "start_time": "2022-04-09T10:41:10.113Z"
   },
   {
    "duration": 6,
    "start_time": "2022-04-09T10:41:10.118Z"
   },
   {
    "duration": 36,
    "start_time": "2022-04-09T10:41:10.125Z"
   },
   {
    "duration": 17,
    "start_time": "2022-04-09T10:41:10.163Z"
   },
   {
    "duration": 185,
    "start_time": "2022-04-09T10:41:10.181Z"
   },
   {
    "duration": 26,
    "start_time": "2022-04-09T10:41:10.368Z"
   },
   {
    "duration": 114,
    "start_time": "2022-04-09T10:41:10.395Z"
   },
   {
    "duration": 142,
    "start_time": "2022-04-09T10:41:10.510Z"
   },
   {
    "duration": 26,
    "start_time": "2022-04-09T10:41:10.654Z"
   },
   {
    "duration": 31,
    "start_time": "2022-04-09T10:41:10.681Z"
   },
   {
    "duration": 7,
    "start_time": "2022-04-09T10:41:15.432Z"
   },
   {
    "duration": 3,
    "start_time": "2022-04-09T10:44:13.177Z"
   },
   {
    "duration": 4,
    "start_time": "2022-04-09T10:44:38.937Z"
   },
   {
    "duration": 3,
    "start_time": "2022-04-09T10:46:55.360Z"
   },
   {
    "duration": 6,
    "start_time": "2022-04-09T10:46:58.794Z"
   },
   {
    "duration": 27,
    "start_time": "2022-04-09T10:47:26.418Z"
   },
   {
    "duration": 16,
    "start_time": "2022-04-09T10:47:52.754Z"
   },
   {
    "duration": 20,
    "start_time": "2022-04-09T10:48:12.547Z"
   },
   {
    "duration": 5,
    "start_time": "2022-04-09T10:51:15.205Z"
   },
   {
    "duration": 185,
    "start_time": "2022-04-09T10:52:09.495Z"
   },
   {
    "duration": 3,
    "start_time": "2022-04-09T12:12:19.790Z"
   },
   {
    "duration": 91,
    "start_time": "2022-04-09T12:29:21.791Z"
   },
   {
    "duration": 4,
    "start_time": "2022-04-09T12:29:33.166Z"
   },
   {
    "duration": 7,
    "start_time": "2022-04-09T12:30:02.088Z"
   },
   {
    "duration": 4,
    "start_time": "2022-04-09T12:31:50.760Z"
   },
   {
    "duration": 8,
    "start_time": "2022-04-09T12:31:52.312Z"
   },
   {
    "duration": 8,
    "start_time": "2022-04-09T12:32:28.170Z"
   },
   {
    "duration": 3,
    "start_time": "2022-04-09T12:32:34.401Z"
   },
   {
    "duration": 4,
    "start_time": "2022-04-09T12:32:34.406Z"
   },
   {
    "duration": 4,
    "start_time": "2022-04-09T12:32:34.412Z"
   },
   {
    "duration": 26,
    "start_time": "2022-04-09T12:32:34.418Z"
   },
   {
    "duration": 12,
    "start_time": "2022-04-09T12:32:34.446Z"
   },
   {
    "duration": 160,
    "start_time": "2022-04-09T12:32:34.460Z"
   },
   {
    "duration": 24,
    "start_time": "2022-04-09T12:32:34.621Z"
   },
   {
    "duration": 103,
    "start_time": "2022-04-09T12:32:34.646Z"
   },
   {
    "duration": 141,
    "start_time": "2022-04-09T12:32:34.750Z"
   },
   {
    "duration": 33,
    "start_time": "2022-04-09T12:32:34.893Z"
   },
   {
    "duration": 17,
    "start_time": "2022-04-09T12:32:34.927Z"
   },
   {
    "duration": 27,
    "start_time": "2022-04-09T12:32:34.945Z"
   },
   {
    "duration": 19,
    "start_time": "2022-04-09T12:32:34.973Z"
   },
   {
    "duration": 15,
    "start_time": "2022-04-09T12:32:34.995Z"
   },
   {
    "duration": 7,
    "start_time": "2022-04-09T12:32:40.320Z"
   },
   {
    "duration": 13,
    "start_time": "2022-04-09T12:33:55.809Z"
   },
   {
    "duration": 3,
    "start_time": "2022-04-09T12:34:47.385Z"
   },
   {
    "duration": 6,
    "start_time": "2022-04-09T12:34:50.697Z"
   },
   {
    "duration": 7,
    "start_time": "2022-04-09T12:35:13.154Z"
   },
   {
    "duration": 1601,
    "start_time": "2022-04-09T12:35:29.850Z"
   },
   {
    "duration": 4,
    "start_time": "2022-04-09T12:35:43.571Z"
   },
   {
    "duration": 4,
    "start_time": "2022-04-09T12:35:46.258Z"
   },
   {
    "duration": 5,
    "start_time": "2022-04-09T12:36:07.139Z"
   },
   {
    "duration": 6,
    "start_time": "2022-04-09T12:36:33.067Z"
   },
   {
    "duration": 3,
    "start_time": "2022-04-09T12:36:36.698Z"
   },
   {
    "duration": 7,
    "start_time": "2022-04-09T12:36:38.027Z"
   },
   {
    "duration": 1432,
    "start_time": "2022-04-09T12:36:54.019Z"
   },
   {
    "duration": 3,
    "start_time": "2022-04-09T12:37:17.778Z"
   },
   {
    "duration": 6,
    "start_time": "2022-04-09T12:37:19.581Z"
   },
   {
    "duration": 3,
    "start_time": "2022-04-09T13:10:04.712Z"
   },
   {
    "duration": 7,
    "start_time": "2022-04-09T13:10:06.323Z"
   },
   {
    "duration": 55,
    "start_time": "2022-04-09T13:10:43.903Z"
   },
   {
    "duration": 33,
    "start_time": "2022-04-09T13:10:56.123Z"
   },
   {
    "duration": 7,
    "start_time": "2022-04-09T13:11:11.635Z"
   },
   {
    "duration": 42,
    "start_time": "2022-04-09T13:11:17.828Z"
   },
   {
    "duration": 8,
    "start_time": "2022-04-09T14:32:38.130Z"
   },
   {
    "duration": 7,
    "start_time": "2022-04-09T14:35:20.580Z"
   },
   {
    "duration": 3,
    "start_time": "2022-04-09T14:35:27.577Z"
   },
   {
    "duration": 21,
    "start_time": "2022-04-09T14:35:27.583Z"
   },
   {
    "duration": 30,
    "start_time": "2022-04-09T14:35:27.606Z"
   },
   {
    "duration": 36,
    "start_time": "2022-04-09T14:35:27.638Z"
   },
   {
    "duration": 12,
    "start_time": "2022-04-09T14:35:27.676Z"
   },
   {
    "duration": 159,
    "start_time": "2022-04-09T14:35:27.690Z"
   },
   {
    "duration": 24,
    "start_time": "2022-04-09T14:35:27.850Z"
   },
   {
    "duration": 104,
    "start_time": "2022-04-09T14:35:27.876Z"
   },
   {
    "duration": 141,
    "start_time": "2022-04-09T14:35:27.982Z"
   },
   {
    "duration": 24,
    "start_time": "2022-04-09T14:35:28.124Z"
   },
   {
    "duration": 17,
    "start_time": "2022-04-09T14:35:28.149Z"
   },
   {
    "duration": 6,
    "start_time": "2022-04-09T14:35:28.168Z"
   },
   {
    "duration": 5,
    "start_time": "2022-04-09T14:35:28.176Z"
   },
   {
    "duration": 29,
    "start_time": "2022-04-09T14:35:28.183Z"
   },
   {
    "duration": 5,
    "start_time": "2022-04-09T14:35:28.214Z"
   },
   {
    "duration": 9,
    "start_time": "2022-04-09T14:35:28.220Z"
   },
   {
    "duration": 0,
    "start_time": "2022-04-09T14:35:28.230Z"
   },
   {
    "duration": 0,
    "start_time": "2022-04-09T14:35:28.231Z"
   },
   {
    "duration": 0,
    "start_time": "2022-04-09T14:35:28.232Z"
   },
   {
    "duration": 7,
    "start_time": "2022-04-09T14:35:32.804Z"
   },
   {
    "duration": 4,
    "start_time": "2022-04-09T14:35:42.028Z"
   },
   {
    "duration": 8,
    "start_time": "2022-04-09T14:35:45.923Z"
   },
   {
    "duration": 11,
    "start_time": "2022-04-09T14:37:22.909Z"
   },
   {
    "duration": 6,
    "start_time": "2022-04-09T14:38:44.516Z"
   },
   {
    "duration": 8,
    "start_time": "2022-04-09T14:38:47.398Z"
   },
   {
    "duration": 5,
    "start_time": "2022-04-09T14:39:23.199Z"
   },
   {
    "duration": 8,
    "start_time": "2022-04-09T14:39:24.846Z"
   },
   {
    "duration": 6,
    "start_time": "2022-04-09T14:39:35.309Z"
   },
   {
    "duration": 8,
    "start_time": "2022-04-09T14:39:37.885Z"
   },
   {
    "duration": 4,
    "start_time": "2022-04-09T14:39:46.782Z"
   },
   {
    "duration": 8,
    "start_time": "2022-04-09T14:39:49.239Z"
   },
   {
    "duration": 4,
    "start_time": "2022-04-09T14:40:40.846Z"
   },
   {
    "duration": 8,
    "start_time": "2022-04-09T14:40:42.372Z"
   },
   {
    "duration": 8,
    "start_time": "2022-04-09T15:08:03.446Z"
   },
   {
    "duration": 3,
    "start_time": "2022-04-09T15:08:08.488Z"
   },
   {
    "duration": 11,
    "start_time": "2022-04-09T15:08:08.495Z"
   },
   {
    "duration": 4,
    "start_time": "2022-04-09T15:08:08.508Z"
   },
   {
    "duration": 35,
    "start_time": "2022-04-09T15:08:08.513Z"
   },
   {
    "duration": 13,
    "start_time": "2022-04-09T15:08:08.550Z"
   },
   {
    "duration": 188,
    "start_time": "2022-04-09T15:08:08.565Z"
   },
   {
    "duration": 25,
    "start_time": "2022-04-09T15:08:08.755Z"
   },
   {
    "duration": 135,
    "start_time": "2022-04-09T15:08:08.782Z"
   },
   {
    "duration": 157,
    "start_time": "2022-04-09T15:08:08.919Z"
   },
   {
    "duration": 29,
    "start_time": "2022-04-09T15:08:09.078Z"
   },
   {
    "duration": 19,
    "start_time": "2022-04-09T15:08:09.108Z"
   },
   {
    "duration": 8,
    "start_time": "2022-04-09T15:08:09.128Z"
   },
   {
    "duration": 5,
    "start_time": "2022-04-09T15:08:09.138Z"
   },
   {
    "duration": 8,
    "start_time": "2022-04-09T15:08:09.145Z"
   },
   {
    "duration": 4,
    "start_time": "2022-04-09T15:08:09.155Z"
   },
   {
    "duration": 10,
    "start_time": "2022-04-09T15:08:09.160Z"
   },
   {
    "duration": 0,
    "start_time": "2022-04-09T15:08:09.172Z"
   },
   {
    "duration": 0,
    "start_time": "2022-04-09T15:08:09.173Z"
   },
   {
    "duration": 0,
    "start_time": "2022-04-09T15:08:09.175Z"
   },
   {
    "duration": 10,
    "start_time": "2022-04-09T15:08:13.125Z"
   },
   {
    "duration": 7,
    "start_time": "2022-04-09T15:08:37.670Z"
   },
   {
    "duration": 9,
    "start_time": "2022-04-09T15:08:45.782Z"
   },
   {
    "duration": 9,
    "start_time": "2022-04-09T15:14:22.502Z"
   },
   {
    "duration": 7,
    "start_time": "2022-04-09T15:38:54.094Z"
   },
   {
    "duration": 8,
    "start_time": "2022-04-09T15:39:03.165Z"
   },
   {
    "duration": 4,
    "start_time": "2022-04-09T15:39:34.094Z"
   },
   {
    "duration": 4,
    "start_time": "2022-04-09T15:41:06.663Z"
   },
   {
    "duration": 9,
    "start_time": "2022-04-09T15:41:09.879Z"
   },
   {
    "duration": 5,
    "start_time": "2022-04-09T15:41:28.335Z"
   },
   {
    "duration": 6,
    "start_time": "2022-04-09T15:41:54.456Z"
   },
   {
    "duration": 8,
    "start_time": "2022-04-09T15:41:59.288Z"
   },
   {
    "duration": 4,
    "start_time": "2022-04-09T15:42:58.334Z"
   },
   {
    "duration": 12,
    "start_time": "2022-04-09T15:42:59.800Z"
   },
   {
    "duration": 4,
    "start_time": "2022-04-09T15:43:51.689Z"
   },
   {
    "duration": 8,
    "start_time": "2022-04-09T15:43:54.585Z"
   },
   {
    "duration": 8,
    "start_time": "2022-04-09T15:49:53.140Z"
   },
   {
    "duration": 4,
    "start_time": "2022-04-09T15:50:22.733Z"
   },
   {
    "duration": 129,
    "start_time": "2022-04-09T15:51:12.237Z"
   },
   {
    "duration": 5,
    "start_time": "2022-04-09T15:51:18.541Z"
   },
   {
    "duration": 8,
    "start_time": "2022-04-09T15:51:24.533Z"
   },
   {
    "duration": 97,
    "start_time": "2022-04-09T15:51:30.140Z"
   },
   {
    "duration": 4,
    "start_time": "2022-04-09T15:51:34.916Z"
   },
   {
    "duration": 7,
    "start_time": "2022-04-09T15:51:36.995Z"
   },
   {
    "duration": 12,
    "start_time": "2022-04-09T16:09:21.678Z"
   },
   {
    "duration": 3,
    "start_time": "2022-04-09T16:09:44.228Z"
   },
   {
    "duration": 5,
    "start_time": "2022-04-09T16:09:44.233Z"
   },
   {
    "duration": 4,
    "start_time": "2022-04-09T16:09:44.239Z"
   },
   {
    "duration": 28,
    "start_time": "2022-04-09T16:09:44.245Z"
   },
   {
    "duration": 19,
    "start_time": "2022-04-09T16:09:44.275Z"
   },
   {
    "duration": 185,
    "start_time": "2022-04-09T16:09:44.295Z"
   },
   {
    "duration": 41,
    "start_time": "2022-04-09T16:09:44.481Z"
   },
   {
    "duration": 114,
    "start_time": "2022-04-09T16:09:44.525Z"
   },
   {
    "duration": 153,
    "start_time": "2022-04-09T16:09:44.641Z"
   },
   {
    "duration": 38,
    "start_time": "2022-04-09T16:09:44.796Z"
   },
   {
    "duration": 16,
    "start_time": "2022-04-09T16:09:44.836Z"
   },
   {
    "duration": 7,
    "start_time": "2022-04-09T16:09:44.854Z"
   },
   {
    "duration": 9,
    "start_time": "2022-04-09T16:09:44.863Z"
   },
   {
    "duration": 13,
    "start_time": "2022-04-09T16:09:44.874Z"
   },
   {
    "duration": 20,
    "start_time": "2022-04-09T16:09:44.889Z"
   },
   {
    "duration": 12,
    "start_time": "2022-04-09T16:09:44.913Z"
   },
   {
    "duration": 0,
    "start_time": "2022-04-09T16:09:44.928Z"
   },
   {
    "duration": 0,
    "start_time": "2022-04-09T16:09:44.929Z"
   },
   {
    "duration": 0,
    "start_time": "2022-04-09T16:09:44.930Z"
   },
   {
    "duration": 0,
    "start_time": "2022-04-09T16:09:44.931Z"
   },
   {
    "duration": 11,
    "start_time": "2022-04-09T16:09:46.550Z"
   },
   {
    "duration": 4,
    "start_time": "2022-04-09T16:10:11.641Z"
   },
   {
    "duration": 5,
    "start_time": "2022-04-09T16:10:11.648Z"
   },
   {
    "duration": 4,
    "start_time": "2022-04-09T16:10:11.655Z"
   },
   {
    "duration": 27,
    "start_time": "2022-04-09T16:10:11.661Z"
   },
   {
    "duration": 15,
    "start_time": "2022-04-09T16:10:11.690Z"
   },
   {
    "duration": 201,
    "start_time": "2022-04-09T16:10:11.706Z"
   },
   {
    "duration": 35,
    "start_time": "2022-04-09T16:10:11.910Z"
   },
   {
    "duration": 133,
    "start_time": "2022-04-09T16:10:11.947Z"
   },
   {
    "duration": 179,
    "start_time": "2022-04-09T16:10:12.082Z"
   },
   {
    "duration": 30,
    "start_time": "2022-04-09T16:10:12.263Z"
   },
   {
    "duration": 37,
    "start_time": "2022-04-09T16:10:12.295Z"
   },
   {
    "duration": 8,
    "start_time": "2022-04-09T16:10:12.334Z"
   },
   {
    "duration": 6,
    "start_time": "2022-04-09T16:10:12.344Z"
   },
   {
    "duration": 8,
    "start_time": "2022-04-09T16:10:12.353Z"
   },
   {
    "duration": 8,
    "start_time": "2022-04-09T16:10:12.363Z"
   },
   {
    "duration": 38,
    "start_time": "2022-04-09T16:10:12.373Z"
   },
   {
    "duration": 0,
    "start_time": "2022-04-09T16:10:12.413Z"
   },
   {
    "duration": 0,
    "start_time": "2022-04-09T16:10:12.415Z"
   },
   {
    "duration": 0,
    "start_time": "2022-04-09T16:10:12.417Z"
   },
   {
    "duration": 209,
    "start_time": "2022-04-09T16:10:30.541Z"
   },
   {
    "duration": 7,
    "start_time": "2022-04-09T16:10:32.893Z"
   },
   {
    "duration": 7,
    "start_time": "2022-04-09T16:10:37.249Z"
   },
   {
    "duration": 4,
    "start_time": "2022-04-09T16:11:09.477Z"
   },
   {
    "duration": 12,
    "start_time": "2022-04-09T16:11:11.813Z"
   },
   {
    "duration": 27,
    "start_time": "2022-04-09T16:11:37.068Z"
   },
   {
    "duration": 7,
    "start_time": "2022-04-09T16:12:01.461Z"
   },
   {
    "duration": 8,
    "start_time": "2022-04-09T16:12:19.541Z"
   },
   {
    "duration": 9,
    "start_time": "2022-04-09T16:12:22.332Z"
   },
   {
    "duration": 4,
    "start_time": "2022-04-09T16:12:24.892Z"
   },
   {
    "duration": 8,
    "start_time": "2022-04-09T16:12:26.663Z"
   },
   {
    "duration": 82,
    "start_time": "2022-04-09T16:12:28.647Z"
   },
   {
    "duration": 45,
    "start_time": "2022-04-09T16:12:31.205Z"
   },
   {
    "duration": 49,
    "start_time": "2022-04-09T16:12:32.885Z"
   },
   {
    "duration": 186,
    "start_time": "2022-04-09T16:12:35.278Z"
   },
   {
    "duration": 12,
    "start_time": "2022-04-09T16:12:40.770Z"
   },
   {
    "duration": 3,
    "start_time": "2022-04-09T16:12:54.096Z"
   },
   {
    "duration": 7,
    "start_time": "2022-04-09T16:12:54.101Z"
   },
   {
    "duration": 4,
    "start_time": "2022-04-09T16:12:54.111Z"
   },
   {
    "duration": 31,
    "start_time": "2022-04-09T16:12:54.117Z"
   },
   {
    "duration": 13,
    "start_time": "2022-04-09T16:12:54.151Z"
   },
   {
    "duration": 199,
    "start_time": "2022-04-09T16:12:54.166Z"
   },
   {
    "duration": 27,
    "start_time": "2022-04-09T16:12:54.367Z"
   },
   {
    "duration": 114,
    "start_time": "2022-04-09T16:12:54.408Z"
   },
   {
    "duration": 158,
    "start_time": "2022-04-09T16:12:54.524Z"
   },
   {
    "duration": 44,
    "start_time": "2022-04-09T16:12:54.683Z"
   },
   {
    "duration": 18,
    "start_time": "2022-04-09T16:12:54.729Z"
   },
   {
    "duration": 7,
    "start_time": "2022-04-09T16:12:54.749Z"
   },
   {
    "duration": 9,
    "start_time": "2022-04-09T16:12:54.758Z"
   },
   {
    "duration": 9,
    "start_time": "2022-04-09T16:12:54.769Z"
   },
   {
    "duration": 81,
    "start_time": "2022-04-09T16:12:54.780Z"
   },
   {
    "duration": 48,
    "start_time": "2022-04-09T16:12:54.862Z"
   },
   {
    "duration": 47,
    "start_time": "2022-04-09T16:12:54.913Z"
   },
   {
    "duration": 219,
    "start_time": "2022-04-09T16:12:54.962Z"
   },
   {
    "duration": 3,
    "start_time": "2022-04-09T16:12:55.183Z"
   },
   {
    "duration": 52,
    "start_time": "2022-04-09T16:12:55.188Z"
   },
   {
    "duration": 11,
    "start_time": "2022-04-09T16:13:00.877Z"
   },
   {
    "duration": 27,
    "start_time": "2022-04-09T16:13:20.758Z"
   },
   {
    "duration": 24,
    "start_time": "2022-04-09T16:13:57.547Z"
   },
   {
    "duration": 4,
    "start_time": "2022-04-09T16:14:06.222Z"
   },
   {
    "duration": 8,
    "start_time": "2022-04-09T16:14:06.229Z"
   },
   {
    "duration": 5,
    "start_time": "2022-04-09T16:14:06.238Z"
   },
   {
    "duration": 31,
    "start_time": "2022-04-09T16:14:06.245Z"
   },
   {
    "duration": 13,
    "start_time": "2022-04-09T16:14:06.278Z"
   },
   {
    "duration": 164,
    "start_time": "2022-04-09T16:14:06.293Z"
   },
   {
    "duration": 26,
    "start_time": "2022-04-09T16:14:06.458Z"
   },
   {
    "duration": 110,
    "start_time": "2022-04-09T16:14:06.486Z"
   },
   {
    "duration": 142,
    "start_time": "2022-04-09T16:14:06.598Z"
   },
   {
    "duration": 27,
    "start_time": "2022-04-09T16:14:06.741Z"
   },
   {
    "duration": 18,
    "start_time": "2022-04-09T16:14:06.771Z"
   },
   {
    "duration": 8,
    "start_time": "2022-04-09T16:14:06.808Z"
   },
   {
    "duration": 5,
    "start_time": "2022-04-09T16:14:06.818Z"
   },
   {
    "duration": 9,
    "start_time": "2022-04-09T16:14:06.824Z"
   },
   {
    "duration": 78,
    "start_time": "2022-04-09T16:14:06.835Z"
   },
   {
    "duration": 37,
    "start_time": "2022-04-09T16:14:06.914Z"
   },
   {
    "duration": 60,
    "start_time": "2022-04-09T16:14:06.952Z"
   },
   {
    "duration": 209,
    "start_time": "2022-04-09T16:14:07.014Z"
   },
   {
    "duration": 4,
    "start_time": "2022-04-09T16:14:07.225Z"
   },
   {
    "duration": 26,
    "start_time": "2022-04-09T16:14:09.349Z"
   },
   {
    "duration": 25,
    "start_time": "2022-04-09T16:14:42.766Z"
   },
   {
    "duration": 59,
    "start_time": "2022-04-09T16:14:56.060Z"
   },
   {
    "duration": 26,
    "start_time": "2022-04-09T16:15:02.822Z"
   },
   {
    "duration": 20,
    "start_time": "2022-04-09T16:15:52.583Z"
   },
   {
    "duration": 3,
    "start_time": "2022-04-09T16:16:53.088Z"
   },
   {
    "duration": 13,
    "start_time": "2022-04-09T16:16:55.359Z"
   },
   {
    "duration": 10,
    "start_time": "2022-04-09T16:17:33.142Z"
   },
   {
    "duration": 46,
    "start_time": "2022-04-09T16:18:58.096Z"
   },
   {
    "duration": 14,
    "start_time": "2022-04-09T16:19:19.409Z"
   },
   {
    "duration": 3,
    "start_time": "2022-04-09T16:19:42.468Z"
   },
   {
    "duration": 5,
    "start_time": "2022-04-09T16:19:42.473Z"
   },
   {
    "duration": 5,
    "start_time": "2022-04-09T16:19:42.480Z"
   },
   {
    "duration": 37,
    "start_time": "2022-04-09T16:19:42.486Z"
   },
   {
    "duration": 13,
    "start_time": "2022-04-09T16:19:42.526Z"
   },
   {
    "duration": 176,
    "start_time": "2022-04-09T16:19:42.540Z"
   },
   {
    "duration": 25,
    "start_time": "2022-04-09T16:19:42.718Z"
   },
   {
    "duration": 108,
    "start_time": "2022-04-09T16:19:42.745Z"
   },
   {
    "duration": 159,
    "start_time": "2022-04-09T16:19:42.854Z"
   },
   {
    "duration": 29,
    "start_time": "2022-04-09T16:19:43.015Z"
   },
   {
    "duration": 18,
    "start_time": "2022-04-09T16:19:43.045Z"
   },
   {
    "duration": 8,
    "start_time": "2022-04-09T16:19:43.064Z"
   },
   {
    "duration": 5,
    "start_time": "2022-04-09T16:19:43.074Z"
   },
   {
    "duration": 41,
    "start_time": "2022-04-09T16:19:43.082Z"
   },
   {
    "duration": 10,
    "start_time": "2022-04-09T16:19:43.125Z"
   },
   {
    "duration": 32,
    "start_time": "2022-04-09T16:19:43.138Z"
   },
   {
    "duration": 27,
    "start_time": "2022-04-09T16:19:46.704Z"
   },
   {
    "duration": 12,
    "start_time": "2022-04-09T16:19:48.879Z"
   },
   {
    "duration": 22,
    "start_time": "2022-04-09T16:20:09.736Z"
   },
   {
    "duration": 11,
    "start_time": "2022-04-09T16:22:01.611Z"
   },
   {
    "duration": 19,
    "start_time": "2022-04-09T16:22:14.234Z"
   },
   {
    "duration": 74,
    "start_time": "2022-04-09T16:22:43.322Z"
   },
   {
    "duration": 18,
    "start_time": "2022-04-09T16:22:57.283Z"
   },
   {
    "duration": 2,
    "start_time": "2022-04-09T16:23:09.401Z"
   },
   {
    "duration": 7,
    "start_time": "2022-04-09T16:23:09.405Z"
   },
   {
    "duration": 9,
    "start_time": "2022-04-09T16:23:09.414Z"
   },
   {
    "duration": 31,
    "start_time": "2022-04-09T16:23:09.424Z"
   },
   {
    "duration": 12,
    "start_time": "2022-04-09T16:23:09.457Z"
   },
   {
    "duration": 189,
    "start_time": "2022-04-09T16:23:09.471Z"
   },
   {
    "duration": 25,
    "start_time": "2022-04-09T16:23:09.662Z"
   },
   {
    "duration": 114,
    "start_time": "2022-04-09T16:23:09.688Z"
   },
   {
    "duration": 165,
    "start_time": "2022-04-09T16:23:09.803Z"
   },
   {
    "duration": 26,
    "start_time": "2022-04-09T16:23:09.970Z"
   },
   {
    "duration": 29,
    "start_time": "2022-04-09T16:23:09.998Z"
   },
   {
    "duration": 7,
    "start_time": "2022-04-09T16:23:10.029Z"
   },
   {
    "duration": 4,
    "start_time": "2022-04-09T16:23:10.039Z"
   },
   {
    "duration": 15,
    "start_time": "2022-04-09T16:23:10.044Z"
   },
   {
    "duration": 9,
    "start_time": "2022-04-09T16:23:10.061Z"
   },
   {
    "duration": 82,
    "start_time": "2022-04-09T16:23:10.072Z"
   },
   {
    "duration": 18,
    "start_time": "2022-04-09T16:23:10.156Z"
   },
   {
    "duration": 76,
    "start_time": "2022-04-09T16:23:10.176Z"
   },
   {
    "duration": 18,
    "start_time": "2022-04-09T16:23:10.253Z"
   },
   {
    "duration": 74,
    "start_time": "2022-04-09T16:23:10.273Z"
   },
   {
    "duration": 72,
    "start_time": "2022-04-09T16:23:10.349Z"
   },
   {
    "duration": 195,
    "start_time": "2022-04-09T16:23:10.423Z"
   },
   {
    "duration": 4,
    "start_time": "2022-04-09T16:23:10.621Z"
   },
   {
    "duration": 21,
    "start_time": "2022-04-09T16:23:10.627Z"
   },
   {
    "duration": 20,
    "start_time": "2022-04-09T16:23:10.650Z"
   },
   {
    "duration": 63,
    "start_time": "2022-04-09T16:23:16.284Z"
   },
   {
    "duration": 9,
    "start_time": "2022-04-09T16:23:19.748Z"
   },
   {
    "duration": 14,
    "start_time": "2022-04-09T16:28:16.989Z"
   },
   {
    "duration": 10,
    "start_time": "2022-04-09T16:28:37.453Z"
   },
   {
    "duration": 4,
    "start_time": "2022-04-09T16:29:10.110Z"
   },
   {
    "duration": 14,
    "start_time": "2022-04-09T16:29:11.725Z"
   },
   {
    "duration": 3,
    "start_time": "2022-04-09T16:29:24.941Z"
   },
   {
    "duration": 13,
    "start_time": "2022-04-09T16:29:28.861Z"
   },
   {
    "duration": 9,
    "start_time": "2022-04-09T16:29:34.182Z"
   },
   {
    "duration": 4,
    "start_time": "2022-04-09T16:31:03.488Z"
   },
   {
    "duration": 4,
    "start_time": "2022-04-09T16:31:33.455Z"
   },
   {
    "duration": 10,
    "start_time": "2022-04-09T16:31:35.239Z"
   },
   {
    "duration": 3,
    "start_time": "2022-04-09T16:35:06.818Z"
   },
   {
    "duration": 6,
    "start_time": "2022-04-09T16:35:08.937Z"
   },
   {
    "duration": 2,
    "start_time": "2022-04-09T16:35:31.048Z"
   },
   {
    "duration": 7,
    "start_time": "2022-04-09T16:35:31.052Z"
   },
   {
    "duration": 4,
    "start_time": "2022-04-09T16:35:31.061Z"
   },
   {
    "duration": 30,
    "start_time": "2022-04-09T16:35:31.067Z"
   },
   {
    "duration": 13,
    "start_time": "2022-04-09T16:35:31.099Z"
   },
   {
    "duration": 155,
    "start_time": "2022-04-09T16:35:31.113Z"
   },
   {
    "duration": 24,
    "start_time": "2022-04-09T16:35:31.269Z"
   },
   {
    "duration": 99,
    "start_time": "2022-04-09T16:35:31.294Z"
   },
   {
    "duration": 140,
    "start_time": "2022-04-09T16:35:31.395Z"
   },
   {
    "duration": 23,
    "start_time": "2022-04-09T16:35:31.537Z"
   },
   {
    "duration": 16,
    "start_time": "2022-04-09T16:35:31.562Z"
   },
   {
    "duration": 6,
    "start_time": "2022-04-09T16:35:31.580Z"
   },
   {
    "duration": 22,
    "start_time": "2022-04-09T16:35:31.588Z"
   },
   {
    "duration": 5,
    "start_time": "2022-04-09T16:35:37.312Z"
   },
   {
    "duration": 7,
    "start_time": "2022-04-09T16:36:15.423Z"
   },
   {
    "duration": 7,
    "start_time": "2022-04-09T16:36:17.451Z"
   },
   {
    "duration": 3,
    "start_time": "2022-04-09T16:36:27.546Z"
   },
   {
    "duration": 6,
    "start_time": "2022-04-09T16:36:29.105Z"
   },
   {
    "duration": 25,
    "start_time": "2022-04-09T16:36:36.139Z"
   },
   {
    "duration": 15,
    "start_time": "2022-04-09T16:36:46.225Z"
   },
   {
    "duration": 18,
    "start_time": "2022-04-09T16:36:54.529Z"
   },
   {
    "duration": 37,
    "start_time": "2022-04-09T17:06:28.216Z"
   },
   {
    "duration": 52,
    "start_time": "2022-04-09T17:06:36.296Z"
   },
   {
    "duration": 64,
    "start_time": "2022-04-09T17:07:41.312Z"
   },
   {
    "duration": 9,
    "start_time": "2022-04-09T17:07:43.753Z"
   },
   {
    "duration": 71,
    "start_time": "2022-04-09T17:07:56.359Z"
   },
   {
    "duration": 10,
    "start_time": "2022-04-09T17:08:01.680Z"
   },
   {
    "duration": 5,
    "start_time": "2022-04-09T17:08:04.537Z"
   },
   {
    "duration": 9,
    "start_time": "2022-04-09T17:08:06.072Z"
   },
   {
    "duration": 1583,
    "start_time": "2022-04-09T17:08:41.284Z"
   },
   {
    "duration": 8,
    "start_time": "2022-04-09T17:08:43.091Z"
   },
   {
    "duration": 50,
    "start_time": "2022-04-09T17:08:53.089Z"
   },
   {
    "duration": 10,
    "start_time": "2022-04-09T17:08:56.289Z"
   },
   {
    "duration": 75,
    "start_time": "2022-04-09T17:09:38.891Z"
   },
   {
    "duration": 57,
    "start_time": "2022-04-09T17:09:56.529Z"
   },
   {
    "duration": 93,
    "start_time": "2022-04-09T17:10:41.419Z"
   },
   {
    "duration": 42,
    "start_time": "2022-04-09T17:13:36.160Z"
   },
   {
    "duration": 71,
    "start_time": "2022-04-12T10:20:22.221Z"
   },
   {
    "duration": 1120,
    "start_time": "2022-04-12T10:20:30.011Z"
   },
   {
    "duration": 6,
    "start_time": "2022-04-12T10:20:31.134Z"
   },
   {
    "duration": 22,
    "start_time": "2022-04-12T10:20:31.142Z"
   },
   {
    "duration": 89,
    "start_time": "2022-04-12T10:20:31.168Z"
   },
   {
    "duration": 31,
    "start_time": "2022-04-12T10:20:31.260Z"
   },
   {
    "duration": 290,
    "start_time": "2022-04-12T10:20:31.294Z"
   },
   {
    "duration": 34,
    "start_time": "2022-04-12T10:20:31.586Z"
   },
   {
    "duration": 224,
    "start_time": "2022-04-12T10:20:31.623Z"
   },
   {
    "duration": 216,
    "start_time": "2022-04-12T10:20:31.849Z"
   },
   {
    "duration": 108,
    "start_time": "2022-04-12T10:20:32.069Z"
   },
   {
    "duration": 879,
    "start_time": "2022-04-12T10:20:32.179Z"
   },
   {
    "duration": 15,
    "start_time": "2022-04-12T10:20:33.060Z"
   },
   {
    "duration": 18,
    "start_time": "2022-04-12T10:20:33.078Z"
   },
   {
    "duration": 16,
    "start_time": "2022-04-12T10:20:33.098Z"
   },
   {
    "duration": 66,
    "start_time": "2022-04-12T10:20:33.117Z"
   },
   {
    "duration": 29,
    "start_time": "2022-04-12T10:20:33.185Z"
   },
   {
    "duration": 33,
    "start_time": "2022-04-12T10:20:33.217Z"
   },
   {
    "duration": 120,
    "start_time": "2022-04-12T10:20:33.284Z"
   },
   {
    "duration": 337,
    "start_time": "2022-04-12T10:20:33.408Z"
   },
   {
    "duration": 124,
    "start_time": "2022-04-12T10:20:33.747Z"
   },
   {
    "duration": 108,
    "start_time": "2022-04-12T10:20:33.874Z"
   },
   {
    "duration": 69,
    "start_time": "2022-04-12T10:20:33.985Z"
   },
   {
    "duration": 1015,
    "start_time": "2022-04-12T10:25:24.737Z"
   },
   {
    "duration": 3,
    "start_time": "2022-04-12T10:25:25.755Z"
   },
   {
    "duration": 10,
    "start_time": "2022-04-12T10:25:25.761Z"
   },
   {
    "duration": 73,
    "start_time": "2022-04-12T10:25:25.773Z"
   },
   {
    "duration": 24,
    "start_time": "2022-04-12T10:25:25.851Z"
   },
   {
    "duration": 263,
    "start_time": "2022-04-12T10:25:25.877Z"
   },
   {
    "duration": 47,
    "start_time": "2022-04-12T10:25:26.142Z"
   },
   {
    "duration": 152,
    "start_time": "2022-04-12T10:25:26.193Z"
   },
   {
    "duration": 218,
    "start_time": "2022-04-12T10:25:26.348Z"
   },
   {
    "duration": 47,
    "start_time": "2022-04-12T10:25:26.568Z"
   },
   {
    "duration": 26,
    "start_time": "2022-04-12T10:25:26.617Z"
   },
   {
    "duration": 13,
    "start_time": "2022-04-12T10:25:26.645Z"
   },
   {
    "duration": 7,
    "start_time": "2022-04-12T10:25:26.684Z"
   },
   {
    "duration": 13,
    "start_time": "2022-04-12T10:25:26.698Z"
   },
   {
    "duration": 47,
    "start_time": "2022-04-12T10:25:26.714Z"
   },
   {
    "duration": 31,
    "start_time": "2022-04-12T10:25:26.788Z"
   },
   {
    "duration": 29,
    "start_time": "2022-04-12T10:25:26.821Z"
   },
   {
    "duration": 142,
    "start_time": "2022-04-12T10:25:26.852Z"
   },
   {
    "duration": 311,
    "start_time": "2022-04-12T10:25:26.999Z"
   },
   {
    "duration": 174,
    "start_time": "2022-04-12T10:25:27.312Z"
   },
   {
    "duration": 88,
    "start_time": "2022-04-12T10:25:27.489Z"
   },
   {
    "duration": 73,
    "start_time": "2022-04-12T10:25:27.583Z"
   },
   {
    "duration": 35827,
    "start_time": "2022-04-12T10:26:04.039Z"
   },
   {
    "duration": 12,
    "start_time": "2022-04-12T10:26:39.874Z"
   },
   {
    "duration": 21,
    "start_time": "2022-04-12T10:26:39.888Z"
   },
   {
    "duration": 44,
    "start_time": "2022-04-12T10:43:06.459Z"
   },
   {
    "duration": 43,
    "start_time": "2022-04-12T10:43:24.123Z"
   },
   {
    "duration": 47,
    "start_time": "2022-04-12T10:43:28.634Z"
   },
   {
    "duration": 146,
    "start_time": "2022-04-12T10:43:58.582Z"
   },
   {
    "duration": 36,
    "start_time": "2022-04-12T10:45:56.870Z"
   },
   {
    "duration": 26,
    "start_time": "2022-04-12T10:46:23.555Z"
   },
   {
    "duration": 36,
    "start_time": "2022-04-12T10:47:04.973Z"
   },
   {
    "duration": 44,
    "start_time": "2022-04-12T10:48:33.017Z"
   },
   {
    "duration": 41,
    "start_time": "2022-04-12T10:49:09.041Z"
   },
   {
    "duration": 37,
    "start_time": "2022-04-12T10:49:13.535Z"
   },
   {
    "duration": 49,
    "start_time": "2022-04-12T11:50:07.865Z"
   },
   {
    "duration": 20,
    "start_time": "2022-04-12T11:51:33.881Z"
   },
   {
    "duration": 17,
    "start_time": "2022-04-12T11:52:23.240Z"
   },
   {
    "duration": 34,
    "start_time": "2022-04-12T11:52:37.261Z"
   },
   {
    "duration": 129,
    "start_time": "2022-04-12T11:53:35.575Z"
   },
   {
    "duration": 12,
    "start_time": "2022-04-12T11:54:37.522Z"
   },
   {
    "duration": 12,
    "start_time": "2022-04-12T11:54:41.988Z"
   },
   {
    "duration": 13,
    "start_time": "2022-04-12T11:55:27.718Z"
   },
   {
    "duration": 5,
    "start_time": "2022-04-12T11:58:15.392Z"
   },
   {
    "duration": 17,
    "start_time": "2022-04-12T11:58:29.783Z"
   },
   {
    "duration": 91,
    "start_time": "2022-04-12T11:59:23.379Z"
   },
   {
    "duration": 1771,
    "start_time": "2022-04-12T11:59:50.824Z"
   },
   {
    "duration": 2116,
    "start_time": "2022-04-12T12:00:35.435Z"
   },
   {
    "duration": 72,
    "start_time": "2022-04-12T12:00:51.508Z"
   },
   {
    "duration": 72,
    "start_time": "2022-04-12T12:01:04.994Z"
   },
   {
    "duration": 62,
    "start_time": "2022-04-12T12:05:07.842Z"
   },
   {
    "duration": 71,
    "start_time": "2022-04-12T12:05:14.782Z"
   },
   {
    "duration": 64,
    "start_time": "2022-04-12T12:05:21.574Z"
   },
   {
    "duration": 61,
    "start_time": "2022-04-12T12:05:27.784Z"
   },
   {
    "duration": 65,
    "start_time": "2022-04-12T12:06:33.677Z"
   },
   {
    "duration": 50,
    "start_time": "2022-04-12T12:13:28.000Z"
   },
   {
    "duration": 56,
    "start_time": "2022-04-12T12:16:30.446Z"
   },
   {
    "duration": 62,
    "start_time": "2022-04-12T12:17:04.546Z"
   },
   {
    "duration": 72,
    "start_time": "2022-04-12T13:20:26.782Z"
   },
   {
    "duration": 76,
    "start_time": "2022-04-12T13:20:46.227Z"
   },
   {
    "duration": 55,
    "start_time": "2022-04-12T13:20:56.505Z"
   },
   {
    "duration": 71,
    "start_time": "2022-04-12T13:21:00.570Z"
   },
   {
    "duration": 56,
    "start_time": "2022-04-12T13:21:34.032Z"
   },
   {
    "duration": 64,
    "start_time": "2022-04-12T13:21:48.423Z"
   },
   {
    "duration": 31,
    "start_time": "2022-04-12T13:22:05.124Z"
   },
   {
    "duration": 13,
    "start_time": "2022-04-12T13:22:15.363Z"
   },
   {
    "duration": 15,
    "start_time": "2022-04-12T13:22:40.826Z"
   },
   {
    "duration": 39,
    "start_time": "2022-04-12T13:23:07.113Z"
   },
   {
    "duration": 36,
    "start_time": "2022-04-12T13:23:19.746Z"
   },
   {
    "duration": 40,
    "start_time": "2022-04-12T13:23:26.384Z"
   },
   {
    "duration": 36,
    "start_time": "2022-04-12T13:23:31.510Z"
   },
   {
    "duration": 54,
    "start_time": "2022-04-12T13:23:55.463Z"
   },
   {
    "duration": 143,
    "start_time": "2022-04-12T13:24:57.631Z"
   },
   {
    "duration": 37,
    "start_time": "2022-04-12T13:25:03.517Z"
   },
   {
    "duration": 35,
    "start_time": "2022-04-12T13:25:17.529Z"
   },
   {
    "duration": 16,
    "start_time": "2022-04-12T13:25:38.557Z"
   },
   {
    "duration": 16,
    "start_time": "2022-04-12T13:25:45.329Z"
   },
   {
    "duration": 4,
    "start_time": "2022-04-12T13:26:24.893Z"
   },
   {
    "duration": 18,
    "start_time": "2022-04-12T13:26:29.006Z"
   },
   {
    "duration": 18,
    "start_time": "2022-04-12T13:26:35.329Z"
   },
   {
    "duration": 136,
    "start_time": "2022-04-12T13:27:38.516Z"
   },
   {
    "duration": 25,
    "start_time": "2022-04-12T13:27:50.914Z"
   },
   {
    "duration": 39,
    "start_time": "2022-04-12T14:04:21.635Z"
   },
   {
    "duration": 31,
    "start_time": "2022-04-12T14:04:28.408Z"
   },
   {
    "duration": 39,
    "start_time": "2022-04-12T14:04:38.110Z"
   },
   {
    "duration": 38,
    "start_time": "2022-04-12T14:04:44.685Z"
   },
   {
    "duration": 48,
    "start_time": "2022-04-12T14:04:50.847Z"
   },
   {
    "duration": 26,
    "start_time": "2022-04-12T14:08:29.842Z"
   },
   {
    "duration": 38,
    "start_time": "2022-04-12T14:09:21.704Z"
   },
   {
    "duration": 17,
    "start_time": "2022-04-12T14:09:40.979Z"
   },
   {
    "duration": 19,
    "start_time": "2022-04-12T14:10:14.403Z"
   },
   {
    "duration": 13,
    "start_time": "2022-04-12T14:13:06.597Z"
   },
   {
    "duration": 40,
    "start_time": "2022-04-12T14:13:14.004Z"
   },
   {
    "duration": 43,
    "start_time": "2022-04-12T14:15:35.537Z"
   },
   {
    "duration": 48,
    "start_time": "2022-04-12T14:15:48.179Z"
   },
   {
    "duration": 54,
    "start_time": "2022-04-12T14:16:14.303Z"
   },
   {
    "duration": 58,
    "start_time": "2022-04-12T14:16:37.910Z"
   },
   {
    "duration": 63,
    "start_time": "2022-04-12T14:16:55.829Z"
   },
   {
    "duration": 67,
    "start_time": "2022-04-12T14:17:24.629Z"
   },
   {
    "duration": 74,
    "start_time": "2022-04-12T14:17:46.089Z"
   },
   {
    "duration": 75,
    "start_time": "2022-04-12T14:18:04.963Z"
   },
   {
    "duration": 5,
    "start_time": "2022-04-12T14:18:43.174Z"
   },
   {
    "duration": 7,
    "start_time": "2022-04-12T14:18:43.182Z"
   },
   {
    "duration": 6,
    "start_time": "2022-04-12T14:18:43.191Z"
   },
   {
    "duration": 77,
    "start_time": "2022-04-12T14:18:43.200Z"
   },
   {
    "duration": 20,
    "start_time": "2022-04-12T14:18:43.280Z"
   },
   {
    "duration": 232,
    "start_time": "2022-04-12T14:18:43.302Z"
   },
   {
    "duration": 34,
    "start_time": "2022-04-12T14:18:43.536Z"
   },
   {
    "duration": 166,
    "start_time": "2022-04-12T14:18:43.572Z"
   },
   {
    "duration": 227,
    "start_time": "2022-04-12T14:18:43.741Z"
   },
   {
    "duration": 34,
    "start_time": "2022-04-12T14:18:43.972Z"
   },
   {
    "duration": 34,
    "start_time": "2022-04-12T14:18:44.008Z"
   },
   {
    "duration": 13,
    "start_time": "2022-04-12T14:18:44.045Z"
   },
   {
    "duration": 12,
    "start_time": "2022-04-12T14:18:44.060Z"
   },
   {
    "duration": 19,
    "start_time": "2022-04-12T14:18:44.075Z"
   },
   {
    "duration": 45,
    "start_time": "2022-04-12T14:18:44.131Z"
   },
   {
    "duration": 48,
    "start_time": "2022-04-12T14:18:44.178Z"
   },
   {
    "duration": 32,
    "start_time": "2022-04-12T14:18:44.229Z"
   },
   {
    "duration": 134,
    "start_time": "2022-04-12T14:18:44.264Z"
   },
   {
    "duration": 329,
    "start_time": "2022-04-12T14:18:44.400Z"
   },
   {
    "duration": 175,
    "start_time": "2022-04-12T14:18:44.732Z"
   },
   {
    "duration": 142,
    "start_time": "2022-04-12T14:18:44.910Z"
   },
   {
    "duration": 79,
    "start_time": "2022-04-12T14:18:45.055Z"
   },
   {
    "duration": 53,
    "start_time": "2022-04-12T14:18:45.136Z"
   },
   {
    "duration": 70,
    "start_time": "2022-04-12T14:18:45.192Z"
   },
   {
    "duration": 42,
    "start_time": "2022-04-12T14:18:45.264Z"
   },
   {
    "duration": 18,
    "start_time": "2022-04-12T14:18:45.308Z"
   },
   {
    "duration": 37,
    "start_time": "2022-04-12T14:18:45.328Z"
   },
   {
    "duration": 63,
    "start_time": "2022-04-12T14:18:45.370Z"
   },
   {
    "duration": 21,
    "start_time": "2022-04-12T14:19:04.441Z"
   },
   {
    "duration": 13,
    "start_time": "2022-04-12T14:19:08.990Z"
   },
   {
    "duration": 39,
    "start_time": "2022-04-12T14:19:15.733Z"
   },
   {
    "duration": 13,
    "start_time": "2022-04-12T14:19:52.598Z"
   },
   {
    "duration": 22,
    "start_time": "2022-04-12T14:23:15.339Z"
   },
   {
    "duration": 10,
    "start_time": "2022-04-12T14:24:35.620Z"
   },
   {
    "duration": 10,
    "start_time": "2022-04-12T14:24:43.773Z"
   },
   {
    "duration": 15,
    "start_time": "2022-04-12T14:24:53.631Z"
   },
   {
    "duration": 43,
    "start_time": "2022-04-12T14:25:31.659Z"
   },
   {
    "duration": 4,
    "start_time": "2022-04-12T14:25:57.233Z"
   },
   {
    "duration": 21,
    "start_time": "2022-04-12T14:26:01.089Z"
   },
   {
    "duration": 16,
    "start_time": "2022-04-12T14:26:18.198Z"
   },
   {
    "duration": 51,
    "start_time": "2022-04-12T14:26:28.761Z"
   },
   {
    "duration": 35,
    "start_time": "2022-04-12T15:36:54.523Z"
   },
   {
    "duration": 5,
    "start_time": "2022-04-12T15:37:06.131Z"
   },
   {
    "duration": 6,
    "start_time": "2022-04-12T15:37:06.140Z"
   },
   {
    "duration": 8,
    "start_time": "2022-04-12T15:37:06.149Z"
   },
   {
    "duration": 49,
    "start_time": "2022-04-12T15:37:06.160Z"
   },
   {
    "duration": 32,
    "start_time": "2022-04-12T15:37:06.212Z"
   },
   {
    "duration": 266,
    "start_time": "2022-04-12T15:37:06.246Z"
   },
   {
    "duration": 38,
    "start_time": "2022-04-12T15:37:06.515Z"
   },
   {
    "duration": 151,
    "start_time": "2022-04-12T15:37:06.557Z"
   },
   {
    "duration": 205,
    "start_time": "2022-04-12T15:37:06.710Z"
   },
   {
    "duration": 41,
    "start_time": "2022-04-12T15:37:06.917Z"
   },
   {
    "duration": 27,
    "start_time": "2022-04-12T15:37:06.961Z"
   },
   {
    "duration": 37,
    "start_time": "2022-04-12T15:37:06.991Z"
   },
   {
    "duration": 12,
    "start_time": "2022-04-12T15:37:07.031Z"
   },
   {
    "duration": 21,
    "start_time": "2022-04-12T15:37:07.046Z"
   },
   {
    "duration": 74,
    "start_time": "2022-04-12T15:37:07.069Z"
   },
   {
    "duration": 40,
    "start_time": "2022-04-12T15:37:07.161Z"
   },
   {
    "duration": 45,
    "start_time": "2022-04-12T15:37:07.204Z"
   },
   {
    "duration": 110,
    "start_time": "2022-04-12T15:37:07.252Z"
   },
   {
    "duration": 349,
    "start_time": "2022-04-12T15:37:07.365Z"
   },
   {
    "duration": 172,
    "start_time": "2022-04-12T15:37:07.724Z"
   },
   {
    "duration": 91,
    "start_time": "2022-04-12T15:37:07.899Z"
   },
   {
    "duration": 74,
    "start_time": "2022-04-12T15:37:07.992Z"
   },
   {
    "duration": 78,
    "start_time": "2022-04-12T15:37:08.069Z"
   },
   {
    "duration": 47,
    "start_time": "2022-04-12T15:37:08.150Z"
   },
   {
    "duration": 64,
    "start_time": "2022-04-12T15:37:08.200Z"
   },
   {
    "duration": 3,
    "start_time": "2022-04-12T15:37:08.266Z"
   },
   {
    "duration": 55,
    "start_time": "2022-04-12T15:37:08.272Z"
   },
   {
    "duration": 29,
    "start_time": "2022-04-12T15:37:08.329Z"
   },
   {
    "duration": 27,
    "start_time": "2022-04-12T15:37:08.360Z"
   },
   {
    "duration": 7,
    "start_time": "2022-04-12T15:37:08.390Z"
   },
   {
    "duration": 13,
    "start_time": "2022-04-12T15:37:08.425Z"
   },
   {
    "duration": 23,
    "start_time": "2022-04-12T15:37:08.441Z"
   },
   {
    "duration": 15,
    "start_time": "2022-04-12T15:37:08.466Z"
   },
   {
    "duration": 19,
    "start_time": "2022-04-12T15:37:12.857Z"
   },
   {
    "duration": 27,
    "start_time": "2022-04-12T15:43:21.266Z"
   },
   {
    "duration": 28,
    "start_time": "2022-04-12T15:43:28.887Z"
   },
   {
    "duration": 26,
    "start_time": "2022-04-12T15:43:42.333Z"
   },
   {
    "duration": 5,
    "start_time": "2022-04-12T15:43:49.003Z"
   },
   {
    "duration": 17,
    "start_time": "2022-04-12T15:44:07.909Z"
   },
   {
    "duration": 5,
    "start_time": "2022-04-12T15:44:12.978Z"
   },
   {
    "duration": 4,
    "start_time": "2022-04-12T15:44:23.459Z"
   },
   {
    "duration": 10,
    "start_time": "2022-04-12T15:44:23.466Z"
   },
   {
    "duration": 11,
    "start_time": "2022-04-12T15:44:23.479Z"
   },
   {
    "duration": 49,
    "start_time": "2022-04-12T15:44:23.493Z"
   },
   {
    "duration": 19,
    "start_time": "2022-04-12T15:44:23.545Z"
   },
   {
    "duration": 252,
    "start_time": "2022-04-12T15:44:23.566Z"
   },
   {
    "duration": 32,
    "start_time": "2022-04-12T15:44:23.824Z"
   },
   {
    "duration": 157,
    "start_time": "2022-04-12T15:44:23.858Z"
   },
   {
    "duration": 200,
    "start_time": "2022-04-12T15:44:24.018Z"
   },
   {
    "duration": 36,
    "start_time": "2022-04-12T15:44:24.224Z"
   },
   {
    "duration": 26,
    "start_time": "2022-04-12T15:44:24.264Z"
   },
   {
    "duration": 4,
    "start_time": "2022-04-12T15:44:24.292Z"
   },
   {
    "duration": 37,
    "start_time": "2022-04-12T15:44:24.298Z"
   },
   {
    "duration": 4,
    "start_time": "2022-04-12T15:44:24.338Z"
   },
   {
    "duration": 17,
    "start_time": "2022-04-12T15:44:24.344Z"
   },
   {
    "duration": 66,
    "start_time": "2022-04-12T15:44:24.363Z"
   },
   {
    "duration": 28,
    "start_time": "2022-04-12T15:44:24.432Z"
   },
   {
    "duration": 33,
    "start_time": "2022-04-12T15:44:24.463Z"
   },
   {
    "duration": 190,
    "start_time": "2022-04-12T15:44:24.499Z"
   },
   {
    "duration": 363,
    "start_time": "2022-04-12T15:44:24.691Z"
   },
   {
    "duration": 180,
    "start_time": "2022-04-12T15:44:25.057Z"
   },
   {
    "duration": 140,
    "start_time": "2022-04-12T15:44:25.239Z"
   },
   {
    "duration": 111,
    "start_time": "2022-04-12T15:44:25.381Z"
   },
   {
    "duration": 84,
    "start_time": "2022-04-12T15:44:25.495Z"
   },
   {
    "duration": 73,
    "start_time": "2022-04-12T15:44:25.582Z"
   },
   {
    "duration": 71,
    "start_time": "2022-04-12T15:44:25.658Z"
   },
   {
    "duration": 4,
    "start_time": "2022-04-12T15:44:25.732Z"
   },
   {
    "duration": 42,
    "start_time": "2022-04-12T15:44:25.739Z"
   },
   {
    "duration": 51,
    "start_time": "2022-04-12T15:44:25.787Z"
   },
   {
    "duration": 21,
    "start_time": "2022-04-12T15:44:25.841Z"
   },
   {
    "duration": 4,
    "start_time": "2022-04-12T15:44:25.865Z"
   },
   {
    "duration": 34,
    "start_time": "2022-04-12T15:44:25.872Z"
   },
   {
    "duration": 19,
    "start_time": "2022-04-12T15:44:25.924Z"
   },
   {
    "duration": 29,
    "start_time": "2022-04-12T15:44:25.946Z"
   },
   {
    "duration": 36,
    "start_time": "2022-04-12T15:44:25.977Z"
   },
   {
    "duration": 34,
    "start_time": "2022-04-12T15:44:28.090Z"
   },
   {
    "duration": 124,
    "start_time": "2022-04-12T15:53:00.881Z"
   },
   {
    "duration": 11,
    "start_time": "2022-04-12T15:53:20.194Z"
   },
   {
    "duration": 47,
    "start_time": "2022-04-12T15:54:33.104Z"
   },
   {
    "duration": 20,
    "start_time": "2022-04-12T15:55:02.057Z"
   },
   {
    "duration": 30,
    "start_time": "2022-04-12T15:55:15.832Z"
   },
   {
    "duration": 7,
    "start_time": "2022-04-12T15:58:31.710Z"
   },
   {
    "duration": 47,
    "start_time": "2022-04-12T15:58:49.795Z"
   },
   {
    "duration": 6,
    "start_time": "2022-04-12T16:04:52.797Z"
   },
   {
    "duration": 8,
    "start_time": "2022-04-12T16:05:10.478Z"
   },
   {
    "duration": 7,
    "start_time": "2022-04-12T16:05:35.139Z"
   },
   {
    "duration": 19,
    "start_time": "2022-04-12T16:08:55.685Z"
   },
   {
    "duration": 17,
    "start_time": "2022-04-12T16:09:15.153Z"
   },
   {
    "duration": 5,
    "start_time": "2022-04-12T16:09:20.141Z"
   },
   {
    "duration": 25,
    "start_time": "2022-04-12T16:09:22.068Z"
   },
   {
    "duration": 34,
    "start_time": "2022-04-12T16:11:25.158Z"
   },
   {
    "duration": 13,
    "start_time": "2022-04-12T16:12:21.075Z"
   },
   {
    "duration": 23,
    "start_time": "2022-04-12T16:12:34.583Z"
   },
   {
    "duration": 31,
    "start_time": "2022-04-12T16:13:09.976Z"
   },
   {
    "duration": 50,
    "start_time": "2022-04-12T16:14:18.688Z"
   },
   {
    "duration": 32,
    "start_time": "2022-04-12T16:15:33.674Z"
   },
   {
    "duration": 31,
    "start_time": "2022-04-12T16:15:44.179Z"
   },
   {
    "duration": 32,
    "start_time": "2022-04-12T16:16:36.759Z"
   },
   {
    "duration": 58,
    "start_time": "2022-04-12T20:22:28.113Z"
   },
   {
    "duration": 903,
    "start_time": "2022-04-12T20:22:38.316Z"
   },
   {
    "duration": 3,
    "start_time": "2022-04-12T20:22:39.221Z"
   },
   {
    "duration": 6,
    "start_time": "2022-04-12T20:22:39.226Z"
   },
   {
    "duration": 60,
    "start_time": "2022-04-12T20:22:39.240Z"
   },
   {
    "duration": 18,
    "start_time": "2022-04-12T20:22:39.301Z"
   },
   {
    "duration": 212,
    "start_time": "2022-04-12T20:22:39.321Z"
   },
   {
    "duration": 34,
    "start_time": "2022-04-12T20:22:39.535Z"
   },
   {
    "duration": 22,
    "start_time": "2022-04-12T20:22:43.146Z"
   },
   {
    "duration": 50,
    "start_time": "2022-04-12T20:23:59.105Z"
   },
   {
    "duration": 3,
    "start_time": "2022-04-12T20:24:04.416Z"
   },
   {
    "duration": 14,
    "start_time": "2022-04-12T20:24:04.421Z"
   },
   {
    "duration": 8,
    "start_time": "2022-04-12T20:24:04.437Z"
   },
   {
    "duration": 51,
    "start_time": "2022-04-12T20:24:04.448Z"
   },
   {
    "duration": 17,
    "start_time": "2022-04-12T20:24:04.501Z"
   },
   {
    "duration": 206,
    "start_time": "2022-04-12T20:24:04.519Z"
   },
   {
    "duration": 33,
    "start_time": "2022-04-12T20:24:04.728Z"
   },
   {
    "duration": 24,
    "start_time": "2022-04-12T20:24:04.763Z"
   },
   {
    "duration": 137,
    "start_time": "2022-04-12T20:24:04.789Z"
   },
   {
    "duration": 17,
    "start_time": "2022-04-12T20:24:07.024Z"
   },
   {
    "duration": 10,
    "start_time": "2022-04-12T20:24:20.704Z"
   },
   {
    "duration": 14,
    "start_time": "2022-04-12T20:24:25.821Z"
   },
   {
    "duration": 43,
    "start_time": "2022-04-13T08:30:25.479Z"
   },
   {
    "duration": 1068,
    "start_time": "2022-04-13T08:30:31.188Z"
   },
   {
    "duration": 4,
    "start_time": "2022-04-13T08:30:32.259Z"
   },
   {
    "duration": 6,
    "start_time": "2022-04-13T08:30:32.265Z"
   },
   {
    "duration": 38,
    "start_time": "2022-04-13T08:30:32.273Z"
   },
   {
    "duration": 24,
    "start_time": "2022-04-13T08:30:32.314Z"
   },
   {
    "duration": 149,
    "start_time": "2022-04-13T08:30:32.339Z"
   },
   {
    "duration": 34,
    "start_time": "2022-04-13T08:30:32.490Z"
   },
   {
    "duration": 86,
    "start_time": "2022-04-13T08:30:32.527Z"
   },
   {
    "duration": 156,
    "start_time": "2022-04-13T08:30:32.615Z"
   },
   {
    "duration": 22,
    "start_time": "2022-04-13T08:30:32.773Z"
   },
   {
    "duration": 17,
    "start_time": "2022-04-13T08:30:32.796Z"
   },
   {
    "duration": 3,
    "start_time": "2022-04-13T08:30:32.824Z"
   },
   {
    "duration": 17,
    "start_time": "2022-04-13T08:30:32.828Z"
   },
   {
    "duration": 3,
    "start_time": "2022-04-13T08:30:32.848Z"
   },
   {
    "duration": 14,
    "start_time": "2022-04-13T08:30:32.852Z"
   },
   {
    "duration": 33,
    "start_time": "2022-04-13T08:30:32.868Z"
   },
   {
    "duration": 28,
    "start_time": "2022-04-13T08:30:32.903Z"
   },
   {
    "duration": 22,
    "start_time": "2022-04-13T08:30:32.933Z"
   },
   {
    "duration": 92,
    "start_time": "2022-04-13T08:30:32.956Z"
   },
   {
    "duration": 179,
    "start_time": "2022-04-13T08:30:33.049Z"
   },
   {
    "duration": 67,
    "start_time": "2022-04-13T08:30:33.230Z"
   },
   {
    "duration": 67,
    "start_time": "2022-04-13T08:30:33.299Z"
   },
   {
    "duration": 56,
    "start_time": "2022-04-13T08:30:33.367Z"
   },
   {
    "duration": 35,
    "start_time": "2022-04-13T08:30:33.425Z"
   },
   {
    "duration": 31,
    "start_time": "2022-04-13T08:30:33.462Z"
   },
   {
    "duration": 50,
    "start_time": "2022-04-13T08:30:33.494Z"
   },
   {
    "duration": 2,
    "start_time": "2022-04-13T08:30:33.546Z"
   },
   {
    "duration": 20,
    "start_time": "2022-04-13T08:30:33.550Z"
   },
   {
    "duration": 16,
    "start_time": "2022-04-13T08:30:33.572Z"
   },
   {
    "duration": 39,
    "start_time": "2022-04-13T08:30:33.590Z"
   },
   {
    "duration": 8,
    "start_time": "2022-04-13T08:30:33.631Z"
   },
   {
    "duration": 5,
    "start_time": "2022-04-13T08:30:33.641Z"
   },
   {
    "duration": 20,
    "start_time": "2022-04-13T08:30:33.648Z"
   },
   {
    "duration": 39,
    "start_time": "2022-04-13T08:30:35.325Z"
   },
   {
    "duration": 10,
    "start_time": "2022-04-13T08:30:53.451Z"
   },
   {
    "duration": 10,
    "start_time": "2022-04-13T08:30:58.031Z"
   },
   {
    "duration": 15,
    "start_time": "2022-04-13T08:31:16.299Z"
   },
   {
    "duration": 11,
    "start_time": "2022-04-13T08:31:43.968Z"
   },
   {
    "duration": 11,
    "start_time": "2022-04-13T08:32:05.480Z"
   },
   {
    "duration": 5,
    "start_time": "2022-04-13T08:35:46.843Z"
   },
   {
    "duration": 8,
    "start_time": "2022-04-13T08:35:58.802Z"
   },
   {
    "duration": 14,
    "start_time": "2022-04-13T09:52:07.674Z"
   },
   {
    "duration": 4,
    "start_time": "2022-04-13T10:28:27.995Z"
   },
   {
    "duration": 74,
    "start_time": "2022-04-13T10:30:58.650Z"
   },
   {
    "duration": 59,
    "start_time": "2022-04-13T10:31:14.362Z"
   },
   {
    "duration": 36,
    "start_time": "2022-04-13T10:31:38.485Z"
   },
   {
    "duration": 40,
    "start_time": "2022-04-13T10:31:45.228Z"
   },
   {
    "duration": 3,
    "start_time": "2022-04-13T10:31:49.535Z"
   },
   {
    "duration": 7,
    "start_time": "2022-04-13T10:31:49.540Z"
   },
   {
    "duration": 10,
    "start_time": "2022-04-13T10:31:49.549Z"
   },
   {
    "duration": 30,
    "start_time": "2022-04-13T10:31:49.560Z"
   },
   {
    "duration": 13,
    "start_time": "2022-04-13T10:31:49.592Z"
   },
   {
    "duration": 176,
    "start_time": "2022-04-13T10:31:49.606Z"
   },
   {
    "duration": 24,
    "start_time": "2022-04-13T10:31:49.784Z"
   },
   {
    "duration": 104,
    "start_time": "2022-04-13T10:31:49.810Z"
   },
   {
    "duration": 148,
    "start_time": "2022-04-13T10:31:49.916Z"
   },
   {
    "duration": 27,
    "start_time": "2022-04-13T10:31:50.066Z"
   },
   {
    "duration": 30,
    "start_time": "2022-04-13T10:31:50.094Z"
   },
   {
    "duration": 8,
    "start_time": "2022-04-13T10:31:50.126Z"
   },
   {
    "duration": 4,
    "start_time": "2022-04-13T10:31:50.136Z"
   },
   {
    "duration": 8,
    "start_time": "2022-04-13T10:31:50.143Z"
   },
   {
    "duration": 32,
    "start_time": "2022-04-13T10:31:50.153Z"
   },
   {
    "duration": 40,
    "start_time": "2022-04-13T10:31:50.187Z"
   },
   {
    "duration": 20,
    "start_time": "2022-04-13T10:31:50.229Z"
   },
   {
    "duration": 3,
    "start_time": "2022-04-13T10:31:50.251Z"
   },
   {
    "duration": 88,
    "start_time": "2022-04-13T10:31:50.256Z"
   },
   {
    "duration": 190,
    "start_time": "2022-04-13T10:31:50.346Z"
   },
   {
    "duration": 69,
    "start_time": "2022-04-13T10:31:50.537Z"
   },
   {
    "duration": 66,
    "start_time": "2022-04-13T10:31:50.608Z"
   },
   {
    "duration": 57,
    "start_time": "2022-04-13T10:31:50.676Z"
   },
   {
    "duration": 10,
    "start_time": "2022-04-13T10:31:53.029Z"
   },
   {
    "duration": 37,
    "start_time": "2022-04-13T10:32:03.891Z"
   },
   {
    "duration": 31,
    "start_time": "2022-04-13T10:32:21.900Z"
   },
   {
    "duration": 29,
    "start_time": "2022-04-13T10:32:30.141Z"
   },
   {
    "duration": 1893,
    "start_time": "2022-04-13T10:33:14.969Z"
   },
   {
    "duration": 3,
    "start_time": "2022-04-13T10:33:24.488Z"
   },
   {
    "duration": 8,
    "start_time": "2022-04-13T10:33:24.493Z"
   },
   {
    "duration": 4,
    "start_time": "2022-04-13T10:33:24.503Z"
   },
   {
    "duration": 33,
    "start_time": "2022-04-13T10:33:24.508Z"
   },
   {
    "duration": 13,
    "start_time": "2022-04-13T10:33:24.543Z"
   },
   {
    "duration": 176,
    "start_time": "2022-04-13T10:33:24.557Z"
   },
   {
    "duration": 26,
    "start_time": "2022-04-13T10:33:24.735Z"
   },
   {
    "duration": 109,
    "start_time": "2022-04-13T10:33:24.763Z"
   },
   {
    "duration": 141,
    "start_time": "2022-04-13T10:33:24.874Z"
   },
   {
    "duration": 27,
    "start_time": "2022-04-13T10:33:25.017Z"
   },
   {
    "duration": 20,
    "start_time": "2022-04-13T10:33:25.047Z"
   },
   {
    "duration": 7,
    "start_time": "2022-04-13T10:33:25.069Z"
   },
   {
    "duration": 6,
    "start_time": "2022-04-13T10:33:25.077Z"
   },
   {
    "duration": 10,
    "start_time": "2022-04-13T10:33:25.085Z"
   },
   {
    "duration": 49,
    "start_time": "2022-04-13T10:33:25.097Z"
   },
   {
    "duration": 15,
    "start_time": "2022-04-13T10:33:25.147Z"
   },
   {
    "duration": 21,
    "start_time": "2022-04-13T10:33:25.163Z"
   },
   {
    "duration": 4,
    "start_time": "2022-04-13T10:33:25.185Z"
   },
   {
    "duration": 88,
    "start_time": "2022-04-13T10:33:25.190Z"
   },
   {
    "duration": 168,
    "start_time": "2022-04-13T10:33:25.280Z"
   },
   {
    "duration": 78,
    "start_time": "2022-04-13T10:33:25.450Z"
   },
   {
    "duration": 54,
    "start_time": "2022-04-13T10:33:25.529Z"
   },
   {
    "duration": 56,
    "start_time": "2022-04-13T10:33:25.585Z"
   },
   {
    "duration": 37,
    "start_time": "2022-04-13T10:33:25.643Z"
   },
   {
    "duration": 47,
    "start_time": "2022-04-13T10:33:25.681Z"
   },
   {
    "duration": 25,
    "start_time": "2022-04-13T10:33:25.729Z"
   },
   {
    "duration": 2,
    "start_time": "2022-04-13T10:33:25.755Z"
   },
   {
    "duration": 22,
    "start_time": "2022-04-13T10:33:25.759Z"
   },
   {
    "duration": 44,
    "start_time": "2022-04-13T10:33:25.784Z"
   },
   {
    "duration": 21,
    "start_time": "2022-04-13T10:33:25.830Z"
   },
   {
    "duration": 9,
    "start_time": "2022-04-13T10:33:25.853Z"
   },
   {
    "duration": 6,
    "start_time": "2022-04-13T10:33:28.059Z"
   },
   {
    "duration": 30,
    "start_time": "2022-04-13T10:33:38.542Z"
   },
   {
    "duration": 24,
    "start_time": "2022-04-13T10:33:45.252Z"
   },
   {
    "duration": 10,
    "start_time": "2022-04-13T10:33:50.957Z"
   },
   {
    "duration": 23,
    "start_time": "2022-04-13T10:34:10.200Z"
   },
   {
    "duration": 28,
    "start_time": "2022-04-13T10:39:42.296Z"
   },
   {
    "duration": 1898,
    "start_time": "2022-04-13T10:40:17.271Z"
   },
   {
    "duration": 4,
    "start_time": "2022-04-13T10:40:24.346Z"
   },
   {
    "duration": 5,
    "start_time": "2022-04-13T10:40:24.352Z"
   },
   {
    "duration": 4,
    "start_time": "2022-04-13T10:40:24.359Z"
   },
   {
    "duration": 32,
    "start_time": "2022-04-13T10:40:24.365Z"
   },
   {
    "duration": 13,
    "start_time": "2022-04-13T10:40:24.398Z"
   },
   {
    "duration": 160,
    "start_time": "2022-04-13T10:40:24.412Z"
   },
   {
    "duration": 23,
    "start_time": "2022-04-13T10:40:24.574Z"
   },
   {
    "duration": 105,
    "start_time": "2022-04-13T10:40:24.599Z"
   },
   {
    "duration": 140,
    "start_time": "2022-04-13T10:40:24.705Z"
   },
   {
    "duration": 24,
    "start_time": "2022-04-13T10:40:24.847Z"
   },
   {
    "duration": 17,
    "start_time": "2022-04-13T10:40:24.873Z"
   },
   {
    "duration": 7,
    "start_time": "2022-04-13T10:40:24.892Z"
   },
   {
    "duration": 23,
    "start_time": "2022-04-13T10:40:24.901Z"
   },
   {
    "duration": 9,
    "start_time": "2022-04-13T10:40:24.925Z"
   },
   {
    "duration": 29,
    "start_time": "2022-04-13T10:40:24.936Z"
   },
   {
    "duration": 15,
    "start_time": "2022-04-13T10:40:24.967Z"
   },
   {
    "duration": 43,
    "start_time": "2022-04-13T10:40:24.984Z"
   },
   {
    "duration": 4,
    "start_time": "2022-04-13T10:40:25.029Z"
   },
   {
    "duration": 70,
    "start_time": "2022-04-13T10:40:25.034Z"
   },
   {
    "duration": 181,
    "start_time": "2022-04-13T10:40:25.106Z"
   },
   {
    "duration": 75,
    "start_time": "2022-04-13T10:40:25.289Z"
   },
   {
    "duration": 60,
    "start_time": "2022-04-13T10:40:25.366Z"
   },
   {
    "duration": 44,
    "start_time": "2022-04-13T10:40:25.428Z"
   },
   {
    "duration": 32,
    "start_time": "2022-04-13T10:40:25.474Z"
   },
   {
    "duration": 32,
    "start_time": "2022-04-13T10:40:25.524Z"
   },
   {
    "duration": 28,
    "start_time": "2022-04-13T10:40:25.558Z"
   },
   {
    "duration": 3,
    "start_time": "2022-04-13T10:40:25.587Z"
   },
   {
    "duration": 41,
    "start_time": "2022-04-13T10:40:25.591Z"
   },
   {
    "duration": 19,
    "start_time": "2022-04-13T10:40:25.634Z"
   },
   {
    "duration": 20,
    "start_time": "2022-04-13T10:40:25.654Z"
   },
   {
    "duration": 7,
    "start_time": "2022-04-13T10:40:25.676Z"
   },
   {
    "duration": 6,
    "start_time": "2022-04-13T10:40:27.472Z"
   },
   {
    "duration": 4,
    "start_time": "2022-04-13T10:45:47.724Z"
   },
   {
    "duration": 1580,
    "start_time": "2022-04-13T10:47:49.098Z"
   },
   {
    "duration": 3,
    "start_time": "2022-04-13T10:48:09.254Z"
   },
   {
    "duration": 4,
    "start_time": "2022-04-13T10:48:09.260Z"
   },
   {
    "duration": 4,
    "start_time": "2022-04-13T10:48:09.266Z"
   },
   {
    "duration": 27,
    "start_time": "2022-04-13T10:48:09.272Z"
   },
   {
    "duration": 15,
    "start_time": "2022-04-13T10:48:09.301Z"
   },
   {
    "duration": 168,
    "start_time": "2022-04-13T10:48:09.318Z"
   },
   {
    "duration": 25,
    "start_time": "2022-04-13T10:48:09.488Z"
   },
   {
    "duration": 95,
    "start_time": "2022-04-13T10:48:09.524Z"
   },
   {
    "duration": 141,
    "start_time": "2022-04-13T10:48:09.624Z"
   },
   {
    "duration": 24,
    "start_time": "2022-04-13T10:48:09.767Z"
   },
   {
    "duration": 22,
    "start_time": "2022-04-13T10:48:09.792Z"
   },
   {
    "duration": 8,
    "start_time": "2022-04-13T10:48:09.823Z"
   },
   {
    "duration": 7,
    "start_time": "2022-04-13T10:48:09.833Z"
   },
   {
    "duration": 8,
    "start_time": "2022-04-13T10:48:09.842Z"
   },
   {
    "duration": 26,
    "start_time": "2022-04-13T10:48:09.854Z"
   },
   {
    "duration": 15,
    "start_time": "2022-04-13T10:48:09.881Z"
   },
   {
    "duration": 20,
    "start_time": "2022-04-13T10:48:09.924Z"
   },
   {
    "duration": 4,
    "start_time": "2022-04-13T10:48:09.946Z"
   },
   {
    "duration": 91,
    "start_time": "2022-04-13T10:48:09.952Z"
   },
   {
    "duration": 193,
    "start_time": "2022-04-13T10:48:10.045Z"
   },
   {
    "duration": 83,
    "start_time": "2022-04-13T10:48:10.241Z"
   },
   {
    "duration": 56,
    "start_time": "2022-04-13T10:48:10.326Z"
   },
   {
    "duration": 62,
    "start_time": "2022-04-13T10:48:10.384Z"
   },
   {
    "duration": 36,
    "start_time": "2022-04-13T10:48:10.448Z"
   },
   {
    "duration": 50,
    "start_time": "2022-04-13T10:48:10.486Z"
   },
   {
    "duration": 30,
    "start_time": "2022-04-13T10:48:10.539Z"
   },
   {
    "duration": 3,
    "start_time": "2022-04-13T10:48:10.571Z"
   },
   {
    "duration": 20,
    "start_time": "2022-04-13T10:48:10.576Z"
   },
   {
    "duration": 45,
    "start_time": "2022-04-13T10:48:10.598Z"
   },
   {
    "duration": 22,
    "start_time": "2022-04-13T10:48:10.645Z"
   },
   {
    "duration": 9,
    "start_time": "2022-04-13T10:48:10.669Z"
   },
   {
    "duration": 7,
    "start_time": "2022-04-13T10:48:10.680Z"
   },
   {
    "duration": 58,
    "start_time": "2022-04-13T10:48:10.688Z"
   },
   {
    "duration": 11,
    "start_time": "2022-04-13T10:48:10.748Z"
   },
   {
    "duration": 4,
    "start_time": "2022-04-13T10:48:14.908Z"
   },
   {
    "duration": 1288,
    "start_time": "2022-04-13T10:48:18.308Z"
   },
   {
    "duration": 14,
    "start_time": "2022-04-13T10:48:36.349Z"
   },
   {
    "duration": 14,
    "start_time": "2022-04-13T10:48:53.949Z"
   },
   {
    "duration": 4,
    "start_time": "2022-04-13T10:49:15.844Z"
   },
   {
    "duration": 1454,
    "start_time": "2022-04-13T10:49:18.923Z"
   },
   {
    "duration": 3,
    "start_time": "2022-04-13T10:49:54.426Z"
   },
   {
    "duration": 6,
    "start_time": "2022-04-13T10:49:54.431Z"
   },
   {
    "duration": 6,
    "start_time": "2022-04-13T10:49:54.439Z"
   },
   {
    "duration": 31,
    "start_time": "2022-04-13T10:49:54.446Z"
   },
   {
    "duration": 15,
    "start_time": "2022-04-13T10:49:54.480Z"
   },
   {
    "duration": 183,
    "start_time": "2022-04-13T10:49:54.496Z"
   },
   {
    "duration": 24,
    "start_time": "2022-04-13T10:49:54.680Z"
   },
   {
    "duration": 106,
    "start_time": "2022-04-13T10:49:54.705Z"
   },
   {
    "duration": 149,
    "start_time": "2022-04-13T10:49:54.813Z"
   },
   {
    "duration": 25,
    "start_time": "2022-04-13T10:49:54.964Z"
   },
   {
    "duration": 18,
    "start_time": "2022-04-13T10:49:54.991Z"
   },
   {
    "duration": 8,
    "start_time": "2022-04-13T10:49:55.024Z"
   },
   {
    "duration": 13,
    "start_time": "2022-04-13T10:49:55.035Z"
   },
   {
    "duration": 17,
    "start_time": "2022-04-13T10:49:55.050Z"
   },
   {
    "duration": 34,
    "start_time": "2022-04-13T10:49:55.069Z"
   },
   {
    "duration": 23,
    "start_time": "2022-04-13T10:49:55.105Z"
   },
   {
    "duration": 21,
    "start_time": "2022-04-13T10:49:55.129Z"
   },
   {
    "duration": 3,
    "start_time": "2022-04-13T10:49:55.152Z"
   },
   {
    "duration": 92,
    "start_time": "2022-04-13T10:49:55.157Z"
   },
   {
    "duration": 185,
    "start_time": "2022-04-13T10:49:55.251Z"
   },
   {
    "duration": 73,
    "start_time": "2022-04-13T10:49:55.438Z"
   },
   {
    "duration": 66,
    "start_time": "2022-04-13T10:49:55.513Z"
   },
   {
    "duration": 58,
    "start_time": "2022-04-13T10:49:55.581Z"
   },
   {
    "duration": 37,
    "start_time": "2022-04-13T10:49:55.641Z"
   },
   {
    "duration": 56,
    "start_time": "2022-04-13T10:49:55.680Z"
   },
   {
    "duration": 30,
    "start_time": "2022-04-13T10:49:55.738Z"
   },
   {
    "duration": 2,
    "start_time": "2022-04-13T10:49:55.770Z"
   },
   {
    "duration": 20,
    "start_time": "2022-04-13T10:49:55.775Z"
   },
   {
    "duration": 44,
    "start_time": "2022-04-13T10:49:55.797Z"
   },
   {
    "duration": 21,
    "start_time": "2022-04-13T10:49:55.844Z"
   },
   {
    "duration": 8,
    "start_time": "2022-04-13T10:49:55.867Z"
   },
   {
    "duration": 6,
    "start_time": "2022-04-13T10:49:55.876Z"
   },
   {
    "duration": 60,
    "start_time": "2022-04-13T10:49:55.884Z"
   },
   {
    "duration": 10,
    "start_time": "2022-04-13T10:49:55.945Z"
   },
   {
    "duration": 14,
    "start_time": "2022-04-13T10:49:59.760Z"
   },
   {
    "duration": 4,
    "start_time": "2022-04-13T10:50:03.724Z"
   },
   {
    "duration": 1314,
    "start_time": "2022-04-13T10:50:06.658Z"
   },
   {
    "duration": 3,
    "start_time": "2022-04-13T10:50:26.159Z"
   },
   {
    "duration": 1608,
    "start_time": "2022-04-13T10:50:27.990Z"
   },
   {
    "duration": 25,
    "start_time": "2022-04-13T10:52:02.399Z"
   },
   {
    "duration": 26,
    "start_time": "2022-04-13T10:52:05.716Z"
   },
   {
    "duration": 109,
    "start_time": "2022-04-13T10:53:26.247Z"
   },
   {
    "duration": 103,
    "start_time": "2022-04-13T10:53:38.866Z"
   },
   {
    "duration": 110,
    "start_time": "2022-04-13T10:54:00.008Z"
   },
   {
    "duration": 121,
    "start_time": "2022-04-13T10:55:41.167Z"
   },
   {
    "duration": 4,
    "start_time": "2022-04-13T10:55:51.219Z"
   },
   {
    "duration": 5,
    "start_time": "2022-04-13T10:56:01.368Z"
   },
   {
    "duration": 25,
    "start_time": "2022-04-13T10:56:04.647Z"
   },
   {
    "duration": 5,
    "start_time": "2022-04-13T10:56:24.270Z"
   },
   {
    "duration": 24,
    "start_time": "2022-04-13T10:56:27.183Z"
   },
   {
    "duration": 14,
    "start_time": "2022-04-13T11:15:31.940Z"
   },
   {
    "duration": 26,
    "start_time": "2022-04-13T11:16:49.643Z"
   },
   {
    "duration": 13,
    "start_time": "2022-04-13T11:18:06.322Z"
   },
   {
    "duration": 3,
    "start_time": "2022-04-13T11:18:24.435Z"
   },
   {
    "duration": 5,
    "start_time": "2022-04-13T11:18:24.440Z"
   },
   {
    "duration": 4,
    "start_time": "2022-04-13T11:18:24.446Z"
   },
   {
    "duration": 27,
    "start_time": "2022-04-13T11:18:24.452Z"
   },
   {
    "duration": 12,
    "start_time": "2022-04-13T11:18:24.481Z"
   },
   {
    "duration": 158,
    "start_time": "2022-04-13T11:18:24.495Z"
   },
   {
    "duration": 23,
    "start_time": "2022-04-13T11:18:24.655Z"
   },
   {
    "duration": 103,
    "start_time": "2022-04-13T11:18:24.680Z"
   },
   {
    "duration": 127,
    "start_time": "2022-04-13T11:18:24.784Z"
   },
   {
    "duration": 31,
    "start_time": "2022-04-13T11:18:24.912Z"
   },
   {
    "duration": 20,
    "start_time": "2022-04-13T11:18:24.945Z"
   },
   {
    "duration": 7,
    "start_time": "2022-04-13T11:18:24.967Z"
   },
   {
    "duration": 23,
    "start_time": "2022-04-13T11:18:24.976Z"
   },
   {
    "duration": 15,
    "start_time": "2022-04-13T11:18:25.001Z"
   },
   {
    "duration": 33,
    "start_time": "2022-04-13T11:18:25.017Z"
   },
   {
    "duration": 16,
    "start_time": "2022-04-13T11:18:25.052Z"
   },
   {
    "duration": 18,
    "start_time": "2022-04-13T11:18:25.070Z"
   },
   {
    "duration": 3,
    "start_time": "2022-04-13T11:18:25.090Z"
   },
   {
    "duration": 85,
    "start_time": "2022-04-13T11:18:25.094Z"
   },
   {
    "duration": 172,
    "start_time": "2022-04-13T11:18:25.181Z"
   },
   {
    "duration": 74,
    "start_time": "2022-04-13T11:18:25.355Z"
   },
   {
    "duration": 24,
    "start_time": "2022-04-13T11:18:25.431Z"
   },
   {
    "duration": 70,
    "start_time": "2022-04-13T11:18:25.456Z"
   },
   {
    "duration": 42,
    "start_time": "2022-04-13T11:18:25.528Z"
   },
   {
    "duration": 33,
    "start_time": "2022-04-13T11:18:25.572Z"
   },
   {
    "duration": 32,
    "start_time": "2022-04-13T11:18:25.623Z"
   },
   {
    "duration": 29,
    "start_time": "2022-04-13T11:18:25.656Z"
   },
   {
    "duration": 12,
    "start_time": "2022-04-13T11:18:27.724Z"
   },
   {
    "duration": 12,
    "start_time": "2022-04-13T11:19:54.156Z"
   },
   {
    "duration": 12,
    "start_time": "2022-04-13T11:30:08.783Z"
   },
   {
    "duration": 7,
    "start_time": "2022-04-13T11:35:37.704Z"
   },
   {
    "duration": 8,
    "start_time": "2022-04-13T11:36:15.938Z"
   },
   {
    "duration": 12,
    "start_time": "2022-04-13T11:36:25.987Z"
   },
   {
    "duration": 14,
    "start_time": "2022-04-13T11:36:35.894Z"
   },
   {
    "duration": 15,
    "start_time": "2022-04-13T11:37:10.077Z"
   },
   {
    "duration": 5,
    "start_time": "2022-04-13T11:37:23.307Z"
   },
   {
    "duration": 111,
    "start_time": "2022-04-13T11:37:28.242Z"
   },
   {
    "duration": 118,
    "start_time": "2022-04-13T11:37:46.404Z"
   },
   {
    "duration": 101,
    "start_time": "2022-04-13T11:45:09.536Z"
   },
   {
    "duration": 16,
    "start_time": "2022-04-13T11:46:40.183Z"
   },
   {
    "duration": 2,
    "start_time": "2022-04-13T13:03:12.383Z"
   },
   {
    "duration": 178,
    "start_time": "2022-04-13T13:15:44.424Z"
   },
   {
    "duration": 189,
    "start_time": "2022-04-13T13:15:58.495Z"
   },
   {
    "duration": 9,
    "start_time": "2022-04-13T13:16:24.307Z"
   },
   {
    "duration": 8,
    "start_time": "2022-04-13T13:16:29.394Z"
   },
   {
    "duration": 8,
    "start_time": "2022-04-13T13:16:35.107Z"
   },
   {
    "duration": 17,
    "start_time": "2022-04-13T13:17:53.635Z"
   },
   {
    "duration": 39,
    "start_time": "2022-04-13T13:17:58.049Z"
   },
   {
    "duration": 35,
    "start_time": "2022-04-13T13:18:22.435Z"
   },
   {
    "duration": 45,
    "start_time": "2022-04-13T15:47:28.037Z"
   },
   {
    "duration": 34,
    "start_time": "2022-04-13T15:53:26.971Z"
   },
   {
    "duration": 49,
    "start_time": "2022-04-13T16:49:28.636Z"
   },
   {
    "duration": 73,
    "start_time": "2022-04-14T10:46:35.398Z"
   },
   {
    "duration": 1276,
    "start_time": "2022-04-14T10:46:39.734Z"
   },
   {
    "duration": 4,
    "start_time": "2022-04-14T10:46:41.013Z"
   },
   {
    "duration": 26,
    "start_time": "2022-04-14T10:46:41.019Z"
   },
   {
    "duration": 52,
    "start_time": "2022-04-14T10:46:41.048Z"
   },
   {
    "duration": 25,
    "start_time": "2022-04-14T10:46:41.103Z"
   },
   {
    "duration": 222,
    "start_time": "2022-04-14T10:46:41.131Z"
   },
   {
    "duration": 32,
    "start_time": "2022-04-14T10:46:41.356Z"
   },
   {
    "duration": 149,
    "start_time": "2022-04-14T10:46:41.390Z"
   },
   {
    "duration": 195,
    "start_time": "2022-04-14T10:46:41.541Z"
   },
   {
    "duration": 43,
    "start_time": "2022-04-14T10:46:41.739Z"
   },
   {
    "duration": 35,
    "start_time": "2022-04-14T10:46:41.785Z"
   },
   {
    "duration": 33,
    "start_time": "2022-04-14T10:46:41.822Z"
   },
   {
    "duration": 5,
    "start_time": "2022-04-14T10:46:41.857Z"
   },
   {
    "duration": 17,
    "start_time": "2022-04-14T10:46:41.864Z"
   },
   {
    "duration": 46,
    "start_time": "2022-04-14T10:46:41.883Z"
   },
   {
    "duration": 42,
    "start_time": "2022-04-14T10:46:41.931Z"
   },
   {
    "duration": 34,
    "start_time": "2022-04-14T10:46:41.975Z"
   },
   {
    "duration": 42,
    "start_time": "2022-04-14T10:46:42.012Z"
   },
   {
    "duration": 117,
    "start_time": "2022-04-14T10:46:42.057Z"
   },
   {
    "duration": 257,
    "start_time": "2022-04-14T10:46:42.177Z"
   },
   {
    "duration": 125,
    "start_time": "2022-04-14T10:46:42.437Z"
   },
   {
    "duration": 37,
    "start_time": "2022-04-14T10:46:42.564Z"
   },
   {
    "duration": 109,
    "start_time": "2022-04-14T10:46:42.603Z"
   },
   {
    "duration": 71,
    "start_time": "2022-04-14T10:46:42.715Z"
   },
   {
    "duration": 75,
    "start_time": "2022-04-14T10:46:42.789Z"
   },
   {
    "duration": 45,
    "start_time": "2022-04-14T10:46:42.866Z"
   },
   {
    "duration": 76,
    "start_time": "2022-04-14T10:46:42.913Z"
   },
   {
    "duration": 57,
    "start_time": "2022-04-14T10:46:42.996Z"
   },
   {
    "duration": 42,
    "start_time": "2022-04-14T10:46:43.056Z"
   },
   {
    "duration": 67,
    "start_time": "2022-04-14T10:46:43.101Z"
   },
   {
    "duration": 14,
    "start_time": "2022-04-14T10:46:43.170Z"
   },
   {
    "duration": 8,
    "start_time": "2022-04-14T10:46:43.186Z"
   },
   {
    "duration": 62,
    "start_time": "2022-04-14T10:46:43.196Z"
   },
   {
    "duration": 12,
    "start_time": "2022-04-14T10:46:43.260Z"
   },
   {
    "duration": 28,
    "start_time": "2022-04-14T10:46:43.275Z"
   },
   {
    "duration": 64,
    "start_time": "2022-04-14T10:46:43.305Z"
   },
   {
    "duration": 8,
    "start_time": "2022-04-14T10:46:43.372Z"
   },
   {
    "duration": 344,
    "start_time": "2022-04-14T10:46:43.382Z"
   },
   {
    "duration": 47,
    "start_time": "2022-04-14T10:46:43.728Z"
   },
   {
    "duration": 106,
    "start_time": "2022-04-14T10:46:45.405Z"
   },
   {
    "duration": 22,
    "start_time": "2022-04-14T10:46:55.992Z"
   },
   {
    "duration": 113,
    "start_time": "2022-04-14T10:53:07.041Z"
   },
   {
    "duration": 115,
    "start_time": "2022-04-14T10:53:38.939Z"
   },
   {
    "duration": 61,
    "start_time": "2022-04-14T10:54:19.266Z"
   },
   {
    "duration": 11,
    "start_time": "2022-04-14T10:54:30.260Z"
   },
   {
    "duration": 21,
    "start_time": "2022-04-14T10:55:04.098Z"
   },
   {
    "duration": 112,
    "start_time": "2022-04-14T10:55:24.223Z"
   },
   {
    "duration": 5,
    "start_time": "2022-04-14T10:59:32.178Z"
   },
   {
    "duration": 28,
    "start_time": "2022-04-14T10:59:43.552Z"
   },
   {
    "duration": 7,
    "start_time": "2022-04-14T11:00:16.593Z"
   },
   {
    "duration": 210,
    "start_time": "2022-04-14T11:00:26.953Z"
   },
   {
    "duration": 33,
    "start_time": "2022-04-14T11:00:41.344Z"
   },
   {
    "duration": 22,
    "start_time": "2022-04-14T11:00:55.224Z"
   },
   {
    "duration": 4,
    "start_time": "2022-04-14T11:54:35.784Z"
   },
   {
    "duration": 18,
    "start_time": "2022-04-14T11:57:06.733Z"
   },
   {
    "duration": 20,
    "start_time": "2022-04-14T11:57:18.317Z"
   },
   {
    "duration": 45,
    "start_time": "2022-04-16T10:02:04.350Z"
   },
   {
    "duration": 773,
    "start_time": "2022-04-16T10:02:09.936Z"
   },
   {
    "duration": 3,
    "start_time": "2022-04-16T10:02:10.711Z"
   },
   {
    "duration": 4,
    "start_time": "2022-04-16T10:02:10.716Z"
   },
   {
    "duration": 40,
    "start_time": "2022-04-16T10:02:10.722Z"
   },
   {
    "duration": 14,
    "start_time": "2022-04-16T10:02:10.764Z"
   },
   {
    "duration": 161,
    "start_time": "2022-04-16T10:02:10.780Z"
   },
   {
    "duration": 22,
    "start_time": "2022-04-16T10:02:10.943Z"
   },
   {
    "duration": 106,
    "start_time": "2022-04-16T10:02:10.966Z"
   },
   {
    "duration": 138,
    "start_time": "2022-04-16T10:02:11.074Z"
   },
   {
    "duration": 33,
    "start_time": "2022-04-16T10:02:11.215Z"
   },
   {
    "duration": 18,
    "start_time": "2022-04-16T10:02:11.249Z"
   },
   {
    "duration": 8,
    "start_time": "2022-04-16T10:02:11.268Z"
   },
   {
    "duration": 4,
    "start_time": "2022-04-16T10:02:11.278Z"
   },
   {
    "duration": 7,
    "start_time": "2022-04-16T10:02:11.283Z"
   },
   {
    "duration": 56,
    "start_time": "2022-04-16T10:02:11.292Z"
   },
   {
    "duration": 17,
    "start_time": "2022-04-16T10:02:11.349Z"
   },
   {
    "duration": 19,
    "start_time": "2022-04-16T10:02:11.368Z"
   },
   {
    "duration": 4,
    "start_time": "2022-04-16T10:02:11.389Z"
   },
   {
    "duration": 96,
    "start_time": "2022-04-16T10:02:11.395Z"
   },
   {
    "duration": 169,
    "start_time": "2022-04-16T10:02:11.493Z"
   },
   {
    "duration": 65,
    "start_time": "2022-04-16T10:02:11.664Z"
   },
   {
    "duration": 37,
    "start_time": "2022-04-16T10:02:11.731Z"
   },
   {
    "duration": 52,
    "start_time": "2022-04-16T10:02:11.770Z"
   },
   {
    "duration": 59,
    "start_time": "2022-04-16T10:02:11.824Z"
   },
   {
    "duration": 32,
    "start_time": "2022-04-16T10:02:11.885Z"
   },
   {
    "duration": 45,
    "start_time": "2022-04-16T10:02:11.919Z"
   },
   {
    "duration": 28,
    "start_time": "2022-04-16T10:02:11.966Z"
   },
   {
    "duration": 17,
    "start_time": "2022-04-16T10:02:11.997Z"
   },
   {
    "duration": 41,
    "start_time": "2022-04-16T10:02:12.016Z"
   },
   {
    "duration": 17,
    "start_time": "2022-04-16T10:02:12.059Z"
   },
   {
    "duration": 14,
    "start_time": "2022-04-16T10:02:12.077Z"
   },
   {
    "duration": 8,
    "start_time": "2022-04-16T10:02:12.092Z"
   },
   {
    "duration": 6,
    "start_time": "2022-04-16T10:02:12.101Z"
   },
   {
    "duration": 48,
    "start_time": "2022-04-16T10:02:12.108Z"
   },
   {
    "duration": 9,
    "start_time": "2022-04-16T10:02:12.158Z"
   },
   {
    "duration": 12,
    "start_time": "2022-04-16T10:02:12.169Z"
   },
   {
    "duration": 15,
    "start_time": "2022-04-16T10:02:12.182Z"
   },
   {
    "duration": 4,
    "start_time": "2022-04-16T10:02:12.199Z"
   },
   {
    "duration": 142,
    "start_time": "2022-04-16T10:02:12.205Z"
   },
   {
    "duration": 14,
    "start_time": "2022-04-16T10:02:12.349Z"
   },
   {
    "duration": 12,
    "start_time": "2022-04-16T10:02:12.365Z"
   },
   {
    "duration": 11,
    "start_time": "2022-04-16T10:02:12.378Z"
   },
   {
    "duration": 12,
    "start_time": "2022-04-16T10:02:14.806Z"
   },
   {
    "duration": 2,
    "start_time": "2022-04-16T10:02:44.940Z"
   },
   {
    "duration": 17,
    "start_time": "2022-04-16T10:03:04.812Z"
   },
   {
    "duration": 12,
    "start_time": "2022-04-16T10:03:07.652Z"
   },
   {
    "duration": 11,
    "start_time": "2022-04-16T10:03:20.636Z"
   },
   {
    "duration": 13,
    "start_time": "2022-04-16T10:32:24.465Z"
   },
   {
    "duration": 212,
    "start_time": "2022-04-16T10:35:31.756Z"
   },
   {
    "duration": 77,
    "start_time": "2022-04-16T10:36:12.619Z"
   },
   {
    "duration": 10,
    "start_time": "2022-04-16T10:36:20.048Z"
   },
   {
    "duration": 102,
    "start_time": "2022-04-16T10:38:32.539Z"
   },
   {
    "duration": 124,
    "start_time": "2022-04-16T10:38:41.565Z"
   },
   {
    "duration": 164,
    "start_time": "2022-04-16T10:38:45.942Z"
   },
   {
    "duration": 212,
    "start_time": "2022-04-16T10:39:31.589Z"
   },
   {
    "duration": 166,
    "start_time": "2022-04-16T10:44:07.090Z"
   },
   {
    "duration": 177,
    "start_time": "2022-04-16T10:44:53.046Z"
   },
   {
    "duration": 27,
    "start_time": "2022-04-16T11:01:51.523Z"
   },
   {
    "duration": 11,
    "start_time": "2022-04-16T11:02:08.023Z"
   },
   {
    "duration": 165,
    "start_time": "2022-04-16T11:02:18.582Z"
   },
   {
    "duration": 11,
    "start_time": "2022-04-16T11:02:33.949Z"
   },
   {
    "duration": 167,
    "start_time": "2022-04-16T11:02:39.958Z"
   },
   {
    "duration": 166,
    "start_time": "2022-04-16T11:04:41.443Z"
   },
   {
    "duration": 159,
    "start_time": "2022-04-16T11:04:48.555Z"
   },
   {
    "duration": 1345,
    "start_time": "2022-04-16T11:05:18.600Z"
   },
   {
    "duration": 149,
    "start_time": "2022-04-16T11:05:42.103Z"
   },
   {
    "duration": 200,
    "start_time": "2022-04-16T11:05:50.534Z"
   },
   {
    "duration": 144,
    "start_time": "2022-04-16T11:05:55.593Z"
   },
   {
    "duration": 122,
    "start_time": "2022-04-16T11:11:56.667Z"
   },
   {
    "duration": 124,
    "start_time": "2022-04-16T11:12:01.976Z"
   },
   {
    "duration": 122,
    "start_time": "2022-04-16T11:17:07.727Z"
   },
   {
    "duration": 118,
    "start_time": "2022-04-16T11:17:48.297Z"
   },
   {
    "duration": 123,
    "start_time": "2022-04-16T11:19:37.190Z"
   },
   {
    "duration": 115,
    "start_time": "2022-04-16T11:19:47.683Z"
   },
   {
    "duration": 13,
    "start_time": "2022-04-16T11:24:32.108Z"
   },
   {
    "duration": 18,
    "start_time": "2022-04-16T11:26:15.352Z"
   },
   {
    "duration": 13,
    "start_time": "2022-04-16T11:42:36.017Z"
   },
   {
    "duration": 116,
    "start_time": "2022-04-16T11:43:37.747Z"
   },
   {
    "duration": 115,
    "start_time": "2022-04-16T11:44:03.599Z"
   },
   {
    "duration": 122,
    "start_time": "2022-04-16T11:48:24.030Z"
   },
   {
    "duration": 71,
    "start_time": "2022-04-16T17:28:56.929Z"
   },
   {
    "duration": 1173,
    "start_time": "2022-04-16T17:29:04.777Z"
   },
   {
    "duration": 4,
    "start_time": "2022-04-16T17:29:05.953Z"
   },
   {
    "duration": 22,
    "start_time": "2022-04-16T17:29:05.959Z"
   },
   {
    "duration": 43,
    "start_time": "2022-04-16T17:29:05.985Z"
   },
   {
    "duration": 23,
    "start_time": "2022-04-16T17:29:06.030Z"
   },
   {
    "duration": 340,
    "start_time": "2022-04-16T17:29:06.055Z"
   },
   {
    "duration": 33,
    "start_time": "2022-04-16T17:29:06.397Z"
   },
   {
    "duration": 150,
    "start_time": "2022-04-16T17:29:06.432Z"
   },
   {
    "duration": 204,
    "start_time": "2022-04-16T17:29:06.585Z"
   },
   {
    "duration": 35,
    "start_time": "2022-04-16T17:29:06.793Z"
   },
   {
    "duration": 26,
    "start_time": "2022-04-16T17:29:06.830Z"
   },
   {
    "duration": 13,
    "start_time": "2022-04-16T17:29:06.882Z"
   },
   {
    "duration": 9,
    "start_time": "2022-04-16T17:29:06.897Z"
   },
   {
    "duration": 16,
    "start_time": "2022-04-16T17:29:06.908Z"
   },
   {
    "duration": 72,
    "start_time": "2022-04-16T17:29:06.925Z"
   },
   {
    "duration": 23,
    "start_time": "2022-04-16T17:29:06.999Z"
   },
   {
    "duration": 62,
    "start_time": "2022-04-16T17:29:07.024Z"
   },
   {
    "duration": 5,
    "start_time": "2022-04-16T17:29:07.089Z"
   },
   {
    "duration": 127,
    "start_time": "2022-04-16T17:29:07.097Z"
   },
   {
    "duration": 326,
    "start_time": "2022-04-16T17:29:07.227Z"
   },
   {
    "duration": 170,
    "start_time": "2022-04-16T17:29:07.556Z"
   },
   {
    "duration": 52,
    "start_time": "2022-04-16T17:29:07.729Z"
   },
   {
    "duration": 83,
    "start_time": "2022-04-16T17:29:07.783Z"
   },
   {
    "duration": 74,
    "start_time": "2022-04-16T17:29:07.868Z"
   },
   {
    "duration": 74,
    "start_time": "2022-04-16T17:29:07.944Z"
   },
   {
    "duration": 42,
    "start_time": "2022-04-16T17:29:08.020Z"
   },
   {
    "duration": 58,
    "start_time": "2022-04-16T17:29:08.064Z"
   },
   {
    "duration": 27,
    "start_time": "2022-04-16T17:29:08.127Z"
   },
   {
    "duration": 27,
    "start_time": "2022-04-16T17:29:08.182Z"
   },
   {
    "duration": 31,
    "start_time": "2022-04-16T17:29:08.211Z"
   },
   {
    "duration": 57,
    "start_time": "2022-04-16T17:29:08.245Z"
   },
   {
    "duration": 12,
    "start_time": "2022-04-16T17:29:08.305Z"
   },
   {
    "duration": 15,
    "start_time": "2022-04-16T17:29:08.320Z"
   },
   {
    "duration": 64,
    "start_time": "2022-04-16T17:29:08.337Z"
   },
   {
    "duration": 13,
    "start_time": "2022-04-16T17:29:08.403Z"
   },
   {
    "duration": 17,
    "start_time": "2022-04-16T17:29:08.418Z"
   },
   {
    "duration": 54,
    "start_time": "2022-04-16T17:29:08.437Z"
   },
   {
    "duration": 6,
    "start_time": "2022-04-16T17:29:08.493Z"
   },
   {
    "duration": 216,
    "start_time": "2022-04-16T17:29:08.501Z"
   },
   {
    "duration": 27,
    "start_time": "2022-04-16T17:29:08.719Z"
   },
   {
    "duration": 43,
    "start_time": "2022-04-16T17:29:08.747Z"
   },
   {
    "duration": 19,
    "start_time": "2022-04-16T17:29:08.792Z"
   },
   {
    "duration": 259,
    "start_time": "2022-04-16T17:29:08.813Z"
   },
   {
    "duration": 227,
    "start_time": "2022-04-16T17:29:09.074Z"
   },
   {
    "duration": 21,
    "start_time": "2022-04-16T17:29:09.303Z"
   },
   {
    "duration": 379,
    "start_time": "2022-04-16T17:29:09.327Z"
   },
   {
    "duration": 276,
    "start_time": "2022-04-16T17:29:09.708Z"
   },
   {
    "duration": 20,
    "start_time": "2022-04-16T17:29:09.986Z"
   },
   {
    "duration": 251,
    "start_time": "2022-04-16T17:29:10.008Z"
   },
   {
    "duration": 227,
    "start_time": "2022-04-16T17:29:10.261Z"
   },
   {
    "duration": 7,
    "start_time": "2022-04-16T17:29:12.164Z"
   },
   {
    "duration": 258,
    "start_time": "2022-04-16T17:30:18.347Z"
   },
   {
    "duration": 265,
    "start_time": "2022-04-16T17:30:51.173Z"
   },
   {
    "duration": 7,
    "start_time": "2022-04-16T17:46:18.149Z"
   },
   {
    "duration": 250,
    "start_time": "2022-04-16T17:46:26.014Z"
   },
   {
    "duration": 56,
    "start_time": "2022-04-16T17:47:26.813Z"
   },
   {
    "duration": 654,
    "start_time": "2022-04-16T17:49:48.357Z"
   },
   {
    "duration": 318,
    "start_time": "2022-04-16T17:49:50.229Z"
   },
   {
    "duration": 243,
    "start_time": "2022-04-16T17:50:24.030Z"
   },
   {
    "duration": 4,
    "start_time": "2022-04-16T17:51:06.703Z"
   },
   {
    "duration": 196,
    "start_time": "2022-04-16T17:51:08.829Z"
   },
   {
    "duration": 189,
    "start_time": "2022-04-16T17:51:24.019Z"
   },
   {
    "duration": 4,
    "start_time": "2022-04-16T17:51:31.440Z"
   },
   {
    "duration": 190,
    "start_time": "2022-04-16T17:51:33.488Z"
   },
   {
    "duration": 192,
    "start_time": "2022-04-16T17:51:41.926Z"
   },
   {
    "duration": 185,
    "start_time": "2022-04-16T17:51:46.679Z"
   },
   {
    "duration": 372,
    "start_time": "2022-04-16T17:56:43.913Z"
   },
   {
    "duration": 4,
    "start_time": "2022-04-16T18:51:36.871Z"
   },
   {
    "duration": 11,
    "start_time": "2022-04-16T18:52:57.621Z"
   },
   {
    "duration": 15,
    "start_time": "2022-04-16T18:53:03.303Z"
   },
   {
    "duration": 5,
    "start_time": "2022-04-16T18:53:38.191Z"
   },
   {
    "duration": 10,
    "start_time": "2022-04-16T18:53:41.378Z"
   },
   {
    "duration": 4,
    "start_time": "2022-04-16T18:53:51.097Z"
   },
   {
    "duration": 13,
    "start_time": "2022-04-16T18:53:51.103Z"
   },
   {
    "duration": 12,
    "start_time": "2022-04-16T18:53:51.118Z"
   },
   {
    "duration": 46,
    "start_time": "2022-04-16T18:53:51.133Z"
   },
   {
    "duration": 19,
    "start_time": "2022-04-16T18:53:51.181Z"
   },
   {
    "duration": 263,
    "start_time": "2022-04-16T18:53:51.203Z"
   },
   {
    "duration": 40,
    "start_time": "2022-04-16T18:53:51.468Z"
   },
   {
    "duration": 145,
    "start_time": "2022-04-16T18:53:51.510Z"
   },
   {
    "duration": 192,
    "start_time": "2022-04-16T18:53:51.658Z"
   },
   {
    "duration": 47,
    "start_time": "2022-04-16T18:53:51.852Z"
   },
   {
    "duration": 25,
    "start_time": "2022-04-16T18:53:51.902Z"
   },
   {
    "duration": 10,
    "start_time": "2022-04-16T18:53:51.929Z"
   },
   {
    "duration": 5,
    "start_time": "2022-04-16T18:53:51.942Z"
   },
   {
    "duration": 34,
    "start_time": "2022-04-16T18:53:51.949Z"
   },
   {
    "duration": 43,
    "start_time": "2022-04-16T18:53:51.986Z"
   },
   {
    "duration": 23,
    "start_time": "2022-04-16T18:53:52.031Z"
   },
   {
    "duration": 53,
    "start_time": "2022-04-16T18:53:52.057Z"
   },
   {
    "duration": 5,
    "start_time": "2022-04-16T18:53:52.114Z"
   },
   {
    "duration": 134,
    "start_time": "2022-04-16T18:53:52.122Z"
   },
   {
    "duration": 260,
    "start_time": "2022-04-16T18:53:52.259Z"
   },
   {
    "duration": 116,
    "start_time": "2022-04-16T18:53:52.521Z"
   },
   {
    "duration": 49,
    "start_time": "2022-04-16T18:53:52.639Z"
   },
   {
    "duration": 98,
    "start_time": "2022-04-16T18:53:52.691Z"
   },
   {
    "duration": 63,
    "start_time": "2022-04-16T18:53:52.796Z"
   },
   {
    "duration": 70,
    "start_time": "2022-04-16T18:53:52.862Z"
   },
   {
    "duration": 66,
    "start_time": "2022-04-16T18:53:52.934Z"
   },
   {
    "duration": 46,
    "start_time": "2022-04-16T18:53:53.002Z"
   },
   {
    "duration": 48,
    "start_time": "2022-04-16T18:53:53.050Z"
   },
   {
    "duration": 29,
    "start_time": "2022-04-16T18:53:53.100Z"
   },
   {
    "duration": 55,
    "start_time": "2022-04-16T18:53:53.132Z"
   },
   {
    "duration": 25,
    "start_time": "2022-04-16T18:53:53.189Z"
   },
   {
    "duration": 12,
    "start_time": "2022-04-16T18:53:53.216Z"
   },
   {
    "duration": 9,
    "start_time": "2022-04-16T18:53:53.230Z"
   },
   {
    "duration": 69,
    "start_time": "2022-04-16T18:53:53.240Z"
   },
   {
    "duration": 13,
    "start_time": "2022-04-16T18:53:53.312Z"
   },
   {
    "duration": 18,
    "start_time": "2022-04-16T18:53:53.327Z"
   },
   {
    "duration": 53,
    "start_time": "2022-04-16T18:53:53.347Z"
   },
   {
    "duration": 6,
    "start_time": "2022-04-16T18:53:53.402Z"
   },
   {
    "duration": 227,
    "start_time": "2022-04-16T18:53:53.410Z"
   },
   {
    "duration": 27,
    "start_time": "2022-04-16T18:53:53.639Z"
   },
   {
    "duration": 30,
    "start_time": "2022-04-16T18:53:53.668Z"
   },
   {
    "duration": 19,
    "start_time": "2022-04-16T18:53:53.700Z"
   },
   {
    "duration": 255,
    "start_time": "2022-04-16T18:53:53.721Z"
   },
   {
    "duration": 308,
    "start_time": "2022-04-16T18:53:53.982Z"
   },
   {
    "duration": 21,
    "start_time": "2022-04-16T18:53:54.292Z"
   },
   {
    "duration": 254,
    "start_time": "2022-04-16T18:53:54.316Z"
   },
   {
    "duration": 230,
    "start_time": "2022-04-16T18:53:54.573Z"
   },
   {
    "duration": 21,
    "start_time": "2022-04-16T18:53:54.806Z"
   },
   {
    "duration": 255,
    "start_time": "2022-04-16T18:53:54.829Z"
   },
   {
    "duration": 225,
    "start_time": "2022-04-16T18:53:55.087Z"
   },
   {
    "duration": 8,
    "start_time": "2022-04-16T18:53:55.314Z"
   },
   {
    "duration": 6,
    "start_time": "2022-04-16T18:53:55.324Z"
   },
   {
    "duration": 421,
    "start_time": "2022-04-16T18:53:55.332Z"
   },
   {
    "duration": 5,
    "start_time": "2022-04-16T18:53:55.755Z"
   },
   {
    "duration": 10,
    "start_time": "2022-04-16T18:53:58.776Z"
   },
   {
    "duration": 4,
    "start_time": "2022-04-16T18:54:41.303Z"
   },
   {
    "duration": 11,
    "start_time": "2022-04-16T18:54:43.095Z"
   },
   {
    "duration": 22,
    "start_time": "2022-04-16T18:55:05.422Z"
   },
   {
    "duration": 2115,
    "start_time": "2022-04-16T18:55:53.478Z"
   },
   {
    "duration": 2176,
    "start_time": "2022-04-16T18:55:55.761Z"
   },
   {
    "duration": 2387,
    "start_time": "2022-04-16T18:56:06.359Z"
   },
   {
    "duration": 6,
    "start_time": "2022-04-16T18:59:05.130Z"
   },
   {
    "duration": 5,
    "start_time": "2022-04-16T18:59:20.144Z"
   },
   {
    "duration": 10,
    "start_time": "2022-04-16T18:59:27.585Z"
   },
   {
    "duration": 13,
    "start_time": "2022-04-16T19:00:11.650Z"
   },
   {
    "duration": 34,
    "start_time": "2022-04-16T19:00:30.067Z"
   },
   {
    "duration": 55,
    "start_time": "2022-04-16T19:00:57.478Z"
   },
   {
    "duration": 4,
    "start_time": "2022-04-16T19:01:24.269Z"
   },
   {
    "duration": 7,
    "start_time": "2022-04-16T19:01:24.276Z"
   },
   {
    "duration": 5,
    "start_time": "2022-04-16T19:01:24.285Z"
   },
   {
    "duration": 37,
    "start_time": "2022-04-16T19:01:24.292Z"
   },
   {
    "duration": 20,
    "start_time": "2022-04-16T19:01:24.333Z"
   },
   {
    "duration": 251,
    "start_time": "2022-04-16T19:01:24.382Z"
   },
   {
    "duration": 31,
    "start_time": "2022-04-16T19:01:24.636Z"
   },
   {
    "duration": 138,
    "start_time": "2022-04-16T19:01:24.682Z"
   },
   {
    "duration": 195,
    "start_time": "2022-04-16T19:01:24.823Z"
   },
   {
    "duration": 34,
    "start_time": "2022-04-16T19:01:25.020Z"
   },
   {
    "duration": 39,
    "start_time": "2022-04-16T19:01:25.058Z"
   },
   {
    "duration": 11,
    "start_time": "2022-04-16T19:01:25.099Z"
   },
   {
    "duration": 5,
    "start_time": "2022-04-16T19:01:25.113Z"
   },
   {
    "duration": 16,
    "start_time": "2022-04-16T19:01:25.121Z"
   },
   {
    "duration": 68,
    "start_time": "2022-04-16T19:01:25.139Z"
   },
   {
    "duration": 24,
    "start_time": "2022-04-16T19:01:25.210Z"
   },
   {
    "duration": 57,
    "start_time": "2022-04-16T19:01:25.237Z"
   },
   {
    "duration": 4,
    "start_time": "2022-04-16T19:01:25.297Z"
   },
   {
    "duration": 128,
    "start_time": "2022-04-16T19:01:25.303Z"
   },
   {
    "duration": 244,
    "start_time": "2022-04-16T19:01:25.434Z"
   },
   {
    "duration": 117,
    "start_time": "2022-04-16T19:01:25.682Z"
   },
   {
    "duration": 37,
    "start_time": "2022-04-16T19:01:25.801Z"
   },
   {
    "duration": 101,
    "start_time": "2022-04-16T19:01:25.840Z"
   },
   {
    "duration": 69,
    "start_time": "2022-04-16T19:01:25.943Z"
   },
   {
    "duration": 69,
    "start_time": "2022-04-16T19:01:26.014Z"
   },
   {
    "duration": 45,
    "start_time": "2022-04-16T19:01:26.085Z"
   },
   {
    "duration": 66,
    "start_time": "2022-04-16T19:01:26.132Z"
   },
   {
    "duration": 33,
    "start_time": "2022-04-16T19:01:26.200Z"
   },
   {
    "duration": 52,
    "start_time": "2022-04-16T19:01:26.240Z"
   },
   {
    "duration": 32,
    "start_time": "2022-04-16T19:01:26.294Z"
   },
   {
    "duration": 26,
    "start_time": "2022-04-16T19:01:26.328Z"
   },
   {
    "duration": 35,
    "start_time": "2022-04-16T19:01:26.356Z"
   },
   {
    "duration": 7,
    "start_time": "2022-04-16T19:01:26.394Z"
   },
   {
    "duration": 36,
    "start_time": "2022-04-16T19:01:26.404Z"
   },
   {
    "duration": 49,
    "start_time": "2022-04-16T19:01:26.443Z"
   },
   {
    "duration": 19,
    "start_time": "2022-04-16T19:01:26.495Z"
   },
   {
    "duration": 27,
    "start_time": "2022-04-16T19:01:26.517Z"
   },
   {
    "duration": 39,
    "start_time": "2022-04-16T19:01:26.547Z"
   },
   {
    "duration": 215,
    "start_time": "2022-04-16T19:01:26.589Z"
   },
   {
    "duration": 29,
    "start_time": "2022-04-16T19:01:26.807Z"
   },
   {
    "duration": 51,
    "start_time": "2022-04-16T19:01:26.838Z"
   },
   {
    "duration": 21,
    "start_time": "2022-04-16T19:01:26.892Z"
   },
   {
    "duration": 250,
    "start_time": "2022-04-16T19:01:26.916Z"
   },
   {
    "duration": 232,
    "start_time": "2022-04-16T19:01:27.168Z"
   },
   {
    "duration": 21,
    "start_time": "2022-04-16T19:01:27.402Z"
   },
   {
    "duration": 262,
    "start_time": "2022-04-16T19:01:27.425Z"
   },
   {
    "duration": 330,
    "start_time": "2022-04-16T19:01:27.690Z"
   },
   {
    "duration": 20,
    "start_time": "2022-04-16T19:01:28.022Z"
   },
   {
    "duration": 338,
    "start_time": "2022-04-16T19:01:28.044Z"
   },
   {
    "duration": 224,
    "start_time": "2022-04-16T19:01:28.384Z"
   },
   {
    "duration": 8,
    "start_time": "2022-04-16T19:01:28.610Z"
   },
   {
    "duration": 8,
    "start_time": "2022-04-16T19:01:28.620Z"
   },
   {
    "duration": 411,
    "start_time": "2022-04-16T19:01:28.631Z"
   },
   {
    "duration": 5,
    "start_time": "2022-04-16T19:01:29.045Z"
   },
   {
    "duration": 39,
    "start_time": "2022-04-16T19:01:29.053Z"
   },
   {
    "duration": 56,
    "start_time": "2022-04-16T19:01:34.397Z"
   },
   {
    "duration": 52,
    "start_time": "2022-04-16T19:01:54.087Z"
   },
   {
    "duration": 3,
    "start_time": "2022-04-16T19:03:07.331Z"
   },
   {
    "duration": 56,
    "start_time": "2022-04-16T19:03:10.374Z"
   },
   {
    "duration": 7,
    "start_time": "2022-04-16T19:05:00.773Z"
   },
   {
    "duration": 21,
    "start_time": "2022-04-16T19:05:28.862Z"
   },
   {
    "duration": 54,
    "start_time": "2022-04-16T19:05:32.254Z"
   },
   {
    "duration": 54,
    "start_time": "2022-04-16T19:05:40.366Z"
   },
   {
    "duration": 54,
    "start_time": "2022-04-16T19:06:33.030Z"
   },
   {
    "duration": 73,
    "start_time": "2022-04-16T19:06:53.945Z"
   },
   {
    "duration": 7,
    "start_time": "2022-04-16T19:08:54.970Z"
   },
   {
    "duration": 13,
    "start_time": "2022-04-16T19:10:24.079Z"
   },
   {
    "duration": 15,
    "start_time": "2022-04-16T19:10:26.559Z"
   },
   {
    "duration": 5,
    "start_time": "2022-04-16T19:12:20.338Z"
   },
   {
    "duration": 2114,
    "start_time": "2022-04-16T19:13:06.402Z"
   },
   {
    "duration": 14,
    "start_time": "2022-04-16T19:13:34.162Z"
   },
   {
    "duration": 14,
    "start_time": "2022-04-16T19:13:38.393Z"
   },
   {
    "duration": 11,
    "start_time": "2022-04-16T19:14:37.369Z"
   },
   {
    "duration": 11,
    "start_time": "2022-04-16T19:14:41.017Z"
   },
   {
    "duration": 6,
    "start_time": "2022-04-16T19:15:15.097Z"
   },
   {
    "duration": 11,
    "start_time": "2022-04-16T19:15:27.653Z"
   },
   {
    "duration": 11,
    "start_time": "2022-04-16T19:15:51.467Z"
   },
   {
    "duration": 11,
    "start_time": "2022-04-16T19:16:12.035Z"
   },
   {
    "duration": 5,
    "start_time": "2022-04-16T19:16:26.963Z"
   },
   {
    "duration": 13,
    "start_time": "2022-04-16T19:16:26.971Z"
   },
   {
    "duration": 13,
    "start_time": "2022-04-16T19:16:26.987Z"
   },
   {
    "duration": 44,
    "start_time": "2022-04-16T19:16:27.003Z"
   },
   {
    "duration": 42,
    "start_time": "2022-04-16T19:16:27.052Z"
   },
   {
    "duration": 266,
    "start_time": "2022-04-16T19:16:27.096Z"
   },
   {
    "duration": 41,
    "start_time": "2022-04-16T19:16:27.364Z"
   },
   {
    "duration": 153,
    "start_time": "2022-04-16T19:16:27.407Z"
   },
   {
    "duration": 207,
    "start_time": "2022-04-16T19:16:27.563Z"
   },
   {
    "duration": 47,
    "start_time": "2022-04-16T19:16:27.774Z"
   },
   {
    "duration": 27,
    "start_time": "2022-04-16T19:16:27.825Z"
   },
   {
    "duration": 33,
    "start_time": "2022-04-16T19:16:27.854Z"
   },
   {
    "duration": 17,
    "start_time": "2022-04-16T19:16:27.889Z"
   },
   {
    "duration": 11,
    "start_time": "2022-04-16T19:16:27.908Z"
   },
   {
    "duration": 40,
    "start_time": "2022-04-16T19:16:27.921Z"
   },
   {
    "duration": 36,
    "start_time": "2022-04-16T19:16:27.964Z"
   },
   {
    "duration": 31,
    "start_time": "2022-04-16T19:16:28.002Z"
   },
   {
    "duration": 4,
    "start_time": "2022-04-16T19:16:28.036Z"
   },
   {
    "duration": 150,
    "start_time": "2022-04-16T19:16:28.042Z"
   },
   {
    "duration": 264,
    "start_time": "2022-04-16T19:16:28.195Z"
   },
   {
    "duration": 115,
    "start_time": "2022-04-16T19:16:28.461Z"
   },
   {
    "duration": 39,
    "start_time": "2022-04-16T19:16:28.578Z"
   },
   {
    "duration": 112,
    "start_time": "2022-04-16T19:16:28.620Z"
   },
   {
    "duration": 75,
    "start_time": "2022-04-16T19:16:28.734Z"
   },
   {
    "duration": 83,
    "start_time": "2022-04-16T19:16:28.811Z"
   },
   {
    "duration": 66,
    "start_time": "2022-04-16T19:16:28.898Z"
   },
   {
    "duration": 66,
    "start_time": "2022-04-16T19:16:28.967Z"
   },
   {
    "duration": 51,
    "start_time": "2022-04-16T19:16:29.035Z"
   },
   {
    "duration": 30,
    "start_time": "2022-04-16T19:16:29.093Z"
   },
   {
    "duration": 64,
    "start_time": "2022-04-16T19:16:29.126Z"
   },
   {
    "duration": 26,
    "start_time": "2022-04-16T19:16:29.193Z"
   },
   {
    "duration": 13,
    "start_time": "2022-04-16T19:16:29.222Z"
   },
   {
    "duration": 7,
    "start_time": "2022-04-16T19:16:29.238Z"
   },
   {
    "duration": 68,
    "start_time": "2022-04-16T19:16:29.248Z"
   },
   {
    "duration": 19,
    "start_time": "2022-04-16T19:16:29.318Z"
   },
   {
    "duration": 50,
    "start_time": "2022-04-16T19:16:29.340Z"
   },
   {
    "duration": 26,
    "start_time": "2022-04-16T19:16:29.396Z"
   },
   {
    "duration": 7,
    "start_time": "2022-04-16T19:16:29.425Z"
   },
   {
    "duration": 254,
    "start_time": "2022-04-16T19:16:29.435Z"
   },
   {
    "duration": 30,
    "start_time": "2022-04-16T19:16:29.692Z"
   },
   {
    "duration": 22,
    "start_time": "2022-04-16T19:16:29.725Z"
   },
   {
    "duration": 52,
    "start_time": "2022-04-16T19:16:29.750Z"
   },
   {
    "duration": 301,
    "start_time": "2022-04-16T19:16:29.805Z"
   },
   {
    "duration": 312,
    "start_time": "2022-04-16T19:16:30.108Z"
   },
   {
    "duration": 19,
    "start_time": "2022-04-16T19:16:30.423Z"
   },
   {
    "duration": 296,
    "start_time": "2022-04-16T19:16:30.445Z"
   },
   {
    "duration": 244,
    "start_time": "2022-04-16T19:16:30.744Z"
   },
   {
    "duration": 23,
    "start_time": "2022-04-16T19:16:30.991Z"
   },
   {
    "duration": 275,
    "start_time": "2022-04-16T19:16:31.016Z"
   },
   {
    "duration": 243,
    "start_time": "2022-04-16T19:16:31.293Z"
   },
   {
    "duration": 10,
    "start_time": "2022-04-16T19:16:31.539Z"
   },
   {
    "duration": 12,
    "start_time": "2022-04-16T19:16:31.551Z"
   },
   {
    "duration": 439,
    "start_time": "2022-04-16T19:16:31.566Z"
   },
   {
    "duration": 21,
    "start_time": "2022-04-16T19:16:32.008Z"
   },
   {
    "duration": 7,
    "start_time": "2022-04-16T19:16:32.031Z"
   },
   {
    "duration": 8,
    "start_time": "2022-04-16T19:16:32.040Z"
   },
   {
    "duration": 10,
    "start_time": "2022-04-16T19:16:35.185Z"
   },
   {
    "duration": 6,
    "start_time": "2022-04-16T19:16:56.106Z"
   },
   {
    "duration": 15,
    "start_time": "2022-04-16T19:19:27.586Z"
   },
   {
    "duration": 141,
    "start_time": "2022-04-16T19:19:56.147Z"
   },
   {
    "duration": 57,
    "start_time": "2022-04-16T19:20:49.780Z"
   },
   {
    "duration": 93,
    "start_time": "2022-04-16T19:20:59.647Z"
   },
   {
    "duration": 15,
    "start_time": "2022-04-16T19:22:24.949Z"
   },
   {
    "duration": 391,
    "start_time": "2022-04-16T19:22:44.773Z"
   },
   {
    "duration": 23,
    "start_time": "2022-04-16T19:24:18.973Z"
   },
   {
    "duration": 16,
    "start_time": "2022-04-16T19:24:37.190Z"
   },
   {
    "duration": 5,
    "start_time": "2022-04-16T19:26:45.931Z"
   },
   {
    "duration": 8,
    "start_time": "2022-04-16T19:26:45.939Z"
   },
   {
    "duration": 7,
    "start_time": "2022-04-16T19:26:45.949Z"
   },
   {
    "duration": 52,
    "start_time": "2022-04-16T19:26:45.960Z"
   },
   {
    "duration": 19,
    "start_time": "2022-04-16T19:26:46.014Z"
   },
   {
    "duration": 272,
    "start_time": "2022-04-16T19:26:46.035Z"
   },
   {
    "duration": 32,
    "start_time": "2022-04-16T19:26:46.310Z"
   },
   {
    "duration": 153,
    "start_time": "2022-04-16T19:26:46.344Z"
   },
   {
    "duration": 195,
    "start_time": "2022-04-16T19:26:46.500Z"
   },
   {
    "duration": 35,
    "start_time": "2022-04-16T19:26:46.697Z"
   },
   {
    "duration": 25,
    "start_time": "2022-04-16T19:26:46.734Z"
   },
   {
    "duration": 11,
    "start_time": "2022-04-16T19:26:46.782Z"
   },
   {
    "duration": 4,
    "start_time": "2022-04-16T19:26:46.795Z"
   },
   {
    "duration": 12,
    "start_time": "2022-04-16T19:26:46.801Z"
   },
   {
    "duration": 68,
    "start_time": "2022-04-16T19:26:46.815Z"
   },
   {
    "duration": 24,
    "start_time": "2022-04-16T19:26:46.885Z"
   },
   {
    "duration": 29,
    "start_time": "2022-04-16T19:26:46.911Z"
   },
   {
    "duration": 5,
    "start_time": "2022-04-16T19:26:46.942Z"
   },
   {
    "duration": 147,
    "start_time": "2022-04-16T19:26:46.949Z"
   },
   {
    "duration": 252,
    "start_time": "2022-04-16T19:26:47.098Z"
   },
   {
    "duration": 121,
    "start_time": "2022-04-16T19:26:47.352Z"
   },
   {
    "duration": 40,
    "start_time": "2022-04-16T19:26:47.476Z"
   },
   {
    "duration": 96,
    "start_time": "2022-04-16T19:26:47.521Z"
   },
   {
    "duration": 73,
    "start_time": "2022-04-16T19:26:47.619Z"
   },
   {
    "duration": 54,
    "start_time": "2022-04-16T19:26:47.695Z"
   },
   {
    "duration": 67,
    "start_time": "2022-04-16T19:26:47.751Z"
   },
   {
    "duration": 43,
    "start_time": "2022-04-16T19:26:47.820Z"
   },
   {
    "duration": 28,
    "start_time": "2022-04-16T19:26:47.882Z"
   },
   {
    "duration": 27,
    "start_time": "2022-04-16T19:26:47.912Z"
   },
   {
    "duration": 55,
    "start_time": "2022-04-16T19:26:47.941Z"
   },
   {
    "duration": 24,
    "start_time": "2022-04-16T19:26:47.998Z"
   },
   {
    "duration": 10,
    "start_time": "2022-04-16T19:26:48.024Z"
   },
   {
    "duration": 6,
    "start_time": "2022-04-16T19:26:48.037Z"
   },
   {
    "duration": 34,
    "start_time": "2022-04-16T19:26:48.081Z"
   },
   {
    "duration": 13,
    "start_time": "2022-04-16T19:26:48.117Z"
   },
   {
    "duration": 19,
    "start_time": "2022-04-16T19:26:48.132Z"
   },
   {
    "duration": 51,
    "start_time": "2022-04-16T19:26:48.153Z"
   },
   {
    "duration": 6,
    "start_time": "2022-04-16T19:26:48.207Z"
   },
   {
    "duration": 236,
    "start_time": "2022-04-16T19:26:48.215Z"
   },
   {
    "duration": 40,
    "start_time": "2022-04-16T19:26:48.454Z"
   },
   {
    "duration": 21,
    "start_time": "2022-04-16T19:26:48.497Z"
   },
   {
    "duration": 21,
    "start_time": "2022-04-16T19:26:48.520Z"
   },
   {
    "duration": 253,
    "start_time": "2022-04-16T19:26:48.543Z"
   },
   {
    "duration": 239,
    "start_time": "2022-04-16T19:26:48.798Z"
   },
   {
    "duration": 19,
    "start_time": "2022-04-16T19:26:49.039Z"
   },
   {
    "duration": 255,
    "start_time": "2022-04-16T19:26:49.060Z"
   },
   {
    "duration": 220,
    "start_time": "2022-04-16T19:26:49.317Z"
   },
   {
    "duration": 20,
    "start_time": "2022-04-16T19:26:49.539Z"
   },
   {
    "duration": 259,
    "start_time": "2022-04-16T19:26:49.561Z"
   },
   {
    "duration": 223,
    "start_time": "2022-04-16T19:26:49.822Z"
   },
   {
    "duration": 7,
    "start_time": "2022-04-16T19:26:50.048Z"
   },
   {
    "duration": 24,
    "start_time": "2022-04-16T19:26:50.058Z"
   },
   {
    "duration": 397,
    "start_time": "2022-04-16T19:26:50.084Z"
   },
   {
    "duration": 18,
    "start_time": "2022-04-16T19:26:50.484Z"
   },
   {
    "duration": 13,
    "start_time": "2022-04-16T19:26:50.504Z"
   },
   {
    "duration": 19,
    "start_time": "2022-04-16T19:27:05.170Z"
   },
   {
    "duration": 13,
    "start_time": "2022-04-16T19:27:28.764Z"
   },
   {
    "duration": 397,
    "start_time": "2022-04-16T19:27:31.527Z"
   },
   {
    "duration": 18,
    "start_time": "2022-04-16T19:30:08.241Z"
   },
   {
    "duration": 17,
    "start_time": "2022-04-16T19:30:16.338Z"
   },
   {
    "duration": 4,
    "start_time": "2022-04-16T19:30:28.445Z"
   },
   {
    "duration": 6,
    "start_time": "2022-04-16T19:30:28.452Z"
   },
   {
    "duration": 6,
    "start_time": "2022-04-16T19:30:28.460Z"
   },
   {
    "duration": 53,
    "start_time": "2022-04-16T19:30:28.468Z"
   },
   {
    "duration": 27,
    "start_time": "2022-04-16T19:30:28.525Z"
   },
   {
    "duration": 382,
    "start_time": "2022-04-16T19:30:28.555Z"
   },
   {
    "duration": 45,
    "start_time": "2022-04-16T19:30:28.939Z"
   },
   {
    "duration": 144,
    "start_time": "2022-04-16T19:30:28.986Z"
   },
   {
    "duration": 230,
    "start_time": "2022-04-16T19:30:29.132Z"
   },
   {
    "duration": 43,
    "start_time": "2022-04-16T19:30:29.364Z"
   },
   {
    "duration": 25,
    "start_time": "2022-04-16T19:30:29.410Z"
   },
   {
    "duration": 11,
    "start_time": "2022-04-16T19:30:29.437Z"
   },
   {
    "duration": 34,
    "start_time": "2022-04-16T19:30:29.451Z"
   },
   {
    "duration": 25,
    "start_time": "2022-04-16T19:30:29.489Z"
   },
   {
    "duration": 42,
    "start_time": "2022-04-16T19:30:29.517Z"
   },
   {
    "duration": 36,
    "start_time": "2022-04-16T19:30:29.561Z"
   },
   {
    "duration": 30,
    "start_time": "2022-04-16T19:30:29.600Z"
   },
   {
    "duration": 6,
    "start_time": "2022-04-16T19:30:29.632Z"
   },
   {
    "duration": 142,
    "start_time": "2022-04-16T19:30:29.640Z"
   },
   {
    "duration": 300,
    "start_time": "2022-04-16T19:30:29.784Z"
   },
   {
    "duration": 133,
    "start_time": "2022-04-16T19:30:30.086Z"
   },
   {
    "duration": 38,
    "start_time": "2022-04-16T19:30:30.221Z"
   },
   {
    "duration": 100,
    "start_time": "2022-04-16T19:30:30.261Z"
   },
   {
    "duration": 87,
    "start_time": "2022-04-16T19:30:30.363Z"
   },
   {
    "duration": 78,
    "start_time": "2022-04-16T19:30:30.452Z"
   },
   {
    "duration": 58,
    "start_time": "2022-04-16T19:30:30.532Z"
   },
   {
    "duration": 43,
    "start_time": "2022-04-16T19:30:30.592Z"
   },
   {
    "duration": 53,
    "start_time": "2022-04-16T19:30:30.637Z"
   },
   {
    "duration": 30,
    "start_time": "2022-04-16T19:30:30.696Z"
   },
   {
    "duration": 75,
    "start_time": "2022-04-16T19:30:30.729Z"
   },
   {
    "duration": 37,
    "start_time": "2022-04-16T19:30:30.807Z"
   },
   {
    "duration": 36,
    "start_time": "2022-04-16T19:30:30.847Z"
   },
   {
    "duration": 29,
    "start_time": "2022-04-16T19:30:30.886Z"
   },
   {
    "duration": 57,
    "start_time": "2022-04-16T19:30:30.918Z"
   },
   {
    "duration": 18,
    "start_time": "2022-04-16T19:30:30.978Z"
   },
   {
    "duration": 25,
    "start_time": "2022-04-16T19:30:30.998Z"
   },
   {
    "duration": 26,
    "start_time": "2022-04-16T19:30:31.026Z"
   },
   {
    "duration": 7,
    "start_time": "2022-04-16T19:30:31.083Z"
   },
   {
    "duration": 229,
    "start_time": "2022-04-16T19:30:31.092Z"
   },
   {
    "duration": 28,
    "start_time": "2022-04-16T19:30:31.323Z"
   },
   {
    "duration": 40,
    "start_time": "2022-04-16T19:30:31.353Z"
   },
   {
    "duration": 20,
    "start_time": "2022-04-16T19:30:31.396Z"
   },
   {
    "duration": 382,
    "start_time": "2022-04-16T19:30:31.418Z"
   },
   {
    "duration": 250,
    "start_time": "2022-04-16T19:30:31.802Z"
   },
   {
    "duration": 34,
    "start_time": "2022-04-16T19:30:32.054Z"
   },
   {
    "duration": 348,
    "start_time": "2022-04-16T19:30:32.091Z"
   },
   {
    "duration": 235,
    "start_time": "2022-04-16T19:30:32.441Z"
   },
   {
    "duration": 22,
    "start_time": "2022-04-16T19:30:32.680Z"
   },
   {
    "duration": 258,
    "start_time": "2022-04-16T19:30:32.704Z"
   },
   {
    "duration": 228,
    "start_time": "2022-04-16T19:30:32.964Z"
   },
   {
    "duration": 8,
    "start_time": "2022-04-16T19:30:33.195Z"
   },
   {
    "duration": 10,
    "start_time": "2022-04-16T19:30:33.205Z"
   },
   {
    "duration": 516,
    "start_time": "2022-04-16T19:30:33.217Z"
   },
   {
    "duration": 19,
    "start_time": "2022-04-16T19:30:33.736Z"
   },
   {
    "duration": 33,
    "start_time": "2022-04-16T19:30:33.757Z"
   },
   {
    "duration": 17,
    "start_time": "2022-04-16T19:30:33.792Z"
   },
   {
    "duration": 19,
    "start_time": "2022-04-16T19:30:33.812Z"
   },
   {
    "duration": 13,
    "start_time": "2022-04-16T19:30:42.075Z"
   },
   {
    "duration": 17,
    "start_time": "2022-04-16T19:30:44.713Z"
   },
   {
    "duration": 50,
    "start_time": "2022-04-17T08:05:50.221Z"
   },
   {
    "duration": 772,
    "start_time": "2022-04-17T08:06:00.096Z"
   },
   {
    "duration": 3,
    "start_time": "2022-04-17T08:06:00.871Z"
   },
   {
    "duration": 13,
    "start_time": "2022-04-17T08:06:00.876Z"
   },
   {
    "duration": 41,
    "start_time": "2022-04-17T08:06:00.891Z"
   },
   {
    "duration": 16,
    "start_time": "2022-04-17T08:06:00.936Z"
   },
   {
    "duration": 185,
    "start_time": "2022-04-17T08:06:00.954Z"
   },
   {
    "duration": 32,
    "start_time": "2022-04-17T08:06:01.141Z"
   },
   {
    "duration": 111,
    "start_time": "2022-04-17T08:06:01.175Z"
   },
   {
    "duration": 149,
    "start_time": "2022-04-17T08:06:01.288Z"
   },
   {
    "duration": 40,
    "start_time": "2022-04-17T08:06:01.439Z"
   },
   {
    "duration": 17,
    "start_time": "2022-04-17T08:06:01.481Z"
   },
   {
    "duration": 13,
    "start_time": "2022-04-17T08:06:01.499Z"
   },
   {
    "duration": 12,
    "start_time": "2022-04-17T08:06:01.514Z"
   },
   {
    "duration": 11,
    "start_time": "2022-04-17T08:06:01.530Z"
   },
   {
    "duration": 40,
    "start_time": "2022-04-17T08:06:01.542Z"
   },
   {
    "duration": 18,
    "start_time": "2022-04-17T08:06:01.583Z"
   },
   {
    "duration": 23,
    "start_time": "2022-04-17T08:06:01.603Z"
   },
   {
    "duration": 26,
    "start_time": "2022-04-17T08:06:01.628Z"
   },
   {
    "duration": 69,
    "start_time": "2022-04-17T08:06:01.656Z"
   },
   {
    "duration": 199,
    "start_time": "2022-04-17T08:06:01.727Z"
   },
   {
    "duration": 80,
    "start_time": "2022-04-17T08:06:01.928Z"
   },
   {
    "duration": 27,
    "start_time": "2022-04-17T08:06:02.010Z"
   },
   {
    "duration": 74,
    "start_time": "2022-04-17T08:06:02.039Z"
   },
   {
    "duration": 58,
    "start_time": "2022-04-17T08:06:02.114Z"
   },
   {
    "duration": 41,
    "start_time": "2022-04-17T08:06:02.173Z"
   },
   {
    "duration": 52,
    "start_time": "2022-04-17T08:06:02.216Z"
   },
   {
    "duration": 29,
    "start_time": "2022-04-17T08:06:02.270Z"
   },
   {
    "duration": 18,
    "start_time": "2022-04-17T08:06:02.301Z"
   },
   {
    "duration": 47,
    "start_time": "2022-04-17T08:06:02.320Z"
   },
   {
    "duration": 18,
    "start_time": "2022-04-17T08:06:02.369Z"
   },
   {
    "duration": 14,
    "start_time": "2022-04-17T08:06:02.389Z"
   },
   {
    "duration": 7,
    "start_time": "2022-04-17T08:06:02.404Z"
   },
   {
    "duration": 7,
    "start_time": "2022-04-17T08:06:02.412Z"
   },
   {
    "duration": 51,
    "start_time": "2022-04-17T08:06:02.421Z"
   },
   {
    "duration": 9,
    "start_time": "2022-04-17T08:06:02.473Z"
   },
   {
    "duration": 11,
    "start_time": "2022-04-17T08:06:02.484Z"
   },
   {
    "duration": 14,
    "start_time": "2022-04-17T08:06:02.496Z"
   },
   {
    "duration": 4,
    "start_time": "2022-04-17T08:06:02.511Z"
   },
   {
    "duration": 146,
    "start_time": "2022-04-17T08:06:02.517Z"
   },
   {
    "duration": 15,
    "start_time": "2022-04-17T08:06:02.665Z"
   },
   {
    "duration": 14,
    "start_time": "2022-04-17T08:06:02.684Z"
   },
   {
    "duration": 13,
    "start_time": "2022-04-17T08:06:02.699Z"
   },
   {
    "duration": 162,
    "start_time": "2022-04-17T08:06:02.714Z"
   },
   {
    "duration": 136,
    "start_time": "2022-04-17T08:06:02.877Z"
   },
   {
    "duration": 15,
    "start_time": "2022-04-17T08:06:03.014Z"
   },
   {
    "duration": 149,
    "start_time": "2022-04-17T08:06:03.031Z"
   },
   {
    "duration": 187,
    "start_time": "2022-04-17T08:06:03.182Z"
   },
   {
    "duration": 15,
    "start_time": "2022-04-17T08:06:03.371Z"
   },
   {
    "duration": 217,
    "start_time": "2022-04-17T08:06:03.388Z"
   },
   {
    "duration": 201,
    "start_time": "2022-04-17T08:06:03.607Z"
   },
   {
    "duration": 7,
    "start_time": "2022-04-17T08:06:03.810Z"
   },
   {
    "duration": 471,
    "start_time": "2022-04-17T08:06:03.819Z"
   },
   {
    "duration": 211,
    "start_time": "2022-04-17T08:06:09.724Z"
   },
   {
    "duration": 169,
    "start_time": "2022-04-17T08:06:44.837Z"
   },
   {
    "duration": 6,
    "start_time": "2022-04-17T08:15:24.177Z"
   },
   {
    "duration": 7,
    "start_time": "2022-04-17T08:16:38.378Z"
   },
   {
    "duration": 81,
    "start_time": "2022-04-17T08:16:50.339Z"
   },
   {
    "duration": 6,
    "start_time": "2022-04-17T08:17:50.780Z"
   },
   {
    "duration": 12,
    "start_time": "2022-04-17T08:18:05.015Z"
   },
   {
    "duration": 3,
    "start_time": "2022-04-17T09:35:31.025Z"
   },
   {
    "duration": 59,
    "start_time": "2022-04-17T09:36:09.523Z"
   },
   {
    "duration": 3,
    "start_time": "2022-04-17T09:38:44.782Z"
   },
   {
    "duration": 8,
    "start_time": "2022-04-17T09:38:50.250Z"
   },
   {
    "duration": 3,
    "start_time": "2022-04-17T09:39:32.914Z"
   },
   {
    "duration": 4,
    "start_time": "2022-04-17T09:39:47.963Z"
   },
   {
    "duration": 6,
    "start_time": "2022-04-17T09:39:47.968Z"
   },
   {
    "duration": 9,
    "start_time": "2022-04-17T09:39:47.975Z"
   },
   {
    "duration": 44,
    "start_time": "2022-04-17T09:39:47.985Z"
   },
   {
    "duration": 14,
    "start_time": "2022-04-17T09:39:48.031Z"
   },
   {
    "duration": 175,
    "start_time": "2022-04-17T09:39:48.047Z"
   },
   {
    "duration": 31,
    "start_time": "2022-04-17T09:39:48.224Z"
   },
   {
    "duration": 94,
    "start_time": "2022-04-17T09:39:48.257Z"
   },
   {
    "duration": 139,
    "start_time": "2022-04-17T09:39:48.355Z"
   },
   {
    "duration": 25,
    "start_time": "2022-04-17T09:39:48.496Z"
   },
   {
    "duration": 37,
    "start_time": "2022-04-17T09:39:48.523Z"
   },
   {
    "duration": 7,
    "start_time": "2022-04-17T09:39:48.562Z"
   },
   {
    "duration": 6,
    "start_time": "2022-04-17T09:39:48.571Z"
   },
   {
    "duration": 7,
    "start_time": "2022-04-17T09:39:48.580Z"
   },
   {
    "duration": 28,
    "start_time": "2022-04-17T09:39:48.588Z"
   },
   {
    "duration": 37,
    "start_time": "2022-04-17T09:39:48.618Z"
   },
   {
    "duration": 21,
    "start_time": "2022-04-17T09:39:48.656Z"
   },
   {
    "duration": 4,
    "start_time": "2022-04-17T09:39:48.679Z"
   },
   {
    "duration": 91,
    "start_time": "2022-04-17T09:39:48.684Z"
   },
   {
    "duration": 167,
    "start_time": "2022-04-17T09:39:48.776Z"
   },
   {
    "duration": 70,
    "start_time": "2022-04-17T09:39:48.945Z"
   },
   {
    "duration": 25,
    "start_time": "2022-04-17T09:39:49.016Z"
   },
   {
    "duration": 51,
    "start_time": "2022-04-17T09:39:49.054Z"
   },
   {
    "duration": 54,
    "start_time": "2022-04-17T09:39:49.107Z"
   },
   {
    "duration": 39,
    "start_time": "2022-04-17T09:39:49.163Z"
   },
   {
    "duration": 28,
    "start_time": "2022-04-17T09:39:49.204Z"
   },
   {
    "duration": 42,
    "start_time": "2022-04-17T09:39:49.234Z"
   },
   {
    "duration": 17,
    "start_time": "2022-04-17T09:39:49.278Z"
   },
   {
    "duration": 16,
    "start_time": "2022-04-17T09:39:49.296Z"
   },
   {
    "duration": 17,
    "start_time": "2022-04-17T09:39:49.313Z"
   },
   {
    "duration": 15,
    "start_time": "2022-04-17T09:39:49.355Z"
   },
   {
    "duration": 9,
    "start_time": "2022-04-17T09:39:49.372Z"
   },
   {
    "duration": 5,
    "start_time": "2022-04-17T09:39:49.383Z"
   },
   {
    "duration": 21,
    "start_time": "2022-04-17T09:39:49.389Z"
   },
   {
    "duration": 9,
    "start_time": "2022-04-17T09:39:49.412Z"
   },
   {
    "duration": 47,
    "start_time": "2022-04-17T09:39:49.422Z"
   },
   {
    "duration": 17,
    "start_time": "2022-04-17T09:39:49.470Z"
   },
   {
    "duration": 4,
    "start_time": "2022-04-17T09:39:49.488Z"
   },
   {
    "duration": 126,
    "start_time": "2022-04-17T09:39:49.494Z"
   },
   {
    "duration": 15,
    "start_time": "2022-04-17T09:39:49.622Z"
   },
   {
    "duration": 24,
    "start_time": "2022-04-17T09:39:49.640Z"
   },
   {
    "duration": 11,
    "start_time": "2022-04-17T09:39:49.666Z"
   },
   {
    "duration": 135,
    "start_time": "2022-04-17T09:39:49.678Z"
   },
   {
    "duration": 137,
    "start_time": "2022-04-17T09:39:49.815Z"
   },
   {
    "duration": 12,
    "start_time": "2022-04-17T09:39:49.954Z"
   },
   {
    "duration": 142,
    "start_time": "2022-04-17T09:39:49.968Z"
   },
   {
    "duration": 116,
    "start_time": "2022-04-17T09:39:50.112Z"
   },
   {
    "duration": 12,
    "start_time": "2022-04-17T09:39:50.229Z"
   },
   {
    "duration": 138,
    "start_time": "2022-04-17T09:39:50.243Z"
   },
   {
    "duration": 120,
    "start_time": "2022-04-17T09:39:50.383Z"
   },
   {
    "duration": 6,
    "start_time": "2022-04-17T09:39:50.505Z"
   },
   {
    "duration": 10,
    "start_time": "2022-04-17T09:39:50.512Z"
   },
   {
    "duration": 8,
    "start_time": "2022-04-17T09:39:50.524Z"
   },
   {
    "duration": 20,
    "start_time": "2022-04-17T09:39:50.534Z"
   },
   {
    "duration": 3,
    "start_time": "2022-04-17T09:39:50.556Z"
   },
   {
    "duration": 3,
    "start_time": "2022-04-17T09:40:07.810Z"
   },
   {
    "duration": 4,
    "start_time": "2022-04-17T09:40:24.483Z"
   },
   {
    "duration": 3,
    "start_time": "2022-04-17T09:53:07.640Z"
   },
   {
    "duration": 124,
    "start_time": "2022-04-17T09:55:24.892Z"
   },
   {
    "duration": 116,
    "start_time": "2022-04-17T09:56:02.674Z"
   },
   {
    "duration": 9,
    "start_time": "2022-04-17T10:09:18.415Z"
   },
   {
    "duration": 11,
    "start_time": "2022-04-17T10:09:53.722Z"
   },
   {
    "duration": 17,
    "start_time": "2022-04-17T10:10:10.129Z"
   },
   {
    "duration": 18,
    "start_time": "2022-04-17T10:10:41.449Z"
   },
   {
    "duration": 118,
    "start_time": "2022-04-17T10:11:28.452Z"
   },
   {
    "duration": 19,
    "start_time": "2022-04-17T10:12:02.759Z"
   },
   {
    "duration": 9,
    "start_time": "2022-04-17T10:13:12.913Z"
   },
   {
    "duration": 12,
    "start_time": "2022-04-17T10:13:23.852Z"
   },
   {
    "duration": 12,
    "start_time": "2022-04-17T10:14:02.755Z"
   },
   {
    "duration": 9,
    "start_time": "2022-04-17T10:18:59.390Z"
   },
   {
    "duration": 12,
    "start_time": "2022-04-17T10:19:15.754Z"
   },
   {
    "duration": 3,
    "start_time": "2022-04-17T10:30:27.147Z"
   },
   {
    "duration": 116,
    "start_time": "2022-04-17T10:31:13.987Z"
   },
   {
    "duration": 8,
    "start_time": "2022-04-17T10:33:52.000Z"
   },
   {
    "duration": 3,
    "start_time": "2022-04-17T10:34:01.003Z"
   },
   {
    "duration": 4,
    "start_time": "2022-04-17T10:35:28.117Z"
   },
   {
    "duration": 8,
    "start_time": "2022-04-17T10:36:34.658Z"
   },
   {
    "duration": 8,
    "start_time": "2022-04-17T10:36:50.107Z"
   },
   {
    "duration": 11,
    "start_time": "2022-04-17T10:57:01.004Z"
   },
   {
    "duration": 14,
    "start_time": "2022-04-17T10:57:08.324Z"
   },
   {
    "duration": 4,
    "start_time": "2022-04-17T10:59:14.542Z"
   },
   {
    "duration": 21,
    "start_time": "2022-04-17T10:59:21.929Z"
   },
   {
    "duration": 14,
    "start_time": "2022-04-17T11:00:09.681Z"
   },
   {
    "duration": 12,
    "start_time": "2022-04-17T11:00:29.060Z"
   },
   {
    "duration": 17,
    "start_time": "2022-04-17T11:01:07.370Z"
   },
   {
    "duration": 18,
    "start_time": "2022-04-17T11:01:45.811Z"
   },
   {
    "duration": 13,
    "start_time": "2022-04-17T11:02:15.538Z"
   },
   {
    "duration": 227,
    "start_time": "2022-04-17T11:04:00.404Z"
   },
   {
    "duration": 4,
    "start_time": "2022-04-17T11:04:03.616Z"
   },
   {
    "duration": 10,
    "start_time": "2022-04-17T11:04:11.216Z"
   },
   {
    "duration": 25,
    "start_time": "2022-04-17T11:10:42.392Z"
   },
   {
    "duration": 111,
    "start_time": "2022-04-17T11:29:21.329Z"
   },
   {
    "duration": 18,
    "start_time": "2022-04-17T11:30:25.723Z"
   },
   {
    "duration": 22,
    "start_time": "2022-04-17T11:32:06.424Z"
   },
   {
    "duration": 16,
    "start_time": "2022-04-17T11:32:13.904Z"
   },
   {
    "duration": 110,
    "start_time": "2022-04-17T11:33:39.090Z"
   },
   {
    "duration": 109,
    "start_time": "2022-04-17T11:34:26.073Z"
   },
   {
    "duration": 16,
    "start_time": "2022-04-17T11:35:14.917Z"
   },
   {
    "duration": 17,
    "start_time": "2022-04-17T11:35:27.659Z"
   },
   {
    "duration": 17,
    "start_time": "2022-04-17T11:35:57.209Z"
   },
   {
    "duration": 17,
    "start_time": "2022-04-17T11:36:54.893Z"
   },
   {
    "duration": 16,
    "start_time": "2022-04-17T11:37:57.850Z"
   },
   {
    "duration": 17,
    "start_time": "2022-04-17T11:38:15.961Z"
   },
   {
    "duration": 17,
    "start_time": "2022-04-17T11:38:38.592Z"
   },
   {
    "duration": 28,
    "start_time": "2022-04-17T11:40:38.048Z"
   },
   {
    "duration": 31,
    "start_time": "2022-04-17T11:41:02.729Z"
   },
   {
    "duration": 21,
    "start_time": "2022-04-17T11:41:30.115Z"
   },
   {
    "duration": 18,
    "start_time": "2022-04-17T11:42:30.459Z"
   },
   {
    "duration": 17,
    "start_time": "2022-04-17T11:43:09.164Z"
   },
   {
    "duration": 25,
    "start_time": "2022-04-17T12:08:51.047Z"
   },
   {
    "duration": 25,
    "start_time": "2022-04-17T12:09:20.012Z"
   },
   {
    "duration": 18,
    "start_time": "2022-04-17T12:09:36.687Z"
   },
   {
    "duration": 4,
    "start_time": "2022-04-17T12:09:43.325Z"
   },
   {
    "duration": 7,
    "start_time": "2022-04-17T12:09:43.332Z"
   },
   {
    "duration": 6,
    "start_time": "2022-04-17T12:09:43.341Z"
   },
   {
    "duration": 39,
    "start_time": "2022-04-17T12:09:43.349Z"
   },
   {
    "duration": 18,
    "start_time": "2022-04-17T12:09:43.391Z"
   },
   {
    "duration": 204,
    "start_time": "2022-04-17T12:09:43.410Z"
   },
   {
    "duration": 43,
    "start_time": "2022-04-17T12:09:43.616Z"
   },
   {
    "duration": 101,
    "start_time": "2022-04-17T12:09:43.661Z"
   },
   {
    "duration": 208,
    "start_time": "2022-04-17T12:09:43.764Z"
   },
   {
    "duration": 25,
    "start_time": "2022-04-17T12:09:43.973Z"
   },
   {
    "duration": 19,
    "start_time": "2022-04-17T12:09:44.000Z"
   },
   {
    "duration": 9,
    "start_time": "2022-04-17T12:09:44.021Z"
   },
   {
    "duration": 35,
    "start_time": "2022-04-17T12:09:44.032Z"
   },
   {
    "duration": 26,
    "start_time": "2022-04-17T12:09:44.072Z"
   },
   {
    "duration": 41,
    "start_time": "2022-04-17T12:09:44.100Z"
   },
   {
    "duration": 20,
    "start_time": "2022-04-17T12:09:44.143Z"
   },
   {
    "duration": 48,
    "start_time": "2022-04-17T12:09:44.165Z"
   },
   {
    "duration": 4,
    "start_time": "2022-04-17T12:09:44.215Z"
   },
   {
    "duration": 149,
    "start_time": "2022-04-17T12:09:44.221Z"
   },
   {
    "duration": 274,
    "start_time": "2022-04-17T12:09:44.372Z"
   },
   {
    "duration": 119,
    "start_time": "2022-04-17T12:09:44.654Z"
   },
   {
    "duration": 28,
    "start_time": "2022-04-17T12:09:44.775Z"
   },
   {
    "duration": 78,
    "start_time": "2022-04-17T12:09:44.804Z"
   },
   {
    "duration": 43,
    "start_time": "2022-04-17T12:09:44.884Z"
   },
   {
    "duration": 59,
    "start_time": "2022-04-17T12:09:44.929Z"
   },
   {
    "duration": 51,
    "start_time": "2022-04-17T12:09:44.991Z"
   },
   {
    "duration": 68,
    "start_time": "2022-04-17T12:09:45.044Z"
   },
   {
    "duration": 21,
    "start_time": "2022-04-17T12:09:45.114Z"
   },
   {
    "duration": 38,
    "start_time": "2022-04-17T12:09:45.137Z"
   },
   {
    "duration": 30,
    "start_time": "2022-04-17T12:09:45.177Z"
   },
   {
    "duration": 15,
    "start_time": "2022-04-17T12:09:45.210Z"
   },
   {
    "duration": 21,
    "start_time": "2022-04-17T12:09:45.227Z"
   },
   {
    "duration": 30,
    "start_time": "2022-04-17T12:09:45.254Z"
   },
   {
    "duration": 47,
    "start_time": "2022-04-17T12:09:45.285Z"
   },
   {
    "duration": 30,
    "start_time": "2022-04-17T12:09:45.334Z"
   },
   {
    "duration": 30,
    "start_time": "2022-04-17T12:09:45.366Z"
   },
   {
    "duration": 35,
    "start_time": "2022-04-17T12:09:45.398Z"
   },
   {
    "duration": 8,
    "start_time": "2022-04-17T12:09:45.435Z"
   },
   {
    "duration": 146,
    "start_time": "2022-04-17T12:09:45.445Z"
   },
   {
    "duration": 17,
    "start_time": "2022-04-17T12:09:45.593Z"
   },
   {
    "duration": 19,
    "start_time": "2022-04-17T12:09:45.614Z"
   },
   {
    "duration": 28,
    "start_time": "2022-04-17T12:09:45.635Z"
   },
   {
    "duration": 213,
    "start_time": "2022-04-17T12:09:45.666Z"
   },
   {
    "duration": 220,
    "start_time": "2022-04-17T12:09:45.881Z"
   },
   {
    "duration": 16,
    "start_time": "2022-04-17T12:09:46.103Z"
   },
   {
    "duration": 222,
    "start_time": "2022-04-17T12:09:46.121Z"
   },
   {
    "duration": 335,
    "start_time": "2022-04-17T12:09:46.346Z"
   },
   {
    "duration": 16,
    "start_time": "2022-04-17T12:09:46.683Z"
   },
   {
    "duration": 229,
    "start_time": "2022-04-17T12:09:46.701Z"
   },
   {
    "duration": 209,
    "start_time": "2022-04-17T12:09:46.932Z"
   },
   {
    "duration": 33,
    "start_time": "2022-04-17T12:09:47.144Z"
   },
   {
    "duration": 13,
    "start_time": "2022-04-17T12:09:47.180Z"
   },
   {
    "duration": 17,
    "start_time": "2022-04-17T12:09:58.803Z"
   },
   {
    "duration": 19,
    "start_time": "2022-04-17T12:10:27.233Z"
   },
   {
    "duration": 21,
    "start_time": "2022-04-17T12:11:28.270Z"
   },
   {
    "duration": 19,
    "start_time": "2022-04-17T12:12:09.922Z"
   },
   {
    "duration": 5,
    "start_time": "2022-04-17T12:21:54.107Z"
   },
   {
    "duration": 18,
    "start_time": "2022-04-17T12:25:16.610Z"
   },
   {
    "duration": 8,
    "start_time": "2022-04-17T12:25:55.681Z"
   },
   {
    "duration": 21,
    "start_time": "2022-04-17T12:25:57.817Z"
   },
   {
    "duration": 17,
    "start_time": "2022-04-17T12:27:00.821Z"
   },
   {
    "duration": 214,
    "start_time": "2022-04-17T12:27:26.937Z"
   },
   {
    "duration": 19,
    "start_time": "2022-04-17T12:32:03.494Z"
   },
   {
    "duration": 9,
    "start_time": "2022-04-17T12:48:36.039Z"
   },
   {
    "duration": 11,
    "start_time": "2022-04-17T12:59:54.001Z"
   },
   {
    "duration": 13,
    "start_time": "2022-04-17T13:00:05.730Z"
   },
   {
    "duration": 4,
    "start_time": "2022-04-17T13:00:13.571Z"
   },
   {
    "duration": 5,
    "start_time": "2022-04-17T13:00:15.618Z"
   },
   {
    "duration": 13,
    "start_time": "2022-04-17T13:00:35.682Z"
   },
   {
    "duration": 3,
    "start_time": "2022-04-17T13:01:10.235Z"
   },
   {
    "duration": 4,
    "start_time": "2022-04-17T13:01:12.953Z"
   },
   {
    "duration": 5,
    "start_time": "2022-04-17T13:01:46.989Z"
   },
   {
    "duration": 4,
    "start_time": "2022-04-17T13:17:20.401Z"
   },
   {
    "duration": 4,
    "start_time": "2022-04-17T13:17:22.113Z"
   },
   {
    "duration": 5,
    "start_time": "2022-04-17T13:17:32.477Z"
   },
   {
    "duration": 4,
    "start_time": "2022-04-17T13:17:40.790Z"
   },
   {
    "duration": 5,
    "start_time": "2022-04-17T13:26:37.695Z"
   },
   {
    "duration": 4,
    "start_time": "2022-04-17T13:26:52.991Z"
   },
   {
    "duration": 1543,
    "start_time": "2022-04-17T18:26:06.998Z"
   },
   {
    "duration": 3,
    "start_time": "2022-04-17T18:26:08.544Z"
   },
   {
    "duration": 5,
    "start_time": "2022-04-17T18:26:08.553Z"
   },
   {
    "duration": 60,
    "start_time": "2022-04-17T18:26:08.561Z"
   },
   {
    "duration": 21,
    "start_time": "2022-04-17T18:26:08.625Z"
   },
   {
    "duration": 233,
    "start_time": "2022-04-17T18:26:08.648Z"
   },
   {
    "duration": 41,
    "start_time": "2022-04-17T18:26:08.883Z"
   },
   {
    "duration": 162,
    "start_time": "2022-04-17T18:26:08.926Z"
   },
   {
    "duration": 225,
    "start_time": "2022-04-17T18:26:09.091Z"
   },
   {
    "duration": 40,
    "start_time": "2022-04-17T18:26:09.319Z"
   },
   {
    "duration": 32,
    "start_time": "2022-04-17T18:26:09.361Z"
   },
   {
    "duration": 11,
    "start_time": "2022-04-17T18:26:09.395Z"
   },
   {
    "duration": 18,
    "start_time": "2022-04-17T18:26:09.408Z"
   },
   {
    "duration": 8,
    "start_time": "2022-04-17T18:26:09.433Z"
   },
   {
    "duration": 56,
    "start_time": "2022-04-17T18:26:09.443Z"
   },
   {
    "duration": 16,
    "start_time": "2022-04-17T18:26:09.500Z"
   },
   {
    "duration": 25,
    "start_time": "2022-04-17T18:26:09.518Z"
   },
   {
    "duration": 3,
    "start_time": "2022-04-17T18:26:09.545Z"
   },
   {
    "duration": 97,
    "start_time": "2022-04-17T18:26:09.550Z"
   },
   {
    "duration": 189,
    "start_time": "2022-04-17T18:26:09.651Z"
   },
   {
    "duration": 94,
    "start_time": "2022-04-17T18:26:09.842Z"
   },
   {
    "duration": 44,
    "start_time": "2022-04-17T18:26:09.938Z"
   },
   {
    "duration": 98,
    "start_time": "2022-04-17T18:26:09.984Z"
   },
   {
    "duration": 80,
    "start_time": "2022-04-17T18:26:10.085Z"
   },
   {
    "duration": 66,
    "start_time": "2022-04-17T18:26:10.170Z"
   },
   {
    "duration": 55,
    "start_time": "2022-04-17T18:26:10.239Z"
   },
   {
    "duration": 61,
    "start_time": "2022-04-17T18:26:10.296Z"
   },
   {
    "duration": 34,
    "start_time": "2022-04-17T18:26:10.363Z"
   },
   {
    "duration": 55,
    "start_time": "2022-04-17T18:26:10.399Z"
   },
   {
    "duration": 23,
    "start_time": "2022-04-17T18:26:10.463Z"
   },
   {
    "duration": 15,
    "start_time": "2022-04-17T18:26:10.487Z"
   },
   {
    "duration": 10,
    "start_time": "2022-04-17T18:26:10.504Z"
   },
   {
    "duration": 19,
    "start_time": "2022-04-17T18:26:10.515Z"
   },
   {
    "duration": 33,
    "start_time": "2022-04-17T18:26:10.540Z"
   },
   {
    "duration": 11,
    "start_time": "2022-04-17T18:26:10.574Z"
   },
   {
    "duration": 13,
    "start_time": "2022-04-17T18:26:10.587Z"
   },
   {
    "duration": 25,
    "start_time": "2022-04-17T18:26:10.602Z"
   },
   {
    "duration": 15,
    "start_time": "2022-04-17T18:26:10.631Z"
   },
   {
    "duration": 140,
    "start_time": "2022-04-17T18:26:10.651Z"
   },
   {
    "duration": 44,
    "start_time": "2022-04-17T18:26:10.793Z"
   },
   {
    "duration": 23,
    "start_time": "2022-04-17T18:26:10.840Z"
   },
   {
    "duration": 26,
    "start_time": "2022-04-17T18:26:10.867Z"
   },
   {
    "duration": 174,
    "start_time": "2022-04-17T18:26:10.897Z"
   },
   {
    "duration": 155,
    "start_time": "2022-04-17T18:26:11.073Z"
   },
   {
    "duration": 16,
    "start_time": "2022-04-17T18:26:11.230Z"
   },
   {
    "duration": 179,
    "start_time": "2022-04-17T18:26:11.248Z"
   },
   {
    "duration": 148,
    "start_time": "2022-04-17T18:26:11.429Z"
   },
   {
    "duration": 14,
    "start_time": "2022-04-17T18:26:11.579Z"
   },
   {
    "duration": 177,
    "start_time": "2022-04-17T18:26:11.596Z"
   },
   {
    "duration": 218,
    "start_time": "2022-04-17T18:26:11.776Z"
   },
   {
    "duration": 40,
    "start_time": "2022-04-17T18:26:11.996Z"
   },
   {
    "duration": 13,
    "start_time": "2022-04-17T18:26:12.039Z"
   },
   {
    "duration": 29,
    "start_time": "2022-04-17T18:26:12.057Z"
   },
   {
    "duration": 9,
    "start_time": "2022-04-17T18:26:12.088Z"
   },
   {
    "duration": 36,
    "start_time": "2022-04-17T18:26:12.100Z"
   },
   {
    "duration": 13,
    "start_time": "2022-04-17T18:26:12.144Z"
   },
   {
    "duration": 14,
    "start_time": "2022-04-17T18:26:12.159Z"
   },
   {
    "duration": 3,
    "start_time": "2022-04-17T18:26:12.177Z"
   },
   {
    "duration": 6,
    "start_time": "2022-04-17T18:26:12.181Z"
   },
   {
    "duration": 6,
    "start_time": "2022-04-17T18:26:12.188Z"
   },
   {
    "duration": 58,
    "start_time": "2022-04-17T18:26:12.195Z"
   },
   {
    "duration": 17,
    "start_time": "2022-04-17T18:26:12.255Z"
   },
   {
    "duration": 19,
    "start_time": "2022-04-17T18:26:12.275Z"
   },
   {
    "duration": 12,
    "start_time": "2022-04-17T18:26:12.296Z"
   },
   {
    "duration": 4,
    "start_time": "2022-04-17T18:26:12.310Z"
   },
   {
    "duration": 7,
    "start_time": "2022-04-17T18:26:12.334Z"
   },
   {
    "duration": 5,
    "start_time": "2022-04-17T18:26:12.345Z"
   },
   {
    "duration": 11,
    "start_time": "2022-04-17T18:55:30.560Z"
   },
   {
    "duration": 58,
    "start_time": "2022-04-17T18:56:20.016Z"
   },
   {
    "duration": 142,
    "start_time": "2022-04-17T18:57:59.730Z"
   },
   {
    "duration": 49,
    "start_time": "2022-04-17T18:58:12.017Z"
   },
   {
    "duration": 88,
    "start_time": "2022-04-17T19:04:17.429Z"
   },
   {
    "duration": 3,
    "start_time": "2022-04-17T19:04:33.427Z"
   },
   {
    "duration": 21,
    "start_time": "2022-04-17T19:04:33.432Z"
   },
   {
    "duration": 11,
    "start_time": "2022-04-17T19:04:33.455Z"
   },
   {
    "duration": 76,
    "start_time": "2022-04-17T19:04:33.469Z"
   },
   {
    "duration": 18,
    "start_time": "2022-04-17T19:04:33.547Z"
   },
   {
    "duration": 757,
    "start_time": "2022-04-17T19:04:33.567Z"
   },
   {
    "duration": 30,
    "start_time": "2022-04-17T19:04:34.326Z"
   },
   {
    "duration": 423,
    "start_time": "2022-04-17T19:04:34.358Z"
   },
   {
    "duration": 600,
    "start_time": "2022-04-17T19:04:34.783Z"
   },
   {
    "duration": 25,
    "start_time": "2022-04-17T19:04:35.385Z"
   },
   {
    "duration": 61,
    "start_time": "2022-04-17T19:04:35.411Z"
   },
   {
    "duration": 8,
    "start_time": "2022-04-17T19:04:35.474Z"
   },
   {
    "duration": 21,
    "start_time": "2022-04-17T19:04:35.484Z"
   },
   {
    "duration": 33,
    "start_time": "2022-04-17T19:04:35.507Z"
   },
   {
    "duration": 48,
    "start_time": "2022-04-17T19:04:35.542Z"
   },
   {
    "duration": 21,
    "start_time": "2022-04-17T19:04:35.592Z"
   },
   {
    "duration": 23,
    "start_time": "2022-04-17T19:04:35.615Z"
   },
   {
    "duration": 11,
    "start_time": "2022-04-17T19:04:35.642Z"
   },
   {
    "duration": 134,
    "start_time": "2022-04-17T19:04:35.655Z"
   },
   {
    "duration": 203,
    "start_time": "2022-04-17T19:04:35.791Z"
   },
   {
    "duration": 93,
    "start_time": "2022-04-17T19:04:35.996Z"
   },
   {
    "duration": 34,
    "start_time": "2022-04-17T19:04:36.091Z"
   },
   {
    "duration": 84,
    "start_time": "2022-04-17T19:04:42.172Z"
   },
   {
    "duration": 5,
    "start_time": "2022-04-17T19:05:37.453Z"
   },
   {
    "duration": 44,
    "start_time": "2022-04-17T19:05:50.302Z"
   },
   {
    "duration": 37,
    "start_time": "2022-04-17T19:06:37.584Z"
   },
   {
    "duration": 50,
    "start_time": "2022-04-17T19:06:42.829Z"
   },
   {
    "duration": 37,
    "start_time": "2022-04-17T19:07:02.997Z"
   },
   {
    "duration": 53,
    "start_time": "2022-04-17T19:07:42.236Z"
   },
   {
    "duration": 54,
    "start_time": "2022-04-17T19:07:57.415Z"
   },
   {
    "duration": 13,
    "start_time": "2022-04-17T19:08:13.581Z"
   },
   {
    "duration": 36,
    "start_time": "2022-04-17T19:08:40.879Z"
   },
   {
    "duration": 165,
    "start_time": "2022-04-17T19:10:35.296Z"
   },
   {
    "duration": 14,
    "start_time": "2022-04-17T19:11:01.767Z"
   },
   {
    "duration": 54,
    "start_time": "2022-04-17T19:12:25.626Z"
   },
   {
    "duration": 3,
    "start_time": "2022-04-17T19:15:07.098Z"
   },
   {
    "duration": 8,
    "start_time": "2022-04-17T19:15:07.103Z"
   },
   {
    "duration": 16,
    "start_time": "2022-04-17T19:15:07.113Z"
   },
   {
    "duration": 58,
    "start_time": "2022-04-17T19:15:07.135Z"
   },
   {
    "duration": 12,
    "start_time": "2022-04-17T19:15:07.195Z"
   },
   {
    "duration": 199,
    "start_time": "2022-04-17T19:15:07.208Z"
   },
   {
    "duration": 33,
    "start_time": "2022-04-17T19:15:07.409Z"
   },
   {
    "duration": 121,
    "start_time": "2022-04-17T19:15:07.443Z"
   },
   {
    "duration": 150,
    "start_time": "2022-04-17T19:15:07.567Z"
   },
   {
    "duration": 28,
    "start_time": "2022-04-17T19:15:07.718Z"
   },
   {
    "duration": 25,
    "start_time": "2022-04-17T19:15:07.748Z"
   },
   {
    "duration": 7,
    "start_time": "2022-04-17T19:15:07.775Z"
   },
   {
    "duration": 6,
    "start_time": "2022-04-17T19:15:07.784Z"
   },
   {
    "duration": 6,
    "start_time": "2022-04-17T19:15:07.792Z"
   },
   {
    "duration": 48,
    "start_time": "2022-04-17T19:15:07.800Z"
   },
   {
    "duration": 19,
    "start_time": "2022-04-17T19:15:07.850Z"
   },
   {
    "duration": 19,
    "start_time": "2022-04-17T19:15:07.870Z"
   },
   {
    "duration": 4,
    "start_time": "2022-04-17T19:15:07.891Z"
   },
   {
    "duration": 100,
    "start_time": "2022-04-17T19:15:07.896Z"
   },
   {
    "duration": 172,
    "start_time": "2022-04-17T19:15:07.998Z"
   },
   {
    "duration": 89,
    "start_time": "2022-04-17T19:15:08.172Z"
   },
   {
    "duration": 27,
    "start_time": "2022-04-17T19:15:08.263Z"
   },
   {
    "duration": 91,
    "start_time": "2022-04-17T19:15:08.293Z"
   },
   {
    "duration": 67,
    "start_time": "2022-04-17T19:15:08.388Z"
   },
   {
    "duration": 35,
    "start_time": "2022-04-17T19:15:08.457Z"
   },
   {
    "duration": 8,
    "start_time": "2022-04-17T19:15:08.494Z"
   },
   {
    "duration": 62,
    "start_time": "2022-04-17T19:15:08.504Z"
   },
   {
    "duration": 40,
    "start_time": "2022-04-17T19:15:08.568Z"
   },
   {
    "duration": 21,
    "start_time": "2022-04-17T19:16:20.675Z"
   },
   {
    "duration": 62,
    "start_time": "2022-04-17T19:16:26.483Z"
   },
   {
    "duration": 21,
    "start_time": "2022-04-17T19:16:29.860Z"
   },
   {
    "duration": 21,
    "start_time": "2022-04-17T19:16:33.043Z"
   },
   {
    "duration": 9,
    "start_time": "2022-04-17T19:16:44.794Z"
   },
   {
    "duration": 6,
    "start_time": "2022-04-17T19:16:49.003Z"
   },
   {
    "duration": 21,
    "start_time": "2022-04-17T19:16:51.462Z"
   },
   {
    "duration": 12,
    "start_time": "2022-04-17T19:16:55.349Z"
   },
   {
    "duration": 2519,
    "start_time": "2022-04-17T19:18:54.636Z"
   },
   {
    "duration": 0,
    "start_time": "2022-04-17T19:18:57.157Z"
   },
   {
    "duration": 4,
    "start_time": "2022-04-17T19:19:13.660Z"
   },
   {
    "duration": 6,
    "start_time": "2022-04-17T19:19:13.666Z"
   },
   {
    "duration": 4,
    "start_time": "2022-04-17T19:19:13.674Z"
   },
   {
    "duration": 52,
    "start_time": "2022-04-17T19:19:13.680Z"
   },
   {
    "duration": 21,
    "start_time": "2022-04-17T19:19:13.734Z"
   },
   {
    "duration": 199,
    "start_time": "2022-04-17T19:19:13.758Z"
   },
   {
    "duration": 26,
    "start_time": "2022-04-17T19:19:13.959Z"
   },
   {
    "duration": 118,
    "start_time": "2022-04-17T19:19:13.987Z"
   },
   {
    "duration": 217,
    "start_time": "2022-04-17T19:19:14.107Z"
   },
   {
    "duration": 37,
    "start_time": "2022-04-17T19:19:14.326Z"
   },
   {
    "duration": 29,
    "start_time": "2022-04-17T19:19:14.366Z"
   },
   {
    "duration": 11,
    "start_time": "2022-04-17T19:19:14.397Z"
   },
   {
    "duration": 24,
    "start_time": "2022-04-17T19:19:14.410Z"
   },
   {
    "duration": 12,
    "start_time": "2022-04-17T19:19:14.437Z"
   },
   {
    "duration": 33,
    "start_time": "2022-04-17T19:19:14.451Z"
   },
   {
    "duration": 16,
    "start_time": "2022-04-17T19:19:14.486Z"
   },
   {
    "duration": 39,
    "start_time": "2022-04-17T19:19:14.504Z"
   },
   {
    "duration": 10,
    "start_time": "2022-04-17T19:19:14.547Z"
   },
   {
    "duration": 89,
    "start_time": "2022-04-17T19:19:14.559Z"
   },
   {
    "duration": 189,
    "start_time": "2022-04-17T19:19:14.651Z"
   },
   {
    "duration": 72,
    "start_time": "2022-04-17T19:19:14.845Z"
   },
   {
    "duration": 44,
    "start_time": "2022-04-17T19:19:14.918Z"
   },
   {
    "duration": 98,
    "start_time": "2022-04-17T19:19:14.964Z"
   },
   {
    "duration": 57,
    "start_time": "2022-04-17T19:19:15.066Z"
   },
   {
    "duration": 53,
    "start_time": "2022-04-17T19:19:15.125Z"
   },
   {
    "duration": 11,
    "start_time": "2022-04-17T19:19:15.180Z"
   },
   {
    "duration": 62,
    "start_time": "2022-04-17T19:19:15.193Z"
   },
   {
    "duration": 33,
    "start_time": "2022-04-17T19:19:15.258Z"
   },
   {
    "duration": 42,
    "start_time": "2022-04-17T19:19:15.293Z"
   },
   {
    "duration": 27,
    "start_time": "2022-04-17T19:19:15.337Z"
   },
   {
    "duration": 28,
    "start_time": "2022-04-17T19:19:15.366Z"
   },
   {
    "duration": 42,
    "start_time": "2022-04-17T19:19:15.396Z"
   },
   {
    "duration": 12,
    "start_time": "2022-04-17T19:19:15.443Z"
   },
   {
    "duration": 2648,
    "start_time": "2022-04-17T19:19:17.779Z"
   },
   {
    "duration": 7,
    "start_time": "2022-04-17T19:19:37.493Z"
   },
   {
    "duration": 23,
    "start_time": "2022-04-17T19:19:49.555Z"
   },
   {
    "duration": 11,
    "start_time": "2022-04-17T19:19:52.854Z"
   },
   {
    "duration": 12,
    "start_time": "2022-04-17T19:20:31.876Z"
   },
   {
    "duration": 19,
    "start_time": "2022-04-17T19:20:47.564Z"
   },
   {
    "duration": 5,
    "start_time": "2022-04-17T19:20:54.204Z"
   },
   {
    "duration": 122,
    "start_time": "2022-04-17T19:20:57.480Z"
   },
   {
    "duration": 31,
    "start_time": "2022-04-17T19:21:14.811Z"
   },
   {
    "duration": 14,
    "start_time": "2022-04-17T19:21:27.173Z"
   },
   {
    "duration": 15,
    "start_time": "2022-04-17T19:22:02.854Z"
   },
   {
    "duration": 153,
    "start_time": "2022-04-17T19:22:16.120Z"
   },
   {
    "duration": 151,
    "start_time": "2022-04-17T19:22:18.133Z"
   },
   {
    "duration": 15,
    "start_time": "2022-04-17T19:22:21.308Z"
   },
   {
    "duration": 250,
    "start_time": "2022-04-17T19:22:24.221Z"
   },
   {
    "duration": 178,
    "start_time": "2022-04-17T19:22:26.070Z"
   },
   {
    "duration": 16,
    "start_time": "2022-04-17T19:22:32.657Z"
   },
   {
    "duration": 194,
    "start_time": "2022-04-17T19:22:35.781Z"
   },
   {
    "duration": 142,
    "start_time": "2022-04-17T19:22:41.317Z"
   },
   {
    "duration": 197,
    "start_time": "2022-04-17T19:23:53.395Z"
   },
   {
    "duration": 206,
    "start_time": "2022-04-17T19:24:21.381Z"
   },
   {
    "duration": 237,
    "start_time": "2022-04-17T19:24:36.019Z"
   },
   {
    "duration": 151,
    "start_time": "2022-04-17T19:24:46.532Z"
   },
   {
    "duration": 177,
    "start_time": "2022-04-17T19:25:12.087Z"
   },
   {
    "duration": 19,
    "start_time": "2022-04-17T19:34:02.945Z"
   },
   {
    "duration": 9,
    "start_time": "2022-04-17T19:34:05.670Z"
   },
   {
    "duration": 27,
    "start_time": "2022-04-17T19:35:09.422Z"
   },
   {
    "duration": 18,
    "start_time": "2022-04-17T19:37:43.942Z"
   },
   {
    "duration": 16,
    "start_time": "2022-04-17T19:40:04.963Z"
   },
   {
    "duration": 12,
    "start_time": "2022-04-17T19:40:47.407Z"
   },
   {
    "duration": 17,
    "start_time": "2022-04-17T19:42:49.780Z"
   },
   {
    "duration": 9,
    "start_time": "2022-04-17T20:39:20.938Z"
   },
   {
    "duration": 14,
    "start_time": "2022-04-17T20:39:26.670Z"
   },
   {
    "duration": 14,
    "start_time": "2022-04-17T20:39:30.337Z"
   },
   {
    "duration": 14,
    "start_time": "2022-04-17T20:39:49.459Z"
   },
   {
    "duration": 21,
    "start_time": "2022-04-17T20:40:11.542Z"
   },
   {
    "duration": 3,
    "start_time": "2022-04-17T20:41:58.759Z"
   },
   {
    "duration": 4,
    "start_time": "2022-04-17T20:41:58.767Z"
   },
   {
    "duration": 3,
    "start_time": "2022-04-17T20:41:58.776Z"
   },
   {
    "duration": 62,
    "start_time": "2022-04-17T20:41:58.782Z"
   },
   {
    "duration": 19,
    "start_time": "2022-04-17T20:41:58.848Z"
   },
   {
    "duration": 206,
    "start_time": "2022-04-17T20:41:58.869Z"
   },
   {
    "duration": 24,
    "start_time": "2022-04-17T20:41:59.077Z"
   },
   {
    "duration": 141,
    "start_time": "2022-04-17T20:41:59.102Z"
   },
   {
    "duration": 158,
    "start_time": "2022-04-17T20:41:59.245Z"
   },
   {
    "duration": 38,
    "start_time": "2022-04-17T20:41:59.405Z"
   },
   {
    "duration": 26,
    "start_time": "2022-04-17T20:41:59.445Z"
   },
   {
    "duration": 7,
    "start_time": "2022-04-17T20:41:59.473Z"
   },
   {
    "duration": 4,
    "start_time": "2022-04-17T20:41:59.483Z"
   },
   {
    "duration": 8,
    "start_time": "2022-04-17T20:41:59.488Z"
   },
   {
    "duration": 44,
    "start_time": "2022-04-17T20:41:59.497Z"
   },
   {
    "duration": 28,
    "start_time": "2022-04-17T20:41:59.543Z"
   },
   {
    "duration": 20,
    "start_time": "2022-04-17T20:41:59.574Z"
   },
   {
    "duration": 4,
    "start_time": "2022-04-17T20:41:59.596Z"
   },
   {
    "duration": 105,
    "start_time": "2022-04-17T20:41:59.602Z"
   },
   {
    "duration": 182,
    "start_time": "2022-04-17T20:41:59.709Z"
   },
   {
    "duration": 99,
    "start_time": "2022-04-17T20:41:59.892Z"
   },
   {
    "duration": 58,
    "start_time": "2022-04-17T20:41:59.993Z"
   },
   {
    "duration": 114,
    "start_time": "2022-04-17T20:42:00.056Z"
   },
   {
    "duration": 46,
    "start_time": "2022-04-17T20:42:00.172Z"
   },
   {
    "duration": 60,
    "start_time": "2022-04-17T20:42:00.220Z"
   },
   {
    "duration": 9,
    "start_time": "2022-04-17T20:42:00.282Z"
   },
   {
    "duration": 61,
    "start_time": "2022-04-17T20:42:00.293Z"
   },
   {
    "duration": 35,
    "start_time": "2022-04-17T20:42:00.357Z"
   },
   {
    "duration": 34,
    "start_time": "2022-04-17T20:42:00.394Z"
   },
   {
    "duration": 32,
    "start_time": "2022-04-17T20:42:00.430Z"
   },
   {
    "duration": 31,
    "start_time": "2022-04-17T20:42:00.467Z"
   },
   {
    "duration": 39,
    "start_time": "2022-04-17T20:42:00.500Z"
   },
   {
    "duration": 13,
    "start_time": "2022-04-17T20:42:00.542Z"
   },
   {
    "duration": 15,
    "start_time": "2022-04-17T20:42:00.557Z"
   },
   {
    "duration": 28,
    "start_time": "2022-04-17T20:42:00.574Z"
   },
   {
    "duration": 23,
    "start_time": "2022-04-17T20:42:00.604Z"
   },
   {
    "duration": 18,
    "start_time": "2022-04-17T20:42:00.629Z"
   },
   {
    "duration": 22,
    "start_time": "2022-04-17T20:42:00.650Z"
   },
   {
    "duration": 5,
    "start_time": "2022-04-17T20:42:00.674Z"
   },
   {
    "duration": 134,
    "start_time": "2022-04-17T20:42:00.680Z"
   },
   {
    "duration": 26,
    "start_time": "2022-04-17T20:42:00.816Z"
   },
   {
    "duration": 19,
    "start_time": "2022-04-17T20:42:00.846Z"
   },
   {
    "duration": 12,
    "start_time": "2022-04-17T20:42:00.867Z"
   },
   {
    "duration": 218,
    "start_time": "2022-04-17T20:42:00.881Z"
   },
   {
    "duration": 334,
    "start_time": "2022-04-17T20:42:01.101Z"
   },
   {
    "duration": 25,
    "start_time": "2022-04-17T20:42:01.437Z"
   },
   {
    "duration": 192,
    "start_time": "2022-04-17T20:42:01.464Z"
   },
   {
    "duration": 139,
    "start_time": "2022-04-17T20:42:01.658Z"
   },
   {
    "duration": 13,
    "start_time": "2022-04-17T20:42:01.799Z"
   },
   {
    "duration": 156,
    "start_time": "2022-04-17T20:42:01.825Z"
   },
   {
    "duration": 164,
    "start_time": "2022-04-17T20:42:01.982Z"
   },
   {
    "duration": 24,
    "start_time": "2022-04-17T20:42:02.148Z"
   },
   {
    "duration": 24,
    "start_time": "2022-04-17T20:42:02.174Z"
   },
   {
    "duration": 41,
    "start_time": "2022-04-17T20:42:02.200Z"
   },
   {
    "duration": 7,
    "start_time": "2022-04-17T20:42:02.243Z"
   },
   {
    "duration": 12,
    "start_time": "2022-04-17T20:42:09.086Z"
   },
   {
    "duration": 15,
    "start_time": "2022-04-17T20:42:12.462Z"
   },
   {
    "duration": 24,
    "start_time": "2022-04-17T20:42:23.429Z"
   },
   {
    "duration": 30,
    "start_time": "2022-04-17T20:42:32.816Z"
   },
   {
    "duration": 12,
    "start_time": "2022-04-17T20:42:43.247Z"
   },
   {
    "duration": 11,
    "start_time": "2022-04-17T20:43:03.782Z"
   },
   {
    "duration": 4,
    "start_time": "2022-04-17T20:43:21.902Z"
   },
   {
    "duration": 3,
    "start_time": "2022-04-17T20:43:25.330Z"
   },
   {
    "duration": 5,
    "start_time": "2022-04-17T20:43:26.798Z"
   },
   {
    "duration": 4,
    "start_time": "2022-04-17T20:43:35.912Z"
   },
   {
    "duration": 18,
    "start_time": "2022-04-17T20:44:20.867Z"
   },
   {
    "duration": 10,
    "start_time": "2022-04-17T20:44:24.703Z"
   },
   {
    "duration": 27,
    "start_time": "2022-04-17T20:44:27.025Z"
   },
   {
    "duration": 21,
    "start_time": "2022-04-17T20:44:29.626Z"
   },
   {
    "duration": 5,
    "start_time": "2022-04-17T20:44:31.656Z"
   },
   {
    "duration": 5,
    "start_time": "2022-04-17T20:44:33.794Z"
   },
   {
    "duration": 5,
    "start_time": "2022-04-17T20:44:37.963Z"
   },
   {
    "duration": 3,
    "start_time": "2022-04-17T20:52:34.203Z"
   },
   {
    "duration": 3,
    "start_time": "2022-04-17T20:52:43.705Z"
   },
   {
    "duration": 5,
    "start_time": "2022-04-17T20:52:45.531Z"
   },
   {
    "duration": 3,
    "start_time": "2022-04-17T20:57:25.810Z"
   },
   {
    "duration": 23,
    "start_time": "2022-04-17T20:57:25.814Z"
   },
   {
    "duration": 17,
    "start_time": "2022-04-17T20:57:25.840Z"
   },
   {
    "duration": 52,
    "start_time": "2022-04-17T20:57:25.860Z"
   },
   {
    "duration": 21,
    "start_time": "2022-04-17T20:57:25.915Z"
   },
   {
    "duration": 185,
    "start_time": "2022-04-17T20:57:25.942Z"
   },
   {
    "duration": 24,
    "start_time": "2022-04-17T20:57:26.130Z"
   },
   {
    "duration": 156,
    "start_time": "2022-04-17T20:57:26.156Z"
   },
   {
    "duration": 156,
    "start_time": "2022-04-17T20:57:26.322Z"
   },
   {
    "duration": 26,
    "start_time": "2022-04-17T20:57:26.480Z"
   },
   {
    "duration": 28,
    "start_time": "2022-04-17T20:57:26.508Z"
   },
   {
    "duration": 8,
    "start_time": "2022-04-17T20:57:26.538Z"
   },
   {
    "duration": 4,
    "start_time": "2022-04-17T20:57:26.548Z"
   },
   {
    "duration": 7,
    "start_time": "2022-04-17T20:57:26.554Z"
   },
   {
    "duration": 27,
    "start_time": "2022-04-17T20:57:26.563Z"
   },
   {
    "duration": 49,
    "start_time": "2022-04-17T20:57:26.591Z"
   },
   {
    "duration": 19,
    "start_time": "2022-04-17T20:57:26.641Z"
   },
   {
    "duration": 4,
    "start_time": "2022-04-17T20:57:26.662Z"
   },
   {
    "duration": 103,
    "start_time": "2022-04-17T20:57:26.667Z"
   },
   {
    "duration": 185,
    "start_time": "2022-04-17T20:57:26.772Z"
   },
   {
    "duration": 79,
    "start_time": "2022-04-17T20:57:26.959Z"
   },
   {
    "duration": 31,
    "start_time": "2022-04-17T20:57:27.041Z"
   },
   {
    "duration": 85,
    "start_time": "2022-04-17T20:57:27.074Z"
   },
   {
    "duration": 64,
    "start_time": "2022-04-17T20:57:27.163Z"
   },
   {
    "duration": 46,
    "start_time": "2022-04-17T20:57:27.230Z"
   },
   {
    "duration": 9,
    "start_time": "2022-04-17T20:57:27.278Z"
   },
   {
    "duration": 57,
    "start_time": "2022-04-17T20:57:27.289Z"
   },
   {
    "duration": 29,
    "start_time": "2022-04-17T20:57:27.347Z"
   },
   {
    "duration": 18,
    "start_time": "2022-04-17T20:57:27.377Z"
   },
   {
    "duration": 39,
    "start_time": "2022-04-17T20:57:27.397Z"
   },
   {
    "duration": 20,
    "start_time": "2022-04-17T20:57:27.438Z"
   },
   {
    "duration": 14,
    "start_time": "2022-04-17T20:57:27.459Z"
   },
   {
    "duration": 7,
    "start_time": "2022-04-17T20:57:27.475Z"
   },
   {
    "duration": 7,
    "start_time": "2022-04-17T20:57:27.483Z"
   },
   {
    "duration": 58,
    "start_time": "2022-04-17T20:57:27.491Z"
   },
   {
    "duration": 10,
    "start_time": "2022-04-17T20:57:27.551Z"
   },
   {
    "duration": 14,
    "start_time": "2022-04-17T20:57:27.563Z"
   },
   {
    "duration": 56,
    "start_time": "2022-04-17T20:57:27.579Z"
   },
   {
    "duration": 7,
    "start_time": "2022-04-17T20:57:27.637Z"
   },
   {
    "duration": 119,
    "start_time": "2022-04-17T20:57:27.646Z"
   },
   {
    "duration": 20,
    "start_time": "2022-04-17T20:57:27.767Z"
   },
   {
    "duration": 14,
    "start_time": "2022-04-17T20:57:27.789Z"
   },
   {
    "duration": 18,
    "start_time": "2022-04-17T20:57:27.823Z"
   },
   {
    "duration": 142,
    "start_time": "2022-04-17T20:57:27.843Z"
   },
   {
    "duration": 137,
    "start_time": "2022-04-17T20:57:27.987Z"
   },
   {
    "duration": 26,
    "start_time": "2022-04-17T20:57:28.126Z"
   },
   {
    "duration": 143,
    "start_time": "2022-04-17T20:57:28.154Z"
   },
   {
    "duration": 136,
    "start_time": "2022-04-17T20:57:28.299Z"
   },
   {
    "duration": 17,
    "start_time": "2022-04-17T20:57:28.437Z"
   },
   {
    "duration": 163,
    "start_time": "2022-04-17T20:57:28.456Z"
   },
   {
    "duration": 242,
    "start_time": "2022-04-17T20:57:28.621Z"
   },
   {
    "duration": 30,
    "start_time": "2022-04-17T20:57:28.865Z"
   },
   {
    "duration": 35,
    "start_time": "2022-04-17T20:57:28.897Z"
   },
   {
    "duration": 19,
    "start_time": "2022-04-17T20:57:28.934Z"
   },
   {
    "duration": 7,
    "start_time": "2022-04-17T20:57:28.955Z"
   },
   {
    "duration": 10,
    "start_time": "2022-04-17T20:57:28.963Z"
   },
   {
    "duration": 10,
    "start_time": "2022-04-17T20:57:28.975Z"
   },
   {
    "duration": 3,
    "start_time": "2022-04-17T20:57:28.987Z"
   },
   {
    "duration": 3,
    "start_time": "2022-04-17T20:57:29.029Z"
   },
   {
    "duration": 8,
    "start_time": "2022-04-17T20:57:29.033Z"
   },
   {
    "duration": 4,
    "start_time": "2022-04-17T20:57:29.043Z"
   },
   {
    "duration": 33,
    "start_time": "2022-04-17T20:57:29.049Z"
   },
   {
    "duration": 17,
    "start_time": "2022-04-17T20:57:29.084Z"
   },
   {
    "duration": 31,
    "start_time": "2022-04-17T20:57:29.103Z"
   },
   {
    "duration": 11,
    "start_time": "2022-04-17T20:57:29.136Z"
   },
   {
    "duration": 6,
    "start_time": "2022-04-17T20:57:29.149Z"
   },
   {
    "duration": 12,
    "start_time": "2022-04-17T20:57:29.156Z"
   },
   {
    "duration": 13,
    "start_time": "2022-04-17T20:57:29.170Z"
   },
   {
    "duration": 1426,
    "start_time": "2022-04-26T16:18:18.907Z"
   },
   {
    "duration": 4,
    "start_time": "2022-04-26T16:18:20.335Z"
   },
   {
    "duration": 8,
    "start_time": "2022-04-26T16:18:20.341Z"
   },
   {
    "duration": 52,
    "start_time": "2022-04-26T16:18:20.351Z"
   },
   {
    "duration": 22,
    "start_time": "2022-04-26T16:18:20.407Z"
   },
   {
    "duration": 276,
    "start_time": "2022-04-26T16:18:20.432Z"
   },
   {
    "duration": 36,
    "start_time": "2022-04-26T16:18:20.711Z"
   },
   {
    "duration": 173,
    "start_time": "2022-04-26T16:18:20.750Z"
   },
   {
    "duration": 218,
    "start_time": "2022-04-26T16:18:20.925Z"
   },
   {
    "duration": 52,
    "start_time": "2022-04-26T16:18:21.145Z"
   },
   {
    "duration": 31,
    "start_time": "2022-04-26T16:18:21.199Z"
   },
   {
    "duration": 12,
    "start_time": "2022-04-26T16:18:21.233Z"
   },
   {
    "duration": 11,
    "start_time": "2022-04-26T16:18:21.247Z"
   },
   {
    "duration": 26,
    "start_time": "2022-04-26T16:18:21.262Z"
   },
   {
    "duration": 48,
    "start_time": "2022-04-26T16:18:21.290Z"
   },
   {
    "duration": 21,
    "start_time": "2022-04-26T16:18:21.341Z"
   },
   {
    "duration": 34,
    "start_time": "2022-04-26T16:18:21.390Z"
   },
   {
    "duration": 4,
    "start_time": "2022-04-26T16:18:21.426Z"
   },
   {
    "duration": 123,
    "start_time": "2022-04-26T16:18:21.432Z"
   },
   {
    "duration": 274,
    "start_time": "2022-04-26T16:18:21.557Z"
   },
   {
    "duration": 128,
    "start_time": "2022-04-26T16:18:21.833Z"
   },
   {
    "duration": 53,
    "start_time": "2022-04-26T16:18:21.963Z"
   },
   {
    "duration": 117,
    "start_time": "2022-04-26T16:18:22.018Z"
   },
   {
    "duration": 81,
    "start_time": "2022-04-26T16:18:22.137Z"
   },
   {
    "duration": 68,
    "start_time": "2022-04-26T16:18:22.220Z"
   },
   {
    "duration": 24,
    "start_time": "2022-04-26T16:18:22.289Z"
   },
   {
    "duration": 59,
    "start_time": "2022-04-26T16:18:22.315Z"
   },
   {
    "duration": 47,
    "start_time": "2022-04-26T16:18:22.387Z"
   },
   {
    "duration": 30,
    "start_time": "2022-04-26T16:18:22.436Z"
   },
   {
    "duration": 55,
    "start_time": "2022-04-26T16:18:22.468Z"
   },
   {
    "duration": 32,
    "start_time": "2022-04-26T16:18:22.525Z"
   },
   {
    "duration": 45,
    "start_time": "2022-04-26T16:18:22.559Z"
   },
   {
    "duration": 12,
    "start_time": "2022-04-26T16:18:22.609Z"
   },
   {
    "duration": 8,
    "start_time": "2022-04-26T16:18:22.623Z"
   },
   {
    "duration": 73,
    "start_time": "2022-04-26T16:18:22.633Z"
   },
   {
    "duration": 13,
    "start_time": "2022-04-26T16:18:22.709Z"
   },
   {
    "duration": 18,
    "start_time": "2022-04-26T16:18:22.724Z"
   },
   {
    "duration": 63,
    "start_time": "2022-04-26T16:18:22.744Z"
   },
   {
    "duration": 7,
    "start_time": "2022-04-26T16:18:22.810Z"
   },
   {
    "duration": 208,
    "start_time": "2022-04-26T16:18:22.819Z"
   },
   {
    "duration": 29,
    "start_time": "2022-04-26T16:18:23.033Z"
   },
   {
    "duration": 46,
    "start_time": "2022-04-26T16:18:23.064Z"
   },
   {
    "duration": 18,
    "start_time": "2022-04-26T16:18:23.112Z"
   },
   {
    "duration": 273,
    "start_time": "2022-04-26T16:18:23.132Z"
   },
   {
    "duration": 234,
    "start_time": "2022-04-26T16:18:23.408Z"
   },
   {
    "duration": 20,
    "start_time": "2022-04-26T16:18:23.645Z"
   },
   {
    "duration": 260,
    "start_time": "2022-04-26T16:18:23.667Z"
   },
   {
    "duration": 229,
    "start_time": "2022-04-26T16:18:23.929Z"
   },
   {
    "duration": 38,
    "start_time": "2022-04-26T16:18:24.159Z"
   },
   {
    "duration": 260,
    "start_time": "2022-04-26T16:18:24.199Z"
   },
   {
    "duration": 277,
    "start_time": "2022-04-26T16:18:24.461Z"
   },
   {
    "duration": 48,
    "start_time": "2022-04-26T16:18:24.741Z"
   },
   {
    "duration": 21,
    "start_time": "2022-04-26T16:18:24.791Z"
   },
   {
    "duration": 27,
    "start_time": "2022-04-26T16:18:24.814Z"
   },
   {
    "duration": 8,
    "start_time": "2022-04-26T16:18:24.843Z"
   },
   {
    "duration": 47,
    "start_time": "2022-04-26T16:18:24.853Z"
   },
   {
    "duration": 16,
    "start_time": "2022-04-26T16:18:24.903Z"
   },
   {
    "duration": 8,
    "start_time": "2022-04-26T16:18:24.921Z"
   },
   {
    "duration": 6,
    "start_time": "2022-04-26T16:18:24.931Z"
   },
   {
    "duration": 5,
    "start_time": "2022-04-26T16:18:24.940Z"
   },
   {
    "duration": 9,
    "start_time": "2022-04-26T16:18:24.947Z"
   },
   {
    "duration": 54,
    "start_time": "2022-04-26T16:18:24.958Z"
   },
   {
    "duration": 20,
    "start_time": "2022-04-26T16:18:25.014Z"
   },
   {
    "duration": 51,
    "start_time": "2022-04-26T16:18:25.036Z"
   },
   {
    "duration": 17,
    "start_time": "2022-04-26T16:18:25.091Z"
   },
   {
    "duration": 12,
    "start_time": "2022-04-26T16:18:25.110Z"
   },
   {
    "duration": 9,
    "start_time": "2022-04-26T16:18:25.125Z"
   },
   {
    "duration": 9,
    "start_time": "2022-04-26T16:18:25.136Z"
   },
   {
    "duration": 4,
    "start_time": "2022-04-26T17:05:06.232Z"
   },
   {
    "duration": 6,
    "start_time": "2022-04-26T17:05:06.239Z"
   },
   {
    "duration": 7,
    "start_time": "2022-04-26T17:05:06.248Z"
   },
   {
    "duration": 54,
    "start_time": "2022-04-26T17:05:06.258Z"
   },
   {
    "duration": 18,
    "start_time": "2022-04-26T17:05:06.321Z"
   },
   {
    "duration": 249,
    "start_time": "2022-04-26T17:05:06.342Z"
   },
   {
    "duration": 40,
    "start_time": "2022-04-26T17:05:06.593Z"
   },
   {
    "duration": 167,
    "start_time": "2022-04-26T17:05:06.636Z"
   },
   {
    "duration": 215,
    "start_time": "2022-04-26T17:05:06.805Z"
   },
   {
    "duration": 60,
    "start_time": "2022-04-26T17:05:07.027Z"
   },
   {
    "duration": 37,
    "start_time": "2022-04-26T17:05:07.090Z"
   },
   {
    "duration": 11,
    "start_time": "2022-04-26T17:05:07.129Z"
   },
   {
    "duration": 10,
    "start_time": "2022-04-26T17:05:07.142Z"
   },
   {
    "duration": 36,
    "start_time": "2022-04-26T17:05:07.155Z"
   },
   {
    "duration": 73,
    "start_time": "2022-04-26T17:05:07.197Z"
   },
   {
    "duration": 36,
    "start_time": "2022-04-26T17:05:07.273Z"
   },
   {
    "duration": 42,
    "start_time": "2022-04-26T17:05:07.311Z"
   },
   {
    "duration": 35,
    "start_time": "2022-04-26T17:05:07.355Z"
   },
   {
    "duration": 187,
    "start_time": "2022-04-26T17:05:07.392Z"
   },
   {
    "duration": 282,
    "start_time": "2022-04-26T17:05:07.581Z"
   },
   {
    "duration": 123,
    "start_time": "2022-04-26T17:05:07.865Z"
   },
   {
    "duration": 61,
    "start_time": "2022-04-26T17:05:07.991Z"
   },
   {
    "duration": 180,
    "start_time": "2022-04-26T17:05:08.054Z"
   },
   {
    "duration": 143,
    "start_time": "2022-04-26T17:05:08.282Z"
   },
   {
    "duration": 110,
    "start_time": "2022-04-26T17:05:08.427Z"
   },
   {
    "duration": 11,
    "start_time": "2022-04-26T17:05:08.539Z"
   },
   {
    "duration": 81,
    "start_time": "2022-04-26T17:05:08.552Z"
   },
   {
    "duration": 143,
    "start_time": "2022-04-26T17:05:08.640Z"
   },
   {
    "duration": 46,
    "start_time": "2022-04-26T17:05:08.787Z"
   },
   {
    "duration": 85,
    "start_time": "2022-04-26T17:05:08.837Z"
   },
   {
    "duration": 102,
    "start_time": "2022-04-26T17:05:08.924Z"
   },
   {
    "duration": 25,
    "start_time": "2022-04-26T17:05:09.028Z"
   },
   {
    "duration": 54,
    "start_time": "2022-04-26T17:05:09.160Z"
   },
   {
    "duration": 14,
    "start_time": "2022-04-26T17:09:09.221Z"
   },
   {
    "duration": 435,
    "start_time": "2022-04-26T17:42:24.340Z"
   },
   {
    "duration": 45,
    "start_time": "2022-04-27T18:06:58.392Z"
   },
   {
    "duration": 1321,
    "start_time": "2022-04-27T18:07:07.625Z"
   },
   {
    "duration": 3,
    "start_time": "2022-04-27T18:07:08.948Z"
   },
   {
    "duration": 11,
    "start_time": "2022-04-27T18:07:08.952Z"
   },
   {
    "duration": 43,
    "start_time": "2022-04-27T18:07:08.965Z"
   },
   {
    "duration": 16,
    "start_time": "2022-04-27T18:07:09.010Z"
   },
   {
    "duration": 193,
    "start_time": "2022-04-27T18:07:09.028Z"
   },
   {
    "duration": 38,
    "start_time": "2022-04-27T18:07:09.223Z"
   },
   {
    "duration": 145,
    "start_time": "2022-04-27T18:07:09.263Z"
   },
   {
    "duration": 161,
    "start_time": "2022-04-27T18:07:09.411Z"
   },
   {
    "duration": 27,
    "start_time": "2022-04-27T18:07:09.575Z"
   },
   {
    "duration": 21,
    "start_time": "2022-04-27T18:07:11.473Z"
   },
   {
    "duration": 121,
    "start_time": "2022-04-28T09:17:41.987Z"
   },
   {
    "duration": 9,
    "start_time": "2022-04-28T09:17:46.477Z"
   },
   {
    "duration": 0,
    "start_time": "2022-04-28T09:17:46.489Z"
   },
   {
    "duration": 10,
    "start_time": "2022-04-28T09:17:46.493Z"
   },
   {
    "duration": 0,
    "start_time": "2022-04-28T09:17:46.505Z"
   },
   {
    "duration": 0,
    "start_time": "2022-04-28T09:17:46.507Z"
   },
   {
    "duration": 0,
    "start_time": "2022-04-28T09:17:46.509Z"
   },
   {
    "duration": 8,
    "start_time": "2022-04-28T09:17:46.513Z"
   },
   {
    "duration": 0,
    "start_time": "2022-04-28T09:17:46.523Z"
   },
   {
    "duration": 0,
    "start_time": "2022-04-28T09:17:46.525Z"
   },
   {
    "duration": 0,
    "start_time": "2022-04-28T09:17:46.582Z"
   },
   {
    "duration": 1,
    "start_time": "2022-04-28T09:17:46.583Z"
   },
   {
    "duration": 10,
    "start_time": "2022-04-28T09:17:46.586Z"
   },
   {
    "duration": 11,
    "start_time": "2022-04-28T09:17:46.605Z"
   },
   {
    "duration": 0,
    "start_time": "2022-04-28T09:17:46.619Z"
   },
   {
    "duration": 0,
    "start_time": "2022-04-28T09:17:46.621Z"
   },
   {
    "duration": 0,
    "start_time": "2022-04-28T09:17:46.622Z"
   },
   {
    "duration": 11,
    "start_time": "2022-04-28T09:17:46.625Z"
   },
   {
    "duration": 0,
    "start_time": "2022-04-28T09:17:46.683Z"
   },
   {
    "duration": 0,
    "start_time": "2022-04-28T09:17:46.684Z"
   },
   {
    "duration": 0,
    "start_time": "2022-04-28T09:17:46.686Z"
   },
   {
    "duration": 0,
    "start_time": "2022-04-28T09:17:46.687Z"
   },
   {
    "duration": 8,
    "start_time": "2022-04-28T09:17:46.690Z"
   },
   {
    "duration": 0,
    "start_time": "2022-04-28T09:17:46.701Z"
   },
   {
    "duration": 0,
    "start_time": "2022-04-28T09:17:46.702Z"
   },
   {
    "duration": 0,
    "start_time": "2022-04-28T09:17:46.704Z"
   },
   {
    "duration": 0,
    "start_time": "2022-04-28T09:17:46.706Z"
   },
   {
    "duration": 0,
    "start_time": "2022-04-28T09:17:46.708Z"
   },
   {
    "duration": 0,
    "start_time": "2022-04-28T09:17:46.711Z"
   },
   {
    "duration": 0,
    "start_time": "2022-04-28T09:17:46.713Z"
   },
   {
    "duration": 0,
    "start_time": "2022-04-28T09:17:46.716Z"
   },
   {
    "duration": 0,
    "start_time": "2022-04-28T09:17:46.717Z"
   },
   {
    "duration": 0,
    "start_time": "2022-04-28T09:17:46.783Z"
   },
   {
    "duration": 0,
    "start_time": "2022-04-28T09:17:46.785Z"
   },
   {
    "duration": 0,
    "start_time": "2022-04-28T09:17:46.787Z"
   },
   {
    "duration": 0,
    "start_time": "2022-04-28T09:17:46.789Z"
   },
   {
    "duration": 10,
    "start_time": "2022-04-28T09:17:46.794Z"
   },
   {
    "duration": 0,
    "start_time": "2022-04-28T09:17:46.808Z"
   },
   {
    "duration": 0,
    "start_time": "2022-04-28T09:17:46.810Z"
   },
   {
    "duration": 0,
    "start_time": "2022-04-28T09:17:46.812Z"
   },
   {
    "duration": 0,
    "start_time": "2022-04-28T09:17:46.814Z"
   },
   {
    "duration": 0,
    "start_time": "2022-04-28T09:17:46.816Z"
   },
   {
    "duration": 0,
    "start_time": "2022-04-28T09:17:46.818Z"
   },
   {
    "duration": 0,
    "start_time": "2022-04-28T09:17:46.820Z"
   },
   {
    "duration": 0,
    "start_time": "2022-04-28T09:17:46.882Z"
   },
   {
    "duration": 0,
    "start_time": "2022-04-28T09:17:46.885Z"
   },
   {
    "duration": 0,
    "start_time": "2022-04-28T09:17:46.887Z"
   },
   {
    "duration": 0,
    "start_time": "2022-04-28T09:17:46.888Z"
   },
   {
    "duration": 0,
    "start_time": "2022-04-28T09:17:46.890Z"
   },
   {
    "duration": 0,
    "start_time": "2022-04-28T09:17:46.893Z"
   },
   {
    "duration": 0,
    "start_time": "2022-04-28T09:17:46.895Z"
   },
   {
    "duration": 0,
    "start_time": "2022-04-28T09:17:46.897Z"
   },
   {
    "duration": 0,
    "start_time": "2022-04-28T09:17:46.898Z"
   },
   {
    "duration": 0,
    "start_time": "2022-04-28T09:17:46.900Z"
   },
   {
    "duration": 0,
    "start_time": "2022-04-28T09:17:46.902Z"
   },
   {
    "duration": 0,
    "start_time": "2022-04-28T09:17:46.904Z"
   },
   {
    "duration": 1,
    "start_time": "2022-04-28T09:17:46.905Z"
   },
   {
    "duration": 0,
    "start_time": "2022-04-28T09:17:46.907Z"
   },
   {
    "duration": 0,
    "start_time": "2022-04-28T09:17:46.909Z"
   },
   {
    "duration": 0,
    "start_time": "2022-04-28T09:17:46.910Z"
   },
   {
    "duration": 0,
    "start_time": "2022-04-28T09:17:46.913Z"
   },
   {
    "duration": 0,
    "start_time": "2022-04-28T09:17:46.914Z"
   },
   {
    "duration": 0,
    "start_time": "2022-04-28T09:17:46.916Z"
   },
   {
    "duration": 2161,
    "start_time": "2022-04-28T09:18:13.251Z"
   },
   {
    "duration": 4,
    "start_time": "2022-04-28T09:18:15.415Z"
   },
   {
    "duration": 9,
    "start_time": "2022-04-28T09:18:15.421Z"
   },
   {
    "duration": 93,
    "start_time": "2022-04-28T09:18:15.433Z"
   },
   {
    "duration": 32,
    "start_time": "2022-04-28T09:18:15.528Z"
   },
   {
    "duration": 265,
    "start_time": "2022-04-28T09:18:15.563Z"
   },
   {
    "duration": 34,
    "start_time": "2022-04-28T09:18:15.831Z"
   },
   {
    "duration": 163,
    "start_time": "2022-04-28T09:18:15.882Z"
   },
   {
    "duration": 1861,
    "start_time": "2022-04-28T09:18:16.048Z"
   },
   {
    "duration": 34,
    "start_time": "2022-04-28T09:18:17.913Z"
   },
   {
    "duration": 11,
    "start_time": "2022-04-28T09:18:22.598Z"
   },
   {
    "duration": 8,
    "start_time": "2022-04-28T09:30:07.614Z"
   },
   {
    "duration": 0,
    "start_time": "2022-04-28T09:30:55.278Z"
   },
   {
    "duration": 8,
    "start_time": "2022-04-28T09:30:56.533Z"
   },
   {
    "duration": 2017,
    "start_time": "2022-04-28T09:31:54.473Z"
   },
   {
    "duration": 7,
    "start_time": "2022-04-28T09:31:57.646Z"
   },
   {
    "duration": 13,
    "start_time": "2022-04-28T09:32:39.058Z"
   },
   {
    "duration": 31,
    "start_time": "2022-04-28T09:32:53.382Z"
   },
   {
    "duration": 8,
    "start_time": "2022-04-28T09:33:25.927Z"
   },
   {
    "duration": 8,
    "start_time": "2022-04-28T09:34:54.930Z"
   },
   {
    "duration": 9,
    "start_time": "2022-04-28T09:35:11.504Z"
   },
   {
    "duration": 10,
    "start_time": "2022-04-28T09:35:20.609Z"
   },
   {
    "duration": 8,
    "start_time": "2022-04-28T09:36:15.932Z"
   },
   {
    "duration": 8,
    "start_time": "2022-04-28T09:36:55.013Z"
   },
   {
    "duration": 26,
    "start_time": "2022-04-28T09:38:02.863Z"
   },
   {
    "duration": 10,
    "start_time": "2022-04-28T09:38:12.609Z"
   },
   {
    "duration": 4,
    "start_time": "2022-04-28T09:38:22.243Z"
   },
   {
    "duration": 6,
    "start_time": "2022-04-28T09:38:22.250Z"
   },
   {
    "duration": 6,
    "start_time": "2022-04-28T09:38:22.258Z"
   },
   {
    "duration": 43,
    "start_time": "2022-04-28T09:38:22.267Z"
   },
   {
    "duration": 21,
    "start_time": "2022-04-28T09:38:22.312Z"
   },
   {
    "duration": 246,
    "start_time": "2022-04-28T09:38:22.336Z"
   },
   {
    "duration": 32,
    "start_time": "2022-04-28T09:38:22.584Z"
   },
   {
    "duration": 149,
    "start_time": "2022-04-28T09:38:22.618Z"
   },
   {
    "duration": 220,
    "start_time": "2022-04-28T09:38:22.769Z"
   },
   {
    "duration": 34,
    "start_time": "2022-04-28T09:38:22.991Z"
   },
   {
    "duration": 5,
    "start_time": "2022-04-28T09:38:23.028Z"
   },
   {
    "duration": 54,
    "start_time": "2022-04-28T09:38:23.035Z"
   },
   {
    "duration": 25,
    "start_time": "2022-04-28T09:38:23.091Z"
   },
   {
    "duration": 11,
    "start_time": "2022-04-28T09:38:23.119Z"
   },
   {
    "duration": 5,
    "start_time": "2022-04-28T09:38:23.133Z"
   },
   {
    "duration": 10,
    "start_time": "2022-04-28T09:38:23.140Z"
   },
   {
    "duration": 37,
    "start_time": "2022-04-28T09:38:27.546Z"
   },
   {
    "duration": 5,
    "start_time": "2022-04-28T09:38:36.384Z"
   },
   {
    "duration": 6,
    "start_time": "2022-04-28T09:38:36.391Z"
   },
   {
    "duration": 5,
    "start_time": "2022-04-28T09:38:36.400Z"
   },
   {
    "duration": 45,
    "start_time": "2022-04-28T09:38:36.407Z"
   },
   {
    "duration": 37,
    "start_time": "2022-04-28T09:38:36.454Z"
   },
   {
    "duration": 350,
    "start_time": "2022-04-28T09:38:36.493Z"
   },
   {
    "duration": 40,
    "start_time": "2022-04-28T09:38:36.845Z"
   },
   {
    "duration": 141,
    "start_time": "2022-04-28T09:38:36.887Z"
   },
   {
    "duration": 197,
    "start_time": "2022-04-28T09:38:37.032Z"
   },
   {
    "duration": 33,
    "start_time": "2022-04-28T09:38:37.231Z"
   },
   {
    "duration": 5,
    "start_time": "2022-04-28T09:38:37.281Z"
   },
   {
    "duration": 27,
    "start_time": "2022-04-28T09:38:37.288Z"
   },
   {
    "duration": 27,
    "start_time": "2022-04-28T09:38:37.318Z"
   },
   {
    "duration": 35,
    "start_time": "2022-04-28T09:38:37.347Z"
   },
   {
    "duration": 5,
    "start_time": "2022-04-28T09:38:37.384Z"
   },
   {
    "duration": 14,
    "start_time": "2022-04-28T09:38:37.392Z"
   },
   {
    "duration": 37,
    "start_time": "2022-04-28T09:38:37.409Z"
   },
   {
    "duration": 46,
    "start_time": "2022-04-28T09:38:37.448Z"
   },
   {
    "duration": 27,
    "start_time": "2022-04-28T09:38:37.496Z"
   },
   {
    "duration": 4,
    "start_time": "2022-04-28T09:38:37.525Z"
   },
   {
    "duration": 141,
    "start_time": "2022-04-28T09:38:37.533Z"
   },
   {
    "duration": 246,
    "start_time": "2022-04-28T09:38:37.682Z"
   },
   {
    "duration": 5,
    "start_time": "2022-04-28T09:56:35.313Z"
   },
   {
    "duration": 13,
    "start_time": "2022-04-28T09:56:35.322Z"
   },
   {
    "duration": 10,
    "start_time": "2022-04-28T09:56:35.338Z"
   },
   {
    "duration": 59,
    "start_time": "2022-04-28T09:56:35.351Z"
   },
   {
    "duration": 20,
    "start_time": "2022-04-28T09:56:35.413Z"
   },
   {
    "duration": 235,
    "start_time": "2022-04-28T09:56:35.436Z"
   },
   {
    "duration": 37,
    "start_time": "2022-04-28T09:56:35.674Z"
   },
   {
    "duration": 241,
    "start_time": "2022-04-28T09:56:35.713Z"
   },
   {
    "duration": 326,
    "start_time": "2022-04-28T09:56:35.957Z"
   },
   {
    "duration": 49,
    "start_time": "2022-04-28T09:56:36.286Z"
   },
   {
    "duration": 62,
    "start_time": "2022-04-28T09:56:36.343Z"
   },
   {
    "duration": 13,
    "start_time": "2022-04-28T09:56:36.408Z"
   },
   {
    "duration": 7,
    "start_time": "2022-04-28T09:56:36.424Z"
   },
   {
    "duration": 12,
    "start_time": "2022-04-28T09:56:36.434Z"
   },
   {
    "duration": 48,
    "start_time": "2022-04-28T09:56:36.481Z"
   },
   {
    "duration": 56,
    "start_time": "2022-04-28T09:56:36.532Z"
   },
   {
    "duration": 36,
    "start_time": "2022-04-28T09:56:36.591Z"
   },
   {
    "duration": 5,
    "start_time": "2022-04-28T09:56:36.629Z"
   },
   {
    "duration": 138,
    "start_time": "2022-04-28T09:56:36.636Z"
   },
   {
    "duration": 285,
    "start_time": "2022-04-28T09:56:36.776Z"
   },
   {
    "duration": 22,
    "start_time": "2022-04-28T09:56:37.064Z"
   },
   {
    "duration": 11,
    "start_time": "2022-04-28T09:56:37.089Z"
   },
   {
    "duration": 181,
    "start_time": "2022-04-28T09:56:37.102Z"
   },
   {
    "duration": 38,
    "start_time": "2022-04-28T09:56:37.286Z"
   },
   {
    "duration": 113,
    "start_time": "2022-04-28T09:56:37.327Z"
   },
   {
    "duration": 76,
    "start_time": "2022-04-28T09:56:37.442Z"
   },
   {
    "duration": 69,
    "start_time": "2022-04-28T09:56:37.521Z"
   },
   {
    "duration": 17,
    "start_time": "2022-04-28T09:56:37.592Z"
   },
   {
    "duration": 92,
    "start_time": "2022-04-28T09:56:37.615Z"
   },
   {
    "duration": 5,
    "start_time": "2022-04-28T09:56:52.506Z"
   },
   {
    "duration": 11,
    "start_time": "2022-04-28T09:56:52.515Z"
   },
   {
    "duration": 7,
    "start_time": "2022-04-28T09:56:52.528Z"
   },
   {
    "duration": 56,
    "start_time": "2022-04-28T09:56:52.538Z"
   },
   {
    "duration": 26,
    "start_time": "2022-04-28T09:56:52.599Z"
   },
   {
    "duration": 364,
    "start_time": "2022-04-28T09:56:52.627Z"
   },
   {
    "duration": 45,
    "start_time": "2022-04-28T09:56:52.994Z"
   },
   {
    "duration": 160,
    "start_time": "2022-04-28T09:56:53.041Z"
   },
   {
    "duration": 200,
    "start_time": "2022-04-28T09:56:53.203Z"
   },
   {
    "duration": 34,
    "start_time": "2022-04-28T09:56:53.406Z"
   },
   {
    "duration": 45,
    "start_time": "2022-04-28T09:56:53.442Z"
   },
   {
    "duration": 12,
    "start_time": "2022-04-28T09:56:53.489Z"
   },
   {
    "duration": 4,
    "start_time": "2022-04-28T09:56:53.504Z"
   },
   {
    "duration": 9,
    "start_time": "2022-04-28T09:56:53.513Z"
   },
   {
    "duration": 73,
    "start_time": "2022-04-28T09:56:53.524Z"
   },
   {
    "duration": 23,
    "start_time": "2022-04-28T09:56:53.600Z"
   },
   {
    "duration": 31,
    "start_time": "2022-04-28T09:56:53.625Z"
   },
   {
    "duration": 5,
    "start_time": "2022-04-28T09:56:53.682Z"
   },
   {
    "duration": 186,
    "start_time": "2022-04-28T09:56:53.690Z"
   },
   {
    "duration": 279,
    "start_time": "2022-04-28T09:56:53.879Z"
   },
   {
    "duration": 22,
    "start_time": "2022-04-28T09:56:54.160Z"
   },
   {
    "duration": 11,
    "start_time": "2022-04-28T09:56:54.184Z"
   },
   {
    "duration": 137,
    "start_time": "2022-04-28T09:56:54.197Z"
   },
   {
    "duration": 51,
    "start_time": "2022-04-28T09:56:54.336Z"
   },
   {
    "duration": 115,
    "start_time": "2022-04-28T09:56:54.389Z"
   },
   {
    "duration": 78,
    "start_time": "2022-04-28T09:56:54.507Z"
   },
   {
    "duration": 51,
    "start_time": "2022-04-28T09:56:54.587Z"
   },
   {
    "duration": 14,
    "start_time": "2022-04-28T09:56:54.640Z"
   },
   {
    "duration": 55,
    "start_time": "2022-04-28T09:56:54.683Z"
   },
   {
    "duration": 67,
    "start_time": "2022-04-28T09:56:54.741Z"
   },
   {
    "duration": 28,
    "start_time": "2022-04-28T09:56:54.810Z"
   },
   {
    "duration": 4,
    "start_time": "2022-04-28T09:57:06.827Z"
   },
   {
    "duration": 10,
    "start_time": "2022-04-28T09:57:06.834Z"
   },
   {
    "duration": 9,
    "start_time": "2022-04-28T09:57:06.847Z"
   },
   {
    "duration": 49,
    "start_time": "2022-04-28T09:57:06.858Z"
   },
   {
    "duration": 20,
    "start_time": "2022-04-28T09:57:06.911Z"
   },
   {
    "duration": 253,
    "start_time": "2022-04-28T09:57:06.933Z"
   },
   {
    "duration": 34,
    "start_time": "2022-04-28T09:57:07.188Z"
   },
   {
    "duration": 149,
    "start_time": "2022-04-28T09:57:07.224Z"
   },
   {
    "duration": 195,
    "start_time": "2022-04-28T09:57:07.381Z"
   },
   {
    "duration": 35,
    "start_time": "2022-04-28T09:57:07.582Z"
   },
   {
    "duration": 26,
    "start_time": "2022-04-28T09:57:07.621Z"
   },
   {
    "duration": 32,
    "start_time": "2022-04-28T09:57:07.650Z"
   },
   {
    "duration": 4,
    "start_time": "2022-04-28T09:57:07.685Z"
   },
   {
    "duration": 12,
    "start_time": "2022-04-28T09:57:07.691Z"
   },
   {
    "duration": 42,
    "start_time": "2022-04-28T09:57:07.705Z"
   },
   {
    "duration": 49,
    "start_time": "2022-04-28T09:57:07.750Z"
   },
   {
    "duration": 36,
    "start_time": "2022-04-28T09:57:07.802Z"
   },
   {
    "duration": 5,
    "start_time": "2022-04-28T09:57:07.841Z"
   },
   {
    "duration": 144,
    "start_time": "2022-04-28T09:57:07.849Z"
   },
   {
    "duration": 263,
    "start_time": "2022-04-28T09:57:07.995Z"
   },
   {
    "duration": 21,
    "start_time": "2022-04-28T09:57:08.261Z"
   },
   {
    "duration": 8,
    "start_time": "2022-04-28T09:57:08.284Z"
   },
   {
    "duration": 120,
    "start_time": "2022-04-28T09:57:08.294Z"
   },
   {
    "duration": 35,
    "start_time": "2022-04-28T09:57:08.416Z"
   },
   {
    "duration": 108,
    "start_time": "2022-04-28T09:57:08.453Z"
   },
   {
    "duration": 78,
    "start_time": "2022-04-28T09:57:08.563Z"
   },
   {
    "duration": 72,
    "start_time": "2022-04-28T09:57:08.643Z"
   },
   {
    "duration": 13,
    "start_time": "2022-04-28T09:57:08.718Z"
   },
   {
    "duration": 99,
    "start_time": "2022-04-28T09:57:08.736Z"
   },
   {
    "duration": 50,
    "start_time": "2022-04-28T09:57:08.838Z"
   },
   {
    "duration": 29,
    "start_time": "2022-04-28T09:57:08.890Z"
   },
   {
    "duration": 29,
    "start_time": "2022-04-28T09:57:08.921Z"
   },
   {
    "duration": 58,
    "start_time": "2022-04-28T09:57:08.952Z"
   },
   {
    "duration": 26,
    "start_time": "2022-04-28T09:57:09.012Z"
   },
   {
    "duration": 43,
    "start_time": "2022-04-28T09:57:09.040Z"
   },
   {
    "duration": 9,
    "start_time": "2022-04-28T09:57:09.085Z"
   },
   {
    "duration": 41,
    "start_time": "2022-04-28T09:57:09.097Z"
   },
   {
    "duration": 10,
    "start_time": "2022-04-28T10:01:52.891Z"
   },
   {
    "duration": 3,
    "start_time": "2022-04-28T10:02:10.315Z"
   },
   {
    "duration": 13,
    "start_time": "2022-04-28T10:04:14.842Z"
   },
   {
    "duration": 165,
    "start_time": "2022-04-28T10:14:09.621Z"
   },
   {
    "duration": 194,
    "start_time": "2022-04-28T10:16:12.062Z"
   },
   {
    "duration": 25,
    "start_time": "2022-04-28T10:16:30.260Z"
   },
   {
    "duration": 5,
    "start_time": "2022-04-28T10:16:35.019Z"
   },
   {
    "duration": 7,
    "start_time": "2022-04-28T10:16:35.027Z"
   },
   {
    "duration": 8,
    "start_time": "2022-04-28T10:16:35.036Z"
   },
   {
    "duration": 49,
    "start_time": "2022-04-28T10:16:35.047Z"
   },
   {
    "duration": 21,
    "start_time": "2022-04-28T10:16:35.098Z"
   },
   {
    "duration": 280,
    "start_time": "2022-04-28T10:16:35.122Z"
   },
   {
    "duration": 35,
    "start_time": "2022-04-28T10:16:35.404Z"
   },
   {
    "duration": 154,
    "start_time": "2022-04-28T10:16:35.441Z"
   },
   {
    "duration": 190,
    "start_time": "2022-04-28T10:16:35.600Z"
   },
   {
    "duration": 33,
    "start_time": "2022-04-28T10:16:35.793Z"
   },
   {
    "duration": 25,
    "start_time": "2022-04-28T10:16:35.828Z"
   },
   {
    "duration": 33,
    "start_time": "2022-04-28T10:16:35.856Z"
   },
   {
    "duration": 4,
    "start_time": "2022-04-28T10:16:35.891Z"
   },
   {
    "duration": 12,
    "start_time": "2022-04-28T10:16:35.897Z"
   },
   {
    "duration": 75,
    "start_time": "2022-04-28T10:16:35.911Z"
   },
   {
    "duration": 23,
    "start_time": "2022-04-28T10:16:35.988Z"
   },
   {
    "duration": 28,
    "start_time": "2022-04-28T10:16:36.014Z"
   },
   {
    "duration": 42,
    "start_time": "2022-04-28T10:16:36.044Z"
   },
   {
    "duration": 119,
    "start_time": "2022-04-28T10:16:36.088Z"
   },
   {
    "duration": 284,
    "start_time": "2022-04-28T10:16:36.210Z"
   },
   {
    "duration": 8,
    "start_time": "2022-04-28T10:16:36.496Z"
   },
   {
    "duration": 9,
    "start_time": "2022-04-28T10:16:36.506Z"
   },
   {
    "duration": 135,
    "start_time": "2022-04-28T10:16:36.517Z"
   },
   {
    "duration": 46,
    "start_time": "2022-04-28T10:16:36.657Z"
   },
   {
    "duration": 110,
    "start_time": "2022-04-28T10:16:36.705Z"
   },
   {
    "duration": 82,
    "start_time": "2022-04-28T10:16:36.817Z"
   },
   {
    "duration": 51,
    "start_time": "2022-04-28T10:16:36.901Z"
   },
   {
    "duration": 28,
    "start_time": "2022-04-28T10:16:36.955Z"
   },
   {
    "duration": 54,
    "start_time": "2022-04-28T10:16:36.986Z"
   },
   {
    "duration": 67,
    "start_time": "2022-04-28T10:16:37.042Z"
   },
   {
    "duration": 43,
    "start_time": "2022-04-28T10:16:37.111Z"
   },
   {
    "duration": 61,
    "start_time": "2022-04-28T10:16:37.157Z"
   },
   {
    "duration": 63,
    "start_time": "2022-04-28T10:16:37.221Z"
   },
   {
    "duration": 36,
    "start_time": "2022-04-28T10:16:37.287Z"
   },
   {
    "duration": 12,
    "start_time": "2022-04-28T10:16:37.325Z"
   },
   {
    "duration": 43,
    "start_time": "2022-04-28T10:16:37.339Z"
   },
   {
    "duration": 3,
    "start_time": "2022-04-28T10:16:37.384Z"
   },
   {
    "duration": 16,
    "start_time": "2022-04-28T10:16:37.390Z"
   },
   {
    "duration": 18,
    "start_time": "2022-04-28T10:16:37.408Z"
   },
   {
    "duration": 58,
    "start_time": "2022-04-28T10:16:37.429Z"
   },
   {
    "duration": 7,
    "start_time": "2022-04-28T10:16:37.490Z"
   },
   {
    "duration": 202,
    "start_time": "2022-04-28T10:16:37.499Z"
   },
   {
    "duration": 28,
    "start_time": "2022-04-28T10:16:37.704Z"
   },
   {
    "duration": 22,
    "start_time": "2022-04-28T10:16:40.493Z"
   },
   {
    "duration": 21,
    "start_time": "2022-04-28T10:16:56.859Z"
   },
   {
    "duration": 243,
    "start_time": "2022-04-28T10:16:56.883Z"
   },
   {
    "duration": 226,
    "start_time": "2022-04-28T10:16:59.546Z"
   },
   {
    "duration": 420,
    "start_time": "2022-04-28T10:17:06.454Z"
   },
   {
    "duration": 5,
    "start_time": "2022-04-28T10:20:34.909Z"
   },
   {
    "duration": 7,
    "start_time": "2022-04-28T10:20:34.918Z"
   },
   {
    "duration": 10,
    "start_time": "2022-04-28T10:20:34.927Z"
   },
   {
    "duration": 50,
    "start_time": "2022-04-28T10:20:34.941Z"
   },
   {
    "duration": 24,
    "start_time": "2022-04-28T10:20:34.994Z"
   },
   {
    "duration": 393,
    "start_time": "2022-04-28T10:20:35.021Z"
   },
   {
    "duration": 32,
    "start_time": "2022-04-28T10:20:35.416Z"
   },
   {
    "duration": 151,
    "start_time": "2022-04-28T10:20:35.450Z"
   },
   {
    "duration": 199,
    "start_time": "2022-04-28T10:20:35.605Z"
   },
   {
    "duration": 35,
    "start_time": "2022-04-28T10:20:35.807Z"
   },
   {
    "duration": 51,
    "start_time": "2022-04-28T10:20:35.845Z"
   },
   {
    "duration": 16,
    "start_time": "2022-04-28T10:20:35.898Z"
   },
   {
    "duration": 26,
    "start_time": "2022-04-28T10:20:35.917Z"
   },
   {
    "duration": 14,
    "start_time": "2022-04-28T10:20:35.945Z"
   },
   {
    "duration": 71,
    "start_time": "2022-04-28T10:20:35.961Z"
   },
   {
    "duration": 26,
    "start_time": "2022-04-28T10:20:36.035Z"
   },
   {
    "duration": 30,
    "start_time": "2022-04-28T10:20:36.081Z"
   },
   {
    "duration": 5,
    "start_time": "2022-04-28T10:20:36.113Z"
   },
   {
    "duration": 134,
    "start_time": "2022-04-28T10:20:36.120Z"
   },
   {
    "duration": 267,
    "start_time": "2022-04-28T10:20:36.256Z"
   },
   {
    "duration": 9,
    "start_time": "2022-04-28T10:20:36.525Z"
   },
   {
    "duration": 9,
    "start_time": "2022-04-28T10:20:36.536Z"
   },
   {
    "duration": 140,
    "start_time": "2022-04-28T10:20:36.547Z"
   },
   {
    "duration": 35,
    "start_time": "2022-04-28T10:20:36.693Z"
   },
   {
    "duration": 111,
    "start_time": "2022-04-28T10:20:36.730Z"
   },
   {
    "duration": 87,
    "start_time": "2022-04-28T10:20:36.844Z"
   },
   {
    "duration": 94,
    "start_time": "2022-04-28T10:20:36.934Z"
   },
   {
    "duration": 17,
    "start_time": "2022-04-28T10:20:37.031Z"
   },
   {
    "duration": 72,
    "start_time": "2022-04-28T10:20:37.050Z"
   },
   {
    "duration": 57,
    "start_time": "2022-04-28T10:20:37.125Z"
   },
   {
    "duration": 29,
    "start_time": "2022-04-28T10:20:37.184Z"
   },
   {
    "duration": 29,
    "start_time": "2022-04-28T10:20:37.216Z"
   },
   {
    "duration": 62,
    "start_time": "2022-04-28T10:20:37.248Z"
   },
   {
    "duration": 25,
    "start_time": "2022-04-28T10:20:37.312Z"
   },
   {
    "duration": 44,
    "start_time": "2022-04-28T10:20:37.339Z"
   },
   {
    "duration": 13,
    "start_time": "2022-04-28T10:20:37.386Z"
   },
   {
    "duration": 9,
    "start_time": "2022-04-28T10:20:37.403Z"
   },
   {
    "duration": 25,
    "start_time": "2022-04-28T10:20:37.414Z"
   },
   {
    "duration": 56,
    "start_time": "2022-04-28T10:20:37.441Z"
   },
   {
    "duration": 29,
    "start_time": "2022-04-28T10:20:37.499Z"
   },
   {
    "duration": 14,
    "start_time": "2022-04-28T10:20:37.530Z"
   },
   {
    "duration": 241,
    "start_time": "2022-04-28T10:20:37.546Z"
   },
   {
    "duration": 28,
    "start_time": "2022-04-28T10:20:37.789Z"
   },
   {
    "duration": 23,
    "start_time": "2022-04-28T10:20:37.819Z"
   },
   {
    "duration": 47,
    "start_time": "2022-04-28T10:20:37.844Z"
   },
   {
    "duration": 19,
    "start_time": "2022-04-28T10:20:37.894Z"
   },
   {
    "duration": 268,
    "start_time": "2022-04-28T10:20:37.915Z"
   },
   {
    "duration": 248,
    "start_time": "2022-04-28T10:20:38.186Z"
   },
   {
    "duration": 523,
    "start_time": "2022-04-28T10:20:38.436Z"
   },
   {
    "duration": 34,
    "start_time": "2022-04-28T10:20:38.961Z"
   },
   {
    "duration": 263,
    "start_time": "2022-04-28T10:20:38.998Z"
   },
   {
    "duration": 265,
    "start_time": "2022-04-28T10:20:39.264Z"
   },
   {
    "duration": 121,
    "start_time": "2022-04-28T10:23:01.513Z"
   },
   {
    "duration": 116,
    "start_time": "2022-04-28T10:23:10.825Z"
   },
   {
    "duration": 26,
    "start_time": "2022-04-28T10:23:19.353Z"
   },
   {
    "duration": 21,
    "start_time": "2022-04-28T10:24:00.160Z"
   },
   {
    "duration": 10,
    "start_time": "2022-04-28T10:24:24.153Z"
   },
   {
    "duration": 18,
    "start_time": "2022-04-28T10:24:31.385Z"
   },
   {
    "duration": 11,
    "start_time": "2022-04-28T10:25:01.421Z"
   },
   {
    "duration": 11,
    "start_time": "2022-04-28T10:25:07.067Z"
   },
   {
    "duration": 45,
    "start_time": "2022-04-28T10:25:48.048Z"
   },
   {
    "duration": 15,
    "start_time": "2022-04-28T10:26:12.059Z"
   },
   {
    "duration": 15,
    "start_time": "2022-04-28T10:26:41.250Z"
   },
   {
    "duration": 13,
    "start_time": "2022-04-28T10:29:24.677Z"
   },
   {
    "duration": 11,
    "start_time": "2022-04-28T10:29:39.088Z"
   },
   {
    "duration": 5,
    "start_time": "2022-04-28T10:44:38.001Z"
   },
   {
    "duration": 8,
    "start_time": "2022-04-28T10:44:38.008Z"
   },
   {
    "duration": 9,
    "start_time": "2022-04-28T10:44:38.018Z"
   },
   {
    "duration": 282,
    "start_time": "2022-04-28T10:44:38.030Z"
   },
   {
    "duration": 19,
    "start_time": "2022-04-28T10:44:38.314Z"
   },
   {
    "duration": 228,
    "start_time": "2022-04-28T10:44:38.335Z"
   },
   {
    "duration": 42,
    "start_time": "2022-04-28T10:44:38.565Z"
   },
   {
    "duration": 152,
    "start_time": "2022-04-28T10:44:38.609Z"
   },
   {
    "duration": 196,
    "start_time": "2022-04-28T10:44:38.764Z"
   },
   {
    "duration": 46,
    "start_time": "2022-04-28T10:44:38.963Z"
   },
   {
    "duration": 33,
    "start_time": "2022-04-28T10:44:39.012Z"
   },
   {
    "duration": 40,
    "start_time": "2022-04-28T10:44:39.048Z"
   },
   {
    "duration": 11,
    "start_time": "2022-04-28T10:44:39.091Z"
   },
   {
    "duration": 13,
    "start_time": "2022-04-28T10:44:39.104Z"
   },
   {
    "duration": 63,
    "start_time": "2022-04-28T10:44:39.119Z"
   },
   {
    "duration": 30,
    "start_time": "2022-04-28T10:44:39.185Z"
   },
   {
    "duration": 30,
    "start_time": "2022-04-28T10:44:39.218Z"
   },
   {
    "duration": 6,
    "start_time": "2022-04-28T10:44:39.283Z"
   },
   {
    "duration": 129,
    "start_time": "2022-04-28T10:44:39.293Z"
   },
   {
    "duration": 374,
    "start_time": "2022-04-28T10:44:39.425Z"
   },
   {
    "duration": 11,
    "start_time": "2022-04-28T10:44:39.801Z"
   },
   {
    "duration": 12,
    "start_time": "2022-04-28T10:44:39.815Z"
   },
   {
    "duration": 143,
    "start_time": "2022-04-28T10:44:39.829Z"
   },
   {
    "duration": 42,
    "start_time": "2022-04-28T10:44:39.982Z"
   },
   {
    "duration": 119,
    "start_time": "2022-04-28T10:44:40.026Z"
   },
   {
    "duration": 84,
    "start_time": "2022-04-28T10:44:40.148Z"
   },
   {
    "duration": 66,
    "start_time": "2022-04-28T10:44:40.235Z"
   },
   {
    "duration": 12,
    "start_time": "2022-04-28T10:44:40.303Z"
   },
   {
    "duration": 69,
    "start_time": "2022-04-28T10:44:40.317Z"
   },
   {
    "duration": 37,
    "start_time": "2022-04-28T10:44:40.388Z"
   },
   {
    "duration": 55,
    "start_time": "2022-04-28T10:44:40.427Z"
   },
   {
    "duration": 29,
    "start_time": "2022-04-28T10:44:40.484Z"
   },
   {
    "duration": 33,
    "start_time": "2022-04-28T10:44:40.515Z"
   },
   {
    "duration": 54,
    "start_time": "2022-04-28T10:44:40.550Z"
   },
   {
    "duration": 14,
    "start_time": "2022-04-28T10:44:40.606Z"
   },
   {
    "duration": 11,
    "start_time": "2022-04-28T10:44:40.622Z"
   },
   {
    "duration": 11,
    "start_time": "2022-04-28T10:44:40.636Z"
   },
   {
    "duration": 45,
    "start_time": "2022-04-28T10:44:40.650Z"
   },
   {
    "duration": 18,
    "start_time": "2022-04-28T10:44:40.698Z"
   },
   {
    "duration": 25,
    "start_time": "2022-04-28T10:44:40.719Z"
   },
   {
    "duration": 36,
    "start_time": "2022-04-28T10:44:40.747Z"
   },
   {
    "duration": 200,
    "start_time": "2022-04-28T10:44:40.786Z"
   },
   {
    "duration": 42,
    "start_time": "2022-04-28T10:44:40.989Z"
   },
   {
    "duration": 21,
    "start_time": "2022-04-28T10:44:41.033Z"
   },
   {
    "duration": 41,
    "start_time": "2022-04-28T10:44:41.055Z"
   },
   {
    "duration": 20,
    "start_time": "2022-04-28T10:44:41.098Z"
   },
   {
    "duration": 258,
    "start_time": "2022-04-28T10:44:41.120Z"
   },
   {
    "duration": 237,
    "start_time": "2022-04-28T10:44:41.381Z"
   },
   {
    "duration": 421,
    "start_time": "2022-04-28T10:44:41.620Z"
   },
   {
    "duration": 21,
    "start_time": "2022-04-28T10:44:42.043Z"
   },
   {
    "duration": 243,
    "start_time": "2022-04-28T10:44:42.081Z"
   },
   {
    "duration": 239,
    "start_time": "2022-04-28T10:44:42.327Z"
   },
   {
    "duration": 144,
    "start_time": "2022-04-28T10:44:42.568Z"
   },
   {
    "duration": 0,
    "start_time": "2022-04-28T10:44:42.714Z"
   },
   {
    "duration": 0,
    "start_time": "2022-04-28T10:44:42.715Z"
   },
   {
    "duration": 0,
    "start_time": "2022-04-28T10:44:42.717Z"
   },
   {
    "duration": 0,
    "start_time": "2022-04-28T10:44:42.718Z"
   },
   {
    "duration": 0,
    "start_time": "2022-04-28T10:44:42.719Z"
   },
   {
    "duration": 47,
    "start_time": "2022-04-28T10:44:47.226Z"
   },
   {
    "duration": 26,
    "start_time": "2022-04-28T10:44:50.165Z"
   },
   {
    "duration": 158,
    "start_time": "2022-04-28T10:45:03.888Z"
   },
   {
    "duration": 5,
    "start_time": "2022-04-28T10:45:32.438Z"
   },
   {
    "duration": 6,
    "start_time": "2022-04-28T10:45:32.446Z"
   },
   {
    "duration": 12,
    "start_time": "2022-04-28T10:45:32.454Z"
   },
   {
    "duration": 47,
    "start_time": "2022-04-28T10:45:32.469Z"
   },
   {
    "duration": 18,
    "start_time": "2022-04-28T10:45:32.519Z"
   },
   {
    "duration": 259,
    "start_time": "2022-04-28T10:45:32.539Z"
   },
   {
    "duration": 32,
    "start_time": "2022-04-28T10:45:32.800Z"
   },
   {
    "duration": 156,
    "start_time": "2022-04-28T10:45:32.834Z"
   },
   {
    "duration": 193,
    "start_time": "2022-04-28T10:45:32.993Z"
   },
   {
    "duration": 34,
    "start_time": "2022-04-28T10:45:33.188Z"
   },
   {
    "duration": 25,
    "start_time": "2022-04-28T10:45:33.224Z"
   },
   {
    "duration": 31,
    "start_time": "2022-04-28T10:45:33.251Z"
   },
   {
    "duration": 5,
    "start_time": "2022-04-28T10:45:33.287Z"
   },
   {
    "duration": 17,
    "start_time": "2022-04-28T10:45:33.294Z"
   },
   {
    "duration": 37,
    "start_time": "2022-04-28T10:45:33.313Z"
   },
   {
    "duration": 22,
    "start_time": "2022-04-28T10:45:33.381Z"
   },
   {
    "duration": 27,
    "start_time": "2022-04-28T10:45:33.405Z"
   },
   {
    "duration": 4,
    "start_time": "2022-04-28T10:45:33.434Z"
   },
   {
    "duration": 143,
    "start_time": "2022-04-28T10:45:33.441Z"
   },
   {
    "duration": 284,
    "start_time": "2022-04-28T10:45:33.586Z"
   },
   {
    "duration": 14,
    "start_time": "2022-04-28T10:45:33.872Z"
   },
   {
    "duration": 9,
    "start_time": "2022-04-28T10:45:33.888Z"
   },
   {
    "duration": 137,
    "start_time": "2022-04-28T10:45:33.899Z"
   },
   {
    "duration": 53,
    "start_time": "2022-04-28T10:45:34.038Z"
   },
   {
    "duration": 104,
    "start_time": "2022-04-28T10:45:34.094Z"
   },
   {
    "duration": 65,
    "start_time": "2022-04-28T10:45:34.200Z"
   },
   {
    "duration": 68,
    "start_time": "2022-04-28T10:45:34.267Z"
   },
   {
    "duration": 12,
    "start_time": "2022-04-28T10:45:34.337Z"
   },
   {
    "duration": 80,
    "start_time": "2022-04-28T10:45:34.351Z"
   },
   {
    "duration": 59,
    "start_time": "2022-04-28T10:45:34.433Z"
   },
   {
    "duration": 29,
    "start_time": "2022-04-28T10:45:34.494Z"
   },
   {
    "duration": 29,
    "start_time": "2022-04-28T10:45:34.525Z"
   },
   {
    "duration": 33,
    "start_time": "2022-04-28T10:45:34.582Z"
   },
   {
    "duration": 24,
    "start_time": "2022-04-28T10:45:34.617Z"
   },
   {
    "duration": 43,
    "start_time": "2022-04-28T10:45:34.643Z"
   },
   {
    "duration": 11,
    "start_time": "2022-04-28T10:45:34.688Z"
   },
   {
    "duration": 4,
    "start_time": "2022-04-28T10:45:34.705Z"
   },
   {
    "duration": 18,
    "start_time": "2022-04-28T10:45:34.711Z"
   },
   {
    "duration": 51,
    "start_time": "2022-04-28T10:45:34.731Z"
   },
   {
    "duration": 25,
    "start_time": "2022-04-28T10:45:34.785Z"
   },
   {
    "duration": 7,
    "start_time": "2022-04-28T10:45:34.813Z"
   },
   {
    "duration": 213,
    "start_time": "2022-04-28T10:45:34.823Z"
   },
   {
    "duration": 47,
    "start_time": "2022-04-28T10:45:35.038Z"
   },
   {
    "duration": 23,
    "start_time": "2022-04-28T10:45:35.087Z"
   },
   {
    "duration": 16,
    "start_time": "2022-04-28T10:45:35.113Z"
   },
   {
    "duration": 62,
    "start_time": "2022-04-28T10:45:35.131Z"
   },
   {
    "duration": 237,
    "start_time": "2022-04-28T10:45:35.195Z"
   },
   {
    "duration": 246,
    "start_time": "2022-04-28T10:45:35.435Z"
   },
   {
    "duration": 419,
    "start_time": "2022-04-28T10:45:35.684Z"
   },
   {
    "duration": 21,
    "start_time": "2022-04-28T10:45:36.105Z"
   },
   {
    "duration": 258,
    "start_time": "2022-04-28T10:45:36.129Z"
   },
   {
    "duration": 229,
    "start_time": "2022-04-28T10:45:36.390Z"
   },
   {
    "duration": 130,
    "start_time": "2022-04-28T10:45:36.622Z"
   },
   {
    "duration": 0,
    "start_time": "2022-04-28T10:45:36.755Z"
   },
   {
    "duration": 0,
    "start_time": "2022-04-28T10:45:36.757Z"
   },
   {
    "duration": 0,
    "start_time": "2022-04-28T10:45:36.759Z"
   },
   {
    "duration": 13,
    "start_time": "2022-04-28T10:45:43.196Z"
   },
   {
    "duration": 10,
    "start_time": "2022-04-28T10:45:45.516Z"
   },
   {
    "duration": 19,
    "start_time": "2022-04-28T10:45:50.683Z"
   },
   {
    "duration": 261,
    "start_time": "2022-04-28T10:45:50.731Z"
   },
   {
    "duration": 246,
    "start_time": "2022-04-28T10:45:53.748Z"
   },
   {
    "duration": 14,
    "start_time": "2022-04-28T10:46:58.601Z"
   },
   {
    "duration": 23,
    "start_time": "2022-04-28T10:47:26.877Z"
   },
   {
    "duration": 22,
    "start_time": "2022-04-28T10:48:22.829Z"
   },
   {
    "duration": 24,
    "start_time": "2022-04-28T10:57:07.211Z"
   },
   {
    "duration": 17,
    "start_time": "2022-04-28T11:00:52.852Z"
   },
   {
    "duration": 6,
    "start_time": "2022-04-28T11:02:28.364Z"
   },
   {
    "duration": 1554,
    "start_time": "2022-04-28T14:24:03.018Z"
   },
   {
    "duration": 4,
    "start_time": "2022-04-28T14:24:04.574Z"
   },
   {
    "duration": 12,
    "start_time": "2022-04-28T14:24:04.579Z"
   },
   {
    "duration": 54,
    "start_time": "2022-04-28T14:24:04.593Z"
   },
   {
    "duration": 25,
    "start_time": "2022-04-28T14:24:04.650Z"
   },
   {
    "duration": 228,
    "start_time": "2022-04-28T14:24:04.678Z"
   },
   {
    "duration": 52,
    "start_time": "2022-04-28T14:24:04.908Z"
   },
   {
    "duration": 134,
    "start_time": "2022-04-28T14:24:04.962Z"
   },
   {
    "duration": 1891,
    "start_time": "2022-04-28T14:24:05.098Z"
   },
   {
    "duration": 31,
    "start_time": "2022-04-28T14:24:06.991Z"
   },
   {
    "duration": 237,
    "start_time": "2022-04-28T14:24:07.032Z"
   },
   {
    "duration": 10,
    "start_time": "2022-04-28T14:24:07.271Z"
   },
   {
    "duration": 10,
    "start_time": "2022-04-28T14:24:07.283Z"
   },
   {
    "duration": 21,
    "start_time": "2022-04-28T14:24:07.296Z"
   },
   {
    "duration": 52,
    "start_time": "2022-04-28T14:24:07.319Z"
   },
   {
    "duration": 18,
    "start_time": "2022-04-28T14:24:07.373Z"
   },
   {
    "duration": 23,
    "start_time": "2022-04-28T14:24:07.393Z"
   },
   {
    "duration": 4,
    "start_time": "2022-04-28T14:24:07.438Z"
   },
   {
    "duration": 96,
    "start_time": "2022-04-28T14:24:07.444Z"
   },
   {
    "duration": 245,
    "start_time": "2022-04-28T14:24:07.542Z"
   },
   {
    "duration": 9,
    "start_time": "2022-04-28T14:24:07.789Z"
   },
   {
    "duration": 7,
    "start_time": "2022-04-28T14:24:07.799Z"
   },
   {
    "duration": 112,
    "start_time": "2022-04-28T14:24:07.808Z"
   },
   {
    "duration": 46,
    "start_time": "2022-04-28T14:24:07.922Z"
   },
   {
    "duration": 100,
    "start_time": "2022-04-28T14:24:07.970Z"
   },
   {
    "duration": 49,
    "start_time": "2022-04-28T14:24:08.072Z"
   },
   {
    "duration": 53,
    "start_time": "2022-04-28T14:24:08.133Z"
   },
   {
    "duration": 9,
    "start_time": "2022-04-28T14:24:08.188Z"
   },
   {
    "duration": 82,
    "start_time": "2022-04-28T14:24:08.199Z"
   },
   {
    "duration": 32,
    "start_time": "2022-04-28T14:24:08.283Z"
   },
   {
    "duration": 46,
    "start_time": "2022-04-28T14:24:08.317Z"
   },
   {
    "duration": 22,
    "start_time": "2022-04-28T14:24:08.365Z"
   },
   {
    "duration": 65,
    "start_time": "2022-04-28T14:24:08.389Z"
   },
   {
    "duration": 19,
    "start_time": "2022-04-28T14:24:08.456Z"
   },
   {
    "duration": 8,
    "start_time": "2022-04-28T14:24:08.477Z"
   },
   {
    "duration": 10,
    "start_time": "2022-04-28T14:24:08.487Z"
   },
   {
    "duration": 4,
    "start_time": "2022-04-28T14:24:08.499Z"
   },
   {
    "duration": 21,
    "start_time": "2022-04-28T14:24:08.537Z"
   },
   {
    "duration": 18,
    "start_time": "2022-04-28T14:24:08.559Z"
   },
   {
    "duration": 19,
    "start_time": "2022-04-28T14:24:08.579Z"
   },
   {
    "duration": 33,
    "start_time": "2022-04-28T14:24:08.603Z"
   },
   {
    "duration": 149,
    "start_time": "2022-04-28T14:24:08.639Z"
   },
   {
    "duration": 19,
    "start_time": "2022-04-28T14:24:08.790Z"
   },
   {
    "duration": 45,
    "start_time": "2022-04-28T14:24:08.811Z"
   },
   {
    "duration": 14,
    "start_time": "2022-04-28T14:24:08.859Z"
   },
   {
    "duration": 18,
    "start_time": "2022-04-28T14:24:08.875Z"
   },
   {
    "duration": 229,
    "start_time": "2022-04-28T14:24:08.895Z"
   },
   {
    "duration": 186,
    "start_time": "2022-04-28T14:24:09.125Z"
   },
   {
    "duration": 334,
    "start_time": "2022-04-28T14:24:09.313Z"
   },
   {
    "duration": 16,
    "start_time": "2022-04-28T14:24:09.651Z"
   },
   {
    "duration": 199,
    "start_time": "2022-04-28T14:24:09.669Z"
   },
   {
    "duration": 168,
    "start_time": "2022-04-28T14:24:09.869Z"
   },
   {
    "duration": 17,
    "start_time": "2022-04-28T14:24:10.041Z"
   },
   {
    "duration": 8,
    "start_time": "2022-04-28T14:24:10.061Z"
   },
   {
    "duration": 17,
    "start_time": "2022-04-28T14:24:10.071Z"
   },
   {
    "duration": 224,
    "start_time": "2022-04-28T14:24:10.090Z"
   },
   {
    "duration": 203,
    "start_time": "2022-04-28T14:24:10.315Z"
   },
   {
    "duration": 24,
    "start_time": "2022-04-28T14:24:10.520Z"
   },
   {
    "duration": 15,
    "start_time": "2022-04-28T14:24:10.546Z"
   },
   {
    "duration": 23,
    "start_time": "2022-04-28T14:24:10.563Z"
   },
   {
    "duration": 17,
    "start_time": "2022-04-28T14:24:10.588Z"
   },
   {
    "duration": 49,
    "start_time": "2022-04-28T14:24:10.607Z"
   },
   {
    "duration": 6,
    "start_time": "2022-04-28T14:24:10.660Z"
   },
   {
    "duration": 14,
    "start_time": "2022-04-28T14:24:10.667Z"
   },
   {
    "duration": 11,
    "start_time": "2022-04-28T14:24:10.683Z"
   },
   {
    "duration": 5,
    "start_time": "2022-04-28T14:24:10.696Z"
   },
   {
    "duration": 7,
    "start_time": "2022-04-28T14:24:10.703Z"
   },
   {
    "duration": 30,
    "start_time": "2022-04-28T14:24:10.711Z"
   },
   {
    "duration": 11,
    "start_time": "2022-04-28T14:24:10.744Z"
   },
   {
    "duration": 24,
    "start_time": "2022-04-28T14:24:10.757Z"
   },
   {
    "duration": 12,
    "start_time": "2022-04-28T14:24:10.783Z"
   },
   {
    "duration": 41,
    "start_time": "2022-04-28T14:24:10.797Z"
   },
   {
    "duration": 22,
    "start_time": "2022-04-28T14:24:10.841Z"
   },
   {
    "duration": 6,
    "start_time": "2022-04-28T14:24:10.865Z"
   },
   {
    "duration": 8,
    "start_time": "2022-04-28T14:24:10.872Z"
   },
   {
    "duration": 7,
    "start_time": "2022-04-28T14:24:10.882Z"
   },
   {
    "duration": 52,
    "start_time": "2022-11-07T09:59:08.149Z"
   }
  ],
  "kernelspec": {
   "display_name": "Python 3 (ipykernel)",
   "language": "python",
   "name": "python3"
  },
  "language_info": {
   "codemirror_mode": {
    "name": "ipython",
    "version": 3
   },
   "file_extension": ".py",
   "mimetype": "text/x-python",
   "name": "python",
   "nbconvert_exporter": "python",
   "pygments_lexer": "ipython3",
   "version": "3.9.5"
  },
  "toc": {
   "base_numbering": 1,
   "nav_menu": {},
   "number_sections": true,
   "sideBar": true,
   "skip_h1_title": true,
   "title_cell": "Содержание",
   "title_sidebar": "Contents",
   "toc_cell": true,
   "toc_position": {
    "height": "calc(100% - 180px)",
    "left": "10px",
    "top": "150px",
    "width": "292px"
   },
   "toc_section_display": true,
   "toc_window_display": true
  }
 },
 "nbformat": 4,
 "nbformat_minor": 2
}
