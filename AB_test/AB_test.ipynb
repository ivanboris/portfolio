{
 "cells": [
  {
   "cell_type": "markdown",
   "metadata": {},
   "source": [
    "# A/B тестирование гипотез увеличения выручки интернет-магазина"
   ]
  },
  {
   "cell_type": "markdown",
   "metadata": {},
   "source": [
    "**Цель исследования:** приоритизировать гипотезы увеличения выручки интернет-магазина, запустить A/B-тест и проанализировать результаты.\n",
    "\n",
    "**Ход исследования:**\n",
    " 1. Приоритизация гипотез.\n",
    " 2. Анализ A/B-теста:\n",
    " - ознакомление с данными;\n",
    " - расчеты и добавление данных;\n",
    " - расчет статистической значимости;\n",
    " - решение по результатам теста.\n",
    " \n",
    "**Источник данных:** данные интернет-магазина о покупках клиентов."
   ]
  },
  {
   "cell_type": "markdown",
   "metadata": {},
   "source": [
    "## Приоритизация гипотез."
   ]
  },
  {
   "cell_type": "markdown",
   "metadata": {},
   "source": [
    "Импортируем необходимые библиотеки"
   ]
  },
  {
   "cell_type": "code",
   "execution_count": 447,
   "metadata": {},
   "outputs": [],
   "source": [
    "import pandas as pd\n",
    "import datetime as dt\n",
    "import numpy as np\n",
    "import matplotlib.pyplot as plt\n",
    "import scipy.stats as stats\n",
    "from pandas.plotting import register_matplotlib_converters\n",
    "import warnings\n",
    "# конвертеры, которые позволяют использовать типы pandas в matplotlib  \n",
    "register_matplotlib_converters()"
   ]
  },
  {
   "cell_type": "markdown",
   "metadata": {},
   "source": [
    "Зададим формат отображения данных"
   ]
  },
  {
   "cell_type": "code",
   "execution_count": 448,
   "metadata": {},
   "outputs": [],
   "source": [
    "pd.set_option('display.max_columns', None)\n",
    "pd.options.display.float_format = '{:,.2f}'.format\n",
    "pd.options.display.max_colwidth = 120"
   ]
  },
  {
   "cell_type": "code",
   "execution_count": 449,
   "metadata": {},
   "outputs": [],
   "source": [
    "font = {'family': 'DejaVu Sans',\n",
    "        'color':  '#000080',\n",
    "        'weight': 'normal',\n",
    "        'size': 20,\n",
    "        }\n",
    "font_2 = {'family': 'DejaVu Sans',\n",
    "        'color':  '#000000',\n",
    "        'weight': 'normal',\n",
    "        'size': 16,\n",
    "        }"
   ]
  },
  {
   "cell_type": "markdown",
   "metadata": {},
   "source": [
    "### Ознакомимся с гипотезами и оценками параметров"
   ]
  },
  {
   "cell_type": "code",
   "execution_count": 450,
   "metadata": {
    "scrolled": true
   },
   "outputs": [
    {
     "data": {
      "text/html": [
       "<div>\n",
       "<style scoped>\n",
       "    .dataframe tbody tr th:only-of-type {\n",
       "        vertical-align: middle;\n",
       "    }\n",
       "\n",
       "    .dataframe tbody tr th {\n",
       "        vertical-align: top;\n",
       "    }\n",
       "\n",
       "    .dataframe thead th {\n",
       "        text-align: right;\n",
       "    }\n",
       "</style>\n",
       "<table border=\"1\" class=\"dataframe\">\n",
       "  <thead>\n",
       "    <tr style=\"text-align: right;\">\n",
       "      <th></th>\n",
       "      <th>Hypothesis</th>\n",
       "      <th>Reach</th>\n",
       "      <th>Impact</th>\n",
       "      <th>Confidence</th>\n",
       "      <th>Efforts</th>\n",
       "    </tr>\n",
       "  </thead>\n",
       "  <tbody>\n",
       "    <tr>\n",
       "      <th>0</th>\n",
       "      <td>Добавить два новых канала привлечения трафика, что позволит привлекать на 30% больше пользователей</td>\n",
       "      <td>3</td>\n",
       "      <td>10</td>\n",
       "      <td>8</td>\n",
       "      <td>6</td>\n",
       "    </tr>\n",
       "    <tr>\n",
       "      <th>1</th>\n",
       "      <td>Запустить собственную службу доставки, что сократит срок доставки заказов</td>\n",
       "      <td>2</td>\n",
       "      <td>5</td>\n",
       "      <td>4</td>\n",
       "      <td>10</td>\n",
       "    </tr>\n",
       "    <tr>\n",
       "      <th>2</th>\n",
       "      <td>Добавить блоки рекомендаций товаров на сайт интернет магазина, чтобы повысить конверсию и средний чек заказа</td>\n",
       "      <td>8</td>\n",
       "      <td>3</td>\n",
       "      <td>7</td>\n",
       "      <td>3</td>\n",
       "    </tr>\n",
       "    <tr>\n",
       "      <th>3</th>\n",
       "      <td>Изменить структура категорий, что увеличит конверсию, т.к. пользователи быстрее найдут нужный товар</td>\n",
       "      <td>8</td>\n",
       "      <td>3</td>\n",
       "      <td>3</td>\n",
       "      <td>8</td>\n",
       "    </tr>\n",
       "    <tr>\n",
       "      <th>4</th>\n",
       "      <td>Изменить цвет фона главной страницы, чтобы увеличить вовлеченность пользователей</td>\n",
       "      <td>3</td>\n",
       "      <td>1</td>\n",
       "      <td>1</td>\n",
       "      <td>1</td>\n",
       "    </tr>\n",
       "    <tr>\n",
       "      <th>5</th>\n",
       "      <td>Добавить страницу отзывов клиентов о магазине, что позволит увеличить количество заказов</td>\n",
       "      <td>3</td>\n",
       "      <td>2</td>\n",
       "      <td>2</td>\n",
       "      <td>3</td>\n",
       "    </tr>\n",
       "    <tr>\n",
       "      <th>6</th>\n",
       "      <td>Показать на главной странице баннеры с актуальными акциями и распродажами, чтобы увеличить конверсию</td>\n",
       "      <td>5</td>\n",
       "      <td>3</td>\n",
       "      <td>8</td>\n",
       "      <td>3</td>\n",
       "    </tr>\n",
       "    <tr>\n",
       "      <th>7</th>\n",
       "      <td>Добавить форму подписки на все основные страницы, чтобы собрать базу клиентов для email-рассылок</td>\n",
       "      <td>10</td>\n",
       "      <td>7</td>\n",
       "      <td>8</td>\n",
       "      <td>5</td>\n",
       "    </tr>\n",
       "    <tr>\n",
       "      <th>8</th>\n",
       "      <td>Запустить акцию, дающую скидку на товар в день рождения</td>\n",
       "      <td>1</td>\n",
       "      <td>9</td>\n",
       "      <td>9</td>\n",
       "      <td>5</td>\n",
       "    </tr>\n",
       "  </tbody>\n",
       "</table>\n",
       "</div>"
      ],
      "text/plain": [
       "                                                                                                     Hypothesis  \\\n",
       "0            Добавить два новых канала привлечения трафика, что позволит привлекать на 30% больше пользователей   \n",
       "1                                     Запустить собственную службу доставки, что сократит срок доставки заказов   \n",
       "2  Добавить блоки рекомендаций товаров на сайт интернет магазина, чтобы повысить конверсию и средний чек заказа   \n",
       "3           Изменить структура категорий, что увеличит конверсию, т.к. пользователи быстрее найдут нужный товар   \n",
       "4                              Изменить цвет фона главной страницы, чтобы увеличить вовлеченность пользователей   \n",
       "5                      Добавить страницу отзывов клиентов о магазине, что позволит увеличить количество заказов   \n",
       "6          Показать на главной странице баннеры с актуальными акциями и распродажами, чтобы увеличить конверсию   \n",
       "7              Добавить форму подписки на все основные страницы, чтобы собрать базу клиентов для email-рассылок   \n",
       "8                                                       Запустить акцию, дающую скидку на товар в день рождения   \n",
       "\n",
       "   Reach  Impact  Confidence  Efforts  \n",
       "0      3      10           8        6  \n",
       "1      2       5           4       10  \n",
       "2      8       3           7        3  \n",
       "3      8       3           3        8  \n",
       "4      3       1           1        1  \n",
       "5      3       2           2        3  \n",
       "6      5       3           8        3  \n",
       "7     10       7           8        5  \n",
       "8      1       9           9        5  "
      ]
     },
     "execution_count": 450,
     "metadata": {},
     "output_type": "execute_result"
    }
   ],
   "source": [
    "hypothesis = pd.read_csv('/datasets/hypothesis.csv')\n",
    "hypothesis"
   ]
  },
  {
   "cell_type": "markdown",
   "metadata": {},
   "source": [
    "### Применим фреймворк ICE для приоритизации гипотез. Отсортируем их по убыванию приоритета."
   ]
  },
  {
   "cell_type": "code",
   "execution_count": 451,
   "metadata": {
    "scrolled": true
   },
   "outputs": [
    {
     "data": {
      "text/html": [
       "<div>\n",
       "<style scoped>\n",
       "    .dataframe tbody tr th:only-of-type {\n",
       "        vertical-align: middle;\n",
       "    }\n",
       "\n",
       "    .dataframe tbody tr th {\n",
       "        vertical-align: top;\n",
       "    }\n",
       "\n",
       "    .dataframe thead th {\n",
       "        text-align: right;\n",
       "    }\n",
       "</style>\n",
       "<table border=\"1\" class=\"dataframe\">\n",
       "  <thead>\n",
       "    <tr style=\"text-align: right;\">\n",
       "      <th></th>\n",
       "      <th>Hypothesis</th>\n",
       "      <th>ICE</th>\n",
       "    </tr>\n",
       "  </thead>\n",
       "  <tbody>\n",
       "    <tr>\n",
       "      <th>8</th>\n",
       "      <td>Запустить акцию, дающую скидку на товар в день рождения</td>\n",
       "      <td>16.20</td>\n",
       "    </tr>\n",
       "    <tr>\n",
       "      <th>0</th>\n",
       "      <td>Добавить два новых канала привлечения трафика, что позволит привлекать на 30% больше пользователей</td>\n",
       "      <td>13.33</td>\n",
       "    </tr>\n",
       "    <tr>\n",
       "      <th>7</th>\n",
       "      <td>Добавить форму подписки на все основные страницы, чтобы собрать базу клиентов для email-рассылок</td>\n",
       "      <td>11.20</td>\n",
       "    </tr>\n",
       "    <tr>\n",
       "      <th>6</th>\n",
       "      <td>Показать на главной странице баннеры с актуальными акциями и распродажами, чтобы увеличить конверсию</td>\n",
       "      <td>8.00</td>\n",
       "    </tr>\n",
       "    <tr>\n",
       "      <th>2</th>\n",
       "      <td>Добавить блоки рекомендаций товаров на сайт интернет магазина, чтобы повысить конверсию и средний чек заказа</td>\n",
       "      <td>7.00</td>\n",
       "    </tr>\n",
       "    <tr>\n",
       "      <th>1</th>\n",
       "      <td>Запустить собственную службу доставки, что сократит срок доставки заказов</td>\n",
       "      <td>2.00</td>\n",
       "    </tr>\n",
       "    <tr>\n",
       "      <th>5</th>\n",
       "      <td>Добавить страницу отзывов клиентов о магазине, что позволит увеличить количество заказов</td>\n",
       "      <td>1.33</td>\n",
       "    </tr>\n",
       "    <tr>\n",
       "      <th>3</th>\n",
       "      <td>Изменить структура категорий, что увеличит конверсию, т.к. пользователи быстрее найдут нужный товар</td>\n",
       "      <td>1.12</td>\n",
       "    </tr>\n",
       "    <tr>\n",
       "      <th>4</th>\n",
       "      <td>Изменить цвет фона главной страницы, чтобы увеличить вовлеченность пользователей</td>\n",
       "      <td>1.00</td>\n",
       "    </tr>\n",
       "  </tbody>\n",
       "</table>\n",
       "</div>"
      ],
      "text/plain": [
       "                                                                                                     Hypothesis  \\\n",
       "8                                                       Запустить акцию, дающую скидку на товар в день рождения   \n",
       "0            Добавить два новых канала привлечения трафика, что позволит привлекать на 30% больше пользователей   \n",
       "7              Добавить форму подписки на все основные страницы, чтобы собрать базу клиентов для email-рассылок   \n",
       "6          Показать на главной странице баннеры с актуальными акциями и распродажами, чтобы увеличить конверсию   \n",
       "2  Добавить блоки рекомендаций товаров на сайт интернет магазина, чтобы повысить конверсию и средний чек заказа   \n",
       "1                                     Запустить собственную службу доставки, что сократит срок доставки заказов   \n",
       "5                      Добавить страницу отзывов клиентов о магазине, что позволит увеличить количество заказов   \n",
       "3           Изменить структура категорий, что увеличит конверсию, т.к. пользователи быстрее найдут нужный товар   \n",
       "4                              Изменить цвет фона главной страницы, чтобы увеличить вовлеченность пользователей   \n",
       "\n",
       "    ICE  \n",
       "8 16.20  \n",
       "0 13.33  \n",
       "7 11.20  \n",
       "6  8.00  \n",
       "2  7.00  \n",
       "1  2.00  \n",
       "5  1.33  \n",
       "3  1.12  \n",
       "4  1.00  "
      ]
     },
     "execution_count": 451,
     "metadata": {},
     "output_type": "execute_result"
    }
   ],
   "source": [
    "hypothesis['ICE'] = (hypothesis['Impact']*hypothesis['Confidence'])/hypothesis['Efforts']\n",
    "hypothesis[['Hypothesis', 'ICE']].sort_values(by='ICE', ascending=False)"
   ]
  },
  {
   "cell_type": "code",
   "execution_count": 452,
   "metadata": {},
   "outputs": [
    {
     "data": {
      "image/png": "[encoded data removed]",
      "text/plain": [
       "<Figure size 432x288 with 1 Axes>"
      ]
     },
     "metadata": {
      "needs_background": "light"
     },
     "output_type": "display_data"
    }
   ],
   "source": [
    "ax = hypothesis[['Hypothesis', 'ICE']].set_index('Hypothesis').sort_values('ICE', ascending=True).plot(kind='barh')\n",
    "ax.set_xlabel('Приоритет', fontdict=font_2)\n",
    "ax.set_ylabel('Гипотеза', fontdict=font_2)\n",
    "ax.set_title('ICE', fontdict=font)\n",
    "plt.show()"
   ]
  },
  {
   "cell_type": "markdown",
   "metadata": {},
   "source": [
    "### Применим фреймворк RICE для приоритизации гипотез. Отсортируем их по убыванию приоритета."
   ]
  },
  {
   "cell_type": "code",
   "execution_count": 453,
   "metadata": {},
   "outputs": [
    {
     "data": {
      "text/html": [
       "<div>\n",
       "<style scoped>\n",
       "    .dataframe tbody tr th:only-of-type {\n",
       "        vertical-align: middle;\n",
       "    }\n",
       "\n",
       "    .dataframe tbody tr th {\n",
       "        vertical-align: top;\n",
       "    }\n",
       "\n",
       "    .dataframe thead th {\n",
       "        text-align: right;\n",
       "    }\n",
       "</style>\n",
       "<table border=\"1\" class=\"dataframe\">\n",
       "  <thead>\n",
       "    <tr style=\"text-align: right;\">\n",
       "      <th></th>\n",
       "      <th>Hypothesis</th>\n",
       "      <th>RICE</th>\n",
       "    </tr>\n",
       "  </thead>\n",
       "  <tbody>\n",
       "    <tr>\n",
       "      <th>7</th>\n",
       "      <td>Добавить форму подписки на все основные страницы, чтобы собрать базу клиентов для email-рассылок</td>\n",
       "      <td>112.00</td>\n",
       "    </tr>\n",
       "    <tr>\n",
       "      <th>2</th>\n",
       "      <td>Добавить блоки рекомендаций товаров на сайт интернет магазина, чтобы повысить конверсию и средний чек заказа</td>\n",
       "      <td>56.00</td>\n",
       "    </tr>\n",
       "    <tr>\n",
       "      <th>0</th>\n",
       "      <td>Добавить два новых канала привлечения трафика, что позволит привлекать на 30% больше пользователей</td>\n",
       "      <td>40.00</td>\n",
       "    </tr>\n",
       "    <tr>\n",
       "      <th>6</th>\n",
       "      <td>Показать на главной странице баннеры с актуальными акциями и распродажами, чтобы увеличить конверсию</td>\n",
       "      <td>40.00</td>\n",
       "    </tr>\n",
       "    <tr>\n",
       "      <th>8</th>\n",
       "      <td>Запустить акцию, дающую скидку на товар в день рождения</td>\n",
       "      <td>16.20</td>\n",
       "    </tr>\n",
       "    <tr>\n",
       "      <th>3</th>\n",
       "      <td>Изменить структура категорий, что увеличит конверсию, т.к. пользователи быстрее найдут нужный товар</td>\n",
       "      <td>9.00</td>\n",
       "    </tr>\n",
       "    <tr>\n",
       "      <th>1</th>\n",
       "      <td>Запустить собственную службу доставки, что сократит срок доставки заказов</td>\n",
       "      <td>4.00</td>\n",
       "    </tr>\n",
       "    <tr>\n",
       "      <th>5</th>\n",
       "      <td>Добавить страницу отзывов клиентов о магазине, что позволит увеличить количество заказов</td>\n",
       "      <td>4.00</td>\n",
       "    </tr>\n",
       "    <tr>\n",
       "      <th>4</th>\n",
       "      <td>Изменить цвет фона главной страницы, чтобы увеличить вовлеченность пользователей</td>\n",
       "      <td>3.00</td>\n",
       "    </tr>\n",
       "  </tbody>\n",
       "</table>\n",
       "</div>"
      ],
      "text/plain": [
       "                                                                                                     Hypothesis  \\\n",
       "7              Добавить форму подписки на все основные страницы, чтобы собрать базу клиентов для email-рассылок   \n",
       "2  Добавить блоки рекомендаций товаров на сайт интернет магазина, чтобы повысить конверсию и средний чек заказа   \n",
       "0            Добавить два новых канала привлечения трафика, что позволит привлекать на 30% больше пользователей   \n",
       "6          Показать на главной странице баннеры с актуальными акциями и распродажами, чтобы увеличить конверсию   \n",
       "8                                                       Запустить акцию, дающую скидку на товар в день рождения   \n",
       "3           Изменить структура категорий, что увеличит конверсию, т.к. пользователи быстрее найдут нужный товар   \n",
       "1                                     Запустить собственную службу доставки, что сократит срок доставки заказов   \n",
       "5                      Добавить страницу отзывов клиентов о магазине, что позволит увеличить количество заказов   \n",
       "4                              Изменить цвет фона главной страницы, чтобы увеличить вовлеченность пользователей   \n",
       "\n",
       "    RICE  \n",
       "7 112.00  \n",
       "2  56.00  \n",
       "0  40.00  \n",
       "6  40.00  \n",
       "8  16.20  \n",
       "3   9.00  \n",
       "1   4.00  \n",
       "5   4.00  \n",
       "4   3.00  "
      ]
     },
     "execution_count": 453,
     "metadata": {},
     "output_type": "execute_result"
    }
   ],
   "source": [
    "hypothesis['RICE'] = (hypothesis['Reach']*hypothesis['Impact']*hypothesis['Confidence'])/hypothesis['Efforts']\n",
    "hypothesis[['Hypothesis', 'RICE']].sort_values(by='RICE', ascending=False)"
   ]
  },
  {
   "cell_type": "code",
   "execution_count": 454,
   "metadata": {},
   "outputs": [
    {
     "data": {
      "image/png": "[encoded data removed]",
      "text/plain": [
       "<Figure size 432x288 with 1 Axes>"
      ]
     },
     "metadata": {
      "needs_background": "light"
     },
     "output_type": "display_data"
    }
   ],
   "source": [
    "ax = hypothesis[['Hypothesis', 'RICE']].set_index('Hypothesis').sort_values('RICE', ascending=True).plot(kind='barh')\n",
    "ax.set_xlabel('Приоритет', fontdict=font_2)\n",
    "ax.set_ylabel('Гипотеза', fontdict=font_2)\n",
    "ax.set_title('RICE', fontdict=font)\n",
    "plt.show()"
   ]
  },
  {
   "cell_type": "markdown",
   "metadata": {},
   "source": [
    "### Как изменилась приоритизация гипотез при применении RICE вместо ICE."
   ]
  },
  {
   "cell_type": "markdown",
   "metadata": {},
   "source": [
    "При применении параметра RICE вместо ICE приоритезация гипотз сильно изменилась, т.к. RICE учитывает количество пользователей, которых затронет реализация изменения. Гипотеза 7 с добавлением формы подписки на все страницы имеет максимальный охват пользователей и оценку Reach, равную 10, поэтому она вышла на первое место. Гипотеза 8 с запуском акции со скидкой на день рождения пользователй при оценке по RICE с первого места опустилась на 5, т.к. затрагивает минимальное количство пользователей, ее параметр Reach равен 1."
   ]
  },
  {
   "cell_type": "markdown",
   "metadata": {},
   "source": [
    "### Вывод"
   ]
  },
  {
   "cell_type": "markdown",
   "metadata": {},
   "source": [
    "Для проведения A/B-теста выбираем гипотезу 7 с добавлением формы подписки на все страницы, т.к. у нее максимальная оценка по RICE, она превышает оценку следующей гипотезы в 2 раза. По ICE приоритет данной гипотезы так же высокий и занимает 3 позицию."
   ]
  },
  {
   "cell_type": "markdown",
   "metadata": {},
   "source": [
    "## Анализ A/B-теста"
   ]
  },
  {
   "cell_type": "markdown",
   "metadata": {},
   "source": [
    "### Ознакомимся с данными, полученными в процессе  A/B-теста"
   ]
  },
  {
   "cell_type": "code",
   "execution_count": 455,
   "metadata": {},
   "outputs": [],
   "source": [
    "orders = pd.read_csv('/datasets/orders.csv')\n",
    "visitors = pd.read_csv('/datasets/visitors.csv')"
   ]
  },
  {
   "cell_type": "code",
   "execution_count": 456,
   "metadata": {
    "scrolled": false
   },
   "outputs": [
    {
     "data": {
      "text/html": [
       "<div>\n",
       "<style scoped>\n",
       "    .dataframe tbody tr th:only-of-type {\n",
       "        vertical-align: middle;\n",
       "    }\n",
       "\n",
       "    .dataframe tbody tr th {\n",
       "        vertical-align: top;\n",
       "    }\n",
       "\n",
       "    .dataframe thead th {\n",
       "        text-align: right;\n",
       "    }\n",
       "</style>\n",
       "<table border=\"1\" class=\"dataframe\">\n",
       "  <thead>\n",
       "    <tr style=\"text-align: right;\">\n",
       "      <th></th>\n",
       "      <th>transactionId</th>\n",
       "      <th>visitorId</th>\n",
       "      <th>date</th>\n",
       "      <th>revenue</th>\n",
       "      <th>group</th>\n",
       "    </tr>\n",
       "  </thead>\n",
       "  <tbody>\n",
       "    <tr>\n",
       "      <th>0</th>\n",
       "      <td>3667963787</td>\n",
       "      <td>3312258926</td>\n",
       "      <td>2019-08-15</td>\n",
       "      <td>1650</td>\n",
       "      <td>B</td>\n",
       "    </tr>\n",
       "    <tr>\n",
       "      <th>1</th>\n",
       "      <td>2804400009</td>\n",
       "      <td>3642806036</td>\n",
       "      <td>2019-08-15</td>\n",
       "      <td>730</td>\n",
       "      <td>B</td>\n",
       "    </tr>\n",
       "    <tr>\n",
       "      <th>2</th>\n",
       "      <td>2961555356</td>\n",
       "      <td>4069496402</td>\n",
       "      <td>2019-08-15</td>\n",
       "      <td>400</td>\n",
       "      <td>A</td>\n",
       "    </tr>\n",
       "    <tr>\n",
       "      <th>3</th>\n",
       "      <td>3797467345</td>\n",
       "      <td>1196621759</td>\n",
       "      <td>2019-08-15</td>\n",
       "      <td>9759</td>\n",
       "      <td>B</td>\n",
       "    </tr>\n",
       "    <tr>\n",
       "      <th>4</th>\n",
       "      <td>2282983706</td>\n",
       "      <td>2322279887</td>\n",
       "      <td>2019-08-15</td>\n",
       "      <td>2308</td>\n",
       "      <td>B</td>\n",
       "    </tr>\n",
       "  </tbody>\n",
       "</table>\n",
       "</div>"
      ],
      "text/plain": [
       "   transactionId   visitorId        date  revenue group\n",
       "0     3667963787  3312258926  2019-08-15     1650     B\n",
       "1     2804400009  3642806036  2019-08-15      730     B\n",
       "2     2961555356  4069496402  2019-08-15      400     A\n",
       "3     3797467345  1196621759  2019-08-15     9759     B\n",
       "4     2282983706  2322279887  2019-08-15     2308     B"
      ]
     },
     "execution_count": 456,
     "metadata": {},
     "output_type": "execute_result"
    }
   ],
   "source": [
    "orders.head()"
   ]
  },
  {
   "cell_type": "code",
   "execution_count": 457,
   "metadata": {},
   "outputs": [
    {
     "name": "stdout",
     "output_type": "stream",
     "text": [
      "<class 'pandas.core.frame.DataFrame'>\n",
      "RangeIndex: 1197 entries, 0 to 1196\n",
      "Data columns (total 5 columns):\n",
      " #   Column         Non-Null Count  Dtype \n",
      "---  ------         --------------  ----- \n",
      " 0   transactionId  1197 non-null   int64 \n",
      " 1   visitorId      1197 non-null   int64 \n",
      " 2   date           1197 non-null   object\n",
      " 3   revenue        1197 non-null   int64 \n",
      " 4   group          1197 non-null   object\n",
      "dtypes: int64(3), object(2)\n",
      "memory usage: 46.9+ KB\n"
     ]
    }
   ],
   "source": [
    "orders.info()"
   ]
  },
  {
   "cell_type": "code",
   "execution_count": 458,
   "metadata": {},
   "outputs": [
    {
     "data": {
      "text/html": [
       "<div>\n",
       "<style scoped>\n",
       "    .dataframe tbody tr th:only-of-type {\n",
       "        vertical-align: middle;\n",
       "    }\n",
       "\n",
       "    .dataframe tbody tr th {\n",
       "        vertical-align: top;\n",
       "    }\n",
       "\n",
       "    .dataframe thead th {\n",
       "        text-align: right;\n",
       "    }\n",
       "</style>\n",
       "<table border=\"1\" class=\"dataframe\">\n",
       "  <thead>\n",
       "    <tr style=\"text-align: right;\">\n",
       "      <th></th>\n",
       "      <th>date</th>\n",
       "      <th>group</th>\n",
       "      <th>visitors</th>\n",
       "    </tr>\n",
       "  </thead>\n",
       "  <tbody>\n",
       "    <tr>\n",
       "      <th>0</th>\n",
       "      <td>2019-08-01</td>\n",
       "      <td>A</td>\n",
       "      <td>719</td>\n",
       "    </tr>\n",
       "    <tr>\n",
       "      <th>1</th>\n",
       "      <td>2019-08-02</td>\n",
       "      <td>A</td>\n",
       "      <td>619</td>\n",
       "    </tr>\n",
       "    <tr>\n",
       "      <th>2</th>\n",
       "      <td>2019-08-03</td>\n",
       "      <td>A</td>\n",
       "      <td>507</td>\n",
       "    </tr>\n",
       "    <tr>\n",
       "      <th>3</th>\n",
       "      <td>2019-08-04</td>\n",
       "      <td>A</td>\n",
       "      <td>717</td>\n",
       "    </tr>\n",
       "    <tr>\n",
       "      <th>4</th>\n",
       "      <td>2019-08-05</td>\n",
       "      <td>A</td>\n",
       "      <td>756</td>\n",
       "    </tr>\n",
       "  </tbody>\n",
       "</table>\n",
       "</div>"
      ],
      "text/plain": [
       "         date group  visitors\n",
       "0  2019-08-01     A       719\n",
       "1  2019-08-02     A       619\n",
       "2  2019-08-03     A       507\n",
       "3  2019-08-04     A       717\n",
       "4  2019-08-05     A       756"
      ]
     },
     "execution_count": 458,
     "metadata": {},
     "output_type": "execute_result"
    }
   ],
   "source": [
    "visitors.head()"
   ]
  },
  {
   "cell_type": "code",
   "execution_count": 459,
   "metadata": {
    "scrolled": true
   },
   "outputs": [
    {
     "name": "stdout",
     "output_type": "stream",
     "text": [
      "<class 'pandas.core.frame.DataFrame'>\n",
      "RangeIndex: 62 entries, 0 to 61\n",
      "Data columns (total 3 columns):\n",
      " #   Column    Non-Null Count  Dtype \n",
      "---  ------    --------------  ----- \n",
      " 0   date      62 non-null     object\n",
      " 1   group     62 non-null     object\n",
      " 2   visitors  62 non-null     int64 \n",
      "dtypes: int64(1), object(2)\n",
      "memory usage: 1.6+ KB\n"
     ]
    }
   ],
   "source": [
    "visitors.info()"
   ]
  },
  {
   "cell_type": "markdown",
   "metadata": {},
   "source": [
    "#### В обеих таблицах даты нужно привести к верному формату"
   ]
  },
  {
   "cell_type": "code",
   "execution_count": 460,
   "metadata": {},
   "outputs": [],
   "source": [
    "orders['date'] = pd.to_datetime(orders['date'])\n",
    "visitors['date'] = pd.to_datetime(visitors['date'])"
   ]
  },
  {
   "cell_type": "code",
   "execution_count": 461,
   "metadata": {},
   "outputs": [],
   "source": [
    "orders.rename(columns={'transactionId':'orderId', 'visitorId':'userId'}, inplace=True)"
   ]
  },
  {
   "cell_type": "markdown",
   "metadata": {},
   "source": [
    "#### Проверим данные на дубликаты"
   ]
  },
  {
   "cell_type": "code",
   "execution_count": 462,
   "metadata": {
    "scrolled": true
   },
   "outputs": [
    {
     "data": {
      "text/plain": [
       "0"
      ]
     },
     "execution_count": 462,
     "metadata": {},
     "output_type": "execute_result"
    }
   ],
   "source": [
    "orders.duplicated().sum()"
   ]
  },
  {
   "cell_type": "code",
   "execution_count": 463,
   "metadata": {},
   "outputs": [
    {
     "data": {
      "text/plain": [
       "0"
      ]
     },
     "execution_count": 463,
     "metadata": {},
     "output_type": "execute_result"
    }
   ],
   "source": [
    "visitors.duplicated().sum()"
   ]
  },
  {
   "cell_type": "markdown",
   "metadata": {},
   "source": [
    "В данных нет дубликатов."
   ]
  },
  {
   "cell_type": "markdown",
   "metadata": {},
   "source": [
    "### Изучим данные, полученные во время проведения A/B-теста"
   ]
  },
  {
   "cell_type": "markdown",
   "metadata": {},
   "source": [
    "#### Сколько групп в A/B-тесте"
   ]
  },
  {
   "cell_type": "code",
   "execution_count": 464,
   "metadata": {},
   "outputs": [
    {
     "data": {
      "text/plain": [
       "array(['B', 'A'], dtype=object)"
      ]
     },
     "execution_count": 464,
     "metadata": {},
     "output_type": "execute_result"
    }
   ],
   "source": [
    "orders['group'].unique()"
   ]
  },
  {
   "cell_type": "markdown",
   "metadata": {},
   "source": [
    "В тесте 2 группы"
   ]
  },
  {
   "cell_type": "markdown",
   "metadata": {},
   "source": [
    "#### Даты начала и окончания теста"
   ]
  },
  {
   "cell_type": "code",
   "execution_count": 465,
   "metadata": {},
   "outputs": [
    {
     "name": "stdout",
     "output_type": "stream",
     "text": [
      "Дата начала теста 2019-08-01\n",
      "\n",
      "Дата окончания теста 2019-08-31\n"
     ]
    }
   ],
   "source": [
    "start_date = orders['date'].min().date()\n",
    "print('Дата начала теста', start_date)\n",
    "print()\n",
    "finish_date = orders['date'].max().date()\n",
    "print('Дата окончания теста', finish_date)"
   ]
  },
  {
   "cell_type": "markdown",
   "metadata": {},
   "source": [
    "#### Сколько пользователей в каждой группе"
   ]
  },
  {
   "cell_type": "code",
   "execution_count": 466,
   "metadata": {
    "scrolled": false
   },
   "outputs": [
    {
     "data": {
      "text/plain": [
       "group\n",
       "A    503\n",
       "B    586\n",
       "Name: userId, dtype: int64"
      ]
     },
     "execution_count": 466,
     "metadata": {},
     "output_type": "execute_result"
    }
   ],
   "source": [
    "orders.groupby('group')['userId'].nunique()"
   ]
  },
  {
   "cell_type": "markdown",
   "metadata": {},
   "source": [
    "### Расчеты и добавление данных"
   ]
  },
  {
   "cell_type": "markdown",
   "metadata": {},
   "source": [
    "#### Рассчитаем выручку по дням для обеих групп"
   ]
  },
  {
   "cell_type": "code",
   "execution_count": 467,
   "metadata": {
    "scrolled": true
   },
   "outputs": [
    {
     "name": "stdout",
     "output_type": "stream",
     "text": [
      "        date group  orders  buyers  revenue  visitors\n",
      "0 2019-08-01     A      24      20   148579       719\n",
      "1 2019-08-01     B      21      20   101217       713\n",
      "2 2019-08-02     A      44      38   242401      1338\n",
      "3 2019-08-02     B      45      43   266748      1294\n",
      "4 2019-08-03     A      68      62   354874      1845\n"
     ]
    }
   ],
   "source": [
    "datesGroups = orders[['date','group']].drop_duplicates() #cоздаlbv датафрейм datesGroups с уникальными парами значений 'date' и 'group' таблицы orders\n",
    "\n",
    "ordersAggregated = datesGroups.apply(lambda x: orders[np.logical_and(orders['date'] <= x['date'], orders['group'] == x['group'])]\\\n",
    ".agg({'date' : 'max', 'group' : 'max', 'orderId' : 'nunique', 'userId' : 'nunique', 'revenue' : 'sum'}), axis=1).sort_values(by=['date','group']) \n",
    "\n",
    "visitorsAggregated = datesGroups.apply(lambda x: visitors[np.logical_and(visitors['date'] <= x['date'], visitors['group'] == x['group'])].agg({'date' : 'max', 'group' : 'max', 'visitors' : 'sum'}), axis=1).sort_values(by=['date','group']) \n",
    "\n",
    "cumulativeData = ordersAggregated.merge(visitorsAggregated, left_on=['date', 'group'], right_on=['date', 'group'])\n",
    "cumulativeData.columns = ['date', 'group', 'orders', 'buyers', 'revenue', 'visitors']\n",
    "\n",
    "print(cumulativeData.head(5))"
   ]
  },
  {
   "cell_type": "markdown",
   "metadata": {},
   "source": [
    "### Построим график кумулятивной выручки по группам. Сделаем выводы и предположения."
   ]
  },
  {
   "cell_type": "code",
   "execution_count": 468,
   "metadata": {
    "scrolled": true
   },
   "outputs": [
    {
     "data": {
      "image/png": "[encoded data removed]",
      "text/plain": [
       "<Figure size 432x288 with 1 Axes>"
      ]
     },
     "metadata": {
      "needs_background": "light"
     },
     "output_type": "display_data"
    }
   ],
   "source": [
    "cumulativeRevenueA = cumulativeData[cumulativeData['group']=='A'][['date','revenue', 'orders']]\n",
    "cumulativeRevenueB = cumulativeData[cumulativeData['group']=='B'][['date','revenue', 'orders']]\n",
    "plt.plot(cumulativeRevenueA['date'], cumulativeRevenueA['revenue'], label='A')\n",
    "plt.plot(cumulativeRevenueB['date'], cumulativeRevenueB['revenue'], label='B')\n",
    "plt.title('График кумулятивной выручки по группам', fontdict=font)\n",
    "plt.ylabel(\"Выручка\", fontdict=font_2)\n",
    "plt.xticks(rotation=45)\n",
    "plt.legend()\n",
    "plt.show();"
   ]
  },
  {
   "cell_type": "markdown",
   "metadata": {},
   "source": [
    "**Вывод:** сегмент B лидировал начиная с первых дней исследования, в один из дней выручка в обоих сегментах сравнялась, но в середине теста сегмент B резко подскочил вверх и оставался на более высоком уровне оставшийся отрезок времени. Возможно, в середине теста в сегменте B были аномально большие заказы. Сегмент А растет линейно."
   ]
  },
  {
   "cell_type": "markdown",
   "metadata": {},
   "source": [
    "### Построим график кумулятивного среднего чека по группам. Сделаем выводы и предположения."
   ]
  },
  {
   "cell_type": "code",
   "execution_count": 469,
   "metadata": {},
   "outputs": [
    {
     "data": {
      "image/png": "[encoded data removed]",
      "text/plain": [
       "<Figure size 432x288 with 1 Axes>"
      ]
     },
     "metadata": {
      "needs_background": "light"
     },
     "output_type": "display_data"
    }
   ],
   "source": [
    "plt.plot(cumulativeRevenueA['date'], cumulativeRevenueA['revenue']/cumulativeRevenueA['orders'], label='A')\n",
    "plt.plot(cumulativeRevenueB['date'], cumulativeRevenueB['revenue']/cumulativeRevenueB['orders'], label='B')\n",
    "plt.title('График кумулятивного среднего чека по группам', fontdict=font)\n",
    "plt.ylabel(\"Средний чек\", fontdict=font_2)\n",
    "plt.xticks(rotation=45)\n",
    "plt.legend()\n",
    "plt.show();"
   ]
  },
  {
   "cell_type": "markdown",
   "metadata": {},
   "source": [
    "**Вывод:** средний чек в группе B сильно подскакивает в середине исследования, после чего незначительно снижается в оставшийся отрезок времени. Вероятно, в этот день были аномально большие заказы. Средний чек в группе A подвержен колебаниям, также есть резкие скачки вверх и вниз, но они менее выражены, чем в группе B."
   ]
  },
  {
   "cell_type": "markdown",
   "metadata": {},
   "source": [
    "### Построим график относительного изменения кумулятивного среднего чека группы B к группе A. Сделаем выводы и предположения."
   ]
  },
  {
   "cell_type": "code",
   "execution_count": 470,
   "metadata": {},
   "outputs": [
    {
     "data": {
      "image/png": "[encoded data removed]",
      "text/plain": [
       "<Figure size 432x288 with 1 Axes>"
      ]
     },
     "metadata": {
      "needs_background": "light"
     },
     "output_type": "display_data"
    }
   ],
   "source": [
    "mergedCumulativeRevenue = cumulativeRevenueA.merge(cumulativeRevenueB, left_on='date', right_on='date', how='left', suffixes=['A', 'B'])\n",
    "\n",
    "plt.plot(mergedCumulativeRevenue['date'], (mergedCumulativeRevenue['revenueB']/mergedCumulativeRevenue['ordersB'])/(mergedCumulativeRevenue['revenueA']/mergedCumulativeRevenue['ordersA'])-1)\n",
    "plt.title('График относительного изменения кумулятивного среднего чека группы B к группе A', fontdict=font)\n",
    "plt.xticks(rotation=45)\n",
    "plt.axhline(y=0, color='black', linestyle='--')\n",
    "plt.show();"
   ]
  },
  {
   "cell_type": "markdown",
   "metadata": {},
   "source": [
    "**Вывод**: отношение среднего чека группы B к среднему чеку группы А резко меняется в несколько дат, видимо, в эти даты были аномальные заказы."
   ]
  },
  {
   "cell_type": "markdown",
   "metadata": {},
   "source": [
    "### Построим график кумулятивной конверсии по группам. Сделаем выводы и предположения."
   ]
  },
  {
   "cell_type": "code",
   "execution_count": 471,
   "metadata": {},
   "outputs": [
    {
     "data": {
      "image/png": "[encoded data removed]",
      "text/plain": [
       "<Figure size 432x288 with 1 Axes>"
      ]
     },
     "metadata": {
      "needs_background": "light"
     },
     "output_type": "display_data"
    }
   ],
   "source": [
    "cumulativeData['conversion'] = cumulativeData['orders']/cumulativeData['visitors']\n",
    "\n",
    "# отделяем данные по группе A\n",
    "cumulativeDataA = cumulativeData[cumulativeData['group']=='A']\n",
    "\n",
    "# отделяем данные по группе B\n",
    "cumulativeDataB = cumulativeData[cumulativeData['group']=='B']\n",
    "\n",
    "# строим графики\n",
    "plt.plot(cumulativeDataA['date'], cumulativeDataA['conversion'], label='A')\n",
    "plt.plot(cumulativeDataB['date'], cumulativeDataB['conversion'], label='B')\n",
    "plt.legend()\n",
    "\n",
    "# задаем масштаб осей\n",
    "plt.axis([dt.datetime(2019, 8, 1), dt.datetime(2019, 9, 1), 0, 0.05])\n",
    "\n",
    "plt.title('График кумулятивной конверсии по группам', fontdict=font)\n",
    "plt.ylabel(\"Конверсия\", fontdict=font_2)\n",
    "plt.xticks(rotation=45)\n",
    "plt.show();"
   ]
  },
  {
   "cell_type": "markdown",
   "metadata": {},
   "source": [
    "**Вывод:** на протяжении первых дней теста сегмент A имел более высокую конверсию (за исключением одного дня). Однако приблизительно на шестой день теста конверсия сегмента B превысила консверсию сегмента A и зафиксировалась около одного значения. Конверсия сегмента A зеркально снизилась и так же зафиксировалась около одного значения."
   ]
  },
  {
   "cell_type": "markdown",
   "metadata": {},
   "source": [
    "### Построим график относительного изменения кумулятивной конверсии группы B к группе A. Сделаем выводы и предположения."
   ]
  },
  {
   "cell_type": "code",
   "execution_count": 472,
   "metadata": {},
   "outputs": [
    {
     "data": {
      "image/png": "[encoded data removed]",
      "text/plain": [
       "<Figure size 432x288 with 1 Axes>"
      ]
     },
     "metadata": {
      "needs_background": "light"
     },
     "output_type": "display_data"
    }
   ],
   "source": [
    "mergedCumulativeConversions = cumulativeDataA[['date','conversion']].merge(cumulativeDataB[['date','conversion']], left_on='date', right_on='date', how='left', suffixes=['A', 'B'])\n",
    "\n",
    "plt.plot(mergedCumulativeConversions['date'], mergedCumulativeConversions['conversionB']/mergedCumulativeConversions['conversionA']-1)\n",
    "\n",
    "plt.axhline(y=0, color='black', linestyle='--')\n",
    "plt.axhline(y=0.2, color='grey', linestyle='--')\n",
    "plt.axis([\"2019-08-01\", '2019-09-01', -0.5, 0.5])\n",
    "\n",
    "plt.title('График относительного изменения кумулятивной конверсии группы B к группе A', fontdict=font)\n",
    "plt.xticks(rotation=45)\n",
    "plt.show();"
   ]
  },
  {
   "cell_type": "markdown",
   "metadata": {},
   "source": [
    "**Вывод:** сегмент B лидирует по конверсии, самый лучший показатель был в середине исследования, прирост по отношению к группе A  составил около 20%, после чего произошло незначительное снижение."
   ]
  },
  {
   "cell_type": "markdown",
   "metadata": {},
   "source": [
    "### Построим точечный график количества заказов по пользователям. Сделаем выводы и предположения."
   ]
  },
  {
   "cell_type": "code",
   "execution_count": 473,
   "metadata": {},
   "outputs": [
    {
     "data": {
      "image/png": "[encoded data removed]",
      "text/plain": [
       "<Figure size 432x288 with 1 Axes>"
      ]
     },
     "metadata": {
      "needs_background": "light"
     },
     "output_type": "display_data"
    }
   ],
   "source": [
    "ordersByUsers = (\n",
    "    orders.groupby('userId', as_index=False)\n",
    "    .agg({'orderId': 'nunique'})\n",
    ")\n",
    "\n",
    "ordersByUsers.columns = ['userId', 'orders']\n",
    "\n",
    "x_values = pd.Series(range(0,len(ordersByUsers)))\n",
    "\n",
    "plt.scatter(x_values, ordersByUsers['orders'])\n",
    "plt.title('График количества заказов по пользователям', fontdict=font)\n",
    "plt.ylabel(\"Количество заказов\", fontdict=font_2)\n",
    "plt.xticks(rotation=45)\n",
    "plt.show();"
   ]
  },
  {
   "cell_type": "markdown",
   "metadata": {},
   "source": [
    "**Вывод:** много пользователей совершили 1-3 заказа. Есть несколько пользователей, совершивших более 8 заказов"
   ]
  },
  {
   "cell_type": "markdown",
   "metadata": {},
   "source": [
    "### Посчитайте 95-й и 99-й перцентили количества заказов на пользователя. Выберите границу для определения аномальных пользователей."
   ]
  },
  {
   "cell_type": "code",
   "execution_count": 474,
   "metadata": {},
   "outputs": [
    {
     "name": "stdout",
     "output_type": "stream",
     "text": [
      "[2. 4.]\n",
      "2.0\n"
     ]
    }
   ],
   "source": [
    "print(np.percentile(ordersByUsers['orders'], [95, 99]))\n",
    "order_count_anomal = np.percentile(ordersByUsers['orders'], 95).round()\n",
    "print(order_count_anomal)"
   ]
  },
  {
   "cell_type": "markdown",
   "metadata": {},
   "source": [
    "**Вывод:** не более 5% пользователей оформили больше, чем 2 заказа. Всего 1% пользователей оформил больше 4 заказов. Установим границу аномального количества заказов на одного клиента на уровне 95 перцентиля."
   ]
  },
  {
   "cell_type": "markdown",
   "metadata": {},
   "source": [
    "### Построим точечный график стоимостей заказов. Сделаем выводы и предположения."
   ]
  },
  {
   "cell_type": "code",
   "execution_count": 475,
   "metadata": {
    "scrolled": true
   },
   "outputs": [
    {
     "data": {
      "image/png": "[encoded data removed]",
      "text/plain": [
       "<Figure size 432x288 with 1 Axes>"
      ]
     },
     "metadata": {
      "needs_background": "light"
     },
     "output_type": "display_data"
    }
   ],
   "source": [
    "x_values = pd.Series(range(0,len(orders['revenue'])))\n",
    "plt.scatter(x_values, orders['revenue']); "
   ]
  },
  {
   "cell_type": "markdown",
   "metadata": {},
   "source": [
    "На графике видно, что сумма большинства заказов не превышает 50 000, однако из-за одного аномально большого заказа стоимостью свыше 1 000 000 рублей более точно определить границы аномальных и нормальных заказов по графику затруднительно. Попробум постоить графк, исключив этот заказ."
   ]
  },
  {
   "cell_type": "code",
   "execution_count": 476,
   "metadata": {
    "scrolled": false
   },
   "outputs": [
    {
     "data": {
      "image/png": "[encoded data removed]",
      "text/plain": [
       "<Figure size 432x288 with 1 Axes>"
      ]
     },
     "metadata": {
      "needs_background": "light"
     },
     "output_type": "display_data"
    }
   ],
   "source": [
    "orders_2 = orders.query('revenue < 300000')\n",
    "x_values = pd.Series(range(0,len(orders_2['revenue'])))\n",
    "plt.scatter(x_values, orders_2['revenue']);"
   ]
  },
  {
   "cell_type": "markdown",
   "metadata": {},
   "source": [
    "**Вывод:** на графике, построенном без учета аномально большого заказа, видно, что большинство заказов не превышали 25 000."
   ]
  },
  {
   "cell_type": "markdown",
   "metadata": {},
   "source": [
    "### Посчитаем 95-й и 99-й перцентили стоимости заказов. Выберем границу для определения аномальных заказов."
   ]
  },
  {
   "cell_type": "code",
   "execution_count": 477,
   "metadata": {
    "scrolled": true
   },
   "outputs": [
    {
     "name": "stdout",
     "output_type": "stream",
     "text": [
      "[28000.  58233.2]\n",
      "28000.0\n"
     ]
    }
   ],
   "source": [
    "print(np.percentile(orders['revenue'], [95, 99]))\n",
    "order_sum_anomal = np.percentile(orders['revenue'], 95).round()\n",
    "print(order_sum_anomal)"
   ]
  },
  {
   "cell_type": "markdown",
   "metadata": {},
   "source": [
    "**Вывод:** не более 5% заказов дороже 28 000 рублей, и не более 1% дороже 58 233 рублей. Установим границу стоимости аномальных заказов на уровне 95 перцентиля."
   ]
  },
  {
   "cell_type": "markdown",
   "metadata": {},
   "source": [
    "### Посчитаем статистическую значимость различий в конверсии между группами по «сырым» данным. Сделаем выводы и предположения."
   ]
  },
  {
   "cell_type": "markdown",
   "metadata": {},
   "source": [
    "#### Сформулируем гипотезы"
   ]
  },
  {
   "cell_type": "markdown",
   "metadata": {},
   "source": [
    "- H0: различий в среднем количестве заказов на пользователя между группами нет.\n",
    "- H1: различия в среднем количестве заказов на пользователя между группами есть."
   ]
  },
  {
   "cell_type": "markdown",
   "metadata": {},
   "source": [
    "Для проверки выборок применим критерий Манна-Уитни."
   ]
  },
  {
   "cell_type": "code",
   "execution_count": 478,
   "metadata": {},
   "outputs": [],
   "source": [
    "visitorsADaily = visitors[visitors['group'] == 'A'][['date', 'visitors']]\n",
    "visitorsADaily.columns = ['date', 'visitorsPerDateA']\n",
    "\n",
    "visitorsACummulative = visitorsADaily.apply(\n",
    "    lambda x: visitorsADaily[visitorsADaily['date'] <= x['date']].agg(\n",
    "        {'date': 'max', 'visitorsPerDateA': 'sum'}\n",
    "    ),\n",
    "    axis=1,\n",
    ")\n",
    "visitorsACummulative.columns = ['date', 'visitorsCummulativeA']\n",
    "\n",
    "visitorsBDaily = visitors[visitors['group'] == 'B'][['date', 'visitors']]\n",
    "visitorsBDaily.columns = ['date', 'visitorsPerDateB']\n",
    "\n",
    "visitorsBCummulative = visitorsBDaily.apply(\n",
    "    lambda x: visitorsBDaily[visitorsBDaily['date'] <= x['date']].agg(\n",
    "        {'date': 'max', 'visitorsPerDateB': 'sum'}\n",
    "    ),\n",
    "    axis=1,\n",
    ")\n",
    "visitorsBCummulative.columns = ['date', 'visitorsCummulativeB']\n",
    "\n",
    "ordersADaily = (\n",
    "    orders[orders['group'] == 'A'][['date', 'orderId', 'userId', 'revenue']]\n",
    "    .groupby('date', as_index=False)\n",
    "    .agg({'orderId': pd.Series.nunique, 'revenue': 'sum'})\n",
    ")\n",
    "ordersADaily.columns = ['date', 'ordersPerDateA', 'revenuePerDateA']\n",
    "\n",
    "ordersACummulative = ordersADaily.apply(\n",
    "    lambda x: ordersADaily[ordersADaily['date'] <= x['date']].agg(\n",
    "        {'date': 'max', 'ordersPerDateA': 'sum', 'revenuePerDateA': 'sum'}\n",
    "    ),\n",
    "    axis=1,\n",
    ").sort_values(by=['date'])\n",
    "ordersACummulative.columns = [\n",
    "    'date',\n",
    "    'ordersCummulativeA',\n",
    "    'revenueCummulativeA',\n",
    "]\n",
    "\n",
    "ordersBDaily = (\n",
    "    orders[orders['group'] == 'B'][['date', 'orderId', 'userId', 'revenue']]\n",
    "    .groupby('date', as_index=False)\n",
    "    .agg({'orderId': pd.Series.nunique, 'revenue': 'sum'})\n",
    ")\n",
    "ordersBDaily.columns = ['date', 'ordersPerDateB', 'revenuePerDateB']\n",
    "\n",
    "ordersBCummulative = ordersBDaily.apply(\n",
    "    lambda x: ordersBDaily[ordersBDaily['date'] <= x['date']].agg(\n",
    "        {'date': 'max', 'ordersPerDateB': 'sum', 'revenuePerDateB': 'sum'}\n",
    "    ),\n",
    "    axis=1,\n",
    ").sort_values(by=['date'])\n",
    "ordersBCummulative.columns = [\n",
    "    'date',\n",
    "    'ordersCummulativeB',\n",
    "    'revenueCummulativeB',\n",
    "]"
   ]
  },
  {
   "cell_type": "code",
   "execution_count": 479,
   "metadata": {},
   "outputs": [],
   "source": [
    "data = (\n",
    "    ordersADaily.merge(\n",
    "        ordersBDaily, left_on='date', right_on='date', how='left'\n",
    "    )\n",
    "    .merge(ordersACummulative, left_on='date', right_on='date', how='left')\n",
    "    .merge(ordersBCummulative, left_on='date', right_on='date', how='left')\n",
    "    .merge(visitorsADaily, left_on='date', right_on='date', how='left')\n",
    "    .merge(visitorsBDaily, left_on='date', right_on='date', how='left')\n",
    "    .merge(visitorsACummulative, left_on='date', right_on='date', how='left')\n",
    "    .merge(visitorsBCummulative, left_on='date', right_on='date', how='left')\n",
    ")"
   ]
  },
  {
   "cell_type": "code",
   "execution_count": 480,
   "metadata": {},
   "outputs": [],
   "source": [
    "ordersByUsersA = (\n",
    "    orders[orders['group'] == 'A']\n",
    "    .groupby('userId', as_index=False)\n",
    "    .agg({'orderId': pd.Series.nunique})\n",
    ")\n",
    "ordersByUsersA.columns = ['userId', 'orders']\n",
    "\n",
    "ordersByUsersB = (\n",
    "    orders[orders['group'] == 'B']\n",
    "    .groupby('userId', as_index=False)\n",
    "    .agg({'orderId': pd.Series.nunique})\n",
    ")\n",
    "ordersByUsersB.columns = ['userId', 'orders'] "
   ]
  },
  {
   "cell_type": "code",
   "execution_count": 481,
   "metadata": {},
   "outputs": [],
   "source": [
    "sampleA = pd.concat([ordersByUsersA['orders'],pd.Series(0, index=np.arange(data['visitorsPerDateA'].sum() - len(ordersByUsersA['orders'])), name='orders')],axis=0)\n",
    "\n",
    "sampleB = pd.concat([ordersByUsersB['orders'],pd.Series(0, index=np.arange(data['visitorsPerDateB'].sum() - len(ordersByUsersB['orders'])), name='orders')],axis=0) "
   ]
  },
  {
   "cell_type": "code",
   "execution_count": 482,
   "metadata": {},
   "outputs": [
    {
     "name": "stdout",
     "output_type": "stream",
     "text": [
      "P-value: 0.017\n",
      "Относительный прирост конверсии группы B к группе A: 0.138\n"
     ]
    }
   ],
   "source": [
    "ordersByUsersA = (\n",
    "    orders[orders['group'] == 'A']\n",
    "    .groupby('userId', as_index=False)\n",
    "    .agg({'orderId': pd.Series.nunique})\n",
    ")\n",
    "ordersByUsersA.columns = ['userId', 'orders']\n",
    "\n",
    "ordersByUsersB = (\n",
    "    orders[orders['group'] == 'B']\n",
    "    .groupby('userId', as_index=False)\n",
    "    .agg({'orderId': pd.Series.nunique})\n",
    ")\n",
    "ordersByUsersB.columns = ['userId', 'orders']\n",
    "\n",
    "sampleA = pd.concat(\n",
    "    [\n",
    "        ordersByUsersA['orders'],\n",
    "        pd.Series(\n",
    "            0,\n",
    "            index=np.arange(\n",
    "                data['visitorsPerDateA'].sum() - len(ordersByUsersA['orders'])\n",
    "            ),\n",
    "            name='orders',\n",
    "        ),\n",
    "    ],\n",
    "    axis=0,\n",
    ")\n",
    "\n",
    "sampleB = pd.concat(\n",
    "    [\n",
    "        ordersByUsersB['orders'],\n",
    "        pd.Series(\n",
    "            0,\n",
    "            index=np.arange(\n",
    "                data['visitorsPerDateB'].sum() - len(ordersByUsersB['orders'])\n",
    "            ),\n",
    "            name='orders',\n",
    "        ),\n",
    "    ],\n",
    "    axis=0,\n",
    ")\n",
    "\n",
    "print('P-value:',\"{0:.3f}\".format(stats.mannwhitneyu(sampleA, sampleB)[1]))\n",
    "\n",
    "print('Относительный прирост конверсии группы B к группе A:',\"{0:.3f}\".format(sampleB.mean() / sampleA.mean() - 1))"
   ]
  },
  {
   "cell_type": "markdown",
   "metadata": {},
   "source": [
    "P-value равен 0,017, что меньше 0,05, поэтому нулевую гипотезу отвергаем. Анализ сырых данных показывает, что в среднем количестве заказов на пользователя между группами есть статитстически значимые различия. Относительный прирост среднего группы B к конверсии группы A равен 13,8%."
   ]
  },
  {
   "cell_type": "markdown",
   "metadata": {},
   "source": [
    "### Посчитаем статистическую значимость различий в среднем чеке заказа между группами по «сырым» данным. Сделаем выводы и предположения."
   ]
  },
  {
   "cell_type": "markdown",
   "metadata": {},
   "source": [
    "#### Сформулируем гипотезы"
   ]
  },
  {
   "cell_type": "markdown",
   "metadata": {},
   "source": [
    "- H0: различий в среднем чеке между группами нет.\n",
    "- H1: различия в среднем чеке группами есть."
   ]
  },
  {
   "cell_type": "markdown",
   "metadata": {},
   "source": [
    "Для проверки выборок применим критерий Манна-Уитни."
   ]
  },
  {
   "cell_type": "code",
   "execution_count": 483,
   "metadata": {},
   "outputs": [
    {
     "name": "stdout",
     "output_type": "stream",
     "text": [
      "P-value: 0.729\n",
      "Относительный прирост среднего чека группы B к группе A: 0.259\n"
     ]
    }
   ],
   "source": [
    "print('P-value:','{0:.3f}'.format(stats.mannwhitneyu(orders[orders['group']=='A']['revenue'], orders[orders['group']=='B']['revenue'])[1]))\n",
    "print('Относительный прирост среднего чека группы B к группе A:','{0:.3f}'.format(orders[orders['group']=='B']['revenue'].mean()/orders[orders['group']=='A']['revenue'].mean()-1)) "
   ]
  },
  {
   "cell_type": "markdown",
   "metadata": {},
   "source": [
    "**Вывод**: P-value значительно больше 0.05. Нулевую гипотезу не отвергаем, различий в среднем чеке нет. При этом средний чек группы B на 25,9% больше среднего чека группы А. Вероятно, проблема в выбросах. Далее проверим гипотезы, исключив выбросы."
   ]
  },
  {
   "cell_type": "markdown",
   "metadata": {},
   "source": [
    "### Посчитаем статистическую значимость различий в конверсии между группами по «очищенным» данным. Сделаем выводы и предположения."
   ]
  },
  {
   "cell_type": "markdown",
   "metadata": {},
   "source": [
    "#### Сделаем срез аномальных пользователей и рассмотрим его"
   ]
  },
  {
   "cell_type": "markdown",
   "metadata": {},
   "source": [
    "Выберем границей аномального покупательского поведения пользователей 95 перцентиль как по количеству заказов, так и по размеру чека. В этом случае к аномальным пользователям относятся те, кто совершил больше 2 покупок и покупки на сумму более 28 000 руб."
   ]
  },
  {
   "cell_type": "code",
   "execution_count": 484,
   "metadata": {},
   "outputs": [
    {
     "name": "stdout",
     "output_type": "stream",
     "text": [
      "1099    148427295\n",
      "18      199603092\n",
      "928     204675465\n",
      "23      237748145\n",
      "37      249864742\n",
      "Name: userId, dtype: int64\n",
      "74\n"
     ]
    }
   ],
   "source": [
    "usersWithManyOrders = pd.concat(\n",
    "    [\n",
    "        ordersByUsersA[ordersByUsersA['orders'] > order_count_anomal]['userId'],\n",
    "        ordersByUsersB[ordersByUsersB['orders'] > order_count_anomal]['userId'],\n",
    "    ],\n",
    "    axis=0,\n",
    ")\n",
    "usersWithExpensiveOrders = orders[orders['revenue'] > order_sum_anomal]['userId']\n",
    "abnormalUsers = (\n",
    "    pd.concat([usersWithManyOrders, usersWithExpensiveOrders], axis=0)\n",
    "    .drop_duplicates()\n",
    "    .sort_values()\n",
    ")\n",
    "print(abnormalUsers.head(5))\n",
    "print(abnormalUsers.shape[0])"
   ]
  },
  {
   "cell_type": "markdown",
   "metadata": {},
   "source": [
    "Всего в тест попало 74 аномальных пользователя. Посчитаем статистическую значимость по очищенным данным."
   ]
  },
  {
   "cell_type": "markdown",
   "metadata": {},
   "source": [
    "#### Посчитаем статистическую значимость различий в конверсии между группами по «очищенным» данным."
   ]
  },
  {
   "cell_type": "markdown",
   "metadata": {},
   "source": [
    "Сформулируем гипотезы:\n",
    "\n",
    "- H0: различий в среднем количестве заказов на пользователя между группами нет.\n",
    "- H1: различия в среднем количестве заказов на пользователя между группами есть."
   ]
  },
  {
   "cell_type": "markdown",
   "metadata": {},
   "source": [
    "Подготовим выборки количества заказов по пользователям по группам теста:"
   ]
  },
  {
   "cell_type": "code",
   "execution_count": 485,
   "metadata": {},
   "outputs": [],
   "source": [
    "sampleAFiltered = pd.concat(\n",
    "    [\n",
    "        ordersByUsersA[\n",
    "            np.logical_not(ordersByUsersA['userId'].isin(abnormalUsers))\n",
    "        ]['orders'],\n",
    "        pd.Series(\n",
    "            0,\n",
    "            index=np.arange(\n",
    "                data['visitorsPerDateA'].sum() - len(ordersByUsersA['orders'])\n",
    "            ),\n",
    "            name='orders',\n",
    "        ),\n",
    "    ],\n",
    "    axis=0,\n",
    ")\n",
    "\n",
    "sampleBFiltered = pd.concat(\n",
    "    [\n",
    "        ordersByUsersB[\n",
    "            np.logical_not(ordersByUsersB['userId'].isin(abnormalUsers))\n",
    "        ]['orders'],\n",
    "        pd.Series(\n",
    "            0,\n",
    "            index=np.arange(\n",
    "                data['visitorsPerDateB'].sum() - len(ordersByUsersB['orders'])\n",
    "            ),\n",
    "            name='orders',\n",
    "        ),\n",
    "    ],\n",
    "    axis=0,\n",
    ") "
   ]
  },
  {
   "cell_type": "markdown",
   "metadata": {},
   "source": [
    "Применим статистический критерий Манна-Уитни к полученным выборкам:"
   ]
  },
  {
   "cell_type": "code",
   "execution_count": 486,
   "metadata": {
    "scrolled": false
   },
   "outputs": [
    {
     "name": "stdout",
     "output_type": "stream",
     "text": [
      "P-value: 0.013\n",
      "Относительный прирост конверсии группы B к группе A: 0.173\n"
     ]
    }
   ],
   "source": [
    "print('P-value:','{0:.3f}'.format(stats.mannwhitneyu(sampleAFiltered, sampleBFiltered)[1]))\n",
    "print('Относительный прирост конверсии группы B к группе A:','{0:.3f}'.format(sampleBFiltered.mean()/sampleAFiltered.mean()-1)) "
   ]
  },
  {
   "cell_type": "markdown",
   "metadata": {},
   "source": [
    "Результаты расчета статистической значимости на выборках без выбросов более явно показали различия между групами. P-value уменьшился с 0,017 до 0,013. А прирост средней конверсии группы B к конверсии группы A увеличился с 13,8% до 17,3%. Вероятно, наличие большого количества пользователей с аномальным количеством заказов в группе А искажало результаты проверки по сырым данным."
   ]
  },
  {
   "cell_type": "markdown",
   "metadata": {},
   "source": [
    "### Посчитаем статистическую значимость различий в среднем чеке заказа между группами по «очищенным» данным. Сделаем выводы и предположения."
   ]
  },
  {
   "cell_type": "markdown",
   "metadata": {},
   "source": [
    "Сформулируем гипотезы:\n",
    "\n",
    "- H0: различий в среднем чеке между группами нет.\n",
    "- H1: различия в среднем чеке группами есть."
   ]
  },
  {
   "cell_type": "markdown",
   "metadata": {},
   "source": [
    "Для проверки выборок применим критерий Манна-Уитни."
   ]
  },
  {
   "cell_type": "code",
   "execution_count": 487,
   "metadata": {
    "scrolled": true
   },
   "outputs": [
    {
     "name": "stdout",
     "output_type": "stream",
     "text": [
      "P-value: 0.738\n",
      "Относительный прирост среднего чека группы B к группе A: -0.020\n"
     ]
    }
   ],
   "source": [
    "print('P-value:',\n",
    "    '{0:.3f}'.format(\n",
    "        stats.mannwhitneyu(\n",
    "            orders[\n",
    "                np.logical_and(\n",
    "                    orders['group'] == 'A',\n",
    "                    np.logical_not(orders['userId'].isin(abnormalUsers)),\n",
    "                )\n",
    "            ]['revenue'],\n",
    "            orders[\n",
    "                np.logical_and(\n",
    "                    orders['group'] == 'B',\n",
    "                    np.logical_not(orders['userId'].isin(abnormalUsers)),\n",
    "                )\n",
    "            ]['revenue'],\n",
    "        )[1]\n",
    "    )\n",
    ")\n",
    "\n",
    "print('Относительный прирост среднего чека группы B к группе A:',\n",
    "    \"{0:.3f}\".format(\n",
    "        orders[\n",
    "            np.logical_and(\n",
    "                orders['group'] == 'B',\n",
    "                np.logical_not(orders['userId'].isin(abnormalUsers)),\n",
    "            )\n",
    "        ]['revenue'].mean()\n",
    "        / orders[\n",
    "            np.logical_and(\n",
    "                orders['group'] == 'A',\n",
    "                np.logical_not(orders['userId'].isin(abnormalUsers)),\n",
    "            )\n",
    "        ]['revenue'].mean()\n",
    "        - 1\n",
    "    )\n",
    ") "
   ]
  },
  {
   "cell_type": "markdown",
   "metadata": {},
   "source": [
    "Результаты расчета статистической значимости различий в среднем чеке заказа между группами без выбросов подтвердили предположение о наличии в выборке A большого количества аномально крупных заказов. Исключив эти заказы получаем результат: P-value практически не изменился и составил 0,738 - нулевую гипотезу не отвергаем, различий в среднем чкеке между группами практически нет. При этом средний чек группы A на 2% меньше среднего чека группы B."
   ]
  },
  {
   "cell_type": "markdown",
   "metadata": {},
   "source": [
    "### Примем решение по результатам теста"
   ]
  },
  {
   "cell_type": "markdown",
   "metadata": {},
   "source": [
    "#### Варианты решений: \n",
    "\n",
    "1. Остановить тест, зафиксировать победу одной из групп. \n",
    "\n",
    "2. Остановить тест, зафиксировать отсутствие различий между группами. \n",
    "\n",
    "3. Продолжить тест."
   ]
  },
  {
   "attachments": {
    "image-2.png": {
     "image/png": "[encoded data removed]"
    },
    "image.png": {
     "image/png": "[encoded data removed]"
    }
   },
   "cell_type": "markdown",
   "metadata": {},
   "source": [
    "#### Данные для принятия решения:\n",
    "\n",
    "- есть статистически значимое различие по среднему количеству заказов на пользователей как по сырым данным, так и по очищенным от аномалий. Прирост средней конверсии группы B к конверсии группы A составляет 17,3%;\n",
    "\n",
    "\n",
    "- статистически значимых различий в среднем чеке между группами нет;\n",
    "\n",
    "\n",
    "- согласно графику различия конверсии сегмент B лидирует по конверсии, самый лучший показатель был в середине исследования, прирост по отношению к группе A составил около 20%, после чего произошло незначительное снижение;\n",
    "\n",
    "![image-2.png](attachment:image-2.png)\n",
    "\n",
    "\n",
    "- по графику различия среднего чека сложно сделать выводы, т.к. он подвержен резким колебаниям.\n",
    "\n",
    "![image.png](attachment:image.png)"
   ]
  },
  {
   "cell_type": "markdown",
   "metadata": {},
   "source": [
    "#### Решение по результататм A/B-теста:"
   ]
  },
  {
   "cell_type": "markdown",
   "metadata": {},
   "source": [
    "Эксперимент можно признать успешным и завершить. Средний чек не изменился, но прирост конверсии в группе B составляет 17,3% по отношению к группе A. В целом, внедряемое изменение (Добавление формы подписки на все страницы сайта) и должно увеличивать число повторных покупок клиентов, т.к. позволяет магазину производить e-mail рассылки, направленные на возврат покупателей."
   ]
  }
 ],
 "metadata": {
  "ExecuteTimeLog": [
   {
    "duration": 61,
    "start_time": "2022-06-22T10:15:48.041Z"
   },
   {
    "duration": 57,
    "start_time": "2022-06-22T10:15:55.460Z"
   },
   {
    "duration": 469,
    "start_time": "2022-06-22T10:37:14.214Z"
   },
   {
    "duration": 48,
    "start_time": "2022-06-22T10:38:33.146Z"
   },
   {
    "duration": 67,
    "start_time": "2022-06-22T10:38:42.290Z"
   },
   {
    "duration": 37,
    "start_time": "2022-06-22T10:38:51.498Z"
   },
   {
    "duration": 70,
    "start_time": "2022-06-22T10:41:16.062Z"
   },
   {
    "duration": 11,
    "start_time": "2022-06-22T10:41:29.170Z"
   },
   {
    "duration": 44,
    "start_time": "2022-06-22T10:43:43.781Z"
   },
   {
    "duration": 47,
    "start_time": "2022-06-22T10:44:05.166Z"
   },
   {
    "duration": 9,
    "start_time": "2022-06-22T10:44:14.902Z"
   },
   {
    "duration": 11,
    "start_time": "2022-06-22T11:10:12.192Z"
   },
   {
    "duration": 150,
    "start_time": "2022-06-22T11:10:37.980Z"
   },
   {
    "duration": 7,
    "start_time": "2022-06-22T11:10:39.919Z"
   },
   {
    "duration": 7,
    "start_time": "2022-06-22T11:11:20.734Z"
   },
   {
    "duration": 12,
    "start_time": "2022-06-22T11:11:50.781Z"
   },
   {
    "duration": 11,
    "start_time": "2022-06-22T11:12:05.592Z"
   },
   {
    "duration": 6,
    "start_time": "2022-06-22T11:12:53.286Z"
   },
   {
    "duration": 3,
    "start_time": "2022-06-22T11:15:40.792Z"
   },
   {
    "duration": 435,
    "start_time": "2022-06-22T11:23:08.713Z"
   },
   {
    "duration": 38,
    "start_time": "2022-06-22T11:27:00.868Z"
   },
   {
    "duration": 3,
    "start_time": "2022-06-22T11:27:38.742Z"
   },
   {
    "duration": 35,
    "start_time": "2022-06-22T11:27:41.823Z"
   },
   {
    "duration": 3,
    "start_time": "2022-06-22T11:27:59.553Z"
   },
   {
    "duration": 46,
    "start_time": "2022-06-22T11:27:59.558Z"
   },
   {
    "duration": 7,
    "start_time": "2022-06-22T11:27:59.606Z"
   },
   {
    "duration": 20,
    "start_time": "2022-06-22T11:27:59.615Z"
   },
   {
    "duration": 73,
    "start_time": "2022-06-22T11:27:59.636Z"
   },
   {
    "duration": 8,
    "start_time": "2022-06-22T11:27:59.710Z"
   },
   {
    "duration": 21,
    "start_time": "2022-06-22T11:27:59.720Z"
   },
   {
    "duration": 13,
    "start_time": "2022-06-22T11:27:59.743Z"
   },
   {
    "duration": 16,
    "start_time": "2022-06-22T11:27:59.758Z"
   },
   {
    "duration": 7,
    "start_time": "2022-06-22T11:27:59.777Z"
   },
   {
    "duration": 15,
    "start_time": "2022-06-22T11:27:59.787Z"
   },
   {
    "duration": 27,
    "start_time": "2022-06-22T11:28:05.732Z"
   },
   {
    "duration": 3,
    "start_time": "2022-06-22T11:30:19.528Z"
   },
   {
    "duration": 282,
    "start_time": "2022-06-22T11:30:22.577Z"
   },
   {
    "duration": 64,
    "start_time": "2022-06-22T13:25:44.979Z"
   },
   {
    "duration": 247,
    "start_time": "2022-06-22T13:25:47.006Z"
   },
   {
    "duration": 166,
    "start_time": "2022-06-22T13:25:53.592Z"
   },
   {
    "duration": 340,
    "start_time": "2022-06-22T13:28:03.762Z"
   },
   {
    "duration": 180,
    "start_time": "2022-06-22T13:28:13.540Z"
   },
   {
    "duration": 177,
    "start_time": "2022-06-22T13:50:20.334Z"
   },
   {
    "duration": 153,
    "start_time": "2022-06-22T13:50:26.037Z"
   },
   {
    "duration": 332,
    "start_time": "2022-06-22T13:52:03.545Z"
   },
   {
    "duration": 218,
    "start_time": "2022-06-22T13:52:31.307Z"
   },
   {
    "duration": 195,
    "start_time": "2022-06-22T13:52:51.953Z"
   },
   {
    "duration": 205,
    "start_time": "2022-06-22T13:53:10.457Z"
   },
   {
    "duration": 250,
    "start_time": "2022-06-22T13:53:30.246Z"
   },
   {
    "duration": 292,
    "start_time": "2022-06-22T13:53:53.514Z"
   },
   {
    "duration": 208,
    "start_time": "2022-06-22T13:54:17.089Z"
   },
   {
    "duration": 439,
    "start_time": "2022-06-22T13:54:24.344Z"
   },
   {
    "duration": 323,
    "start_time": "2022-06-22T13:56:40.787Z"
   },
   {
    "duration": 222,
    "start_time": "2022-06-22T13:57:30.021Z"
   },
   {
    "duration": 3,
    "start_time": "2022-06-22T13:59:04.014Z"
   },
   {
    "duration": 4,
    "start_time": "2022-06-22T13:59:10.198Z"
   },
   {
    "duration": 202,
    "start_time": "2022-06-22T13:59:58.467Z"
   },
   {
    "duration": 200,
    "start_time": "2022-06-22T14:00:16.165Z"
   },
   {
    "duration": 69,
    "start_time": "2022-06-22T14:00:25.888Z"
   },
   {
    "duration": 254,
    "start_time": "2022-06-22T14:00:31.183Z"
   },
   {
    "duration": 334,
    "start_time": "2022-06-22T14:07:46.181Z"
   },
   {
    "duration": 412,
    "start_time": "2022-06-22T14:07:52.308Z"
   },
   {
    "duration": 362,
    "start_time": "2022-06-22T14:08:10.146Z"
   },
   {
    "duration": 324,
    "start_time": "2022-06-22T14:08:16.886Z"
   },
   {
    "duration": 264,
    "start_time": "2022-06-22T14:08:38.446Z"
   },
   {
    "duration": 303,
    "start_time": "2022-06-22T14:08:44.946Z"
   },
   {
    "duration": 331,
    "start_time": "2022-06-22T14:09:18.086Z"
   },
   {
    "duration": 373,
    "start_time": "2022-06-22T14:09:30.686Z"
   },
   {
    "duration": 447,
    "start_time": "2022-06-22T14:11:22.510Z"
   },
   {
    "duration": 173,
    "start_time": "2022-06-22T14:33:51.123Z"
   },
   {
    "duration": 190,
    "start_time": "2022-06-22T14:34:24.691Z"
   },
   {
    "duration": 194,
    "start_time": "2022-06-22T14:35:11.983Z"
   },
   {
    "duration": 281,
    "start_time": "2022-06-22T14:55:38.985Z"
   },
   {
    "duration": 179,
    "start_time": "2022-06-22T14:56:27.252Z"
   },
   {
    "duration": 258,
    "start_time": "2022-06-22T14:57:05.775Z"
   },
   {
    "duration": 192,
    "start_time": "2022-06-22T14:57:20.214Z"
   },
   {
    "duration": 291,
    "start_time": "2022-06-22T14:58:06.149Z"
   },
   {
    "duration": 8,
    "start_time": "2022-06-22T15:11:03.049Z"
   },
   {
    "duration": 131,
    "start_time": "2022-06-22T15:11:57.553Z"
   },
   {
    "duration": 10,
    "start_time": "2022-06-22T15:13:21.146Z"
   },
   {
    "duration": 108,
    "start_time": "2022-06-22T15:13:45.239Z"
   },
   {
    "duration": 206,
    "start_time": "2022-06-22T15:13:50.452Z"
   },
   {
    "duration": 120,
    "start_time": "2022-06-22T15:15:00.561Z"
   },
   {
    "duration": 110,
    "start_time": "2022-06-22T15:16:02.318Z"
   },
   {
    "duration": 205,
    "start_time": "2022-06-22T15:17:05.379Z"
   },
   {
    "duration": 53,
    "start_time": "2022-06-22T15:17:31.065Z"
   },
   {
    "duration": 139,
    "start_time": "2022-06-22T15:17:36.599Z"
   },
   {
    "duration": 132,
    "start_time": "2022-06-22T15:17:47.918Z"
   },
   {
    "duration": 149,
    "start_time": "2022-06-22T15:17:54.551Z"
   },
   {
    "duration": 4,
    "start_time": "2022-06-22T15:20:35.948Z"
   },
   {
    "duration": 4,
    "start_time": "2022-06-22T15:20:46.576Z"
   },
   {
    "duration": 47,
    "start_time": "2022-06-22T15:21:19.848Z"
   },
   {
    "duration": 9,
    "start_time": "2022-06-22T15:24:55.250Z"
   },
   {
    "duration": 122,
    "start_time": "2022-06-22T15:25:16.546Z"
   },
   {
    "duration": 128,
    "start_time": "2022-06-22T15:25:22.286Z"
   },
   {
    "duration": 9,
    "start_time": "2022-06-22T15:26:05.295Z"
   },
   {
    "duration": 115,
    "start_time": "2022-06-22T15:28:47.547Z"
   },
   {
    "duration": 126,
    "start_time": "2022-06-22T15:29:00.234Z"
   },
   {
    "duration": 191,
    "start_time": "2022-06-22T15:29:22.990Z"
   },
   {
    "duration": 127,
    "start_time": "2022-06-22T15:29:28.968Z"
   },
   {
    "duration": 163,
    "start_time": "2022-06-22T15:29:34.319Z"
   },
   {
    "duration": 6,
    "start_time": "2022-06-22T16:04:14.572Z"
   },
   {
    "duration": 7,
    "start_time": "2022-06-22T16:14:47.585Z"
   },
   {
    "duration": 184,
    "start_time": "2022-06-22T16:21:04.475Z"
   },
   {
    "duration": 8,
    "start_time": "2022-06-22T16:21:44.574Z"
   },
   {
    "duration": 135,
    "start_time": "2022-06-22T16:22:27.173Z"
   },
   {
    "duration": 10,
    "start_time": "2022-06-22T16:23:03.210Z"
   },
   {
    "duration": 9,
    "start_time": "2022-06-22T16:23:41.018Z"
   },
   {
    "duration": 210,
    "start_time": "2022-06-22T16:25:23.820Z"
   },
   {
    "duration": 23,
    "start_time": "2022-06-22T16:25:31.076Z"
   },
   {
    "duration": 173,
    "start_time": "2022-06-22T16:25:34.373Z"
   },
   {
    "duration": 7,
    "start_time": "2022-06-22T16:25:40.989Z"
   },
   {
    "duration": 146,
    "start_time": "2022-06-22T16:28:19.621Z"
   },
   {
    "duration": 369,
    "start_time": "2022-06-22T16:28:47.968Z"
   },
   {
    "duration": 151,
    "start_time": "2022-06-22T16:29:01.064Z"
   },
   {
    "duration": 49,
    "start_time": "2022-06-23T09:17:12.891Z"
   },
   {
    "duration": 1283,
    "start_time": "2022-06-23T09:17:18.906Z"
   },
   {
    "duration": 3,
    "start_time": "2022-06-23T09:17:20.191Z"
   },
   {
    "duration": 14,
    "start_time": "2022-06-23T09:17:20.195Z"
   },
   {
    "duration": 87,
    "start_time": "2022-06-23T09:17:20.210Z"
   },
   {
    "duration": 12,
    "start_time": "2022-06-23T09:17:20.298Z"
   },
   {
    "duration": 25,
    "start_time": "2022-06-23T09:17:20.312Z"
   },
   {
    "duration": 148,
    "start_time": "2022-06-23T09:17:20.339Z"
   },
   {
    "duration": 9,
    "start_time": "2022-06-23T09:17:20.489Z"
   },
   {
    "duration": 15,
    "start_time": "2022-06-23T09:17:20.500Z"
   },
   {
    "duration": 28,
    "start_time": "2022-06-23T09:17:20.518Z"
   },
   {
    "duration": 14,
    "start_time": "2022-06-23T09:17:20.548Z"
   },
   {
    "duration": 16,
    "start_time": "2022-06-23T09:17:20.564Z"
   },
   {
    "duration": 12,
    "start_time": "2022-06-23T09:17:20.581Z"
   },
   {
    "duration": 281,
    "start_time": "2022-06-23T09:17:20.594Z"
   },
   {
    "duration": 282,
    "start_time": "2022-06-23T09:17:20.876Z"
   },
   {
    "duration": 207,
    "start_time": "2022-06-23T09:17:21.159Z"
   },
   {
    "duration": 397,
    "start_time": "2022-06-23T09:17:21.368Z"
   },
   {
    "duration": 213,
    "start_time": "2022-06-23T09:17:21.767Z"
   },
   {
    "duration": 344,
    "start_time": "2022-06-23T09:17:21.982Z"
   },
   {
    "duration": 160,
    "start_time": "2022-06-23T09:17:22.328Z"
   },
   {
    "duration": 5,
    "start_time": "2022-06-23T09:17:22.490Z"
   },
   {
    "duration": 147,
    "start_time": "2022-06-23T09:17:22.497Z"
   },
   {
    "duration": 145,
    "start_time": "2022-06-23T09:17:22.645Z"
   },
   {
    "duration": 8,
    "start_time": "2022-06-23T09:17:22.792Z"
   },
   {
    "duration": 9,
    "start_time": "2022-06-23T09:17:22.802Z"
   },
   {
    "duration": 294,
    "start_time": "2022-06-23T09:17:22.812Z"
   },
   {
    "duration": 28,
    "start_time": "2022-06-23T09:17:23.108Z"
   },
   {
    "duration": 231,
    "start_time": "2022-06-23T09:17:23.139Z"
   },
   {
    "duration": 5,
    "start_time": "2022-06-23T09:17:23.372Z"
   },
   {
    "duration": 162,
    "start_time": "2022-06-23T09:17:23.379Z"
   },
   {
    "duration": 11,
    "start_time": "2022-06-23T09:17:56.717Z"
   },
   {
    "duration": 10,
    "start_time": "2022-06-23T09:31:13.523Z"
   },
   {
    "duration": 11,
    "start_time": "2022-06-23T09:33:09.534Z"
   },
   {
    "duration": 9,
    "start_time": "2022-06-23T09:33:20.902Z"
   },
   {
    "duration": 9,
    "start_time": "2022-06-23T09:33:56.709Z"
   },
   {
    "duration": 10,
    "start_time": "2022-06-23T09:41:31.616Z"
   },
   {
    "duration": 8,
    "start_time": "2022-06-23T09:52:18.616Z"
   },
   {
    "duration": 22,
    "start_time": "2022-06-23T09:52:28.397Z"
   },
   {
    "duration": 4,
    "start_time": "2022-06-23T10:11:17.215Z"
   },
   {
    "duration": 5,
    "start_time": "2022-06-23T10:11:30.749Z"
   },
   {
    "duration": 6,
    "start_time": "2022-06-23T10:12:05.802Z"
   },
   {
    "duration": 6,
    "start_time": "2022-06-23T10:12:33.395Z"
   },
   {
    "duration": 5,
    "start_time": "2022-06-23T10:12:38.110Z"
   },
   {
    "duration": 14,
    "start_time": "2022-06-23T10:17:26.198Z"
   },
   {
    "duration": 55,
    "start_time": "2022-06-23T11:51:31.780Z"
   },
   {
    "duration": 272,
    "start_time": "2022-06-23T12:19:17.278Z"
   },
   {
    "duration": 332,
    "start_time": "2022-06-23T12:20:24.338Z"
   },
   {
    "duration": 275,
    "start_time": "2022-06-23T12:20:52.278Z"
   },
   {
    "duration": 8,
    "start_time": "2022-06-23T12:21:03.766Z"
   },
   {
    "duration": 274,
    "start_time": "2022-06-23T12:21:05.398Z"
   },
   {
    "duration": 260,
    "start_time": "2022-06-23T12:21:21.764Z"
   },
   {
    "duration": 135,
    "start_time": "2022-06-23T12:57:16.170Z"
   },
   {
    "duration": 5,
    "start_time": "2022-06-23T13:09:45.951Z"
   },
   {
    "duration": 13,
    "start_time": "2022-06-23T13:09:45.957Z"
   },
   {
    "duration": 6,
    "start_time": "2022-06-23T13:09:45.972Z"
   },
   {
    "duration": 40,
    "start_time": "2022-06-23T13:09:45.980Z"
   },
   {
    "duration": 20,
    "start_time": "2022-06-23T13:09:46.022Z"
   },
   {
    "duration": 309,
    "start_time": "2022-06-23T13:09:46.044Z"
   },
   {
    "duration": 16,
    "start_time": "2022-06-23T13:09:46.360Z"
   },
   {
    "duration": 297,
    "start_time": "2022-06-23T13:09:46.379Z"
   },
   {
    "duration": 59,
    "start_time": "2022-06-23T13:09:46.678Z"
   },
   {
    "duration": 14,
    "start_time": "2022-06-23T13:09:46.743Z"
   },
   {
    "duration": 17,
    "start_time": "2022-06-23T13:09:46.761Z"
   },
   {
    "duration": 16,
    "start_time": "2022-06-23T13:09:46.780Z"
   },
   {
    "duration": 16,
    "start_time": "2022-06-23T13:09:46.799Z"
   },
   {
    "duration": 29,
    "start_time": "2022-06-23T13:09:46.817Z"
   },
   {
    "duration": 22,
    "start_time": "2022-06-23T13:09:46.849Z"
   },
   {
    "duration": 401,
    "start_time": "2022-06-23T13:09:46.874Z"
   },
   {
    "duration": 230,
    "start_time": "2022-06-23T13:09:47.276Z"
   },
   {
    "duration": 334,
    "start_time": "2022-06-23T13:09:47.508Z"
   },
   {
    "duration": 336,
    "start_time": "2022-06-23T13:09:47.846Z"
   },
   {
    "duration": 238,
    "start_time": "2022-06-23T13:09:48.184Z"
   },
   {
    "duration": 356,
    "start_time": "2022-06-23T13:09:48.426Z"
   },
   {
    "duration": 223,
    "start_time": "2022-06-23T13:09:48.784Z"
   },
   {
    "duration": 6,
    "start_time": "2022-06-23T13:09:49.010Z"
   },
   {
    "duration": 170,
    "start_time": "2022-06-23T13:09:49.018Z"
   },
   {
    "duration": 160,
    "start_time": "2022-06-23T13:09:49.190Z"
   },
   {
    "duration": 5,
    "start_time": "2022-06-23T13:09:49.352Z"
   },
   {
    "duration": 238,
    "start_time": "2022-06-23T13:09:49.358Z"
   },
   {
    "duration": 42,
    "start_time": "2022-06-23T13:09:49.598Z"
   },
   {
    "duration": 164,
    "start_time": "2022-06-23T13:09:49.644Z"
   },
   {
    "duration": 19,
    "start_time": "2022-06-23T13:09:49.810Z"
   },
   {
    "duration": 224,
    "start_time": "2022-06-23T13:09:49.831Z"
   },
   {
    "duration": 15,
    "start_time": "2022-06-23T13:09:50.058Z"
   },
   {
    "duration": 19,
    "start_time": "2022-06-23T13:09:50.075Z"
   },
   {
    "duration": 35,
    "start_time": "2022-06-23T13:09:50.097Z"
   },
   {
    "duration": 48,
    "start_time": "2022-06-23T13:09:50.136Z"
   },
   {
    "duration": 24,
    "start_time": "2022-06-23T13:09:50.185Z"
   },
   {
    "duration": 1132,
    "start_time": "2022-06-23T16:48:53.419Z"
   },
   {
    "duration": 3,
    "start_time": "2022-06-23T16:48:54.553Z"
   },
   {
    "duration": 8,
    "start_time": "2022-06-23T16:48:54.557Z"
   },
   {
    "duration": 83,
    "start_time": "2022-06-23T16:48:54.566Z"
   },
   {
    "duration": 10,
    "start_time": "2022-06-23T16:48:54.651Z"
   },
   {
    "duration": 264,
    "start_time": "2022-06-23T16:48:54.663Z"
   },
   {
    "duration": 17,
    "start_time": "2022-06-23T16:48:54.928Z"
   },
   {
    "duration": 263,
    "start_time": "2022-06-23T16:48:54.947Z"
   },
   {
    "duration": 132,
    "start_time": "2022-06-23T16:48:55.211Z"
   },
   {
    "duration": 8,
    "start_time": "2022-06-23T16:48:55.345Z"
   },
   {
    "duration": 15,
    "start_time": "2022-06-23T16:48:55.355Z"
   },
   {
    "duration": 15,
    "start_time": "2022-06-23T16:48:55.372Z"
   },
   {
    "duration": 14,
    "start_time": "2022-06-23T16:48:55.388Z"
   },
   {
    "duration": 12,
    "start_time": "2022-06-23T16:48:55.405Z"
   },
   {
    "duration": 8,
    "start_time": "2022-06-23T16:48:55.418Z"
   },
   {
    "duration": 302,
    "start_time": "2022-06-23T16:48:55.435Z"
   },
   {
    "duration": 277,
    "start_time": "2022-06-23T16:48:55.744Z"
   },
   {
    "duration": 200,
    "start_time": "2022-06-23T16:48:56.023Z"
   },
   {
    "duration": 316,
    "start_time": "2022-06-23T16:48:56.228Z"
   },
   {
    "duration": 213,
    "start_time": "2022-06-23T16:48:56.545Z"
   },
   {
    "duration": 307,
    "start_time": "2022-06-23T16:48:56.760Z"
   },
   {
    "duration": 146,
    "start_time": "2022-06-23T16:48:57.069Z"
   },
   {
    "duration": 13,
    "start_time": "2022-06-23T16:48:57.217Z"
   },
   {
    "duration": 215,
    "start_time": "2022-06-23T16:48:57.233Z"
   },
   {
    "duration": 147,
    "start_time": "2022-06-23T16:48:57.450Z"
   },
   {
    "duration": 4,
    "start_time": "2022-06-23T16:48:57.599Z"
   },
   {
    "duration": 234,
    "start_time": "2022-06-23T16:48:57.606Z"
   },
   {
    "duration": 20,
    "start_time": "2022-06-23T16:48:57.842Z"
   },
   {
    "duration": 141,
    "start_time": "2022-06-23T16:48:57.864Z"
   },
   {
    "duration": 25,
    "start_time": "2022-06-23T16:48:58.007Z"
   },
   {
    "duration": 215,
    "start_time": "2022-06-23T16:48:58.033Z"
   },
   {
    "duration": 9,
    "start_time": "2022-06-23T16:48:58.249Z"
   },
   {
    "duration": 8,
    "start_time": "2022-06-23T16:48:58.260Z"
   },
   {
    "duration": 15,
    "start_time": "2022-06-23T16:48:58.269Z"
   },
   {
    "duration": 39,
    "start_time": "2022-06-23T16:48:58.286Z"
   },
   {
    "duration": 17,
    "start_time": "2022-06-23T16:48:58.326Z"
   },
   {
    "duration": 8,
    "start_time": "2022-06-25T09:36:05.276Z"
   },
   {
    "duration": 45,
    "start_time": "2022-06-25T09:36:09.478Z"
   },
   {
    "duration": 1300,
    "start_time": "2022-06-25T09:36:14.784Z"
   },
   {
    "duration": 3,
    "start_time": "2022-06-25T09:36:16.086Z"
   },
   {
    "duration": 6,
    "start_time": "2022-06-25T09:36:16.091Z"
   },
   {
    "duration": 68,
    "start_time": "2022-06-25T09:36:16.099Z"
   },
   {
    "duration": 11,
    "start_time": "2022-06-25T09:36:16.169Z"
   },
   {
    "duration": 256,
    "start_time": "2022-06-25T09:36:16.181Z"
   },
   {
    "duration": 9,
    "start_time": "2022-06-25T09:36:16.439Z"
   },
   {
    "duration": 258,
    "start_time": "2022-06-25T09:36:16.450Z"
   },
   {
    "duration": 122,
    "start_time": "2022-06-25T09:36:16.710Z"
   },
   {
    "duration": 11,
    "start_time": "2022-06-25T09:36:16.835Z"
   },
   {
    "duration": 19,
    "start_time": "2022-06-25T09:36:16.848Z"
   },
   {
    "duration": 13,
    "start_time": "2022-06-25T09:36:16.869Z"
   },
   {
    "duration": 14,
    "start_time": "2022-06-25T09:36:16.884Z"
   },
   {
    "duration": 10,
    "start_time": "2022-06-25T09:36:16.900Z"
   },
   {
    "duration": 16,
    "start_time": "2022-06-25T09:36:16.912Z"
   },
   {
    "duration": 7,
    "start_time": "2022-06-25T09:36:18.849Z"
   },
   {
    "duration": 6,
    "start_time": "2022-06-25T09:36:37.223Z"
   },
   {
    "duration": 52,
    "start_time": "2022-06-25T09:59:56.359Z"
   },
   {
    "duration": 5,
    "start_time": "2022-06-25T10:00:02.404Z"
   },
   {
    "duration": 68,
    "start_time": "2022-06-25T10:06:39.786Z"
   },
   {
    "duration": 8,
    "start_time": "2022-06-25T10:06:55.231Z"
   },
   {
    "duration": 5,
    "start_time": "2022-06-25T10:15:42.096Z"
   },
   {
    "duration": 11,
    "start_time": "2022-06-25T10:17:02.551Z"
   },
   {
    "duration": 10,
    "start_time": "2022-06-25T10:18:22.254Z"
   },
   {
    "duration": 5,
    "start_time": "2022-06-25T10:18:34.591Z"
   },
   {
    "duration": 9,
    "start_time": "2022-06-25T10:19:15.991Z"
   },
   {
    "duration": 7,
    "start_time": "2022-06-25T10:19:31.401Z"
   },
   {
    "duration": 61,
    "start_time": "2022-06-25T10:19:52.055Z"
   },
   {
    "duration": 5,
    "start_time": "2022-06-25T10:20:09.957Z"
   },
   {
    "duration": 4,
    "start_time": "2022-06-25T10:21:16.064Z"
   },
   {
    "duration": 4,
    "start_time": "2022-06-25T10:21:31.080Z"
   },
   {
    "duration": 3,
    "start_time": "2022-06-25T10:22:10.170Z"
   },
   {
    "duration": 5,
    "start_time": "2022-06-25T10:22:39.593Z"
   },
   {
    "duration": 5,
    "start_time": "2022-06-25T10:22:53.785Z"
   },
   {
    "duration": 5,
    "start_time": "2022-06-25T10:23:16.451Z"
   },
   {
    "duration": 6,
    "start_time": "2022-06-25T10:23:49.442Z"
   },
   {
    "duration": 61,
    "start_time": "2022-06-25T10:23:58.152Z"
   },
   {
    "duration": 5,
    "start_time": "2022-06-25T10:24:04.536Z"
   },
   {
    "duration": 6,
    "start_time": "2022-06-25T10:24:19.115Z"
   },
   {
    "duration": 6,
    "start_time": "2022-06-25T10:24:29.889Z"
   },
   {
    "duration": 6,
    "start_time": "2022-06-25T10:24:38.503Z"
   },
   {
    "duration": 10,
    "start_time": "2022-06-25T12:29:45.538Z"
   },
   {
    "duration": 3,
    "start_time": "2022-06-25T12:29:52.990Z"
   },
   {
    "duration": 7,
    "start_time": "2022-06-25T12:29:52.996Z"
   },
   {
    "duration": 6,
    "start_time": "2022-06-25T12:29:53.004Z"
   },
   {
    "duration": 43,
    "start_time": "2022-06-25T12:29:53.011Z"
   },
   {
    "duration": 8,
    "start_time": "2022-06-25T12:29:53.055Z"
   },
   {
    "duration": 282,
    "start_time": "2022-06-25T12:29:53.065Z"
   },
   {
    "duration": 9,
    "start_time": "2022-06-25T12:29:53.349Z"
   },
   {
    "duration": 248,
    "start_time": "2022-06-25T12:29:53.360Z"
   },
   {
    "duration": 49,
    "start_time": "2022-06-25T12:29:53.611Z"
   },
   {
    "duration": 8,
    "start_time": "2022-06-25T12:29:53.662Z"
   },
   {
    "duration": 27,
    "start_time": "2022-06-25T12:29:53.671Z"
   },
   {
    "duration": 13,
    "start_time": "2022-06-25T12:29:53.700Z"
   },
   {
    "duration": 15,
    "start_time": "2022-06-25T12:29:53.715Z"
   },
   {
    "duration": 13,
    "start_time": "2022-06-25T12:29:53.733Z"
   },
   {
    "duration": 7,
    "start_time": "2022-06-25T12:29:53.747Z"
   },
   {
    "duration": 8,
    "start_time": "2022-06-25T12:29:53.756Z"
   },
   {
    "duration": 5,
    "start_time": "2022-06-25T12:29:53.766Z"
   },
   {
    "duration": 8,
    "start_time": "2022-06-25T12:29:53.772Z"
   },
   {
    "duration": 7,
    "start_time": "2022-06-25T12:29:53.782Z"
   },
   {
    "duration": 14,
    "start_time": "2022-06-25T12:29:53.790Z"
   },
   {
    "duration": 107,
    "start_time": "2022-06-25T12:29:53.806Z"
   },
   {
    "duration": 0,
    "start_time": "2022-06-25T12:29:53.914Z"
   },
   {
    "duration": 0,
    "start_time": "2022-06-25T12:29:53.916Z"
   },
   {
    "duration": 1,
    "start_time": "2022-06-25T12:29:53.916Z"
   },
   {
    "duration": 0,
    "start_time": "2022-06-25T12:29:53.917Z"
   },
   {
    "duration": 15,
    "start_time": "2022-06-25T12:29:56.897Z"
   },
   {
    "duration": 5,
    "start_time": "2022-06-25T12:30:12.597Z"
   },
   {
    "duration": 15,
    "start_time": "2022-06-25T12:30:12.611Z"
   },
   {
    "duration": 6,
    "start_time": "2022-06-25T12:30:12.638Z"
   },
   {
    "duration": 49,
    "start_time": "2022-06-25T12:30:12.646Z"
   },
   {
    "duration": 10,
    "start_time": "2022-06-25T12:30:12.696Z"
   },
   {
    "duration": 297,
    "start_time": "2022-06-25T12:30:12.708Z"
   },
   {
    "duration": 9,
    "start_time": "2022-06-25T12:30:13.007Z"
   },
   {
    "duration": 265,
    "start_time": "2022-06-25T12:30:13.023Z"
   },
   {
    "duration": 46,
    "start_time": "2022-06-25T12:30:13.290Z"
   },
   {
    "duration": 8,
    "start_time": "2022-06-25T12:30:13.338Z"
   },
   {
    "duration": 14,
    "start_time": "2022-06-25T12:30:13.347Z"
   },
   {
    "duration": 11,
    "start_time": "2022-06-25T12:30:13.363Z"
   },
   {
    "duration": 14,
    "start_time": "2022-06-25T12:30:13.375Z"
   },
   {
    "duration": 8,
    "start_time": "2022-06-25T12:30:13.390Z"
   },
   {
    "duration": 5,
    "start_time": "2022-06-25T12:30:13.399Z"
   },
   {
    "duration": 18,
    "start_time": "2022-06-25T12:30:13.407Z"
   },
   {
    "duration": 5,
    "start_time": "2022-06-25T12:30:13.428Z"
   },
   {
    "duration": 6,
    "start_time": "2022-06-25T12:30:13.434Z"
   },
   {
    "duration": 7,
    "start_time": "2022-06-25T12:30:13.441Z"
   },
   {
    "duration": 8,
    "start_time": "2022-06-25T12:30:13.449Z"
   },
   {
    "duration": 52,
    "start_time": "2022-06-25T12:30:13.459Z"
   },
   {
    "duration": 0,
    "start_time": "2022-06-25T12:30:13.513Z"
   },
   {
    "duration": 0,
    "start_time": "2022-06-25T12:30:13.514Z"
   },
   {
    "duration": 0,
    "start_time": "2022-06-25T12:30:13.515Z"
   },
   {
    "duration": 0,
    "start_time": "2022-06-25T12:30:13.516Z"
   },
   {
    "duration": 16,
    "start_time": "2022-06-25T12:30:16.129Z"
   },
   {
    "duration": 54,
    "start_time": "2022-06-25T12:31:35.258Z"
   },
   {
    "duration": 49,
    "start_time": "2022-06-25T12:32:15.340Z"
   },
   {
    "duration": 50,
    "start_time": "2022-06-25T12:32:38.948Z"
   },
   {
    "duration": 58,
    "start_time": "2022-06-25T12:33:00.204Z"
   },
   {
    "duration": 46,
    "start_time": "2022-06-25T12:33:16.539Z"
   },
   {
    "duration": 66,
    "start_time": "2022-06-25T12:33:49.588Z"
   },
   {
    "duration": 52,
    "start_time": "2022-06-25T12:34:48.444Z"
   },
   {
    "duration": 329,
    "start_time": "2022-06-25T12:37:27.941Z"
   },
   {
    "duration": 10,
    "start_time": "2022-06-25T12:38:09.651Z"
   },
   {
    "duration": 11,
    "start_time": "2022-06-25T12:38:11.647Z"
   },
   {
    "duration": 8,
    "start_time": "2022-06-25T12:38:15.731Z"
   },
   {
    "duration": 16,
    "start_time": "2022-06-25T12:38:15.743Z"
   },
   {
    "duration": 6,
    "start_time": "2022-06-25T12:38:15.761Z"
   },
   {
    "duration": 41,
    "start_time": "2022-06-25T12:38:15.768Z"
   },
   {
    "duration": 7,
    "start_time": "2022-06-25T12:38:15.811Z"
   },
   {
    "duration": 330,
    "start_time": "2022-06-25T12:38:15.820Z"
   },
   {
    "duration": 9,
    "start_time": "2022-06-25T12:38:16.155Z"
   },
   {
    "duration": 281,
    "start_time": "2022-06-25T12:38:16.166Z"
   },
   {
    "duration": 46,
    "start_time": "2022-06-25T12:38:16.453Z"
   },
   {
    "duration": 7,
    "start_time": "2022-06-25T12:38:16.500Z"
   },
   {
    "duration": 16,
    "start_time": "2022-06-25T12:38:16.510Z"
   },
   {
    "duration": 27,
    "start_time": "2022-06-25T12:38:16.534Z"
   },
   {
    "duration": 17,
    "start_time": "2022-06-25T12:38:16.563Z"
   },
   {
    "duration": 11,
    "start_time": "2022-06-25T12:38:16.582Z"
   },
   {
    "duration": 8,
    "start_time": "2022-06-25T12:38:16.595Z"
   },
   {
    "duration": 10,
    "start_time": "2022-06-25T12:38:16.604Z"
   },
   {
    "duration": 11,
    "start_time": "2022-06-25T12:38:16.615Z"
   },
   {
    "duration": 29,
    "start_time": "2022-06-25T12:38:16.633Z"
   },
   {
    "duration": 6,
    "start_time": "2022-06-25T12:38:16.663Z"
   },
   {
    "duration": 8,
    "start_time": "2022-06-25T12:38:16.671Z"
   },
   {
    "duration": 342,
    "start_time": "2022-06-25T12:38:16.680Z"
   },
   {
    "duration": 269,
    "start_time": "2022-06-25T12:38:17.031Z"
   },
   {
    "duration": 207,
    "start_time": "2022-06-25T12:38:17.302Z"
   },
   {
    "duration": 353,
    "start_time": "2022-06-25T12:38:17.510Z"
   },
   {
    "duration": 199,
    "start_time": "2022-06-25T12:38:17.864Z"
   },
   {
    "duration": 301,
    "start_time": "2022-06-25T12:38:19.445Z"
   },
   {
    "duration": 322,
    "start_time": "2022-06-25T12:38:31.142Z"
   },
   {
    "duration": 283,
    "start_time": "2022-06-25T12:38:55.687Z"
   },
   {
    "duration": 6,
    "start_time": "2022-06-25T12:40:23.839Z"
   },
   {
    "duration": 66,
    "start_time": "2022-06-25T12:40:30.798Z"
   },
   {
    "duration": 6,
    "start_time": "2022-06-25T12:40:39.862Z"
   },
   {
    "duration": 4,
    "start_time": "2022-06-25T12:41:19.352Z"
   },
   {
    "duration": 8,
    "start_time": "2022-06-25T12:41:33.438Z"
   },
   {
    "duration": 5,
    "start_time": "2022-06-25T12:41:46.559Z"
   },
   {
    "duration": 5,
    "start_time": "2022-06-25T12:43:15.601Z"
   },
   {
    "duration": 5,
    "start_time": "2022-06-25T12:43:24.236Z"
   },
   {
    "duration": 9,
    "start_time": "2022-06-25T12:44:20.193Z"
   },
   {
    "duration": 4,
    "start_time": "2022-06-25T12:44:36.536Z"
   },
   {
    "duration": 11,
    "start_time": "2022-06-25T12:44:36.542Z"
   },
   {
    "duration": 8,
    "start_time": "2022-06-25T12:44:36.555Z"
   },
   {
    "duration": 34,
    "start_time": "2022-06-25T12:44:36.565Z"
   },
   {
    "duration": 7,
    "start_time": "2022-06-25T12:44:36.601Z"
   },
   {
    "duration": 268,
    "start_time": "2022-06-25T12:44:36.610Z"
   },
   {
    "duration": 8,
    "start_time": "2022-06-25T12:44:36.879Z"
   },
   {
    "duration": 255,
    "start_time": "2022-06-25T12:44:36.888Z"
   },
   {
    "duration": 46,
    "start_time": "2022-06-25T12:44:37.145Z"
   },
   {
    "duration": 7,
    "start_time": "2022-06-25T12:44:37.193Z"
   },
   {
    "duration": 14,
    "start_time": "2022-06-25T12:44:37.202Z"
   },
   {
    "duration": 27,
    "start_time": "2022-06-25T12:44:37.218Z"
   },
   {
    "duration": 13,
    "start_time": "2022-06-25T12:44:37.247Z"
   },
   {
    "duration": 9,
    "start_time": "2022-06-25T12:44:37.262Z"
   },
   {
    "duration": 9,
    "start_time": "2022-06-25T12:44:37.273Z"
   },
   {
    "duration": 13,
    "start_time": "2022-06-25T12:44:37.284Z"
   },
   {
    "duration": 5,
    "start_time": "2022-06-25T12:44:37.299Z"
   },
   {
    "duration": 6,
    "start_time": "2022-06-25T12:44:37.305Z"
   },
   {
    "duration": 7,
    "start_time": "2022-06-25T12:44:37.312Z"
   },
   {
    "duration": 25,
    "start_time": "2022-06-25T12:44:37.321Z"
   },
   {
    "duration": 272,
    "start_time": "2022-06-25T12:44:37.348Z"
   },
   {
    "duration": 223,
    "start_time": "2022-06-25T12:44:37.623Z"
   },
   {
    "duration": 319,
    "start_time": "2022-06-25T12:44:37.848Z"
   },
   {
    "duration": 297,
    "start_time": "2022-06-25T12:44:38.169Z"
   },
   {
    "duration": 194,
    "start_time": "2022-06-25T12:44:38.467Z"
   },
   {
    "duration": 281,
    "start_time": "2022-06-25T12:44:38.663Z"
   },
   {
    "duration": 150,
    "start_time": "2022-06-25T12:44:38.946Z"
   },
   {
    "duration": 5,
    "start_time": "2022-06-25T12:44:42.088Z"
   },
   {
    "duration": 885,
    "start_time": "2022-06-25T12:45:06.210Z"
   },
   {
    "duration": 6,
    "start_time": "2022-06-25T12:45:22.240Z"
   },
   {
    "duration": 14,
    "start_time": "2022-06-25T13:14:24.027Z"
   },
   {
    "duration": 8,
    "start_time": "2022-06-25T13:14:52.823Z"
   },
   {
    "duration": 8,
    "start_time": "2022-06-25T13:15:51.681Z"
   },
   {
    "duration": 12,
    "start_time": "2022-06-25T13:16:11.215Z"
   },
   {
    "duration": 7,
    "start_time": "2022-06-25T13:16:25.236Z"
   },
   {
    "duration": 12,
    "start_time": "2022-06-25T13:17:26.202Z"
   },
   {
    "duration": 8,
    "start_time": "2022-06-25T13:18:33.175Z"
   },
   {
    "duration": 10,
    "start_time": "2022-06-25T13:18:36.527Z"
   },
   {
    "duration": 4,
    "start_time": "2022-06-25T13:18:45.325Z"
   },
   {
    "duration": 9,
    "start_time": "2022-06-25T13:18:45.331Z"
   },
   {
    "duration": 10,
    "start_time": "2022-06-25T13:18:45.342Z"
   },
   {
    "duration": 37,
    "start_time": "2022-06-25T13:18:45.354Z"
   },
   {
    "duration": 8,
    "start_time": "2022-06-25T13:18:45.393Z"
   },
   {
    "duration": 282,
    "start_time": "2022-06-25T13:18:45.403Z"
   },
   {
    "duration": 9,
    "start_time": "2022-06-25T13:18:45.687Z"
   },
   {
    "duration": 269,
    "start_time": "2022-06-25T13:18:45.697Z"
   },
   {
    "duration": 46,
    "start_time": "2022-06-25T13:18:45.967Z"
   },
   {
    "duration": 9,
    "start_time": "2022-06-25T13:18:46.014Z"
   },
   {
    "duration": 13,
    "start_time": "2022-06-25T13:18:46.026Z"
   },
   {
    "duration": 12,
    "start_time": "2022-06-25T13:18:46.041Z"
   },
   {
    "duration": 16,
    "start_time": "2022-06-25T13:18:46.055Z"
   },
   {
    "duration": 10,
    "start_time": "2022-06-25T13:18:46.073Z"
   },
   {
    "duration": 9,
    "start_time": "2022-06-25T13:18:46.085Z"
   },
   {
    "duration": 17,
    "start_time": "2022-06-25T13:18:46.095Z"
   },
   {
    "duration": 13,
    "start_time": "2022-06-25T13:18:46.114Z"
   },
   {
    "duration": 9,
    "start_time": "2022-06-25T13:18:46.129Z"
   },
   {
    "duration": 10,
    "start_time": "2022-06-25T13:18:46.140Z"
   },
   {
    "duration": 10,
    "start_time": "2022-06-25T13:18:46.152Z"
   },
   {
    "duration": 319,
    "start_time": "2022-06-25T13:18:46.164Z"
   },
   {
    "duration": 184,
    "start_time": "2022-06-25T13:18:46.484Z"
   },
   {
    "duration": 189,
    "start_time": "2022-06-25T13:18:46.670Z"
   },
   {
    "duration": 274,
    "start_time": "2022-06-25T13:18:46.861Z"
   },
   {
    "duration": 266,
    "start_time": "2022-06-25T13:18:47.137Z"
   },
   {
    "duration": 311,
    "start_time": "2022-06-25T13:18:47.404Z"
   },
   {
    "duration": 133,
    "start_time": "2022-06-25T13:18:47.717Z"
   },
   {
    "duration": 5,
    "start_time": "2022-06-25T13:18:47.852Z"
   },
   {
    "duration": 138,
    "start_time": "2022-06-25T13:18:47.860Z"
   },
   {
    "duration": 145,
    "start_time": "2022-06-25T13:18:48.000Z"
   },
   {
    "duration": 6,
    "start_time": "2022-06-25T13:18:48.146Z"
   },
   {
    "duration": 10,
    "start_time": "2022-06-25T13:18:48.154Z"
   },
   {
    "duration": 11,
    "start_time": "2022-06-25T13:18:48.166Z"
   },
   {
    "duration": 10,
    "start_time": "2022-06-25T13:18:48.179Z"
   },
   {
    "duration": 13,
    "start_time": "2022-06-25T13:18:48.190Z"
   },
   {
    "duration": 29,
    "start_time": "2022-06-25T13:18:48.204Z"
   },
   {
    "duration": 0,
    "start_time": "2022-06-25T13:18:48.234Z"
   },
   {
    "duration": 10,
    "start_time": "2022-06-25T13:18:50.143Z"
   },
   {
    "duration": 10,
    "start_time": "2022-06-25T13:19:17.827Z"
   },
   {
    "duration": 194,
    "start_time": "2022-06-25T13:19:24.910Z"
   },
   {
    "duration": 6,
    "start_time": "2022-06-25T13:20:32.441Z"
   },
   {
    "duration": 22,
    "start_time": "2022-06-25T13:20:38.906Z"
   },
   {
    "duration": 10,
    "start_time": "2022-06-25T13:20:41.145Z"
   },
   {
    "duration": 163,
    "start_time": "2022-06-25T13:31:50.731Z"
   },
   {
    "duration": 137,
    "start_time": "2022-06-25T13:34:14.688Z"
   },
   {
    "duration": 147,
    "start_time": "2022-06-25T13:34:35.551Z"
   },
   {
    "duration": 154,
    "start_time": "2022-06-25T13:35:05.548Z"
   },
   {
    "duration": 11,
    "start_time": "2022-06-25T13:36:12.302Z"
   },
   {
    "duration": 8,
    "start_time": "2022-06-25T13:38:18.613Z"
   },
   {
    "duration": 4,
    "start_time": "2022-06-25T13:38:25.497Z"
   },
   {
    "duration": 9,
    "start_time": "2022-06-25T13:38:25.503Z"
   },
   {
    "duration": 6,
    "start_time": "2022-06-25T13:38:25.513Z"
   },
   {
    "duration": 33,
    "start_time": "2022-06-25T13:38:25.521Z"
   },
   {
    "duration": 7,
    "start_time": "2022-06-25T13:38:25.557Z"
   },
   {
    "duration": 276,
    "start_time": "2022-06-25T13:38:25.566Z"
   },
   {
    "duration": 8,
    "start_time": "2022-06-25T13:38:25.843Z"
   },
   {
    "duration": 270,
    "start_time": "2022-06-25T13:38:25.853Z"
   },
   {
    "duration": 46,
    "start_time": "2022-06-25T13:38:26.125Z"
   },
   {
    "duration": 9,
    "start_time": "2022-06-25T13:38:26.173Z"
   },
   {
    "duration": 15,
    "start_time": "2022-06-25T13:38:26.184Z"
   },
   {
    "duration": 9,
    "start_time": "2022-06-25T13:38:26.201Z"
   },
   {
    "duration": 11,
    "start_time": "2022-06-25T13:38:26.212Z"
   },
   {
    "duration": 8,
    "start_time": "2022-06-25T13:38:26.224Z"
   },
   {
    "duration": 6,
    "start_time": "2022-06-25T13:38:26.234Z"
   },
   {
    "duration": 11,
    "start_time": "2022-06-25T13:38:26.241Z"
   },
   {
    "duration": 6,
    "start_time": "2022-06-25T13:38:26.254Z"
   },
   {
    "duration": 5,
    "start_time": "2022-06-25T13:38:26.261Z"
   },
   {
    "duration": 8,
    "start_time": "2022-06-25T13:38:26.268Z"
   },
   {
    "duration": 8,
    "start_time": "2022-06-25T13:38:26.278Z"
   },
   {
    "duration": 302,
    "start_time": "2022-06-25T13:38:26.287Z"
   },
   {
    "duration": 203,
    "start_time": "2022-06-25T13:38:26.591Z"
   },
   {
    "duration": 203,
    "start_time": "2022-06-25T13:38:26.796Z"
   },
   {
    "duration": 315,
    "start_time": "2022-06-25T13:38:27.001Z"
   },
   {
    "duration": 271,
    "start_time": "2022-06-25T13:38:27.322Z"
   },
   {
    "duration": 323,
    "start_time": "2022-06-25T13:38:27.595Z"
   },
   {
    "duration": 158,
    "start_time": "2022-06-25T13:38:27.923Z"
   },
   {
    "duration": 7,
    "start_time": "2022-06-25T13:38:28.083Z"
   },
   {
    "duration": 131,
    "start_time": "2022-06-25T13:38:28.094Z"
   },
   {
    "duration": 156,
    "start_time": "2022-06-25T13:38:28.227Z"
   },
   {
    "duration": 5,
    "start_time": "2022-06-25T13:38:28.386Z"
   },
   {
    "duration": 212,
    "start_time": "2022-06-25T13:38:28.393Z"
   },
   {
    "duration": 28,
    "start_time": "2022-06-25T13:38:28.606Z"
   },
   {
    "duration": 130,
    "start_time": "2022-06-25T13:38:28.636Z"
   },
   {
    "duration": 7,
    "start_time": "2022-06-25T13:38:28.769Z"
   },
   {
    "duration": 185,
    "start_time": "2022-06-25T13:38:28.777Z"
   },
   {
    "duration": 10,
    "start_time": "2022-06-25T13:38:28.964Z"
   },
   {
    "duration": 9,
    "start_time": "2022-06-25T13:38:28.975Z"
   },
   {
    "duration": 8,
    "start_time": "2022-06-25T13:38:28.986Z"
   },
   {
    "duration": 23,
    "start_time": "2022-06-25T13:38:29.797Z"
   },
   {
    "duration": 14,
    "start_time": "2022-06-25T13:39:30.238Z"
   },
   {
    "duration": 14,
    "start_time": "2022-06-25T13:40:10.597Z"
   },
   {
    "duration": 46,
    "start_time": "2022-06-25T13:42:48.103Z"
   },
   {
    "duration": 5,
    "start_time": "2022-06-25T13:43:36.226Z"
   },
   {
    "duration": 9,
    "start_time": "2022-06-25T13:43:47.492Z"
   },
   {
    "duration": 9,
    "start_time": "2022-06-25T13:44:08.462Z"
   },
   {
    "duration": 47,
    "start_time": "2022-06-25T13:44:59.044Z"
   },
   {
    "duration": 4,
    "start_time": "2022-06-25T13:57:23.427Z"
   },
   {
    "duration": 15,
    "start_time": "2022-06-25T13:57:23.433Z"
   },
   {
    "duration": 12,
    "start_time": "2022-06-25T13:57:23.451Z"
   },
   {
    "duration": 33,
    "start_time": "2022-06-25T13:57:23.465Z"
   },
   {
    "duration": 7,
    "start_time": "2022-06-25T13:57:23.501Z"
   },
   {
    "duration": 299,
    "start_time": "2022-06-25T13:57:23.510Z"
   },
   {
    "duration": 18,
    "start_time": "2022-06-25T13:57:23.811Z"
   },
   {
    "duration": 325,
    "start_time": "2022-06-25T13:57:23.831Z"
   },
   {
    "duration": 46,
    "start_time": "2022-06-25T13:57:24.158Z"
   },
   {
    "duration": 10,
    "start_time": "2022-06-25T13:57:24.205Z"
   },
   {
    "duration": 16,
    "start_time": "2022-06-25T13:57:24.218Z"
   },
   {
    "duration": 15,
    "start_time": "2022-06-25T13:57:24.236Z"
   },
   {
    "duration": 21,
    "start_time": "2022-06-25T13:57:24.253Z"
   },
   {
    "duration": 16,
    "start_time": "2022-06-25T13:57:24.276Z"
   },
   {
    "duration": 17,
    "start_time": "2022-06-25T13:57:24.294Z"
   },
   {
    "duration": 21,
    "start_time": "2022-06-25T13:57:24.314Z"
   },
   {
    "duration": 10,
    "start_time": "2022-06-25T13:57:24.337Z"
   },
   {
    "duration": 9,
    "start_time": "2022-06-25T13:57:24.349Z"
   },
   {
    "duration": 9,
    "start_time": "2022-06-25T13:57:24.360Z"
   },
   {
    "duration": 8,
    "start_time": "2022-06-25T13:57:24.371Z"
   },
   {
    "duration": 323,
    "start_time": "2022-06-25T13:57:24.380Z"
   },
   {
    "duration": 208,
    "start_time": "2022-06-25T13:57:24.705Z"
   },
   {
    "duration": 211,
    "start_time": "2022-06-25T13:57:24.915Z"
   },
   {
    "duration": 329,
    "start_time": "2022-06-25T13:57:25.128Z"
   },
   {
    "duration": 303,
    "start_time": "2022-06-25T13:57:25.459Z"
   },
   {
    "duration": 298,
    "start_time": "2022-06-25T13:57:25.764Z"
   },
   {
    "duration": 136,
    "start_time": "2022-06-25T13:57:26.064Z"
   },
   {
    "duration": 6,
    "start_time": "2022-06-25T13:57:26.201Z"
   },
   {
    "duration": 137,
    "start_time": "2022-06-25T13:57:26.225Z"
   },
   {
    "duration": 151,
    "start_time": "2022-06-25T13:57:26.364Z"
   },
   {
    "duration": 8,
    "start_time": "2022-06-25T13:57:26.522Z"
   },
   {
    "duration": 241,
    "start_time": "2022-06-25T13:57:26.532Z"
   },
   {
    "duration": 59,
    "start_time": "2022-06-25T13:57:26.775Z"
   },
   {
    "duration": 210,
    "start_time": "2022-06-25T13:57:26.836Z"
   },
   {
    "duration": 6,
    "start_time": "2022-06-25T13:57:27.048Z"
   },
   {
    "duration": 181,
    "start_time": "2022-06-25T13:57:27.056Z"
   },
   {
    "duration": 12,
    "start_time": "2022-06-25T13:57:27.239Z"
   },
   {
    "duration": 12,
    "start_time": "2022-06-25T13:57:27.253Z"
   },
   {
    "duration": 10,
    "start_time": "2022-06-25T13:57:27.267Z"
   },
   {
    "duration": 55,
    "start_time": "2022-06-25T13:57:27.279Z"
   },
   {
    "duration": 16,
    "start_time": "2022-06-25T13:57:27.336Z"
   },
   {
    "duration": 2,
    "start_time": "2022-06-25T13:58:00.364Z"
   },
   {
    "duration": 246,
    "start_time": "2022-06-25T13:58:02.995Z"
   },
   {
    "duration": 4,
    "start_time": "2022-06-25T13:58:25.999Z"
   },
   {
    "duration": 3,
    "start_time": "2022-06-25T13:58:32.454Z"
   },
   {
    "duration": 6,
    "start_time": "2022-06-25T13:58:32.463Z"
   },
   {
    "duration": 11,
    "start_time": "2022-06-25T13:58:32.471Z"
   },
   {
    "duration": 34,
    "start_time": "2022-06-25T13:58:35.414Z"
   },
   {
    "duration": 10,
    "start_time": "2022-06-25T13:58:39.240Z"
   },
   {
    "duration": 13,
    "start_time": "2022-06-25T13:58:58.328Z"
   },
   {
    "duration": 317,
    "start_time": "2022-06-25T13:59:01.327Z"
   },
   {
    "duration": 15,
    "start_time": "2022-06-25T13:59:05.013Z"
   },
   {
    "duration": 12,
    "start_time": "2022-06-25T13:59:10.359Z"
   },
   {
    "duration": 312,
    "start_time": "2022-06-25T13:59:13.287Z"
   },
   {
    "duration": 10,
    "start_time": "2022-06-25T13:59:55.332Z"
   },
   {
    "duration": 4,
    "start_time": "2022-06-25T14:00:01.972Z"
   },
   {
    "duration": 26,
    "start_time": "2022-06-25T14:00:01.978Z"
   },
   {
    "duration": 42,
    "start_time": "2022-06-25T14:00:02.007Z"
   },
   {
    "duration": 47,
    "start_time": "2022-06-25T14:00:02.051Z"
   },
   {
    "duration": 10,
    "start_time": "2022-06-25T14:00:02.100Z"
   },
   {
    "duration": 289,
    "start_time": "2022-06-25T14:00:02.112Z"
   },
   {
    "duration": 23,
    "start_time": "2022-06-25T14:00:02.403Z"
   },
   {
    "duration": 330,
    "start_time": "2022-06-25T14:00:02.432Z"
   },
   {
    "duration": 50,
    "start_time": "2022-06-25T14:00:02.764Z"
   },
   {
    "duration": 25,
    "start_time": "2022-06-25T14:00:02.816Z"
   },
   {
    "duration": 27,
    "start_time": "2022-06-25T14:00:02.845Z"
   },
   {
    "duration": 29,
    "start_time": "2022-06-25T14:00:02.874Z"
   },
   {
    "duration": 31,
    "start_time": "2022-06-25T14:00:02.905Z"
   },
   {
    "duration": 22,
    "start_time": "2022-06-25T14:00:02.939Z"
   },
   {
    "duration": 18,
    "start_time": "2022-06-25T14:00:02.963Z"
   },
   {
    "duration": 20,
    "start_time": "2022-06-25T14:00:02.983Z"
   },
   {
    "duration": 24,
    "start_time": "2022-06-25T14:00:03.005Z"
   },
   {
    "duration": 21,
    "start_time": "2022-06-25T14:00:03.031Z"
   },
   {
    "duration": 8,
    "start_time": "2022-06-25T14:00:03.054Z"
   },
   {
    "duration": 25,
    "start_time": "2022-06-25T14:00:03.063Z"
   },
   {
    "duration": 293,
    "start_time": "2022-06-25T14:00:03.090Z"
   },
   {
    "duration": 212,
    "start_time": "2022-06-25T14:00:03.385Z"
   },
   {
    "duration": 296,
    "start_time": "2022-06-25T14:00:03.599Z"
   },
   {
    "duration": 348,
    "start_time": "2022-06-25T14:00:03.897Z"
   },
   {
    "duration": 217,
    "start_time": "2022-06-25T14:00:04.247Z"
   },
   {
    "duration": 291,
    "start_time": "2022-06-25T14:00:04.466Z"
   },
   {
    "duration": 150,
    "start_time": "2022-06-25T14:00:04.759Z"
   },
   {
    "duration": 15,
    "start_time": "2022-06-25T14:00:04.911Z"
   },
   {
    "duration": 139,
    "start_time": "2022-06-25T14:00:04.929Z"
   },
   {
    "duration": 10,
    "start_time": "2022-06-25T14:00:06.069Z"
   },
   {
    "duration": 7,
    "start_time": "2022-06-25T14:00:06.081Z"
   },
   {
    "duration": 13,
    "start_time": "2022-06-25T14:00:06.090Z"
   },
   {
    "duration": 41,
    "start_time": "2022-06-25T14:00:06.106Z"
   },
   {
    "duration": 11,
    "start_time": "2022-06-25T14:00:06.149Z"
   },
   {
    "duration": 299,
    "start_time": "2022-06-25T14:00:06.162Z"
   },
   {
    "duration": 12,
    "start_time": "2022-06-25T14:00:06.463Z"
   },
   {
    "duration": 287,
    "start_time": "2022-06-25T14:00:06.477Z"
   },
   {
    "duration": 47,
    "start_time": "2022-06-25T14:00:06.765Z"
   },
   {
    "duration": 9,
    "start_time": "2022-06-25T14:00:06.813Z"
   },
   {
    "duration": 31,
    "start_time": "2022-06-25T14:00:06.823Z"
   },
   {
    "duration": 23,
    "start_time": "2022-06-25T14:00:06.856Z"
   },
   {
    "duration": 15,
    "start_time": "2022-06-25T14:00:06.881Z"
   },
   {
    "duration": 11,
    "start_time": "2022-06-25T14:00:06.898Z"
   },
   {
    "duration": 7,
    "start_time": "2022-06-25T14:00:06.911Z"
   },
   {
    "duration": 24,
    "start_time": "2022-06-25T14:00:06.920Z"
   },
   {
    "duration": 5,
    "start_time": "2022-06-25T14:00:06.946Z"
   },
   {
    "duration": 7,
    "start_time": "2022-06-25T14:00:06.953Z"
   },
   {
    "duration": 10,
    "start_time": "2022-06-25T14:00:06.962Z"
   },
   {
    "duration": 11,
    "start_time": "2022-06-25T14:00:06.974Z"
   },
   {
    "duration": 309,
    "start_time": "2022-06-25T14:00:06.987Z"
   },
   {
    "duration": 243,
    "start_time": "2022-06-25T14:00:07.298Z"
   },
   {
    "duration": 317,
    "start_time": "2022-06-25T14:00:07.544Z"
   },
   {
    "duration": 6,
    "start_time": "2022-06-25T14:00:09.964Z"
   },
   {
    "duration": 9,
    "start_time": "2022-06-25T14:00:09.971Z"
   },
   {
    "duration": 6,
    "start_time": "2022-06-25T14:00:09.982Z"
   },
   {
    "duration": 40,
    "start_time": "2022-06-25T14:00:09.990Z"
   },
   {
    "duration": 15,
    "start_time": "2022-06-25T14:00:10.033Z"
   },
   {
    "duration": 275,
    "start_time": "2022-06-25T14:00:10.050Z"
   },
   {
    "duration": 16,
    "start_time": "2022-06-25T14:00:10.327Z"
   },
   {
    "duration": 266,
    "start_time": "2022-06-25T14:00:10.346Z"
   },
   {
    "duration": 50,
    "start_time": "2022-06-25T14:00:10.614Z"
   },
   {
    "duration": 8,
    "start_time": "2022-06-25T14:00:10.666Z"
   },
   {
    "duration": 15,
    "start_time": "2022-06-25T14:00:10.675Z"
   },
   {
    "duration": 11,
    "start_time": "2022-06-25T14:00:10.692Z"
   },
   {
    "duration": 16,
    "start_time": "2022-06-25T14:00:10.704Z"
   },
   {
    "duration": 24,
    "start_time": "2022-06-25T14:00:10.724Z"
   },
   {
    "duration": 5,
    "start_time": "2022-06-25T14:00:10.749Z"
   },
   {
    "duration": 9,
    "start_time": "2022-06-25T14:00:10.755Z"
   },
   {
    "duration": 6,
    "start_time": "2022-06-25T14:00:10.765Z"
   },
   {
    "duration": 7,
    "start_time": "2022-06-25T14:00:10.772Z"
   },
   {
    "duration": 10,
    "start_time": "2022-06-25T14:00:10.780Z"
   },
   {
    "duration": 15,
    "start_time": "2022-06-25T14:00:10.791Z"
   },
   {
    "duration": 294,
    "start_time": "2022-06-25T14:00:10.807Z"
   },
   {
    "duration": 242,
    "start_time": "2022-06-25T14:00:11.105Z"
   },
   {
    "duration": 318,
    "start_time": "2022-06-25T14:00:11.348Z"
   },
   {
    "duration": 338,
    "start_time": "2022-06-25T14:00:11.668Z"
   },
   {
    "duration": 218,
    "start_time": "2022-06-25T14:00:12.008Z"
   },
   {
    "duration": 364,
    "start_time": "2022-06-25T14:00:12.229Z"
   },
   {
    "duration": 173,
    "start_time": "2022-06-25T14:00:12.595Z"
   },
   {
    "duration": 7,
    "start_time": "2022-06-25T14:00:12.771Z"
   },
   {
    "duration": 175,
    "start_time": "2022-06-25T14:00:12.780Z"
   },
   {
    "duration": 157,
    "start_time": "2022-06-25T14:00:12.957Z"
   },
   {
    "duration": 18,
    "start_time": "2022-06-25T14:00:13.116Z"
   },
   {
    "duration": 215,
    "start_time": "2022-06-25T14:00:13.138Z"
   },
   {
    "duration": 19,
    "start_time": "2022-06-25T14:00:13.355Z"
   },
   {
    "duration": 161,
    "start_time": "2022-06-25T14:00:13.376Z"
   },
   {
    "duration": 8,
    "start_time": "2022-06-25T14:00:13.539Z"
   },
   {
    "duration": 162,
    "start_time": "2022-06-25T14:00:13.549Z"
   },
   {
    "duration": 27,
    "start_time": "2022-06-25T14:00:13.713Z"
   },
   {
    "duration": 17,
    "start_time": "2022-06-25T14:00:13.742Z"
   },
   {
    "duration": 10,
    "start_time": "2022-06-25T14:00:13.762Z"
   },
   {
    "duration": 38,
    "start_time": "2022-06-25T14:00:13.774Z"
   },
   {
    "duration": 24,
    "start_time": "2022-06-25T14:00:13.814Z"
   },
   {
    "duration": 4,
    "start_time": "2022-06-25T14:05:16.459Z"
   },
   {
    "duration": 5,
    "start_time": "2022-06-25T14:05:16.466Z"
   },
   {
    "duration": 3,
    "start_time": "2022-06-25T14:05:16.479Z"
   },
   {
    "duration": 31,
    "start_time": "2022-06-25T14:05:16.487Z"
   },
   {
    "duration": 10,
    "start_time": "2022-06-25T14:05:16.521Z"
   },
   {
    "duration": 265,
    "start_time": "2022-06-25T14:05:16.533Z"
   },
   {
    "duration": 11,
    "start_time": "2022-06-25T14:05:16.799Z"
   },
   {
    "duration": 248,
    "start_time": "2022-06-25T14:05:16.824Z"
   },
   {
    "duration": 47,
    "start_time": "2022-06-25T14:05:17.073Z"
   },
   {
    "duration": 7,
    "start_time": "2022-06-25T14:05:17.122Z"
   },
   {
    "duration": 13,
    "start_time": "2022-06-25T14:05:17.131Z"
   },
   {
    "duration": 12,
    "start_time": "2022-06-25T14:05:17.145Z"
   },
   {
    "duration": 15,
    "start_time": "2022-06-25T14:05:17.159Z"
   },
   {
    "duration": 9,
    "start_time": "2022-06-25T14:05:17.176Z"
   },
   {
    "duration": 6,
    "start_time": "2022-06-25T14:05:17.186Z"
   },
   {
    "duration": 10,
    "start_time": "2022-06-25T14:05:17.193Z"
   },
   {
    "duration": 18,
    "start_time": "2022-06-25T14:05:17.206Z"
   },
   {
    "duration": 5,
    "start_time": "2022-06-25T14:05:17.225Z"
   },
   {
    "duration": 7,
    "start_time": "2022-06-25T14:05:17.231Z"
   },
   {
    "duration": 7,
    "start_time": "2022-06-25T14:05:17.240Z"
   },
   {
    "duration": 292,
    "start_time": "2022-06-25T14:05:17.249Z"
   },
   {
    "duration": 186,
    "start_time": "2022-06-25T14:05:17.543Z"
   },
   {
    "duration": 282,
    "start_time": "2022-06-25T14:05:17.731Z"
   },
   {
    "duration": 305,
    "start_time": "2022-06-25T14:05:18.023Z"
   },
   {
    "duration": 185,
    "start_time": "2022-06-25T14:05:18.330Z"
   },
   {
    "duration": 321,
    "start_time": "2022-06-25T14:05:18.517Z"
   },
   {
    "duration": 140,
    "start_time": "2022-06-25T14:05:18.840Z"
   },
   {
    "duration": 6,
    "start_time": "2022-06-25T14:05:18.981Z"
   },
   {
    "duration": 135,
    "start_time": "2022-06-25T14:05:18.989Z"
   },
   {
    "duration": 147,
    "start_time": "2022-06-25T14:05:19.126Z"
   },
   {
    "duration": 5,
    "start_time": "2022-06-25T14:05:19.275Z"
   },
   {
    "duration": 205,
    "start_time": "2022-06-25T14:05:19.282Z"
   },
   {
    "duration": 20,
    "start_time": "2022-06-25T14:05:19.488Z"
   },
   {
    "duration": 143,
    "start_time": "2022-06-25T14:05:19.509Z"
   },
   {
    "duration": 6,
    "start_time": "2022-06-25T14:05:19.654Z"
   },
   {
    "duration": 162,
    "start_time": "2022-06-25T14:05:19.662Z"
   },
   {
    "duration": 10,
    "start_time": "2022-06-25T14:05:19.825Z"
   },
   {
    "duration": 9,
    "start_time": "2022-06-25T14:05:19.837Z"
   },
   {
    "duration": 14,
    "start_time": "2022-06-25T14:05:19.847Z"
   },
   {
    "duration": 26,
    "start_time": "2022-06-25T14:05:19.863Z"
   },
   {
    "duration": 34,
    "start_time": "2022-06-25T14:05:19.890Z"
   }
  ],
  "kernelspec": {
   "display_name": "Python 3 (ipykernel)",
   "language": "python",
   "name": "python3"
  },
  "language_info": {
   "codemirror_mode": {
    "name": "ipython",
    "version": 3
   },
   "file_extension": ".py",
   "mimetype": "text/x-python",
   "name": "python",
   "nbconvert_exporter": "python",
   "pygments_lexer": "ipython3",
   "version": "3.9.5"
  },
  "toc": {
   "base_numbering": 1,
   "nav_menu": {
    "height": "166px",
    "width": "160px"
   },
   "number_sections": false,
   "sideBar": true,
   "skip_h1_title": false,
   "title_cell": "Содержание",
   "title_sidebar": "Contents",
   "toc_cell": true,
   "toc_position": {},
   "toc_section_display": true,
   "toc_window_display": true
  }
 },
 "nbformat": 4,
 "nbformat_minor": 2
}
