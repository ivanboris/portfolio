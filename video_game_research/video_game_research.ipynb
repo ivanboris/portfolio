{
 "cells": [
  {
   "cell_type": "markdown",
   "metadata": {
    "toc": true
   },
   "source": [
    "<h1>Содержание<span class=\"tocSkip\"></span></h1>\n",
    "<div class=\"toc\"><ul class=\"toc-item\"><li><span><a href=\"#Изучение-данных-из-файлов\" data-toc-modified-id=\"Изучение-данных-из-файлов-1\"><span class=\"toc-item-num\">1&nbsp;&nbsp;</span>Изучение данных из файлов<a id=\"block\"></a></a></span></li><li><span><a href=\"#Предобработка-данных.-Добавление-расчетов\" data-toc-modified-id=\"Предобработка-данных.-Добавление-расчетов-2\"><span class=\"toc-item-num\">2&nbsp;&nbsp;</span>Предобработка данных. Добавление расчетов</a></span><ul class=\"toc-item\"><li><span><a href=\"#Изменим-названия-столбцов\" data-toc-modified-id=\"Изменим-названия-столбцов-2.1\"><span class=\"toc-item-num\">2.1&nbsp;&nbsp;</span>Изменим названия столбцов</a></span></li><li><span><a href=\"#Изменим-типы-данных\" data-toc-modified-id=\"Изменим-типы-данных-2.2\"><span class=\"toc-item-num\">2.2&nbsp;&nbsp;</span>Изменим типы данных</a></span><ul class=\"toc-item\"><li><span><a href=\"#Столбец-user_score\" data-toc-modified-id=\"Столбец-user_score-2.2.1\"><span class=\"toc-item-num\">2.2.1&nbsp;&nbsp;</span>Столбец user_score</a></span></li><li><span><a href=\"#Столбец-user_score\" data-toc-modified-id=\"Столбец-user_score-2.2.2\"><span class=\"toc-item-num\">2.2.2&nbsp;&nbsp;</span>Столбец user_score</a></span></li></ul></li><li><span><a href=\"#Обработаем-пропуски\" data-toc-modified-id=\"Обработаем-пропуски-2.3\"><span class=\"toc-item-num\">2.3&nbsp;&nbsp;</span>Обработаем пропуски</a></span></li><li><span><a href=\"#Проверим-на-явные-дубликаты\" data-toc-modified-id=\"Проверим-на-явные-дубликаты-2.4\"><span class=\"toc-item-num\">2.4&nbsp;&nbsp;</span>Проверим на явные дубликаты</a></span></li><li><span><a href=\"#Добавим-расчеты\" data-toc-modified-id=\"Добавим-расчеты-2.5\"><span class=\"toc-item-num\">2.5&nbsp;&nbsp;</span>Добавим расчеты</a></span></li></ul></li><li><span><a href=\"#Исследовательский-анализ-данных\" data-toc-modified-id=\"Исследовательский-анализ-данных-3\"><span class=\"toc-item-num\">3&nbsp;&nbsp;</span>Исследовательский анализ данных</a></span><ul class=\"toc-item\"><li><span><a href=\"#Посмотрите,-сколько-игр-выпускалось-в-разные-годы.-Важны-ли-данные-за-все-периоды?\" data-toc-modified-id=\"Посмотрите,-сколько-игр-выпускалось-в-разные-годы.-Важны-ли-данные-за-все-периоды?-3.1\"><span class=\"toc-item-num\">3.1&nbsp;&nbsp;</span>Посмотрите, сколько игр выпускалось в разные годы. Важны ли данные за все периоды?</a></span></li><li><span><a href=\"#Посмотрите,-как-менялись-продажи-по-платформам.-Выберите-платформы-с-наибольшими-суммарными-продажами-и-постройте-распределение-по-годам.-За-какой-характерный-срок-появляются-новые-и-исчезают-старые-платформы?\" data-toc-modified-id=\"Посмотрите,-как-менялись-продажи-по-платформам.-Выберите-платформы-с-наибольшими-суммарными-продажами-и-постройте-распределение-по-годам.-За-какой-характерный-срок-появляются-новые-и-исчезают-старые-платформы?-3.2\"><span class=\"toc-item-num\">3.2&nbsp;&nbsp;</span>Посмотрите, как менялись продажи по платформам. Выберите платформы с наибольшими суммарными продажами и постройте распределение по годам. За какой характерный срок появляются новые и исчезают старые платформы?</a></span></li><li><span><a href=\"#Какие-платформы-лидируют-по-продажам,-растут-или-падают?-Выберите-несколько-потенциально-прибыльных-платформ.\" data-toc-modified-id=\"Какие-платформы-лидируют-по-продажам,-растут-или-падают?-Выберите-несколько-потенциально-прибыльных-платформ.-3.3\"><span class=\"toc-item-num\">3.3&nbsp;&nbsp;</span>Какие платформы лидируют по продажам, растут или падают? Выберите несколько потенциально прибыльных платформ.</a></span></li><li><span><a href=\"#Постройте-график-«ящик-с-усами»-по-глобальным-продажам-игр-в-разбивке-по-платформам.-Опишите-результат.\" data-toc-modified-id=\"Постройте-график-«ящик-с-усами»-по-глобальным-продажам-игр-в-разбивке-по-платформам.-Опишите-результат.-3.4\"><span class=\"toc-item-num\">3.4&nbsp;&nbsp;</span>Постройте график «ящик с усами» по глобальным продажам игр в разбивке по платформам. Опишите результат.</a></span></li><li><span><a href=\"#Посмотрите,-как-влияют-на-продажи-внутри-одной-популярной-платформы-отзывы-пользователей-и-критиков.-Постройте-диаграмму-рассеяния-и-посчитайте-корреляцию-между-отзывами-и-продажами.-Сформулируйте-выводы.\" data-toc-modified-id=\"Посмотрите,-как-влияют-на-продажи-внутри-одной-популярной-платформы-отзывы-пользователей-и-критиков.-Постройте-диаграмму-рассеяния-и-посчитайте-корреляцию-между-отзывами-и-продажами.-Сформулируйте-выводы.-3.5\"><span class=\"toc-item-num\">3.5&nbsp;&nbsp;</span>Посмотрите, как влияют на продажи внутри одной популярной платформы отзывы пользователей и критиков. Постройте диаграмму рассеяния и посчитайте корреляцию между отзывами и продажами. Сформулируйте выводы.</a></span><ul class=\"toc-item\"><li><span><a href=\"#Зависимость-продаж-от-отзывов-критиков-на-платформе-PS3\" data-toc-modified-id=\"Зависимость-продаж-от-отзывов-критиков-на-платформе-PS3-3.5.1\"><span class=\"toc-item-num\">3.5.1&nbsp;&nbsp;</span>Зависимость продаж от отзывов критиков на платформе PS3</a></span></li><li><span><a href=\"#Зависимость-продаж-от-отзывов-критиков\" data-toc-modified-id=\"Зависимость-продаж-от-отзывов-критиков-3.5.2\"><span class=\"toc-item-num\">3.5.2&nbsp;&nbsp;</span>Зависимость продаж от отзывов критиков</a></span></li></ul></li><li><span><a href=\"#Соотнесите-выводы-с-продажами-игр-на-других-платформах.\" data-toc-modified-id=\"Соотнесите-выводы-с-продажами-игр-на-других-платформах.-3.6\"><span class=\"toc-item-num\">3.6&nbsp;&nbsp;</span>Соотнесите выводы с продажами игр на других платформах.</a></span><ul class=\"toc-item\"><li><span><a href=\"#Зависимость-продаж-от-отзывов-критиков-на-платформе-PS4\" data-toc-modified-id=\"Зависимость-продаж-от-отзывов-критиков-на-платформе-PS4-3.6.1\"><span class=\"toc-item-num\">3.6.1&nbsp;&nbsp;</span>Зависимость продаж от отзывов критиков на платформе PS4</a></span></li><li><span><a href=\"#3.6.1--Зависимость-продаж-от-отзывов-пользователей-на-платформе-PS4\" data-toc-modified-id=\"3.6.1--Зависимость-продаж-от-отзывов-пользователей-на-платформе-PS4-3.6.2\"><span class=\"toc-item-num\">3.6.2&nbsp;&nbsp;</span>3.6.1  Зависимость продаж от отзывов пользователей на платформе PS4</a></span></li><li><span><a href=\"#Зависимость-продаж-от-отзывов-критиков-на-платформе-XOne\" data-toc-modified-id=\"Зависимость-продаж-от-отзывов-критиков-на-платформе-XOne-3.6.3\"><span class=\"toc-item-num\">3.6.3&nbsp;&nbsp;</span>Зависимость продаж от отзывов критиков на платформе XOne</a></span></li><li><span><a href=\"#Зависимость-продаж-от-отзывов-пользователей-на-платформе-XOne\" data-toc-modified-id=\"Зависимость-продаж-от-отзывов-пользователей-на-платформе-XOne-3.6.4\"><span class=\"toc-item-num\">3.6.4&nbsp;&nbsp;</span>Зависимость продаж от отзывов пользователей на платформе XOne</a></span></li></ul></li><li><span><a href=\"#Посмотрите-на-общее-распределение-игр-по-жанрам.-Что-можно-сказать-о-самых-прибыльных-жанрах?-Выделяются-ли-жанры-с-высокими-и-низкими-продажами?\" data-toc-modified-id=\"Посмотрите-на-общее-распределение-игр-по-жанрам.-Что-можно-сказать-о-самых-прибыльных-жанрах?-Выделяются-ли-жанры-с-высокими-и-низкими-продажами?-3.7\"><span class=\"toc-item-num\">3.7&nbsp;&nbsp;</span>Посмотрите на общее распределение игр по жанрам. Что можно сказать о самых прибыльных жанрах? Выделяются ли жанры с высокими и низкими продажами?</a></span></li></ul></li><li><span><a href=\"#Составьте-портрет-пользователя-каждого-региона\" data-toc-modified-id=\"Составьте-портрет-пользователя-каждого-региона-4\"><span class=\"toc-item-num\">4&nbsp;&nbsp;</span>Составьте портрет пользователя каждого региона</a></span><ul class=\"toc-item\"><li><span><a href=\"#Самые-популярные-платформы-(топ-5).-Опишите-различия-в-долях-продаж.\" data-toc-modified-id=\"Самые-популярные-платформы-(топ-5).-Опишите-различия-в-долях-продаж.-4.1\"><span class=\"toc-item-num\">4.1&nbsp;&nbsp;</span>Самые популярные платформы (топ-5). Опишите различия в долях продаж.</a></span></li><li><span><a href=\"#Самые-популярные-жанры-(топ-5).-Поясните-разницу.\" data-toc-modified-id=\"Самые-популярные-жанры-(топ-5).-Поясните-разницу.-4.2\"><span class=\"toc-item-num\">4.2&nbsp;&nbsp;</span>Самые популярные жанры (топ-5). Поясните разницу.</a></span></li><li><span><a href=\"#Влияет-ли-рейтинг-ESRB-на-продажи-в-отдельном-регионе?\" data-toc-modified-id=\"Влияет-ли-рейтинг-ESRB-на-продажи-в-отдельном-регионе?-4.3\"><span class=\"toc-item-num\">4.3&nbsp;&nbsp;</span>Влияет ли рейтинг ESRB на продажи в отдельном регионе?</a></span></li><li><span><a href=\"#Общий-вывод---региональный-портрет-пользователя:\" data-toc-modified-id=\"Общий-вывод---региональный-портрет-пользователя:-4.4\"><span class=\"toc-item-num\">4.4&nbsp;&nbsp;</span>Общий вывод - региональный портрет пользователя:</a></span></li></ul></li><li><span><a href=\"#Проверьте-гипотезы\" data-toc-modified-id=\"Проверьте-гипотезы-5\"><span class=\"toc-item-num\">5&nbsp;&nbsp;</span>Проверьте гипотезы</a></span><ul class=\"toc-item\"><li><span><a href=\"#Средние-пользовательские-рейтинги-платформ-Xbox-One-и-PC-одинаковые\" data-toc-modified-id=\"Средние-пользовательские-рейтинги-платформ-Xbox-One-и-PC-одинаковые-5.1\"><span class=\"toc-item-num\">5.1&nbsp;&nbsp;</span>Средние пользовательские рейтинги платформ Xbox One и PC одинаковые</a></span></li><li><span><a href=\"#Средние-пользовательские-рейтинги-жанров-Action-и-Sports-разные\" data-toc-modified-id=\"Средние-пользовательские-рейтинги-жанров-Action-и-Sports-разные-5.2\"><span class=\"toc-item-num\">5.2&nbsp;&nbsp;</span>Средние пользовательские рейтинги жанров Action и Sports разные</a></span></li></ul></li><li><span><a href=\"#Общий-вывод\" data-toc-modified-id=\"Общий-вывод-6\"><span class=\"toc-item-num\">6&nbsp;&nbsp;</span>Общий вывод</a></span></li></ul></div>"
   ]
  },
  {
   "cell_type": "markdown",
   "metadata": {},
   "source": [
    "# Выявление закономерностей, определяющих успешность игры"
   ]
  },
  {
   "cell_type": "markdown",
   "metadata": {},
   "source": [
    "**Данные**\n",
    "\n",
    "Исторические данные о продажах компьютерных игр, оценки пользователей и экспертов, жанрах и платформах:\n",
    "- Название игры\n",
    "- Платформа\n",
    "- Год выпуска\n",
    "- Жанр игры\n",
    "- Продажи в Северной Америке (миллионы проданных копий)\n",
    "- Продажи в Европе (миллионы проданных копий)\n",
    "- Продажи в Японии (миллионы проданных копий)\n",
    "- Продажи в других странах (миллионы проданных копий)\n",
    "- Оценка критиков (максимум 100)\n",
    "- Оценка пользователей (максимум 10)\n",
    "- Рейтинг от организации ESRB (англ. Entertainment Software Rating Board)\n",
    "\n",
    "**Цель исследования:** выявить закономерности, определяющие успешность игры.\n",
    "\n",
    "**Ход исследования:**\n",
    " 1. Изучение данных из файлов.\n",
    " 2. Предобработка данных. Добавление расчетов.\n",
    " 3. Исследовательский анализ данных.\n",
    " 4. Составление портрета пользователя каждого региона.\n",
    " 5. Проверка гипотез.\n",
    " 6. Общий вывод."
   ]
  },
  {
   "cell_type": "markdown",
   "metadata": {},
   "source": [
    "## Изучение данных из файлов<a id='block'></a>"
   ]
  },
  {
   "cell_type": "code",
   "execution_count": 70,
   "metadata": {},
   "outputs": [],
   "source": [
    "import pandas as pd\n",
    "import numpy as np\n",
    "import matplotlib.pyplot as plt\n",
    "import seaborn as sns\n",
    "\n",
    "from datetime import datetime\n",
    "from scipy import stats as st"
   ]
  },
  {
   "cell_type": "code",
   "execution_count": 71,
   "metadata": {},
   "outputs": [],
   "source": [
    "font = {'family': 'DejaVu Sans',\n",
    "        'color':  '#000080',\n",
    "        'weight': 'normal',\n",
    "        'size': 20,\n",
    "        }\n",
    "font_2 = {'family': 'DejaVu Sans',\n",
    "        'color':  '#000000',\n",
    "        'weight': 'normal',\n",
    "        'size': 16,\n",
    "        }"
   ]
  },
  {
   "cell_type": "code",
   "execution_count": 72,
   "metadata": {},
   "outputs": [],
   "source": [
    "pd.set_option('display.max_columns', None)\n",
    "pd.options.display.float_format = '{:,.2f}'.format"
   ]
  },
  {
   "cell_type": "code",
   "execution_count": 73,
   "metadata": {},
   "outputs": [],
   "source": [
    "df =  pd.read_csv('/datasets/games.csv')"
   ]
  },
  {
   "cell_type": "code",
   "execution_count": 74,
   "metadata": {},
   "outputs": [
    {
     "data": {
      "text/html": [
       "<div>\n",
       "<style scoped>\n",
       "    .dataframe tbody tr th:only-of-type {\n",
       "        vertical-align: middle;\n",
       "    }\n",
       "\n",
       "    .dataframe tbody tr th {\n",
       "        vertical-align: top;\n",
       "    }\n",
       "\n",
       "    .dataframe thead th {\n",
       "        text-align: right;\n",
       "    }\n",
       "</style>\n",
       "<table border=\"1\" class=\"dataframe\">\n",
       "  <thead>\n",
       "    <tr style=\"text-align: right;\">\n",
       "      <th></th>\n",
       "      <th>Name</th>\n",
       "      <th>Platform</th>\n",
       "      <th>Year_of_Release</th>\n",
       "      <th>Genre</th>\n",
       "      <th>NA_sales</th>\n",
       "      <th>EU_sales</th>\n",
       "      <th>JP_sales</th>\n",
       "      <th>Other_sales</th>\n",
       "      <th>Critic_Score</th>\n",
       "      <th>User_Score</th>\n",
       "      <th>Rating</th>\n",
       "    </tr>\n",
       "  </thead>\n",
       "  <tbody>\n",
       "    <tr>\n",
       "      <th>0</th>\n",
       "      <td>Wii Sports</td>\n",
       "      <td>Wii</td>\n",
       "      <td>2,006.00</td>\n",
       "      <td>Sports</td>\n",
       "      <td>41.36</td>\n",
       "      <td>28.96</td>\n",
       "      <td>3.77</td>\n",
       "      <td>8.45</td>\n",
       "      <td>76.00</td>\n",
       "      <td>8</td>\n",
       "      <td>E</td>\n",
       "    </tr>\n",
       "    <tr>\n",
       "      <th>1</th>\n",
       "      <td>Super Mario Bros.</td>\n",
       "      <td>NES</td>\n",
       "      <td>1,985.00</td>\n",
       "      <td>Platform</td>\n",
       "      <td>29.08</td>\n",
       "      <td>3.58</td>\n",
       "      <td>6.81</td>\n",
       "      <td>0.77</td>\n",
       "      <td>NaN</td>\n",
       "      <td>NaN</td>\n",
       "      <td>NaN</td>\n",
       "    </tr>\n",
       "    <tr>\n",
       "      <th>2</th>\n",
       "      <td>Mario Kart Wii</td>\n",
       "      <td>Wii</td>\n",
       "      <td>2,008.00</td>\n",
       "      <td>Racing</td>\n",
       "      <td>15.68</td>\n",
       "      <td>12.76</td>\n",
       "      <td>3.79</td>\n",
       "      <td>3.29</td>\n",
       "      <td>82.00</td>\n",
       "      <td>8.3</td>\n",
       "      <td>E</td>\n",
       "    </tr>\n",
       "    <tr>\n",
       "      <th>3</th>\n",
       "      <td>Wii Sports Resort</td>\n",
       "      <td>Wii</td>\n",
       "      <td>2,009.00</td>\n",
       "      <td>Sports</td>\n",
       "      <td>15.61</td>\n",
       "      <td>10.93</td>\n",
       "      <td>3.28</td>\n",
       "      <td>2.95</td>\n",
       "      <td>80.00</td>\n",
       "      <td>8</td>\n",
       "      <td>E</td>\n",
       "    </tr>\n",
       "    <tr>\n",
       "      <th>4</th>\n",
       "      <td>Pokemon Red/Pokemon Blue</td>\n",
       "      <td>GB</td>\n",
       "      <td>1,996.00</td>\n",
       "      <td>Role-Playing</td>\n",
       "      <td>11.27</td>\n",
       "      <td>8.89</td>\n",
       "      <td>10.22</td>\n",
       "      <td>1.00</td>\n",
       "      <td>NaN</td>\n",
       "      <td>NaN</td>\n",
       "      <td>NaN</td>\n",
       "    </tr>\n",
       "    <tr>\n",
       "      <th>5</th>\n",
       "      <td>Tetris</td>\n",
       "      <td>GB</td>\n",
       "      <td>1,989.00</td>\n",
       "      <td>Puzzle</td>\n",
       "      <td>23.20</td>\n",
       "      <td>2.26</td>\n",
       "      <td>4.22</td>\n",
       "      <td>0.58</td>\n",
       "      <td>NaN</td>\n",
       "      <td>NaN</td>\n",
       "      <td>NaN</td>\n",
       "    </tr>\n",
       "    <tr>\n",
       "      <th>6</th>\n",
       "      <td>New Super Mario Bros.</td>\n",
       "      <td>DS</td>\n",
       "      <td>2,006.00</td>\n",
       "      <td>Platform</td>\n",
       "      <td>11.28</td>\n",
       "      <td>9.14</td>\n",
       "      <td>6.50</td>\n",
       "      <td>2.88</td>\n",
       "      <td>89.00</td>\n",
       "      <td>8.5</td>\n",
       "      <td>E</td>\n",
       "    </tr>\n",
       "    <tr>\n",
       "      <th>7</th>\n",
       "      <td>Wii Play</td>\n",
       "      <td>Wii</td>\n",
       "      <td>2,006.00</td>\n",
       "      <td>Misc</td>\n",
       "      <td>13.96</td>\n",
       "      <td>9.18</td>\n",
       "      <td>2.93</td>\n",
       "      <td>2.84</td>\n",
       "      <td>58.00</td>\n",
       "      <td>6.6</td>\n",
       "      <td>E</td>\n",
       "    </tr>\n",
       "    <tr>\n",
       "      <th>8</th>\n",
       "      <td>New Super Mario Bros. Wii</td>\n",
       "      <td>Wii</td>\n",
       "      <td>2,009.00</td>\n",
       "      <td>Platform</td>\n",
       "      <td>14.44</td>\n",
       "      <td>6.94</td>\n",
       "      <td>4.70</td>\n",
       "      <td>2.24</td>\n",
       "      <td>87.00</td>\n",
       "      <td>8.4</td>\n",
       "      <td>E</td>\n",
       "    </tr>\n",
       "    <tr>\n",
       "      <th>9</th>\n",
       "      <td>Duck Hunt</td>\n",
       "      <td>NES</td>\n",
       "      <td>1,984.00</td>\n",
       "      <td>Shooter</td>\n",
       "      <td>26.93</td>\n",
       "      <td>0.63</td>\n",
       "      <td>0.28</td>\n",
       "      <td>0.47</td>\n",
       "      <td>NaN</td>\n",
       "      <td>NaN</td>\n",
       "      <td>NaN</td>\n",
       "    </tr>\n",
       "  </tbody>\n",
       "</table>\n",
       "</div>"
      ],
      "text/plain": [
       "                        Name Platform  Year_of_Release         Genre  \\\n",
       "0                 Wii Sports      Wii         2,006.00        Sports   \n",
       "1          Super Mario Bros.      NES         1,985.00      Platform   \n",
       "2             Mario Kart Wii      Wii         2,008.00        Racing   \n",
       "3          Wii Sports Resort      Wii         2,009.00        Sports   \n",
       "4   Pokemon Red/Pokemon Blue       GB         1,996.00  Role-Playing   \n",
       "5                     Tetris       GB         1,989.00        Puzzle   \n",
       "6      New Super Mario Bros.       DS         2,006.00      Platform   \n",
       "7                   Wii Play      Wii         2,006.00          Misc   \n",
       "8  New Super Mario Bros. Wii      Wii         2,009.00      Platform   \n",
       "9                  Duck Hunt      NES         1,984.00       Shooter   \n",
       "\n",
       "   NA_sales  EU_sales  JP_sales  Other_sales  Critic_Score User_Score Rating  \n",
       "0     41.36     28.96      3.77         8.45         76.00          8      E  \n",
       "1     29.08      3.58      6.81         0.77           NaN        NaN    NaN  \n",
       "2     15.68     12.76      3.79         3.29         82.00        8.3      E  \n",
       "3     15.61     10.93      3.28         2.95         80.00          8      E  \n",
       "4     11.27      8.89     10.22         1.00           NaN        NaN    NaN  \n",
       "5     23.20      2.26      4.22         0.58           NaN        NaN    NaN  \n",
       "6     11.28      9.14      6.50         2.88         89.00        8.5      E  \n",
       "7     13.96      9.18      2.93         2.84         58.00        6.6      E  \n",
       "8     14.44      6.94      4.70         2.24         87.00        8.4      E  \n",
       "9     26.93      0.63      0.28         0.47           NaN        NaN    NaN  "
      ]
     },
     "execution_count": 74,
     "metadata": {},
     "output_type": "execute_result"
    }
   ],
   "source": [
    "df.head(10)"
   ]
  },
  {
   "cell_type": "code",
   "execution_count": 75,
   "metadata": {},
   "outputs": [
    {
     "name": "stdout",
     "output_type": "stream",
     "text": [
      "<class 'pandas.core.frame.DataFrame'>\n",
      "RangeIndex: 16715 entries, 0 to 16714\n",
      "Data columns (total 11 columns):\n",
      " #   Column           Non-Null Count  Dtype  \n",
      "---  ------           --------------  -----  \n",
      " 0   Name             16713 non-null  object \n",
      " 1   Platform         16715 non-null  object \n",
      " 2   Year_of_Release  16446 non-null  float64\n",
      " 3   Genre            16713 non-null  object \n",
      " 4   NA_sales         16715 non-null  float64\n",
      " 5   EU_sales         16715 non-null  float64\n",
      " 6   JP_sales         16715 non-null  float64\n",
      " 7   Other_sales      16715 non-null  float64\n",
      " 8   Critic_Score     8137 non-null   float64\n",
      " 9   User_Score       10014 non-null  object \n",
      " 10  Rating           9949 non-null   object \n",
      "dtypes: float64(6), object(5)\n",
      "memory usage: 1.4+ MB\n"
     ]
    }
   ],
   "source": [
    "df.info()"
   ]
  },
  {
   "cell_type": "markdown",
   "metadata": {},
   "source": [
    "**Вывод**\n",
    "\n",
    "- Таблица games имеет 16715 строк и 11 столбцов.\n",
    "\n",
    "- Данные в таблице имеют типы object, float64.\n",
    "\n",
    "- Названия всех столбцов неободимо привести к нижнему регистру.\n",
    "\n",
    "- В столбце Year_of_Release необходимо изменить тип данных на int64, в столбце User_Score на float64.\n",
    "\n",
    "- В столбцах Name, Year_of_Release, Genre, Critic_Score, User_Score, Rating есть незаполненные ячейки."
   ]
  },
  {
   "cell_type": "markdown",
   "metadata": {},
   "source": [
    "## Предобработка данных. Добавление расчетов"
   ]
  },
  {
   "cell_type": "markdown",
   "metadata": {},
   "source": [
    "### Изменим названия столбцов"
   ]
  },
  {
   "cell_type": "code",
   "execution_count": 76,
   "metadata": {
    "scrolled": false
   },
   "outputs": [
    {
     "data": {
      "text/plain": [
       "['name',\n",
       " 'platform',\n",
       " 'year_of_release',\n",
       " 'genre',\n",
       " 'na_sales',\n",
       " 'eu_sales',\n",
       " 'jp_sales',\n",
       " 'other_sales',\n",
       " 'critic_score',\n",
       " 'user_score',\n",
       " 'rating']"
      ]
     },
     "execution_count": 76,
     "metadata": {},
     "output_type": "execute_result"
    }
   ],
   "source": [
    "df.columns = map(str.lower, df.columns) #измени регистр в названиях колонок\n",
    "df.columns.tolist() #проверим изменение"
   ]
  },
  {
   "cell_type": "markdown",
   "metadata": {},
   "source": [
    "Так же стоит изменить название столбца rating на age_rating."
   ]
  },
  {
   "cell_type": "code",
   "execution_count": 77,
   "metadata": {},
   "outputs": [],
   "source": [
    "df.rename(columns={'rating': 'age_rating'}, inplace=True)"
   ]
  },
  {
   "cell_type": "markdown",
   "metadata": {},
   "source": [
    "### Изменим типы данных"
   ]
  },
  {
   "cell_type": "markdown",
   "metadata": {},
   "source": [
    "#### Столбец user_score"
   ]
  },
  {
   "cell_type": "markdown",
   "metadata": {},
   "source": [
    "Перед изменением типа данных изучим содержимое столбца"
   ]
  },
  {
   "cell_type": "code",
   "execution_count": 78,
   "metadata": {
    "scrolled": true
   },
   "outputs": [
    {
     "name": "stdout",
     "output_type": "stream",
     "text": [
      "user_score\n",
      "0         1\n",
      "0.2       2\n",
      "0.3       2\n",
      "0.5       2\n",
      "0.6       2\n",
      "       ... \n",
      "9.4      11\n",
      "9.5       6\n",
      "9.6       2\n",
      "9.7       1\n",
      "tbd    2424\n",
      "Name: user_score, Length: 96, dtype: int64\n"
     ]
    }
   ],
   "source": [
    "print(df.groupby('user_score')['user_score'].count())"
   ]
  },
  {
   "cell_type": "markdown",
   "metadata": {},
   "source": [
    "Значение 'tbd' встречается 2424 раза. Это значение расшифровывается как 'to be determined' - предстоит определить. Т.к. данное значение не позволяет изменить тип данных в столбце на float64, заменим его на NaN."
   ]
  },
  {
   "cell_type": "code",
   "execution_count": 79,
   "metadata": {
    "scrolled": true
   },
   "outputs": [
    {
     "name": "stdout",
     "output_type": "stream",
     "text": [
      "<class 'pandas.core.frame.DataFrame'>\n",
      "RangeIndex: 16715 entries, 0 to 16714\n",
      "Data columns (total 11 columns):\n",
      " #   Column           Non-Null Count  Dtype  \n",
      "---  ------           --------------  -----  \n",
      " 0   name             16713 non-null  object \n",
      " 1   platform         16715 non-null  object \n",
      " 2   year_of_release  16446 non-null  float64\n",
      " 3   genre            16713 non-null  object \n",
      " 4   na_sales         16715 non-null  float64\n",
      " 5   eu_sales         16715 non-null  float64\n",
      " 6   jp_sales         16715 non-null  float64\n",
      " 7   other_sales      16715 non-null  float64\n",
      " 8   critic_score     8137 non-null   float64\n",
      " 9   user_score       7590 non-null   float64\n",
      " 10  age_rating       9949 non-null   object \n",
      "dtypes: float64(7), object(4)\n",
      "memory usage: 1.4+ MB\n"
     ]
    }
   ],
   "source": [
    "df.loc[df['user_score'] == 'tbd','user_score'] = np.nan #заменяем 'tbd' на nan\n",
    "df['user_score'] = df['user_score'].astype('float64') #преобразуем тип данных\n",
    "df.info() #проверим изменение типа данных"
   ]
  },
  {
   "cell_type": "markdown",
   "metadata": {},
   "source": [
    "#### Столбец user_score"
   ]
  },
  {
   "cell_type": "markdown",
   "metadata": {},
   "source": [
    "Пропуски в данном столбце не позволяют выполнить изменение типа данных. Проверим, сколько пропусков в данном столбце."
   ]
  },
  {
   "cell_type": "code",
   "execution_count": 80,
   "metadata": {},
   "outputs": [
    {
     "data": {
      "text/plain": [
       "name               0.01\n",
       "platform           0.00\n",
       "year_of_release    1.61\n",
       "genre              0.01\n",
       "na_sales           0.00\n",
       "eu_sales           0.00\n",
       "jp_sales           0.00\n",
       "other_sales        0.00\n",
       "critic_score      51.32\n",
       "user_score        54.59\n",
       "age_rating        40.48\n",
       "dtype: float64"
      ]
     },
     "execution_count": 80,
     "metadata": {},
     "output_type": "execute_result"
    }
   ],
   "source": [
    "df.isna().mean()*100"
   ]
  },
  {
   "cell_type": "markdown",
   "metadata": {},
   "source": [
    "Пропусков 1,61% - т.к. сложно подобрать методику для заполнения пропусков в этом столбце, а процент пропусков небольшой, можно удалить строки с пропущенными годами."
   ]
  },
  {
   "cell_type": "code",
   "execution_count": 81,
   "metadata": {
    "scrolled": true
   },
   "outputs": [
    {
     "data": {
      "text/plain": [
       "name               0.01\n",
       "platform           0.00\n",
       "year_of_release    0.00\n",
       "genre              0.01\n",
       "na_sales           0.00\n",
       "eu_sales           0.00\n",
       "jp_sales           0.00\n",
       "other_sales        0.00\n",
       "critic_score      51.46\n",
       "user_score        54.62\n",
       "age_rating        40.61\n",
       "dtype: float64"
      ]
     },
     "execution_count": 81,
     "metadata": {},
     "output_type": "execute_result"
    }
   ],
   "source": [
    "df.dropna(subset=['year_of_release'], inplace=True) #удалим строки с пропусками в столбце year_of_release\n",
    "df.isna().mean()*100 #проверим удаление"
   ]
  },
  {
   "cell_type": "markdown",
   "metadata": {},
   "source": [
    "Теперь можно изменить тип данных."
   ]
  },
  {
   "cell_type": "code",
   "execution_count": 82,
   "metadata": {
    "scrolled": false
   },
   "outputs": [
    {
     "name": "stdout",
     "output_type": "stream",
     "text": [
      "<class 'pandas.core.frame.DataFrame'>\n",
      "Int64Index: 16446 entries, 0 to 16714\n",
      "Data columns (total 11 columns):\n",
      " #   Column           Non-Null Count  Dtype  \n",
      "---  ------           --------------  -----  \n",
      " 0   name             16444 non-null  object \n",
      " 1   platform         16446 non-null  object \n",
      " 2   year_of_release  16446 non-null  int64  \n",
      " 3   genre            16444 non-null  object \n",
      " 4   na_sales         16446 non-null  float64\n",
      " 5   eu_sales         16446 non-null  float64\n",
      " 6   jp_sales         16446 non-null  float64\n",
      " 7   other_sales      16446 non-null  float64\n",
      " 8   critic_score     7983 non-null   float64\n",
      " 9   user_score       7463 non-null   float64\n",
      " 10  age_rating       9768 non-null   object \n",
      "dtypes: float64(6), int64(1), object(4)\n",
      "memory usage: 1.5+ MB\n"
     ]
    }
   ],
   "source": [
    "df['year_of_release'] = df['year_of_release'].astype('int64') #преобразуем тип данных\n",
    "df.info() #проверим изменение типа данных"
   ]
  },
  {
   "cell_type": "markdown",
   "metadata": {},
   "source": [
    "При изменениии типа данных в столбце year_of_release на datetime и выделении года тип поменялся на int64 - в целом это не должно помешать исследованию."
   ]
  },
  {
   "cell_type": "markdown",
   "metadata": {},
   "source": [
    "### Обработаем пропуски"
   ]
  },
  {
   "cell_type": "code",
   "execution_count": 83,
   "metadata": {
    "scrolled": true
   },
   "outputs": [
    {
     "data": {
      "text/plain": [
       "user_score        54.62\n",
       "critic_score      51.46\n",
       "age_rating        40.61\n",
       "name               0.01\n",
       "genre              0.01\n",
       "platform           0.00\n",
       "year_of_release    0.00\n",
       "na_sales           0.00\n",
       "eu_sales           0.00\n",
       "jp_sales           0.00\n",
       "other_sales        0.00\n",
       "dtype: float64"
      ]
     },
     "execution_count": 83,
     "metadata": {},
     "output_type": "execute_result"
    }
   ],
   "source": [
    "df.isna().mean().sort_values(ascending = False)*100"
   ]
  },
  {
   "cell_type": "markdown",
   "metadata": {},
   "source": [
    "Наибольшее число пропусков в колонках user_score и critic_score - т.к. рейтинги одних и тех же игр могут различатья для разных платформ, заполнить недостащие данные по имеюимся не получится. Замена на 0 или другие числовые значения может привести к искажению результата, поэтому пока оставим пропуски в таблице.\n",
    "\n",
    "Следующая по количеству пропусков колонка rating - 40,61%. Это категориальная колонка, в которой указан возрастной рейтинг игр. Т.к. возрастной рейтинг игры на разных площадках и в разных регионах может отличаться, заменим пропущенные значения на \"without rating\" (без рейтинга).\n",
    "\n",
    "Пропуски в столбцах name и genre меньше составляют 0,01%. Можно удалить строки с пропусками в этих столбцах."
   ]
  },
  {
   "cell_type": "code",
   "execution_count": 84,
   "metadata": {
    "scrolled": false
   },
   "outputs": [
    {
     "data": {
      "text/plain": [
       "user_score        54.62\n",
       "critic_score      51.45\n",
       "name               0.00\n",
       "platform           0.00\n",
       "year_of_release    0.00\n",
       "genre              0.00\n",
       "na_sales           0.00\n",
       "eu_sales           0.00\n",
       "jp_sales           0.00\n",
       "other_sales        0.00\n",
       "age_rating         0.00\n",
       "dtype: float64"
      ]
     },
     "execution_count": 84,
     "metadata": {},
     "output_type": "execute_result"
    }
   ],
   "source": [
    "df['age_rating'] = df['age_rating'].fillna('without rating') #заполнение пропусков в столбце 'age_rating'\n",
    "df.dropna(subset=['name'], inplace=True) #удаление строк с пропусками в столбце 'name'\n",
    "df.dropna(subset=['genre'], inplace=True) #удаление строк с пропусками в столбце 'genre'\n",
    "df.isna().mean().sort_values(ascending = False)*100 #проверка пропусков"
   ]
  },
  {
   "cell_type": "markdown",
   "metadata": {},
   "source": [
    "**Рекомендации:**\n",
    "- проверить сбор данных по оценкам от критиков и пользователей. Если для каких-то игр оценки отстствуют, стоит явным образом отобразить это в данных;\n",
    "- 40% игр не имеют указания на возрастной рейтинг (значительная часть это игры на Японских платформах) - возможно, это связано с тем, что игры получают возрастную маркировку по разным региональным рейтингам. Обратить внимание на этот вопрос."
   ]
  },
  {
   "cell_type": "markdown",
   "metadata": {},
   "source": [
    "### Проверим на явные дубликаты"
   ]
  },
  {
   "cell_type": "code",
   "execution_count": 85,
   "metadata": {},
   "outputs": [
    {
     "data": {
      "text/plain": [
       "0"
      ]
     },
     "execution_count": 85,
     "metadata": {},
     "output_type": "execute_result"
    }
   ],
   "source": [
    "df.duplicated().sum()"
   ]
  },
  {
   "cell_type": "markdown",
   "metadata": {},
   "source": [
    "### Добавим расчеты"
   ]
  },
  {
   "cell_type": "markdown",
   "metadata": {},
   "source": [
    "Добавим столбец с общими продажами по всем регионам"
   ]
  },
  {
   "cell_type": "code",
   "execution_count": 86,
   "metadata": {
    "scrolled": false
   },
   "outputs": [
    {
     "data": {
      "text/html": [
       "<div>\n",
       "<style scoped>\n",
       "    .dataframe tbody tr th:only-of-type {\n",
       "        vertical-align: middle;\n",
       "    }\n",
       "\n",
       "    .dataframe tbody tr th {\n",
       "        vertical-align: top;\n",
       "    }\n",
       "\n",
       "    .dataframe thead th {\n",
       "        text-align: right;\n",
       "    }\n",
       "</style>\n",
       "<table border=\"1\" class=\"dataframe\">\n",
       "  <thead>\n",
       "    <tr style=\"text-align: right;\">\n",
       "      <th></th>\n",
       "      <th>name</th>\n",
       "      <th>platform</th>\n",
       "      <th>year_of_release</th>\n",
       "      <th>genre</th>\n",
       "      <th>na_sales</th>\n",
       "      <th>eu_sales</th>\n",
       "      <th>jp_sales</th>\n",
       "      <th>other_sales</th>\n",
       "      <th>critic_score</th>\n",
       "      <th>user_score</th>\n",
       "      <th>age_rating</th>\n",
       "      <th>total_sales</th>\n",
       "    </tr>\n",
       "  </thead>\n",
       "  <tbody>\n",
       "    <tr>\n",
       "      <th>0</th>\n",
       "      <td>Wii Sports</td>\n",
       "      <td>Wii</td>\n",
       "      <td>2006</td>\n",
       "      <td>Sports</td>\n",
       "      <td>41.36</td>\n",
       "      <td>28.96</td>\n",
       "      <td>3.77</td>\n",
       "      <td>8.45</td>\n",
       "      <td>76.00</td>\n",
       "      <td>8.00</td>\n",
       "      <td>E</td>\n",
       "      <td>82.54</td>\n",
       "    </tr>\n",
       "    <tr>\n",
       "      <th>1</th>\n",
       "      <td>Super Mario Bros.</td>\n",
       "      <td>NES</td>\n",
       "      <td>1985</td>\n",
       "      <td>Platform</td>\n",
       "      <td>29.08</td>\n",
       "      <td>3.58</td>\n",
       "      <td>6.81</td>\n",
       "      <td>0.77</td>\n",
       "      <td>NaN</td>\n",
       "      <td>NaN</td>\n",
       "      <td>without rating</td>\n",
       "      <td>40.24</td>\n",
       "    </tr>\n",
       "    <tr>\n",
       "      <th>2</th>\n",
       "      <td>Mario Kart Wii</td>\n",
       "      <td>Wii</td>\n",
       "      <td>2008</td>\n",
       "      <td>Racing</td>\n",
       "      <td>15.68</td>\n",
       "      <td>12.76</td>\n",
       "      <td>3.79</td>\n",
       "      <td>3.29</td>\n",
       "      <td>82.00</td>\n",
       "      <td>8.30</td>\n",
       "      <td>E</td>\n",
       "      <td>35.52</td>\n",
       "    </tr>\n",
       "    <tr>\n",
       "      <th>3</th>\n",
       "      <td>Wii Sports Resort</td>\n",
       "      <td>Wii</td>\n",
       "      <td>2009</td>\n",
       "      <td>Sports</td>\n",
       "      <td>15.61</td>\n",
       "      <td>10.93</td>\n",
       "      <td>3.28</td>\n",
       "      <td>2.95</td>\n",
       "      <td>80.00</td>\n",
       "      <td>8.00</td>\n",
       "      <td>E</td>\n",
       "      <td>32.77</td>\n",
       "    </tr>\n",
       "    <tr>\n",
       "      <th>4</th>\n",
       "      <td>Pokemon Red/Pokemon Blue</td>\n",
       "      <td>GB</td>\n",
       "      <td>1996</td>\n",
       "      <td>Role-Playing</td>\n",
       "      <td>11.27</td>\n",
       "      <td>8.89</td>\n",
       "      <td>10.22</td>\n",
       "      <td>1.00</td>\n",
       "      <td>NaN</td>\n",
       "      <td>NaN</td>\n",
       "      <td>without rating</td>\n",
       "      <td>31.38</td>\n",
       "    </tr>\n",
       "    <tr>\n",
       "      <th>5</th>\n",
       "      <td>Tetris</td>\n",
       "      <td>GB</td>\n",
       "      <td>1989</td>\n",
       "      <td>Puzzle</td>\n",
       "      <td>23.20</td>\n",
       "      <td>2.26</td>\n",
       "      <td>4.22</td>\n",
       "      <td>0.58</td>\n",
       "      <td>NaN</td>\n",
       "      <td>NaN</td>\n",
       "      <td>without rating</td>\n",
       "      <td>30.26</td>\n",
       "    </tr>\n",
       "    <tr>\n",
       "      <th>6</th>\n",
       "      <td>New Super Mario Bros.</td>\n",
       "      <td>DS</td>\n",
       "      <td>2006</td>\n",
       "      <td>Platform</td>\n",
       "      <td>11.28</td>\n",
       "      <td>9.14</td>\n",
       "      <td>6.50</td>\n",
       "      <td>2.88</td>\n",
       "      <td>89.00</td>\n",
       "      <td>8.50</td>\n",
       "      <td>E</td>\n",
       "      <td>29.80</td>\n",
       "    </tr>\n",
       "    <tr>\n",
       "      <th>7</th>\n",
       "      <td>Wii Play</td>\n",
       "      <td>Wii</td>\n",
       "      <td>2006</td>\n",
       "      <td>Misc</td>\n",
       "      <td>13.96</td>\n",
       "      <td>9.18</td>\n",
       "      <td>2.93</td>\n",
       "      <td>2.84</td>\n",
       "      <td>58.00</td>\n",
       "      <td>6.60</td>\n",
       "      <td>E</td>\n",
       "      <td>28.91</td>\n",
       "    </tr>\n",
       "    <tr>\n",
       "      <th>8</th>\n",
       "      <td>New Super Mario Bros. Wii</td>\n",
       "      <td>Wii</td>\n",
       "      <td>2009</td>\n",
       "      <td>Platform</td>\n",
       "      <td>14.44</td>\n",
       "      <td>6.94</td>\n",
       "      <td>4.70</td>\n",
       "      <td>2.24</td>\n",
       "      <td>87.00</td>\n",
       "      <td>8.40</td>\n",
       "      <td>E</td>\n",
       "      <td>28.32</td>\n",
       "    </tr>\n",
       "    <tr>\n",
       "      <th>9</th>\n",
       "      <td>Duck Hunt</td>\n",
       "      <td>NES</td>\n",
       "      <td>1984</td>\n",
       "      <td>Shooter</td>\n",
       "      <td>26.93</td>\n",
       "      <td>0.63</td>\n",
       "      <td>0.28</td>\n",
       "      <td>0.47</td>\n",
       "      <td>NaN</td>\n",
       "      <td>NaN</td>\n",
       "      <td>without rating</td>\n",
       "      <td>28.31</td>\n",
       "    </tr>\n",
       "  </tbody>\n",
       "</table>\n",
       "</div>"
      ],
      "text/plain": [
       "                        name platform  year_of_release         genre  \\\n",
       "0                 Wii Sports      Wii             2006        Sports   \n",
       "1          Super Mario Bros.      NES             1985      Platform   \n",
       "2             Mario Kart Wii      Wii             2008        Racing   \n",
       "3          Wii Sports Resort      Wii             2009        Sports   \n",
       "4   Pokemon Red/Pokemon Blue       GB             1996  Role-Playing   \n",
       "5                     Tetris       GB             1989        Puzzle   \n",
       "6      New Super Mario Bros.       DS             2006      Platform   \n",
       "7                   Wii Play      Wii             2006          Misc   \n",
       "8  New Super Mario Bros. Wii      Wii             2009      Platform   \n",
       "9                  Duck Hunt      NES             1984       Shooter   \n",
       "\n",
       "   na_sales  eu_sales  jp_sales  other_sales  critic_score  user_score  \\\n",
       "0     41.36     28.96      3.77         8.45         76.00        8.00   \n",
       "1     29.08      3.58      6.81         0.77           NaN         NaN   \n",
       "2     15.68     12.76      3.79         3.29         82.00        8.30   \n",
       "3     15.61     10.93      3.28         2.95         80.00        8.00   \n",
       "4     11.27      8.89     10.22         1.00           NaN         NaN   \n",
       "5     23.20      2.26      4.22         0.58           NaN         NaN   \n",
       "6     11.28      9.14      6.50         2.88         89.00        8.50   \n",
       "7     13.96      9.18      2.93         2.84         58.00        6.60   \n",
       "8     14.44      6.94      4.70         2.24         87.00        8.40   \n",
       "9     26.93      0.63      0.28         0.47           NaN         NaN   \n",
       "\n",
       "       age_rating  total_sales  \n",
       "0               E        82.54  \n",
       "1  without rating        40.24  \n",
       "2               E        35.52  \n",
       "3               E        32.77  \n",
       "4  without rating        31.38  \n",
       "5  without rating        30.26  \n",
       "6               E        29.80  \n",
       "7               E        28.91  \n",
       "8               E        28.32  \n",
       "9  without rating        28.31  "
      ]
     },
     "execution_count": 86,
     "metadata": {},
     "output_type": "execute_result"
    }
   ],
   "source": [
    "df['total_sales'] = df['na_sales'] + df['eu_sales'] + df['jp_sales'] + df['other_sales']\n",
    "df.head(10)"
   ]
  },
  {
   "cell_type": "markdown",
   "metadata": {},
   "source": [
    "## Исследовательский анализ данных"
   ]
  },
  {
   "cell_type": "markdown",
   "metadata": {},
   "source": [
    "- Посмотрите, сколько игр выпускалось в разные годы. Важны ли данные за все периоды?\n",
    "- Посмотрите, как менялись продажи по платформам. Выберите платформы с наибольшими суммарными продажами и постройте распределение по годам. За какой характерный срок появляются новые и исчезают старые платформы?\n",
    "- Возьмите данные за соответствующий актуальный период. Актуальный период определите самостоятельно в результате исследования предыдущих вопросов. Основной фактор — эти данные помогут построить прогноз на 2017 год.\n",
    "- Не учитывайте в работе данные за предыдущие годы.\n",
    "- Какие платформы лидируют по продажам, растут или падают? Выберите несколько потенциально прибыльных платформ.\n",
    "- Постройте график «ящик с усами» по глобальным продажам игр в разбивке по платформам. Опишите результат.\n",
    "- Посмотрите, как влияют на продажи внутри одной популярной платформы отзывы пользователей и критиков. Постройте диаграмму рассеяния и посчитайте корреляцию между отзывами и продажами. Сформулируйте выводы.\n",
    "- Соотнесите выводы с продажами игр на других платформах.\n",
    "- Посмотрите на общее распределение игр по жанрам. Что можно сказать о самых прибыльных жанрах? Выделяются ли жанры с высокими и низкими продажами?"
   ]
  },
  {
   "cell_type": "markdown",
   "metadata": {},
   "source": [
    "### Посмотрите, сколько игр выпускалось в разные годы. Важны ли данные за все периоды?"
   ]
  },
  {
   "cell_type": "code",
   "execution_count": 87,
   "metadata": {},
   "outputs": [
    {
     "data": {
      "text/plain": [
       "year_of_release\n",
       "1980       9\n",
       "1981      46\n",
       "1982      36\n",
       "1983      17\n",
       "1984      14\n",
       "1985      14\n",
       "1986      21\n",
       "1987      16\n",
       "1988      15\n",
       "1989      17\n",
       "1990      16\n",
       "1991      41\n",
       "1992      43\n",
       "1993      60\n",
       "1994     121\n",
       "1995     219\n",
       "1996     263\n",
       "1997     289\n",
       "1998     379\n",
       "1999     338\n",
       "2000     350\n",
       "2001     482\n",
       "2002     829\n",
       "2003     775\n",
       "2004     762\n",
       "2005     939\n",
       "2006    1006\n",
       "2007    1197\n",
       "2008    1427\n",
       "2009    1426\n",
       "2010    1255\n",
       "2011    1136\n",
       "2012     653\n",
       "2013     544\n",
       "2014     581\n",
       "2015     606\n",
       "2016     502\n",
       "Name: name, dtype: int64"
      ]
     },
     "execution_count": 87,
     "metadata": {},
     "output_type": "execute_result"
    }
   ],
   "source": [
    "df.groupby('year_of_release')['name'].count()"
   ]
  },
  {
   "cell_type": "code",
   "execution_count": 88,
   "metadata": {},
   "outputs": [],
   "source": [
    "year_bins = df['year_of_release'].max() - df['year_of_release'].min()"
   ]
  },
  {
   "cell_type": "code",
   "execution_count": 89,
   "metadata": {
    "scrolled": false
   },
   "outputs": [
    {
     "data": {
      "image/png": "[encoded data removed]",
      "text/plain": [
       "<Figure size 576x432 with 1 Axes>"
      ]
     },
     "metadata": {
      "needs_background": "light"
     },
     "output_type": "display_data"
    }
   ],
   "source": [
    "df['year_of_release'].plot(kind='hist', alpha=0.7, grid=True, bins = year_bins, figsize=(8,6))\n",
    "plt.legend(['Количество игр'])\n",
    "plt.title('Выпуск игр по годам', fontdict=font)\n",
    "plt.xlabel('Годы', fontdict=font_2)\n",
    "plt.ylabel('Количество игр', fontdict=font_2)\n",
    "\n",
    "plt.show();"
   ]
  },
  {
   "cell_type": "markdown",
   "metadata": {},
   "source": [
    "В период с 1980 по 1990 гг. количество выпускаемых игр находилось на невысоком уровне 15-20 игр в год, с пиком в 1981 году - 46 игр. С начала 1990 года количество ежегодно выпускаемых игр росло - веротяно, это связано с развитием технологических возможностей. Прирост наблюдается практически каждый год вплоть до 2010 года; есть незначительные спады в 1998 и 2003-2004 - но это спады после пиковых 1997 и 2002 года. \n",
    "\n",
    "Значительный спад выпуска после 2010 года - скорее всего произошло насыщение рынка. Спад продолжается до 2016 года, в котором происходит резкий  скачок. Возможно это связано с выпуском онлайн-игр для мобильных платформ.\n",
    "\n",
    "Для нашего исследования представляет интерес период с 1995 года - когда ???"
   ]
  },
  {
   "cell_type": "markdown",
   "metadata": {},
   "source": [
    "### Посмотрите, как менялись продажи по платформам. Выберите платформы с наибольшими суммарными продажами и постройте распределение по годам. За какой характерный срок появляются новые и исчезают старые платформы?"
   ]
  },
  {
   "cell_type": "markdown",
   "metadata": {},
   "source": [
    "Выберем платформы с наибольшими суммарными продажами."
   ]
  },
  {
   "cell_type": "code",
   "execution_count": 91,
   "metadata": {
    "scrolled": true
   },
   "outputs": [
    {
     "data": {
      "text/plain": [
       "platform\n",
       "PS2    123,356.00\n",
       "X360    96,124.00\n",
       "PS3     93,134.00\n",
       "Wii     89,118.00\n",
       "DS      80,278.00\n",
       "PS      72,758.00\n",
       "PS4     31,414.00\n",
       "GBA     31,288.00\n",
       "PSP     28,953.00\n",
       "3DS     25,781.00\n",
       "PC      25,576.00\n",
       "GB      25,443.00\n",
       "XB      25,157.00\n",
       "NES     25,105.00\n",
       "N64     21,801.00\n",
       "SNES    20,004.00\n",
       "GC      19,673.00\n",
       "XOne    15,932.00\n",
       "2600     8,648.00\n",
       "WiiU     8,219.00\n",
       "PSV      5,381.00\n",
       "SAT      3,359.00\n",
       "GEN      2,835.00\n",
       "DC       1,595.00\n",
       "SCD        186.00\n",
       "NG         144.00\n",
       "WS         142.00\n",
       "TG16        16.00\n",
       "3DO         10.00\n",
       "GG           4.00\n",
       "PCFX         3.00\n",
       "Name: total_sales, dtype: float64"
      ]
     },
     "execution_count": 91,
     "metadata": {},
     "output_type": "execute_result"
    }
   ],
   "source": [
    "df.groupby('platform')['total_sales'].sum().sort_values(ascending = False)*100"
   ]
  },
  {
   "cell_type": "markdown",
   "metadata": {},
   "source": [
    "К популярным отнесем платформы с суммарными продажами свыше 10 млн проданных копий. Построим график с распределением продаж по годам."
   ]
  },
  {
   "cell_type": "code",
   "execution_count": 92,
   "metadata": {
    "scrolled": true
   },
   "outputs": [
    {
     "data": {
      "image/png": "[encoded data removed]",
      "text/plain": [
       "<Figure size 864x576 with 1 Axes>"
      ]
     },
     "metadata": {
      "needs_background": "light"
     },
     "output_type": "display_data"
    }
   ],
   "source": [
    "max_total_sales_platform = ['PS2','X360','PS3','Wii','DS','PS4','GBA','PSP','3DS','XB','PC','GC','XOne','PS','GB','NES','N64','SNES'] #список популярных платформ\n",
    "df.query('platform in @max_total_sales_platform').groupby(['platform', 'year_of_release'])['total_sales'].sum().unstack('platform').plot(alpha=0.7, grid=True, figsize=(12,8))\n",
    "\n",
    "plt.title('Суммарные продажи игр на разных платформах по годам', fontdict=font)\n",
    "plt.xlabel('Годы', fontdict=font_2)\n",
    "plt.ylabel('Количество игр', fontdict=font_2)\n",
    "\n",
    "plt.show();"
   ]
  },
  {
   "cell_type": "markdown",
   "metadata": {},
   "source": [
    "Старый вывод: На графике видно, что средний срок жизни платформы 7-8 лет, с пиком продаж в середине этого периода. Срок в 8 лет можно принять за актуальный период исследования. Т.к. данные за 2016 год мы исключили, актуальный срок - с 2008 по 2015 годы."
   ]
  },
  {
   "cell_type": "markdown",
   "metadata": {},
   "source": [
    "Т.к. 2011 год был переломным в тенденции роста рынка, рассмотрим в исследовании период с 2011 по 2016 год включительно.\n",
    "\n",
    "Так же на графике видно, что средний срок жизни платформы 7-8 лет, с пиком продаж в середине этого периода - данная информация пригодится в следующих шагах исследования."
   ]
  },
  {
   "cell_type": "code",
   "execution_count": 93,
   "metadata": {},
   "outputs": [],
   "source": [
    "actual_year_of_release = [2011, 2012, 2013, 2014, 2015, 2016]\n",
    "df = df.query('year_of_release in @actual_year_of_release')"
   ]
  },
  {
   "cell_type": "markdown",
   "metadata": {},
   "source": [
    "### Какие платформы лидируют по продажам, растут или падают? Выберите несколько потенциально прибыльных платформ."
   ]
  },
  {
   "cell_type": "code",
   "execution_count": 94,
   "metadata": {},
   "outputs": [
    {
     "data": {
      "text/plain": [
       "platform\n",
       "PS3    44,557.00\n",
       "X360   38,038.00\n",
       "PS4    31,414.00\n",
       "3DS    25,781.00\n",
       "XOne   15,932.00\n",
       "PC      9,768.00\n",
       "Wii     9,502.00\n",
       "WiiU    8,219.00\n",
       "PSV     5,381.00\n",
       "DS      3,873.00\n",
       "PSP     2,901.00\n",
       "PS2        45.00\n",
       "Name: total_sales, dtype: float64"
      ]
     },
     "execution_count": 94,
     "metadata": {},
     "output_type": "execute_result"
    }
   ],
   "source": [
    "df.groupby('platform')['total_sales'].sum().sort_values(ascending = False)*100"
   ]
  },
  {
   "cell_type": "code",
   "execution_count": 95,
   "metadata": {
    "scrolled": true
   },
   "outputs": [
    {
     "data": {
      "image/png": "[encoded data removed]",
      "text/plain": [
       "<Figure size 864x576 with 1 Axes>"
      ]
     },
     "metadata": {
      "needs_background": "light"
     },
     "output_type": "display_data"
    }
   ],
   "source": [
    "df.query('platform in @max_total_sales_platform').groupby(['platform', 'year_of_release'])['total_sales'].sum().unstack('platform').plot(alpha=1, grid=True, figsize=(12,8))\n",
    "\n",
    "plt.title('Суммарные продажи игр на разных платформах по годам', fontdict=font)\n",
    "plt.xlabel('Годы', fontdict=font_2)\n",
    "plt.ylabel('Количество игр', fontdict=font_2)\n",
    "plt.xticks([2011, 2012, 2013, 2014, 2015, 2016])\n",
    "\n",
    "plt.show();"
   ]
  },
  {
   "cell_type": "code",
   "execution_count": 96,
   "metadata": {
    "scrolled": false
   },
   "outputs": [
    {
     "data": {
      "text/html": [
       "<style  type=\"text/css\" >\n",
       "#T_2ca12_row0_col0{\n",
       "            background-color:  #8cc58c;\n",
       "            color:  #000000;\n",
       "        }#T_2ca12_row0_col1,#T_2ca12_row4_col3{\n",
       "            background-color:  #7abc7a;\n",
       "            color:  #000000;\n",
       "        }#T_2ca12_row0_col2{\n",
       "            background-color:  #76ba76;\n",
       "            color:  #000000;\n",
       "        }#T_2ca12_row0_col3{\n",
       "            background-color:  #84c084;\n",
       "            color:  #000000;\n",
       "        }#T_2ca12_row0_col4{\n",
       "            background-color:  #b4d8b4;\n",
       "            color:  #000000;\n",
       "        }#T_2ca12_row0_col5,#T_2ca12_row2_col1{\n",
       "            background-color:  #b8dab8;\n",
       "            color:  #000000;\n",
       "        }#T_2ca12_row1_col0,#T_2ca12_row11_col2{\n",
       "            background-color:  #c4e0c4;\n",
       "            color:  #000000;\n",
       "        }#T_2ca12_row1_col1{\n",
       "            background-color:  #d3e7d3;\n",
       "            color:  #000000;\n",
       "        }#T_2ca12_row1_col2{\n",
       "            background-color:  #e8f2e8;\n",
       "            color:  #000000;\n",
       "        }#T_2ca12_row1_col3,#T_2ca12_row1_col4,#T_2ca12_row1_col5,#T_2ca12_row3_col0,#T_2ca12_row3_col1,#T_2ca12_row3_col2,#T_2ca12_row3_col3,#T_2ca12_row3_col4,#T_2ca12_row3_col5,#T_2ca12_row5_col0,#T_2ca12_row5_col1,#T_2ca12_row6_col3,#T_2ca12_row6_col4,#T_2ca12_row6_col5,#T_2ca12_row8_col5,#T_2ca12_row9_col0,#T_2ca12_row11_col0,#T_2ca12_row11_col1{\n",
       "            background-color:  #ebf3eb;\n",
       "            color:  #000000;\n",
       "        }#T_2ca12_row2_col0{\n",
       "            background-color:  #b6d9b6;\n",
       "            color:  #000000;\n",
       "        }#T_2ca12_row2_col2{\n",
       "            background-color:  #d2e7d2;\n",
       "            color:  #000000;\n",
       "        }#T_2ca12_row2_col3{\n",
       "            background-color:  #cce4cc;\n",
       "            color:  #000000;\n",
       "        }#T_2ca12_row2_col4,#T_2ca12_row6_col1{\n",
       "            background-color:  #daebda;\n",
       "            color:  #000000;\n",
       "        }#T_2ca12_row2_col5,#T_2ca12_row8_col2{\n",
       "            background-color:  #d9ead9;\n",
       "            color:  #000000;\n",
       "        }#T_2ca12_row4_col0,#T_2ca12_row4_col1,#T_2ca12_row4_col2,#T_2ca12_row5_col3,#T_2ca12_row5_col4,#T_2ca12_row5_col5{\n",
       "            background-color:  #008000;\n",
       "            color:  #f1f1f1;\n",
       "        }#T_2ca12_row4_col4{\n",
       "            background-color:  #c9e3c9;\n",
       "            color:  #000000;\n",
       "        }#T_2ca12_row4_col5,#T_2ca12_row7_col4{\n",
       "            background-color:  #dfeddf;\n",
       "            color:  #000000;\n",
       "        }#T_2ca12_row5_col2{\n",
       "            background-color:  #b5d9b5;\n",
       "            color:  #000000;\n",
       "        }#T_2ca12_row6_col0{\n",
       "            background-color:  #d0e6d0;\n",
       "            color:  #000000;\n",
       "        }#T_2ca12_row6_col2,#T_2ca12_row7_col0{\n",
       "            background-color:  #e4f0e4;\n",
       "            color:  #000000;\n",
       "        }#T_2ca12_row7_col1{\n",
       "            background-color:  #c8e2c8;\n",
       "            color:  #000000;\n",
       "        }#T_2ca12_row7_col2{\n",
       "            background-color:  #d5e9d5;\n",
       "            color:  #000000;\n",
       "        }#T_2ca12_row7_col3{\n",
       "            background-color:  #cfe5cf;\n",
       "            color:  #000000;\n",
       "        }#T_2ca12_row7_col5{\n",
       "            background-color:  #ddecdd;\n",
       "            color:  #000000;\n",
       "        }#T_2ca12_row8_col0{\n",
       "            background-color:  #91c791;\n",
       "            color:  #000000;\n",
       "        }#T_2ca12_row8_col1{\n",
       "            background-color:  #bcdcbc;\n",
       "            color:  #000000;\n",
       "        }#T_2ca12_row8_col3{\n",
       "            background-color:  #e2efe2;\n",
       "            color:  #000000;\n",
       "        }#T_2ca12_row8_col4{\n",
       "            background-color:  #e9f2e9;\n",
       "            color:  #000000;\n",
       "        }#T_2ca12_row9_col1{\n",
       "            background-color:  #c5e0c5;\n",
       "            color:  #000000;\n",
       "        }#T_2ca12_row9_col2{\n",
       "            background-color:  #beddbe;\n",
       "            color:  #000000;\n",
       "        }#T_2ca12_row9_col3{\n",
       "            background-color:  #b7dab7;\n",
       "            color:  #000000;\n",
       "        }#T_2ca12_row9_col4{\n",
       "            background-color:  #cae3ca;\n",
       "            color:  #000000;\n",
       "        }#T_2ca12_row9_col5{\n",
       "            background-color:  #dbebdb;\n",
       "            color:  #000000;\n",
       "        }#T_2ca12_row10_col0{\n",
       "            background-color:  #138913;\n",
       "            color:  #f1f1f1;\n",
       "        }#T_2ca12_row10_col1{\n",
       "            background-color:  #118811;\n",
       "            color:  #f1f1f1;\n",
       "        }#T_2ca12_row10_col2{\n",
       "            background-color:  #339933;\n",
       "            color:  #000000;\n",
       "        }#T_2ca12_row10_col3{\n",
       "            background-color:  #9acb9a;\n",
       "            color:  #000000;\n",
       "        }#T_2ca12_row10_col4{\n",
       "            background-color:  #d4e8d4;\n",
       "            color:  #000000;\n",
       "        }#T_2ca12_row10_col5{\n",
       "            background-color:  #e6f1e6;\n",
       "            color:  #000000;\n",
       "        }#T_2ca12_row11_col3{\n",
       "            background-color:  #6cb56c;\n",
       "            color:  #000000;\n",
       "        }#T_2ca12_row11_col4{\n",
       "            background-color:  #74b974;\n",
       "            color:  #000000;\n",
       "        }#T_2ca12_row11_col5{\n",
       "            background-color:  #92c892;\n",
       "            color:  #000000;\n",
       "        }</style><table id=\"T_2ca12_\" ><thead>    <tr>        <th class=\"blank level0\" ></th>        <th class=\"col_heading level0 col0\" colspan=\"6\">sum</th>    </tr>    <tr>        <th class=\"blank level1\" ></th>        <th class=\"col_heading level1 col0\" colspan=\"6\">total_sales</th>    </tr>    <tr>        <th class=\"index_name level2\" >year_of_release</th>        <th class=\"col_heading level2 col0\" >2011</th>        <th class=\"col_heading level2 col1\" >2012</th>        <th class=\"col_heading level2 col2\" >2013</th>        <th class=\"col_heading level2 col3\" >2014</th>        <th class=\"col_heading level2 col4\" >2015</th>        <th class=\"col_heading level2 col5\" >2016</th>    </tr>    <tr>        <th class=\"index_name level0\" >platform</th>        <th class=\"blank\" ></th>        <th class=\"blank\" ></th>        <th class=\"blank\" ></th>        <th class=\"blank\" ></th>        <th class=\"blank\" ></th>        <th class=\"blank\" ></th>    </tr></thead><tbody>\n",
       "                <tr>\n",
       "                        <th id=\"T_2ca12_level0_row0\" class=\"row_heading level0 row0\" >3DS</th>\n",
       "                        <td id=\"T_2ca12_row0_col0\" class=\"data row0 col0\" >63.200000</td>\n",
       "                        <td id=\"T_2ca12_row0_col1\" class=\"data row0 col1\" >51.360000</td>\n",
       "                        <td id=\"T_2ca12_row0_col2\" class=\"data row0 col2\" >56.570000</td>\n",
       "                        <td id=\"T_2ca12_row0_col3\" class=\"data row0 col3\" >43.760000</td>\n",
       "                        <td id=\"T_2ca12_row0_col4\" class=\"data row0 col4\" >27.780000</td>\n",
       "                        <td id=\"T_2ca12_row0_col5\" class=\"data row0 col5\" >15.140000</td>\n",
       "            </tr>\n",
       "            <tr>\n",
       "                        <th id=\"T_2ca12_level0_row1\" class=\"row_heading level0 row1\" >DS</th>\n",
       "                        <td id=\"T_2ca12_row1_col0\" class=\"data row1 col0\" >26.180000</td>\n",
       "                        <td id=\"T_2ca12_row1_col1\" class=\"data row1 col1\" >11.010000</td>\n",
       "                        <td id=\"T_2ca12_row1_col2\" class=\"data row1 col2\" >1.540000</td>\n",
       "                        <td id=\"T_2ca12_row1_col3\" class=\"data row1 col3\" >0.000000</td>\n",
       "                        <td id=\"T_2ca12_row1_col4\" class=\"data row1 col4\" >0.000000</td>\n",
       "                        <td id=\"T_2ca12_row1_col5\" class=\"data row1 col5\" >0.000000</td>\n",
       "            </tr>\n",
       "            <tr>\n",
       "                        <th id=\"T_2ca12_level0_row2\" class=\"row_heading level0 row2\" >PC</th>\n",
       "                        <td id=\"T_2ca12_row2_col0\" class=\"data row2 col0\" >35.030000</td>\n",
       "                        <td id=\"T_2ca12_row2_col1\" class=\"data row2 col1\" >23.220000</td>\n",
       "                        <td id=\"T_2ca12_row2_col2\" class=\"data row2 col2\" >12.380000</td>\n",
       "                        <td id=\"T_2ca12_row2_col3\" class=\"data row2 col3\" >13.280000</td>\n",
       "                        <td id=\"T_2ca12_row2_col4\" class=\"data row2 col4\" >8.520000</td>\n",
       "                        <td id=\"T_2ca12_row2_col5\" class=\"data row2 col5\" >5.250000</td>\n",
       "            </tr>\n",
       "            <tr>\n",
       "                        <th id=\"T_2ca12_level0_row3\" class=\"row_heading level0 row3\" >PS2</th>\n",
       "                        <td id=\"T_2ca12_row3_col0\" class=\"data row3 col0\" >0.450000</td>\n",
       "                        <td id=\"T_2ca12_row3_col1\" class=\"data row3 col1\" >0.000000</td>\n",
       "                        <td id=\"T_2ca12_row3_col2\" class=\"data row3 col2\" >0.000000</td>\n",
       "                        <td id=\"T_2ca12_row3_col3\" class=\"data row3 col3\" >0.000000</td>\n",
       "                        <td id=\"T_2ca12_row3_col4\" class=\"data row3 col4\" >0.000000</td>\n",
       "                        <td id=\"T_2ca12_row3_col5\" class=\"data row3 col5\" >0.000000</td>\n",
       "            </tr>\n",
       "            <tr>\n",
       "                        <th id=\"T_2ca12_level0_row4\" class=\"row_heading level0 row4\" >PS3</th>\n",
       "                        <td id=\"T_2ca12_row4_col0\" class=\"data row4 col0\" >156.780000</td>\n",
       "                        <td id=\"T_2ca12_row4_col1\" class=\"data row4 col1\" >107.360000</td>\n",
       "                        <td id=\"T_2ca12_row4_col2\" class=\"data row4 col2\" >113.250000</td>\n",
       "                        <td id=\"T_2ca12_row4_col3\" class=\"data row4 col3\" >47.760000</td>\n",
       "                        <td id=\"T_2ca12_row4_col4\" class=\"data row4 col4\" >16.820000</td>\n",
       "                        <td id=\"T_2ca12_row4_col5\" class=\"data row4 col5\" >3.600000</td>\n",
       "            </tr>\n",
       "            <tr>\n",
       "                        <th id=\"T_2ca12_level0_row5\" class=\"row_heading level0 row5\" >PS4</th>\n",
       "                        <td id=\"T_2ca12_row5_col0\" class=\"data row5 col0\" >0.000000</td>\n",
       "                        <td id=\"T_2ca12_row5_col1\" class=\"data row5 col1\" >0.000000</td>\n",
       "                        <td id=\"T_2ca12_row5_col2\" class=\"data row5 col2\" >25.990000</td>\n",
       "                        <td id=\"T_2ca12_row5_col3\" class=\"data row5 col3\" >100.000000</td>\n",
       "                        <td id=\"T_2ca12_row5_col4\" class=\"data row5 col4\" >118.900000</td>\n",
       "                        <td id=\"T_2ca12_row5_col5\" class=\"data row5 col5\" >69.250000</td>\n",
       "            </tr>\n",
       "            <tr>\n",
       "                        <th id=\"T_2ca12_level0_row6\" class=\"row_heading level0 row6\" >PSP</th>\n",
       "                        <td id=\"T_2ca12_row6_col0\" class=\"data row6 col0\" >17.820000</td>\n",
       "                        <td id=\"T_2ca12_row6_col1\" class=\"data row6 col1\" >7.690000</td>\n",
       "                        <td id=\"T_2ca12_row6_col2\" class=\"data row6 col2\" >3.140000</td>\n",
       "                        <td id=\"T_2ca12_row6_col3\" class=\"data row6 col3\" >0.240000</td>\n",
       "                        <td id=\"T_2ca12_row6_col4\" class=\"data row6 col4\" >0.120000</td>\n",
       "                        <td id=\"T_2ca12_row6_col5\" class=\"data row6 col5\" >0.000000</td>\n",
       "            </tr>\n",
       "            <tr>\n",
       "                        <th id=\"T_2ca12_level0_row7\" class=\"row_heading level0 row7\" >PSV</th>\n",
       "                        <td id=\"T_2ca12_row7_col0\" class=\"data row7 col0\" >4.630000</td>\n",
       "                        <td id=\"T_2ca12_row7_col1\" class=\"data row7 col1\" >16.190000</td>\n",
       "                        <td id=\"T_2ca12_row7_col2\" class=\"data row7 col2\" >10.590000</td>\n",
       "                        <td id=\"T_2ca12_row7_col3\" class=\"data row7 col3\" >11.900000</td>\n",
       "                        <td id=\"T_2ca12_row7_col4\" class=\"data row7 col4\" >6.250000</td>\n",
       "                        <td id=\"T_2ca12_row7_col5\" class=\"data row7 col5\" >4.250000</td>\n",
       "            </tr>\n",
       "            <tr>\n",
       "                        <th id=\"T_2ca12_level0_row8\" class=\"row_heading level0 row8\" >Wii</th>\n",
       "                        <td id=\"T_2ca12_row8_col0\" class=\"data row8 col0\" >59.650000</td>\n",
       "                        <td id=\"T_2ca12_row8_col1\" class=\"data row8 col1\" >21.710000</td>\n",
       "                        <td id=\"T_2ca12_row8_col2\" class=\"data row8 col2\" >8.590000</td>\n",
       "                        <td id=\"T_2ca12_row8_col3\" class=\"data row8 col3\" >3.750000</td>\n",
       "                        <td id=\"T_2ca12_row8_col4\" class=\"data row8 col4\" >1.140000</td>\n",
       "                        <td id=\"T_2ca12_row8_col5\" class=\"data row8 col5\" >0.180000</td>\n",
       "            </tr>\n",
       "            <tr>\n",
       "                        <th id=\"T_2ca12_level0_row9\" class=\"row_heading level0 row9\" >WiiU</th>\n",
       "                        <td id=\"T_2ca12_row9_col0\" class=\"data row9 col0\" >0.000000</td>\n",
       "                        <td id=\"T_2ca12_row9_col1\" class=\"data row9 col1\" >17.560000</td>\n",
       "                        <td id=\"T_2ca12_row9_col2\" class=\"data row9 col2\" >21.650000</td>\n",
       "                        <td id=\"T_2ca12_row9_col3\" class=\"data row9 col3\" >22.030000</td>\n",
       "                        <td id=\"T_2ca12_row9_col4\" class=\"data row9 col4\" >16.350000</td>\n",
       "                        <td id=\"T_2ca12_row9_col5\" class=\"data row9 col5\" >4.600000</td>\n",
       "            </tr>\n",
       "            <tr>\n",
       "                        <th id=\"T_2ca12_level0_row10\" class=\"row_heading level0 row10\" >X360</th>\n",
       "                        <td id=\"T_2ca12_row10_col0\" class=\"data row10 col0\" >143.840000</td>\n",
       "                        <td id=\"T_2ca12_row10_col1\" class=\"data row10 col1\" >99.740000</td>\n",
       "                        <td id=\"T_2ca12_row10_col2\" class=\"data row10 col2\" >88.580000</td>\n",
       "                        <td id=\"T_2ca12_row10_col3\" class=\"data row10 col3\" >34.740000</td>\n",
       "                        <td id=\"T_2ca12_row10_col4\" class=\"data row10 col4\" >11.960000</td>\n",
       "                        <td id=\"T_2ca12_row10_col5\" class=\"data row10 col5\" >1.520000</td>\n",
       "            </tr>\n",
       "            <tr>\n",
       "                        <th id=\"T_2ca12_level0_row11\" class=\"row_heading level0 row11\" >XOne</th>\n",
       "                        <td id=\"T_2ca12_row11_col0\" class=\"data row11 col0\" >0.000000</td>\n",
       "                        <td id=\"T_2ca12_row11_col1\" class=\"data row11 col1\" >0.000000</td>\n",
       "                        <td id=\"T_2ca12_row11_col2\" class=\"data row11 col2\" >18.960000</td>\n",
       "                        <td id=\"T_2ca12_row11_col3\" class=\"data row11 col3\" >54.070000</td>\n",
       "                        <td id=\"T_2ca12_row11_col4\" class=\"data row11 col4\" >60.140000</td>\n",
       "                        <td id=\"T_2ca12_row11_col5\" class=\"data row11 col5\" >26.150000</td>\n",
       "            </tr>\n",
       "    </tbody></table>"
      ],
      "text/plain": [
       "<pandas.io.formats.style.Styler at 0x7faa2dfce820>"
      ]
     },
     "execution_count": 96,
     "metadata": {},
     "output_type": "execute_result"
    }
   ],
   "source": [
    "df_yaer_ts = pd.pivot_table(df,\n",
    "               index=['platform'],\n",
    "               columns=['year_of_release'],\n",
    "               values=['total_sales'],\n",
    "               aggfunc=[np.sum],\n",
    "                       fill_value=0)\n",
    "cm = sns.light_palette(\"green\", as_cmap=True)\n",
    "df_yaer_ts.style.background_gradient(cmap=cm)"
   ]
  },
  {
   "cell_type": "markdown",
   "metadata": {},
   "source": [
    "**Вывод:**\n",
    "\n",
    "- Из представленных платформ наибольшие продажи у PS3 - 44,557, платформа была на пике в 2011 году, продажи на ней постепенно снижались до минимума к концу периода.\n",
    "- На графике, как и в сводной таблице видно, что на конец рассматриваемого периода продажи растут год к году только у двух платформ PS4 и XOne (за исключением 2016 года для XOne - но т.к. год неполный, возможно, продажи еще подтянутся). Продажи на остальных платформах снижаются.\n",
    "- Платформы PS4 и XOne являются потенциально прибыльнами, т.к. вышли на рынок в 2013 году, на начало 2017 года они будут находятся в середине жизненного цикла, с большой вероятностью в 2017 году будет рост продаж на этих платформах. "
   ]
  },
  {
   "cell_type": "markdown",
   "metadata": {},
   "source": [
    "### Постройте график «ящик с усами» по глобальным продажам игр в разбивке по платформам. Опишите результат."
   ]
  },
  {
   "cell_type": "markdown",
   "metadata": {},
   "source": [
    "Построим «ящик с усами» по глобальным продажам игр в разбивке по платформам"
   ]
  },
  {
   "cell_type": "code",
   "execution_count": 97,
   "metadata": {},
   "outputs": [
    {
     "data": {
      "image/png": "[encoded data removed]",
      "text/plain": [
       "<Figure size 720x720 with 1 Axes>"
      ]
     },
     "metadata": {
      "needs_background": "light"
     },
     "output_type": "display_data"
    }
   ],
   "source": [
    "df.boxplot('total_sales', by='platform',figsize=(10,10));"
   ]
  },
  {
   "cell_type": "markdown",
   "metadata": {},
   "source": [
    "Т.к. для большинства платформ характерны выбросы в продажах, ограничим шкалу y, чтоб подробнее рассмотреть график."
   ]
  },
  {
   "cell_type": "code",
   "execution_count": 98,
   "metadata": {
    "scrolled": false
   },
   "outputs": [
    {
     "data": {
      "image/png": "[encoded data removed]",
      "text/plain": [
       "<Figure size 720x720 with 1 Axes>"
      ]
     },
     "metadata": {
      "needs_background": "light"
     },
     "output_type": "display_data"
    }
   ],
   "source": [
    "df.boxplot('total_sales', by='platform',figsize=(10,10)).set_ylim(0,2)\n",
    "\n",
    "plt.title('Глобальные продажи игр в разбивке по платформам', fontdict=font)\n",
    "plt.xlabel('Платформы', fontdict=font_2)\n",
    "plt.ylabel('Продажи игр', fontdict=font_2)\n",
    "\n",
    "plt.show();\n"
   ]
  },
  {
   "cell_type": "markdown",
   "metadata": {},
   "source": [
    "**Вывод:**\n",
    "- Практически для всех платформ наблюдаем большое количество выбросов, а также верхний квантиль, смещенный вверх относительно медианы - это говорит о том, что на всех платформах есть игры-флагманы, за счет продаж которых платформы существуют."
   ]
  },
  {
   "cell_type": "markdown",
   "metadata": {},
   "source": [
    "### Посмотрите, как влияют на продажи внутри одной популярной платформы отзывы пользователей и критиков. Постройте диаграмму рассеяния и посчитайте корреляцию между отзывами и продажами. Сформулируйте выводы."
   ]
  },
  {
   "cell_type": "markdown",
   "metadata": {},
   "source": [
    "Зависимость продаж от отзывов рассмотрим на примере платформы PS3, т.к. у нее самые высокие продажи в анализируемом периоде."
   ]
  },
  {
   "cell_type": "markdown",
   "metadata": {},
   "source": [
    "#### Зависимость продаж от отзывов критиков на платформе PS3"
   ]
  },
  {
   "cell_type": "code",
   "execution_count": 99,
   "metadata": {
    "scrolled": false
   },
   "outputs": [
    {
     "data": {
      "image/png": "[encoded data removed]",
      "text/plain": [
       "<Figure size 576x432 with 1 Axes>"
      ]
     },
     "metadata": {
      "needs_background": "light"
     },
     "output_type": "display_data"
    }
   ],
   "source": [
    "df.query('platform == \"PS3\"').plot(x='critic_score', y='total_sales', kind='scatter', grid=True, figsize=(8,6))\n",
    "\n",
    "plt.xticks(rotation = 45)\n",
    "plt.title('Зависимость продаж от отзывов критиков на платформе PS3', fontdict=font)\n",
    "plt.xlabel('Рейтинг критиков', fontdict=font_2)\n",
    "plt.ylabel('Продажи игр', fontdict=font_2)\n",
    "\n",
    "plt.show();"
   ]
  },
  {
   "cell_type": "code",
   "execution_count": 100,
   "metadata": {},
   "outputs": [
    {
     "data": {
      "text/plain": [
       "0.3801111471829076"
      ]
     },
     "execution_count": 100,
     "metadata": {},
     "output_type": "execute_result"
    }
   ],
   "source": [
    "df.query('platform == \"PS3\"')['critic_score'].corr(df.query('platform == \"PS3\"')['total_sales'])"
   ]
  },
  {
   "cell_type": "markdown",
   "metadata": {},
   "source": [
    "**Вывод:** проджаи игр находятся в прямой зависимости от рейтинга, присовенного критиками. Зависимость выражена не очень сильно, коэффициент корреляции 0,38."
   ]
  },
  {
   "cell_type": "markdown",
   "metadata": {},
   "source": [
    "#### Зависимость продаж от отзывов критиков"
   ]
  },
  {
   "cell_type": "code",
   "execution_count": 101,
   "metadata": {
    "scrolled": true
   },
   "outputs": [
    {
     "data": {
      "image/png": "[encoded data removed]",
      "text/plain": [
       "<Figure size 576x432 with 1 Axes>"
      ]
     },
     "metadata": {
      "needs_background": "light"
     },
     "output_type": "display_data"
    }
   ],
   "source": [
    "df.query('platform == \"PS3\"').plot(x='user_score', y='total_sales', kind='scatter', grid=True, figsize=(8,6))\n",
    "\n",
    "plt.xticks(rotation = 45)\n",
    "plt.title('Зависимость продаж от отзывов пользователей', fontdict=font)\n",
    "plt.xlabel('Рейтинг пользователей', fontdict=font_2)\n",
    "plt.ylabel('Продажи игр', fontdict=font_2)\n",
    "\n",
    "plt.show();"
   ]
  },
  {
   "cell_type": "code",
   "execution_count": 102,
   "metadata": {},
   "outputs": [
    {
     "data": {
      "text/plain": [
       "0.014089348308019396"
      ]
     },
     "execution_count": 102,
     "metadata": {},
     "output_type": "execute_result"
    }
   ],
   "source": [
    "df.query('platform == \"PS3\"')['user_score'].corr(df.query('platform == \"PS3\"')['total_sales'])"
   ]
  },
  {
   "cell_type": "markdown",
   "metadata": {},
   "source": [
    "**Вывод:** проджаи игр находятся в очень слабой прямой зависимости от рейтинга, присовенного пользователями; коэффициент корреляции 0,014. На графике видно, что даже игры с рейтингом менее 5 могут продаваться в больших количествах."
   ]
  },
  {
   "cell_type": "markdown",
   "metadata": {},
   "source": [
    "### Соотнесите выводы с продажами игр на других платформах."
   ]
  },
  {
   "cell_type": "markdown",
   "metadata": {},
   "source": [
    "Сравним выводы прошлого вопроса с ситуацией на потенциально прибыльных платформах."
   ]
  },
  {
   "cell_type": "markdown",
   "metadata": {},
   "source": [
    "#### Зависимость продаж от отзывов критиков на платформе PS4"
   ]
  },
  {
   "cell_type": "code",
   "execution_count": 103,
   "metadata": {},
   "outputs": [
    {
     "data": {
      "image/png": "[encoded data removed]",
      "text/plain": [
       "<Figure size 576x432 with 1 Axes>"
      ]
     },
     "metadata": {
      "needs_background": "light"
     },
     "output_type": "display_data"
    }
   ],
   "source": [
    "df.query('platform == \"PS4\"').plot(x='critic_score', y='total_sales', kind='scatter', grid=True, figsize=(8,6))\n",
    "\n",
    "plt.xticks(rotation = 45)\n",
    "plt.title('Зависимость продаж от отзывов критиков на платформе PS4', fontdict=font)\n",
    "plt.xlabel('Рейтинг критиков', fontdict=font_2)\n",
    "plt.ylabel('Продажи игр', fontdict=font_2)\n",
    "\n",
    "plt.show();"
   ]
  },
  {
   "cell_type": "code",
   "execution_count": 104,
   "metadata": {},
   "outputs": [
    {
     "data": {
      "text/plain": [
       "0.40656790206178095"
      ]
     },
     "execution_count": 104,
     "metadata": {},
     "output_type": "execute_result"
    }
   ],
   "source": [
    "df.query('platform == \"PS4\"')['critic_score'].corr(df.query('platform == \"PS4\"')['total_sales'])"
   ]
  },
  {
   "cell_type": "markdown",
   "metadata": {},
   "source": [
    "#### 3.6.1  Зависимость продаж от отзывов пользователей на платформе PS4"
   ]
  },
  {
   "cell_type": "code",
   "execution_count": 105,
   "metadata": {},
   "outputs": [
    {
     "data": {
      "image/png": "[encoded data removed]",
      "text/plain": [
       "<Figure size 576x432 with 1 Axes>"
      ]
     },
     "metadata": {
      "needs_background": "light"
     },
     "output_type": "display_data"
    }
   ],
   "source": [
    "df.query('platform == \"PS4\"').plot(x='user_score', y='total_sales', kind='scatter', grid=True, figsize=(8,6))\n",
    "\n",
    "plt.xticks(rotation = 45)\n",
    "plt.title('Зависимость продаж от отзывов пользователей на платформе PS4', fontdict=font)\n",
    "plt.xlabel('Рейтинг пользователей', fontdict=font_2)\n",
    "plt.ylabel('Продажи игр', fontdict=font_2)\n",
    "\n",
    "plt.show();"
   ]
  },
  {
   "cell_type": "code",
   "execution_count": 106,
   "metadata": {
    "scrolled": true
   },
   "outputs": [
    {
     "data": {
      "text/plain": [
       "-0.031957110204556424"
      ]
     },
     "execution_count": 106,
     "metadata": {},
     "output_type": "execute_result"
    }
   ],
   "source": [
    "df.query('platform == \"PS4\"')['user_score'].corr(df.query('platform == \"PS4\"')['total_sales'])"
   ]
  },
  {
   "cell_type": "markdown",
   "metadata": {},
   "source": [
    "#### Зависимость продаж от отзывов критиков на платформе XOne"
   ]
  },
  {
   "cell_type": "code",
   "execution_count": 107,
   "metadata": {},
   "outputs": [
    {
     "data": {
      "image/png": "[encoded data removed]",
      "text/plain": [
       "<Figure size 576x432 with 1 Axes>"
      ]
     },
     "metadata": {
      "needs_background": "light"
     },
     "output_type": "display_data"
    }
   ],
   "source": [
    "df.query('platform == \"XOne\"').plot(x='critic_score', y='total_sales', kind='scatter', grid=True, figsize=(8,6))\n",
    "\n",
    "plt.xticks(rotation = 45)\n",
    "plt.title('Зависимость продаж от отзывов критиков на платформе XOne', fontdict=font)\n",
    "plt.xlabel('Рейтинг критиков', fontdict=font_2)\n",
    "plt.ylabel('Продажи игр', fontdict=font_2)\n",
    "\n",
    "plt.show();"
   ]
  },
  {
   "cell_type": "code",
   "execution_count": 108,
   "metadata": {},
   "outputs": [
    {
     "data": {
      "text/plain": [
       "0.4169983280084017"
      ]
     },
     "execution_count": 108,
     "metadata": {},
     "output_type": "execute_result"
    }
   ],
   "source": [
    "df.query('platform == \"XOne\"')['critic_score'].corr(df.query('platform == \"XOne\"')['total_sales'])"
   ]
  },
  {
   "cell_type": "markdown",
   "metadata": {},
   "source": [
    "#### Зависимость продаж от отзывов пользователей на платформе XOne"
   ]
  },
  {
   "cell_type": "code",
   "execution_count": 109,
   "metadata": {
    "scrolled": true
   },
   "outputs": [
    {
     "data": {
      "image/png": "[encoded data removed]",
      "text/plain": [
       "<Figure size 576x432 with 1 Axes>"
      ]
     },
     "metadata": {
      "needs_background": "light"
     },
     "output_type": "display_data"
    }
   ],
   "source": [
    "df.query('platform == \"XOne\"').plot(x='user_score', y='total_sales', kind='scatter', grid=True, figsize=(8,6))\n",
    "\n",
    "plt.xticks(rotation = 45)\n",
    "plt.title('Зависимость продаж от отзывов пользователей на платформе XOne', fontdict=font)\n",
    "plt.xlabel('Рейтинг пользователей', fontdict=font_2)\n",
    "plt.ylabel('Продажи игр', fontdict=font_2)\n",
    "\n",
    "plt.show();"
   ]
  },
  {
   "cell_type": "code",
   "execution_count": 110,
   "metadata": {},
   "outputs": [
    {
     "data": {
      "text/plain": [
       "-0.06892505328279414"
      ]
     },
     "execution_count": 110,
     "metadata": {},
     "output_type": "execute_result"
    }
   ],
   "source": [
    "df.query('platform == \"XOne\"')['user_score'].corr(df.query('platform == \"XOne\"')['total_sales'])"
   ]
  },
  {
   "cell_type": "markdown",
   "metadata": {},
   "source": [
    "**Вывод:** выводы, сделанные на примере самой популярной платформы PS3, актуальны и для потенциально прибыльных платформ PS4 и XOne. Продажи находятся в слабой прямой зависимости от рейтинга критиков (коэффициент корреляции около 0,40) и практичски не зависят от рейтинга пользователей (коэффициент корреляции от -0,06 до -0,03)."
   ]
  },
  {
   "cell_type": "markdown",
   "metadata": {},
   "source": [
    "### Посмотрите на общее распределение игр по жанрам. Что можно сказать о самых прибыльных жанрах? Выделяются ли жанры с высокими и низкими продажами?"
   ]
  },
  {
   "cell_type": "markdown",
   "metadata": {},
   "source": [
    "Сгруппируем данные по жанрам, посчитаем для каждого жанра:\n",
    "- общее количество игр;\n",
    "- общие продажиж;\n",
    "- долю от общего количества; \n",
    "- долю от продаж;\n",
    "- средние продажи одной игры. "
   ]
  },
  {
   "cell_type": "code",
   "execution_count": 111,
   "metadata": {
    "scrolled": true
   },
   "outputs": [
    {
     "data": {
      "text/html": [
       "<div>\n",
       "<style scoped>\n",
       "    .dataframe tbody tr th:only-of-type {\n",
       "        vertical-align: middle;\n",
       "    }\n",
       "\n",
       "    .dataframe tbody tr th {\n",
       "        vertical-align: top;\n",
       "    }\n",
       "\n",
       "    .dataframe thead th {\n",
       "        text-align: right;\n",
       "    }\n",
       "</style>\n",
       "<table border=\"1\" class=\"dataframe\">\n",
       "  <thead>\n",
       "    <tr style=\"text-align: right;\">\n",
       "      <th></th>\n",
       "      <th>genre</th>\n",
       "      <th>count</th>\n",
       "      <th>total_sales</th>\n",
       "      <th>count_ratio</th>\n",
       "      <th>total_sales_ratio</th>\n",
       "      <th>mean_sales</th>\n",
       "    </tr>\n",
       "  </thead>\n",
       "  <tbody>\n",
       "    <tr>\n",
       "      <th>0</th>\n",
       "      <td>Action</td>\n",
       "      <td>1269</td>\n",
       "      <td>557.80</td>\n",
       "      <td>31.55</td>\n",
       "      <td>28.54</td>\n",
       "      <td>0.44</td>\n",
       "    </tr>\n",
       "    <tr>\n",
       "      <th>7</th>\n",
       "      <td>Role-Playing</td>\n",
       "      <td>465</td>\n",
       "      <td>245.63</td>\n",
       "      <td>11.56</td>\n",
       "      <td>12.57</td>\n",
       "      <td>0.53</td>\n",
       "    </tr>\n",
       "    <tr>\n",
       "      <th>1</th>\n",
       "      <td>Adventure</td>\n",
       "      <td>410</td>\n",
       "      <td>45.04</td>\n",
       "      <td>10.19</td>\n",
       "      <td>2.30</td>\n",
       "      <td>0.11</td>\n",
       "    </tr>\n",
       "    <tr>\n",
       "      <th>10</th>\n",
       "      <td>Sports</td>\n",
       "      <td>389</td>\n",
       "      <td>237.15</td>\n",
       "      <td>9.67</td>\n",
       "      <td>12.14</td>\n",
       "      <td>0.61</td>\n",
       "    </tr>\n",
       "    <tr>\n",
       "      <th>3</th>\n",
       "      <td>Misc</td>\n",
       "      <td>375</td>\n",
       "      <td>139.42</td>\n",
       "      <td>9.32</td>\n",
       "      <td>7.13</td>\n",
       "      <td>0.37</td>\n",
       "    </tr>\n",
       "    <tr>\n",
       "      <th>8</th>\n",
       "      <td>Shooter</td>\n",
       "      <td>329</td>\n",
       "      <td>402.91</td>\n",
       "      <td>8.18</td>\n",
       "      <td>20.62</td>\n",
       "      <td>1.22</td>\n",
       "    </tr>\n",
       "    <tr>\n",
       "      <th>6</th>\n",
       "      <td>Racing</td>\n",
       "      <td>180</td>\n",
       "      <td>88.31</td>\n",
       "      <td>4.48</td>\n",
       "      <td>4.52</td>\n",
       "      <td>0.49</td>\n",
       "    </tr>\n",
       "    <tr>\n",
       "      <th>2</th>\n",
       "      <td>Fighting</td>\n",
       "      <td>159</td>\n",
       "      <td>66.90</td>\n",
       "      <td>3.95</td>\n",
       "      <td>3.42</td>\n",
       "      <td>0.42</td>\n",
       "    </tr>\n",
       "    <tr>\n",
       "      <th>9</th>\n",
       "      <td>Simulation</td>\n",
       "      <td>136</td>\n",
       "      <td>50.26</td>\n",
       "      <td>3.38</td>\n",
       "      <td>2.57</td>\n",
       "      <td>0.37</td>\n",
       "    </tr>\n",
       "    <tr>\n",
       "      <th>4</th>\n",
       "      <td>Platform</td>\n",
       "      <td>122</td>\n",
       "      <td>88.68</td>\n",
       "      <td>3.03</td>\n",
       "      <td>4.54</td>\n",
       "      <td>0.73</td>\n",
       "    </tr>\n",
       "    <tr>\n",
       "      <th>11</th>\n",
       "      <td>Strategy</td>\n",
       "      <td>117</td>\n",
       "      <td>22.16</td>\n",
       "      <td>2.91</td>\n",
       "      <td>1.13</td>\n",
       "      <td>0.19</td>\n",
       "    </tr>\n",
       "    <tr>\n",
       "      <th>5</th>\n",
       "      <td>Puzzle</td>\n",
       "      <td>71</td>\n",
       "      <td>9.85</td>\n",
       "      <td>1.77</td>\n",
       "      <td>0.50</td>\n",
       "      <td>0.14</td>\n",
       "    </tr>\n",
       "  </tbody>\n",
       "</table>\n",
       "</div>"
      ],
      "text/plain": [
       "           genre  count  total_sales  count_ratio  total_sales_ratio  \\\n",
       "0         Action   1269       557.80        31.55              28.54   \n",
       "7   Role-Playing    465       245.63        11.56              12.57   \n",
       "1      Adventure    410        45.04        10.19               2.30   \n",
       "10        Sports    389       237.15         9.67              12.14   \n",
       "3           Misc    375       139.42         9.32               7.13   \n",
       "8        Shooter    329       402.91         8.18              20.62   \n",
       "6         Racing    180        88.31         4.48               4.52   \n",
       "2       Fighting    159        66.90         3.95               3.42   \n",
       "9     Simulation    136        50.26         3.38               2.57   \n",
       "4       Platform    122        88.68         3.03               4.54   \n",
       "11      Strategy    117        22.16         2.91               1.13   \n",
       "5         Puzzle     71         9.85         1.77               0.50   \n",
       "\n",
       "    mean_sales  \n",
       "0         0.44  \n",
       "7         0.53  \n",
       "1         0.11  \n",
       "10        0.61  \n",
       "3         0.37  \n",
       "8         1.22  \n",
       "6         0.49  \n",
       "2         0.42  \n",
       "9         0.37  \n",
       "4         0.73  \n",
       "11        0.19  \n",
       "5         0.14  "
      ]
     },
     "execution_count": 111,
     "metadata": {},
     "output_type": "execute_result"
    }
   ],
   "source": [
    "popular_genre = df.groupby('genre').agg({'name':'count', 'total_sales':'sum'}).reset_index()\n",
    "popular_genre.rename(columns={'name': 'count'}, inplace=True)\n",
    "popular_genre['count_ratio']=popular_genre['count']/popular_genre['count'].sum()*100\n",
    "popular_genre['total_sales_ratio']=popular_genre['total_sales']/popular_genre['total_sales'].sum()*100\n",
    "popular_genre['mean_sales'] = popular_genre['total_sales']/popular_genre['count']\n",
    "popular_genre.sort_values(by='count', ascending=False).head(12)"
   ]
  },
  {
   "cell_type": "markdown",
   "metadata": {},
   "source": [
    "**Вывод:**\n",
    "- Наиболее популярным жанром у разработчиков игр является Action - его доля в общем числе игр составлеят 31,55%, а доля в сумме продаж - 28,54%.\n",
    "- Misc пропускаем (насколько понял, это игры, не относящмеся к какому-либо жанру).\n",
    "- Следующие по количеству выпускаемых игр Role-Playing и Adventure с 11,56% и 10.19% в количестве выпускаемых игр. Их доля в общих продажах 12,57% и 2,2% соответственно;\n",
    "- Жанры Sports и Shooter занимают 9,67% и 8,18% в количестве выпускаемых игр, при этом их доля продаж значительно превышает долю продаж Adventurе, и составляет для Sports - 12,14%, для Shooter - 20,62%."
   ]
  },
  {
   "cell_type": "markdown",
   "metadata": {},
   "source": [
    "Посмотрим так же на медианные продажи одной игры для разных жанров."
   ]
  },
  {
   "cell_type": "code",
   "execution_count": 112,
   "metadata": {},
   "outputs": [
    {
     "data": {
      "text/html": [
       "<div>\n",
       "<style scoped>\n",
       "    .dataframe tbody tr th:only-of-type {\n",
       "        vertical-align: middle;\n",
       "    }\n",
       "\n",
       "    .dataframe tbody tr th {\n",
       "        vertical-align: top;\n",
       "    }\n",
       "\n",
       "    .dataframe thead th {\n",
       "        text-align: right;\n",
       "    }\n",
       "</style>\n",
       "<table border=\"1\" class=\"dataframe\">\n",
       "  <thead>\n",
       "    <tr style=\"text-align: right;\">\n",
       "      <th></th>\n",
       "      <th>genre</th>\n",
       "      <th>name</th>\n",
       "      <th>median_sales</th>\n",
       "    </tr>\n",
       "  </thead>\n",
       "  <tbody>\n",
       "    <tr>\n",
       "      <th>8</th>\n",
       "      <td>Shooter</td>\n",
       "      <td>329</td>\n",
       "      <td>0.41</td>\n",
       "    </tr>\n",
       "    <tr>\n",
       "      <th>10</th>\n",
       "      <td>Sports</td>\n",
       "      <td>389</td>\n",
       "      <td>0.20</td>\n",
       "    </tr>\n",
       "    <tr>\n",
       "      <th>4</th>\n",
       "      <td>Platform</td>\n",
       "      <td>122</td>\n",
       "      <td>0.18</td>\n",
       "    </tr>\n",
       "    <tr>\n",
       "      <th>2</th>\n",
       "      <td>Fighting</td>\n",
       "      <td>159</td>\n",
       "      <td>0.18</td>\n",
       "    </tr>\n",
       "    <tr>\n",
       "      <th>6</th>\n",
       "      <td>Racing</td>\n",
       "      <td>180</td>\n",
       "      <td>0.16</td>\n",
       "    </tr>\n",
       "    <tr>\n",
       "      <th>7</th>\n",
       "      <td>Role-Playing</td>\n",
       "      <td>465</td>\n",
       "      <td>0.15</td>\n",
       "    </tr>\n",
       "    <tr>\n",
       "      <th>0</th>\n",
       "      <td>Action</td>\n",
       "      <td>1269</td>\n",
       "      <td>0.13</td>\n",
       "    </tr>\n",
       "    <tr>\n",
       "      <th>3</th>\n",
       "      <td>Misc</td>\n",
       "      <td>375</td>\n",
       "      <td>0.13</td>\n",
       "    </tr>\n",
       "    <tr>\n",
       "      <th>9</th>\n",
       "      <td>Simulation</td>\n",
       "      <td>136</td>\n",
       "      <td>0.11</td>\n",
       "    </tr>\n",
       "    <tr>\n",
       "      <th>11</th>\n",
       "      <td>Strategy</td>\n",
       "      <td>117</td>\n",
       "      <td>0.08</td>\n",
       "    </tr>\n",
       "    <tr>\n",
       "      <th>5</th>\n",
       "      <td>Puzzle</td>\n",
       "      <td>71</td>\n",
       "      <td>0.05</td>\n",
       "    </tr>\n",
       "    <tr>\n",
       "      <th>1</th>\n",
       "      <td>Adventure</td>\n",
       "      <td>410</td>\n",
       "      <td>0.03</td>\n",
       "    </tr>\n",
       "  </tbody>\n",
       "</table>\n",
       "</div>"
      ],
      "text/plain": [
       "           genre  name  median_sales\n",
       "8        Shooter   329          0.41\n",
       "10        Sports   389          0.20\n",
       "4       Platform   122          0.18\n",
       "2       Fighting   159          0.18\n",
       "6         Racing   180          0.16\n",
       "7   Role-Playing   465          0.15\n",
       "0         Action  1269          0.13\n",
       "3           Misc   375          0.13\n",
       "9     Simulation   136          0.11\n",
       "11      Strategy   117          0.08\n",
       "5         Puzzle    71          0.05\n",
       "1      Adventure   410          0.03"
      ]
     },
     "execution_count": 112,
     "metadata": {},
     "output_type": "execute_result"
    }
   ],
   "source": [
    "popular_genre_2 = df.groupby('genre').agg({'name':'count', 'total_sales':'median'}).reset_index()\n",
    "popular_genre_2.rename(columns={'total_sales': 'median_sales'}, inplace=True)\n",
    "popular_genre_2.head(12).sort_values(by='median_sales', ascending=False).head(12)"
   ]
  },
  {
   "cell_type": "markdown",
   "metadata": {},
   "source": [
    "**Вывод:**\n",
    "- лучшие продажи одной игры показывает жанр Shooter; так же в пятерку входят Sports, Platform,  Fighting и Action;\n",
    "- жанр Adventure, находящийся на 3 месте по количеству выпускаемых игр является худшим по медианным продажам."
   ]
  },
  {
   "cell_type": "markdown",
   "metadata": {},
   "source": [
    "## Составьте портрет пользователя каждого региона"
   ]
  },
  {
   "cell_type": "markdown",
   "metadata": {},
   "source": [
    "Определите для пользователя каждого региона (NA, EU, JP):\n",
    "- Самые популярные платформы (топ-5). Опишите различия в долях продаж.\n",
    "- Самые популярные жанры (топ-5). Поясните разницу.\n",
    "- Влияет ли рейтинг ESRB на продажи в отдельном регионе?"
   ]
  },
  {
   "cell_type": "markdown",
   "metadata": {},
   "source": [
    "### Самые популярные платформы (топ-5). Опишите различия в долях продаж."
   ]
  },
  {
   "cell_type": "code",
   "execution_count": 113,
   "metadata": {},
   "outputs": [
    {
     "data": {
      "image/png": "[encoded data removed]",
      "text/plain": [
       "<Figure size 360x360 with 1 Axes>"
      ]
     },
     "metadata": {},
     "output_type": "display_data"
    }
   ],
   "source": [
    "df.groupby(['platform'])['na_sales'].sum().sort_values(ascending = False).head(5).plot.pie(y='mass', figsize=(5, 5))\n",
    "plt.xticks(rotation = 45)\n",
    "plt.title('Самые популярные платформы (топ-5) в Северной Америке', fontdict=font)\n",
    "\n",
    "plt.show();"
   ]
  },
  {
   "cell_type": "code",
   "execution_count": 114,
   "metadata": {},
   "outputs": [
    {
     "data": {
      "image/png": "[encoded data removed]",
      "text/plain": [
       "<Figure size 360x360 with 1 Axes>"
      ]
     },
     "metadata": {},
     "output_type": "display_data"
    }
   ],
   "source": [
    "df.groupby(['platform'])['eu_sales'].sum().sort_values(ascending = False).head(5).plot.pie(y='mass', figsize=(5, 5))\n",
    "plt.xticks(rotation = 45)\n",
    "plt.title('Самые популярные платформы (топ-5) в Европе', fontdict=font)\n",
    "\n",
    "plt.show();"
   ]
  },
  {
   "cell_type": "code",
   "execution_count": 115,
   "metadata": {},
   "outputs": [
    {
     "data": {
      "image/png": "[encoded data removed]",
      "text/plain": [
       "<Figure size 360x360 with 1 Axes>"
      ]
     },
     "metadata": {},
     "output_type": "display_data"
    }
   ],
   "source": [
    "df.groupby(['platform'])['jp_sales'].sum().sort_values(ascending = False).head(5).plot.pie(y='mass', figsize=(5, 5))\n",
    "plt.xticks(rotation = 45)\n",
    "plt.title('Самые популярные платформы (топ-5) в Японии', fontdict=font)\n",
    "\n",
    "plt.show();"
   ]
  },
  {
   "cell_type": "markdown",
   "metadata": {},
   "source": [
    "**Вывод:** \n",
    "- списки топ-5 популярных платформ различаются для разных регионов - можно выделить повышенный спрос пользователей на местные платформы;\n",
    "- первое место в Северной Америке занимает местная платфррма X360, на втором и третьем японские PS3 и PS4;\n",
    "- в Европе пользователи ставят на перове место PS3; PS4 на втором, третье место так же занимает X360;\n",
    "- весь топ-5 Японии занимают местные платформы, с большим отрывом лидирует 3DS."
   ]
  },
  {
   "cell_type": "markdown",
   "metadata": {},
   "source": [
    "### Самые популярные жанры (топ-5). Поясните разницу."
   ]
  },
  {
   "cell_type": "code",
   "execution_count": 116,
   "metadata": {
    "scrolled": true
   },
   "outputs": [
    {
     "data": {
      "image/png": "[encoded data removed]",
      "text/plain": [
       "<Figure size 360x360 with 1 Axes>"
      ]
     },
     "metadata": {},
     "output_type": "display_data"
    }
   ],
   "source": [
    "df.groupby(['genre'])['na_sales'].sum().sort_values(ascending = False).head(5).plot.pie(y='mass', figsize=(5, 5))\n",
    "plt.xticks(rotation = 45)\n",
    "plt.title('Самые популярные жанры (топ-5) в Северной Америке', fontdict=font)\n",
    "\n",
    "plt.show();"
   ]
  },
  {
   "cell_type": "code",
   "execution_count": 117,
   "metadata": {},
   "outputs": [
    {
     "data": {
      "image/png": "[encoded data removed]",
      "text/plain": [
       "<Figure size 360x360 with 1 Axes>"
      ]
     },
     "metadata": {},
     "output_type": "display_data"
    }
   ],
   "source": [
    "df.groupby(['genre'])['eu_sales'].sum().sort_values(ascending = False).head(5).plot.pie(y='mass', figsize=(5, 5))\n",
    "plt.xticks(rotation = 45)\n",
    "plt.title('Самые популярные жанры (топ-5) в Европе', fontdict=font)\n",
    "\n",
    "plt.show();"
   ]
  },
  {
   "cell_type": "code",
   "execution_count": 118,
   "metadata": {
    "scrolled": true
   },
   "outputs": [
    {
     "data": {
      "image/png": "[encoded data removed]",
      "text/plain": [
       "<Figure size 360x360 with 1 Axes>"
      ]
     },
     "metadata": {},
     "output_type": "display_data"
    }
   ],
   "source": [
    "df.groupby(['genre'])['jp_sales'].sum().sort_values(ascending = False).head(5).plot.pie(y='mass', figsize=(5, 5))\n",
    "plt.xticks(rotation = 45)\n",
    "plt.title('Самые популярные жанры (топ-5) в Японии', fontdict=font)\n",
    "\n",
    "plt.show();"
   ]
  },
  {
   "cell_type": "markdown",
   "metadata": {},
   "source": [
    "**Вывод:**\n",
    "- 4 жанра из топ-5 в Северной Америке и Европе совпадают с незначительными отличиями в долях; на первом месте Action, на втором Shuter, на третьем Sports;\n",
    "- топ-5 жанров в Японии значительно отличаются от Американских и Европейских; на первом месте Role-Playing, на втором Action, на треьем - Fighting (Misc пропускаем, т.к. это не отдельный жанр, он означает \"разное\"). Жанр Shuter в принципе не представлен в топ-5 Японии, место в пятерке занимает Platform;\n",
    "- жанр Role-Playing, находящийся на перовм месте в Японии, в Америке и Европе находится лишь на 4 месте;\n",
    "- выбор жанров определякется скорее не географическим регионом, а культурными особенностями, присущими региону."
   ]
  },
  {
   "cell_type": "markdown",
   "metadata": {},
   "source": [
    "### Влияет ли рейтинг ESRB на продажи в отдельном регионе?"
   ]
  },
  {
   "cell_type": "code",
   "execution_count": 119,
   "metadata": {},
   "outputs": [
    {
     "data": {
      "image/png": "[encoded data removed]",
      "text/plain": [
       "<Figure size 360x360 with 1 Axes>"
      ]
     },
     "metadata": {},
     "output_type": "display_data"
    }
   ],
   "source": [
    "df.groupby(['age_rating'])['na_sales'].sum().sort_values(ascending = False).plot.pie(y='mass', figsize=(5, 5))\n",
    "plt.xticks(rotation = 45)\n",
    "plt.title('Распределение продаж по возрастному рейтингу в Северной Америке', fontdict=font)\n",
    "\n",
    "plt.show();"
   ]
  },
  {
   "cell_type": "code",
   "execution_count": 120,
   "metadata": {},
   "outputs": [
    {
     "data": {
      "image/png": "[encoded data removed]",
      "text/plain": [
       "<Figure size 360x360 with 1 Axes>"
      ]
     },
     "metadata": {},
     "output_type": "display_data"
    }
   ],
   "source": [
    "df.groupby(['age_rating'])['eu_sales'].sum().sort_values(ascending = False).plot.pie(y='mass', figsize=(5, 5))\n",
    "plt.xticks(rotation = 45)\n",
    "plt.title('Распределение продаж по возрастному рейтингу в Европе', fontdict=font)\n",
    "\n",
    "plt.show();"
   ]
  },
  {
   "cell_type": "code",
   "execution_count": 121,
   "metadata": {},
   "outputs": [
    {
     "data": {
      "image/png": "[encoded data removed]",
      "text/plain": [
       "<Figure size 360x360 with 1 Axes>"
      ]
     },
     "metadata": {},
     "output_type": "display_data"
    }
   ],
   "source": [
    "df.groupby(['age_rating'])['jp_sales'].sum().sort_values(ascending = False).plot.pie(y='mass', figsize=(5, 5))\n",
    "plt.xticks(rotation = 45)\n",
    "plt.title('Распределение продаж по возрастному рейтингу в Японии', fontdict=font)\n",
    "\n",
    "plt.show();"
   ]
  },
  {
   "cell_type": "markdown",
   "metadata": {},
   "source": [
    "**Вывод:**\n",
    "- распределение объемов продаж игр по рейтингу незначительно отличается для Европы и Северной Америки - в обоих регионах на первом месте игры для взрослых, на втором месте игры для всех.\n",
    "- большинство купленных игр в Японии относятся к группе without raiting - вероятно, рейтинг этих игр не был изначально указан,  т.к. определен по другой шкале (например CERO). Из тех игр, для которых указан рейтинг, первое место занимают игры с рейтингом E - для всех, на втором игры для подростков, на третьем - для взрослых."
   ]
  },
  {
   "cell_type": "markdown",
   "metadata": {},
   "source": [
    "### Общий вывод - региональный портрет пользователя:\n",
    "- Америка: предпочитает местные приставки X360, игры жанров Action, Shuter, Sports, для взрослых;\n",
    "- Европа: предпочитает приставки PS3, игры жанров Action, Shuter, Sports, для взрослых;\n",
    "- Япония: предпочитает приставки Nintendo, игры жанров Role-Playing, Action, Fighting, для всех."
   ]
  },
  {
   "cell_type": "markdown",
   "metadata": {},
   "source": [
    "## Проверьте гипотезы"
   ]
  },
  {
   "cell_type": "markdown",
   "metadata": {},
   "source": [
    "- Средние пользовательские рейтинги платформ Xbox One и PC одинаковые;\n",
    "- Средние пользовательские рейтинги жанров Action (англ. «действие», экшен-игры) и Sports (англ. «спортивные соревнования») разные."
   ]
  },
  {
   "cell_type": "markdown",
   "metadata": {},
   "source": [
    "Будем использовать t-критерий Стьюдента, так как сравниваемые выборки не зависят друг от друга."
   ]
  },
  {
   "cell_type": "markdown",
   "metadata": {},
   "source": [
    "### Средние пользовательские рейтинги платформ Xbox One и PC одинаковые"
   ]
  },
  {
   "cell_type": "markdown",
   "metadata": {},
   "source": [
    "Гипотезы:\n",
    "- H0: Средний пользовательский рейтинг платформ Xbox One и PC одинаковый\n",
    "- H1: Средний пользовательский рейтинг платформ Xbox One и PC различается"
   ]
  },
  {
   "cell_type": "code",
   "execution_count": 122,
   "metadata": {},
   "outputs": [],
   "source": [
    "alpha = 0.05"
   ]
  },
  {
   "cell_type": "code",
   "execution_count": 123,
   "metadata": {},
   "outputs": [],
   "source": [
    "xbox = df[(df['platform'] == 'XOne') & (df['user_score'] > 0)]['user_score']\n",
    "pc = df[(df['platform'] == 'PC') & (df['user_score'] > 0)]['user_score']"
   ]
  },
  {
   "cell_type": "code",
   "execution_count": 124,
   "metadata": {},
   "outputs": [],
   "source": [
    "results = st.ttest_ind(xbox, pc)"
   ]
  },
  {
   "cell_type": "code",
   "execution_count": 125,
   "metadata": {
    "scrolled": true
   },
   "outputs": [
    {
     "name": "stdout",
     "output_type": "stream",
     "text": [
      "p-значение: 0.6267602271422398\n",
      "Не получилось отвергнуть нулевую гипотезу\n"
     ]
    }
   ],
   "source": [
    "print('p-значение:', results.pvalue)\n",
    "\n",
    "if (results.pvalue < alpha):\n",
    "    print(\"Отвергаем нулевую гипотезу\")\n",
    "else:\n",
    "    print(\"Не получилось отвергнуть нулевую гипотезу\")"
   ]
  },
  {
   "cell_type": "markdown",
   "metadata": {},
   "source": [
    "**Вывод:** у нас нет оснований утверждать, что средние пользовательские рейтинги платформ Xbox One и PC значимо различаются."
   ]
  },
  {
   "cell_type": "markdown",
   "metadata": {},
   "source": [
    "### Средние пользовательские рейтинги жанров Action и Sports разные"
   ]
  },
  {
   "cell_type": "markdown",
   "metadata": {},
   "source": [
    "Гипотезы:\n",
    "\n",
    "- H0: Средний пользовательский рейтинг жанров Action и Sports одинаковый\n",
    "- H1: Средний пользовательский рейтинг жанров Action и Sports различается"
   ]
  },
  {
   "cell_type": "code",
   "execution_count": 126,
   "metadata": {},
   "outputs": [
    {
     "data": {
      "text/plain": [
       "genre\n",
       "Action         6.78\n",
       "Adventure      7.40\n",
       "Fighting       6.87\n",
       "Misc           6.84\n",
       "Platform       6.97\n",
       "Puzzle         7.16\n",
       "Racing         6.27\n",
       "Role-Playing   7.26\n",
       "Shooter        6.42\n",
       "Simulation     6.22\n",
       "Sports         5.65\n",
       "Strategy       6.42\n",
       "Name: user_score, dtype: float64"
      ]
     },
     "execution_count": 126,
     "metadata": {},
     "output_type": "execute_result"
    }
   ],
   "source": [
    "df.groupby('genre')['user_score'].mean()"
   ]
  },
  {
   "cell_type": "code",
   "execution_count": 127,
   "metadata": {},
   "outputs": [],
   "source": [
    "action = df[(df['genre'] == 'Action') & (df['user_score'] > 0)]['user_score']\n",
    "sports = df[(df['genre'] == 'Sports') & (df['user_score'] > 0)]['user_score']"
   ]
  },
  {
   "cell_type": "code",
   "execution_count": 128,
   "metadata": {},
   "outputs": [],
   "source": [
    "results = st.ttest_ind(action, sports)"
   ]
  },
  {
   "cell_type": "code",
   "execution_count": 129,
   "metadata": {},
   "outputs": [
    {
     "name": "stdout",
     "output_type": "stream",
     "text": [
      "p-значение: 5.1974550252152054e-24\n",
      "Отвергаем нулевую гипотезу\n"
     ]
    }
   ],
   "source": [
    "print('p-значение:', results.pvalue)\n",
    "\n",
    "if (results.pvalue < alpha):\n",
    "    print(\"Отвергаем нулевую гипотезу\")\n",
    "else:\n",
    "    print(\"Не получилось отвергнуть нулевую гипотезу\")"
   ]
  },
  {
   "cell_type": "markdown",
   "metadata": {},
   "source": [
    "**Вывод:** Средний пользовательский рейтинг жанров Action и Sports различается."
   ]
  },
  {
   "cell_type": "markdown",
   "metadata": {},
   "source": [
    "## Общий вывод"
   ]
  },
  {
   "cell_type": "markdown",
   "metadata": {},
   "source": [
    "1. Приоритетными платформами на 2017 год являются PS4 и XOne - эти платформы находятся в середине жизненного цикла, продажи на них будут расти. Продажи на прочих платформах снижаются на протяжении последних лет.\n",
    "2. При разработке рекламных кампаний следует учитывать региональные особенности спроса и портрет пользователя:\n",
    "- Америка: предпочитает местные приставки X360, игры жанров Action, Shuter, Sports, возрастной рейтинг - для взрослых;\n",
    "- Европа: предпочитает приставки PS3, игры жанров Action, Shuter, Sports, возрастной рейтинг - для взрослых;\n",
    "- Япония: предпочитает приставки Nintendo, игры жанров Role-Playing, Action, Fighting, возрастной рейтинг - для всех.\n",
    "3. Продажи игр находятся в слабо выраженной прямой зависимости от оценок критиков - стоит уделить внимание играм с высоким рейтингом критиков. Оценки пользователей практически не влияют на продажи.\n",
    "\n",
    "**Рекомендации по сбору и хранению данных:**\n",
    "- проверить сбор данных по оценкам от критиков и пользователей. Если для каких-то игр оценки отстствуют, стоит явным образом отобразить это в данных;\n",
    "- 40% игр не имеют указания на возрастной рейтинг (значительная часть это игры на Японских платформах) - возможно, это связано с тем, что игры получают возрастную маркировку по разным региональным рейтингам. Обратить внимание на этот вопрос."
   ]
  }
 ],
 "metadata": {
  "ExecuteTimeLog": [
   {
    "duration": 57,
    "start_time": "2022-04-29T11:07:33.012Z"
   },
   {
    "duration": 1401,
    "start_time": "2022-04-29T11:07:35.082Z"
   },
   {
    "duration": 3,
    "start_time": "2022-04-29T11:07:37.883Z"
   },
   {
    "duration": 3,
    "start_time": "2022-04-29T11:08:49.444Z"
   },
   {
    "duration": 57,
    "start_time": "2022-04-29T11:09:30.758Z"
   },
   {
    "duration": 19,
    "start_time": "2022-04-29T11:10:27.076Z"
   },
   {
    "duration": 23,
    "start_time": "2022-04-29T11:10:44.364Z"
   },
   {
    "duration": 32,
    "start_time": "2022-04-29T11:28:25.820Z"
   },
   {
    "duration": 14,
    "start_time": "2022-04-29T11:28:33.915Z"
   },
   {
    "duration": 454,
    "start_time": "2022-04-29T11:39:22.224Z"
   },
   {
    "duration": 2,
    "start_time": "2022-04-29T11:43:06.015Z"
   },
   {
    "duration": 3,
    "start_time": "2022-04-29T11:43:22.515Z"
   },
   {
    "duration": 15,
    "start_time": "2022-04-29T11:43:58.955Z"
   },
   {
    "duration": 15,
    "start_time": "2022-04-29T11:44:14.849Z"
   },
   {
    "duration": 6,
    "start_time": "2022-04-29T11:45:07.450Z"
   },
   {
    "duration": 9,
    "start_time": "2022-04-29T11:59:58.227Z"
   },
   {
    "duration": 20,
    "start_time": "2022-04-29T12:00:23.506Z"
   },
   {
    "duration": 18,
    "start_time": "2022-04-29T12:00:48.812Z"
   },
   {
    "duration": 14,
    "start_time": "2022-04-29T12:02:25.698Z"
   },
   {
    "duration": 14,
    "start_time": "2022-04-29T12:02:39.763Z"
   },
   {
    "duration": 14,
    "start_time": "2022-04-29T12:04:26.903Z"
   },
   {
    "duration": 144,
    "start_time": "2022-04-29T12:05:25.933Z"
   },
   {
    "duration": 8,
    "start_time": "2022-04-29T12:08:24.503Z"
   },
   {
    "duration": 7,
    "start_time": "2022-04-29T12:09:04.920Z"
   },
   {
    "duration": 21,
    "start_time": "2022-04-29T12:09:09.615Z"
   },
   {
    "duration": 38,
    "start_time": "2022-04-29T12:12:03.207Z"
   },
   {
    "duration": 15,
    "start_time": "2022-04-29T12:12:11.385Z"
   },
   {
    "duration": 13,
    "start_time": "2022-04-29T12:12:17.249Z"
   },
   {
    "duration": 5,
    "start_time": "2022-04-29T12:12:23.408Z"
   },
   {
    "duration": 5,
    "start_time": "2022-04-29T12:12:27.090Z"
   },
   {
    "duration": 7,
    "start_time": "2022-04-29T12:12:35.608Z"
   },
   {
    "duration": 5,
    "start_time": "2022-04-29T12:26:59.160Z"
   },
   {
    "duration": 7,
    "start_time": "2022-04-29T12:27:47.209Z"
   },
   {
    "duration": 18,
    "start_time": "2022-04-29T12:27:55.841Z"
   },
   {
    "duration": 16,
    "start_time": "2022-04-29T12:28:58.609Z"
   },
   {
    "duration": 87,
    "start_time": "2022-04-29T16:14:40.202Z"
   },
   {
    "duration": 83,
    "start_time": "2022-04-29T16:14:45.256Z"
   },
   {
    "duration": 6,
    "start_time": "2022-04-29T16:14:52.278Z"
   },
   {
    "duration": 13,
    "start_time": "2022-04-29T16:15:38.791Z"
   },
   {
    "duration": 12,
    "start_time": "2022-04-29T16:16:33.328Z"
   },
   {
    "duration": 47,
    "start_time": "2022-04-30T13:16:21.238Z"
   },
   {
    "duration": 1278,
    "start_time": "2022-04-30T13:16:27.257Z"
   },
   {
    "duration": 3,
    "start_time": "2022-04-30T13:16:28.537Z"
   },
   {
    "duration": 64,
    "start_time": "2022-04-30T13:16:28.541Z"
   },
   {
    "duration": 14,
    "start_time": "2022-04-30T13:16:28.608Z"
   },
   {
    "duration": 15,
    "start_time": "2022-04-30T13:16:28.624Z"
   },
   {
    "duration": 61,
    "start_time": "2022-04-30T13:16:28.640Z"
   },
   {
    "duration": 12,
    "start_time": "2022-04-30T13:16:30.685Z"
   },
   {
    "duration": 10,
    "start_time": "2022-04-30T13:17:00.174Z"
   },
   {
    "duration": 5,
    "start_time": "2022-04-30T13:19:50.752Z"
   },
   {
    "duration": 10,
    "start_time": "2022-04-30T13:19:53.382Z"
   },
   {
    "duration": 10,
    "start_time": "2022-04-30T13:23:20.111Z"
   },
   {
    "duration": 378,
    "start_time": "2022-04-30T13:27:20.690Z"
   },
   {
    "duration": 14,
    "start_time": "2022-04-30T13:27:35.900Z"
   },
   {
    "duration": 73,
    "start_time": "2022-04-30T13:27:55.358Z"
   },
   {
    "duration": 90,
    "start_time": "2022-04-30T13:28:01.755Z"
   },
   {
    "duration": 21,
    "start_time": "2022-04-30T13:28:12.424Z"
   },
   {
    "duration": 13,
    "start_time": "2022-04-30T13:31:21.566Z"
   },
   {
    "duration": 8,
    "start_time": "2022-04-30T13:31:45.706Z"
   },
   {
    "duration": 14,
    "start_time": "2022-04-30T13:31:54.429Z"
   },
   {
    "duration": 15,
    "start_time": "2022-04-30T13:32:44.547Z"
   },
   {
    "duration": 13,
    "start_time": "2022-04-30T13:32:58.949Z"
   },
   {
    "duration": 20,
    "start_time": "2022-04-30T13:52:05.573Z"
   },
   {
    "duration": 26,
    "start_time": "2022-04-30T13:52:53.631Z"
   },
   {
    "duration": 14,
    "start_time": "2022-04-30T13:53:29.215Z"
   },
   {
    "duration": 16,
    "start_time": "2022-04-30T13:56:06.824Z"
   },
   {
    "duration": 25,
    "start_time": "2022-04-30T13:56:32.588Z"
   },
   {
    "duration": 14,
    "start_time": "2022-04-30T13:58:03.881Z"
   },
   {
    "duration": 22,
    "start_time": "2022-04-30T13:58:16.104Z"
   },
   {
    "duration": 24,
    "start_time": "2022-04-30T13:58:20.790Z"
   },
   {
    "duration": 51,
    "start_time": "2022-05-01T08:36:57.342Z"
   },
   {
    "duration": 1492,
    "start_time": "2022-05-01T08:37:02.623Z"
   },
   {
    "duration": 4,
    "start_time": "2022-05-01T08:37:04.123Z"
   },
   {
    "duration": 67,
    "start_time": "2022-05-01T08:37:04.129Z"
   },
   {
    "duration": 27,
    "start_time": "2022-05-01T08:37:04.199Z"
   },
   {
    "duration": 39,
    "start_time": "2022-05-01T08:37:04.231Z"
   },
   {
    "duration": 7,
    "start_time": "2022-05-01T08:37:04.273Z"
   },
   {
    "duration": 16,
    "start_time": "2022-05-01T08:37:04.282Z"
   },
   {
    "duration": 102,
    "start_time": "2022-05-01T08:37:04.299Z"
   },
   {
    "duration": 0,
    "start_time": "2022-05-01T08:37:04.403Z"
   },
   {
    "duration": 0,
    "start_time": "2022-05-01T08:37:04.404Z"
   },
   {
    "duration": 0,
    "start_time": "2022-05-01T08:37:04.406Z"
   },
   {
    "duration": 19,
    "start_time": "2022-05-01T08:37:06.533Z"
   },
   {
    "duration": 17,
    "start_time": "2022-05-01T08:37:26.132Z"
   },
   {
    "duration": 27,
    "start_time": "2022-05-01T08:37:58.218Z"
   },
   {
    "duration": 5,
    "start_time": "2022-05-01T08:38:05.510Z"
   },
   {
    "duration": 8,
    "start_time": "2022-05-01T08:38:05.517Z"
   },
   {
    "duration": 64,
    "start_time": "2022-05-01T08:38:05.527Z"
   },
   {
    "duration": 18,
    "start_time": "2022-05-01T08:38:05.593Z"
   },
   {
    "duration": 23,
    "start_time": "2022-05-01T08:38:05.614Z"
   },
   {
    "duration": 12,
    "start_time": "2022-05-01T08:38:05.638Z"
   },
   {
    "duration": 13,
    "start_time": "2022-05-01T08:38:05.651Z"
   },
   {
    "duration": 19,
    "start_time": "2022-05-01T08:38:05.666Z"
   },
   {
    "duration": 44,
    "start_time": "2022-05-01T08:38:05.687Z"
   },
   {
    "duration": 32,
    "start_time": "2022-05-01T08:38:05.734Z"
   },
   {
    "duration": 28,
    "start_time": "2022-05-01T08:38:05.769Z"
   },
   {
    "duration": 13,
    "start_time": "2022-05-01T08:38:09.861Z"
   },
   {
    "duration": 10,
    "start_time": "2022-05-01T09:06:34.185Z"
   },
   {
    "duration": 12,
    "start_time": "2022-05-01T09:06:39.248Z"
   },
   {
    "duration": 13,
    "start_time": "2022-05-01T09:06:47.475Z"
   },
   {
    "duration": 30,
    "start_time": "2022-05-01T09:06:59.633Z"
   },
   {
    "duration": 3,
    "start_time": "2022-05-01T09:07:19.933Z"
   },
   {
    "duration": 4,
    "start_time": "2022-05-01T09:07:19.939Z"
   },
   {
    "duration": 46,
    "start_time": "2022-05-01T09:07:19.945Z"
   },
   {
    "duration": 17,
    "start_time": "2022-05-01T09:07:19.993Z"
   },
   {
    "duration": 27,
    "start_time": "2022-05-01T09:07:20.012Z"
   },
   {
    "duration": 9,
    "start_time": "2022-05-01T09:07:20.041Z"
   },
   {
    "duration": 10,
    "start_time": "2022-05-01T09:07:20.052Z"
   },
   {
    "duration": 23,
    "start_time": "2022-05-01T09:07:25.081Z"
   },
   {
    "duration": 16,
    "start_time": "2022-05-01T09:07:27.945Z"
   },
   {
    "duration": 189,
    "start_time": "2022-05-01T09:11:30.532Z"
   },
   {
    "duration": 163,
    "start_time": "2022-05-01T09:11:36.373Z"
   },
   {
    "duration": 18,
    "start_time": "2022-05-01T09:12:16.247Z"
   },
   {
    "duration": 12,
    "start_time": "2022-05-01T09:12:37.754Z"
   },
   {
    "duration": 20,
    "start_time": "2022-05-01T09:12:46.230Z"
   },
   {
    "duration": 18,
    "start_time": "2022-05-01T09:13:17.142Z"
   },
   {
    "duration": 18,
    "start_time": "2022-05-01T09:14:03.316Z"
   },
   {
    "duration": 26,
    "start_time": "2022-05-01T09:14:48.279Z"
   },
   {
    "duration": 13,
    "start_time": "2022-05-01T09:15:13.938Z"
   },
   {
    "duration": 19,
    "start_time": "2022-05-01T09:15:30.925Z"
   },
   {
    "duration": 15,
    "start_time": "2022-05-01T09:15:48.895Z"
   },
   {
    "duration": 26,
    "start_time": "2022-05-01T09:36:25.656Z"
   },
   {
    "duration": 3,
    "start_time": "2022-05-01T09:48:52.809Z"
   },
   {
    "duration": 26,
    "start_time": "2022-05-01T09:49:08.780Z"
   },
   {
    "duration": 3,
    "start_time": "2022-05-01T09:49:22.444Z"
   },
   {
    "duration": 30,
    "start_time": "2022-05-01T09:49:27.021Z"
   },
   {
    "duration": 3,
    "start_time": "2022-05-01T09:49:35.213Z"
   },
   {
    "duration": 26,
    "start_time": "2022-05-01T09:49:37.246Z"
   },
   {
    "duration": 4,
    "start_time": "2022-05-01T09:49:51.604Z"
   },
   {
    "duration": 28,
    "start_time": "2022-05-01T09:49:55.603Z"
   },
   {
    "duration": 3,
    "start_time": "2022-05-01T09:49:59.165Z"
   },
   {
    "duration": 27,
    "start_time": "2022-05-01T09:50:00.954Z"
   },
   {
    "duration": 2,
    "start_time": "2022-05-01T09:50:06.492Z"
   },
   {
    "duration": 27,
    "start_time": "2022-05-01T09:50:08.589Z"
   },
   {
    "duration": 4,
    "start_time": "2022-05-01T09:50:31.950Z"
   },
   {
    "duration": 26,
    "start_time": "2022-05-01T09:50:36.917Z"
   },
   {
    "duration": 3,
    "start_time": "2022-05-01T09:50:43.030Z"
   },
   {
    "duration": 21,
    "start_time": "2022-05-01T09:50:43.036Z"
   },
   {
    "duration": 60,
    "start_time": "2022-05-01T09:50:43.059Z"
   },
   {
    "duration": 21,
    "start_time": "2022-05-01T09:50:43.121Z"
   },
   {
    "duration": 26,
    "start_time": "2022-05-01T09:50:43.144Z"
   },
   {
    "duration": 34,
    "start_time": "2022-05-01T09:50:43.171Z"
   },
   {
    "duration": 33,
    "start_time": "2022-05-01T09:50:43.207Z"
   },
   {
    "duration": 41,
    "start_time": "2022-05-01T09:50:43.242Z"
   },
   {
    "duration": 24,
    "start_time": "2022-05-01T09:50:43.285Z"
   },
   {
    "duration": 41,
    "start_time": "2022-05-01T09:50:43.311Z"
   },
   {
    "duration": 29,
    "start_time": "2022-05-01T09:50:43.354Z"
   },
   {
    "duration": 16,
    "start_time": "2022-05-01T09:50:43.385Z"
   },
   {
    "duration": 55,
    "start_time": "2022-05-01T09:50:43.403Z"
   },
   {
    "duration": 4,
    "start_time": "2022-05-01T09:50:45.653Z"
   },
   {
    "duration": 23,
    "start_time": "2022-05-01T09:50:47.485Z"
   },
   {
    "duration": 0,
    "start_time": "2022-05-01T11:30:12.725Z"
   },
   {
    "duration": 9,
    "start_time": "2022-05-01T11:30:19.142Z"
   },
   {
    "duration": 5,
    "start_time": "2022-05-01T11:30:19.153Z"
   },
   {
    "duration": 55,
    "start_time": "2022-05-01T11:30:19.160Z"
   },
   {
    "duration": 22,
    "start_time": "2022-05-01T11:30:19.217Z"
   },
   {
    "duration": 21,
    "start_time": "2022-05-01T11:30:19.246Z"
   },
   {
    "duration": 4,
    "start_time": "2022-05-01T11:30:19.272Z"
   },
   {
    "duration": 9,
    "start_time": "2022-05-01T11:30:19.278Z"
   },
   {
    "duration": 51,
    "start_time": "2022-05-01T11:30:19.289Z"
   },
   {
    "duration": 16,
    "start_time": "2022-05-01T11:30:19.342Z"
   },
   {
    "duration": 17,
    "start_time": "2022-05-01T11:30:19.361Z"
   },
   {
    "duration": 19,
    "start_time": "2022-05-01T11:30:19.380Z"
   },
   {
    "duration": 48,
    "start_time": "2022-05-01T11:30:19.401Z"
   },
   {
    "duration": 3,
    "start_time": "2022-05-01T11:33:10.578Z"
   },
   {
    "duration": 16,
    "start_time": "2022-05-01T11:33:16.162Z"
   },
   {
    "duration": 4,
    "start_time": "2022-05-01T11:33:35.744Z"
   },
   {
    "duration": 4,
    "start_time": "2022-05-01T11:33:35.751Z"
   },
   {
    "duration": 77,
    "start_time": "2022-05-01T11:33:35.757Z"
   },
   {
    "duration": 21,
    "start_time": "2022-05-01T11:33:35.836Z"
   },
   {
    "duration": 17,
    "start_time": "2022-05-01T11:33:35.860Z"
   },
   {
    "duration": 10,
    "start_time": "2022-05-01T11:33:35.879Z"
   },
   {
    "duration": 14,
    "start_time": "2022-05-01T11:33:35.891Z"
   },
   {
    "duration": 23,
    "start_time": "2022-05-01T11:33:35.907Z"
   },
   {
    "duration": 28,
    "start_time": "2022-05-01T11:33:35.933Z"
   },
   {
    "duration": 8,
    "start_time": "2022-05-01T11:33:35.964Z"
   },
   {
    "duration": 13,
    "start_time": "2022-05-01T11:33:35.974Z"
   },
   {
    "duration": 18,
    "start_time": "2022-05-01T11:33:35.989Z"
   },
   {
    "duration": 16,
    "start_time": "2022-05-01T11:33:36.032Z"
   },
   {
    "duration": 11,
    "start_time": "2022-05-01T11:34:10.383Z"
   },
   {
    "duration": 12,
    "start_time": "2022-05-01T11:34:23.642Z"
   },
   {
    "duration": 22,
    "start_time": "2022-05-01T11:45:12.327Z"
   },
   {
    "duration": 39,
    "start_time": "2022-05-01T11:47:33.433Z"
   },
   {
    "duration": 33,
    "start_time": "2022-05-01T11:48:25.976Z"
   },
   {
    "duration": 6,
    "start_time": "2022-05-01T11:49:26.304Z"
   },
   {
    "duration": 30,
    "start_time": "2022-05-01T11:50:46.827Z"
   },
   {
    "duration": 3,
    "start_time": "2022-05-01T11:51:13.575Z"
   },
   {
    "duration": 5,
    "start_time": "2022-05-01T11:51:13.580Z"
   },
   {
    "duration": 56,
    "start_time": "2022-05-01T11:51:13.587Z"
   },
   {
    "duration": 30,
    "start_time": "2022-05-01T11:51:13.645Z"
   },
   {
    "duration": 12,
    "start_time": "2022-05-01T11:51:13.678Z"
   },
   {
    "duration": 6,
    "start_time": "2022-05-01T11:51:13.692Z"
   },
   {
    "duration": 15,
    "start_time": "2022-05-01T11:51:13.699Z"
   },
   {
    "duration": 17,
    "start_time": "2022-05-01T11:51:13.715Z"
   },
   {
    "duration": 32,
    "start_time": "2022-05-01T11:51:13.734Z"
   },
   {
    "duration": 11,
    "start_time": "2022-05-01T11:51:13.768Z"
   },
   {
    "duration": 17,
    "start_time": "2022-05-01T11:51:13.780Z"
   },
   {
    "duration": 44,
    "start_time": "2022-05-01T11:51:13.798Z"
   },
   {
    "duration": 22,
    "start_time": "2022-05-01T11:51:13.844Z"
   },
   {
    "duration": 21,
    "start_time": "2022-05-01T11:51:13.871Z"
   },
   {
    "duration": 5,
    "start_time": "2022-05-01T11:51:13.894Z"
   },
   {
    "duration": 37,
    "start_time": "2022-05-01T11:51:16.637Z"
   },
   {
    "duration": 25,
    "start_time": "2022-05-01T12:44:28.734Z"
   },
   {
    "duration": 17,
    "start_time": "2022-05-01T12:44:44.441Z"
   },
   {
    "duration": 16,
    "start_time": "2022-05-01T12:44:58.361Z"
   },
   {
    "duration": 15,
    "start_time": "2022-05-01T12:45:03.601Z"
   },
   {
    "duration": 17,
    "start_time": "2022-05-01T12:45:18.938Z"
   },
   {
    "duration": 22,
    "start_time": "2022-05-01T12:45:30.331Z"
   },
   {
    "duration": 17,
    "start_time": "2022-05-01T12:45:58.827Z"
   },
   {
    "duration": 3,
    "start_time": "2022-05-01T12:47:13.108Z"
   },
   {
    "duration": 7,
    "start_time": "2022-05-01T12:47:13.113Z"
   },
   {
    "duration": 54,
    "start_time": "2022-05-01T12:47:13.122Z"
   },
   {
    "duration": 13,
    "start_time": "2022-05-01T12:47:13.178Z"
   },
   {
    "duration": 21,
    "start_time": "2022-05-01T12:47:13.193Z"
   },
   {
    "duration": 20,
    "start_time": "2022-05-01T12:47:13.224Z"
   },
   {
    "duration": 13,
    "start_time": "2022-05-01T12:47:13.254Z"
   },
   {
    "duration": 17,
    "start_time": "2022-05-01T12:47:13.269Z"
   },
   {
    "duration": 7,
    "start_time": "2022-05-01T12:47:13.288Z"
   },
   {
    "duration": 32,
    "start_time": "2022-05-01T12:47:13.298Z"
   },
   {
    "duration": 14,
    "start_time": "2022-05-01T12:47:13.332Z"
   },
   {
    "duration": 23,
    "start_time": "2022-05-01T12:47:13.354Z"
   },
   {
    "duration": 12,
    "start_time": "2022-05-01T12:47:13.379Z"
   },
   {
    "duration": 40,
    "start_time": "2022-05-01T12:47:13.393Z"
   },
   {
    "duration": 23,
    "start_time": "2022-05-01T12:47:13.435Z"
   },
   {
    "duration": 12,
    "start_time": "2022-05-01T12:47:13.460Z"
   },
   {
    "duration": 22,
    "start_time": "2022-05-01T12:47:13.474Z"
   },
   {
    "duration": 34,
    "start_time": "2022-05-01T12:47:13.498Z"
   },
   {
    "duration": 15,
    "start_time": "2022-05-01T12:47:13.533Z"
   },
   {
    "duration": 26,
    "start_time": "2022-05-01T12:47:13.550Z"
   },
   {
    "duration": 5,
    "start_time": "2022-05-01T12:47:13.578Z"
   },
   {
    "duration": 44,
    "start_time": "2022-05-01T12:47:13.584Z"
   },
   {
    "duration": 20,
    "start_time": "2022-05-01T12:51:12.559Z"
   },
   {
    "duration": 14,
    "start_time": "2022-05-01T12:51:24.974Z"
   },
   {
    "duration": 20,
    "start_time": "2022-05-01T12:51:45.935Z"
   },
   {
    "duration": 3,
    "start_time": "2022-05-01T12:51:52.109Z"
   },
   {
    "duration": 4,
    "start_time": "2022-05-01T12:51:52.115Z"
   },
   {
    "duration": 56,
    "start_time": "2022-05-01T12:51:52.121Z"
   },
   {
    "duration": 13,
    "start_time": "2022-05-01T12:51:52.179Z"
   },
   {
    "duration": 16,
    "start_time": "2022-05-01T12:51:52.195Z"
   },
   {
    "duration": 34,
    "start_time": "2022-05-01T12:51:52.213Z"
   },
   {
    "duration": 16,
    "start_time": "2022-05-01T12:51:52.248Z"
   },
   {
    "duration": 15,
    "start_time": "2022-05-01T12:51:52.266Z"
   },
   {
    "duration": 5,
    "start_time": "2022-05-01T12:51:52.284Z"
   },
   {
    "duration": 9,
    "start_time": "2022-05-01T12:51:52.291Z"
   },
   {
    "duration": 34,
    "start_time": "2022-05-01T12:51:52.302Z"
   },
   {
    "duration": 28,
    "start_time": "2022-05-01T12:51:52.344Z"
   },
   {
    "duration": 15,
    "start_time": "2022-05-01T12:51:52.375Z"
   },
   {
    "duration": 18,
    "start_time": "2022-05-01T12:51:52.392Z"
   },
   {
    "duration": 24,
    "start_time": "2022-05-01T12:51:52.425Z"
   },
   {
    "duration": 26,
    "start_time": "2022-05-01T12:51:52.451Z"
   },
   {
    "duration": 12,
    "start_time": "2022-05-01T12:51:52.479Z"
   },
   {
    "duration": 57,
    "start_time": "2022-05-01T12:51:52.493Z"
   },
   {
    "duration": 19,
    "start_time": "2022-05-01T12:51:56.294Z"
   },
   {
    "duration": 12,
    "start_time": "2022-05-01T12:52:12.470Z"
   },
   {
    "duration": 13,
    "start_time": "2022-05-01T12:52:18.879Z"
   },
   {
    "duration": 5,
    "start_time": "2022-05-01T12:52:37.949Z"
   },
   {
    "duration": 27,
    "start_time": "2022-05-01T12:52:42.246Z"
   },
   {
    "duration": 19,
    "start_time": "2022-05-01T12:52:44.224Z"
   },
   {
    "duration": 13,
    "start_time": "2022-05-01T12:52:46.686Z"
   },
   {
    "duration": 15,
    "start_time": "2022-05-01T12:52:46.863Z"
   },
   {
    "duration": 27,
    "start_time": "2022-05-01T12:52:47.014Z"
   },
   {
    "duration": 12,
    "start_time": "2022-05-01T12:52:47.159Z"
   },
   {
    "duration": 18,
    "start_time": "2022-05-01T12:52:47.534Z"
   },
   {
    "duration": 27,
    "start_time": "2022-05-01T12:52:48.068Z"
   },
   {
    "duration": 5,
    "start_time": "2022-05-01T12:52:48.106Z"
   },
   {
    "duration": 23,
    "start_time": "2022-05-01T12:52:48.130Z"
   },
   {
    "duration": 14,
    "start_time": "2022-05-01T12:52:48.160Z"
   },
   {
    "duration": 6,
    "start_time": "2022-05-01T12:52:56.741Z"
   },
   {
    "duration": 8,
    "start_time": "2022-05-01T12:52:56.750Z"
   },
   {
    "duration": 49,
    "start_time": "2022-05-01T12:52:56.760Z"
   },
   {
    "duration": 15,
    "start_time": "2022-05-01T12:52:56.811Z"
   },
   {
    "duration": 37,
    "start_time": "2022-05-01T12:52:56.831Z"
   },
   {
    "duration": 13,
    "start_time": "2022-05-01T12:52:56.869Z"
   },
   {
    "duration": 27,
    "start_time": "2022-05-01T12:52:56.884Z"
   },
   {
    "duration": 30,
    "start_time": "2022-05-01T12:52:56.913Z"
   },
   {
    "duration": 5,
    "start_time": "2022-05-01T12:52:56.945Z"
   },
   {
    "duration": 14,
    "start_time": "2022-05-01T12:52:56.952Z"
   },
   {
    "duration": 24,
    "start_time": "2022-05-01T12:52:56.968Z"
   },
   {
    "duration": 22,
    "start_time": "2022-05-01T12:52:56.994Z"
   },
   {
    "duration": 25,
    "start_time": "2022-05-01T12:52:57.018Z"
   },
   {
    "duration": 17,
    "start_time": "2022-05-01T12:52:57.046Z"
   },
   {
    "duration": 21,
    "start_time": "2022-05-01T12:52:57.065Z"
   },
   {
    "duration": 3,
    "start_time": "2022-05-01T12:52:57.088Z"
   },
   {
    "duration": 40,
    "start_time": "2022-05-01T12:52:57.093Z"
   },
   {
    "duration": 23,
    "start_time": "2022-05-01T12:52:57.135Z"
   },
   {
    "duration": 16,
    "start_time": "2022-05-01T12:52:57.162Z"
   },
   {
    "duration": 16,
    "start_time": "2022-05-01T12:52:57.180Z"
   },
   {
    "duration": 2,
    "start_time": "2022-05-01T12:53:08.573Z"
   },
   {
    "duration": 23,
    "start_time": "2022-05-01T12:53:19.312Z"
   },
   {
    "duration": 7,
    "start_time": "2022-05-01T13:01:09.428Z"
   },
   {
    "duration": 18,
    "start_time": "2022-05-01T13:07:04.882Z"
   },
   {
    "duration": 2594,
    "start_time": "2022-05-01T13:09:58.260Z"
   },
   {
    "duration": 14,
    "start_time": "2022-05-01T13:10:37.760Z"
   },
   {
    "duration": 16,
    "start_time": "2022-05-01T13:11:20.511Z"
   },
   {
    "duration": 1231,
    "start_time": "2022-05-02T09:43:45.298Z"
   },
   {
    "duration": 3,
    "start_time": "2022-05-02T09:43:46.531Z"
   },
   {
    "duration": 53,
    "start_time": "2022-05-02T09:43:46.535Z"
   },
   {
    "duration": 14,
    "start_time": "2022-05-02T09:43:46.590Z"
   },
   {
    "duration": 13,
    "start_time": "2022-05-02T09:43:46.605Z"
   },
   {
    "duration": 5,
    "start_time": "2022-05-02T09:43:46.620Z"
   },
   {
    "duration": 5,
    "start_time": "2022-05-02T09:43:46.627Z"
   },
   {
    "duration": 8,
    "start_time": "2022-05-02T09:43:46.633Z"
   },
   {
    "duration": 18,
    "start_time": "2022-05-02T09:43:46.642Z"
   },
   {
    "duration": 8,
    "start_time": "2022-05-02T09:43:46.662Z"
   },
   {
    "duration": 37,
    "start_time": "2022-05-02T09:43:46.672Z"
   },
   {
    "duration": 18,
    "start_time": "2022-05-02T09:43:46.710Z"
   },
   {
    "duration": 8,
    "start_time": "2022-05-02T09:43:46.729Z"
   },
   {
    "duration": 28,
    "start_time": "2022-05-02T09:43:46.738Z"
   },
   {
    "duration": 12,
    "start_time": "2022-05-02T09:43:46.767Z"
   },
   {
    "duration": 13,
    "start_time": "2022-05-02T09:43:51.699Z"
   },
   {
    "duration": 0,
    "start_time": "2022-05-02T10:35:22.384Z"
   },
   {
    "duration": 0,
    "start_time": "2022-05-02T10:35:22.385Z"
   },
   {
    "duration": 0,
    "start_time": "2022-05-02T10:35:22.386Z"
   },
   {
    "duration": 0,
    "start_time": "2022-05-02T10:35:22.387Z"
   },
   {
    "duration": 0,
    "start_time": "2022-05-02T10:35:22.389Z"
   },
   {
    "duration": 0,
    "start_time": "2022-05-02T10:35:22.390Z"
   },
   {
    "duration": 0,
    "start_time": "2022-05-02T10:35:22.391Z"
   },
   {
    "duration": 0,
    "start_time": "2022-05-02T10:35:22.392Z"
   },
   {
    "duration": 0,
    "start_time": "2022-05-02T10:35:22.393Z"
   },
   {
    "duration": 0,
    "start_time": "2022-05-02T10:35:22.394Z"
   },
   {
    "duration": 0,
    "start_time": "2022-05-02T10:35:22.395Z"
   },
   {
    "duration": 0,
    "start_time": "2022-05-02T10:35:22.396Z"
   },
   {
    "duration": 0,
    "start_time": "2022-05-02T10:35:22.397Z"
   },
   {
    "duration": 0,
    "start_time": "2022-05-02T10:35:22.399Z"
   },
   {
    "duration": 0,
    "start_time": "2022-05-02T10:35:22.399Z"
   },
   {
    "duration": 0,
    "start_time": "2022-05-02T10:35:22.401Z"
   },
   {
    "duration": 0,
    "start_time": "2022-05-02T10:35:22.401Z"
   },
   {
    "duration": 71,
    "start_time": "2022-05-03T08:44:05.166Z"
   },
   {
    "duration": 1744,
    "start_time": "2022-05-03T08:44:11.555Z"
   },
   {
    "duration": 3,
    "start_time": "2022-05-03T08:44:13.303Z"
   },
   {
    "duration": 62,
    "start_time": "2022-05-03T08:44:13.309Z"
   },
   {
    "duration": 26,
    "start_time": "2022-05-03T08:44:13.373Z"
   },
   {
    "duration": 42,
    "start_time": "2022-05-03T08:44:13.404Z"
   },
   {
    "duration": 8,
    "start_time": "2022-05-03T08:44:13.448Z"
   },
   {
    "duration": 7,
    "start_time": "2022-05-03T08:44:13.459Z"
   },
   {
    "duration": 12,
    "start_time": "2022-05-03T08:44:13.469Z"
   },
   {
    "duration": 65,
    "start_time": "2022-05-03T08:44:13.484Z"
   },
   {
    "duration": 17,
    "start_time": "2022-05-03T08:44:13.551Z"
   },
   {
    "duration": 57,
    "start_time": "2022-05-03T08:44:13.571Z"
   },
   {
    "duration": 23,
    "start_time": "2022-05-03T08:44:13.632Z"
   },
   {
    "duration": 14,
    "start_time": "2022-05-03T08:44:13.657Z"
   },
   {
    "duration": 65,
    "start_time": "2022-05-03T08:44:13.674Z"
   },
   {
    "duration": 23,
    "start_time": "2022-05-03T08:44:13.741Z"
   },
   {
    "duration": 21,
    "start_time": "2022-05-03T08:44:13.766Z"
   },
   {
    "duration": 38,
    "start_time": "2022-05-03T08:44:13.789Z"
   },
   {
    "duration": 7,
    "start_time": "2022-05-03T08:44:13.829Z"
   },
   {
    "duration": 386,
    "start_time": "2022-05-03T08:44:13.838Z"
   },
   {
    "duration": 17,
    "start_time": "2022-05-03T08:44:16.436Z"
   },
   {
    "duration": 90,
    "start_time": "2022-05-03T08:49:41.071Z"
   },
   {
    "duration": 12,
    "start_time": "2022-05-03T08:49:46.794Z"
   },
   {
    "duration": 12,
    "start_time": "2022-05-03T08:50:36.607Z"
   },
   {
    "duration": 9,
    "start_time": "2022-05-03T08:50:56.624Z"
   },
   {
    "duration": 10,
    "start_time": "2022-05-03T08:51:03.496Z"
   },
   {
    "duration": 201,
    "start_time": "2022-05-03T09:21:11.750Z"
   },
   {
    "duration": 132,
    "start_time": "2022-05-03T09:21:32.993Z"
   },
   {
    "duration": 295,
    "start_time": "2022-05-03T09:21:46.216Z"
   },
   {
    "duration": 11,
    "start_time": "2022-05-03T09:22:11.168Z"
   },
   {
    "duration": 13,
    "start_time": "2022-05-03T09:35:37.252Z"
   },
   {
    "duration": 12,
    "start_time": "2022-05-03T09:36:06.125Z"
   },
   {
    "duration": 14,
    "start_time": "2022-05-03T09:36:27.645Z"
   },
   {
    "duration": 9,
    "start_time": "2022-05-03T09:53:14.238Z"
   },
   {
    "duration": 15,
    "start_time": "2022-05-03T09:53:30.208Z"
   },
   {
    "duration": 5,
    "start_time": "2022-05-03T09:53:41.842Z"
   },
   {
    "duration": 26,
    "start_time": "2022-05-03T09:53:41.851Z"
   },
   {
    "duration": 76,
    "start_time": "2022-05-03T09:53:41.879Z"
   },
   {
    "duration": 19,
    "start_time": "2022-05-03T09:53:41.957Z"
   },
   {
    "duration": 28,
    "start_time": "2022-05-03T09:53:41.979Z"
   },
   {
    "duration": 6,
    "start_time": "2022-05-03T09:53:42.025Z"
   },
   {
    "duration": 8,
    "start_time": "2022-05-03T09:53:42.033Z"
   },
   {
    "duration": 16,
    "start_time": "2022-05-03T09:53:42.043Z"
   },
   {
    "duration": 25,
    "start_time": "2022-05-03T09:53:42.061Z"
   },
   {
    "duration": 45,
    "start_time": "2022-05-03T09:53:42.088Z"
   },
   {
    "duration": 17,
    "start_time": "2022-05-03T09:53:42.136Z"
   },
   {
    "duration": 19,
    "start_time": "2022-05-03T09:53:42.156Z"
   },
   {
    "duration": 52,
    "start_time": "2022-05-03T09:53:42.178Z"
   },
   {
    "duration": 28,
    "start_time": "2022-05-03T09:53:42.235Z"
   },
   {
    "duration": 22,
    "start_time": "2022-05-03T09:53:42.265Z"
   },
   {
    "duration": 53,
    "start_time": "2022-05-03T09:53:42.289Z"
   },
   {
    "duration": 10,
    "start_time": "2022-05-03T09:53:42.344Z"
   },
   {
    "duration": 5,
    "start_time": "2022-05-03T09:53:42.356Z"
   },
   {
    "duration": 410,
    "start_time": "2022-05-03T09:53:42.363Z"
   },
   {
    "duration": 9,
    "start_time": "2022-05-03T09:53:42.776Z"
   },
   {
    "duration": 17,
    "start_time": "2022-05-03T09:53:45.631Z"
   },
   {
    "duration": 18,
    "start_time": "2022-05-03T09:53:52.383Z"
   },
   {
    "duration": 8,
    "start_time": "2022-05-03T09:53:58.173Z"
   },
   {
    "duration": 17,
    "start_time": "2022-05-03T09:54:01.708Z"
   },
   {
    "duration": 12,
    "start_time": "2022-05-03T09:54:12.110Z"
   },
   {
    "duration": 13,
    "start_time": "2022-05-03T09:56:43.280Z"
   },
   {
    "duration": 4,
    "start_time": "2022-05-03T09:56:56.362Z"
   },
   {
    "duration": 15,
    "start_time": "2022-05-03T09:56:56.369Z"
   },
   {
    "duration": 57,
    "start_time": "2022-05-03T09:56:56.386Z"
   },
   {
    "duration": 18,
    "start_time": "2022-05-03T09:56:56.446Z"
   },
   {
    "duration": 20,
    "start_time": "2022-05-03T09:56:56.468Z"
   },
   {
    "duration": 35,
    "start_time": "2022-05-03T09:56:56.490Z"
   },
   {
    "duration": 5,
    "start_time": "2022-05-03T09:56:56.527Z"
   },
   {
    "duration": 15,
    "start_time": "2022-05-03T09:56:56.534Z"
   },
   {
    "duration": 38,
    "start_time": "2022-05-03T09:56:56.551Z"
   },
   {
    "duration": 38,
    "start_time": "2022-05-03T09:56:56.591Z"
   },
   {
    "duration": 19,
    "start_time": "2022-05-03T09:56:56.631Z"
   },
   {
    "duration": 20,
    "start_time": "2022-05-03T09:56:56.653Z"
   },
   {
    "duration": 14,
    "start_time": "2022-05-03T09:56:56.675Z"
   },
   {
    "duration": 28,
    "start_time": "2022-05-03T09:56:56.727Z"
   },
   {
    "duration": 23,
    "start_time": "2022-05-03T09:56:56.757Z"
   },
   {
    "duration": 55,
    "start_time": "2022-05-03T09:56:56.783Z"
   },
   {
    "duration": 11,
    "start_time": "2022-05-03T09:56:56.839Z"
   },
   {
    "duration": 7,
    "start_time": "2022-05-03T09:56:56.852Z"
   },
   {
    "duration": 391,
    "start_time": "2022-05-03T09:56:56.861Z"
   },
   {
    "duration": 10,
    "start_time": "2022-05-03T09:56:57.254Z"
   },
   {
    "duration": 20,
    "start_time": "2022-05-03T09:56:57.266Z"
   },
   {
    "duration": 4,
    "start_time": "2022-05-03T09:57:00.593Z"
   },
   {
    "duration": 13,
    "start_time": "2022-05-03T09:57:02.890Z"
   },
   {
    "duration": 3339,
    "start_time": "2022-05-03T09:57:58.168Z"
   },
   {
    "duration": 16,
    "start_time": "2022-05-03T10:00:34.016Z"
   },
   {
    "duration": 733,
    "start_time": "2022-05-03T10:01:00.488Z"
   },
   {
    "duration": 29,
    "start_time": "2022-05-03T10:12:07.864Z"
   },
   {
    "duration": 217,
    "start_time": "2022-05-03T10:15:23.785Z"
   },
   {
    "duration": 424,
    "start_time": "2022-05-03T10:15:50.664Z"
   },
   {
    "duration": 4,
    "start_time": "2022-05-03T10:18:35.258Z"
   },
   {
    "duration": 362,
    "start_time": "2022-05-03T10:18:41.135Z"
   },
   {
    "duration": 4,
    "start_time": "2022-05-03T10:19:08.530Z"
   },
   {
    "duration": 9,
    "start_time": "2022-05-03T10:19:08.537Z"
   },
   {
    "duration": 54,
    "start_time": "2022-05-03T10:19:08.548Z"
   },
   {
    "duration": 20,
    "start_time": "2022-05-03T10:19:08.625Z"
   },
   {
    "duration": 23,
    "start_time": "2022-05-03T10:19:08.650Z"
   },
   {
    "duration": 7,
    "start_time": "2022-05-03T10:19:08.675Z"
   },
   {
    "duration": 5,
    "start_time": "2022-05-03T10:19:08.724Z"
   },
   {
    "duration": 15,
    "start_time": "2022-05-03T10:19:08.732Z"
   },
   {
    "duration": 26,
    "start_time": "2022-05-03T10:19:08.749Z"
   },
   {
    "duration": 13,
    "start_time": "2022-05-03T10:19:08.777Z"
   },
   {
    "duration": 19,
    "start_time": "2022-05-03T10:19:08.825Z"
   },
   {
    "duration": 21,
    "start_time": "2022-05-03T10:19:08.846Z"
   },
   {
    "duration": 15,
    "start_time": "2022-05-03T10:19:08.869Z"
   },
   {
    "duration": 29,
    "start_time": "2022-05-03T10:19:08.928Z"
   },
   {
    "duration": 25,
    "start_time": "2022-05-03T10:19:08.960Z"
   },
   {
    "duration": 55,
    "start_time": "2022-05-03T10:19:08.988Z"
   },
   {
    "duration": 12,
    "start_time": "2022-05-03T10:19:09.046Z"
   },
   {
    "duration": 4,
    "start_time": "2022-05-03T10:19:09.061Z"
   },
   {
    "duration": 402,
    "start_time": "2022-05-03T10:19:09.068Z"
   },
   {
    "duration": 9,
    "start_time": "2022-05-03T10:19:09.473Z"
   },
   {
    "duration": 14,
    "start_time": "2022-05-03T10:19:09.484Z"
   },
   {
    "duration": 23,
    "start_time": "2022-05-03T10:19:09.501Z"
   },
   {
    "duration": 3259,
    "start_time": "2022-05-03T10:19:09.527Z"
   },
   {
    "duration": 371,
    "start_time": "2022-05-03T10:19:14.608Z"
   },
   {
    "duration": 5,
    "start_time": "2022-05-03T10:20:04.314Z"
   },
   {
    "duration": 414,
    "start_time": "2022-05-03T10:20:09.844Z"
   },
   {
    "duration": 425,
    "start_time": "2022-05-03T10:27:08.422Z"
   },
   {
    "duration": 1615,
    "start_time": "2022-05-03T10:28:00.511Z"
   },
   {
    "duration": 247,
    "start_time": "2022-05-03T10:28:26.055Z"
   },
   {
    "duration": 313,
    "start_time": "2022-05-03T10:28:41.480Z"
   },
   {
    "duration": 419,
    "start_time": "2022-05-03T10:29:24.944Z"
   },
   {
    "duration": 13,
    "start_time": "2022-05-03T10:31:38.328Z"
   },
   {
    "duration": 20,
    "start_time": "2022-05-03T10:32:04.400Z"
   },
   {
    "duration": 21,
    "start_time": "2022-05-03T10:34:15.056Z"
   },
   {
    "duration": 464,
    "start_time": "2022-05-03T10:37:24.586Z"
   },
   {
    "duration": 490,
    "start_time": "2022-05-03T10:37:31.179Z"
   },
   {
    "duration": 582,
    "start_time": "2022-05-03T10:37:42.033Z"
   },
   {
    "duration": 145,
    "start_time": "2022-05-04T15:04:22.643Z"
   },
   {
    "duration": 4,
    "start_time": "2022-05-04T15:04:29.386Z"
   },
   {
    "duration": 42,
    "start_time": "2022-05-04T15:04:34.334Z"
   },
   {
    "duration": 1269,
    "start_time": "2022-05-04T15:04:40.394Z"
   },
   {
    "duration": 7,
    "start_time": "2022-05-04T15:04:41.666Z"
   },
   {
    "duration": 44,
    "start_time": "2022-05-04T15:04:41.675Z"
   },
   {
    "duration": 18,
    "start_time": "2022-05-04T15:04:41.721Z"
   },
   {
    "duration": 14,
    "start_time": "2022-05-04T15:04:41.742Z"
   },
   {
    "duration": 16,
    "start_time": "2022-05-04T15:04:41.758Z"
   },
   {
    "duration": 19,
    "start_time": "2022-05-04T15:04:41.777Z"
   },
   {
    "duration": 11,
    "start_time": "2022-05-04T15:04:41.797Z"
   },
   {
    "duration": 22,
    "start_time": "2022-05-04T15:04:41.810Z"
   },
   {
    "duration": 10,
    "start_time": "2022-05-04T15:04:41.834Z"
   },
   {
    "duration": 28,
    "start_time": "2022-05-04T15:04:41.846Z"
   },
   {
    "duration": 23,
    "start_time": "2022-05-04T15:04:41.877Z"
   },
   {
    "duration": 13,
    "start_time": "2022-05-04T15:04:41.902Z"
   },
   {
    "duration": 20,
    "start_time": "2022-05-04T15:04:41.918Z"
   },
   {
    "duration": 54,
    "start_time": "2022-05-04T15:04:41.939Z"
   },
   {
    "duration": 16,
    "start_time": "2022-05-04T15:04:41.995Z"
   },
   {
    "duration": 7,
    "start_time": "2022-05-04T15:04:42.013Z"
   },
   {
    "duration": 4,
    "start_time": "2022-05-04T15:04:42.022Z"
   },
   {
    "duration": 290,
    "start_time": "2022-05-04T15:04:42.028Z"
   },
   {
    "duration": 7,
    "start_time": "2022-05-04T15:04:42.319Z"
   },
   {
    "duration": 9,
    "start_time": "2022-05-04T15:04:42.328Z"
   },
   {
    "duration": 347,
    "start_time": "2022-05-04T15:04:42.339Z"
   },
   {
    "duration": 70,
    "start_time": "2022-05-04T15:09:06.847Z"
   },
   {
    "duration": 7,
    "start_time": "2022-05-04T15:09:22.700Z"
   },
   {
    "duration": 7,
    "start_time": "2022-05-04T15:10:02.318Z"
   },
   {
    "duration": 308,
    "start_time": "2022-05-04T15:14:23.071Z"
   },
   {
    "duration": 11,
    "start_time": "2022-05-04T15:20:07.315Z"
   },
   {
    "duration": 19,
    "start_time": "2022-05-04T15:20:10.274Z"
   },
   {
    "duration": 80,
    "start_time": "2022-05-04T15:21:05.852Z"
   },
   {
    "duration": 8,
    "start_time": "2022-05-04T15:21:13.311Z"
   },
   {
    "duration": 6,
    "start_time": "2022-05-04T15:21:39.027Z"
   },
   {
    "duration": 13,
    "start_time": "2022-05-04T15:21:41.027Z"
   },
   {
    "duration": 4,
    "start_time": "2022-05-04T15:21:52.298Z"
   },
   {
    "duration": 10,
    "start_time": "2022-05-04T15:21:52.304Z"
   },
   {
    "duration": 50,
    "start_time": "2022-05-04T15:21:52.316Z"
   },
   {
    "duration": 12,
    "start_time": "2022-05-04T15:21:52.368Z"
   },
   {
    "duration": 23,
    "start_time": "2022-05-04T15:21:52.382Z"
   },
   {
    "duration": 4,
    "start_time": "2022-05-04T15:21:52.407Z"
   },
   {
    "duration": 6,
    "start_time": "2022-05-04T15:21:52.413Z"
   },
   {
    "duration": 10,
    "start_time": "2022-05-04T15:21:52.420Z"
   },
   {
    "duration": 52,
    "start_time": "2022-05-04T15:21:52.432Z"
   },
   {
    "duration": 15,
    "start_time": "2022-05-04T15:21:52.486Z"
   },
   {
    "duration": 39,
    "start_time": "2022-05-04T15:21:52.503Z"
   },
   {
    "duration": 25,
    "start_time": "2022-05-04T15:21:52.544Z"
   },
   {
    "duration": 23,
    "start_time": "2022-05-04T15:21:52.572Z"
   },
   {
    "duration": 23,
    "start_time": "2022-05-04T15:21:52.597Z"
   },
   {
    "duration": 37,
    "start_time": "2022-05-04T15:21:52.622Z"
   },
   {
    "duration": 22,
    "start_time": "2022-05-04T15:21:52.660Z"
   },
   {
    "duration": 7,
    "start_time": "2022-05-04T15:21:52.684Z"
   },
   {
    "duration": 7,
    "start_time": "2022-05-04T15:21:52.693Z"
   },
   {
    "duration": 232,
    "start_time": "2022-05-04T15:21:52.702Z"
   },
   {
    "duration": 7,
    "start_time": "2022-05-04T15:21:52.936Z"
   },
   {
    "duration": 10,
    "start_time": "2022-05-04T15:21:52.945Z"
   },
   {
    "duration": 306,
    "start_time": "2022-05-04T15:21:52.957Z"
   },
   {
    "duration": 6,
    "start_time": "2022-05-04T15:21:58.088Z"
   },
   {
    "duration": 14,
    "start_time": "2022-05-04T15:21:59.988Z"
   },
   {
    "duration": 296,
    "start_time": "2022-05-04T15:22:13.677Z"
   },
   {
    "duration": 6,
    "start_time": "2022-05-04T15:22:32.421Z"
   },
   {
    "duration": 296,
    "start_time": "2022-05-04T15:22:45.532Z"
   },
   {
    "duration": 43,
    "start_time": "2022-05-04T17:35:58.428Z"
   },
   {
    "duration": 5,
    "start_time": "2022-05-04T17:36:04.362Z"
   },
   {
    "duration": 1491,
    "start_time": "2022-05-04T17:36:11.032Z"
   },
   {
    "duration": 2,
    "start_time": "2022-05-04T17:36:12.525Z"
   },
   {
    "duration": 42,
    "start_time": "2022-05-04T17:36:12.529Z"
   },
   {
    "duration": 39,
    "start_time": "2022-05-04T17:36:13.706Z"
   },
   {
    "duration": 20,
    "start_time": "2022-05-04T17:36:15.571Z"
   },
   {
    "duration": 72,
    "start_time": "2022-05-04T17:36:31.268Z"
   },
   {
    "duration": 3,
    "start_time": "2022-05-04T17:36:36.480Z"
   },
   {
    "duration": 3,
    "start_time": "2022-05-04T17:36:36.513Z"
   },
   {
    "duration": 41,
    "start_time": "2022-05-04T17:36:36.517Z"
   },
   {
    "duration": 10,
    "start_time": "2022-05-04T17:36:36.559Z"
   },
   {
    "duration": 13,
    "start_time": "2022-05-04T17:36:36.571Z"
   },
   {
    "duration": 4,
    "start_time": "2022-05-04T17:36:36.586Z"
   },
   {
    "duration": 3,
    "start_time": "2022-05-04T17:36:36.599Z"
   },
   {
    "duration": 8,
    "start_time": "2022-05-04T17:36:36.604Z"
   },
   {
    "duration": 15,
    "start_time": "2022-05-04T17:36:36.613Z"
   },
   {
    "duration": 10,
    "start_time": "2022-05-04T17:36:36.630Z"
   },
   {
    "duration": 16,
    "start_time": "2022-05-04T17:36:36.641Z"
   },
   {
    "duration": 43,
    "start_time": "2022-05-04T17:36:36.658Z"
   },
   {
    "duration": 9,
    "start_time": "2022-05-04T17:36:36.703Z"
   },
   {
    "duration": 17,
    "start_time": "2022-05-04T17:36:36.713Z"
   },
   {
    "duration": 13,
    "start_time": "2022-05-04T17:36:36.733Z"
   },
   {
    "duration": 12,
    "start_time": "2022-05-04T17:36:36.748Z"
   },
   {
    "duration": 42,
    "start_time": "2022-05-04T17:36:36.762Z"
   },
   {
    "duration": 2,
    "start_time": "2022-05-04T17:36:36.806Z"
   },
   {
    "duration": 208,
    "start_time": "2022-05-04T17:36:36.810Z"
   },
   {
    "duration": 8,
    "start_time": "2022-05-04T17:36:37.020Z"
   },
   {
    "duration": 9,
    "start_time": "2022-05-04T17:36:37.029Z"
   },
   {
    "duration": 281,
    "start_time": "2022-05-04T17:36:37.039Z"
   },
   {
    "duration": 5,
    "start_time": "2022-05-04T17:36:37.322Z"
   },
   {
    "duration": 13,
    "start_time": "2022-05-04T17:36:37.328Z"
   },
   {
    "duration": 16,
    "start_time": "2022-05-04T17:36:37.342Z"
   },
   {
    "duration": 244,
    "start_time": "2022-05-04T17:36:41.014Z"
   },
   {
    "duration": 256,
    "start_time": "2022-05-04T17:36:57.190Z"
   },
   {
    "duration": 251,
    "start_time": "2022-05-04T17:43:31.147Z"
   },
   {
    "duration": 7,
    "start_time": "2022-05-04T18:15:44.574Z"
   },
   {
    "duration": 236,
    "start_time": "2022-05-04T18:17:22.464Z"
   },
   {
    "duration": 16,
    "start_time": "2022-05-04T18:21:49.585Z"
   },
   {
    "duration": 17,
    "start_time": "2022-05-04T18:24:21.666Z"
   },
   {
    "duration": 13,
    "start_time": "2022-05-04T18:24:42.977Z"
   },
   {
    "duration": 15,
    "start_time": "2022-05-04T18:24:49.067Z"
   },
   {
    "duration": 16,
    "start_time": "2022-05-04T18:25:50.557Z"
   },
   {
    "duration": 15,
    "start_time": "2022-05-04T18:30:50.302Z"
   },
   {
    "duration": 17,
    "start_time": "2022-05-04T18:37:14.458Z"
   },
   {
    "duration": 18,
    "start_time": "2022-05-04T18:37:27.401Z"
   },
   {
    "duration": 16,
    "start_time": "2022-05-04T18:53:22.842Z"
   },
   {
    "duration": 18,
    "start_time": "2022-05-04T18:53:27.802Z"
   },
   {
    "duration": 14,
    "start_time": "2022-05-04T18:58:02.354Z"
   },
   {
    "duration": 9,
    "start_time": "2022-05-04T18:58:13.547Z"
   },
   {
    "duration": 59,
    "start_time": "2022-05-04T18:58:34.754Z"
   },
   {
    "duration": 3,
    "start_time": "2022-05-04T18:58:46.411Z"
   },
   {
    "duration": 64,
    "start_time": "2022-05-04T18:58:54.124Z"
   },
   {
    "duration": 13,
    "start_time": "2022-05-04T19:05:13.910Z"
   },
   {
    "duration": 3,
    "start_time": "2022-05-04T19:05:44.830Z"
   },
   {
    "duration": 36,
    "start_time": "2022-05-04T19:06:12.638Z"
   },
   {
    "duration": 3,
    "start_time": "2022-05-04T19:06:19.963Z"
   },
   {
    "duration": 5,
    "start_time": "2022-05-04T19:06:19.968Z"
   },
   {
    "duration": 42,
    "start_time": "2022-05-04T19:06:19.974Z"
   },
   {
    "duration": 12,
    "start_time": "2022-05-04T19:06:20.017Z"
   },
   {
    "duration": 18,
    "start_time": "2022-05-04T19:06:20.031Z"
   },
   {
    "duration": 9,
    "start_time": "2022-05-04T19:06:20.050Z"
   },
   {
    "duration": 6,
    "start_time": "2022-05-04T19:06:20.061Z"
   },
   {
    "duration": 9,
    "start_time": "2022-05-04T19:06:20.069Z"
   },
   {
    "duration": 16,
    "start_time": "2022-05-04T19:06:20.099Z"
   },
   {
    "duration": 7,
    "start_time": "2022-05-04T19:06:20.117Z"
   },
   {
    "duration": 12,
    "start_time": "2022-05-04T19:06:20.125Z"
   },
   {
    "duration": 11,
    "start_time": "2022-05-04T19:06:20.138Z"
   },
   {
    "duration": 8,
    "start_time": "2022-05-04T19:06:20.150Z"
   },
   {
    "duration": 50,
    "start_time": "2022-05-04T19:06:20.159Z"
   },
   {
    "duration": 15,
    "start_time": "2022-05-04T19:06:20.211Z"
   },
   {
    "duration": 14,
    "start_time": "2022-05-04T19:06:20.227Z"
   },
   {
    "duration": 7,
    "start_time": "2022-05-04T19:06:20.243Z"
   },
   {
    "duration": 4,
    "start_time": "2022-05-04T19:06:20.251Z"
   },
   {
    "duration": 272,
    "start_time": "2022-05-04T19:06:20.256Z"
   },
   {
    "duration": 7,
    "start_time": "2022-05-04T19:06:20.529Z"
   },
   {
    "duration": 10,
    "start_time": "2022-05-04T19:06:20.537Z"
   },
   {
    "duration": 12,
    "start_time": "2022-05-04T19:06:20.548Z"
   },
   {
    "duration": 3,
    "start_time": "2022-05-04T19:06:20.561Z"
   },
   {
    "duration": 219,
    "start_time": "2022-05-04T19:06:23.854Z"
   },
   {
    "duration": 18,
    "start_time": "2022-05-04T19:14:39.346Z"
   },
   {
    "duration": 21,
    "start_time": "2022-05-04T19:17:58.915Z"
   },
   {
    "duration": 223,
    "start_time": "2022-05-04T19:18:01.575Z"
   },
   {
    "duration": 3,
    "start_time": "2022-05-04T19:18:14.623Z"
   },
   {
    "duration": 13,
    "start_time": "2022-05-04T19:18:14.628Z"
   },
   {
    "duration": 60,
    "start_time": "2022-05-04T19:18:14.642Z"
   },
   {
    "duration": 10,
    "start_time": "2022-05-04T19:18:14.704Z"
   },
   {
    "duration": 19,
    "start_time": "2022-05-04T19:18:14.716Z"
   },
   {
    "duration": 6,
    "start_time": "2022-05-04T19:18:14.736Z"
   },
   {
    "duration": 13,
    "start_time": "2022-05-04T19:18:14.743Z"
   },
   {
    "duration": 26,
    "start_time": "2022-05-04T19:18:14.757Z"
   },
   {
    "duration": 24,
    "start_time": "2022-05-04T19:18:14.784Z"
   },
   {
    "duration": 8,
    "start_time": "2022-05-04T19:18:14.810Z"
   },
   {
    "duration": 28,
    "start_time": "2022-05-04T19:18:14.819Z"
   },
   {
    "duration": 12,
    "start_time": "2022-05-04T19:18:14.849Z"
   },
   {
    "duration": 20,
    "start_time": "2022-05-04T19:18:14.862Z"
   },
   {
    "duration": 24,
    "start_time": "2022-05-04T19:18:14.884Z"
   },
   {
    "duration": 12,
    "start_time": "2022-05-04T19:18:14.909Z"
   },
   {
    "duration": 12,
    "start_time": "2022-05-04T19:18:14.923Z"
   },
   {
    "duration": 14,
    "start_time": "2022-05-04T19:18:14.937Z"
   },
   {
    "duration": 16,
    "start_time": "2022-05-04T19:18:14.952Z"
   },
   {
    "duration": 194,
    "start_time": "2022-05-04T19:18:14.969Z"
   },
   {
    "duration": 7,
    "start_time": "2022-05-04T19:18:15.165Z"
   },
   {
    "duration": 9,
    "start_time": "2022-05-04T19:18:15.173Z"
   },
   {
    "duration": 264,
    "start_time": "2022-05-04T19:18:15.184Z"
   },
   {
    "duration": 6,
    "start_time": "2022-05-04T19:18:15.449Z"
   },
   {
    "duration": 272,
    "start_time": "2022-05-04T19:18:15.457Z"
   },
   {
    "duration": 7,
    "start_time": "2022-05-04T19:18:15.730Z"
   },
   {
    "duration": 17,
    "start_time": "2022-05-04T19:18:15.738Z"
   },
   {
    "duration": 43,
    "start_time": "2022-05-04T19:18:15.757Z"
   },
   {
    "duration": 12,
    "start_time": "2022-05-04T19:18:15.802Z"
   },
   {
    "duration": 3,
    "start_time": "2022-05-04T19:18:20.386Z"
   },
   {
    "duration": 36,
    "start_time": "2022-05-04T19:18:22.301Z"
   },
   {
    "duration": 191,
    "start_time": "2022-05-04T19:22:55.656Z"
   },
   {
    "duration": 29,
    "start_time": "2022-05-04T19:23:19.072Z"
   },
   {
    "duration": 23,
    "start_time": "2022-05-04T19:24:02.392Z"
   },
   {
    "duration": 1405,
    "start_time": "2022-05-05T15:17:57.100Z"
   },
   {
    "duration": 4,
    "start_time": "2022-05-05T15:17:58.507Z"
   },
   {
    "duration": 52,
    "start_time": "2022-05-05T15:17:58.512Z"
   },
   {
    "duration": 17,
    "start_time": "2022-05-05T15:17:58.566Z"
   },
   {
    "duration": 16,
    "start_time": "2022-05-05T15:17:58.586Z"
   },
   {
    "duration": 5,
    "start_time": "2022-05-05T15:17:58.604Z"
   },
   {
    "duration": 23,
    "start_time": "2022-05-05T15:17:58.611Z"
   },
   {
    "duration": 10,
    "start_time": "2022-05-05T15:17:58.636Z"
   },
   {
    "duration": 21,
    "start_time": "2022-05-05T15:17:58.648Z"
   },
   {
    "duration": 14,
    "start_time": "2022-05-05T15:17:58.671Z"
   },
   {
    "duration": 50,
    "start_time": "2022-05-05T15:17:58.687Z"
   },
   {
    "duration": 18,
    "start_time": "2022-05-05T15:17:58.739Z"
   },
   {
    "duration": 13,
    "start_time": "2022-05-05T15:17:58.759Z"
   },
   {
    "duration": 20,
    "start_time": "2022-05-05T15:17:58.776Z"
   },
   {
    "duration": 17,
    "start_time": "2022-05-05T15:17:58.834Z"
   },
   {
    "duration": 16,
    "start_time": "2022-05-05T15:17:58.853Z"
   },
   {
    "duration": 10,
    "start_time": "2022-05-05T15:17:58.871Z"
   },
   {
    "duration": 4,
    "start_time": "2022-05-05T15:17:58.882Z"
   },
   {
    "duration": 275,
    "start_time": "2022-05-05T15:17:58.888Z"
   },
   {
    "duration": 9,
    "start_time": "2022-05-05T15:17:59.165Z"
   },
   {
    "duration": 10,
    "start_time": "2022-05-05T15:17:59.175Z"
   },
   {
    "duration": 346,
    "start_time": "2022-05-05T15:17:59.187Z"
   },
   {
    "duration": 8,
    "start_time": "2022-05-05T15:17:59.536Z"
   },
   {
    "duration": 310,
    "start_time": "2022-05-05T15:17:59.546Z"
   },
   {
    "duration": 9,
    "start_time": "2022-05-05T15:17:59.858Z"
   },
   {
    "duration": 21,
    "start_time": "2022-05-05T15:17:59.869Z"
   },
   {
    "duration": 79,
    "start_time": "2022-05-05T15:18:10.222Z"
   },
   {
    "duration": 51,
    "start_time": "2022-05-05T15:18:23.444Z"
   },
   {
    "duration": 8,
    "start_time": "2022-05-05T15:19:00.023Z"
   },
   {
    "duration": 2376,
    "start_time": "2022-05-05T15:34:26.708Z"
   },
   {
    "duration": 55,
    "start_time": "2022-05-05T15:35:25.339Z"
   },
   {
    "duration": 3,
    "start_time": "2022-05-05T15:35:29.864Z"
   },
   {
    "duration": 11,
    "start_time": "2022-05-05T15:35:29.869Z"
   },
   {
    "duration": 56,
    "start_time": "2022-05-05T15:35:29.881Z"
   },
   {
    "duration": 12,
    "start_time": "2022-05-05T15:35:29.941Z"
   },
   {
    "duration": 23,
    "start_time": "2022-05-05T15:35:29.955Z"
   },
   {
    "duration": 6,
    "start_time": "2022-05-05T15:35:29.980Z"
   },
   {
    "duration": 12,
    "start_time": "2022-05-05T15:35:29.987Z"
   },
   {
    "duration": 18,
    "start_time": "2022-05-05T15:35:30.001Z"
   },
   {
    "duration": 24,
    "start_time": "2022-05-05T15:35:30.022Z"
   },
   {
    "duration": 26,
    "start_time": "2022-05-05T15:35:30.048Z"
   },
   {
    "duration": 19,
    "start_time": "2022-05-05T15:35:30.076Z"
   },
   {
    "duration": 23,
    "start_time": "2022-05-05T15:35:30.097Z"
   },
   {
    "duration": 17,
    "start_time": "2022-05-05T15:35:30.122Z"
   },
   {
    "duration": 21,
    "start_time": "2022-05-05T15:35:30.141Z"
   },
   {
    "duration": 18,
    "start_time": "2022-05-05T15:35:30.164Z"
   },
   {
    "duration": 17,
    "start_time": "2022-05-05T15:35:30.184Z"
   },
   {
    "duration": 34,
    "start_time": "2022-05-05T15:35:30.203Z"
   },
   {
    "duration": 16,
    "start_time": "2022-05-05T15:35:30.239Z"
   },
   {
    "duration": 260,
    "start_time": "2022-05-05T15:35:30.257Z"
   },
   {
    "duration": 14,
    "start_time": "2022-05-05T15:35:30.519Z"
   },
   {
    "duration": 21,
    "start_time": "2022-05-05T15:35:30.535Z"
   },
   {
    "duration": 425,
    "start_time": "2022-05-05T15:35:30.558Z"
   },
   {
    "duration": 281,
    "start_time": "2022-05-05T15:35:33.058Z"
   },
   {
    "duration": 286,
    "start_time": "2022-05-05T15:36:44.535Z"
   },
   {
    "duration": 291,
    "start_time": "2022-05-05T15:36:56.735Z"
   },
   {
    "duration": 128,
    "start_time": "2022-05-05T15:37:12.487Z"
   },
   {
    "duration": 8,
    "start_time": "2022-05-05T15:42:26.614Z"
   },
   {
    "duration": 8,
    "start_time": "2022-05-05T15:42:29.134Z"
   },
   {
    "duration": 274,
    "start_time": "2022-05-05T15:42:36.751Z"
   },
   {
    "duration": 284,
    "start_time": "2022-05-05T15:42:56.863Z"
   },
   {
    "duration": 70,
    "start_time": "2022-05-05T15:43:04.070Z"
   },
   {
    "duration": 69,
    "start_time": "2022-05-05T15:43:27.676Z"
   },
   {
    "duration": 319,
    "start_time": "2022-05-05T16:08:54.671Z"
   },
   {
    "duration": 336,
    "start_time": "2022-05-05T16:09:09.078Z"
   },
   {
    "duration": 561,
    "start_time": "2022-05-05T16:09:54.508Z"
   },
   {
    "duration": 347,
    "start_time": "2022-05-05T16:10:38.277Z"
   },
   {
    "duration": 369,
    "start_time": "2022-05-05T16:15:19.302Z"
   },
   {
    "duration": 361,
    "start_time": "2022-05-05T16:15:34.910Z"
   },
   {
    "duration": 324,
    "start_time": "2022-05-05T16:15:51.270Z"
   },
   {
    "duration": 13,
    "start_time": "2022-05-05T16:16:52.808Z"
   },
   {
    "duration": 14,
    "start_time": "2022-05-05T16:17:13.447Z"
   },
   {
    "duration": 15,
    "start_time": "2022-05-05T16:17:52.080Z"
   },
   {
    "duration": 3,
    "start_time": "2022-05-05T16:17:57.016Z"
   },
   {
    "duration": 12,
    "start_time": "2022-05-05T16:17:57.021Z"
   },
   {
    "duration": 56,
    "start_time": "2022-05-05T16:17:57.034Z"
   },
   {
    "duration": 14,
    "start_time": "2022-05-05T16:17:57.092Z"
   },
   {
    "duration": 19,
    "start_time": "2022-05-05T16:17:57.107Z"
   },
   {
    "duration": 12,
    "start_time": "2022-05-05T16:17:57.128Z"
   },
   {
    "duration": 17,
    "start_time": "2022-05-05T16:17:57.141Z"
   },
   {
    "duration": 10,
    "start_time": "2022-05-05T16:17:57.160Z"
   },
   {
    "duration": 18,
    "start_time": "2022-05-05T16:17:57.172Z"
   },
   {
    "duration": 51,
    "start_time": "2022-05-05T16:17:57.192Z"
   },
   {
    "duration": 17,
    "start_time": "2022-05-05T16:17:57.245Z"
   },
   {
    "duration": 32,
    "start_time": "2022-05-05T16:18:00.032Z"
   },
   {
    "duration": 21,
    "start_time": "2022-05-05T16:18:24.297Z"
   },
   {
    "duration": 287,
    "start_time": "2022-05-05T16:19:30.937Z"
   },
   {
    "duration": 152,
    "start_time": "2022-05-05T16:19:40.969Z"
   },
   {
    "duration": 7,
    "start_time": "2022-05-05T16:19:45.431Z"
   },
   {
    "duration": 24,
    "start_time": "2022-05-05T16:19:45.442Z"
   },
   {
    "duration": 52,
    "start_time": "2022-05-05T16:19:45.468Z"
   },
   {
    "duration": 17,
    "start_time": "2022-05-05T16:19:45.522Z"
   },
   {
    "duration": 35,
    "start_time": "2022-05-05T16:19:45.545Z"
   },
   {
    "duration": 5,
    "start_time": "2022-05-05T16:19:45.582Z"
   },
   {
    "duration": 7,
    "start_time": "2022-05-05T16:19:45.589Z"
   },
   {
    "duration": 11,
    "start_time": "2022-05-05T16:19:45.598Z"
   },
   {
    "duration": 45,
    "start_time": "2022-05-05T16:19:45.611Z"
   },
   {
    "duration": 12,
    "start_time": "2022-05-05T16:19:45.800Z"
   },
   {
    "duration": 31,
    "start_time": "2022-05-05T16:19:45.814Z"
   },
   {
    "duration": 23,
    "start_time": "2022-05-05T16:19:45.848Z"
   },
   {
    "duration": 15,
    "start_time": "2022-05-05T16:19:45.873Z"
   },
   {
    "duration": 75,
    "start_time": "2022-05-05T16:19:45.890Z"
   },
   {
    "duration": 16,
    "start_time": "2022-05-05T16:19:45.967Z"
   },
   {
    "duration": 17,
    "start_time": "2022-05-05T16:19:45.985Z"
   },
   {
    "duration": 10,
    "start_time": "2022-05-05T16:19:46.043Z"
   },
   {
    "duration": 18,
    "start_time": "2022-05-05T16:19:46.055Z"
   },
   {
    "duration": 322,
    "start_time": "2022-05-05T16:19:46.075Z"
   },
   {
    "duration": 10,
    "start_time": "2022-05-05T16:19:46.399Z"
   },
   {
    "duration": 33,
    "start_time": "2022-05-05T16:19:46.411Z"
   },
   {
    "duration": 348,
    "start_time": "2022-05-05T16:19:46.448Z"
   },
   {
    "duration": 8,
    "start_time": "2022-05-05T16:19:46.798Z"
   },
   {
    "duration": 33,
    "start_time": "2022-05-05T16:19:46.808Z"
   },
   {
    "duration": 322,
    "start_time": "2022-05-05T16:19:46.845Z"
   },
   {
    "duration": 91,
    "start_time": "2022-05-05T16:19:47.169Z"
   },
   {
    "duration": 375,
    "start_time": "2022-05-05T16:19:47.905Z"
   },
   {
    "duration": 377,
    "start_time": "2022-05-05T16:19:51.512Z"
   },
   {
    "duration": 375,
    "start_time": "2022-05-05T16:20:16.138Z"
   },
   {
    "duration": 451,
    "start_time": "2022-05-05T16:24:08.627Z"
   },
   {
    "duration": 634,
    "start_time": "2022-05-05T16:59:00.084Z"
   },
   {
    "duration": 468,
    "start_time": "2022-05-05T16:59:54.715Z"
   },
   {
    "duration": 161,
    "start_time": "2022-05-05T17:01:20.968Z"
   },
   {
    "duration": 15,
    "start_time": "2022-05-05T17:09:36.226Z"
   },
   {
    "duration": 17,
    "start_time": "2022-05-05T17:09:42.634Z"
   },
   {
    "duration": 4,
    "start_time": "2022-05-05T17:19:17.054Z"
   },
   {
    "duration": 439,
    "start_time": "2022-05-05T17:19:55.934Z"
   },
   {
    "duration": 3,
    "start_time": "2022-05-05T17:20:26.822Z"
   },
   {
    "duration": 417,
    "start_time": "2022-05-05T17:20:36.479Z"
   },
   {
    "duration": 4,
    "start_time": "2022-05-05T17:25:40.600Z"
   },
   {
    "duration": 375,
    "start_time": "2022-05-05T17:25:57.267Z"
   },
   {
    "duration": 541,
    "start_time": "2022-05-05T17:26:08.322Z"
   },
   {
    "duration": 160,
    "start_time": "2022-05-05T17:26:54.867Z"
   },
   {
    "duration": 221,
    "start_time": "2022-05-05T17:27:28.474Z"
   },
   {
    "duration": 210,
    "start_time": "2022-05-05T17:27:35.975Z"
   },
   {
    "duration": 206,
    "start_time": "2022-05-05T17:27:44.705Z"
   },
   {
    "duration": 216,
    "start_time": "2022-05-05T17:27:51.187Z"
   },
   {
    "duration": 195,
    "start_time": "2022-05-05T17:30:40.718Z"
   },
   {
    "duration": 162,
    "start_time": "2022-05-05T18:50:20.066Z"
   },
   {
    "duration": 247,
    "start_time": "2022-05-05T18:52:54.930Z"
   },
   {
    "duration": 12,
    "start_time": "2022-05-05T18:53:43.786Z"
   },
   {
    "duration": 13,
    "start_time": "2022-05-05T18:54:01.962Z"
   },
   {
    "duration": 178,
    "start_time": "2022-05-05T19:25:06.493Z"
   },
   {
    "duration": 239,
    "start_time": "2022-05-05T19:26:57.759Z"
   },
   {
    "duration": 14,
    "start_time": "2022-05-05T19:27:45.985Z"
   },
   {
    "duration": 258,
    "start_time": "2022-05-05T19:32:05.859Z"
   },
   {
    "duration": 258,
    "start_time": "2022-05-05T19:32:52.090Z"
   },
   {
    "duration": 15,
    "start_time": "2022-05-05T19:33:29.260Z"
   },
   {
    "duration": 229,
    "start_time": "2022-05-05T19:42:37.604Z"
   },
   {
    "duration": 13,
    "start_time": "2022-05-05T19:43:19.226Z"
   },
   {
    "duration": 13,
    "start_time": "2022-05-05T19:43:28.612Z"
   },
   {
    "duration": 321,
    "start_time": "2022-05-05T19:46:15.291Z"
   },
   {
    "duration": 17,
    "start_time": "2022-05-05T19:47:08.161Z"
   },
   {
    "duration": 51,
    "start_time": "2022-05-06T12:06:17.632Z"
   },
   {
    "duration": 1386,
    "start_time": "2022-05-06T12:06:22.111Z"
   },
   {
    "duration": 3,
    "start_time": "2022-05-06T12:06:23.499Z"
   },
   {
    "duration": 7,
    "start_time": "2022-05-06T12:06:23.503Z"
   },
   {
    "duration": 46,
    "start_time": "2022-05-06T12:06:23.512Z"
   },
   {
    "duration": 16,
    "start_time": "2022-05-06T12:06:23.559Z"
   },
   {
    "duration": 28,
    "start_time": "2022-05-06T12:06:23.577Z"
   },
   {
    "duration": 5,
    "start_time": "2022-05-06T12:06:23.606Z"
   },
   {
    "duration": 8,
    "start_time": "2022-05-06T12:06:23.612Z"
   },
   {
    "duration": 11,
    "start_time": "2022-05-06T12:06:23.621Z"
   },
   {
    "duration": 18,
    "start_time": "2022-05-06T12:06:23.634Z"
   },
   {
    "duration": 45,
    "start_time": "2022-05-06T12:06:23.654Z"
   },
   {
    "duration": 13,
    "start_time": "2022-05-06T12:06:23.700Z"
   },
   {
    "duration": 15,
    "start_time": "2022-05-06T12:06:23.714Z"
   },
   {
    "duration": 10,
    "start_time": "2022-05-06T12:06:23.730Z"
   },
   {
    "duration": 66,
    "start_time": "2022-05-06T12:06:23.741Z"
   },
   {
    "duration": 15,
    "start_time": "2022-05-06T12:06:23.809Z"
   },
   {
    "duration": 15,
    "start_time": "2022-05-06T12:06:23.825Z"
   },
   {
    "duration": 7,
    "start_time": "2022-05-06T12:06:23.842Z"
   },
   {
    "duration": 4,
    "start_time": "2022-05-06T12:06:23.850Z"
   },
   {
    "duration": 261,
    "start_time": "2022-05-06T12:06:23.856Z"
   },
   {
    "duration": 7,
    "start_time": "2022-05-06T12:06:24.119Z"
   },
   {
    "duration": 9,
    "start_time": "2022-05-06T12:06:24.127Z"
   },
   {
    "duration": 306,
    "start_time": "2022-05-06T12:06:24.137Z"
   },
   {
    "duration": 6,
    "start_time": "2022-05-06T12:06:24.445Z"
   },
   {
    "duration": 9,
    "start_time": "2022-05-06T12:06:24.453Z"
   },
   {
    "duration": 288,
    "start_time": "2022-05-06T12:06:24.464Z"
   },
   {
    "duration": 122,
    "start_time": "2022-05-06T12:06:24.754Z"
   },
   {
    "duration": 301,
    "start_time": "2022-05-06T12:06:24.880Z"
   },
   {
    "duration": 310,
    "start_time": "2022-05-06T12:06:25.182Z"
   },
   {
    "duration": 228,
    "start_time": "2022-05-06T12:06:25.494Z"
   },
   {
    "duration": 11,
    "start_time": "2022-05-06T12:06:25.724Z"
   },
   {
    "duration": 155,
    "start_time": "2022-05-06T12:06:25.737Z"
   },
   {
    "duration": 11,
    "start_time": "2022-05-06T12:06:25.894Z"
   },
   {
    "duration": 178,
    "start_time": "2022-05-06T12:06:25.907Z"
   },
   {
    "duration": 10,
    "start_time": "2022-05-06T12:06:26.087Z"
   },
   {
    "duration": 185,
    "start_time": "2022-05-06T12:06:26.099Z"
   },
   {
    "duration": 13,
    "start_time": "2022-05-06T12:06:26.285Z"
   },
   {
    "duration": 179,
    "start_time": "2022-05-06T12:06:26.300Z"
   },
   {
    "duration": 18,
    "start_time": "2022-05-06T12:06:26.481Z"
   },
   {
    "duration": 172,
    "start_time": "2022-05-06T12:06:26.501Z"
   },
   {
    "duration": 20,
    "start_time": "2022-05-06T12:06:26.674Z"
   },
   {
    "duration": 69,
    "start_time": "2022-05-06T12:06:26.697Z"
   },
   {
    "duration": 8,
    "start_time": "2022-05-06T12:06:59.343Z"
   },
   {
    "duration": 17,
    "start_time": "2022-05-06T12:07:44.654Z"
   },
   {
    "duration": 11,
    "start_time": "2022-05-06T12:07:50.448Z"
   },
   {
    "duration": 12,
    "start_time": "2022-05-06T12:08:24.417Z"
   },
   {
    "duration": 14,
    "start_time": "2022-05-06T12:12:23.624Z"
   },
   {
    "duration": 14,
    "start_time": "2022-05-06T12:12:54.602Z"
   },
   {
    "duration": 13,
    "start_time": "2022-05-06T12:13:57.571Z"
   },
   {
    "duration": 14,
    "start_time": "2022-05-06T12:15:06.528Z"
   },
   {
    "duration": 9,
    "start_time": "2022-05-06T12:15:51.600Z"
   },
   {
    "duration": 14,
    "start_time": "2022-05-06T12:19:47.157Z"
   },
   {
    "duration": 15,
    "start_time": "2022-05-06T12:19:58.516Z"
   },
   {
    "duration": 8,
    "start_time": "2022-05-06T12:20:02.092Z"
   },
   {
    "duration": 16,
    "start_time": "2022-05-06T12:29:19.690Z"
   },
   {
    "duration": 16,
    "start_time": "2022-05-06T12:29:28.724Z"
   },
   {
    "duration": 2016,
    "start_time": "2022-05-06T12:35:26.216Z"
   },
   {
    "duration": 1734,
    "start_time": "2022-05-06T12:35:54.837Z"
   },
   {
    "duration": 1761,
    "start_time": "2022-05-06T12:36:19.734Z"
   },
   {
    "duration": 16,
    "start_time": "2022-05-06T12:36:30.595Z"
   },
   {
    "duration": 20,
    "start_time": "2022-05-06T12:36:50.141Z"
   },
   {
    "duration": 9,
    "start_time": "2022-05-06T12:36:59.855Z"
   },
   {
    "duration": 10,
    "start_time": "2022-05-06T12:37:22.675Z"
   },
   {
    "duration": 21,
    "start_time": "2022-05-06T12:46:03.014Z"
   },
   {
    "duration": 4,
    "start_time": "2022-05-06T12:46:09.314Z"
   },
   {
    "duration": 9,
    "start_time": "2022-05-06T12:46:09.320Z"
   },
   {
    "duration": 8,
    "start_time": "2022-05-06T12:46:09.331Z"
   },
   {
    "duration": 39,
    "start_time": "2022-05-06T12:46:09.341Z"
   },
   {
    "duration": 11,
    "start_time": "2022-05-06T12:46:09.382Z"
   },
   {
    "duration": 16,
    "start_time": "2022-05-06T12:46:09.395Z"
   },
   {
    "duration": 5,
    "start_time": "2022-05-06T12:46:09.413Z"
   },
   {
    "duration": 6,
    "start_time": "2022-05-06T12:46:09.419Z"
   },
   {
    "duration": 11,
    "start_time": "2022-05-06T12:46:09.428Z"
   },
   {
    "duration": 17,
    "start_time": "2022-05-06T12:46:09.440Z"
   },
   {
    "duration": 39,
    "start_time": "2022-05-06T12:46:09.458Z"
   },
   {
    "duration": 14,
    "start_time": "2022-05-06T12:46:09.499Z"
   },
   {
    "duration": 66,
    "start_time": "2022-05-06T12:46:09.514Z"
   },
   {
    "duration": 13,
    "start_time": "2022-05-06T12:46:09.582Z"
   },
   {
    "duration": 22,
    "start_time": "2022-05-06T12:46:09.596Z"
   },
   {
    "duration": 16,
    "start_time": "2022-05-06T12:46:09.620Z"
   },
   {
    "duration": 14,
    "start_time": "2022-05-06T12:46:09.638Z"
   },
   {
    "duration": 18,
    "start_time": "2022-05-06T12:46:13.260Z"
   },
   {
    "duration": 8,
    "start_time": "2022-05-06T12:55:10.077Z"
   },
   {
    "duration": 13,
    "start_time": "2022-05-06T12:55:35.288Z"
   },
   {
    "duration": 3,
    "start_time": "2022-05-06T12:55:56.799Z"
   },
   {
    "duration": 15,
    "start_time": "2022-05-06T12:55:56.804Z"
   },
   {
    "duration": 25,
    "start_time": "2022-05-06T12:55:56.820Z"
   },
   {
    "duration": 53,
    "start_time": "2022-05-06T12:55:56.847Z"
   },
   {
    "duration": 10,
    "start_time": "2022-05-06T12:55:56.902Z"
   },
   {
    "duration": 20,
    "start_time": "2022-05-06T12:55:56.914Z"
   },
   {
    "duration": 6,
    "start_time": "2022-05-06T12:55:56.935Z"
   },
   {
    "duration": 11,
    "start_time": "2022-05-06T12:55:56.942Z"
   },
   {
    "duration": 27,
    "start_time": "2022-05-06T12:55:56.954Z"
   },
   {
    "duration": 27,
    "start_time": "2022-05-06T12:55:56.983Z"
   },
   {
    "duration": 13,
    "start_time": "2022-05-06T12:55:57.011Z"
   },
   {
    "duration": 27,
    "start_time": "2022-05-06T12:55:57.026Z"
   },
   {
    "duration": 12,
    "start_time": "2022-05-06T12:55:57.054Z"
   },
   {
    "duration": 25,
    "start_time": "2022-05-06T12:55:57.068Z"
   },
   {
    "duration": 18,
    "start_time": "2022-05-06T12:55:57.094Z"
   },
   {
    "duration": 14,
    "start_time": "2022-05-06T12:55:57.113Z"
   },
   {
    "duration": 20,
    "start_time": "2022-05-06T12:55:57.128Z"
   },
   {
    "duration": 15,
    "start_time": "2022-05-06T12:55:57.149Z"
   },
   {
    "duration": 23,
    "start_time": "2022-05-06T12:55:57.165Z"
   },
   {
    "duration": 196,
    "start_time": "2022-05-06T12:55:57.192Z"
   },
   {
    "duration": 6,
    "start_time": "2022-05-06T12:55:57.393Z"
   },
   {
    "duration": 10,
    "start_time": "2022-05-06T12:55:57.400Z"
   },
   {
    "duration": 271,
    "start_time": "2022-05-06T12:55:57.412Z"
   },
   {
    "duration": 11,
    "start_time": "2022-05-06T12:55:57.685Z"
   },
   {
    "duration": 12,
    "start_time": "2022-05-06T12:55:57.697Z"
   },
   {
    "duration": 251,
    "start_time": "2022-05-06T12:55:57.710Z"
   },
   {
    "duration": 74,
    "start_time": "2022-05-06T12:55:57.962Z"
   },
   {
    "duration": 347,
    "start_time": "2022-05-06T12:55:58.040Z"
   },
   {
    "duration": 283,
    "start_time": "2022-05-06T12:55:58.388Z"
   },
   {
    "duration": 149,
    "start_time": "2022-05-06T12:55:58.673Z"
   },
   {
    "duration": 9,
    "start_time": "2022-05-06T12:55:58.824Z"
   },
   {
    "duration": 142,
    "start_time": "2022-05-06T12:55:58.834Z"
   },
   {
    "duration": 20,
    "start_time": "2022-05-06T12:55:58.977Z"
   },
   {
    "duration": 162,
    "start_time": "2022-05-06T12:55:58.999Z"
   },
   {
    "duration": 10,
    "start_time": "2022-05-06T12:55:59.162Z"
   },
   {
    "duration": 164,
    "start_time": "2022-05-06T12:55:59.173Z"
   },
   {
    "duration": 10,
    "start_time": "2022-05-06T12:55:59.338Z"
   },
   {
    "duration": 173,
    "start_time": "2022-05-06T12:55:59.349Z"
   },
   {
    "duration": 11,
    "start_time": "2022-05-06T12:55:59.523Z"
   },
   {
    "duration": 182,
    "start_time": "2022-05-06T12:55:59.536Z"
   },
   {
    "duration": 12,
    "start_time": "2022-05-06T12:55:59.720Z"
   },
   {
    "duration": 19,
    "start_time": "2022-05-06T12:55:59.734Z"
   },
   {
    "duration": 12,
    "start_time": "2022-05-06T12:56:02.433Z"
   },
   {
    "duration": 14,
    "start_time": "2022-05-06T12:56:52.161Z"
   },
   {
    "duration": 2310,
    "start_time": "2022-05-06T13:19:29.941Z"
   },
   {
    "duration": 8,
    "start_time": "2022-05-06T13:24:52.912Z"
   },
   {
    "duration": 11,
    "start_time": "2022-05-06T13:25:24.743Z"
   },
   {
    "duration": 13,
    "start_time": "2022-05-06T13:25:42.863Z"
   },
   {
    "duration": 17,
    "start_time": "2022-05-06T13:25:57.686Z"
   },
   {
    "duration": 1896,
    "start_time": "2022-05-06T13:26:12.097Z"
   },
   {
    "duration": 19,
    "start_time": "2022-05-06T13:26:34.967Z"
   },
   {
    "duration": 18,
    "start_time": "2022-05-06T13:27:34.391Z"
   },
   {
    "duration": 19,
    "start_time": "2022-05-06T13:27:39.800Z"
   },
   {
    "duration": 18,
    "start_time": "2022-05-06T13:27:50.264Z"
   },
   {
    "duration": 18,
    "start_time": "2022-05-06T13:28:00.213Z"
   },
   {
    "duration": 19,
    "start_time": "2022-05-06T13:28:06.492Z"
   },
   {
    "duration": 20,
    "start_time": "2022-05-06T13:28:18.247Z"
   },
   {
    "duration": 20,
    "start_time": "2022-05-06T13:29:01.305Z"
   },
   {
    "duration": 29,
    "start_time": "2022-05-06T13:29:32.897Z"
   },
   {
    "duration": 29,
    "start_time": "2022-05-06T13:29:53.985Z"
   },
   {
    "duration": 1987,
    "start_time": "2022-05-06T13:32:51.171Z"
   },
   {
    "duration": 24,
    "start_time": "2022-05-06T13:46:00.923Z"
   },
   {
    "duration": 30,
    "start_time": "2022-05-06T13:46:28.657Z"
   },
   {
    "duration": 1954,
    "start_time": "2022-05-06T13:47:42.738Z"
   },
   {
    "duration": 26,
    "start_time": "2022-05-06T13:47:55.132Z"
   },
   {
    "duration": 1935,
    "start_time": "2022-05-06T13:49:15.028Z"
   },
   {
    "duration": 27,
    "start_time": "2022-05-06T13:49:54.148Z"
   },
   {
    "duration": 1902,
    "start_time": "2022-05-06T13:50:12.451Z"
   },
   {
    "duration": 27,
    "start_time": "2022-05-06T13:50:24.044Z"
   },
   {
    "duration": 1864,
    "start_time": "2022-05-06T13:51:01.436Z"
   },
   {
    "duration": 16,
    "start_time": "2022-05-06T14:09:32.950Z"
   },
   {
    "duration": 13,
    "start_time": "2022-05-06T14:09:43.416Z"
   },
   {
    "duration": 111,
    "start_time": "2022-05-06T14:30:59.759Z"
   },
   {
    "duration": 656,
    "start_time": "2022-05-06T14:36:15.425Z"
   },
   {
    "duration": 539,
    "start_time": "2022-05-06T14:36:36.994Z"
   },
   {
    "duration": 636,
    "start_time": "2022-05-06T14:36:52.634Z"
   },
   {
    "duration": 2271,
    "start_time": "2022-05-06T14:37:02.546Z"
   },
   {
    "duration": 3199,
    "start_time": "2022-05-06T14:38:19.642Z"
   },
   {
    "duration": 2865,
    "start_time": "2022-05-06T14:38:23.882Z"
   },
   {
    "duration": 9824,
    "start_time": "2022-05-06T14:39:02.126Z"
   },
   {
    "duration": 100,
    "start_time": "2022-05-06T14:39:50.662Z"
   },
   {
    "duration": 33,
    "start_time": "2022-05-06T14:40:22.363Z"
   },
   {
    "duration": 12,
    "start_time": "2022-05-06T14:40:59.300Z"
   },
   {
    "duration": 165,
    "start_time": "2022-05-06T14:41:54.172Z"
   },
   {
    "duration": 130,
    "start_time": "2022-05-06T14:42:10.324Z"
   },
   {
    "duration": 18,
    "start_time": "2022-05-06T14:42:27.577Z"
   },
   {
    "duration": 21,
    "start_time": "2022-05-06T14:42:40.814Z"
   },
   {
    "duration": 126,
    "start_time": "2022-05-06T14:43:27.531Z"
   },
   {
    "duration": 927,
    "start_time": "2022-05-06T14:43:36.265Z"
   },
   {
    "duration": 21,
    "start_time": "2022-05-06T14:44:24.636Z"
   },
   {
    "duration": 16,
    "start_time": "2022-05-06T14:45:01.407Z"
   },
   {
    "duration": 16,
    "start_time": "2022-05-06T14:45:19.622Z"
   },
   {
    "duration": 17,
    "start_time": "2022-05-06T15:00:56.952Z"
   },
   {
    "duration": 10,
    "start_time": "2022-05-06T15:03:00.805Z"
   },
   {
    "duration": 7,
    "start_time": "2022-05-06T15:03:07.726Z"
   },
   {
    "duration": 132,
    "start_time": "2022-05-06T15:04:30.944Z"
   },
   {
    "duration": 151,
    "start_time": "2022-05-06T15:05:49.128Z"
   },
   {
    "duration": 19,
    "start_time": "2022-05-06T15:06:13.900Z"
   },
   {
    "duration": 15,
    "start_time": "2022-05-06T15:06:43.690Z"
   },
   {
    "duration": 88,
    "start_time": "2022-05-06T15:06:55.201Z"
   },
   {
    "duration": 3,
    "start_time": "2022-05-06T15:22:36.162Z"
   },
   {
    "duration": 7,
    "start_time": "2022-05-06T15:23:05.859Z"
   },
   {
    "duration": 8,
    "start_time": "2022-05-06T15:23:24.657Z"
   },
   {
    "duration": 3,
    "start_time": "2022-05-06T15:23:35.050Z"
   },
   {
    "duration": 14,
    "start_time": "2022-05-06T15:23:37.737Z"
   },
   {
    "duration": 10,
    "start_time": "2022-05-06T15:23:54.376Z"
   },
   {
    "duration": 4,
    "start_time": "2022-05-06T15:24:10.371Z"
   },
   {
    "duration": 141,
    "start_time": "2022-05-06T15:24:16.714Z"
   },
   {
    "duration": 4,
    "start_time": "2022-05-06T15:25:23.114Z"
   },
   {
    "duration": 141,
    "start_time": "2022-05-06T15:25:25.922Z"
   },
   {
    "duration": 4,
    "start_time": "2022-05-06T15:33:43.583Z"
   },
   {
    "duration": 73,
    "start_time": "2022-05-06T15:33:46.415Z"
   },
   {
    "duration": 3,
    "start_time": "2022-05-06T15:33:56.447Z"
   },
   {
    "duration": 137,
    "start_time": "2022-05-06T15:33:59.302Z"
   },
   {
    "duration": 8,
    "start_time": "2022-05-06T15:34:36.891Z"
   },
   {
    "duration": 144,
    "start_time": "2022-05-06T15:34:41.183Z"
   },
   {
    "duration": 4,
    "start_time": "2022-05-06T15:36:01.405Z"
   },
   {
    "duration": 74,
    "start_time": "2022-05-06T15:36:03.276Z"
   },
   {
    "duration": 4,
    "start_time": "2022-05-06T15:38:50.386Z"
   },
   {
    "duration": 3,
    "start_time": "2022-05-06T15:38:53.368Z"
   },
   {
    "duration": 3,
    "start_time": "2022-05-06T15:38:55.967Z"
   },
   {
    "duration": 3,
    "start_time": "2022-05-06T15:38:59.368Z"
   },
   {
    "duration": 153,
    "start_time": "2022-05-06T15:39:06.954Z"
   },
   {
    "duration": 3,
    "start_time": "2022-05-06T15:39:28.682Z"
   },
   {
    "duration": 148,
    "start_time": "2022-05-06T15:40:16.006Z"
   },
   {
    "duration": 2,
    "start_time": "2022-05-06T15:40:32.041Z"
   },
   {
    "duration": 2,
    "start_time": "2022-05-06T15:40:32.817Z"
   },
   {
    "duration": 319,
    "start_time": "2022-05-06T15:40:34.312Z"
   },
   {
    "duration": 3,
    "start_time": "2022-05-06T15:40:58.830Z"
   },
   {
    "duration": 14,
    "start_time": "2022-05-06T15:41:00.573Z"
   },
   {
    "duration": 234,
    "start_time": "2022-05-06T15:41:46.309Z"
   },
   {
    "duration": 14,
    "start_time": "2022-05-06T15:41:55.929Z"
   },
   {
    "duration": 158,
    "start_time": "2022-05-06T15:42:45.955Z"
   },
   {
    "duration": 149,
    "start_time": "2022-05-06T15:42:53.937Z"
   },
   {
    "duration": 4,
    "start_time": "2022-05-06T15:44:43.941Z"
   },
   {
    "duration": 3,
    "start_time": "2022-05-06T15:44:45.923Z"
   },
   {
    "duration": 91,
    "start_time": "2022-05-06T15:44:48.467Z"
   },
   {
    "duration": 4,
    "start_time": "2022-05-06T15:45:03.005Z"
   },
   {
    "duration": 4,
    "start_time": "2022-05-06T15:45:04.315Z"
   },
   {
    "duration": 113,
    "start_time": "2022-05-06T15:45:05.619Z"
   },
   {
    "duration": 4,
    "start_time": "2022-05-06T15:45:57.694Z"
   },
   {
    "duration": 156,
    "start_time": "2022-05-06T15:46:00.317Z"
   },
   {
    "duration": 3,
    "start_time": "2022-05-06T15:47:19.959Z"
   },
   {
    "duration": 3,
    "start_time": "2022-05-06T15:47:20.781Z"
   },
   {
    "duration": 148,
    "start_time": "2022-05-06T15:47:22.639Z"
   },
   {
    "duration": 150,
    "start_time": "2022-05-06T15:47:24.156Z"
   },
   {
    "duration": 4,
    "start_time": "2022-05-06T15:47:51.950Z"
   },
   {
    "duration": 157,
    "start_time": "2022-05-06T15:47:54.661Z"
   },
   {
    "duration": 112,
    "start_time": "2022-05-06T15:52:42.962Z"
   },
   {
    "duration": 109,
    "start_time": "2022-05-06T15:53:44.827Z"
   },
   {
    "duration": 147,
    "start_time": "2022-05-06T15:54:12.350Z"
   },
   {
    "duration": 112,
    "start_time": "2022-05-06T15:55:34.890Z"
   },
   {
    "duration": 180,
    "start_time": "2022-05-06T15:56:18.722Z"
   },
   {
    "duration": 1365,
    "start_time": "2022-05-07T08:52:38.546Z"
   },
   {
    "duration": 3,
    "start_time": "2022-05-07T08:52:39.913Z"
   },
   {
    "duration": 22,
    "start_time": "2022-05-07T08:52:39.918Z"
   },
   {
    "duration": 60,
    "start_time": "2022-05-07T08:52:39.942Z"
   },
   {
    "duration": 17,
    "start_time": "2022-05-07T08:52:40.004Z"
   },
   {
    "duration": 23,
    "start_time": "2022-05-07T08:52:40.023Z"
   },
   {
    "duration": 18,
    "start_time": "2022-05-07T08:52:40.048Z"
   },
   {
    "duration": 24,
    "start_time": "2022-05-07T08:52:40.068Z"
   },
   {
    "duration": 18,
    "start_time": "2022-05-07T08:52:40.094Z"
   },
   {
    "duration": 22,
    "start_time": "2022-05-07T08:52:40.115Z"
   },
   {
    "duration": 19,
    "start_time": "2022-05-07T08:52:40.138Z"
   },
   {
    "duration": 28,
    "start_time": "2022-05-07T08:52:40.159Z"
   },
   {
    "duration": 25,
    "start_time": "2022-05-07T08:52:40.189Z"
   },
   {
    "duration": 11,
    "start_time": "2022-05-07T08:52:40.216Z"
   },
   {
    "duration": 37,
    "start_time": "2022-05-07T08:52:40.229Z"
   },
   {
    "duration": 28,
    "start_time": "2022-05-07T08:52:40.267Z"
   },
   {
    "duration": 22,
    "start_time": "2022-05-07T08:52:40.296Z"
   },
   {
    "duration": 11,
    "start_time": "2022-05-07T08:52:40.320Z"
   },
   {
    "duration": 12,
    "start_time": "2022-05-07T08:52:40.332Z"
   },
   {
    "duration": 228,
    "start_time": "2022-05-07T08:52:40.345Z"
   },
   {
    "duration": 7,
    "start_time": "2022-05-07T08:52:40.574Z"
   },
   {
    "duration": 30,
    "start_time": "2022-05-07T08:52:40.583Z"
   },
   {
    "duration": 301,
    "start_time": "2022-05-07T08:52:40.614Z"
   },
   {
    "duration": 6,
    "start_time": "2022-05-07T08:52:40.917Z"
   },
   {
    "duration": 31,
    "start_time": "2022-05-07T08:52:40.926Z"
   },
   {
    "duration": 272,
    "start_time": "2022-05-07T08:52:40.959Z"
   },
   {
    "duration": 120,
    "start_time": "2022-05-07T08:52:41.233Z"
   },
   {
    "duration": 300,
    "start_time": "2022-05-07T08:52:41.356Z"
   },
   {
    "duration": 314,
    "start_time": "2022-05-07T08:52:41.658Z"
   },
   {
    "duration": 235,
    "start_time": "2022-05-07T08:52:41.974Z"
   },
   {
    "duration": 17,
    "start_time": "2022-05-07T08:52:42.211Z"
   },
   {
    "duration": 144,
    "start_time": "2022-05-07T08:52:42.229Z"
   },
   {
    "duration": 10,
    "start_time": "2022-05-07T08:52:42.375Z"
   },
   {
    "duration": 297,
    "start_time": "2022-05-07T08:52:42.386Z"
   },
   {
    "duration": 11,
    "start_time": "2022-05-07T08:52:42.684Z"
   },
   {
    "duration": 184,
    "start_time": "2022-05-07T08:52:42.696Z"
   },
   {
    "duration": 9,
    "start_time": "2022-05-07T08:52:42.882Z"
   },
   {
    "duration": 181,
    "start_time": "2022-05-07T08:52:42.893Z"
   },
   {
    "duration": 10,
    "start_time": "2022-05-07T08:52:43.076Z"
   },
   {
    "duration": 176,
    "start_time": "2022-05-07T08:52:43.087Z"
   },
   {
    "duration": 10,
    "start_time": "2022-05-07T08:52:43.264Z"
   },
   {
    "duration": 32,
    "start_time": "2022-05-07T08:52:43.276Z"
   },
   {
    "duration": 23,
    "start_time": "2022-05-07T08:52:43.310Z"
   },
   {
    "duration": 108,
    "start_time": "2022-05-07T08:52:43.335Z"
   },
   {
    "duration": 106,
    "start_time": "2022-05-07T08:52:43.445Z"
   },
   {
    "duration": 108,
    "start_time": "2022-05-07T08:52:43.553Z"
   },
   {
    "duration": 130,
    "start_time": "2022-05-07T09:15:00.944Z"
   },
   {
    "duration": 113,
    "start_time": "2022-05-07T09:16:36.554Z"
   },
   {
    "duration": 104,
    "start_time": "2022-05-07T09:19:06.305Z"
   },
   {
    "duration": 96,
    "start_time": "2022-05-07T09:19:10.105Z"
   },
   {
    "duration": 181,
    "start_time": "2022-05-07T09:19:13.225Z"
   },
   {
    "duration": 95,
    "start_time": "2022-05-07T09:59:54.549Z"
   },
   {
    "duration": 93,
    "start_time": "2022-05-07T10:00:55.011Z"
   },
   {
    "duration": 95,
    "start_time": "2022-05-07T10:01:19.155Z"
   },
   {
    "duration": 7,
    "start_time": "2022-05-07T10:01:57.731Z"
   },
   {
    "duration": 10,
    "start_time": "2022-05-07T10:27:23.603Z"
   },
   {
    "duration": 10,
    "start_time": "2022-05-07T10:27:29.202Z"
   },
   {
    "duration": 7,
    "start_time": "2022-05-07T10:27:44.321Z"
   },
   {
    "duration": 184,
    "start_time": "2022-05-07T10:28:04.671Z"
   },
   {
    "duration": 8,
    "start_time": "2022-05-07T10:28:15.594Z"
   },
   {
    "duration": 8,
    "start_time": "2022-05-07T10:28:32.235Z"
   },
   {
    "duration": 8,
    "start_time": "2022-05-07T10:29:01.786Z"
   },
   {
    "duration": 90,
    "start_time": "2022-05-07T10:29:43.110Z"
   },
   {
    "duration": 7,
    "start_time": "2022-05-07T10:30:43.837Z"
   },
   {
    "duration": 9,
    "start_time": "2022-05-07T10:32:46.188Z"
   },
   {
    "duration": 7,
    "start_time": "2022-05-07T10:33:00.252Z"
   },
   {
    "duration": 4,
    "start_time": "2022-05-07T10:35:25.160Z"
   },
   {
    "duration": 7,
    "start_time": "2022-05-07T10:35:40.389Z"
   },
   {
    "duration": 214,
    "start_time": "2022-05-07T10:35:47.716Z"
   },
   {
    "duration": 94,
    "start_time": "2022-05-07T10:35:55.939Z"
   },
   {
    "duration": 90,
    "start_time": "2022-05-07T10:36:17.719Z"
   },
   {
    "duration": 93,
    "start_time": "2022-05-07T10:36:30.454Z"
   },
   {
    "duration": 105,
    "start_time": "2022-05-07T10:45:00.664Z"
   },
   {
    "duration": 108,
    "start_time": "2022-05-07T10:45:19.529Z"
   },
   {
    "duration": 101,
    "start_time": "2022-05-07T10:45:42.210Z"
   },
   {
    "duration": 105,
    "start_time": "2022-05-07T11:25:57.271Z"
   },
   {
    "duration": 105,
    "start_time": "2022-05-07T11:26:01.534Z"
   },
   {
    "duration": 192,
    "start_time": "2022-05-07T11:26:07.016Z"
   },
   {
    "duration": 1999,
    "start_time": "2022-05-07T19:20:10.214Z"
   },
   {
    "duration": 5,
    "start_time": "2022-05-07T19:20:12.216Z"
   },
   {
    "duration": 19,
    "start_time": "2022-05-07T19:20:12.224Z"
   },
   {
    "duration": 59,
    "start_time": "2022-05-07T19:20:12.247Z"
   },
   {
    "duration": 27,
    "start_time": "2022-05-07T19:20:12.308Z"
   },
   {
    "duration": 27,
    "start_time": "2022-05-07T19:20:12.338Z"
   },
   {
    "duration": 8,
    "start_time": "2022-05-07T19:20:12.383Z"
   },
   {
    "duration": 18,
    "start_time": "2022-05-07T19:20:12.393Z"
   },
   {
    "duration": 17,
    "start_time": "2022-05-07T19:20:12.415Z"
   },
   {
    "duration": 28,
    "start_time": "2022-05-07T19:20:12.438Z"
   },
   {
    "duration": 21,
    "start_time": "2022-05-07T19:20:12.483Z"
   },
   {
    "duration": 31,
    "start_time": "2022-05-07T19:20:12.506Z"
   },
   {
    "duration": 49,
    "start_time": "2022-05-07T19:20:12.539Z"
   },
   {
    "duration": 17,
    "start_time": "2022-05-07T19:20:12.591Z"
   },
   {
    "duration": 48,
    "start_time": "2022-05-07T19:20:12.611Z"
   },
   {
    "duration": 29,
    "start_time": "2022-05-07T19:20:12.683Z"
   },
   {
    "duration": 34,
    "start_time": "2022-05-07T19:20:12.716Z"
   },
   {
    "duration": 32,
    "start_time": "2022-05-07T19:20:12.754Z"
   },
   {
    "duration": 6,
    "start_time": "2022-05-07T19:20:12.789Z"
   },
   {
    "duration": 530,
    "start_time": "2022-05-07T19:20:12.798Z"
   },
   {
    "duration": 12,
    "start_time": "2022-05-07T19:20:13.331Z"
   },
   {
    "duration": 18,
    "start_time": "2022-05-07T19:20:13.346Z"
   },
   {
    "duration": 716,
    "start_time": "2022-05-07T19:20:13.366Z"
   },
   {
    "duration": 11,
    "start_time": "2022-05-07T19:20:14.088Z"
   },
   {
    "duration": 18,
    "start_time": "2022-05-07T19:20:14.103Z"
   },
   {
    "duration": 736,
    "start_time": "2022-05-07T19:20:14.124Z"
   },
   {
    "duration": 248,
    "start_time": "2022-05-07T19:20:14.863Z"
   },
   {
    "duration": 679,
    "start_time": "2022-05-07T19:20:15.120Z"
   },
   {
    "duration": 721,
    "start_time": "2022-05-07T19:20:15.802Z"
   },
   {
    "duration": 468,
    "start_time": "2022-05-07T19:20:16.526Z"
   },
   {
    "duration": 17,
    "start_time": "2022-05-07T19:20:16.996Z"
   },
   {
    "duration": 314,
    "start_time": "2022-05-07T19:20:17.016Z"
   },
   {
    "duration": 17,
    "start_time": "2022-05-07T19:20:17.333Z"
   },
   {
    "duration": 448,
    "start_time": "2022-05-07T19:20:17.352Z"
   },
   {
    "duration": 24,
    "start_time": "2022-05-07T19:20:17.803Z"
   },
   {
    "duration": 493,
    "start_time": "2022-05-07T19:20:17.831Z"
   },
   {
    "duration": 23,
    "start_time": "2022-05-07T19:20:18.332Z"
   },
   {
    "duration": 490,
    "start_time": "2022-05-07T19:20:18.359Z"
   },
   {
    "duration": 23,
    "start_time": "2022-05-07T19:20:18.855Z"
   },
   {
    "duration": 487,
    "start_time": "2022-05-07T19:20:18.882Z"
   },
   {
    "duration": 23,
    "start_time": "2022-05-07T19:20:19.371Z"
   },
   {
    "duration": 39,
    "start_time": "2022-05-07T19:20:19.397Z"
   },
   {
    "duration": 51,
    "start_time": "2022-05-07T19:20:19.439Z"
   },
   {
    "duration": 245,
    "start_time": "2022-05-07T19:20:19.493Z"
   },
   {
    "duration": 218,
    "start_time": "2022-05-07T19:20:19.746Z"
   },
   {
    "duration": 217,
    "start_time": "2022-05-07T19:20:19.967Z"
   },
   {
    "duration": 232,
    "start_time": "2022-05-07T19:20:20.187Z"
   },
   {
    "duration": 220,
    "start_time": "2022-05-07T19:20:20.423Z"
   },
   {
    "duration": 235,
    "start_time": "2022-05-07T19:20:20.646Z"
   },
   {
    "duration": 286,
    "start_time": "2022-05-07T19:20:20.884Z"
   },
   {
    "duration": 381,
    "start_time": "2022-05-07T19:20:21.183Z"
   },
   {
    "duration": 273,
    "start_time": "2022-05-07T19:20:21.567Z"
   },
   {
    "duration": 4,
    "start_time": "2022-05-07T19:26:27.112Z"
   },
   {
    "duration": 231,
    "start_time": "2022-05-07T19:28:26.871Z"
   },
   {
    "duration": 14,
    "start_time": "2022-05-07T19:28:36.704Z"
   },
   {
    "duration": 9,
    "start_time": "2022-05-07T19:28:51.397Z"
   },
   {
    "duration": 5,
    "start_time": "2022-05-07T19:30:27.719Z"
   },
   {
    "duration": 23,
    "start_time": "2022-05-07T19:30:37.752Z"
   },
   {
    "duration": 14,
    "start_time": "2022-05-07T19:31:17.642Z"
   },
   {
    "duration": 9,
    "start_time": "2022-05-07T19:32:15.882Z"
   },
   {
    "duration": 7,
    "start_time": "2022-05-07T19:32:17.593Z"
   },
   {
    "duration": 6,
    "start_time": "2022-05-07T19:32:52.265Z"
   },
   {
    "duration": 10,
    "start_time": "2022-05-07T19:32:59.352Z"
   },
   {
    "duration": 5,
    "start_time": "2022-05-07T19:33:01.480Z"
   },
   {
    "duration": 6,
    "start_time": "2022-05-07T19:33:03.024Z"
   },
   {
    "duration": 23,
    "start_time": "2022-05-07T19:34:13.889Z"
   },
   {
    "duration": 7,
    "start_time": "2022-05-07T19:37:16.690Z"
   },
   {
    "duration": 7,
    "start_time": "2022-05-07T19:37:28.939Z"
   },
   {
    "duration": 8,
    "start_time": "2022-05-07T19:37:31.250Z"
   },
   {
    "duration": 7,
    "start_time": "2022-05-07T19:37:40.987Z"
   },
   {
    "duration": 9,
    "start_time": "2022-05-07T19:37:45.747Z"
   },
   {
    "duration": 9,
    "start_time": "2022-05-07T19:37:47.501Z"
   },
   {
    "duration": 5,
    "start_time": "2022-05-07T19:38:06.442Z"
   },
   {
    "duration": 5,
    "start_time": "2022-05-07T19:38:08.780Z"
   },
   {
    "duration": 9,
    "start_time": "2022-05-07T19:38:14.962Z"
   },
   {
    "duration": 5,
    "start_time": "2022-05-07T19:38:16.803Z"
   },
   {
    "duration": 6,
    "start_time": "2022-05-07T19:38:18.702Z"
   },
   {
    "duration": 7,
    "start_time": "2022-05-07T19:50:19.133Z"
   },
   {
    "duration": 7,
    "start_time": "2022-05-07T19:50:55.407Z"
   },
   {
    "duration": 21,
    "start_time": "2022-05-07T19:51:07.577Z"
   },
   {
    "duration": 604,
    "start_time": "2022-05-07T19:51:15.936Z"
   },
   {
    "duration": 10,
    "start_time": "2022-05-07T19:51:39.169Z"
   },
   {
    "duration": 7,
    "start_time": "2022-05-07T19:51:41.650Z"
   },
   {
    "duration": 4,
    "start_time": "2022-05-07T19:51:44.537Z"
   },
   {
    "duration": 6,
    "start_time": "2022-05-07T19:51:46.519Z"
   },
   {
    "duration": 7,
    "start_time": "2022-05-07T19:53:08.962Z"
   },
   {
    "duration": 12,
    "start_time": "2022-05-07T19:53:21.946Z"
   },
   {
    "duration": 12,
    "start_time": "2022-05-07T19:54:39.852Z"
   },
   {
    "duration": 8,
    "start_time": "2022-05-07T19:54:43.083Z"
   },
   {
    "duration": 6,
    "start_time": "2022-05-07T19:54:53.218Z"
   },
   {
    "duration": 12,
    "start_time": "2022-05-07T19:57:00.902Z"
   },
   {
    "duration": 13,
    "start_time": "2022-05-07T19:57:03.397Z"
   },
   {
    "duration": 11,
    "start_time": "2022-05-07T19:57:09.157Z"
   },
   {
    "duration": 6,
    "start_time": "2022-05-07T19:57:11.412Z"
   },
   {
    "duration": 12,
    "start_time": "2022-05-07T19:58:38.116Z"
   },
   {
    "duration": 5,
    "start_time": "2022-05-07T19:58:40.872Z"
   },
   {
    "duration": 5,
    "start_time": "2022-05-07T19:58:42.859Z"
   },
   {
    "duration": 13,
    "start_time": "2022-05-07T20:05:27.256Z"
   },
   {
    "duration": 5,
    "start_time": "2022-05-07T20:05:29.642Z"
   },
   {
    "duration": 6,
    "start_time": "2022-05-07T20:05:31.663Z"
   },
   {
    "duration": 12,
    "start_time": "2022-05-07T20:05:55.170Z"
   },
   {
    "duration": 6,
    "start_time": "2022-05-07T20:05:57.707Z"
   },
   {
    "duration": 6,
    "start_time": "2022-05-07T20:05:59.427Z"
   },
   {
    "duration": 11,
    "start_time": "2022-05-07T20:12:56.069Z"
   },
   {
    "duration": 4,
    "start_time": "2022-05-07T20:13:02.567Z"
   },
   {
    "duration": 6,
    "start_time": "2022-05-07T20:13:04.342Z"
   },
   {
    "duration": 12,
    "start_time": "2022-05-07T20:18:12.833Z"
   },
   {
    "duration": 5,
    "start_time": "2022-05-07T20:20:24.742Z"
   },
   {
    "duration": 5,
    "start_time": "2022-05-07T20:20:34.267Z"
   },
   {
    "duration": 9,
    "start_time": "2022-05-07T20:21:34.043Z"
   },
   {
    "duration": 8,
    "start_time": "2022-05-07T20:22:05.329Z"
   },
   {
    "duration": 11,
    "start_time": "2022-05-07T20:23:33.466Z"
   },
   {
    "duration": 8,
    "start_time": "2022-05-07T20:23:35.139Z"
   },
   {
    "duration": 6,
    "start_time": "2022-05-07T20:23:37.908Z"
   },
   {
    "duration": 6,
    "start_time": "2022-05-07T20:23:40.075Z"
   },
   {
    "duration": 82,
    "start_time": "2022-05-08T08:12:23.344Z"
   },
   {
    "duration": 1954,
    "start_time": "2022-05-08T08:12:36.011Z"
   },
   {
    "duration": 8,
    "start_time": "2022-05-08T08:12:37.969Z"
   },
   {
    "duration": 132,
    "start_time": "2022-05-08T08:12:37.980Z"
   },
   {
    "duration": 66,
    "start_time": "2022-05-08T08:12:38.115Z"
   },
   {
    "duration": 28,
    "start_time": "2022-05-08T08:12:38.188Z"
   },
   {
    "duration": 23,
    "start_time": "2022-05-08T08:12:38.219Z"
   },
   {
    "duration": 37,
    "start_time": "2022-05-08T08:12:38.246Z"
   },
   {
    "duration": 7,
    "start_time": "2022-05-08T08:12:38.287Z"
   },
   {
    "duration": 24,
    "start_time": "2022-05-08T08:12:38.299Z"
   },
   {
    "duration": 27,
    "start_time": "2022-05-08T08:12:38.327Z"
   },
   {
    "duration": 42,
    "start_time": "2022-05-08T08:12:38.357Z"
   },
   {
    "duration": 30,
    "start_time": "2022-05-08T08:12:38.402Z"
   },
   {
    "duration": 49,
    "start_time": "2022-05-08T08:12:38.434Z"
   },
   {
    "duration": 18,
    "start_time": "2022-05-08T08:12:38.490Z"
   },
   {
    "duration": 30,
    "start_time": "2022-05-08T08:12:38.511Z"
   },
   {
    "duration": 74,
    "start_time": "2022-05-08T08:12:38.543Z"
   },
   {
    "duration": 23,
    "start_time": "2022-05-08T08:12:38.620Z"
   },
   {
    "duration": 12,
    "start_time": "2022-05-08T08:12:38.645Z"
   },
   {
    "duration": 5,
    "start_time": "2022-05-08T08:12:38.687Z"
   },
   {
    "duration": 484,
    "start_time": "2022-05-08T08:12:38.694Z"
   },
   {
    "duration": 13,
    "start_time": "2022-05-08T08:12:39.180Z"
   },
   {
    "duration": 30,
    "start_time": "2022-05-08T08:12:39.197Z"
   },
   {
    "duration": 582,
    "start_time": "2022-05-08T08:12:39.229Z"
   },
   {
    "duration": 9,
    "start_time": "2022-05-08T08:12:39.813Z"
   },
   {
    "duration": 13,
    "start_time": "2022-05-08T08:12:39.825Z"
   },
   {
    "duration": 480,
    "start_time": "2022-05-08T08:12:39.841Z"
   },
   {
    "duration": 200,
    "start_time": "2022-05-08T08:12:40.324Z"
   },
   {
    "duration": 614,
    "start_time": "2022-05-08T08:12:40.526Z"
   },
   {
    "duration": 611,
    "start_time": "2022-05-08T08:12:41.143Z"
   },
   {
    "duration": 382,
    "start_time": "2022-05-08T08:12:41.757Z"
   },
   {
    "duration": 15,
    "start_time": "2022-05-08T08:12:42.141Z"
   },
   {
    "duration": 280,
    "start_time": "2022-05-08T08:12:42.159Z"
   },
   {
    "duration": 15,
    "start_time": "2022-05-08T08:12:42.442Z"
   },
   {
    "duration": 343,
    "start_time": "2022-05-08T08:12:42.459Z"
   },
   {
    "duration": 15,
    "start_time": "2022-05-08T08:12:42.805Z"
   },
   {
    "duration": 349,
    "start_time": "2022-05-08T08:12:42.823Z"
   },
   {
    "duration": 26,
    "start_time": "2022-05-08T08:12:43.183Z"
   },
   {
    "duration": 388,
    "start_time": "2022-05-08T08:12:43.212Z"
   },
   {
    "duration": 19,
    "start_time": "2022-05-08T08:12:43.604Z"
   },
   {
    "duration": 327,
    "start_time": "2022-05-08T08:12:43.626Z"
   },
   {
    "duration": 26,
    "start_time": "2022-05-08T08:12:43.960Z"
   },
   {
    "duration": 36,
    "start_time": "2022-05-08T08:12:43.989Z"
   },
   {
    "duration": 25,
    "start_time": "2022-05-08T08:12:44.028Z"
   },
   {
    "duration": 205,
    "start_time": "2022-05-08T08:12:44.087Z"
   },
   {
    "duration": 207,
    "start_time": "2022-05-08T08:12:44.295Z"
   },
   {
    "duration": 206,
    "start_time": "2022-05-08T08:12:44.504Z"
   },
   {
    "duration": 201,
    "start_time": "2022-05-08T08:12:44.713Z"
   },
   {
    "duration": 196,
    "start_time": "2022-05-08T08:12:44.917Z"
   },
   {
    "duration": 215,
    "start_time": "2022-05-08T08:12:45.116Z"
   },
   {
    "duration": 233,
    "start_time": "2022-05-08T08:12:45.334Z"
   },
   {
    "duration": 325,
    "start_time": "2022-05-08T08:12:45.569Z"
   },
   {
    "duration": 222,
    "start_time": "2022-05-08T08:12:45.897Z"
   },
   {
    "duration": 4,
    "start_time": "2022-05-08T08:12:46.122Z"
   },
   {
    "duration": 13,
    "start_time": "2022-05-08T08:12:46.129Z"
   },
   {
    "duration": 6,
    "start_time": "2022-05-08T08:12:46.145Z"
   },
   {
    "duration": 13,
    "start_time": "2022-05-08T08:12:46.181Z"
   },
   {
    "duration": 30,
    "start_time": "2022-05-08T08:12:46.197Z"
   },
   {
    "duration": 16,
    "start_time": "2022-05-08T08:12:46.230Z"
   },
   {
    "duration": 7,
    "start_time": "2022-05-08T08:12:46.248Z"
   },
   {
    "duration": 27,
    "start_time": "2022-05-08T08:12:46.258Z"
   },
   {
    "duration": 496,
    "start_time": "2022-05-08T08:13:19.720Z"
   },
   {
    "duration": 466,
    "start_time": "2022-05-08T08:13:39.912Z"
   },
   {
    "duration": 5,
    "start_time": "2022-05-08T08:14:43.733Z"
   },
   {
    "duration": 9,
    "start_time": "2022-05-08T08:14:43.740Z"
   },
   {
    "duration": 10,
    "start_time": "2022-05-08T08:14:43.752Z"
   },
   {
    "duration": 82,
    "start_time": "2022-05-08T08:14:43.766Z"
   },
   {
    "duration": 40,
    "start_time": "2022-05-08T08:14:43.851Z"
   },
   {
    "duration": 53,
    "start_time": "2022-05-08T08:14:43.893Z"
   },
   {
    "duration": 9,
    "start_time": "2022-05-08T08:14:43.949Z"
   },
   {
    "duration": 6,
    "start_time": "2022-05-08T08:14:43.986Z"
   },
   {
    "duration": 35,
    "start_time": "2022-05-08T08:14:43.998Z"
   },
   {
    "duration": 25,
    "start_time": "2022-05-08T08:14:44.037Z"
   },
   {
    "duration": 37,
    "start_time": "2022-05-08T08:14:44.064Z"
   },
   {
    "duration": 37,
    "start_time": "2022-05-08T08:14:44.103Z"
   },
   {
    "duration": 52,
    "start_time": "2022-05-08T08:14:44.143Z"
   },
   {
    "duration": 20,
    "start_time": "2022-05-08T08:14:44.198Z"
   },
   {
    "duration": 41,
    "start_time": "2022-05-08T08:14:44.221Z"
   },
   {
    "duration": 34,
    "start_time": "2022-05-08T08:14:44.284Z"
   },
   {
    "duration": 20,
    "start_time": "2022-05-08T08:14:44.321Z"
   },
   {
    "duration": 47,
    "start_time": "2022-05-08T08:14:44.343Z"
   },
   {
    "duration": 21,
    "start_time": "2022-05-08T08:14:44.393Z"
   },
   {
    "duration": 402,
    "start_time": "2022-05-08T08:14:44.416Z"
   },
   {
    "duration": 11,
    "start_time": "2022-05-08T08:14:44.821Z"
   },
   {
    "duration": 12,
    "start_time": "2022-05-08T08:14:44.835Z"
   },
   {
    "duration": 547,
    "start_time": "2022-05-08T08:14:44.849Z"
   },
   {
    "duration": 14,
    "start_time": "2022-05-08T08:14:45.401Z"
   },
   {
    "duration": 16,
    "start_time": "2022-05-08T08:14:45.420Z"
   },
   {
    "duration": 515,
    "start_time": "2022-05-08T08:14:45.439Z"
   },
   {
    "duration": 134,
    "start_time": "2022-05-08T08:14:45.957Z"
   },
   {
    "duration": 560,
    "start_time": "2022-05-08T08:14:46.103Z"
   },
   {
    "duration": 803,
    "start_time": "2022-05-08T08:14:46.665Z"
   },
   {
    "duration": 296,
    "start_time": "2022-05-08T08:14:47.471Z"
   },
   {
    "duration": 28,
    "start_time": "2022-05-08T08:14:47.769Z"
   },
   {
    "duration": 290,
    "start_time": "2022-05-08T08:14:47.802Z"
   },
   {
    "duration": 19,
    "start_time": "2022-05-08T08:14:48.095Z"
   },
   {
    "duration": 340,
    "start_time": "2022-05-08T08:14:48.119Z"
   },
   {
    "duration": 21,
    "start_time": "2022-05-08T08:14:48.462Z"
   },
   {
    "duration": 471,
    "start_time": "2022-05-08T08:14:48.487Z"
   },
   {
    "duration": 39,
    "start_time": "2022-05-08T08:14:48.960Z"
   },
   {
    "duration": 325,
    "start_time": "2022-05-08T08:14:49.002Z"
   },
   {
    "duration": 14,
    "start_time": "2022-05-08T08:14:49.329Z"
   },
   {
    "duration": 342,
    "start_time": "2022-05-08T08:14:49.345Z"
   },
   {
    "duration": 17,
    "start_time": "2022-05-08T08:14:49.691Z"
   },
   {
    "duration": 33,
    "start_time": "2022-05-08T08:14:49.711Z"
   },
   {
    "duration": 54,
    "start_time": "2022-05-08T08:14:49.746Z"
   },
   {
    "duration": 294,
    "start_time": "2022-05-08T08:14:49.802Z"
   },
   {
    "duration": 202,
    "start_time": "2022-05-08T08:14:50.098Z"
   },
   {
    "duration": 186,
    "start_time": "2022-05-08T08:14:50.303Z"
   },
   {
    "duration": 285,
    "start_time": "2022-05-08T08:14:50.493Z"
   },
   {
    "duration": 275,
    "start_time": "2022-05-08T08:14:50.782Z"
   },
   {
    "duration": 358,
    "start_time": "2022-05-08T08:14:51.061Z"
   },
   {
    "duration": 494,
    "start_time": "2022-05-08T08:14:51.421Z"
   },
   {
    "duration": 290,
    "start_time": "2022-05-08T08:14:51.919Z"
   },
   {
    "duration": 212,
    "start_time": "2022-05-08T08:14:52.212Z"
   },
   {
    "duration": 4,
    "start_time": "2022-05-08T08:14:52.427Z"
   },
   {
    "duration": 13,
    "start_time": "2022-05-08T08:14:52.433Z"
   },
   {
    "duration": 10,
    "start_time": "2022-05-08T08:14:52.448Z"
   },
   {
    "duration": 8,
    "start_time": "2022-05-08T08:14:52.489Z"
   },
   {
    "duration": 14,
    "start_time": "2022-05-08T08:14:52.501Z"
   },
   {
    "duration": 15,
    "start_time": "2022-05-08T08:14:52.518Z"
   },
   {
    "duration": 5,
    "start_time": "2022-05-08T08:14:52.535Z"
   },
   {
    "duration": 41,
    "start_time": "2022-05-08T08:14:52.542Z"
   },
   {
    "duration": 1352,
    "start_time": "2022-05-09T11:21:34.257Z"
   },
   {
    "duration": 3,
    "start_time": "2022-05-09T11:30:22.591Z"
   },
   {
    "duration": 4,
    "start_time": "2022-05-09T11:30:22.740Z"
   },
   {
    "duration": 3,
    "start_time": "2022-05-09T11:30:38.791Z"
   },
   {
    "duration": 3,
    "start_time": "2022-05-09T11:30:40.800Z"
   },
   {
    "duration": 73,
    "start_time": "2022-05-09T11:30:41.762Z"
   },
   {
    "duration": 17,
    "start_time": "2022-05-09T11:30:43.178Z"
   },
   {
    "duration": 17,
    "start_time": "2022-05-09T11:30:44.634Z"
   },
   {
    "duration": 5,
    "start_time": "2022-05-09T11:32:07.690Z"
   },
   {
    "duration": 113,
    "start_time": "2022-05-09T11:32:12.827Z"
   },
   {
    "duration": 12,
    "start_time": "2022-05-09T11:32:15.751Z"
   },
   {
    "duration": 5,
    "start_time": "2022-05-09T11:32:19.735Z"
   },
   {
    "duration": 8,
    "start_time": "2022-05-09T11:32:22.854Z"
   },
   {
    "duration": 14,
    "start_time": "2022-05-09T11:33:22.203Z"
   },
   {
    "duration": 15,
    "start_time": "2022-05-09T11:33:27.591Z"
   },
   {
    "duration": 16,
    "start_time": "2022-05-09T11:33:37.675Z"
   },
   {
    "duration": 11,
    "start_time": "2022-05-09T11:33:47.850Z"
   },
   {
    "duration": 16,
    "start_time": "2022-05-09T11:36:51.680Z"
   },
   {
    "duration": 244,
    "start_time": "2022-05-09T11:38:49.551Z"
   },
   {
    "duration": 10,
    "start_time": "2022-05-09T11:38:56.586Z"
   },
   {
    "duration": 3,
    "start_time": "2022-05-09T11:38:59.082Z"
   },
   {
    "duration": 235,
    "start_time": "2022-05-09T11:39:02.026Z"
   },
   {
    "duration": 14,
    "start_time": "2022-05-09T11:43:55.990Z"
   },
   {
    "duration": 8,
    "start_time": "2022-05-09T11:43:59.053Z"
   },
   {
    "duration": 12,
    "start_time": "2022-05-09T11:44:00.164Z"
   },
   {
    "duration": 267,
    "start_time": "2022-05-09T11:44:04.131Z"
   },
   {
    "duration": 10,
    "start_time": "2022-05-09T11:44:06.042Z"
   },
   {
    "duration": 13,
    "start_time": "2022-05-09T11:44:07.535Z"
   },
   {
    "duration": 23,
    "start_time": "2022-05-09T11:44:20.231Z"
   },
   {
    "duration": 11,
    "start_time": "2022-05-09T11:44:25.362Z"
   },
   {
    "duration": 15,
    "start_time": "2022-05-09T11:44:43.127Z"
   },
   {
    "duration": 336,
    "start_time": "2022-05-09T11:47:41.123Z"
   },
   {
    "duration": 8,
    "start_time": "2022-05-09T11:47:49.835Z"
   },
   {
    "duration": 10,
    "start_time": "2022-05-09T11:49:03.832Z"
   },
   {
    "duration": 304,
    "start_time": "2022-05-09T11:49:05.730Z"
   },
   {
    "duration": 135,
    "start_time": "2022-05-09T11:49:12.535Z"
   },
   {
    "duration": 311,
    "start_time": "2022-05-09T11:50:00.066Z"
   },
   {
    "duration": 433,
    "start_time": "2022-05-09T11:50:06.139Z"
   },
   {
    "duration": 166,
    "start_time": "2022-05-09T11:52:03.410Z"
   },
   {
    "duration": 167,
    "start_time": "2022-05-09T11:52:12.234Z"
   },
   {
    "duration": 11,
    "start_time": "2022-05-09T12:15:57.079Z"
   },
   {
    "duration": 170,
    "start_time": "2022-05-09T12:15:58.264Z"
   },
   {
    "duration": 614,
    "start_time": "2022-05-09T12:15:58.902Z"
   },
   {
    "duration": 3086,
    "start_time": "2022-05-09T12:16:17.503Z"
   },
   {
    "duration": 3,
    "start_time": "2022-05-09T12:16:28.517Z"
   },
   {
    "duration": 3,
    "start_time": "2022-05-09T12:16:28.670Z"
   },
   {
    "duration": 6,
    "start_time": "2022-05-09T12:16:28.831Z"
   },
   {
    "duration": 64,
    "start_time": "2022-05-09T12:16:28.993Z"
   },
   {
    "duration": 13,
    "start_time": "2022-05-09T12:16:29.165Z"
   },
   {
    "duration": 28,
    "start_time": "2022-05-09T12:16:29.319Z"
   },
   {
    "duration": 5,
    "start_time": "2022-05-09T12:16:29.983Z"
   },
   {
    "duration": 3,
    "start_time": "2022-05-09T12:16:30.499Z"
   },
   {
    "duration": 7,
    "start_time": "2022-05-09T12:16:31.172Z"
   },
   {
    "duration": 33,
    "start_time": "2022-05-09T12:16:31.508Z"
   },
   {
    "duration": 10,
    "start_time": "2022-05-09T12:16:32.175Z"
   },
   {
    "duration": 24,
    "start_time": "2022-05-09T12:16:32.521Z"
   },
   {
    "duration": 16,
    "start_time": "2022-05-09T12:16:32.868Z"
   },
   {
    "duration": 10,
    "start_time": "2022-05-09T12:16:33.383Z"
   },
   {
    "duration": 37,
    "start_time": "2022-05-09T12:16:33.737Z"
   },
   {
    "duration": 15,
    "start_time": "2022-05-09T12:16:36.773Z"
   },
   {
    "duration": 17,
    "start_time": "2022-05-09T12:16:37.560Z"
   },
   {
    "duration": 9,
    "start_time": "2022-05-09T12:16:38.887Z"
   },
   {
    "duration": 4,
    "start_time": "2022-05-09T12:16:39.288Z"
   },
   {
    "duration": 276,
    "start_time": "2022-05-09T12:16:39.500Z"
   },
   {
    "duration": 10,
    "start_time": "2022-05-09T12:16:40.605Z"
   },
   {
    "duration": 12,
    "start_time": "2022-05-09T12:16:41.158Z"
   },
   {
    "duration": 460,
    "start_time": "2022-05-09T12:16:41.639Z"
   },
   {
    "duration": 7,
    "start_time": "2022-05-09T12:16:42.212Z"
   },
   {
    "duration": 9,
    "start_time": "2022-05-09T12:16:42.981Z"
   },
   {
    "duration": 332,
    "start_time": "2022-05-09T12:16:43.184Z"
   },
   {
    "duration": 83,
    "start_time": "2022-05-09T12:16:43.523Z"
   },
   {
    "duration": 323,
    "start_time": "2022-05-09T12:16:44.659Z"
   },
   {
    "duration": 612,
    "start_time": "2022-05-09T12:16:45.122Z"
   },
   {
    "duration": 197,
    "start_time": "2022-05-09T12:16:46.199Z"
   },
   {
    "duration": 11,
    "start_time": "2022-05-09T12:16:46.406Z"
   },
   {
    "duration": 216,
    "start_time": "2022-05-09T12:16:49.159Z"
   },
   {
    "duration": 21,
    "start_time": "2022-05-09T12:16:49.638Z"
   },
   {
    "duration": 211,
    "start_time": "2022-05-09T12:17:21.731Z"
   },
   {
    "duration": 11,
    "start_time": "2022-05-09T12:17:22.083Z"
   },
   {
    "duration": 220,
    "start_time": "2022-05-09T12:17:22.897Z"
   },
   {
    "duration": 10,
    "start_time": "2022-05-09T12:17:23.498Z"
   },
   {
    "duration": 198,
    "start_time": "2022-05-09T12:17:25.289Z"
   },
   {
    "duration": 11,
    "start_time": "2022-05-09T12:17:25.499Z"
   },
   {
    "duration": 208,
    "start_time": "2022-05-09T12:17:25.951Z"
   },
   {
    "duration": 17,
    "start_time": "2022-05-09T12:17:29.949Z"
   },
   {
    "duration": 29,
    "start_time": "2022-05-09T12:18:15.138Z"
   },
   {
    "duration": 164,
    "start_time": "2022-05-09T12:21:18.021Z"
   },
   {
    "duration": 177,
    "start_time": "2022-05-09T12:21:18.744Z"
   },
   {
    "duration": 109,
    "start_time": "2022-05-09T12:21:19.391Z"
   },
   {
    "duration": 133,
    "start_time": "2022-05-09T12:21:22.893Z"
   },
   {
    "duration": 152,
    "start_time": "2022-05-09T12:21:23.082Z"
   },
   {
    "duration": 147,
    "start_time": "2022-05-09T12:21:23.777Z"
   },
   {
    "duration": 221,
    "start_time": "2022-05-09T12:21:54.841Z"
   },
   {
    "duration": 120,
    "start_time": "2022-05-09T12:21:55.234Z"
   },
   {
    "duration": 122,
    "start_time": "2022-05-09T12:21:55.684Z"
   },
   {
    "duration": 3,
    "start_time": "2022-05-09T12:23:07.570Z"
   },
   {
    "duration": 7,
    "start_time": "2022-05-09T12:23:09.691Z"
   },
   {
    "duration": 3,
    "start_time": "2022-05-09T12:23:11.568Z"
   },
   {
    "duration": 6,
    "start_time": "2022-05-09T12:23:13.127Z"
   },
   {
    "duration": 198,
    "start_time": "2022-05-09T12:23:48.836Z"
   },
   {
    "duration": 168,
    "start_time": "2022-05-10T09:27:46.963Z"
   },
   {
    "duration": 47,
    "start_time": "2022-05-10T10:00:01.994Z"
   },
   {
    "duration": 1398,
    "start_time": "2022-05-10T10:00:06.839Z"
   },
   {
    "duration": 3,
    "start_time": "2022-05-10T10:00:08.239Z"
   },
   {
    "duration": 5,
    "start_time": "2022-05-10T10:00:08.244Z"
   },
   {
    "duration": 47,
    "start_time": "2022-05-10T10:00:08.252Z"
   },
   {
    "duration": 23,
    "start_time": "2022-05-10T10:00:08.301Z"
   },
   {
    "duration": 17,
    "start_time": "2022-05-10T10:00:08.326Z"
   },
   {
    "duration": 6,
    "start_time": "2022-05-10T10:00:08.345Z"
   },
   {
    "duration": 15,
    "start_time": "2022-05-10T10:00:08.353Z"
   },
   {
    "duration": 12,
    "start_time": "2022-05-10T10:00:08.370Z"
   },
   {
    "duration": 39,
    "start_time": "2022-05-10T10:00:08.385Z"
   },
   {
    "duration": 12,
    "start_time": "2022-05-10T10:00:08.426Z"
   },
   {
    "duration": 14,
    "start_time": "2022-05-10T10:00:08.440Z"
   },
   {
    "duration": 15,
    "start_time": "2022-05-10T10:00:08.456Z"
   },
   {
    "duration": 11,
    "start_time": "2022-05-10T10:00:08.473Z"
   },
   {
    "duration": 21,
    "start_time": "2022-05-10T10:00:08.523Z"
   },
   {
    "duration": 16,
    "start_time": "2022-05-10T10:00:08.546Z"
   },
   {
    "duration": 11,
    "start_time": "2022-05-10T10:00:11.014Z"
   },
   {
    "duration": 15,
    "start_time": "2022-05-10T10:02:43.847Z"
   },
   {
    "duration": 5,
    "start_time": "2022-05-10T10:36:55.303Z"
   },
   {
    "duration": 6,
    "start_time": "2022-05-10T10:36:55.312Z"
   },
   {
    "duration": 4,
    "start_time": "2022-05-10T10:36:55.320Z"
   },
   {
    "duration": 66,
    "start_time": "2022-05-10T10:36:55.326Z"
   },
   {
    "duration": 15,
    "start_time": "2022-05-10T10:36:55.394Z"
   },
   {
    "duration": 23,
    "start_time": "2022-05-10T10:36:55.411Z"
   },
   {
    "duration": 6,
    "start_time": "2022-05-10T10:36:55.436Z"
   },
   {
    "duration": 6,
    "start_time": "2022-05-10T10:36:55.444Z"
   },
   {
    "duration": 11,
    "start_time": "2022-05-10T10:36:55.452Z"
   },
   {
    "duration": 19,
    "start_time": "2022-05-10T10:36:55.465Z"
   },
   {
    "duration": 38,
    "start_time": "2022-05-10T10:36:55.486Z"
   },
   {
    "duration": 18,
    "start_time": "2022-05-10T10:36:55.526Z"
   },
   {
    "duration": 15,
    "start_time": "2022-05-10T10:36:55.546Z"
   },
   {
    "duration": 10,
    "start_time": "2022-05-10T10:36:55.563Z"
   },
   {
    "duration": 57,
    "start_time": "2022-05-10T10:36:55.576Z"
   },
   {
    "duration": 22,
    "start_time": "2022-05-10T10:36:55.635Z"
   },
   {
    "duration": 20,
    "start_time": "2022-05-10T10:36:55.659Z"
   },
   {
    "duration": 13,
    "start_time": "2022-05-10T10:36:55.681Z"
   },
   {
    "duration": 26,
    "start_time": "2022-05-10T10:36:55.696Z"
   },
   {
    "duration": 281,
    "start_time": "2022-05-10T10:36:55.724Z"
   },
   {
    "duration": 3,
    "start_time": "2022-05-10T10:37:08.015Z"
   },
   {
    "duration": 4,
    "start_time": "2022-05-10T10:37:08.021Z"
   },
   {
    "duration": 6,
    "start_time": "2022-05-10T10:37:08.027Z"
   },
   {
    "duration": 42,
    "start_time": "2022-05-10T10:37:08.036Z"
   },
   {
    "duration": 13,
    "start_time": "2022-05-10T10:37:08.079Z"
   },
   {
    "duration": 35,
    "start_time": "2022-05-10T10:37:08.093Z"
   },
   {
    "duration": 4,
    "start_time": "2022-05-10T10:37:08.130Z"
   },
   {
    "duration": 4,
    "start_time": "2022-05-10T10:37:08.137Z"
   },
   {
    "duration": 15,
    "start_time": "2022-05-10T10:37:08.143Z"
   },
   {
    "duration": 21,
    "start_time": "2022-05-10T10:37:08.160Z"
   },
   {
    "duration": 10,
    "start_time": "2022-05-10T10:37:08.183Z"
   },
   {
    "duration": 189,
    "start_time": "2022-05-10T10:37:08.222Z"
   },
   {
    "duration": 15,
    "start_time": "2022-05-10T10:37:08.413Z"
   },
   {
    "duration": 10,
    "start_time": "2022-05-10T10:37:08.430Z"
   },
   {
    "duration": 21,
    "start_time": "2022-05-10T10:37:08.442Z"
   },
   {
    "duration": 15,
    "start_time": "2022-05-10T10:37:08.465Z"
   },
   {
    "duration": 48,
    "start_time": "2022-05-10T10:37:08.481Z"
   },
   {
    "duration": 7,
    "start_time": "2022-05-10T10:37:08.531Z"
   },
   {
    "duration": 3,
    "start_time": "2022-05-10T10:37:08.541Z"
   },
   {
    "duration": 252,
    "start_time": "2022-05-10T10:37:08.546Z"
   },
   {
    "duration": 3,
    "start_time": "2022-05-10T10:37:08.800Z"
   },
   {
    "duration": 10,
    "start_time": "2022-05-10T10:37:15.305Z"
   },
   {
    "duration": 10,
    "start_time": "2022-05-10T10:37:19.042Z"
   },
   {
    "duration": 406,
    "start_time": "2022-05-10T12:01:11.633Z"
   },
   {
    "duration": 73,
    "start_time": "2022-05-11T18:36:40.053Z"
   },
   {
    "duration": 2038,
    "start_time": "2022-05-11T18:36:46.214Z"
   },
   {
    "duration": 4,
    "start_time": "2022-05-11T18:36:48.254Z"
   },
   {
    "duration": 7,
    "start_time": "2022-05-11T18:36:48.260Z"
   },
   {
    "duration": 51,
    "start_time": "2022-05-11T18:36:48.269Z"
   },
   {
    "duration": 36,
    "start_time": "2022-05-11T18:36:48.322Z"
   },
   {
    "duration": 21,
    "start_time": "2022-05-11T18:36:48.360Z"
   },
   {
    "duration": 6,
    "start_time": "2022-05-11T18:36:48.383Z"
   },
   {
    "duration": 8,
    "start_time": "2022-05-11T18:36:48.390Z"
   },
   {
    "duration": 15,
    "start_time": "2022-05-11T18:36:48.400Z"
   },
   {
    "duration": 24,
    "start_time": "2022-05-11T18:36:48.452Z"
   },
   {
    "duration": 13,
    "start_time": "2022-05-11T18:36:48.478Z"
   },
   {
    "duration": 19,
    "start_time": "2022-05-11T18:36:48.493Z"
   },
   {
    "duration": 22,
    "start_time": "2022-05-11T18:36:48.551Z"
   },
   {
    "duration": 13,
    "start_time": "2022-05-11T18:36:48.576Z"
   },
   {
    "duration": 26,
    "start_time": "2022-05-11T18:36:48.591Z"
   },
   {
    "duration": 21,
    "start_time": "2022-05-11T18:36:48.652Z"
   },
   {
    "duration": 21,
    "start_time": "2022-05-11T18:36:48.675Z"
   },
   {
    "duration": 9,
    "start_time": "2022-05-11T18:36:48.698Z"
   },
   {
    "duration": 4,
    "start_time": "2022-05-11T18:36:48.710Z"
   },
   {
    "duration": 378,
    "start_time": "2022-05-11T18:36:48.751Z"
   },
   {
    "duration": 3,
    "start_time": "2022-05-11T18:36:49.131Z"
   },
   {
    "duration": 24,
    "start_time": "2022-05-11T18:36:49.136Z"
   },
   {
    "duration": 579,
    "start_time": "2022-05-11T18:36:51.853Z"
   },
   {
    "duration": 8,
    "start_time": "2022-05-11T18:42:18.285Z"
   },
   {
    "duration": 9,
    "start_time": "2022-05-11T18:42:20.526Z"
   },
   {
    "duration": 9,
    "start_time": "2022-05-11T18:42:31.902Z"
   },
   {
    "duration": 478,
    "start_time": "2022-05-11T18:42:37.141Z"
   },
   {
    "duration": 439,
    "start_time": "2022-05-11T18:42:56.094Z"
   },
   {
    "duration": 162,
    "start_time": "2022-05-11T18:43:22.288Z"
   },
   {
    "duration": 483,
    "start_time": "2022-05-11T18:49:11.193Z"
   },
   {
    "duration": 566,
    "start_time": "2022-05-11T18:49:20.396Z"
   },
   {
    "duration": 265,
    "start_time": "2022-05-11T18:51:02.746Z"
   },
   {
    "duration": 15,
    "start_time": "2022-05-11T18:51:10.306Z"
   },
   {
    "duration": 233,
    "start_time": "2022-05-11T18:51:24.266Z"
   },
   {
    "duration": 14,
    "start_time": "2022-05-11T18:51:27.842Z"
   },
   {
    "duration": 292,
    "start_time": "2022-05-11T18:52:05.404Z"
   },
   {
    "duration": 14,
    "start_time": "2022-05-11T18:52:11.653Z"
   },
   {
    "duration": 299,
    "start_time": "2022-05-11T18:52:14.852Z"
   },
   {
    "duration": 14,
    "start_time": "2022-05-11T18:52:18.932Z"
   },
   {
    "duration": 278,
    "start_time": "2022-05-11T18:52:28.683Z"
   },
   {
    "duration": 14,
    "start_time": "2022-05-11T18:52:31.632Z"
   },
   {
    "duration": 302,
    "start_time": "2022-05-11T18:52:35.636Z"
   },
   {
    "duration": 12,
    "start_time": "2022-05-11T18:52:38.427Z"
   },
   {
    "duration": 31,
    "start_time": "2022-05-11T19:59:38.370Z"
   },
   {
    "duration": 42,
    "start_time": "2022-05-11T20:06:12.143Z"
   },
   {
    "duration": 236,
    "start_time": "2022-05-11T20:08:27.278Z"
   },
   {
    "duration": 179,
    "start_time": "2022-05-11T20:08:53.786Z"
   },
   {
    "duration": 184,
    "start_time": "2022-05-11T20:09:06.705Z"
   },
   {
    "duration": 332,
    "start_time": "2022-05-11T20:12:01.044Z"
   },
   {
    "duration": 189,
    "start_time": "2022-05-11T20:12:21.513Z"
   },
   {
    "duration": 185,
    "start_time": "2022-05-11T20:12:32.417Z"
   },
   {
    "duration": 309,
    "start_time": "2022-05-11T20:14:52.695Z"
   },
   {
    "duration": 208,
    "start_time": "2022-05-11T20:15:08.705Z"
   },
   {
    "duration": 225,
    "start_time": "2022-05-11T20:15:16.277Z"
   },
   {
    "duration": 4,
    "start_time": "2022-05-11T20:21:22.601Z"
   },
   {
    "duration": 9,
    "start_time": "2022-05-11T20:21:25.182Z"
   },
   {
    "duration": 4,
    "start_time": "2022-05-11T20:21:26.865Z"
   },
   {
    "duration": 4,
    "start_time": "2022-05-11T20:21:31.980Z"
   },
   {
    "duration": 6,
    "start_time": "2022-05-11T20:21:34.786Z"
   },
   {
    "duration": 12,
    "start_time": "2022-05-11T20:21:42.937Z"
   },
   {
    "duration": 11,
    "start_time": "2022-05-11T20:21:45.878Z"
   },
   {
    "duration": 5,
    "start_time": "2022-05-11T20:21:47.490Z"
   },
   {
    "duration": 5,
    "start_time": "2022-05-11T20:21:54.373Z"
   },
   {
    "duration": 6,
    "start_time": "2022-05-11T21:03:34.848Z"
   },
   {
    "duration": 6,
    "start_time": "2022-05-11T21:03:43.473Z"
   },
   {
    "duration": 5,
    "start_time": "2022-05-11T21:35:44.666Z"
   },
   {
    "duration": 4,
    "start_time": "2022-05-11T21:56:20.240Z"
   },
   {
    "duration": 9,
    "start_time": "2022-05-11T22:09:01.341Z"
   },
   {
    "duration": 5,
    "start_time": "2022-05-11T22:16:04.789Z"
   },
   {
    "duration": 7,
    "start_time": "2022-05-11T22:16:04.796Z"
   },
   {
    "duration": 10,
    "start_time": "2022-05-11T22:16:04.805Z"
   },
   {
    "duration": 129,
    "start_time": "2022-05-11T22:16:04.818Z"
   },
   {
    "duration": 17,
    "start_time": "2022-05-11T22:16:04.949Z"
   },
   {
    "duration": 22,
    "start_time": "2022-05-11T22:16:04.968Z"
   },
   {
    "duration": 6,
    "start_time": "2022-05-11T22:16:04.992Z"
   },
   {
    "duration": 7,
    "start_time": "2022-05-11T22:16:04.999Z"
   },
   {
    "duration": 43,
    "start_time": "2022-05-11T22:16:05.009Z"
   },
   {
    "duration": 25,
    "start_time": "2022-05-11T22:16:05.054Z"
   },
   {
    "duration": 12,
    "start_time": "2022-05-11T22:16:05.082Z"
   },
   {
    "duration": 56,
    "start_time": "2022-05-11T22:16:05.097Z"
   },
   {
    "duration": 21,
    "start_time": "2022-05-11T22:16:05.155Z"
   },
   {
    "duration": 14,
    "start_time": "2022-05-11T22:16:05.178Z"
   },
   {
    "duration": 58,
    "start_time": "2022-05-11T22:16:05.194Z"
   },
   {
    "duration": 23,
    "start_time": "2022-05-11T22:16:05.254Z"
   },
   {
    "duration": 31,
    "start_time": "2022-05-11T22:16:05.279Z"
   },
   {
    "duration": 45,
    "start_time": "2022-05-11T22:16:05.313Z"
   },
   {
    "duration": 5,
    "start_time": "2022-05-11T22:16:05.361Z"
   },
   {
    "duration": 585,
    "start_time": "2022-05-11T22:16:05.369Z"
   },
   {
    "duration": 4,
    "start_time": "2022-05-11T22:16:05.958Z"
   },
   {
    "duration": 14,
    "start_time": "2022-05-11T22:16:05.964Z"
   },
   {
    "duration": 566,
    "start_time": "2022-05-11T22:16:05.980Z"
   },
   {
    "duration": 10,
    "start_time": "2022-05-11T22:16:06.551Z"
   },
   {
    "duration": 14,
    "start_time": "2022-05-11T22:16:06.563Z"
   },
   {
    "duration": 458,
    "start_time": "2022-05-11T22:16:06.580Z"
   },
   {
    "duration": 173,
    "start_time": "2022-05-11T22:16:07.040Z"
   },
   {
    "duration": 460,
    "start_time": "2022-05-11T22:16:07.215Z"
   },
   {
    "duration": 502,
    "start_time": "2022-05-11T22:16:07.677Z"
   },
   {
    "duration": 271,
    "start_time": "2022-05-11T22:16:08.181Z"
   },
   {
    "duration": 14,
    "start_time": "2022-05-11T22:16:08.454Z"
   },
   {
    "duration": 241,
    "start_time": "2022-05-11T22:16:08.470Z"
   },
   {
    "duration": 13,
    "start_time": "2022-05-11T22:16:08.713Z"
   },
   {
    "duration": 308,
    "start_time": "2022-05-11T22:16:08.728Z"
   },
   {
    "duration": 19,
    "start_time": "2022-05-11T22:16:09.039Z"
   },
   {
    "duration": 296,
    "start_time": "2022-05-11T22:16:09.061Z"
   },
   {
    "duration": 14,
    "start_time": "2022-05-11T22:16:09.360Z"
   },
   {
    "duration": 311,
    "start_time": "2022-05-11T22:16:09.377Z"
   },
   {
    "duration": 14,
    "start_time": "2022-05-11T22:16:09.691Z"
   },
   {
    "duration": 312,
    "start_time": "2022-05-11T22:16:09.708Z"
   },
   {
    "duration": 14,
    "start_time": "2022-05-11T22:16:10.023Z"
   },
   {
    "duration": 27,
    "start_time": "2022-05-11T22:16:10.051Z"
   },
   {
    "duration": 21,
    "start_time": "2022-05-11T22:16:10.080Z"
   },
   {
    "duration": 201,
    "start_time": "2022-05-11T22:16:10.103Z"
   },
   {
    "duration": 260,
    "start_time": "2022-05-11T22:16:10.306Z"
   },
   {
    "duration": 173,
    "start_time": "2022-05-11T22:16:10.569Z"
   },
   {
    "duration": 181,
    "start_time": "2022-05-11T22:16:10.752Z"
   },
   {
    "duration": 169,
    "start_time": "2022-05-11T22:16:10.935Z"
   },
   {
    "duration": 177,
    "start_time": "2022-05-11T22:16:11.106Z"
   },
   {
    "duration": 205,
    "start_time": "2022-05-11T22:16:11.284Z"
   },
   {
    "duration": 198,
    "start_time": "2022-05-11T22:16:11.491Z"
   },
   {
    "duration": 206,
    "start_time": "2022-05-11T22:16:11.692Z"
   },
   {
    "duration": 3,
    "start_time": "2022-05-11T22:16:11.900Z"
   },
   {
    "duration": 11,
    "start_time": "2022-05-11T22:16:11.905Z"
   },
   {
    "duration": 12,
    "start_time": "2022-05-11T22:16:11.917Z"
   },
   {
    "duration": 21,
    "start_time": "2022-05-11T22:16:11.931Z"
   },
   {
    "duration": 12,
    "start_time": "2022-05-11T22:16:11.954Z"
   },
   {
    "duration": 8,
    "start_time": "2022-05-11T22:16:11.968Z"
   },
   {
    "duration": 4,
    "start_time": "2022-05-11T22:16:11.978Z"
   },
   {
    "duration": 15,
    "start_time": "2022-05-11T22:16:11.984Z"
   }
  ],
  "kernelspec": {
   "display_name": "Python 3 (ipykernel)",
   "language": "python",
   "name": "python3"
  },
  "language_info": {
   "codemirror_mode": {
    "name": "ipython",
    "version": 3
   },
   "file_extension": ".py",
   "mimetype": "text/x-python",
   "name": "python",
   "nbconvert_exporter": "python",
   "pygments_lexer": "ipython3",
   "version": "3.9.5"
  },
  "toc": {
   "base_numbering": 1,
   "nav_menu": {
    "height": "626px",
    "width": "427px"
   },
   "number_sections": true,
   "sideBar": true,
   "skip_h1_title": true,
   "title_cell": "Содержание",
   "title_sidebar": "Contents",
   "toc_cell": true,
   "toc_position": {
    "height": "calc(100% - 180px)",
    "left": "10px",
    "top": "150px",
    "width": "307.2px"
   },
   "toc_section_display": true,
   "toc_window_display": true
  }
 },
 "nbformat": 4,
 "nbformat_minor": 2
}
